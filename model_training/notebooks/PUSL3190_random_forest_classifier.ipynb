{
  "nbformat": 4,
  "nbformat_minor": 0,
  "metadata": {
    "colab": {
      "provenance": [],
      "gpuType": "V28"
    },
    "kernelspec": {
      "name": "python3",
      "display_name": "Python 3"
    },
    "language_info": {
      "name": "python"
    },
    "accelerator": "TPU"
  },
  "cells": [
    {
      "cell_type": "markdown",
      "source": [
        "# AI-Powered URL Phishing Detection System\n",
        "# Random Forest Classifier for Browser Extension"
      ],
      "metadata": {
        "id": "szyGzJTHjcyX"
      }
    },
    {
      "cell_type": "markdown",
      "source": [
        "## Steup and Imports"
      ],
      "metadata": {
        "id": "UAggeXFQh-px"
      }
    },
    {
      "cell_type": "code",
      "source": [
        "!pip install tldextract"
      ],
      "metadata": {
        "colab": {
          "base_uri": "https://localhost:8080/"
        },
        "id": "cNmnricotLhk",
        "outputId": "eafd8125-b166-4af6-f79b-31c08dd55ab9"
      },
      "execution_count": null,
      "outputs": [
        {
          "output_type": "stream",
          "name": "stdout",
          "text": [
            "Collecting tldextract\n",
            "  Downloading tldextract-5.3.0-py3-none-any.whl.metadata (11 kB)\n",
            "Requirement already satisfied: idna in /usr/local/lib/python3.11/dist-packages (from tldextract) (3.10)\n",
            "Requirement already satisfied: requests>=2.1.0 in /usr/local/lib/python3.11/dist-packages (from tldextract) (2.32.3)\n",
            "Collecting requests-file>=1.4 (from tldextract)\n",
            "  Downloading requests_file-2.1.0-py2.py3-none-any.whl.metadata (1.7 kB)\n",
            "Requirement already satisfied: filelock>=3.0.8 in /usr/local/lib/python3.11/dist-packages (from tldextract) (3.18.0)\n",
            "Requirement already satisfied: charset-normalizer<4,>=2 in /usr/local/lib/python3.11/dist-packages (from requests>=2.1.0->tldextract) (3.4.1)\n",
            "Requirement already satisfied: urllib3<3,>=1.21.1 in /usr/local/lib/python3.11/dist-packages (from requests>=2.1.0->tldextract) (2.3.0)\n",
            "Requirement already satisfied: certifi>=2017.4.17 in /usr/local/lib/python3.11/dist-packages (from requests>=2.1.0->tldextract) (2025.1.31)\n",
            "Downloading tldextract-5.3.0-py3-none-any.whl (107 kB)\n",
            "\u001b[2K   \u001b[90m━━━━━━━━━━━━━━━━━━━━━━━━━━━━━━━━━━━━━━━━\u001b[0m \u001b[32m107.4/107.4 kB\u001b[0m \u001b[31m3.0 MB/s\u001b[0m eta \u001b[36m0:00:00\u001b[0m\n",
            "\u001b[?25hDownloading requests_file-2.1.0-py2.py3-none-any.whl (4.2 kB)\n",
            "Installing collected packages: requests-file, tldextract\n",
            "Successfully installed requests-file-2.1.0 tldextract-5.3.0\n"
          ]
        }
      ]
    },
    {
      "cell_type": "code",
      "execution_count": null,
      "metadata": {
        "id": "MGHpiQABWg1G"
      },
      "outputs": [],
      "source": [
        "import pandas as pd\n",
        "import numpy as np\n",
        "import matplotlib.pyplot as plt\n",
        "import seaborn as sns\n",
        "import time\n",
        "import json\n",
        "import os\n",
        "import re\n",
        "import requests\n",
        "import tldextract\n",
        "import joblib\n",
        "from datetime import datetime\n",
        "from sklearn.model_selection import train_test_split, GridSearchCV, cross_val_score, StratifiedKFold\n",
        "from sklearn.ensemble import RandomForestClassifier\n",
        "from sklearn.metrics import accuracy_score, precision_score, recall_score, f1_score\n",
        "from sklearn.metrics import confusion_matrix, roc_curve, auc, classification_report\n",
        "from sklearn.preprocessing import StandardScaler\n",
        "from sklearn.utils import resample\n",
        "from urllib.parse import urlparse"
      ]
    },
    {
      "cell_type": "markdown",
      "source": [
        "### Mount Google Drive"
      ],
      "metadata": {
        "id": "yyXwvVk0iTbd"
      }
    },
    {
      "cell_type": "code",
      "source": [
        "from google.colab import drive\n",
        "drive.mount('/content/drive')"
      ],
      "metadata": {
        "colab": {
          "base_uri": "https://localhost:8080/"
        },
        "id": "qsBjOBztiVNf",
        "outputId": "837b5a72-c7be-426d-feb7-dedad7b80f01"
      },
      "execution_count": null,
      "outputs": [
        {
          "output_type": "stream",
          "name": "stdout",
          "text": [
            "Mounted at /content/drive\n"
          ]
        }
      ]
    },
    {
      "cell_type": "markdown",
      "source": [
        "## Configuration and Logging"
      ],
      "metadata": {
        "id": "UXYohMgpjKqC"
      }
    },
    {
      "cell_type": "markdown",
      "source": [
        "### Set up logging"
      ],
      "metadata": {
        "id": "5swE3x8Qjg7G"
      }
    },
    {
      "cell_type": "code",
      "source": [
        "log_data = []\n",
        "\n",
        "def log_event(event_type, message, metadata=None):\n",
        "    \"\"\"Log events for research documentation\"\"\"\n",
        "    log_entry = {\n",
        "        \"timestamp\": datetime.now().isoformat(),\n",
        "        \"event_type\": event_type,\n",
        "        \"message\": message,\n",
        "        \"metadata\": metadata or {}\n",
        "    }\n",
        "    log_data.append(log_entry)\n",
        "    print(f\"[{log_entry['timestamp']}] {event_type}: {message}\")"
      ],
      "metadata": {
        "id": "wMNWmUdPjRXi"
      },
      "execution_count": null,
      "outputs": []
    },
    {
      "cell_type": "markdown",
      "source": [
        "### Define paths"
      ],
      "metadata": {
        "id": "99VdkBtaj7uV"
      }
    },
    {
      "cell_type": "code",
      "source": [
        "BASE_PATH = '/content/drive/MyDrive/PUSL3190'\n",
        "RAW_DATA_PATH = f'{BASE_PATH}/data/raw/phishing_site_urls.csv'\n",
        "PROCESSED_DATA_PATH = f'{BASE_PATH}/data/processed/browser-extension/browser_extension_features.csv'\n",
        "MODEL_OUTPUT_PATH = f'{BASE_PATH}/models/random_forest_model/random_forest_model.pkl'\n",
        "SCALER_OUTPUT_PATH = f'{BASE_PATH}/models/random_forest_model/random_forest_scaler.pkl'\n",
        "METADATA_OUTPUT_PATH = f'{BASE_PATH}/models/random_forest_model/random_forest_metadata.json'\n",
        "LOG_OUTPUT_PATH = f'{BASE_PATH}/logs/random_forest_training_log.json'"
      ],
      "metadata": {
        "id": "1wwuE1oHj-pN"
      },
      "execution_count": null,
      "outputs": []
    },
    {
      "cell_type": "markdown",
      "source": [
        "### Create directories if they don't exist"
      ],
      "metadata": {
        "id": "_zUtgmfukyh7"
      }
    },
    {
      "cell_type": "code",
      "source": [
        "os.makedirs(f'{BASE_PATH}/data/processed', exist_ok=True)\n",
        "os.makedirs(f'{BASE_PATH}/models', exist_ok=True)\n",
        "os.makedirs(f'{BASE_PATH}/logs', exist_ok=True)"
      ],
      "metadata": {
        "id": "e87nf9Svk2LY"
      },
      "execution_count": null,
      "outputs": []
    },
    {
      "cell_type": "markdown",
      "source": [
        "## 1. Data Loading and Exploration"
      ],
      "metadata": {
        "id": "-8g6fm_llFAy"
      }
    },
    {
      "cell_type": "markdown",
      "source": [
        "### Load dataset"
      ],
      "metadata": {
        "id": "lj3WcL1PlJBJ"
      }
    },
    {
      "cell_type": "code",
      "source": [
        "log_event(\"DATA_LOADING\", \"Loading dataset\")\n",
        "start_time = time.time()\n",
        "\n",
        "try:\n",
        "    df = pd.read_csv(RAW_DATA_PATH)\n",
        "    if 'class' not in df.columns:\n",
        "        df = df.rename(columns={'label': 'class'})\n",
        "\n",
        "    if df['class'].dtype == 'object':\n",
        "        print(f\"Converting string labels to numeric. Unique values: {df['class'].unique()}\")\n",
        "        df['class'] = df['class'].map({'good': 0, 'bad': 1, 'legitimate': 0, 'phishing': 1})\n",
        "\n",
        "    print(f\"Class values after conversion: {df['class'].unique()}\")\n",
        "    print(f\"Class distribution: {df['class'].value_counts()}\")\n",
        "\n",
        "    # Add HTTPS analysis to understand dataset characteristics\n",
        "    https_stats = pd.crosstab(df['class'], df['URL'].str.startswith('https'))\n",
        "    print(\"\\nHTTPS distribution among classes:\")\n",
        "    print(https_stats)\n",
        "    legitimate_https_pct = https_stats.loc[0, True] / (https_stats.loc[0, True] + https_stats.loc[0, False])\n",
        "    phishing_https_pct = https_stats.loc[1, True] / (https_stats.loc[1, True] + https_stats.loc[1, False])\n",
        "    print(f\"Legitimate URLs (class 0) using HTTPS: {legitimate_https_pct:.2%}\")\n",
        "    print(f\"Phishing URLs (class 1) using HTTPS: {phishing_https_pct:.2%}\")\n",
        "\n",
        "    # Balance dataset only if needed (if classes are imbalanced)\n",
        "    class_counts = df['class'].value_counts()\n",
        "    if max(class_counts) / min(class_counts) > 1.1:  # More than 10% difference\n",
        "        print(\"\\nBalancing dataset...\")\n",
        "        # Downsample the majority class\n",
        "        majority_class = class_counts.idxmax()\n",
        "        minority_class = class_counts.idxmin()\n",
        "        minority_count = class_counts[minority_class]\n",
        "\n",
        "        df_majority = df[df['class'] == majority_class]\n",
        "        df_minority = df[df['class'] == minority_class]\n",
        "\n",
        "        df_majority_downsampled = resample(\n",
        "            df_majority,\n",
        "            replace=False,\n",
        "            n_samples=minority_count,\n",
        "            random_state=42\n",
        "        )\n",
        "\n",
        "        # Combine minority class with downsampled majority class\n",
        "        df_balanced = pd.concat([df_majority_downsampled, df_minority])\n",
        "        print(f\"Balanced dataset shape: {df_balanced.shape}\")\n",
        "\n",
        "        # Replace original df with balanced df\n",
        "        df = df_balanced\n",
        "\n",
        "    log_event(\"DATA_LOADED\", f\"Dataset loaded and prepared with shape {df.shape}\",\n",
        "              {\"rows\": df.shape[0], \"columns\": df.shape[1]})\n",
        "except Exception as e:\n",
        "    log_event(\"ERROR\", f\"Failed to load dataset: {str(e)}\")\n",
        "    raise\n",
        "\n",
        "loading_time = time.time() - start_time\n",
        "log_event(\"TIMING\", f\"Data loading completed in {loading_time:.2f} seconds\")"
      ],
      "metadata": {
        "colab": {
          "base_uri": "https://localhost:8080/"
        },
        "id": "ZADpIY_TlHhG",
        "outputId": "de41779b-197d-4e23-ff36-9148077ae99b"
      },
      "execution_count": null,
      "outputs": [
        {
          "output_type": "stream",
          "name": "stdout",
          "text": [
            "[2025-04-28T12:05:43.868683] DATA_LOADING: Loading dataset\n",
            "Class values after conversion: [1 0]\n",
            "Class distribution: class\n",
            "1    2000\n",
            "0    2000\n",
            "Name: count, dtype: int64\n",
            "\n",
            "HTTPS distribution among classes:\n",
            "URL    False  True \n",
            "class              \n",
            "0          0   2000\n",
            "1       1875    125\n",
            "Legitimate URLs (class 0) using HTTPS: 100.00%\n",
            "Phishing URLs (class 1) using HTTPS: 6.25%\n",
            "[2025-04-28T12:05:45.118416] DATA_LOADED: Dataset loaded and prepared with shape (4000, 2)\n",
            "[2025-04-28T12:05:45.118599] TIMING: Data loading completed in 1.25 seconds\n"
          ]
        }
      ]
    },
    {
      "cell_type": "markdown",
      "source": [
        "### Display basic information about the dataset"
      ],
      "metadata": {
        "id": "iHiZ9irTlZI_"
      }
    },
    {
      "cell_type": "code",
      "source": [
        "print(\"Dataset Information:\")\n",
        "print(f\"Total samples: {df.shape[0]}\")\n",
        "print(f\"Features: {df.shape[1]}\")\n",
        "print(\"\\nClass Distribution:\")\n",
        "print(df['class'].value_counts())\n",
        "print(\"\\nFirst 5 rows:\")\n",
        "print(df.head())"
      ],
      "metadata": {
        "colab": {
          "base_uri": "https://localhost:8080/"
        },
        "id": "FiLOrQFTlbqk",
        "outputId": "124e1e9b-438f-4a16-9a78-6410e089589c"
      },
      "execution_count": null,
      "outputs": [
        {
          "output_type": "stream",
          "name": "stdout",
          "text": [
            "Dataset Information:\n",
            "Total samples: 4000\n",
            "Features: 2\n",
            "\n",
            "Class Distribution:\n",
            "class\n",
            "1    2000\n",
            "0    2000\n",
            "Name: count, dtype: int64\n",
            "\n",
            "First 5 rows:\n",
            "                                            URL  class\n",
            "0  https://start-support-tizer.gitbook.io/en-us      1\n",
            "1       https://iieudsjwasndjfkdjdd.weebly.com/      1\n",
            "2           https://0x-turbos.pages.dev/wallets      1\n",
            "3                   https://shbox.top/yecunoeu/      1\n",
            "4            https://sparkflrdrops.xyz/clm.html      1\n"
          ]
        }
      ]
    },
    {
      "cell_type": "markdown",
      "source": [
        "## 2. Feature Extraction for Browser Extension"
      ],
      "metadata": {
        "id": "jiKMtqPpnip3"
      }
    },
    {
      "cell_type": "markdown",
      "source": [
        "\n",
        "This section extracts lightweight features suitable for a browser-based phishing detection extension.\n",
        "We focus on URL characteristics that can be quickly computed in a browser environment.\n"
      ],
      "metadata": {
        "id": "-nhT4OZYnmHG"
      }
    },
    {
      "cell_type": "code",
      "source": [
        "log_event(\"FEATURE_EXTRACTION\", \"Extracting lightweight features for browser extension\")\n",
        "start_time = time.time()"
      ],
      "metadata": {
        "colab": {
          "base_uri": "https://localhost:8080/"
        },
        "id": "NJtJTOLink31",
        "outputId": "cfc36e8f-ac5b-4273-b91c-38fc0d1c2755"
      },
      "execution_count": null,
      "outputs": [
        {
          "output_type": "stream",
          "name": "stdout",
          "text": [
            "[2025-04-28T12:06:19.579079] FEATURE_EXTRACTION: Extracting lightweight features for browser extension\n"
          ]
        }
      ]
    },
    {
      "cell_type": "markdown",
      "source": [
        "Extract lightweight features suitable for browser extension:\n",
        "  - URL Length\n",
        "  - Number of dots in domain\n",
        "  - Number of special characters\n",
        "  - Presence of IP address\n",
        "  - Presence of @ symbol\n",
        "  - Number of subdomains\n",
        "  - Use of HTTPS\n",
        "  - Presence of hyphens in domain\n",
        "  - URL shortener detection\n",
        "    \n",
        "These features should be fast to compute in a browser extension\n"
      ],
      "metadata": {
        "id": "0K5lyw1Yn5QY"
      }
    },
    {
      "cell_type": "code",
      "source": [
        "def extract_lightweight_features(url_df):\n",
        "    \"\"\"Extract only critical features suitable for browser extension\"\"\"\n",
        "    features = pd.DataFrame()\n",
        "\n",
        "    # URL length (critical feature)\n",
        "    features['url_length'] = url_df['URL'].apply(len)\n",
        "\n",
        "    # Domain-specific features\n",
        "    features['num_dots'] = url_df['URL'].apply(lambda x: x.count('.'))\n",
        "\n",
        "    # Special characters (important signal)\n",
        "    special_chars = \"!@#$%^&*()_+-=[]{}|;:,<>?/\\\\\"\n",
        "    features['num_special_chars'] = url_df['URL'].apply(lambda x: sum(c in special_chars for c in x))\n",
        "\n",
        "    # Check if URL uses HTTP\n",
        "    features['uses_http'] = url_df['URL'].apply(lambda x: 0 if x.startswith('https') else 1)\n",
        "\n",
        "    # IP address in URL (strong phishing indicator)\n",
        "    features['has_ip'] = url_df['URL'].apply(\n",
        "        lambda x: 1 if bool(re.search(r'\\d+\\.\\d+\\.\\d+\\.\\d+', x)) else 0)\n",
        "\n",
        "    # @ symbol in URL (strong phishing indicator)\n",
        "    features['has_at_symbol'] = url_df['URL'].apply(lambda x: 1 if '@' in x else 0)\n",
        "\n",
        "    # Domain has hyphen (somewhat indicative)\n",
        "    features['has_hyphen'] = url_df['URL'].apply(\n",
        "        lambda x: 1 if '-' in urlparse(x).netloc else 0)\n",
        "\n",
        "    # URL shortener detection (suspicious)\n",
        "    url_shorteners = ['bit.ly', 'tinyurl.com', 't.co', 'goo.gl', 'is.gd', 'cli.gs', 'ow.ly']\n",
        "    features['is_shortened'] = url_df['URL'].apply(\n",
        "        lambda x: 1 if any(shortener in x for shortener in url_shorteners) else 0)\n",
        "\n",
        "    # Number of subdomains\n",
        "    features['num_subdomains'] = url_df['URL'].apply(\n",
        "        lambda x: len(tldextract.extract(x).subdomain.split('.')) if tldextract.extract(x).subdomain else 0)\n",
        "\n",
        "    # Target class\n",
        "    features['is_phishing'] = url_df['class']\n",
        "\n",
        "    return features"
      ],
      "metadata": {
        "id": "pgcBiNM0n_BO"
      },
      "execution_count": null,
      "outputs": []
    },
    {
      "cell_type": "markdown",
      "source": [
        "### Extract features"
      ],
      "metadata": {
        "id": "5fnfk31AoZfE"
      }
    },
    {
      "cell_type": "code",
      "source": [
        "browser_features = extract_lightweight_features(df)"
      ],
      "metadata": {
        "id": "0aeBB7SwocLj"
      },
      "execution_count": null,
      "outputs": []
    },
    {
      "cell_type": "markdown",
      "source": [
        "### Display sample of extracted features"
      ],
      "metadata": {
        "id": "CPNDmRPwpvJn"
      }
    },
    {
      "cell_type": "code",
      "source": [
        "print(\"\\nExtracted Features (First 5 rows):\")\n",
        "print(browser_features.head())"
      ],
      "metadata": {
        "colab": {
          "base_uri": "https://localhost:8080/"
        },
        "id": "huzXKDBbpzf3",
        "outputId": "0f6eca84-21b1-4dc2-d2e2-49230ed0d46a"
      },
      "execution_count": null,
      "outputs": [
        {
          "output_type": "stream",
          "name": "stdout",
          "text": [
            "\n",
            "Extracted Features (First 5 rows):\n",
            "   url_length  num_dots  num_special_chars  uses_http  has_ip  has_at_symbol  \\\n",
            "0          44         2                  7          0       0              0   \n",
            "1          39         2                  4          0       0              0   \n",
            "2          35         2                  5          0       0              0   \n",
            "3          27         1                  5          0       0              0   \n",
            "4          34         2                  4          0       0              0   \n",
            "\n",
            "   has_hyphen  is_shortened  num_subdomains  is_phishing  \n",
            "0           1             0               1            1  \n",
            "1           0             0               1            1  \n",
            "2           1             0               1            1  \n",
            "3           0             0               0            1  \n",
            "4           0             0               0            1  \n"
          ]
        }
      ]
    },
    {
      "cell_type": "markdown",
      "source": [
        "### Save the processed features"
      ],
      "metadata": {
        "id": "GMnYEHVFqMMQ"
      }
    },
    {
      "cell_type": "code",
      "source": [
        "browser_features.to_csv(PROCESSED_DATA_PATH, index=False)\n",
        "\n",
        "feature_extraction_time = time.time() - start_time\n",
        "log_event(\"TIMING\", f\"Feature extraction completed in {feature_extraction_time:.2f} seconds\",\n",
        "          {\"num_features\": browser_features.shape[1] - 1})"
      ],
      "metadata": {
        "colab": {
          "base_uri": "https://localhost:8080/"
        },
        "id": "NjMFk13jqPBp",
        "outputId": "c092c128-74a4-44ff-8060-7f2d8ae285ae"
      },
      "execution_count": null,
      "outputs": [
        {
          "output_type": "stream",
          "name": "stdout",
          "text": [
            "[2025-04-28T12:06:27.847241] TIMING: Feature extraction completed in 8.27 seconds\n"
          ]
        }
      ]
    },
    {
      "cell_type": "markdown",
      "source": [
        "## 3. Model Training"
      ],
      "metadata": {
        "id": "-oKG7s9srJDn"
      }
    },
    {
      "cell_type": "markdown",
      "source": [
        "This section trains a Random Forest classifier on our extracted features.\n",
        "Random Forest is chosen for its good performance on classification tasks\n",
        "and ability to handle non-linear relationships."
      ],
      "metadata": {
        "id": "YHtyVyxTrNC6"
      }
    },
    {
      "cell_type": "code",
      "source": [
        "log_event(\"MODEL_TRAINING\", \"Starting model training with Random Forest\")\n",
        "start_time = time.time()"
      ],
      "metadata": {
        "colab": {
          "base_uri": "https://localhost:8080/"
        },
        "id": "fwmymxVrrPEK",
        "outputId": "f8547ebc-2ab5-4554-b257-b451ed707fe5"
      },
      "execution_count": null,
      "outputs": [
        {
          "output_type": "stream",
          "name": "stdout",
          "text": [
            "[2025-04-28T12:06:29.681631] MODEL_TRAINING: Starting model training with Random Forest\n"
          ]
        }
      ]
    },
    {
      "cell_type": "markdown",
      "source": [
        "### Prepare features and target"
      ],
      "metadata": {
        "id": "sRJCykXgratq"
      }
    },
    {
      "cell_type": "code",
      "source": [
        "X = browser_features.drop('is_phishing', axis=1)\n",
        "y = browser_features['is_phishing']"
      ],
      "metadata": {
        "id": "1xUEqGd-rfTI"
      },
      "execution_count": null,
      "outputs": []
    },
    {
      "cell_type": "markdown",
      "source": [
        "### Split data (80-20 split)"
      ],
      "metadata": {
        "id": "FDgXIlV6rjWE"
      }
    },
    {
      "cell_type": "code",
      "source": [
        "X_train, X_test, y_train, y_test = train_test_split(X, y, test_size=0.2, random_state=42, stratify=y)"
      ],
      "metadata": {
        "id": "4yP-NEPCrojL"
      },
      "execution_count": null,
      "outputs": []
    },
    {
      "cell_type": "markdown",
      "source": [
        "### Log the data split information"
      ],
      "metadata": {
        "id": "c5xtZK63rs19"
      }
    },
    {
      "cell_type": "code",
      "source": [
        "log_event(\"DATA_SPLIT\", \"Data split into training and testing sets\",\n",
        "          {\"train_samples\": X_train.shape[0], \"test_samples\": X_test.shape[0]})"
      ],
      "metadata": {
        "colab": {
          "base_uri": "https://localhost:8080/"
        },
        "id": "TQ7QCZS6ru5y",
        "outputId": "3e5282dc-f59c-4209-9ab6-c8120f27e70f"
      },
      "execution_count": null,
      "outputs": [
        {
          "output_type": "stream",
          "name": "stdout",
          "text": [
            "[2025-04-28T12:06:47.737187] DATA_SPLIT: Data split into training and testing sets\n"
          ]
        }
      ]
    },
    {
      "cell_type": "markdown",
      "source": [
        "### Feature scaling"
      ],
      "metadata": {
        "id": "gRZGT0hPryeN"
      }
    },
    {
      "cell_type": "code",
      "source": [
        "scaler = StandardScaler()\n",
        "X_train_scaled = scaler.fit_transform(X_train)\n",
        "X_test_scaled = scaler.transform(X_test)"
      ],
      "metadata": {
        "id": "vffwNU4Or2sv"
      },
      "execution_count": null,
      "outputs": []
    },
    {
      "cell_type": "markdown",
      "source": [
        "### Train model"
      ],
      "metadata": {
        "id": "OkFxMOmar-9j"
      }
    },
    {
      "cell_type": "code",
      "source": [
        "rf_model = RandomForestClassifier(\n",
        "    n_estimators=20,\n",
        "    max_depth=8,\n",
        "    min_samples_split=10,\n",
        "    min_samples_leaf=4,\n",
        "    random_state=42,\n",
        "    n_jobs=-1\n",
        ")"
      ],
      "metadata": {
        "id": "fOLhoqL1sGhR"
      },
      "execution_count": null,
      "outputs": []
    },
    {
      "cell_type": "code",
      "source": [
        "rf_model.fit(X_train_scaled, y_train)"
      ],
      "metadata": {
        "colab": {
          "base_uri": "https://localhost:8080/",
          "height": 98
        },
        "id": "jLaefBxyrYaX",
        "outputId": "024214ea-f8c4-4562-9f99-9a56ae798b9a"
      },
      "execution_count": null,
      "outputs": [
        {
          "output_type": "execute_result",
          "data": {
            "text/plain": [
              "RandomForestClassifier(max_depth=8, min_samples_leaf=4, min_samples_split=10,\n",
              "                       n_estimators=20, n_jobs=-1, random_state=42)"
            ],
            "text/html": [
              "<style>#sk-container-id-1 {\n",
              "  /* Definition of color scheme common for light and dark mode */\n",
              "  --sklearn-color-text: #000;\n",
              "  --sklearn-color-text-muted: #666;\n",
              "  --sklearn-color-line: gray;\n",
              "  /* Definition of color scheme for unfitted estimators */\n",
              "  --sklearn-color-unfitted-level-0: #fff5e6;\n",
              "  --sklearn-color-unfitted-level-1: #f6e4d2;\n",
              "  --sklearn-color-unfitted-level-2: #ffe0b3;\n",
              "  --sklearn-color-unfitted-level-3: chocolate;\n",
              "  /* Definition of color scheme for fitted estimators */\n",
              "  --sklearn-color-fitted-level-0: #f0f8ff;\n",
              "  --sklearn-color-fitted-level-1: #d4ebff;\n",
              "  --sklearn-color-fitted-level-2: #b3dbfd;\n",
              "  --sklearn-color-fitted-level-3: cornflowerblue;\n",
              "\n",
              "  /* Specific color for light theme */\n",
              "  --sklearn-color-text-on-default-background: var(--sg-text-color, var(--theme-code-foreground, var(--jp-content-font-color1, black)));\n",
              "  --sklearn-color-background: var(--sg-background-color, var(--theme-background, var(--jp-layout-color0, white)));\n",
              "  --sklearn-color-border-box: var(--sg-text-color, var(--theme-code-foreground, var(--jp-content-font-color1, black)));\n",
              "  --sklearn-color-icon: #696969;\n",
              "\n",
              "  @media (prefers-color-scheme: dark) {\n",
              "    /* Redefinition of color scheme for dark theme */\n",
              "    --sklearn-color-text-on-default-background: var(--sg-text-color, var(--theme-code-foreground, var(--jp-content-font-color1, white)));\n",
              "    --sklearn-color-background: var(--sg-background-color, var(--theme-background, var(--jp-layout-color0, #111)));\n",
              "    --sklearn-color-border-box: var(--sg-text-color, var(--theme-code-foreground, var(--jp-content-font-color1, white)));\n",
              "    --sklearn-color-icon: #878787;\n",
              "  }\n",
              "}\n",
              "\n",
              "#sk-container-id-1 {\n",
              "  color: var(--sklearn-color-text);\n",
              "}\n",
              "\n",
              "#sk-container-id-1 pre {\n",
              "  padding: 0;\n",
              "}\n",
              "\n",
              "#sk-container-id-1 input.sk-hidden--visually {\n",
              "  border: 0;\n",
              "  clip: rect(1px 1px 1px 1px);\n",
              "  clip: rect(1px, 1px, 1px, 1px);\n",
              "  height: 1px;\n",
              "  margin: -1px;\n",
              "  overflow: hidden;\n",
              "  padding: 0;\n",
              "  position: absolute;\n",
              "  width: 1px;\n",
              "}\n",
              "\n",
              "#sk-container-id-1 div.sk-dashed-wrapped {\n",
              "  border: 1px dashed var(--sklearn-color-line);\n",
              "  margin: 0 0.4em 0.5em 0.4em;\n",
              "  box-sizing: border-box;\n",
              "  padding-bottom: 0.4em;\n",
              "  background-color: var(--sklearn-color-background);\n",
              "}\n",
              "\n",
              "#sk-container-id-1 div.sk-container {\n",
              "  /* jupyter's `normalize.less` sets `[hidden] { display: none; }`\n",
              "     but bootstrap.min.css set `[hidden] { display: none !important; }`\n",
              "     so we also need the `!important` here to be able to override the\n",
              "     default hidden behavior on the sphinx rendered scikit-learn.org.\n",
              "     See: https://github.com/scikit-learn/scikit-learn/issues/21755 */\n",
              "  display: inline-block !important;\n",
              "  position: relative;\n",
              "}\n",
              "\n",
              "#sk-container-id-1 div.sk-text-repr-fallback {\n",
              "  display: none;\n",
              "}\n",
              "\n",
              "div.sk-parallel-item,\n",
              "div.sk-serial,\n",
              "div.sk-item {\n",
              "  /* draw centered vertical line to link estimators */\n",
              "  background-image: linear-gradient(var(--sklearn-color-text-on-default-background), var(--sklearn-color-text-on-default-background));\n",
              "  background-size: 2px 100%;\n",
              "  background-repeat: no-repeat;\n",
              "  background-position: center center;\n",
              "}\n",
              "\n",
              "/* Parallel-specific style estimator block */\n",
              "\n",
              "#sk-container-id-1 div.sk-parallel-item::after {\n",
              "  content: \"\";\n",
              "  width: 100%;\n",
              "  border-bottom: 2px solid var(--sklearn-color-text-on-default-background);\n",
              "  flex-grow: 1;\n",
              "}\n",
              "\n",
              "#sk-container-id-1 div.sk-parallel {\n",
              "  display: flex;\n",
              "  align-items: stretch;\n",
              "  justify-content: center;\n",
              "  background-color: var(--sklearn-color-background);\n",
              "  position: relative;\n",
              "}\n",
              "\n",
              "#sk-container-id-1 div.sk-parallel-item {\n",
              "  display: flex;\n",
              "  flex-direction: column;\n",
              "}\n",
              "\n",
              "#sk-container-id-1 div.sk-parallel-item:first-child::after {\n",
              "  align-self: flex-end;\n",
              "  width: 50%;\n",
              "}\n",
              "\n",
              "#sk-container-id-1 div.sk-parallel-item:last-child::after {\n",
              "  align-self: flex-start;\n",
              "  width: 50%;\n",
              "}\n",
              "\n",
              "#sk-container-id-1 div.sk-parallel-item:only-child::after {\n",
              "  width: 0;\n",
              "}\n",
              "\n",
              "/* Serial-specific style estimator block */\n",
              "\n",
              "#sk-container-id-1 div.sk-serial {\n",
              "  display: flex;\n",
              "  flex-direction: column;\n",
              "  align-items: center;\n",
              "  background-color: var(--sklearn-color-background);\n",
              "  padding-right: 1em;\n",
              "  padding-left: 1em;\n",
              "}\n",
              "\n",
              "\n",
              "/* Toggleable style: style used for estimator/Pipeline/ColumnTransformer box that is\n",
              "clickable and can be expanded/collapsed.\n",
              "- Pipeline and ColumnTransformer use this feature and define the default style\n",
              "- Estimators will overwrite some part of the style using the `sk-estimator` class\n",
              "*/\n",
              "\n",
              "/* Pipeline and ColumnTransformer style (default) */\n",
              "\n",
              "#sk-container-id-1 div.sk-toggleable {\n",
              "  /* Default theme specific background. It is overwritten whether we have a\n",
              "  specific estimator or a Pipeline/ColumnTransformer */\n",
              "  background-color: var(--sklearn-color-background);\n",
              "}\n",
              "\n",
              "/* Toggleable label */\n",
              "#sk-container-id-1 label.sk-toggleable__label {\n",
              "  cursor: pointer;\n",
              "  display: flex;\n",
              "  width: 100%;\n",
              "  margin-bottom: 0;\n",
              "  padding: 0.5em;\n",
              "  box-sizing: border-box;\n",
              "  text-align: center;\n",
              "  align-items: start;\n",
              "  justify-content: space-between;\n",
              "  gap: 0.5em;\n",
              "}\n",
              "\n",
              "#sk-container-id-1 label.sk-toggleable__label .caption {\n",
              "  font-size: 0.6rem;\n",
              "  font-weight: lighter;\n",
              "  color: var(--sklearn-color-text-muted);\n",
              "}\n",
              "\n",
              "#sk-container-id-1 label.sk-toggleable__label-arrow:before {\n",
              "  /* Arrow on the left of the label */\n",
              "  content: \"▸\";\n",
              "  float: left;\n",
              "  margin-right: 0.25em;\n",
              "  color: var(--sklearn-color-icon);\n",
              "}\n",
              "\n",
              "#sk-container-id-1 label.sk-toggleable__label-arrow:hover:before {\n",
              "  color: var(--sklearn-color-text);\n",
              "}\n",
              "\n",
              "/* Toggleable content - dropdown */\n",
              "\n",
              "#sk-container-id-1 div.sk-toggleable__content {\n",
              "  max-height: 0;\n",
              "  max-width: 0;\n",
              "  overflow: hidden;\n",
              "  text-align: left;\n",
              "  /* unfitted */\n",
              "  background-color: var(--sklearn-color-unfitted-level-0);\n",
              "}\n",
              "\n",
              "#sk-container-id-1 div.sk-toggleable__content.fitted {\n",
              "  /* fitted */\n",
              "  background-color: var(--sklearn-color-fitted-level-0);\n",
              "}\n",
              "\n",
              "#sk-container-id-1 div.sk-toggleable__content pre {\n",
              "  margin: 0.2em;\n",
              "  border-radius: 0.25em;\n",
              "  color: var(--sklearn-color-text);\n",
              "  /* unfitted */\n",
              "  background-color: var(--sklearn-color-unfitted-level-0);\n",
              "}\n",
              "\n",
              "#sk-container-id-1 div.sk-toggleable__content.fitted pre {\n",
              "  /* unfitted */\n",
              "  background-color: var(--sklearn-color-fitted-level-0);\n",
              "}\n",
              "\n",
              "#sk-container-id-1 input.sk-toggleable__control:checked~div.sk-toggleable__content {\n",
              "  /* Expand drop-down */\n",
              "  max-height: 200px;\n",
              "  max-width: 100%;\n",
              "  overflow: auto;\n",
              "}\n",
              "\n",
              "#sk-container-id-1 input.sk-toggleable__control:checked~label.sk-toggleable__label-arrow:before {\n",
              "  content: \"▾\";\n",
              "}\n",
              "\n",
              "/* Pipeline/ColumnTransformer-specific style */\n",
              "\n",
              "#sk-container-id-1 div.sk-label input.sk-toggleable__control:checked~label.sk-toggleable__label {\n",
              "  color: var(--sklearn-color-text);\n",
              "  background-color: var(--sklearn-color-unfitted-level-2);\n",
              "}\n",
              "\n",
              "#sk-container-id-1 div.sk-label.fitted input.sk-toggleable__control:checked~label.sk-toggleable__label {\n",
              "  background-color: var(--sklearn-color-fitted-level-2);\n",
              "}\n",
              "\n",
              "/* Estimator-specific style */\n",
              "\n",
              "/* Colorize estimator box */\n",
              "#sk-container-id-1 div.sk-estimator input.sk-toggleable__control:checked~label.sk-toggleable__label {\n",
              "  /* unfitted */\n",
              "  background-color: var(--sklearn-color-unfitted-level-2);\n",
              "}\n",
              "\n",
              "#sk-container-id-1 div.sk-estimator.fitted input.sk-toggleable__control:checked~label.sk-toggleable__label {\n",
              "  /* fitted */\n",
              "  background-color: var(--sklearn-color-fitted-level-2);\n",
              "}\n",
              "\n",
              "#sk-container-id-1 div.sk-label label.sk-toggleable__label,\n",
              "#sk-container-id-1 div.sk-label label {\n",
              "  /* The background is the default theme color */\n",
              "  color: var(--sklearn-color-text-on-default-background);\n",
              "}\n",
              "\n",
              "/* On hover, darken the color of the background */\n",
              "#sk-container-id-1 div.sk-label:hover label.sk-toggleable__label {\n",
              "  color: var(--sklearn-color-text);\n",
              "  background-color: var(--sklearn-color-unfitted-level-2);\n",
              "}\n",
              "\n",
              "/* Label box, darken color on hover, fitted */\n",
              "#sk-container-id-1 div.sk-label.fitted:hover label.sk-toggleable__label.fitted {\n",
              "  color: var(--sklearn-color-text);\n",
              "  background-color: var(--sklearn-color-fitted-level-2);\n",
              "}\n",
              "\n",
              "/* Estimator label */\n",
              "\n",
              "#sk-container-id-1 div.sk-label label {\n",
              "  font-family: monospace;\n",
              "  font-weight: bold;\n",
              "  display: inline-block;\n",
              "  line-height: 1.2em;\n",
              "}\n",
              "\n",
              "#sk-container-id-1 div.sk-label-container {\n",
              "  text-align: center;\n",
              "}\n",
              "\n",
              "/* Estimator-specific */\n",
              "#sk-container-id-1 div.sk-estimator {\n",
              "  font-family: monospace;\n",
              "  border: 1px dotted var(--sklearn-color-border-box);\n",
              "  border-radius: 0.25em;\n",
              "  box-sizing: border-box;\n",
              "  margin-bottom: 0.5em;\n",
              "  /* unfitted */\n",
              "  background-color: var(--sklearn-color-unfitted-level-0);\n",
              "}\n",
              "\n",
              "#sk-container-id-1 div.sk-estimator.fitted {\n",
              "  /* fitted */\n",
              "  background-color: var(--sklearn-color-fitted-level-0);\n",
              "}\n",
              "\n",
              "/* on hover */\n",
              "#sk-container-id-1 div.sk-estimator:hover {\n",
              "  /* unfitted */\n",
              "  background-color: var(--sklearn-color-unfitted-level-2);\n",
              "}\n",
              "\n",
              "#sk-container-id-1 div.sk-estimator.fitted:hover {\n",
              "  /* fitted */\n",
              "  background-color: var(--sklearn-color-fitted-level-2);\n",
              "}\n",
              "\n",
              "/* Specification for estimator info (e.g. \"i\" and \"?\") */\n",
              "\n",
              "/* Common style for \"i\" and \"?\" */\n",
              "\n",
              ".sk-estimator-doc-link,\n",
              "a:link.sk-estimator-doc-link,\n",
              "a:visited.sk-estimator-doc-link {\n",
              "  float: right;\n",
              "  font-size: smaller;\n",
              "  line-height: 1em;\n",
              "  font-family: monospace;\n",
              "  background-color: var(--sklearn-color-background);\n",
              "  border-radius: 1em;\n",
              "  height: 1em;\n",
              "  width: 1em;\n",
              "  text-decoration: none !important;\n",
              "  margin-left: 0.5em;\n",
              "  text-align: center;\n",
              "  /* unfitted */\n",
              "  border: var(--sklearn-color-unfitted-level-1) 1pt solid;\n",
              "  color: var(--sklearn-color-unfitted-level-1);\n",
              "}\n",
              "\n",
              ".sk-estimator-doc-link.fitted,\n",
              "a:link.sk-estimator-doc-link.fitted,\n",
              "a:visited.sk-estimator-doc-link.fitted {\n",
              "  /* fitted */\n",
              "  border: var(--sklearn-color-fitted-level-1) 1pt solid;\n",
              "  color: var(--sklearn-color-fitted-level-1);\n",
              "}\n",
              "\n",
              "/* On hover */\n",
              "div.sk-estimator:hover .sk-estimator-doc-link:hover,\n",
              ".sk-estimator-doc-link:hover,\n",
              "div.sk-label-container:hover .sk-estimator-doc-link:hover,\n",
              ".sk-estimator-doc-link:hover {\n",
              "  /* unfitted */\n",
              "  background-color: var(--sklearn-color-unfitted-level-3);\n",
              "  color: var(--sklearn-color-background);\n",
              "  text-decoration: none;\n",
              "}\n",
              "\n",
              "div.sk-estimator.fitted:hover .sk-estimator-doc-link.fitted:hover,\n",
              ".sk-estimator-doc-link.fitted:hover,\n",
              "div.sk-label-container:hover .sk-estimator-doc-link.fitted:hover,\n",
              ".sk-estimator-doc-link.fitted:hover {\n",
              "  /* fitted */\n",
              "  background-color: var(--sklearn-color-fitted-level-3);\n",
              "  color: var(--sklearn-color-background);\n",
              "  text-decoration: none;\n",
              "}\n",
              "\n",
              "/* Span, style for the box shown on hovering the info icon */\n",
              ".sk-estimator-doc-link span {\n",
              "  display: none;\n",
              "  z-index: 9999;\n",
              "  position: relative;\n",
              "  font-weight: normal;\n",
              "  right: .2ex;\n",
              "  padding: .5ex;\n",
              "  margin: .5ex;\n",
              "  width: min-content;\n",
              "  min-width: 20ex;\n",
              "  max-width: 50ex;\n",
              "  color: var(--sklearn-color-text);\n",
              "  box-shadow: 2pt 2pt 4pt #999;\n",
              "  /* unfitted */\n",
              "  background: var(--sklearn-color-unfitted-level-0);\n",
              "  border: .5pt solid var(--sklearn-color-unfitted-level-3);\n",
              "}\n",
              "\n",
              ".sk-estimator-doc-link.fitted span {\n",
              "  /* fitted */\n",
              "  background: var(--sklearn-color-fitted-level-0);\n",
              "  border: var(--sklearn-color-fitted-level-3);\n",
              "}\n",
              "\n",
              ".sk-estimator-doc-link:hover span {\n",
              "  display: block;\n",
              "}\n",
              "\n",
              "/* \"?\"-specific style due to the `<a>` HTML tag */\n",
              "\n",
              "#sk-container-id-1 a.estimator_doc_link {\n",
              "  float: right;\n",
              "  font-size: 1rem;\n",
              "  line-height: 1em;\n",
              "  font-family: monospace;\n",
              "  background-color: var(--sklearn-color-background);\n",
              "  border-radius: 1rem;\n",
              "  height: 1rem;\n",
              "  width: 1rem;\n",
              "  text-decoration: none;\n",
              "  /* unfitted */\n",
              "  color: var(--sklearn-color-unfitted-level-1);\n",
              "  border: var(--sklearn-color-unfitted-level-1) 1pt solid;\n",
              "}\n",
              "\n",
              "#sk-container-id-1 a.estimator_doc_link.fitted {\n",
              "  /* fitted */\n",
              "  border: var(--sklearn-color-fitted-level-1) 1pt solid;\n",
              "  color: var(--sklearn-color-fitted-level-1);\n",
              "}\n",
              "\n",
              "/* On hover */\n",
              "#sk-container-id-1 a.estimator_doc_link:hover {\n",
              "  /* unfitted */\n",
              "  background-color: var(--sklearn-color-unfitted-level-3);\n",
              "  color: var(--sklearn-color-background);\n",
              "  text-decoration: none;\n",
              "}\n",
              "\n",
              "#sk-container-id-1 a.estimator_doc_link.fitted:hover {\n",
              "  /* fitted */\n",
              "  background-color: var(--sklearn-color-fitted-level-3);\n",
              "}\n",
              "</style><div id=\"sk-container-id-1\" class=\"sk-top-container\"><div class=\"sk-text-repr-fallback\"><pre>RandomForestClassifier(max_depth=8, min_samples_leaf=4, min_samples_split=10,\n",
              "                       n_estimators=20, n_jobs=-1, random_state=42)</pre><b>In a Jupyter environment, please rerun this cell to show the HTML representation or trust the notebook. <br />On GitHub, the HTML representation is unable to render, please try loading this page with nbviewer.org.</b></div><div class=\"sk-container\" hidden><div class=\"sk-item\"><div class=\"sk-estimator fitted sk-toggleable\"><input class=\"sk-toggleable__control sk-hidden--visually\" id=\"sk-estimator-id-1\" type=\"checkbox\" checked><label for=\"sk-estimator-id-1\" class=\"sk-toggleable__label fitted sk-toggleable__label-arrow\"><div><div>RandomForestClassifier</div></div><div><a class=\"sk-estimator-doc-link fitted\" rel=\"noreferrer\" target=\"_blank\" href=\"https://scikit-learn.org/1.6/modules/generated/sklearn.ensemble.RandomForestClassifier.html\">?<span>Documentation for RandomForestClassifier</span></a><span class=\"sk-estimator-doc-link fitted\">i<span>Fitted</span></span></div></label><div class=\"sk-toggleable__content fitted\"><pre>RandomForestClassifier(max_depth=8, min_samples_leaf=4, min_samples_split=10,\n",
              "                       n_estimators=20, n_jobs=-1, random_state=42)</pre></div> </div></div></div></div>"
            ]
          },
          "metadata": {},
          "execution_count": 20
        }
      ]
    },
    {
      "cell_type": "code",
      "source": [
        "training_time = time.time() - start_time\n",
        "log_event(\"TIMING\", f\"Model training completed in {training_time:.2f} seconds\")"
      ],
      "metadata": {
        "colab": {
          "base_uri": "https://localhost:8080/"
        },
        "id": "Jw-EXTM9rbdp",
        "outputId": "69879009-afc2-4702-b908-fb258171f3fe"
      },
      "execution_count": null,
      "outputs": [
        {
          "output_type": "stream",
          "name": "stdout",
          "text": [
            "[2025-04-28T12:06:55.915059] TIMING: Model training completed in 26.23 seconds\n"
          ]
        }
      ]
    },
    {
      "cell_type": "markdown",
      "source": [
        "## 4. Model Evaluation"
      ],
      "metadata": {
        "id": "qyHFifg-sWvW"
      }
    },
    {
      "cell_type": "markdown",
      "source": [
        "This section evaluates our trained model using standard classification metrics:\n",
        "- Accuracy: Overall correctness of predictions\n",
        "- Precision: Proportion of positive identifications that were actually correct\n",
        "- Recall: Proportion of actual positives that were identified correctly\n",
        "- F1 Score: Harmonic mean of precision and recall\n",
        "- AUC: Area under the ROC curve"
      ],
      "metadata": {
        "id": "qi4gjPAlsZKo"
      }
    },
    {
      "cell_type": "code",
      "source": [
        "log_event(\"MODEL_EVALUATION\", \"Evaluating Random Forest model\")\n",
        "start_time = time.time()"
      ],
      "metadata": {
        "colab": {
          "base_uri": "https://localhost:8080/"
        },
        "id": "GT5WRBpyscIi",
        "outputId": "8c206ece-27eb-4656-df37-49e4a5bd8c1e"
      },
      "execution_count": null,
      "outputs": [
        {
          "output_type": "stream",
          "name": "stdout",
          "text": [
            "[2025-04-28T12:06:58.007659] MODEL_EVALUATION: Evaluating Random Forest model\n"
          ]
        }
      ]
    },
    {
      "cell_type": "markdown",
      "source": [
        "### Make predictions"
      ],
      "metadata": {
        "id": "XcLyA2Kesg7g"
      }
    },
    {
      "cell_type": "code",
      "source": [
        "y_pred = rf_model.predict(X_test_scaled)\n",
        "y_pred_proba = rf_model.predict_proba(X_test_scaled)[:, 1]"
      ],
      "metadata": {
        "id": "p5J2Xko6sjGm"
      },
      "execution_count": null,
      "outputs": []
    },
    {
      "cell_type": "markdown",
      "source": [
        "### Calculate metrics"
      ],
      "metadata": {
        "id": "sEIBZ-B7snJ5"
      }
    },
    {
      "cell_type": "code",
      "source": [
        "accuracy = accuracy_score(y_test, y_pred)\n",
        "precision = precision_score(y_test, y_pred)\n",
        "recall = recall_score(y_test, y_pred)\n",
        "f1 = f1_score(y_test, y_pred)"
      ],
      "metadata": {
        "id": "sXx7HpuAspYR"
      },
      "execution_count": null,
      "outputs": []
    },
    {
      "cell_type": "markdown",
      "source": [
        "### ROC curve and AUC"
      ],
      "metadata": {
        "id": "cyKoLwJCtNC2"
      }
    },
    {
      "cell_type": "code",
      "source": [
        "fpr, tpr, _ = roc_curve(y_test, y_pred_proba)\n",
        "roc_auc = auc(fpr, tpr)"
      ],
      "metadata": {
        "id": "E1JNWdydtPpG"
      },
      "execution_count": null,
      "outputs": []
    },
    {
      "cell_type": "markdown",
      "source": [
        "### Log the evaluation metrics"
      ],
      "metadata": {
        "id": "K6yhfNIav8QX"
      }
    },
    {
      "cell_type": "code",
      "source": [
        "log_event(\"EVALUATION_METRICS\", \"Model performance metrics\", {\n",
        "    \"accuracy\": float(accuracy),\n",
        "    \"precision\": float(precision),\n",
        "    \"recall\": float(recall),\n",
        "    \"f1_score\": float(f1),\n",
        "    \"auc\": float(roc_auc)\n",
        "})"
      ],
      "metadata": {
        "colab": {
          "base_uri": "https://localhost:8080/"
        },
        "id": "v5Fz1eGgwAYI",
        "outputId": "fe2fb816-105e-4aec-e47e-efcacb771d72"
      },
      "execution_count": null,
      "outputs": [
        {
          "output_type": "stream",
          "name": "stdout",
          "text": [
            "[2025-04-28T12:07:03.399908] EVALUATION_METRICS: Model performance metrics\n"
          ]
        }
      ]
    },
    {
      "cell_type": "markdown",
      "source": [
        "### Print model performance"
      ],
      "metadata": {
        "id": "pMHkcClwwDTr"
      }
    },
    {
      "cell_type": "code",
      "source": [
        "print(\"\\nModel Performance:\")\n",
        "print(f\"Accuracy: {accuracy:.4f}\")\n",
        "print(f\"Precision: {precision:.4f}\")\n",
        "print(f\"Recall: {recall:.4f}\")\n",
        "print(f\"F1 Score: {f1:.4f}\")\n",
        "print(f\"AUC: {roc_auc:.4f}\")"
      ],
      "metadata": {
        "colab": {
          "base_uri": "https://localhost:8080/"
        },
        "id": "yaLNMYFEwFcz",
        "outputId": "dd734116-ed8c-4715-83fb-d320d40fbfaf"
      },
      "execution_count": null,
      "outputs": [
        {
          "output_type": "stream",
          "name": "stdout",
          "text": [
            "\n",
            "Model Performance:\n",
            "Accuracy: 0.9825\n",
            "Precision: 0.9949\n",
            "Recall: 0.9700\n",
            "F1 Score: 0.9823\n",
            "AUC: 0.9968\n"
          ]
        }
      ]
    },
    {
      "cell_type": "markdown",
      "source": [
        "## 5. Visualization of Results"
      ],
      "metadata": {
        "id": "rXz4Lt9bwLiS"
      }
    },
    {
      "cell_type": "markdown",
      "source": [
        "This section visualizes key aspects of our model performance:\n",
        "- Confusion Matrix: Shows the true positive, false positive, true negative, and false negative counts\n",
        "- ROC Curve: Shows the trade-off between sensitivity and specificity\n",
        "- Feature Importance: Shows which features are most influential in the model's predictions"
      ],
      "metadata": {
        "id": "YAJoJ7ZxwSPl"
      }
    },
    {
      "cell_type": "markdown",
      "source": [
        "### Plot confusion matrix"
      ],
      "metadata": {
        "id": "GRTug0vIwVhL"
      }
    },
    {
      "cell_type": "code",
      "source": [
        "plt.figure(figsize=(8, 6))\n",
        "cm = confusion_matrix(y_test, y_pred)\n",
        "sns.heatmap(cm, annot=True, fmt='d', cmap='Blues')\n",
        "plt.title('Confusion Matrix')\n",
        "plt.ylabel('True Label')\n",
        "plt.xlabel('Predicted Label')\n",
        "plt.show()"
      ],
      "metadata": {
        "colab": {
          "base_uri": "https://localhost:8080/",
          "height": 564
        },
        "id": "CDsyVogZwRTO",
        "outputId": "5e47ffd1-be70-42b5-cd22-cece85ef4005"
      },
      "execution_count": null,
      "outputs": [
        {
          "output_type": "display_data",
          "data": {
            "text/plain": [
              "<Figure size 800x600 with 2 Axes>"
            ],
            "image/png": "[encoded data removed]"
          },
          "metadata": {}
        }
      ]
    },
    {
      "cell_type": "markdown",
      "source": [
        "### Plot ROC curve"
      ],
      "metadata": {
        "id": "5V3u65zuwbHs"
      }
    },
    {
      "cell_type": "code",
      "source": [
        "plt.figure(figsize=(8, 6))\n",
        "plt.plot(fpr, tpr, color='blue', lw=2, label=f'ROC curve (area = {roc_auc:.2f})')\n",
        "plt.plot([0, 1], [0, 1], color='gray', lw=2, linestyle='--')\n",
        "plt.xlim([0.0, 1.0])\n",
        "plt.ylim([0.0, 1.05])\n",
        "plt.xlabel('False Positive Rate')\n",
        "plt.ylabel('True Positive Rate')\n",
        "plt.title('Receiver Operating Characteristic')\n",
        "plt.legend(loc=\"lower right\")\n",
        "plt.show()"
      ],
      "metadata": {
        "colab": {
          "base_uri": "https://localhost:8080/",
          "height": 564
        },
        "id": "q_b0jaiQwdZ2",
        "outputId": "7657c717-c247-4141-bd2b-6f333d7973e5"
      },
      "execution_count": null,
      "outputs": [
        {
          "output_type": "display_data",
          "data": {
            "text/plain": [
              "<Figure size 800x600 with 1 Axes>"
            ],
            "image/png": "[encoded data removed]"
          },
          "metadata": {}
        }
      ]
    },
    {
      "cell_type": "markdown",
      "source": [
        "### Feature importance"
      ],
      "metadata": {
        "id": "jlQjHhifwjKr"
      }
    },
    {
      "cell_type": "code",
      "source": [
        "feature_importances = pd.DataFrame(\n",
        "    rf_model.feature_importances_,\n",
        "    index=X.columns,\n",
        "    columns=['importance']\n",
        ").sort_values('importance', ascending=False)\n",
        "\n",
        "plt.figure(figsize=(10, 6))\n",
        "sns.barplot(x=feature_importances.importance, y=feature_importances.index)\n",
        "plt.title('Feature Importances')\n",
        "plt.tight_layout()\n",
        "plt.show()\n",
        "\n",
        "evaluation_time = time.time() - start_time\n",
        "log_event(\"TIMING\", f\"Model evaluation completed in {evaluation_time:.2f} seconds\")"
      ],
      "metadata": {
        "colab": {
          "base_uri": "https://localhost:8080/",
          "height": 624
        },
        "id": "UxpeCJqhwooH",
        "outputId": "20a5da8c-7b65-452e-ee87-a9a13f63741b"
      },
      "execution_count": null,
      "outputs": [
        {
          "output_type": "display_data",
          "data": {
            "text/plain": [
              "<Figure size 1000x600 with 1 Axes>"
            ],
            "image/png": "[encoded data removed]"
          },
          "metadata": {}
        },
        {
          "output_type": "stream",
          "name": "stdout",
          "text": [
            "[2025-04-28T12:07:17.610092] TIMING: Model evaluation completed in 19.60 seconds\n"
          ]
        }
      ]
    },
    {
      "cell_type": "markdown",
      "source": [
        "## 6. Testing"
      ],
      "metadata": {
        "id": "_qxNwfYBwvD9"
      }
    },
    {
      "cell_type": "code",
      "source": [
        "log_event(\"MODEL_TESTING\", \"Testing model with well-known domains\")\n",
        "start_time = time.time()"
      ],
      "metadata": {
        "colab": {
          "base_uri": "https://localhost:8080/"
        },
        "id": "tTThnGEMscaH",
        "outputId": "75ce2784-5498-42a1-8214-3b3445f7d046"
      },
      "execution_count": null,
      "outputs": [
        {
          "output_type": "stream",
          "name": "stdout",
          "text": [
            "[2025-04-28T12:07:23.198675] MODEL_TESTING: Testing model with well-known domains\n"
          ]
        }
      ]
    },
    {
      "cell_type": "markdown",
      "source": [
        "### Testing with Real-World Examples"
      ],
      "metadata": {
        "id": "WQhcmcrOpsGz"
      }
    },
    {
      "cell_type": "code",
      "source": [
        "# Test URLs from test data\n",
        "print(\"\\nTesting model with known URLs from test data:\")\n",
        "\n",
        "# Define test URLs - sample from test data\n",
        "good_mask = (y_test == 0)\n",
        "bad_mask = (y_test == 1)\n",
        "\n",
        "# Get a few examples of each class\n",
        "good_urls = X_test[good_mask].iloc[:3]\n",
        "bad_urls = X_test[bad_mask].iloc[:3]\n",
        "\n",
        "# Function to test prediction\n",
        "def test_prediction(features, label, expected_class):\n",
        "    features_scaled = scaler.transform(features)\n",
        "    pred_class = rf_model.predict(features_scaled)\n",
        "    pred_proba = rf_model.predict_proba(features_scaled)\n",
        "\n",
        "    for i in range(len(features)):\n",
        "        print(f\"{label} URL #{i+1}:\")\n",
        "        print(f\"  Predicted class: {pred_class[i]} ({'Phishing' if pred_class[i] == 1 else 'Legitimate'})\")\n",
        "        print(f\"  Probability of phishing: {pred_proba[i][1]:.4f}\")\n",
        "        print(f\"  Probability of legitimate: {pred_proba[i][0]:.4f}\")\n",
        "        print(f\"  Correct prediction: {pred_class[i] == expected_class}\")\n",
        "        print()\n",
        "\n",
        "print(\"Testing legitimate URLs from dataset:\")\n",
        "test_prediction(good_urls, \"Legitimate\", 0)\n",
        "\n",
        "print(\"Testing phishing URLs from dataset:\")\n",
        "test_prediction(bad_urls, \"Phishing\", 1)"
      ],
      "metadata": {
        "colab": {
          "base_uri": "https://localhost:8080/"
        },
        "id": "fitbzXN1pp90",
        "outputId": "5b6ab3ae-5e4e-42e4-e71e-2050f8930f07"
      },
      "execution_count": null,
      "outputs": [
        {
          "output_type": "stream",
          "name": "stdout",
          "text": [
            "\n",
            "Testing model with known URLs from test data:\n",
            "Testing legitimate URLs from dataset:\n",
            "Legitimate URL #1:\n",
            "  Predicted class: 0 (Legitimate)\n",
            "  Probability of phishing: 0.0075\n",
            "  Probability of legitimate: 0.9925\n",
            "  Correct prediction: True\n",
            "\n",
            "Legitimate URL #2:\n",
            "  Predicted class: 0 (Legitimate)\n",
            "  Probability of phishing: 0.0427\n",
            "  Probability of legitimate: 0.9573\n",
            "  Correct prediction: True\n",
            "\n",
            "Legitimate URL #3:\n",
            "  Predicted class: 0 (Legitimate)\n",
            "  Probability of phishing: 0.0012\n",
            "  Probability of legitimate: 0.9988\n",
            "  Correct prediction: True\n",
            "\n",
            "Testing phishing URLs from dataset:\n",
            "Phishing URL #1:\n",
            "  Predicted class: 1 (Phishing)\n",
            "  Probability of phishing: 0.9975\n",
            "  Probability of legitimate: 0.0025\n",
            "  Correct prediction: True\n",
            "\n",
            "Phishing URL #2:\n",
            "  Predicted class: 1 (Phishing)\n",
            "  Probability of phishing: 0.9975\n",
            "  Probability of legitimate: 0.0025\n",
            "  Correct prediction: True\n",
            "\n",
            "Phishing URL #3:\n",
            "  Predicted class: 1 (Phishing)\n",
            "  Probability of phishing: 0.9975\n",
            "  Probability of legitimate: 0.0025\n",
            "  Correct prediction: True\n",
            "\n"
          ]
        }
      ]
    },
    {
      "cell_type": "code",
      "source": [
        "print(\"\\nTesting model on well-known legitimate sites (CRUCIAL TEST):\")\n",
        "\n",
        "# Create test samples with known good domains\n",
        "test_domains = [\n",
        "    \"https://www.youtube.com/watch?v=abcdefgh\",\n",
        "    \"https://github.com/username/repository\",\n",
        "    \"https://www.google.com/search?q=test\",\n",
        "    \"https://www.amazon.com/product\",\n",
        "    \"http://example.com\"  # Intentionally using HTTP\n",
        "]\n",
        "\n",
        "for domain in test_domains:\n",
        "    # We need to create a DataFrame with the URL first to run it through our feature extraction\n",
        "    features = extract_lightweight_features(pd.DataFrame({'URL': [domain], 'class': [0]})).drop('is_phishing', axis=1)\n",
        "    features_scaled = scaler.transform(features)\n",
        "    pred_class = rf_model.predict(features_scaled)[0]\n",
        "    pred_proba = rf_model.predict_proba(features_scaled)[0]\n",
        "\n",
        "    print(f\"Domain: {domain}\")\n",
        "    print(f\"  Predicted class: {pred_class} ({'Phishing' if pred_class == 1 else 'Legitimate'})\")\n",
        "    print(f\"  Probability of phishing: {pred_proba[1]:.4f}\")\n",
        "    print(f\"  Probability of legitimate: {pred_proba[0]:.4f}\")\n",
        "    print(f\"  Expected prediction: Legitimate\")\n",
        "    print(f\"  ✓ CORRECT\" if pred_class == 0 else f\"  ✗ INCORRECT - This would require whitelist\")\n",
        "    print()"
      ],
      "metadata": {
        "colab": {
          "base_uri": "https://localhost:8080/"
        },
        "id": "rr3tCxFRsBX5",
        "outputId": "4d152fcf-40c0-41e2-f8f9-3e93e36f7ff4"
      },
      "execution_count": null,
      "outputs": [
        {
          "output_type": "stream",
          "name": "stdout",
          "text": [
            "\n",
            "Testing model on well-known legitimate sites (CRUCIAL TEST):\n",
            "Domain: https://www.youtube.com/watch?v=abcdefgh\n",
            "  Predicted class: 0 (Legitimate)\n",
            "  Probability of phishing: 0.0308\n",
            "  Probability of legitimate: 0.9692\n",
            "  Expected prediction: Legitimate\n",
            "  ✓ CORRECT\n",
            "\n",
            "Domain: https://github.com/username/repository\n",
            "  Predicted class: 0 (Legitimate)\n",
            "  Probability of phishing: 0.1840\n",
            "  Probability of legitimate: 0.8160\n",
            "  Expected prediction: Legitimate\n",
            "  ✓ CORRECT\n",
            "\n",
            "Domain: https://www.google.com/search?q=test\n",
            "  Predicted class: 0 (Legitimate)\n",
            "  Probability of phishing: 0.0361\n",
            "  Probability of legitimate: 0.9639\n",
            "  Expected prediction: Legitimate\n",
            "  ✓ CORRECT\n",
            "\n",
            "Domain: https://www.amazon.com/product\n",
            "  Predicted class: 0 (Legitimate)\n",
            "  Probability of phishing: 0.0615\n",
            "  Probability of legitimate: 0.9385\n",
            "  Expected prediction: Legitimate\n",
            "  ✓ CORRECT\n",
            "\n",
            "Domain: http://example.com\n",
            "  Predicted class: 1 (Phishing)\n",
            "  Probability of phishing: 0.8474\n",
            "  Probability of legitimate: 0.1526\n",
            "  Expected prediction: Legitimate\n",
            "  ✗ INCORRECT - This would require whitelist\n",
            "\n"
          ]
        }
      ]
    },
    {
      "cell_type": "markdown",
      "source": [
        "## 6. Model Saving"
      ],
      "metadata": {
        "id": "eSS2_AFSsTOr"
      }
    },
    {
      "cell_type": "markdown",
      "source": [
        "This section saves the trained model and other artifacts:\n",
        "- Full model for server-side use\n",
        "- Model metadata for tracking\n",
        "- Preprocessing scaler for future use"
      ],
      "metadata": {
        "id": "T7iM-7FYsT8c"
      }
    },
    {
      "cell_type": "code",
      "source": [
        "log_event(\"MODEL_SAVING\", \"Saving model and artifacts\")\n",
        "start_time = time.time()"
      ],
      "metadata": {
        "colab": {
          "base_uri": "https://localhost:8080/"
        },
        "id": "Fjh32DP3sYl5",
        "outputId": "afccd069-740f-4cc8-9c35-5f5327a2f941"
      },
      "execution_count": null,
      "outputs": [
        {
          "output_type": "stream",
          "name": "stdout",
          "text": [
            "[2025-04-28T12:07:44.701762] MODEL_SAVING: Saving model and artifacts\n"
          ]
        }
      ]
    },
    {
      "cell_type": "markdown",
      "source": [
        "### Save the model"
      ],
      "metadata": {
        "id": "4nDv3zLvw4Bp"
      }
    },
    {
      "cell_type": "code",
      "source": [
        "joblib.dump(rf_model, MODEL_OUTPUT_PATH)"
      ],
      "metadata": {
        "colab": {
          "base_uri": "https://localhost:8080/"
        },
        "id": "WdmkAmMZw6Ib",
        "outputId": "6bdb2525-7e7f-43c1-ccc1-0ec65c20f538"
      },
      "execution_count": null,
      "outputs": [
        {
          "output_type": "execute_result",
          "data": {
            "text/plain": [
              "['/content/drive/MyDrive/PUSL3190/models/random_forest_model/random_forest_model.pkl']"
            ]
          },
          "metadata": {},
          "execution_count": 35
        }
      ]
    },
    {
      "cell_type": "markdown",
      "source": [
        "### Save the scaler for future preprocessing"
      ],
      "metadata": {
        "id": "scTF_16MxUn9"
      }
    },
    {
      "cell_type": "code",
      "source": [
        "joblib.dump(scaler, SCALER_OUTPUT_PATH)"
      ],
      "metadata": {
        "colab": {
          "base_uri": "https://localhost:8080/"
        },
        "id": "zzQ3pJYPxcvy",
        "outputId": "9234926f-4516-4aba-8469-7005ae6093e0"
      },
      "execution_count": null,
      "outputs": [
        {
          "output_type": "execute_result",
          "data": {
            "text/plain": [
              "['/content/drive/MyDrive/PUSL3190/models/random_forest_model/random_forest_scaler.pkl']"
            ]
          },
          "metadata": {},
          "execution_count": 36
        }
      ]
    },
    {
      "cell_type": "markdown",
      "source": [
        "### Save model parameters and metadata"
      ],
      "metadata": {
        "id": "hTV6NeQOxfeO"
      }
    },
    {
      "cell_type": "code",
      "source": [
        "model_info = {\n",
        "    \"name\": \"random_forest_model_lite\",\n",
        "    \"type\": \"random_forest\",\n",
        "    \"version\": \"1.0\",\n",
        "    \"trained_at\": datetime.now().isoformat(),\n",
        "    \"accuracy\": float(accuracy),\n",
        "    \"precision\": float(precision),\n",
        "    \"recall\": float(recall),\n",
        "    \"f1_score\": float(f1),\n",
        "    \"auc\": float(roc_auc),\n",
        "    \"parameters\": {\n",
        "        \"n_estimators\": rf_model.n_estimators,\n",
        "        \"max_depth\": rf_model.max_depth,\n",
        "        \"min_samples_split\": rf_model.min_samples_split,\n",
        "        \"min_samples_leaf\": rf_model.min_samples_leaf\n",
        "    },\n",
        "    \"feature_list\": list(X.columns),\n",
        "    \"model_size_bytes\": os.path.getsize(MODEL_OUTPUT_PATH),\n",
        "    \"label_encoding\": {\n",
        "        \"0\": \"legitimate\",\n",
        "        \"1\": \"phishing\"\n",
        "    },\n",
        "    \"feature_importances\": {\n",
        "        \"importance\": {name: float(importance) for name, importance in zip(X.columns, rf_model.feature_importances_)}\n",
        "    },\n",
        "    \"dataset_info\": {\n",
        "        \"total_samples\": df.shape[0],\n",
        "        \"legitimate_samples\": int(np.sum(df['class'] == 0)),\n",
        "        \"phishing_samples\": int(np.sum(df['class'] == 1)),\n",
        "    }\n",
        "}\n",
        "\n",
        "with open(METADATA_OUTPUT_PATH, 'w') as f:\n",
        "    json.dump(model_info, f, indent=2)"
      ],
      "metadata": {
        "id": "yZaoYhNNxjND"
      },
      "execution_count": null,
      "outputs": []
    },
    {
      "cell_type": "markdown",
      "source": [
        "## 7. Summary"
      ],
      "metadata": {
        "id": "0O6TqgQOzOi1"
      }
    },
    {
      "cell_type": "markdown",
      "source": [
        "### Save all logs to file"
      ],
      "metadata": {
        "id": "fygd5AzI4kwN"
      }
    },
    {
      "cell_type": "code",
      "source": [
        "saving_time = time.time() - start_time\n",
        "log_event(\"TIMING\", f\"Model saving completed in {saving_time:.2f} seconds\")"
      ],
      "metadata": {
        "id": "enAZ3AmFOReK",
        "colab": {
          "base_uri": "https://localhost:8080/"
        },
        "outputId": "2f929a07-8705-427b-cdc3-f181c4450024"
      },
      "execution_count": null,
      "outputs": [
        {
          "output_type": "stream",
          "name": "stdout",
          "text": [
            "[2025-04-28T12:07:55.156586] TIMING: Model saving completed in 10.45 seconds\n"
          ]
        }
      ]
    },
    {
      "cell_type": "code",
      "source": [
        "def save_logs_with_append(log_data, log_file_path):\n",
        "    try:\n",
        "        with open(log_file_path, 'r') as f:\n",
        "            try:\n",
        "                existing_logs = json.load(f)\n",
        "                if not isinstance(existing_logs, list):\n",
        "                    existing_logs = []\n",
        "            except json.JSONDecodeError:\n",
        "                existing_logs = []\n",
        "    except FileNotFoundError:\n",
        "        existing_logs = []\n",
        "\n",
        "    combined_logs = existing_logs + log_data\n",
        "\n",
        "    with open(log_file_path, 'w') as f:\n",
        "        json.dump(combined_logs, f, indent=2)\n",
        "\n",
        "    print(f\"Appended {len(log_data)} new log entries to {log_file_path}\")\n",
        "    return combined_logs\n",
        "\n",
        "log_data = save_logs_with_append(log_data, LOG_OUTPUT_PATH)\n",
        "\n",
        "saving_time = time.time() - start_time\n",
        "log_event(\"TIMING\", f\"Model saving completed in {saving_time:.2f} seconds\")"
      ],
      "metadata": {
        "id": "o2Zht7EhOQrG",
        "colab": {
          "base_uri": "https://localhost:8080/"
        },
        "outputId": "39fcf99b-2945-40b7-935a-565b46748ac0"
      },
      "execution_count": null,
      "outputs": [
        {
          "output_type": "stream",
          "name": "stdout",
          "text": [
            "Appended 14 new log entries to /content/drive/MyDrive/PUSL3190/logs/random_forest_training_log.json\n",
            "[2025-04-28T12:07:56.919910] TIMING: Model saving completed in 12.22 seconds\n"
          ]
        }
      ]
    },
    {
      "cell_type": "code",
      "source": [
        "log_data = save_logs_with_append(log_data, LOG_OUTPUT_PATH)"
      ],
      "metadata": {
        "id": "ylXBLVk44nZf",
        "colab": {
          "base_uri": "https://localhost:8080/"
        },
        "outputId": "8c238e98-4a13-469c-a34f-e09774445ebd"
      },
      "execution_count": null,
      "outputs": [
        {
          "output_type": "stream",
          "name": "stdout",
          "text": [
            "Appended 288 new log entries to /content/drive/MyDrive/PUSL3190/logs/random_forest_training_log.json\n"
          ]
        }
      ]
    },
    {
      "cell_type": "markdown",
      "source": [
        "### Training details"
      ],
      "metadata": {
        "id": "EXEPJ_IG4reI"
      }
    },
    {
      "cell_type": "code",
      "source": [
        "print(\"\\n===== TRAINING COMPLETE =====\")\n",
        "print(f\"Lightweight model accuracy: {accuracy:.4f}\")\n",
        "print(f\"Model saved to {MODEL_OUTPUT_PATH}\")\n",
        "print(f\"Metadata saved to {METADATA_OUTPUT_PATH}\")\n",
        "print(f\"Logs saved to {LOG_OUTPUT_PATH}\")"
      ],
      "metadata": {
        "colab": {
          "base_uri": "https://localhost:8080/"
        },
        "id": "LvoaBiVqzQea",
        "outputId": "29a12824-279d-433c-e941-93caef6b42d7"
      },
      "execution_count": null,
      "outputs": [
        {
          "output_type": "stream",
          "name": "stdout",
          "text": [
            "\n",
            "===== TRAINING COMPLETE =====\n",
            "Lightweight model accuracy: 0.9825\n",
            "Model saved to /content/drive/MyDrive/PUSL3190/models/random_forest_model/random_forest_model.pkl\n",
            "Metadata saved to /content/drive/MyDrive/PUSL3190/models/random_forest_model/random_forest_metadata.json\n",
            "Logs saved to /content/drive/MyDrive/PUSL3190/logs/random_forest_training_log.json\n"
          ]
        }
      ]
    }
  ]
}