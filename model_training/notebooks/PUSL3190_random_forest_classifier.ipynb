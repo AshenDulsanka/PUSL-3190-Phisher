{
  "nbformat": 4,
  "nbformat_minor": 0,
  "metadata": {
    "colab": {
      "provenance": [],
      "gpuType": "V28"
    },
    "kernelspec": {
      "name": "python3",
      "display_name": "Python 3"
    },
    "language_info": {
      "name": "python"
    },
    "accelerator": "TPU"
  },
  "cells": [
    {
      "cell_type": "markdown",
      "source": [
        "# AI-Powered URL Phishing Detection System\n",
        "# Random Forest Classifier for Browser Extension"
      ],
      "metadata": {
        "id": "szyGzJTHjcyX"
      }
    },
    {
      "cell_type": "markdown",
      "source": [
        "## Steup and Imports"
      ],
      "metadata": {
        "id": "UAggeXFQh-px"
      }
    },
    {
      "cell_type": "code",
      "execution_count": 1,
      "metadata": {
        "id": "MGHpiQABWg1G"
      },
      "outputs": [],
      "source": [
        "import pandas as pd\n",
        "import numpy as np\n",
        "import matplotlib.pyplot as plt\n",
        "import seaborn as sns\n",
        "import pickle\n",
        "import time\n",
        "import json\n",
        "import os\n",
        "import re\n",
        "from datetime import datetime\n",
        "from sklearn.model_selection import train_test_split, GridSearchCV\n",
        "from sklearn.ensemble import RandomForestClassifier\n",
        "from sklearn.metrics import accuracy_score, precision_score, recall_score, f1_score, confusion_matrix, roc_curve, auc\n",
        "from sklearn.preprocessing import StandardScaler\n",
        "import joblib"
      ]
    },
    {
      "cell_type": "markdown",
      "source": [
        "### Mount Google Drive"
      ],
      "metadata": {
        "id": "yyXwvVk0iTbd"
      }
    },
    {
      "cell_type": "code",
      "source": [
        "from google.colab import drive\n",
        "drive.mount('/content/drive')"
      ],
      "metadata": {
        "colab": {
          "base_uri": "https://localhost:8080/"
        },
        "id": "qsBjOBztiVNf",
        "outputId": "d2878126-f888-426e-c6cd-5a358e32b639"
      },
      "execution_count": 2,
      "outputs": [
        {
          "output_type": "stream",
          "name": "stdout",
          "text": [
            "Mounted at /content/drive\n"
          ]
        }
      ]
    },
    {
      "cell_type": "markdown",
      "source": [
        "## Configuration and Logging"
      ],
      "metadata": {
        "id": "UXYohMgpjKqC"
      }
    },
    {
      "cell_type": "markdown",
      "source": [
        "### Set up logging"
      ],
      "metadata": {
        "id": "5swE3x8Qjg7G"
      }
    },
    {
      "cell_type": "code",
      "source": [
        "log_data = []\n",
        "\n",
        "def log_event(event_type, message, metadata=None):\n",
        "    \"\"\"Log events for research documentation\"\"\"\n",
        "    log_entry = {\n",
        "        \"timestamp\": datetime.now().isoformat(),\n",
        "        \"event_type\": event_type,\n",
        "        \"message\": message,\n",
        "        \"metadata\": metadata or {}\n",
        "    }\n",
        "    log_data.append(log_entry)\n",
        "    print(f\"[{log_entry['timestamp']}] {event_type}: {message}\")"
      ],
      "metadata": {
        "id": "wMNWmUdPjRXi"
      },
      "execution_count": 3,
      "outputs": []
    },
    {
      "cell_type": "markdown",
      "source": [
        "### Define paths"
      ],
      "metadata": {
        "id": "99VdkBtaj7uV"
      }
    },
    {
      "cell_type": "code",
      "source": [
        "BASE_PATH = '/content/drive/MyDrive/PUSL3190'\n",
        "RAW_DATA_PATH = f'{BASE_PATH}/data/raw/phishing_site_urls.csv'\n",
        "PROCESSED_DATA_PATH = f'{BASE_PATH}/data/processed/browser_extension_features_v2.csv'\n",
        "MODEL_OUTPUT_PATH = f'{BASE_PATH}/models/random_forest_model/random_forest_model.pkl'\n",
        "LOG_OUTPUT_PATH = f'{BASE_PATH}/logs/random_forest_training_log.json'"
      ],
      "metadata": {
        "id": "1wwuE1oHj-pN"
      },
      "execution_count": 4,
      "outputs": []
    },
    {
      "cell_type": "markdown",
      "source": [
        "### Create directories if they don't exist"
      ],
      "metadata": {
        "id": "_zUtgmfukyh7"
      }
    },
    {
      "cell_type": "code",
      "source": [
        "os.makedirs(f'{BASE_PATH}/data/processed', exist_ok=True)\n",
        "os.makedirs(f'{BASE_PATH}/models', exist_ok=True)\n",
        "os.makedirs(f'{BASE_PATH}/logs', exist_ok=True)"
      ],
      "metadata": {
        "id": "e87nf9Svk2LY"
      },
      "execution_count": 5,
      "outputs": []
    },
    {
      "cell_type": "markdown",
      "source": [
        "## 1. Data Loading and Exploration"
      ],
      "metadata": {
        "id": "-8g6fm_llFAy"
      }
    },
    {
      "cell_type": "markdown",
      "source": [
        "### Load dataset"
      ],
      "metadata": {
        "id": "lj3WcL1PlJBJ"
      }
    },
    {
      "cell_type": "code",
      "source": [
        "log_event(\"DATA_LOADING\", \"Loading dataset\")\n",
        "start_time = time.time()\n",
        "\n",
        "try:\n",
        "    df = pd.read_csv(RAW_DATA_PATH)\n",
        "    if 'class' not in df.columns:\n",
        "        df = df.rename(columns={'label': 'class'})\n",
        "\n",
        "    if df['class'].dtype == 'object':\n",
        "        print(f\"Converting string labels to numeric. Unique values: {df['class'].unique()}\")\n",
        "        df['class'] = df['class'].map({'good': 0, 'bad': 1, 'legitimate': 0, 'phishing': 1})\n",
        "\n",
        "    print(f\"Class values after conversion: {df['class'].unique()}\")\n",
        "    print(f\"Class distribution: {df['class'].value_counts()}\")\n",
        "\n",
        "    log_event(\"DATA_LOADED\", f\"Dataset loaded with shape {df.shape}\",\n",
        "              {\"rows\": df.shape[0], \"columns\": df.shape[1]})\n",
        "except Exception as e:\n",
        "    log_event(\"ERROR\", f\"Failed to load dataset: {str(e)}\")\n",
        "    raise\n",
        "\n",
        "loading_time = time.time() - start_time\n",
        "log_event(\"TIMING\", f\"Data loading completed in {loading_time:.2f} seconds\")"
      ],
      "metadata": {
        "colab": {
          "base_uri": "https://localhost:8080/"
        },
        "id": "ZADpIY_TlHhG",
        "outputId": "e29c4ad8-cefc-4cb5-853a-96b7f313457c"
      },
      "execution_count": 6,
      "outputs": [
        {
          "output_type": "stream",
          "name": "stdout",
          "text": [
            "[2025-04-27T14:34:30.710629] DATA_LOADING: Loading dataset\n",
            "Class values after conversion: [1 0]\n",
            "Class distribution: class\n",
            "1    10000\n",
            "0    10000\n",
            "Name: count, dtype: int64\n",
            "[2025-04-27T14:34:30.937799] DATA_LOADED: Dataset loaded with shape (20000, 2)\n",
            "[2025-04-27T14:34:30.937943] TIMING: Data loading completed in 0.23 seconds\n"
          ]
        }
      ]
    },
    {
      "cell_type": "markdown",
      "source": [
        "### Display basic information about the dataset"
      ],
      "metadata": {
        "id": "iHiZ9irTlZI_"
      }
    },
    {
      "cell_type": "code",
      "source": [
        "print(\"Dataset Information:\")\n",
        "print(f\"Total samples: {df.shape[0]}\")\n",
        "print(f\"Features: {df.shape[1]}\")\n",
        "print(\"\\nData Types:\")\n",
        "print(df.dtypes)\n",
        "print(\"\\nClass Distribution:\")\n",
        "print(df['class'].value_counts())\n",
        "print(\"\\nFirst 5 rows:\")\n",
        "print(df.head())"
      ],
      "metadata": {
        "colab": {
          "base_uri": "https://localhost:8080/"
        },
        "id": "FiLOrQFTlbqk",
        "outputId": "fbd63ff4-a267-4d02-a121-2f356eb177b0"
      },
      "execution_count": 7,
      "outputs": [
        {
          "output_type": "stream",
          "name": "stdout",
          "text": [
            "Dataset Information:\n",
            "Total samples: 20000\n",
            "Features: 2\n",
            "\n",
            "Data Types:\n",
            "URL      object\n",
            "class     int64\n",
            "dtype: object\n",
            "\n",
            "Class Distribution:\n",
            "class\n",
            "1    10000\n",
            "0    10000\n",
            "Name: count, dtype: int64\n",
            "\n",
            "First 5 rows:\n",
            "                                      URL  class\n",
            "0                 http://www.teramill.com      1\n",
            "1             http://www.f0519141.xsph.ru      1\n",
            "2                http://www.shprakserf.gq      1\n",
            "3  https://service-mitld.firebaseapp.com/      1\n",
            "4       http://www.kuradox92.lima-city.de      1\n"
          ]
        }
      ]
    },
    {
      "cell_type": "markdown",
      "source": [
        "## 2. Feature Extraction for Browser Extension"
      ],
      "metadata": {
        "id": "jiKMtqPpnip3"
      }
    },
    {
      "cell_type": "markdown",
      "source": [
        "\n",
        "This section extracts lightweight features suitable for a browser-based phishing detection extension.\n",
        "We focus on URL characteristics that can be quickly computed in a browser environment.\n"
      ],
      "metadata": {
        "id": "-nhT4OZYnmHG"
      }
    },
    {
      "cell_type": "code",
      "source": [
        "log_event(\"FEATURE_EXTRACTION\", \"Extracting lightweight features for browser extension\")\n",
        "start_time = time.time()"
      ],
      "metadata": {
        "colab": {
          "base_uri": "https://localhost:8080/"
        },
        "id": "NJtJTOLink31",
        "outputId": "2048b8f8-7b55-41a0-b683-3d8b41f87297"
      },
      "execution_count": 8,
      "outputs": [
        {
          "output_type": "stream",
          "name": "stdout",
          "text": [
            "[2025-04-27T14:34:37.995663] FEATURE_EXTRACTION: Extracting lightweight features for browser extension\n"
          ]
        }
      ]
    },
    {
      "cell_type": "markdown",
      "source": [
        "Extract lightweight features suitable for browser extension:\n",
        "  - URL Length\n",
        "  - Number of dots in domain\n",
        "  - Number of special characters\n",
        "  - Presence of IP address\n",
        "  - Presence of @ symbol\n",
        "  - Number of subdomains\n",
        "  - Use of HTTPS\n",
        "  - Presence of hyphens in domain\n",
        "  - URL shortener detection\n",
        "    \n",
        "These features should be fast to compute in a browser extension\n"
      ],
      "metadata": {
        "id": "0K5lyw1Yn5QY"
      }
    },
    {
      "cell_type": "code",
      "source": [
        "def extract_lightweight_features(urls_df):\n",
        "    features_df = pd.DataFrame()\n",
        "\n",
        "    # URL Length\n",
        "    features_df['url_length'] = urls_df['URL'].apply(len)\n",
        "\n",
        "    # Number of dots in domain\n",
        "    features_df['num_dots'] = urls_df['URL'].apply(lambda x: x.count('.'))\n",
        "\n",
        "    # Number of special characters (!@#$%^&*()_+)\n",
        "    features_df['num_special_chars'] = urls_df['URL'].apply(\n",
        "        lambda x: sum(c in \"!@#$%^&*()_+-=[]{}|;:,<>?/\" for c in x))\n",
        "\n",
        "    # Presence of IP address (simple check for 4 numbers separated by dots)\n",
        "    features_df['has_ip'] = urls_df['URL'].apply(\n",
        "        lambda x: 1 if bool(re.search(r'\\d+\\.\\d+\\.\\d+\\.\\d+', x)) else 0)\n",
        "\n",
        "    # Presence of @ symbol\n",
        "    features_df['has_at_symbol'] = urls_df['URL'].apply(lambda x: '@' in x).astype(int)\n",
        "\n",
        "    # Number of subdomains\n",
        "    features_df['num_subdomains'] = urls_df['URL'].apply(\n",
        "        lambda x: len(re.findall(r'\\.', x.split('/')[2])) if len(x.split('/')) > 2 else 0)\n",
        "\n",
        "    # Use of HTTPS\n",
        "    features_df['has_https'] = urls_df['URL'].apply(lambda x: x.startswith('https')).astype(int)\n",
        "\n",
        "    # Presence of hyphens in domain\n",
        "    features_df['has_hyphen'] = urls_df['URL'].apply(\n",
        "        lambda x: '-' in x.split('/')[2] if len(x.split('/')) > 2 else 0).astype(int)\n",
        "\n",
        "    # URL shortener detection (common URL shorteners)\n",
        "    url_shorteners = ['bit.ly', 'tinyurl.com', 't.co', 'goo.gl', 'is.gd', 'cli.gs', 'ow.ly']\n",
        "    features_df['is_shortened'] = urls_df['URL'].apply(\n",
        "        lambda x: any(shortener in x for shortener in url_shorteners)).astype(int)\n",
        "\n",
        "    # Add the target class from original dataset\n",
        "    features_df['is_phishing'] = urls_df['class']\n",
        "\n",
        "    return features_df"
      ],
      "metadata": {
        "id": "pgcBiNM0n_BO"
      },
      "execution_count": 9,
      "outputs": []
    },
    {
      "cell_type": "markdown",
      "source": [
        "### Extract features"
      ],
      "metadata": {
        "id": "5fnfk31AoZfE"
      }
    },
    {
      "cell_type": "code",
      "source": [
        "browser_features = extract_lightweight_features(df)"
      ],
      "metadata": {
        "id": "0aeBB7SwocLj"
      },
      "execution_count": 10,
      "outputs": []
    },
    {
      "cell_type": "markdown",
      "source": [
        "### Display sample of extracted features"
      ],
      "metadata": {
        "id": "CPNDmRPwpvJn"
      }
    },
    {
      "cell_type": "code",
      "source": [
        "print(\"\\nExtracted Features (First 5 rows):\")\n",
        "print(browser_features.head())"
      ],
      "metadata": {
        "colab": {
          "base_uri": "https://localhost:8080/"
        },
        "id": "huzXKDBbpzf3",
        "outputId": "fac78975-eca4-4d74-e630-1832158aca93"
      },
      "execution_count": 11,
      "outputs": [
        {
          "output_type": "stream",
          "name": "stdout",
          "text": [
            "\n",
            "Extracted Features (First 5 rows):\n",
            "   url_length  num_dots  num_special_chars  has_ip  has_at_symbol  \\\n",
            "0          23         2                  3       0              0   \n",
            "1          27         3                  3       0              0   \n",
            "2          24         2                  3       0              0   \n",
            "3          38         2                  5       0              0   \n",
            "4          33         3                  4       0              0   \n",
            "\n",
            "   num_subdomains  has_https  has_hyphen  is_shortened  is_phishing  \n",
            "0               2          0           0             0            1  \n",
            "1               3          0           0             0            1  \n",
            "2               2          0           0             0            1  \n",
            "3               2          1           1             0            1  \n",
            "4               3          0           1             0            1  \n"
          ]
        }
      ]
    },
    {
      "cell_type": "markdown",
      "source": [
        "### Save the processed features"
      ],
      "metadata": {
        "id": "GMnYEHVFqMMQ"
      }
    },
    {
      "cell_type": "code",
      "source": [
        "browser_features.to_csv(PROCESSED_DATA_PATH, index=False)\n",
        "\n",
        "feature_extraction_time = time.time() - start_time\n",
        "log_event(\"TIMING\", f\"Feature extraction completed in {feature_extraction_time:.2f} seconds\",\n",
        "          {\"num_features\": browser_features.shape[1] - 1})"
      ],
      "metadata": {
        "colab": {
          "base_uri": "https://localhost:8080/"
        },
        "id": "NjMFk13jqPBp",
        "outputId": "d6bef2de-4cd9-4f4d-dbaa-5976730d3b9f"
      },
      "execution_count": 12,
      "outputs": [
        {
          "output_type": "stream",
          "name": "stdout",
          "text": [
            "[2025-04-27T14:34:48.221518] TIMING: Feature extraction completed in 10.23 seconds\n"
          ]
        }
      ]
    },
    {
      "cell_type": "markdown",
      "source": [
        "## 3. Model Training"
      ],
      "metadata": {
        "id": "-oKG7s9srJDn"
      }
    },
    {
      "cell_type": "markdown",
      "source": [
        "This section trains a Random Forest classifier on our extracted features.\n",
        "Random Forest is chosen for its good performance on classification tasks\n",
        "and ability to handle non-linear relationships."
      ],
      "metadata": {
        "id": "YHtyVyxTrNC6"
      }
    },
    {
      "cell_type": "code",
      "source": [
        "log_event(\"MODEL_TRAINING\", \"Starting model training with Random Forest\")\n",
        "start_time = time.time()"
      ],
      "metadata": {
        "colab": {
          "base_uri": "https://localhost:8080/"
        },
        "id": "fwmymxVrrPEK",
        "outputId": "ba9209dc-3adf-4c68-ceec-bc00379708d3"
      },
      "execution_count": 13,
      "outputs": [
        {
          "output_type": "stream",
          "name": "stdout",
          "text": [
            "[2025-04-27T14:34:50.649220] MODEL_TRAINING: Starting model training with Random Forest\n"
          ]
        }
      ]
    },
    {
      "cell_type": "markdown",
      "source": [
        "### Prepare features and target"
      ],
      "metadata": {
        "id": "sRJCykXgratq"
      }
    },
    {
      "cell_type": "code",
      "source": [
        "X = browser_features.drop('is_phishing', axis=1)\n",
        "y = browser_features['is_phishing']"
      ],
      "metadata": {
        "id": "1xUEqGd-rfTI"
      },
      "execution_count": 14,
      "outputs": []
    },
    {
      "cell_type": "markdown",
      "source": [
        "### Split data (80-20 split)"
      ],
      "metadata": {
        "id": "FDgXIlV6rjWE"
      }
    },
    {
      "cell_type": "code",
      "source": [
        "X_train, X_test, y_train, y_test = train_test_split(X, y, test_size=0.2, random_state=42, stratify=y)"
      ],
      "metadata": {
        "id": "4yP-NEPCrojL"
      },
      "execution_count": 15,
      "outputs": []
    },
    {
      "cell_type": "markdown",
      "source": [
        "### Log the data split information"
      ],
      "metadata": {
        "id": "c5xtZK63rs19"
      }
    },
    {
      "cell_type": "code",
      "source": [
        "log_event(\"DATA_SPLIT\", \"Data split into training and testing sets\",\n",
        "          {\"train_samples\": X_train.shape[0], \"test_samples\": X_test.shape[0]})"
      ],
      "metadata": {
        "colab": {
          "base_uri": "https://localhost:8080/"
        },
        "id": "TQ7QCZS6ru5y",
        "outputId": "ad5af352-56e5-4850-a69f-f661ed54f894"
      },
      "execution_count": 16,
      "outputs": [
        {
          "output_type": "stream",
          "name": "stdout",
          "text": [
            "[2025-04-27T14:35:00.580528] DATA_SPLIT: Data split into training and testing sets\n"
          ]
        }
      ]
    },
    {
      "cell_type": "markdown",
      "source": [
        "### Feature scaling"
      ],
      "metadata": {
        "id": "gRZGT0hPryeN"
      }
    },
    {
      "cell_type": "code",
      "source": [
        "scaler = StandardScaler()\n",
        "X_train_scaled = scaler.fit_transform(X_train)\n",
        "X_test_scaled = scaler.transform(X_test)"
      ],
      "metadata": {
        "id": "vffwNU4Or2sv"
      },
      "execution_count": 17,
      "outputs": []
    },
    {
      "cell_type": "markdown",
      "source": [
        "### Train model"
      ],
      "metadata": {
        "id": "OkFxMOmar-9j"
      }
    },
    {
      "cell_type": "code",
      "source": [
        "rf_model = RandomForestClassifier(\n",
        "    n_estimators=100,\n",
        "    max_depth=20,\n",
        "    min_samples_split=10,\n",
        "    min_samples_leaf=4,\n",
        "    random_state=42,\n",
        "    n_jobs=-1\n",
        ")\n",
        "\n",
        "rf_model.fit(X_train_scaled, y_train)\n",
        "\n",
        "training_time = time.time() - start_time\n",
        "log_event(\"TIMING\", f\"Model training completed in {training_time:.2f} seconds\")"
      ],
      "metadata": {
        "colab": {
          "base_uri": "https://localhost:8080/"
        },
        "id": "fOLhoqL1sGhR",
        "outputId": "9e093c0a-be03-497e-fc77-65ae814b59da"
      },
      "execution_count": 18,
      "outputs": [
        {
          "output_type": "stream",
          "name": "stdout",
          "text": [
            "[2025-04-27T14:35:05.914675] TIMING: Model training completed in 15.27 seconds\n"
          ]
        }
      ]
    },
    {
      "cell_type": "markdown",
      "source": [
        "## 4. Model Evaluation"
      ],
      "metadata": {
        "id": "qyHFifg-sWvW"
      }
    },
    {
      "cell_type": "markdown",
      "source": [
        "This section evaluates our trained model using standard classification metrics:\n",
        "- Accuracy: Overall correctness of predictions\n",
        "- Precision: Proportion of positive identifications that were actually correct\n",
        "- Recall: Proportion of actual positives that were identified correctly\n",
        "- F1 Score: Harmonic mean of precision and recall\n",
        "- AUC: Area under the ROC curve"
      ],
      "metadata": {
        "id": "qi4gjPAlsZKo"
      }
    },
    {
      "cell_type": "code",
      "source": [
        "log_event(\"MODEL_EVALUATION\", \"Evaluating Random Forest model\")\n",
        "start_time = time.time()"
      ],
      "metadata": {
        "colab": {
          "base_uri": "https://localhost:8080/"
        },
        "id": "GT5WRBpyscIi",
        "outputId": "7b416577-898c-4944-b611-31a2cfc229c3"
      },
      "execution_count": 19,
      "outputs": [
        {
          "output_type": "stream",
          "name": "stdout",
          "text": [
            "[2025-04-27T14:35:08.328755] MODEL_EVALUATION: Evaluating Random Forest model\n"
          ]
        }
      ]
    },
    {
      "cell_type": "markdown",
      "source": [
        "### Make predictions"
      ],
      "metadata": {
        "id": "XcLyA2Kesg7g"
      }
    },
    {
      "cell_type": "code",
      "source": [
        "y_pred = rf_model.predict(X_test_scaled)\n",
        "y_pred_proba = rf_model.predict_proba(X_test_scaled)[:, 1]"
      ],
      "metadata": {
        "id": "p5J2Xko6sjGm"
      },
      "execution_count": 20,
      "outputs": []
    },
    {
      "cell_type": "markdown",
      "source": [
        "### Calculate metrics"
      ],
      "metadata": {
        "id": "sEIBZ-B7snJ5"
      }
    },
    {
      "cell_type": "code",
      "source": [
        "accuracy = accuracy_score(y_test, y_pred)\n",
        "precision = precision_score(y_test, y_pred, pos_label=0)\n",
        "recall = recall_score(y_test, y_pred, pos_label=0)\n",
        "f1 = f1_score(y_test, y_pred, pos_label=0)"
      ],
      "metadata": {
        "id": "sXx7HpuAspYR"
      },
      "execution_count": 21,
      "outputs": []
    },
    {
      "cell_type": "markdown",
      "source": [
        "### ROC curve and AUC"
      ],
      "metadata": {
        "id": "cyKoLwJCtNC2"
      }
    },
    {
      "cell_type": "code",
      "source": [
        "fpr, tpr, _ = roc_curve(y_test, y_pred_proba)\n",
        "roc_auc = auc(fpr, tpr)"
      ],
      "metadata": {
        "id": "E1JNWdydtPpG"
      },
      "execution_count": 22,
      "outputs": []
    },
    {
      "cell_type": "markdown",
      "source": [
        "### Log the evaluation metrics"
      ],
      "metadata": {
        "id": "K6yhfNIav8QX"
      }
    },
    {
      "cell_type": "code",
      "source": [
        "log_event(\"EVALUATION_METRICS\", \"Model performance metrics\", {\n",
        "    \"accuracy\": accuracy,\n",
        "    \"precision\": precision,\n",
        "    \"recall\": recall,\n",
        "    \"f1_score\": f1,\n",
        "    \"auc\": roc_auc\n",
        "})"
      ],
      "metadata": {
        "colab": {
          "base_uri": "https://localhost:8080/"
        },
        "id": "v5Fz1eGgwAYI",
        "outputId": "6019a0a4-22bb-41fd-c798-288c2e082739"
      },
      "execution_count": 23,
      "outputs": [
        {
          "output_type": "stream",
          "name": "stdout",
          "text": [
            "[2025-04-27T14:35:15.663011] EVALUATION_METRICS: Model performance metrics\n"
          ]
        }
      ]
    },
    {
      "cell_type": "markdown",
      "source": [
        "### Print model performance"
      ],
      "metadata": {
        "id": "pMHkcClwwDTr"
      }
    },
    {
      "cell_type": "code",
      "source": [
        "print(\"\\nModel Performance:\")\n",
        "print(f\"Accuracy: {accuracy:.4f}\")\n",
        "print(f\"Precision: {precision:.4f}\")\n",
        "print(f\"Recall: {recall:.4f}\")\n",
        "print(f\"F1 Score: {f1:.4f}\")\n",
        "print(f\"AUC: {roc_auc:.4f}\")"
      ],
      "metadata": {
        "colab": {
          "base_uri": "https://localhost:8080/"
        },
        "id": "yaLNMYFEwFcz",
        "outputId": "d918551c-70e2-4d67-f5a8-a09342337adb"
      },
      "execution_count": 24,
      "outputs": [
        {
          "output_type": "stream",
          "name": "stdout",
          "text": [
            "\n",
            "Model Performance:\n",
            "Accuracy: 0.9910\n",
            "Precision: 0.9925\n",
            "Recall: 0.9895\n",
            "F1 Score: 0.9910\n",
            "AUC: 0.9963\n"
          ]
        }
      ]
    },
    {
      "cell_type": "markdown",
      "source": [
        "## 5. Visualization of Results"
      ],
      "metadata": {
        "id": "rXz4Lt9bwLiS"
      }
    },
    {
      "cell_type": "markdown",
      "source": [
        "This section visualizes key aspects of our model performance:\n",
        "- Confusion Matrix: Shows the true positive, false positive, true negative, and false negative counts\n",
        "- ROC Curve: Shows the trade-off between sensitivity and specificity\n",
        "- Feature Importance: Shows which features are most influential in the model's predictions"
      ],
      "metadata": {
        "id": "YAJoJ7ZxwSPl"
      }
    },
    {
      "cell_type": "markdown",
      "source": [
        "### Plot confusion matrix"
      ],
      "metadata": {
        "id": "GRTug0vIwVhL"
      }
    },
    {
      "cell_type": "code",
      "source": [
        "plt.figure(figsize=(8, 6))\n",
        "cm = confusion_matrix(y_test, y_pred)\n",
        "sns.heatmap(cm, annot=True, fmt='d', cmap='Blues')\n",
        "plt.title('Confusion Matrix')\n",
        "plt.ylabel('True Label')\n",
        "plt.xlabel('Predicted Label')\n",
        "plt.show()"
      ],
      "metadata": {
        "colab": {
          "base_uri": "https://localhost:8080/",
          "height": 564
        },
        "id": "CDsyVogZwRTO",
        "outputId": "27a816d9-ecc5-4c41-90c7-bec5b7ece64b"
      },
      "execution_count": 25,
      "outputs": [
        {
          "output_type": "display_data",
          "data": {
            "text/plain": [
              "<Figure size 800x600 with 2 Axes>"
            ],
            "image/png": "[encoded data removed]"
          },
          "metadata": {}
        }
      ]
    },
    {
      "cell_type": "markdown",
      "source": [
        "### Plot ROC curve"
      ],
      "metadata": {
        "id": "5V3u65zuwbHs"
      }
    },
    {
      "cell_type": "code",
      "source": [
        "plt.figure(figsize=(8, 6))\n",
        "plt.plot(fpr, tpr, color='blue', lw=2, label=f'ROC curve (area = {roc_auc:.2f})')\n",
        "plt.plot([0, 1], [0, 1], color='gray', lw=2, linestyle='--')\n",
        "plt.xlim([0.0, 1.0])\n",
        "plt.ylim([0.0, 1.05])\n",
        "plt.xlabel('False Positive Rate')\n",
        "plt.ylabel('True Positive Rate')\n",
        "plt.title('Receiver Operating Characteristic')\n",
        "plt.legend(loc=\"lower right\")\n",
        "plt.show()"
      ],
      "metadata": {
        "colab": {
          "base_uri": "https://localhost:8080/",
          "height": 564
        },
        "id": "q_b0jaiQwdZ2",
        "outputId": "54374916-b440-4036-d404-bd92d15cde6d"
      },
      "execution_count": 26,
      "outputs": [
        {
          "output_type": "display_data",
          "data": {
            "text/plain": [
              "<Figure size 800x600 with 1 Axes>"
            ],
            "image/png": "[encoded data removed]"
          },
          "metadata": {}
        }
      ]
    },
    {
      "cell_type": "markdown",
      "source": [
        "### Feature importance"
      ],
      "metadata": {
        "id": "jlQjHhifwjKr"
      }
    },
    {
      "cell_type": "code",
      "source": [
        "feature_importances = pd.DataFrame(\n",
        "    rf_model.feature_importances_,\n",
        "    index=X.columns,\n",
        "    columns=['importance']\n",
        ").sort_values('importance', ascending=False)\n",
        "\n",
        "plt.figure(figsize=(10, 6))\n",
        "sns.barplot(x=feature_importances.importance, y=feature_importances.index)\n",
        "plt.title('Feature Importances')\n",
        "plt.tight_layout()\n",
        "plt.show()\n",
        "\n",
        "evaluation_time = time.time() - start_time\n",
        "log_event(\"TIMING\", f\"Model evaluation completed in {evaluation_time:.2f} seconds\")"
      ],
      "metadata": {
        "colab": {
          "base_uri": "https://localhost:8080/",
          "height": 624
        },
        "id": "UxpeCJqhwooH",
        "outputId": "4d9f2091-d388-4de2-f81b-0a79c5f48164"
      },
      "execution_count": 27,
      "outputs": [
        {
          "output_type": "display_data",
          "data": {
            "text/plain": [
              "<Figure size 1000x600 with 1 Axes>"
            ],
            "image/png": "[encoded data removed]"
          },
          "metadata": {}
        },
        {
          "output_type": "stream",
          "name": "stdout",
          "text": [
            "[2025-04-27T14:35:29.823905] TIMING: Model evaluation completed in 21.49 seconds\n"
          ]
        }
      ]
    },
    {
      "cell_type": "markdown",
      "source": [
        "## 6. Model Saving"
      ],
      "metadata": {
        "id": "_qxNwfYBwvD9"
      }
    },
    {
      "cell_type": "markdown",
      "source": [
        "This section saves the trained model and other artifacts:\n",
        "- Full model for server-side use\n",
        "- Model metadata for tracking\n",
        "- Preprocessing scaler for future use"
      ],
      "metadata": {
        "id": "-BxrPbFKwxS9"
      }
    },
    {
      "cell_type": "code",
      "source": [
        "log_event(\"MODEL_SAVING\", \"Saving model and artifacts\")\n",
        "start_time = time.time()"
      ],
      "metadata": {
        "colab": {
          "base_uri": "https://localhost:8080/"
        },
        "id": "9R9g_BYuwzSI",
        "outputId": "e18a77d4-2519-4a89-80bc-3765f92c3a94"
      },
      "execution_count": 28,
      "outputs": [
        {
          "output_type": "stream",
          "name": "stdout",
          "text": [
            "[2025-04-27T14:35:33.216462] MODEL_SAVING: Saving model and artifacts\n"
          ]
        }
      ]
    },
    {
      "cell_type": "markdown",
      "source": [
        "### Test model with known good and bad URLs"
      ],
      "metadata": {
        "id": "WQhcmcrOpsGz"
      }
    },
    {
      "cell_type": "code",
      "source": [
        "print(\"\\nTesting model with known URLs:\")\n",
        "\n",
        "# Define test URLs - sample from test data\n",
        "good_mask = (y_test == 0)\n",
        "bad_mask = (y_test == 1)\n",
        "\n",
        "# Get a few examples of each class\n",
        "good_urls = X_test[good_mask].iloc[:3]\n",
        "bad_urls = X_test[bad_mask].iloc[:3]\n",
        "\n",
        "# Function to test prediction\n",
        "def test_prediction(features, label, expected_class):\n",
        "    features_scaled = scaler.transform(features)\n",
        "    pred_class = rf_model.predict(features_scaled)\n",
        "    pred_proba = rf_model.predict_proba(features_scaled)\n",
        "\n",
        "    for i in range(len(features)):\n",
        "        print(f\"{label} URL #{i+1}:\")\n",
        "        print(f\"  Predicted class: {pred_class[i]} ({'Phishing' if pred_class[i] == 1 else 'Legitimate'})\")\n",
        "        print(f\"  Probability of phishing: {pred_proba[i][1]:.4f}\")\n",
        "        print(f\"  Probability of legitimate: {pred_proba[i][0]:.4f}\")\n",
        "        print(f\"  Correct prediction: {pred_class[i] == expected_class}\")\n",
        "        print()\n",
        "\n",
        "print(\"Testing legitimate URLs:\")\n",
        "test_prediction(good_urls, \"Legitimate\", 0)\n",
        "\n",
        "print(\"Testing phishing URLs:\")\n",
        "test_prediction(bad_urls, \"Phishing\", 1)"
      ],
      "metadata": {
        "colab": {
          "base_uri": "https://localhost:8080/"
        },
        "id": "fitbzXN1pp90",
        "outputId": "43dce312-5df4-4e3f-e391-d664dcd52577"
      },
      "execution_count": 30,
      "outputs": [
        {
          "output_type": "stream",
          "name": "stdout",
          "text": [
            "\n",
            "Testing model with known URLs:\n",
            "Testing legitimate URLs:\n",
            "Legitimate URL #1:\n",
            "  Predicted class: 0 (Legitimate)\n",
            "  Probability of phishing: 0.0364\n",
            "  Probability of legitimate: 0.9636\n",
            "  Correct prediction: True\n",
            "\n",
            "Legitimate URL #2:\n",
            "  Predicted class: 0 (Legitimate)\n",
            "  Probability of phishing: 0.0057\n",
            "  Probability of legitimate: 0.9943\n",
            "  Correct prediction: True\n",
            "\n",
            "Legitimate URL #3:\n",
            "  Predicted class: 0 (Legitimate)\n",
            "  Probability of phishing: 0.0140\n",
            "  Probability of legitimate: 0.9860\n",
            "  Correct prediction: True\n",
            "\n",
            "Testing phishing URLs:\n",
            "Phishing URL #1:\n",
            "  Predicted class: 1 (Phishing)\n",
            "  Probability of phishing: 1.0000\n",
            "  Probability of legitimate: 0.0000\n",
            "  Correct prediction: True\n",
            "\n",
            "Phishing URL #2:\n",
            "  Predicted class: 1 (Phishing)\n",
            "  Probability of phishing: 0.9816\n",
            "  Probability of legitimate: 0.0184\n",
            "  Correct prediction: True\n",
            "\n",
            "Phishing URL #3:\n",
            "  Predicted class: 1 (Phishing)\n",
            "  Probability of phishing: 1.0000\n",
            "  Probability of legitimate: 0.0000\n",
            "  Correct prediction: True\n",
            "\n"
          ]
        }
      ]
    },
    {
      "cell_type": "markdown",
      "source": [
        "### Save the model"
      ],
      "metadata": {
        "id": "4nDv3zLvw4Bp"
      }
    },
    {
      "cell_type": "code",
      "source": [
        "joblib.dump(rf_model, MODEL_OUTPUT_PATH)"
      ],
      "metadata": {
        "colab": {
          "base_uri": "https://localhost:8080/"
        },
        "id": "WdmkAmMZw6Ib",
        "outputId": "2cdf1d8a-32fb-40df-e87d-6657f5179f38"
      },
      "execution_count": 31,
      "outputs": [
        {
          "output_type": "execute_result",
          "data": {
            "text/plain": [
              "['/content/drive/MyDrive/PUSL3190/models/random_forest_model/random_forest_model.pkl']"
            ]
          },
          "metadata": {},
          "execution_count": 31
        }
      ]
    },
    {
      "cell_type": "markdown",
      "source": [
        "### Save the scaler for future preprocessing"
      ],
      "metadata": {
        "id": "scTF_16MxUn9"
      }
    },
    {
      "cell_type": "code",
      "source": [
        "joblib.dump(scaler, f'{BASE_PATH}/models/random_forest_model/random_forest_scaler.pkl')"
      ],
      "metadata": {
        "colab": {
          "base_uri": "https://localhost:8080/"
        },
        "id": "zzQ3pJYPxcvy",
        "outputId": "f7be7bbf-3f7f-4be2-dee7-2ba914c9ff0e"
      },
      "execution_count": 32,
      "outputs": [
        {
          "output_type": "execute_result",
          "data": {
            "text/plain": [
              "['/content/drive/MyDrive/PUSL3190/models/random_forest_model/random_forest_scaler.pkl']"
            ]
          },
          "metadata": {},
          "execution_count": 32
        }
      ]
    },
    {
      "cell_type": "markdown",
      "source": [
        "### Save model parameters and metadata"
      ],
      "metadata": {
        "id": "hTV6NeQOxfeO"
      }
    },
    {
      "cell_type": "code",
      "source": [
        "model_info = {\n",
        "    \"name\": \"random_forest_model\",\n",
        "    \"type\": \"random_forest\",\n",
        "    \"version\": \"2.0\",\n",
        "    \"trained_at\": datetime.now().isoformat(),\n",
        "    \"accuracy\": float(accuracy),\n",
        "    \"precision\": float(precision),\n",
        "    \"recall\": float(recall),\n",
        "    \"f1_score\": float(f1),\n",
        "    \"auc\": float(roc_auc),\n",
        "    \"parameters\": {\n",
        "        \"n_estimators\": rf_model.n_estimators,\n",
        "        \"max_depth\": rf_model.max_depth,\n",
        "        \"min_samples_split\": rf_model.min_samples_split,\n",
        "        \"min_samples_leaf\": rf_model.min_samples_leaf\n",
        "    },\n",
        "    \"feature_list\": list(X.columns),\n",
        "    \"label_encoding\": {\n",
        "        \"0\": \"legitimate\",\n",
        "        \"1\": \"phishing\"\n",
        "    },\n",
        "    \"feature_importances\": {\n",
        "        \"importance\": {name: float(importance) for name, importance in zip(X.columns, rf_model.feature_importances_)}\n",
        "    },\n",
        "    \"dataset_size\": df.shape[0],\n",
        "    \"training_samples\": X_train.shape[0],\n",
        "    \"test_samples\": X_test.shape[0]\n",
        "}\n",
        "\n",
        "with open(f'{BASE_PATH}/models/random_forest_model/random_forest_metadata.json', 'w') as f:\n",
        "    json.dump(model_info, f, indent=2)"
      ],
      "metadata": {
        "id": "yZaoYhNNxjND"
      },
      "execution_count": 33,
      "outputs": []
    },
    {
      "cell_type": "markdown",
      "source": [
        "## 7. Lightweight Model for Browser Extension"
      ],
      "metadata": {
        "id": "f_IcdspIxt8y"
      }
    },
    {
      "cell_type": "markdown",
      "source": [
        "This section creates a smaller, more efficient model version\n",
        "optimized for use in a browser extension where resources are limited.\n",
        "We use only the top features and a simpler model configuration."
      ],
      "metadata": {
        "id": "ke4McjSDxwe1"
      }
    },
    {
      "cell_type": "code",
      "source": [
        "log_event(\"MODEL_EXPORT\", \"Exporting lightweight model for browser extension\")"
      ],
      "metadata": {
        "colab": {
          "base_uri": "https://localhost:8080/"
        },
        "id": "P9KuYlngxzAG",
        "outputId": "6251dcbe-d52f-40f3-9a95-58f6f9e5475c"
      },
      "execution_count": 34,
      "outputs": [
        {
          "output_type": "stream",
          "name": "stdout",
          "text": [
            "[2025-04-27T14:39:14.166349] MODEL_EXPORT: Exporting lightweight model for browser extension\n"
          ]
        }
      ]
    },
    {
      "cell_type": "markdown",
      "source": [
        "### Get the most important features (top 5)"
      ],
      "metadata": {
        "id": "OqS0tw5nx1wt"
      }
    },
    {
      "cell_type": "code",
      "source": [
        "top_features = feature_importances.head(5).index.tolist()\n",
        "print(f\"\\nTop 5 features selected for lightweight model: {top_features}\")"
      ],
      "metadata": {
        "colab": {
          "base_uri": "https://localhost:8080/"
        },
        "id": "t4wjmpqwx37V",
        "outputId": "6909edad-ee3b-44bc-922e-aebb9056aef6"
      },
      "execution_count": 35,
      "outputs": [
        {
          "output_type": "stream",
          "name": "stdout",
          "text": [
            "\n",
            "Top 5 features selected for lightweight model: ['has_https', 'num_special_chars', 'url_length', 'has_hyphen', 'num_subdomains']\n"
          ]
        }
      ]
    },
    {
      "cell_type": "markdown",
      "source": [
        "### Train a smaller model with just the top features"
      ],
      "metadata": {
        "id": "mERIFFl5x_Xr"
      }
    },
    {
      "cell_type": "code",
      "source": [
        "small_rf = RandomForestClassifier(\n",
        "    n_estimators=20,  # trees count lowered for faster prediction\n",
        "    max_depth=10,\n",
        "    min_samples_split=10,\n",
        "    random_state=42\n",
        ")"
      ],
      "metadata": {
        "id": "pFRhCCIDyAjI"
      },
      "execution_count": 36,
      "outputs": []
    },
    {
      "cell_type": "markdown",
      "source": [
        "### Use only the top features"
      ],
      "metadata": {
        "id": "7PURzbuUyUL6"
      }
    },
    {
      "cell_type": "code",
      "source": [
        "X_train_small = X_train[top_features]\n",
        "X_test_small = X_test[top_features]"
      ],
      "metadata": {
        "id": "Q8JBcQMyyWhJ"
      },
      "execution_count": 37,
      "outputs": []
    },
    {
      "cell_type": "markdown",
      "source": [
        "### Train the small model"
      ],
      "metadata": {
        "id": "xCYCqAEHyY4c"
      }
    },
    {
      "cell_type": "code",
      "source": [
        "small_rf.fit(X_train_small, y_train)"
      ],
      "metadata": {
        "colab": {
          "base_uri": "https://localhost:8080/",
          "height": 98
        },
        "id": "R8PXZEKcya2A",
        "outputId": "7b1eb6f5-67b4-462a-b5cf-c0e51f98d841"
      },
      "execution_count": 38,
      "outputs": [
        {
          "output_type": "execute_result",
          "data": {
            "text/plain": [
              "RandomForestClassifier(max_depth=10, min_samples_split=10, n_estimators=20,\n",
              "                       random_state=42)"
            ],
            "text/html": [
              "<style>#sk-container-id-1 {\n",
              "  /* Definition of color scheme common for light and dark mode */\n",
              "  --sklearn-color-text: #000;\n",
              "  --sklearn-color-text-muted: #666;\n",
              "  --sklearn-color-line: gray;\n",
              "  /* Definition of color scheme for unfitted estimators */\n",
              "  --sklearn-color-unfitted-level-0: #fff5e6;\n",
              "  --sklearn-color-unfitted-level-1: #f6e4d2;\n",
              "  --sklearn-color-unfitted-level-2: #ffe0b3;\n",
              "  --sklearn-color-unfitted-level-3: chocolate;\n",
              "  /* Definition of color scheme for fitted estimators */\n",
              "  --sklearn-color-fitted-level-0: #f0f8ff;\n",
              "  --sklearn-color-fitted-level-1: #d4ebff;\n",
              "  --sklearn-color-fitted-level-2: #b3dbfd;\n",
              "  --sklearn-color-fitted-level-3: cornflowerblue;\n",
              "\n",
              "  /* Specific color for light theme */\n",
              "  --sklearn-color-text-on-default-background: var(--sg-text-color, var(--theme-code-foreground, var(--jp-content-font-color1, black)));\n",
              "  --sklearn-color-background: var(--sg-background-color, var(--theme-background, var(--jp-layout-color0, white)));\n",
              "  --sklearn-color-border-box: var(--sg-text-color, var(--theme-code-foreground, var(--jp-content-font-color1, black)));\n",
              "  --sklearn-color-icon: #696969;\n",
              "\n",
              "  @media (prefers-color-scheme: dark) {\n",
              "    /* Redefinition of color scheme for dark theme */\n",
              "    --sklearn-color-text-on-default-background: var(--sg-text-color, var(--theme-code-foreground, var(--jp-content-font-color1, white)));\n",
              "    --sklearn-color-background: var(--sg-background-color, var(--theme-background, var(--jp-layout-color0, #111)));\n",
              "    --sklearn-color-border-box: var(--sg-text-color, var(--theme-code-foreground, var(--jp-content-font-color1, white)));\n",
              "    --sklearn-color-icon: #878787;\n",
              "  }\n",
              "}\n",
              "\n",
              "#sk-container-id-1 {\n",
              "  color: var(--sklearn-color-text);\n",
              "}\n",
              "\n",
              "#sk-container-id-1 pre {\n",
              "  padding: 0;\n",
              "}\n",
              "\n",
              "#sk-container-id-1 input.sk-hidden--visually {\n",
              "  border: 0;\n",
              "  clip: rect(1px 1px 1px 1px);\n",
              "  clip: rect(1px, 1px, 1px, 1px);\n",
              "  height: 1px;\n",
              "  margin: -1px;\n",
              "  overflow: hidden;\n",
              "  padding: 0;\n",
              "  position: absolute;\n",
              "  width: 1px;\n",
              "}\n",
              "\n",
              "#sk-container-id-1 div.sk-dashed-wrapped {\n",
              "  border: 1px dashed var(--sklearn-color-line);\n",
              "  margin: 0 0.4em 0.5em 0.4em;\n",
              "  box-sizing: border-box;\n",
              "  padding-bottom: 0.4em;\n",
              "  background-color: var(--sklearn-color-background);\n",
              "}\n",
              "\n",
              "#sk-container-id-1 div.sk-container {\n",
              "  /* jupyter's `normalize.less` sets `[hidden] { display: none; }`\n",
              "     but bootstrap.min.css set `[hidden] { display: none !important; }`\n",
              "     so we also need the `!important` here to be able to override the\n",
              "     default hidden behavior on the sphinx rendered scikit-learn.org.\n",
              "     See: https://github.com/scikit-learn/scikit-learn/issues/21755 */\n",
              "  display: inline-block !important;\n",
              "  position: relative;\n",
              "}\n",
              "\n",
              "#sk-container-id-1 div.sk-text-repr-fallback {\n",
              "  display: none;\n",
              "}\n",
              "\n",
              "div.sk-parallel-item,\n",
              "div.sk-serial,\n",
              "div.sk-item {\n",
              "  /* draw centered vertical line to link estimators */\n",
              "  background-image: linear-gradient(var(--sklearn-color-text-on-default-background), var(--sklearn-color-text-on-default-background));\n",
              "  background-size: 2px 100%;\n",
              "  background-repeat: no-repeat;\n",
              "  background-position: center center;\n",
              "}\n",
              "\n",
              "/* Parallel-specific style estimator block */\n",
              "\n",
              "#sk-container-id-1 div.sk-parallel-item::after {\n",
              "  content: \"\";\n",
              "  width: 100%;\n",
              "  border-bottom: 2px solid var(--sklearn-color-text-on-default-background);\n",
              "  flex-grow: 1;\n",
              "}\n",
              "\n",
              "#sk-container-id-1 div.sk-parallel {\n",
              "  display: flex;\n",
              "  align-items: stretch;\n",
              "  justify-content: center;\n",
              "  background-color: var(--sklearn-color-background);\n",
              "  position: relative;\n",
              "}\n",
              "\n",
              "#sk-container-id-1 div.sk-parallel-item {\n",
              "  display: flex;\n",
              "  flex-direction: column;\n",
              "}\n",
              "\n",
              "#sk-container-id-1 div.sk-parallel-item:first-child::after {\n",
              "  align-self: flex-end;\n",
              "  width: 50%;\n",
              "}\n",
              "\n",
              "#sk-container-id-1 div.sk-parallel-item:last-child::after {\n",
              "  align-self: flex-start;\n",
              "  width: 50%;\n",
              "}\n",
              "\n",
              "#sk-container-id-1 div.sk-parallel-item:only-child::after {\n",
              "  width: 0;\n",
              "}\n",
              "\n",
              "/* Serial-specific style estimator block */\n",
              "\n",
              "#sk-container-id-1 div.sk-serial {\n",
              "  display: flex;\n",
              "  flex-direction: column;\n",
              "  align-items: center;\n",
              "  background-color: var(--sklearn-color-background);\n",
              "  padding-right: 1em;\n",
              "  padding-left: 1em;\n",
              "}\n",
              "\n",
              "\n",
              "/* Toggleable style: style used for estimator/Pipeline/ColumnTransformer box that is\n",
              "clickable and can be expanded/collapsed.\n",
              "- Pipeline and ColumnTransformer use this feature and define the default style\n",
              "- Estimators will overwrite some part of the style using the `sk-estimator` class\n",
              "*/\n",
              "\n",
              "/* Pipeline and ColumnTransformer style (default) */\n",
              "\n",
              "#sk-container-id-1 div.sk-toggleable {\n",
              "  /* Default theme specific background. It is overwritten whether we have a\n",
              "  specific estimator or a Pipeline/ColumnTransformer */\n",
              "  background-color: var(--sklearn-color-background);\n",
              "}\n",
              "\n",
              "/* Toggleable label */\n",
              "#sk-container-id-1 label.sk-toggleable__label {\n",
              "  cursor: pointer;\n",
              "  display: flex;\n",
              "  width: 100%;\n",
              "  margin-bottom: 0;\n",
              "  padding: 0.5em;\n",
              "  box-sizing: border-box;\n",
              "  text-align: center;\n",
              "  align-items: start;\n",
              "  justify-content: space-between;\n",
              "  gap: 0.5em;\n",
              "}\n",
              "\n",
              "#sk-container-id-1 label.sk-toggleable__label .caption {\n",
              "  font-size: 0.6rem;\n",
              "  font-weight: lighter;\n",
              "  color: var(--sklearn-color-text-muted);\n",
              "}\n",
              "\n",
              "#sk-container-id-1 label.sk-toggleable__label-arrow:before {\n",
              "  /* Arrow on the left of the label */\n",
              "  content: \"▸\";\n",
              "  float: left;\n",
              "  margin-right: 0.25em;\n",
              "  color: var(--sklearn-color-icon);\n",
              "}\n",
              "\n",
              "#sk-container-id-1 label.sk-toggleable__label-arrow:hover:before {\n",
              "  color: var(--sklearn-color-text);\n",
              "}\n",
              "\n",
              "/* Toggleable content - dropdown */\n",
              "\n",
              "#sk-container-id-1 div.sk-toggleable__content {\n",
              "  max-height: 0;\n",
              "  max-width: 0;\n",
              "  overflow: hidden;\n",
              "  text-align: left;\n",
              "  /* unfitted */\n",
              "  background-color: var(--sklearn-color-unfitted-level-0);\n",
              "}\n",
              "\n",
              "#sk-container-id-1 div.sk-toggleable__content.fitted {\n",
              "  /* fitted */\n",
              "  background-color: var(--sklearn-color-fitted-level-0);\n",
              "}\n",
              "\n",
              "#sk-container-id-1 div.sk-toggleable__content pre {\n",
              "  margin: 0.2em;\n",
              "  border-radius: 0.25em;\n",
              "  color: var(--sklearn-color-text);\n",
              "  /* unfitted */\n",
              "  background-color: var(--sklearn-color-unfitted-level-0);\n",
              "}\n",
              "\n",
              "#sk-container-id-1 div.sk-toggleable__content.fitted pre {\n",
              "  /* unfitted */\n",
              "  background-color: var(--sklearn-color-fitted-level-0);\n",
              "}\n",
              "\n",
              "#sk-container-id-1 input.sk-toggleable__control:checked~div.sk-toggleable__content {\n",
              "  /* Expand drop-down */\n",
              "  max-height: 200px;\n",
              "  max-width: 100%;\n",
              "  overflow: auto;\n",
              "}\n",
              "\n",
              "#sk-container-id-1 input.sk-toggleable__control:checked~label.sk-toggleable__label-arrow:before {\n",
              "  content: \"▾\";\n",
              "}\n",
              "\n",
              "/* Pipeline/ColumnTransformer-specific style */\n",
              "\n",
              "#sk-container-id-1 div.sk-label input.sk-toggleable__control:checked~label.sk-toggleable__label {\n",
              "  color: var(--sklearn-color-text);\n",
              "  background-color: var(--sklearn-color-unfitted-level-2);\n",
              "}\n",
              "\n",
              "#sk-container-id-1 div.sk-label.fitted input.sk-toggleable__control:checked~label.sk-toggleable__label {\n",
              "  background-color: var(--sklearn-color-fitted-level-2);\n",
              "}\n",
              "\n",
              "/* Estimator-specific style */\n",
              "\n",
              "/* Colorize estimator box */\n",
              "#sk-container-id-1 div.sk-estimator input.sk-toggleable__control:checked~label.sk-toggleable__label {\n",
              "  /* unfitted */\n",
              "  background-color: var(--sklearn-color-unfitted-level-2);\n",
              "}\n",
              "\n",
              "#sk-container-id-1 div.sk-estimator.fitted input.sk-toggleable__control:checked~label.sk-toggleable__label {\n",
              "  /* fitted */\n",
              "  background-color: var(--sklearn-color-fitted-level-2);\n",
              "}\n",
              "\n",
              "#sk-container-id-1 div.sk-label label.sk-toggleable__label,\n",
              "#sk-container-id-1 div.sk-label label {\n",
              "  /* The background is the default theme color */\n",
              "  color: var(--sklearn-color-text-on-default-background);\n",
              "}\n",
              "\n",
              "/* On hover, darken the color of the background */\n",
              "#sk-container-id-1 div.sk-label:hover label.sk-toggleable__label {\n",
              "  color: var(--sklearn-color-text);\n",
              "  background-color: var(--sklearn-color-unfitted-level-2);\n",
              "}\n",
              "\n",
              "/* Label box, darken color on hover, fitted */\n",
              "#sk-container-id-1 div.sk-label.fitted:hover label.sk-toggleable__label.fitted {\n",
              "  color: var(--sklearn-color-text);\n",
              "  background-color: var(--sklearn-color-fitted-level-2);\n",
              "}\n",
              "\n",
              "/* Estimator label */\n",
              "\n",
              "#sk-container-id-1 div.sk-label label {\n",
              "  font-family: monospace;\n",
              "  font-weight: bold;\n",
              "  display: inline-block;\n",
              "  line-height: 1.2em;\n",
              "}\n",
              "\n",
              "#sk-container-id-1 div.sk-label-container {\n",
              "  text-align: center;\n",
              "}\n",
              "\n",
              "/* Estimator-specific */\n",
              "#sk-container-id-1 div.sk-estimator {\n",
              "  font-family: monospace;\n",
              "  border: 1px dotted var(--sklearn-color-border-box);\n",
              "  border-radius: 0.25em;\n",
              "  box-sizing: border-box;\n",
              "  margin-bottom: 0.5em;\n",
              "  /* unfitted */\n",
              "  background-color: var(--sklearn-color-unfitted-level-0);\n",
              "}\n",
              "\n",
              "#sk-container-id-1 div.sk-estimator.fitted {\n",
              "  /* fitted */\n",
              "  background-color: var(--sklearn-color-fitted-level-0);\n",
              "}\n",
              "\n",
              "/* on hover */\n",
              "#sk-container-id-1 div.sk-estimator:hover {\n",
              "  /* unfitted */\n",
              "  background-color: var(--sklearn-color-unfitted-level-2);\n",
              "}\n",
              "\n",
              "#sk-container-id-1 div.sk-estimator.fitted:hover {\n",
              "  /* fitted */\n",
              "  background-color: var(--sklearn-color-fitted-level-2);\n",
              "}\n",
              "\n",
              "/* Specification for estimator info (e.g. \"i\" and \"?\") */\n",
              "\n",
              "/* Common style for \"i\" and \"?\" */\n",
              "\n",
              ".sk-estimator-doc-link,\n",
              "a:link.sk-estimator-doc-link,\n",
              "a:visited.sk-estimator-doc-link {\n",
              "  float: right;\n",
              "  font-size: smaller;\n",
              "  line-height: 1em;\n",
              "  font-family: monospace;\n",
              "  background-color: var(--sklearn-color-background);\n",
              "  border-radius: 1em;\n",
              "  height: 1em;\n",
              "  width: 1em;\n",
              "  text-decoration: none !important;\n",
              "  margin-left: 0.5em;\n",
              "  text-align: center;\n",
              "  /* unfitted */\n",
              "  border: var(--sklearn-color-unfitted-level-1) 1pt solid;\n",
              "  color: var(--sklearn-color-unfitted-level-1);\n",
              "}\n",
              "\n",
              ".sk-estimator-doc-link.fitted,\n",
              "a:link.sk-estimator-doc-link.fitted,\n",
              "a:visited.sk-estimator-doc-link.fitted {\n",
              "  /* fitted */\n",
              "  border: var(--sklearn-color-fitted-level-1) 1pt solid;\n",
              "  color: var(--sklearn-color-fitted-level-1);\n",
              "}\n",
              "\n",
              "/* On hover */\n",
              "div.sk-estimator:hover .sk-estimator-doc-link:hover,\n",
              ".sk-estimator-doc-link:hover,\n",
              "div.sk-label-container:hover .sk-estimator-doc-link:hover,\n",
              ".sk-estimator-doc-link:hover {\n",
              "  /* unfitted */\n",
              "  background-color: var(--sklearn-color-unfitted-level-3);\n",
              "  color: var(--sklearn-color-background);\n",
              "  text-decoration: none;\n",
              "}\n",
              "\n",
              "div.sk-estimator.fitted:hover .sk-estimator-doc-link.fitted:hover,\n",
              ".sk-estimator-doc-link.fitted:hover,\n",
              "div.sk-label-container:hover .sk-estimator-doc-link.fitted:hover,\n",
              ".sk-estimator-doc-link.fitted:hover {\n",
              "  /* fitted */\n",
              "  background-color: var(--sklearn-color-fitted-level-3);\n",
              "  color: var(--sklearn-color-background);\n",
              "  text-decoration: none;\n",
              "}\n",
              "\n",
              "/* Span, style for the box shown on hovering the info icon */\n",
              ".sk-estimator-doc-link span {\n",
              "  display: none;\n",
              "  z-index: 9999;\n",
              "  position: relative;\n",
              "  font-weight: normal;\n",
              "  right: .2ex;\n",
              "  padding: .5ex;\n",
              "  margin: .5ex;\n",
              "  width: min-content;\n",
              "  min-width: 20ex;\n",
              "  max-width: 50ex;\n",
              "  color: var(--sklearn-color-text);\n",
              "  box-shadow: 2pt 2pt 4pt #999;\n",
              "  /* unfitted */\n",
              "  background: var(--sklearn-color-unfitted-level-0);\n",
              "  border: .5pt solid var(--sklearn-color-unfitted-level-3);\n",
              "}\n",
              "\n",
              ".sk-estimator-doc-link.fitted span {\n",
              "  /* fitted */\n",
              "  background: var(--sklearn-color-fitted-level-0);\n",
              "  border: var(--sklearn-color-fitted-level-3);\n",
              "}\n",
              "\n",
              ".sk-estimator-doc-link:hover span {\n",
              "  display: block;\n",
              "}\n",
              "\n",
              "/* \"?\"-specific style due to the `<a>` HTML tag */\n",
              "\n",
              "#sk-container-id-1 a.estimator_doc_link {\n",
              "  float: right;\n",
              "  font-size: 1rem;\n",
              "  line-height: 1em;\n",
              "  font-family: monospace;\n",
              "  background-color: var(--sklearn-color-background);\n",
              "  border-radius: 1rem;\n",
              "  height: 1rem;\n",
              "  width: 1rem;\n",
              "  text-decoration: none;\n",
              "  /* unfitted */\n",
              "  color: var(--sklearn-color-unfitted-level-1);\n",
              "  border: var(--sklearn-color-unfitted-level-1) 1pt solid;\n",
              "}\n",
              "\n",
              "#sk-container-id-1 a.estimator_doc_link.fitted {\n",
              "  /* fitted */\n",
              "  border: var(--sklearn-color-fitted-level-1) 1pt solid;\n",
              "  color: var(--sklearn-color-fitted-level-1);\n",
              "}\n",
              "\n",
              "/* On hover */\n",
              "#sk-container-id-1 a.estimator_doc_link:hover {\n",
              "  /* unfitted */\n",
              "  background-color: var(--sklearn-color-unfitted-level-3);\n",
              "  color: var(--sklearn-color-background);\n",
              "  text-decoration: none;\n",
              "}\n",
              "\n",
              "#sk-container-id-1 a.estimator_doc_link.fitted:hover {\n",
              "  /* fitted */\n",
              "  background-color: var(--sklearn-color-fitted-level-3);\n",
              "}\n",
              "</style><div id=\"sk-container-id-1\" class=\"sk-top-container\"><div class=\"sk-text-repr-fallback\"><pre>RandomForestClassifier(max_depth=10, min_samples_split=10, n_estimators=20,\n",
              "                       random_state=42)</pre><b>In a Jupyter environment, please rerun this cell to show the HTML representation or trust the notebook. <br />On GitHub, the HTML representation is unable to render, please try loading this page with nbviewer.org.</b></div><div class=\"sk-container\" hidden><div class=\"sk-item\"><div class=\"sk-estimator fitted sk-toggleable\"><input class=\"sk-toggleable__control sk-hidden--visually\" id=\"sk-estimator-id-1\" type=\"checkbox\" checked><label for=\"sk-estimator-id-1\" class=\"sk-toggleable__label fitted sk-toggleable__label-arrow\"><div><div>RandomForestClassifier</div></div><div><a class=\"sk-estimator-doc-link fitted\" rel=\"noreferrer\" target=\"_blank\" href=\"https://scikit-learn.org/1.6/modules/generated/sklearn.ensemble.RandomForestClassifier.html\">?<span>Documentation for RandomForestClassifier</span></a><span class=\"sk-estimator-doc-link fitted\">i<span>Fitted</span></span></div></label><div class=\"sk-toggleable__content fitted\"><pre>RandomForestClassifier(max_depth=10, min_samples_split=10, n_estimators=20,\n",
              "                       random_state=42)</pre></div> </div></div></div></div>"
            ]
          },
          "metadata": {},
          "execution_count": 38
        }
      ]
    },
    {
      "cell_type": "markdown",
      "source": [
        "### Evaluate the small model"
      ],
      "metadata": {
        "id": "zPlhtapAyhVk"
      }
    },
    {
      "cell_type": "code",
      "source": [
        "small_pred = small_rf.predict(X_test_small)\n",
        "small_accuracy = accuracy_score(y_test, small_pred)\n",
        "small_precision = precision_score(y_test, small_pred, pos_label=0)\n",
        "small_recall = recall_score(y_test, small_pred, pos_label=0)\n",
        "small_f1 = f1_score(y_test, small_pred, pos_label=0)\n",
        "\n",
        "log_event(\"SMALL_MODEL_EVALUATION\", \"Lightweight model performance\",\n",
        "          {\n",
        "              \"accuracy\": small_accuracy,\n",
        "              \"precision\": small_precision,\n",
        "              \"recall\": small_recall,\n",
        "              \"f1_score\": small_f1,\n",
        "              \"features_used\": top_features\n",
        "          })"
      ],
      "metadata": {
        "colab": {
          "base_uri": "https://localhost:8080/"
        },
        "id": "eYe3MWhUykxN",
        "outputId": "9e95f499-d7aa-486f-e945-cbc0005adbe6"
      },
      "execution_count": 39,
      "outputs": [
        {
          "output_type": "stream",
          "name": "stdout",
          "text": [
            "[2025-04-27T14:39:22.876080] SMALL_MODEL_EVALUATION: Lightweight model performance\n"
          ]
        }
      ]
    },
    {
      "cell_type": "markdown",
      "source": [
        "### Save the small model"
      ],
      "metadata": {
        "id": "BMUXUwrxyzig"
      }
    },
    {
      "cell_type": "code",
      "source": [
        "joblib.dump(small_rf, f'{BASE_PATH}/models/random_forest_model/random_forest_lightweight.pkl')"
      ],
      "metadata": {
        "colab": {
          "base_uri": "https://localhost:8080/"
        },
        "id": "GbH8PyeDy0fJ",
        "outputId": "196a2f21-6b75-4f22-819d-727937782d2c"
      },
      "execution_count": 40,
      "outputs": [
        {
          "output_type": "execute_result",
          "data": {
            "text/plain": [
              "['/content/drive/MyDrive/PUSL3190/models/random_forest_model/random_forest_lightweight.pkl']"
            ]
          },
          "metadata": {},
          "execution_count": 40
        }
      ]
    },
    {
      "cell_type": "markdown",
      "source": [
        "### Display performance comparison"
      ],
      "metadata": {
        "id": "KoL_uZYBy7NR"
      }
    },
    {
      "cell_type": "code",
      "source": [
        "print(\"\\nModel Performance Comparison:\")\n",
        "print(f\"{'Metric':<10} {'Full Model':<15} {'Lightweight Model':<15}\")\n",
        "print(f\"{'-'*40}\")\n",
        "print(f\"{'Accuracy':<10} {accuracy:.4f}{' '*10} {small_accuracy:.4f}\")\n",
        "print(f\"{'Precision':<10} {precision:.4f}{' '*10} {small_precision:.4f}\")\n",
        "print(f\"{'Recall':<10} {recall:.4f}{' '*10} {small_recall:.4f}\")\n",
        "print(f\"{'F1 Score':<10} {f1:.4f}{' '*10} {small_f1:.4f}\")\n",
        "print(f\"\\nFeature reduction: {X.shape[1]} → {len(top_features)} features\")\n",
        "print(f\"Model size reduction: {rf_model.n_estimators} → {small_rf.n_estimators} trees\")"
      ],
      "metadata": {
        "colab": {
          "base_uri": "https://localhost:8080/"
        },
        "id": "bd7DTeZ5y96Q",
        "outputId": "36e4a35a-c9ad-4a8a-fb0f-0ae8c9ca1508"
      },
      "execution_count": 41,
      "outputs": [
        {
          "output_type": "stream",
          "name": "stdout",
          "text": [
            "\n",
            "Model Performance Comparison:\n",
            "Metric     Full Model      Lightweight Model\n",
            "----------------------------------------\n",
            "Accuracy   0.9910           0.9902\n",
            "Precision  0.9925           0.9910\n",
            "Recall     0.9895           0.9895\n",
            "F1 Score   0.9910           0.9902\n",
            "\n",
            "Feature reduction: 9 → 5 features\n",
            "Model size reduction: 100 → 20 trees\n"
          ]
        }
      ]
    },
    {
      "cell_type": "markdown",
      "source": [
        "## 8. Summary"
      ],
      "metadata": {
        "id": "0O6TqgQOzOi1"
      }
    },
    {
      "cell_type": "markdown",
      "source": [
        "### Save all logs to file"
      ],
      "metadata": {
        "id": "fygd5AzI4kwN"
      }
    },
    {
      "cell_type": "code",
      "source": [
        "saving_time = time.time() - start_time\n",
        "log_event(\"TIMING\", f\"Model saving completed in {saving_time:.2f} seconds\")"
      ],
      "metadata": {
        "id": "enAZ3AmFOReK",
        "colab": {
          "base_uri": "https://localhost:8080/"
        },
        "outputId": "9a052bb0-8eb2-4c66-a2b8-6580d5535191"
      },
      "execution_count": 42,
      "outputs": [
        {
          "output_type": "stream",
          "name": "stdout",
          "text": [
            "[2025-04-27T14:39:28.071346] TIMING: Model saving completed in 234.85 seconds\n"
          ]
        }
      ]
    },
    {
      "cell_type": "code",
      "source": [
        "# Modified code to append logs instead of overwriting\n",
        "def save_logs_with_append(log_data, log_file_path):\n",
        "    # Check if file exists\n",
        "    try:\n",
        "        with open(log_file_path, 'r') as f:\n",
        "            # Try to load existing logs\n",
        "            try:\n",
        "                existing_logs = json.load(f)\n",
        "                # Make sure existing_logs is a list\n",
        "                if not isinstance(existing_logs, list):\n",
        "                    existing_logs = []\n",
        "            except json.JSONDecodeError:\n",
        "                # If file exists but isn't valid JSON or is empty\n",
        "                existing_logs = []\n",
        "    except FileNotFoundError:\n",
        "        # If file doesn't exist yet\n",
        "        existing_logs = []\n",
        "\n",
        "    # Append new logs\n",
        "    combined_logs = existing_logs + log_data\n",
        "\n",
        "    # Write back the combined logs\n",
        "    with open(log_file_path, 'w') as f:\n",
        "        json.dump(combined_logs, f, indent=2)\n",
        "\n",
        "    print(f\"Appended {len(log_data)} new log entries to {log_file_path}\")\n",
        "    return combined_logs"
      ],
      "metadata": {
        "id": "o2Zht7EhOQrG"
      },
      "execution_count": 43,
      "outputs": []
    },
    {
      "cell_type": "code",
      "source": [
        "log_data = save_logs_with_append(log_data, LOG_OUTPUT_PATH)"
      ],
      "metadata": {
        "id": "ylXBLVk44nZf",
        "colab": {
          "base_uri": "https://localhost:8080/"
        },
        "outputId": "a55b8130-055b-41f2-fadf-ef68d5544158"
      },
      "execution_count": 44,
      "outputs": [
        {
          "output_type": "stream",
          "name": "stdout",
          "text": [
            "Appended 15 new log entries to /content/drive/MyDrive/PUSL3190/logs/random_forest_training_log.json\n"
          ]
        }
      ]
    },
    {
      "cell_type": "markdown",
      "source": [
        "### Training details"
      ],
      "metadata": {
        "id": "EXEPJ_IG4reI"
      }
    },
    {
      "cell_type": "code",
      "source": [
        "print(\"\\n===== TRAINING COMPLETE =====\")\n",
        "print(f\"Full model accuracy: {accuracy:.4f}\")\n",
        "print(f\"Lightweight model accuracy: {small_accuracy:.4f}\")\n",
        "print(f\"Models saved to {BASE_PATH}/models/\")\n",
        "print(f\"Logs saved to {LOG_OUTPUT_PATH}\")"
      ],
      "metadata": {
        "colab": {
          "base_uri": "https://localhost:8080/"
        },
        "id": "LvoaBiVqzQea",
        "outputId": "1bb4806f-0474-4db7-8bf6-6420d9a28ec2"
      },
      "execution_count": 45,
      "outputs": [
        {
          "output_type": "stream",
          "name": "stdout",
          "text": [
            "\n",
            "===== TRAINING COMPLETE =====\n",
            "Full model accuracy: 0.9910\n",
            "Lightweight model accuracy: 0.9902\n",
            "Models saved to /content/drive/MyDrive/PUSL3190/models/\n",
            "Logs saved to /content/drive/MyDrive/PUSL3190/logs/random_forest_training_log.json\n"
          ]
        }
      ]
    }
  ]
}