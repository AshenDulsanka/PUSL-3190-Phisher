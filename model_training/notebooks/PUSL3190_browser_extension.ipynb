{
  "cells": [
    {
      "cell_type": "markdown",
      "metadata": {
        "id": "szyGzJTHjcyX"
      },
      "source": [
        "# AI-Powered URL Phishing Detection System\n",
        "# Lightweight Random Forest Classifier for Browser Extension"
      ]
    },
    {
      "cell_type": "markdown",
      "metadata": {
        "id": "UAggeXFQh-px"
      },
      "source": [
        "## Steup and Imports"
      ]
    },
    {
      "cell_type": "code",
      "execution_count": 94,
      "metadata": {
        "colab": {
          "base_uri": "https://localhost:8080/"
        },
        "id": "cNmnricotLhk",
        "outputId": "ca371bc8-9f5c-4606-b82f-9cbfb2bd865e"
      },
      "outputs": [
        {
          "name": "stdout",
          "output_type": "stream",
          "text": [
            "Requirement already satisfied: tldextract in /usr/local/lib/python3.11/dist-packages (5.3.0)\n",
            "Requirement already satisfied: idna in /usr/local/lib/python3.11/dist-packages (from tldextract) (3.10)\n",
            "Requirement already satisfied: requests>=2.1.0 in /usr/local/lib/python3.11/dist-packages (from tldextract) (2.32.3)\n",
            "Requirement already satisfied: requests-file>=1.4 in /usr/local/lib/python3.11/dist-packages (from tldextract) (2.1.0)\n",
            "Requirement already satisfied: filelock>=3.0.8 in /usr/local/lib/python3.11/dist-packages (from tldextract) (3.18.0)\n",
            "Requirement already satisfied: charset-normalizer<4,>=2 in /usr/local/lib/python3.11/dist-packages (from requests>=2.1.0->tldextract) (3.4.2)\n",
            "Requirement already satisfied: urllib3<3,>=1.21.1 in /usr/local/lib/python3.11/dist-packages (from requests>=2.1.0->tldextract) (2.4.0)\n",
            "Requirement already satisfied: certifi>=2017.4.17 in /usr/local/lib/python3.11/dist-packages (from requests>=2.1.0->tldextract) (2025.4.26)\n"
          ]
        }
      ],
      "source": [
        "!pip install tldextract"
      ]
    },
    {
      "cell_type": "code",
      "execution_count": 95,
      "metadata": {
        "id": "MGHpiQABWg1G"
      },
      "outputs": [],
      "source": [
        "import pandas as pd\n",
        "import numpy as np\n",
        "import matplotlib.pyplot as plt\n",
        "import seaborn as sns\n",
        "import time\n",
        "import json\n",
        "import os\n",
        "import re\n",
        "import requests\n",
        "import tldextract\n",
        "import joblib\n",
        "import math\n",
        "from datetime import datetime\n",
        "from sklearn.model_selection import train_test_split, GridSearchCV, cross_val_score, StratifiedKFold\n",
        "from sklearn.ensemble import RandomForestClassifier, GradientBoostingClassifier, VotingClassifier\n",
        "from sklearn.metrics import accuracy_score, precision_score, recall_score, f1_score\n",
        "from sklearn.metrics import confusion_matrix, roc_curve, auc, classification_report\n",
        "from sklearn.preprocessing import StandardScaler\n",
        "from sklearn.utils import resample\n",
        "from sklearn.linear_model import LogisticRegression\n",
        "from urllib.parse import urlparse"
      ]
    },
    {
      "cell_type": "markdown",
      "metadata": {
        "id": "yyXwvVk0iTbd"
      },
      "source": [
        "### Mount Google Drive"
      ]
    },
    {
      "cell_type": "code",
      "execution_count": 96,
      "metadata": {
        "colab": {
          "base_uri": "https://localhost:8080/"
        },
        "id": "qsBjOBztiVNf",
        "outputId": "fb52c008-5588-4f0b-f8fd-2d6868886a25"
      },
      "outputs": [
        {
          "name": "stdout",
          "output_type": "stream",
          "text": [
            "Drive already mounted at /content/drive; to attempt to forcibly remount, call drive.mount(\"/content/drive\", force_remount=True).\n"
          ]
        }
      ],
      "source": [
        "from google.colab import drive\n",
        "drive.mount('/content/drive')"
      ]
    },
    {
      "cell_type": "markdown",
      "metadata": {
        "id": "UXYohMgpjKqC"
      },
      "source": [
        "## Configuration and Logging"
      ]
    },
    {
      "cell_type": "markdown",
      "metadata": {
        "id": "5swE3x8Qjg7G"
      },
      "source": [
        "### Set up logging"
      ]
    },
    {
      "cell_type": "code",
      "execution_count": 97,
      "metadata": {
        "id": "wMNWmUdPjRXi"
      },
      "outputs": [],
      "source": [
        "log_data = []\n",
        "\n",
        "def log_event(event_type, message, metadata=None):\n",
        "    \"\"\"Log events for research documentation\"\"\"\n",
        "    log_entry = {\n",
        "        \"timestamp\": datetime.now().isoformat(),\n",
        "        \"event_type\": event_type,\n",
        "        \"message\": message,\n",
        "        \"metadata\": metadata or {}\n",
        "    }\n",
        "    log_data.append(log_entry)\n",
        "    print(f\"[{log_entry['timestamp']}] {event_type}: {message}\")"
      ]
    },
    {
      "cell_type": "markdown",
      "metadata": {
        "id": "99VdkBtaj7uV"
      },
      "source": [
        "### Define paths"
      ]
    },
    {
      "cell_type": "code",
      "execution_count": 98,
      "metadata": {
        "id": "1wwuE1oHj-pN"
      },
      "outputs": [],
      "source": [
        "BASE_PATH = '/content/drive/MyDrive/PUSL3190'\n",
        "RAW_DATA_PATH = f'{BASE_PATH}/data/raw/phishing_site_urls.csv'\n",
        "PROCESSED_DATA_PATH = f'{BASE_PATH}/data/processed/browser_extension/browser_extension_features.csv'\n",
        "MODEL_OUTPUT_PATH = f'{BASE_PATH}/models/browser_extension/browser_extension_model.pkl'\n",
        "ENSEMBLE_MODEL_OUTPUT_PATH = f'{BASE_PATH}/models/browser_extension/browser_extension_ensemble_model.pkl'\n",
        "SCALER_OUTPUT_PATH = f'{BASE_PATH}/models/browser_extension/browser_extension_scaler.pkl'\n",
        "METADATA_OUTPUT_PATH = f'{BASE_PATH}/models/browser_extension/browser_extension_metadata.json'\n",
        "ENSEMBLE_METADATA_OUTPUT_PATH = f'{BASE_PATH}/models/browser_extension/browser_extension_ensemble_metadata.json'\n",
        "LOG_OUTPUT_PATH = f'{BASE_PATH}/logs/browser_extension_training_log.json'"
      ]
    },
    {
      "cell_type": "markdown",
      "metadata": {
        "id": "_zUtgmfukyh7"
      },
      "source": [
        "### Create directories if they don't exist"
      ]
    },
    {
      "cell_type": "code",
      "execution_count": 99,
      "metadata": {
        "id": "e87nf9Svk2LY"
      },
      "outputs": [],
      "source": [
        "os.makedirs(f'{BASE_PATH}/data/processed', exist_ok=True)\n",
        "os.makedirs(f'{BASE_PATH}/models', exist_ok=True)\n",
        "os.makedirs(f'{BASE_PATH}/logs', exist_ok=True)"
      ]
    },
    {
      "cell_type": "markdown",
      "metadata": {
        "id": "-8g6fm_llFAy"
      },
      "source": [
        "## 1. Data Loading and Exploration"
      ]
    },
    {
      "cell_type": "markdown",
      "metadata": {
        "id": "lj3WcL1PlJBJ"
      },
      "source": [
        "### Load dataset"
      ]
    },
    {
      "cell_type": "code",
      "execution_count": 100,
      "metadata": {
        "colab": {
          "base_uri": "https://localhost:8080/"
        },
        "id": "jgDVa-YZD75m",
        "outputId": "d7848c8b-f995-44a7-9278-80445235ef90"
      },
      "outputs": [
        {
          "name": "stdout",
          "output_type": "stream",
          "text": [
            "[2025-06-17T05:51:37.307726] DATA_LOADING: Loading dataset\n"
          ]
        }
      ],
      "source": [
        "log_event(\"DATA_LOADING\", \"Loading dataset\")\n",
        "start_time = time.time()"
      ]
    },
    {
      "cell_type": "code",
      "execution_count": 101,
      "metadata": {
        "colab": {
          "base_uri": "https://localhost:8080/"
        },
        "id": "ZADpIY_TlHhG",
        "outputId": "8e9bcdc4-0052-437e-f603-8771f40a60f4"
      },
      "outputs": [
        {
          "name": "stdout",
          "output_type": "stream",
          "text": [
            "Class values after conversion: [1 0]\n",
            "Class distribution: class\n",
            "1    2000\n",
            "0    2000\n",
            "Name: count, dtype: int64\n",
            "\n",
            "HTTPS distribution among classes:\n",
            "URL    False  True \n",
            "class              \n",
            "0          0   2000\n",
            "1       1875    125\n",
            "Legitimate URLs (class 0) using HTTPS: 100.00%\n",
            "Phishing URLs (class 1) using HTTPS: 6.25%\n",
            "[2025-06-17T05:51:37.335521] DATA_LOADED: Dataset loaded and prepared with shape (4000, 2)\n"
          ]
        }
      ],
      "source": [
        "try:\n",
        "    df = pd.read_csv(RAW_DATA_PATH)\n",
        "    if 'class' not in df.columns:\n",
        "        df = df.rename(columns={'label': 'class'})\n",
        "\n",
        "    if df['class'].dtype == 'object':\n",
        "        print(f\"Converting string labels to numeric. Unique values: {df['class'].unique()}\")\n",
        "        df['class'] = df['class'].map({'good': 0, 'bad': 1, 'legitimate': 0, 'phishing': 1})\n",
        "\n",
        "    print(f\"Class values after conversion: {df['class'].unique()}\")\n",
        "    print(f\"Class distribution: {df['class'].value_counts()}\")\n",
        "\n",
        "    # Add HTTPS analysis to understand dataset characteristics\n",
        "    https_stats = pd.crosstab(df['class'], df['URL'].str.startswith('https'))\n",
        "    print(\"\\nHTTPS distribution among classes:\")\n",
        "    print(https_stats)\n",
        "    legitimate_https_pct = https_stats.loc[0, True] / (https_stats.loc[0, True] + https_stats.loc[0, False])\n",
        "    phishing_https_pct = https_stats.loc[1, True] / (https_stats.loc[1, True] + https_stats.loc[1, False])\n",
        "    print(f\"Legitimate URLs (class 0) using HTTPS: {legitimate_https_pct:.2%}\")\n",
        "    print(f\"Phishing URLs (class 1) using HTTPS: {phishing_https_pct:.2%}\")\n",
        "\n",
        "    # Balance dataset only if needed (if classes are imbalanced)\n",
        "    class_counts = df['class'].value_counts()\n",
        "    if max(class_counts) / min(class_counts) > 1.1:  # More than 10% difference\n",
        "        print(\"\\nBalancing dataset...\")\n",
        "        # Downsample the majority class\n",
        "        majority_class = class_counts.idxmax()\n",
        "        minority_class = class_counts.idxmin()\n",
        "        minority_count = class_counts[minority_class]\n",
        "\n",
        "        df_majority = df[df['class'] == majority_class]\n",
        "        df_minority = df[df['class'] == minority_class]\n",
        "\n",
        "        df_majority_downsampled = resample(\n",
        "            df_majority,\n",
        "            replace=False,\n",
        "            n_samples=minority_count,\n",
        "            random_state=42\n",
        "        )\n",
        "\n",
        "        # Combine minority class with downsampled majority class\n",
        "        df_balanced = pd.concat([df_majority_downsampled, df_minority])\n",
        "        print(f\"Balanced dataset shape: {df_balanced.shape}\")\n",
        "\n",
        "        # Replace original df with balanced df\n",
        "        df = df_balanced\n",
        "\n",
        "    log_event(\"DATA_LOADED\", f\"Dataset loaded and prepared with shape {df.shape}\",\n",
        "              {\"rows\": df.shape[0], \"columns\": df.shape[1]})\n",
        "except Exception as e:\n",
        "    log_event(\"ERROR\", f\"Failed to load dataset: {str(e)}\")\n",
        "    raise"
      ]
    },
    {
      "cell_type": "code",
      "execution_count": 102,
      "metadata": {
        "colab": {
          "base_uri": "https://localhost:8080/"
        },
        "id": "UuWnV50eEAtB",
        "outputId": "5da59033-c610-4120-d187-0449843685bb"
      },
      "outputs": [
        {
          "name": "stdout",
          "output_type": "stream",
          "text": [
            "[2025-06-17T05:51:37.339043] TIMING: Data loading completed in 0.03 seconds\n"
          ]
        }
      ],
      "source": [
        "loading_time = time.time() - start_time\n",
        "log_event(\"TIMING\", f\"Data loading completed in {loading_time:.2f} seconds\")"
      ]
    },
    {
      "cell_type": "markdown",
      "metadata": {
        "id": "iHiZ9irTlZI_"
      },
      "source": [
        "### Display basic information about the dataset"
      ]
    },
    {
      "cell_type": "code",
      "execution_count": 103,
      "metadata": {
        "colab": {
          "base_uri": "https://localhost:8080/"
        },
        "id": "FiLOrQFTlbqk",
        "outputId": "f83af7b4-0a64-4a4e-dada-5903f39709be"
      },
      "outputs": [
        {
          "name": "stdout",
          "output_type": "stream",
          "text": [
            "Dataset Information:\n",
            "Total samples: 4000\n",
            "Features: 2\n",
            "\n",
            "Class Distribution:\n",
            "class\n",
            "1    2000\n",
            "0    2000\n",
            "Name: count, dtype: int64\n",
            "\n",
            "First 5 rows:\n",
            "                                            URL  class\n",
            "0  https://start-support-tizer.gitbook.io/en-us      1\n",
            "1       https://iieudsjwasndjfkdjdd.weebly.com/      1\n",
            "2           https://0x-turbos.pages.dev/wallets      1\n",
            "3                   https://shbox.top/yecunoeu/      1\n",
            "4            https://sparkflrdrops.xyz/clm.html      1\n"
          ]
        }
      ],
      "source": [
        "print(\"Dataset Information:\")\n",
        "print(f\"Total samples: {df.shape[0]}\")\n",
        "print(f\"Features: {df.shape[1]}\")\n",
        "print(\"\\nClass Distribution:\")\n",
        "print(df['class'].value_counts())\n",
        "print(\"\\nFirst 5 rows:\")\n",
        "print(df.head())"
      ]
    },
    {
      "cell_type": "markdown",
      "metadata": {
        "id": "jiKMtqPpnip3"
      },
      "source": [
        "## 2. Feature Extraction for Browser Extension"
      ]
    },
    {
      "cell_type": "markdown",
      "metadata": {
        "id": "-nhT4OZYnmHG"
      },
      "source": [
        "\n",
        "This section extracts lightweight features suitable for a browser-based phishing detection extension.\n",
        "We focus on URL characteristics that can be quickly computed in a browser environment.\n"
      ]
    },
    {
      "cell_type": "code",
      "execution_count": 104,
      "metadata": {
        "colab": {
          "base_uri": "https://localhost:8080/"
        },
        "id": "NJtJTOLink31",
        "outputId": "3a2cd3a1-13af-4603-ef5d-67683281c8db"
      },
      "outputs": [
        {
          "name": "stdout",
          "output_type": "stream",
          "text": [
            "[2025-06-17T05:51:37.350187] FEATURE_EXTRACTION: Extracting lightweight features for browser extension\n"
          ]
        }
      ],
      "source": [
        "log_event(\"FEATURE_EXTRACTION\", \"Extracting lightweight features for browser extension\")\n",
        "start_time = time.time()"
      ]
    },
    {
      "cell_type": "markdown",
      "metadata": {
        "id": "0K5lyw1Yn5QY"
      },
      "source": [
        "Extract lightweight features suitable for browser extension:\n",
        "  - URL Length\n",
        "  - Number of dots in domain\n",
        "  - Number of special characters\n",
        "  - Presence of IP address\n",
        "  - Presence of @ symbol\n",
        "  - Number of subdomains\n",
        "  - Use of HTTP\n",
        "  - Presence of hyphens in domain\n",
        "  - URL shortener detection\n",
        "    \n",
        "These features should be fast to compute in a browser extension\n"
      ]
    },
    {
      "cell_type": "code",
      "execution_count": 105,
      "metadata": {
        "id": "_B-js1od3-Uw"
      },
      "outputs": [],
      "source": [
        "def calculate_fast_entropy(text):\n",
        "    \"\"\"Fast entropy calculation with optimization\"\"\"\n",
        "    if not text or len(text) < 2:\n",
        "        return 0\n",
        "\n",
        "    # Use character frequency counting (faster than full Shannon entropy)\n",
        "    char_counts = {}\n",
        "    for char in text.lower():\n",
        "        char_counts[char] = char_counts.get(char, 0) + 1\n",
        "\n",
        "    if len(char_counts) <= 1:\n",
        "        return 0\n",
        "\n",
        "    # Simplified entropy calculation\n",
        "    length = len(text)\n",
        "    entropy = 0\n",
        "    for count in char_counts.values():\n",
        "        if count > 0:\n",
        "            p = count / length\n",
        "            entropy -= p * math.log2(p)\n",
        "\n",
        "    return min(entropy, 5.0)  # Cap for consistency"
      ]
    },
    {
      "cell_type": "code",
      "execution_count": 106,
      "metadata": {
        "id": "pgcBiNM0n_BO"
      },
      "outputs": [],
      "source": [
        "def extract_lightweight_features(url_df):\n",
        "    \"\"\"Extract optimized features for sub-1-second browser extension performance\"\"\"\n",
        "    features = pd.DataFrame()\n",
        "\n",
        "    # Pre-compile regex for performance\n",
        "    ip_pattern = re.compile(r'\\b(?:[0-9]{1,3}\\.){3}[0-9]{1,3}\\b')\n",
        "\n",
        "    # Basic fast features\n",
        "    features['url_length'] = url_df['URL'].apply(len)\n",
        "    features['num_dots'] = url_df['URL'].apply(lambda x: x.count('.'))\n",
        "    features['has_https'] = url_df['URL'].apply(lambda x: 1 if x.startswith('https') else 0)\n",
        "    features['has_at_symbol'] = url_df['URL'].apply(lambda x: 1 if '@' in x else 0)\n",
        "\n",
        "    # Optimized domain analysis\n",
        "    def extract_domain_features(url):\n",
        "        try:\n",
        "            parsed = urlparse(url)\n",
        "            domain = parsed.netloc.lower()\n",
        "\n",
        "            # Extract tld info once\n",
        "            extracted = tldextract.extract(url)\n",
        "\n",
        "            return {\n",
        "                'has_ip': 1 if ip_pattern.search(domain) else 0,\n",
        "                'domain_length': len(domain),\n",
        "                'has_hyphen': 1 if '-' in domain else 0,\n",
        "                'subdomain_count': len(extracted.subdomain.split('.')) if extracted.subdomain else 0,\n",
        "                'suspicious_tld': 1 if extracted.suffix in {'tk', 'ml', 'ga', 'cf', 'gq'} else 0,\n",
        "                'url_shortener': 1 if any(s in domain for s in {'bit.ly', 'tinyurl.com', 't.co'}) else 0,\n",
        "                'special_char_ratio': len([c for c in url if not c.isalnum() and c != '.']) / len(url),\n",
        "                'suspicious_keywords': sum(1 for kw in {'verify', 'secure', 'account', 'login'} if kw in url.lower()),\n",
        "                'brand_keywords': sum(1 for brand in {'paypal', 'amazon', 'google'} if brand in extracted.domain.lower())\n",
        "            }\n",
        "        except:\n",
        "            return {k: 0 for k in ['has_ip', 'domain_length', 'has_hyphen', 'subdomain_count',\n",
        "                                  'suspicious_tld', 'url_shortener', 'special_char_ratio',\n",
        "                                  'suspicious_keywords', 'brand_keywords']}\n",
        "\n",
        "    # Apply domain feature extraction\n",
        "    domain_features = url_df['URL'].apply(extract_domain_features)\n",
        "    for feature_name in ['has_ip', 'domain_length', 'has_hyphen', 'subdomain_count',\n",
        "                        'suspicious_tld', 'url_shortener', 'special_char_ratio',\n",
        "                        'suspicious_keywords', 'brand_keywords']:\n",
        "        features[feature_name] = domain_features.apply(lambda x: x[feature_name])\n",
        "\n",
        "    # Target variable\n",
        "    features['is_phishing'] = url_df['class']\n",
        "\n",
        "    return features"
      ]
    },
    {
      "cell_type": "markdown",
      "metadata": {
        "id": "5fnfk31AoZfE"
      },
      "source": [
        "### Extract features"
      ]
    },
    {
      "cell_type": "code",
      "execution_count": 107,
      "metadata": {
        "id": "0aeBB7SwocLj"
      },
      "outputs": [],
      "source": [
        "browser_features = extract_lightweight_features(df)"
      ]
    },
    {
      "cell_type": "markdown",
      "metadata": {
        "id": "CPNDmRPwpvJn"
      },
      "source": [
        "### Display sample of extracted features"
      ]
    },
    {
      "cell_type": "code",
      "execution_count": 108,
      "metadata": {
        "colab": {
          "base_uri": "https://localhost:8080/"
        },
        "id": "huzXKDBbpzf3",
        "outputId": "a5bba50f-6117-44ef-94d6-a37bae88e05f"
      },
      "outputs": [
        {
          "name": "stdout",
          "output_type": "stream",
          "text": [
            "\n",
            "Extracted Features (First 5 rows):\n",
            "   url_length  num_dots  has_https  has_at_symbol  has_ip  domain_length  \\\n",
            "0          44         2          1              0       0             30   \n",
            "1          39         2          1              0       0             30   \n",
            "2          35         2          1              0       0             19   \n",
            "3          27         1          1              0       0              9   \n",
            "4          34         2          1              0       0             17   \n",
            "\n",
            "   has_hyphen  subdomain_count  suspicious_tld  url_shortener  \\\n",
            "0           1                1               0              0   \n",
            "1           0                1               0              0   \n",
            "2           1                1               0              0   \n",
            "3           0                0               0              0   \n",
            "4           0                0               0              0   \n",
            "\n",
            "   special_char_ratio  suspicious_keywords  brand_keywords  is_phishing  \n",
            "0            0.159091                    0               0            1  \n",
            "1            0.102564                    0               0            1  \n",
            "2            0.142857                    0               0            1  \n",
            "3            0.185185                    0               0            1  \n",
            "4            0.117647                    0               0            1  \n"
          ]
        }
      ],
      "source": [
        "print(\"\\nExtracted Features (First 5 rows):\")\n",
        "print(browser_features.head())"
      ]
    },
    {
      "cell_type": "markdown",
      "metadata": {
        "id": "GMnYEHVFqMMQ"
      },
      "source": [
        "### Save the processed features"
      ]
    },
    {
      "cell_type": "code",
      "execution_count": 109,
      "metadata": {
        "id": "ooSx3CleEWwe"
      },
      "outputs": [],
      "source": [
        "browser_features.to_csv(PROCESSED_DATA_PATH, index=False)"
      ]
    },
    {
      "cell_type": "code",
      "execution_count": 110,
      "metadata": {
        "colab": {
          "base_uri": "https://localhost:8080/"
        },
        "id": "NjMFk13jqPBp",
        "outputId": "47f7ef59-69fb-4a5a-8476-7075bd51a77d"
      },
      "outputs": [
        {
          "name": "stdout",
          "output_type": "stream",
          "text": [
            "[2025-06-17T05:51:37.494381] TIMING: Feature extraction completed in 0.14 seconds\n"
          ]
        }
      ],
      "source": [
        "feature_extraction_time = time.time() - start_time\n",
        "log_event(\"TIMING\", f\"Feature extraction completed in {feature_extraction_time:.2f} seconds\",\n",
        "          {\"num_features\": browser_features.shape[1] - 1})"
      ]
    },
    {
      "cell_type": "markdown",
      "metadata": {
        "id": "-oKG7s9srJDn"
      },
      "source": [
        "## 3. Model Training"
      ]
    },
    {
      "cell_type": "markdown",
      "metadata": {
        "id": "YHtyVyxTrNC6"
      },
      "source": [
        "This section trains a Random Forest classifier on our extracted features.\n",
        "Random Forest is chosen for its good performance on classification tasks\n",
        "and ability to handle non-linear relationships."
      ]
    },
    {
      "cell_type": "code",
      "execution_count": 111,
      "metadata": {
        "colab": {
          "base_uri": "https://localhost:8080/"
        },
        "id": "fwmymxVrrPEK",
        "outputId": "a56a421f-a925-4efb-ace9-4a53e41e14dc"
      },
      "outputs": [
        {
          "name": "stdout",
          "output_type": "stream",
          "text": [
            "[2025-06-17T05:51:37.497531] MODEL_TRAINING: Starting model training with Random Forest\n"
          ]
        }
      ],
      "source": [
        "log_event(\"MODEL_TRAINING\", \"Starting model training with Random Forest\")\n",
        "start_time = time.time()"
      ]
    },
    {
      "cell_type": "markdown",
      "metadata": {
        "id": "sRJCykXgratq"
      },
      "source": [
        "### Prepare features and target"
      ]
    },
    {
      "cell_type": "code",
      "execution_count": 112,
      "metadata": {
        "id": "1xUEqGd-rfTI"
      },
      "outputs": [],
      "source": [
        "X = browser_features.drop('is_phishing', axis=1)\n",
        "y = browser_features['is_phishing']"
      ]
    },
    {
      "cell_type": "markdown",
      "metadata": {
        "id": "FDgXIlV6rjWE"
      },
      "source": [
        "### Split data (80-20 split)"
      ]
    },
    {
      "cell_type": "code",
      "execution_count": 113,
      "metadata": {
        "id": "4yP-NEPCrojL"
      },
      "outputs": [],
      "source": [
        "X_train, X_test, y_train, y_test = train_test_split(X, y, test_size=0.2, random_state=42, stratify=y)"
      ]
    },
    {
      "cell_type": "markdown",
      "metadata": {
        "id": "c5xtZK63rs19"
      },
      "source": [
        "### Log the data split information"
      ]
    },
    {
      "cell_type": "code",
      "execution_count": 114,
      "metadata": {
        "colab": {
          "base_uri": "https://localhost:8080/"
        },
        "id": "TQ7QCZS6ru5y",
        "outputId": "f40a67eb-c8d9-4a54-d232-ee32ee6c5193"
      },
      "outputs": [
        {
          "name": "stdout",
          "output_type": "stream",
          "text": [
            "[2025-06-17T05:51:37.512117] DATA_SPLIT: Data split into training and testing sets\n"
          ]
        }
      ],
      "source": [
        "log_event(\"DATA_SPLIT\", \"Data split into training and testing sets\",\n",
        "          {\"train_samples\": X_train.shape[0], \"test_samples\": X_test.shape[0]})"
      ]
    },
    {
      "cell_type": "markdown",
      "metadata": {
        "id": "gRZGT0hPryeN"
      },
      "source": [
        "### Feature scaling"
      ]
    },
    {
      "cell_type": "code",
      "execution_count": 115,
      "metadata": {
        "id": "vffwNU4Or2sv"
      },
      "outputs": [],
      "source": [
        "scaler = StandardScaler()\n",
        "X_train_scaled = scaler.fit_transform(X_train)\n",
        "X_test_scaled = scaler.transform(X_test)"
      ]
    },
    {
      "cell_type": "markdown",
      "metadata": {
        "id": "OkFxMOmar-9j"
      },
      "source": [
        "### Train model"
      ]
    },
    {
      "cell_type": "code",
      "execution_count": 116,
      "metadata": {
        "id": "fOLhoqL1sGhR"
      },
      "outputs": [],
      "source": [
        "rf_model = RandomForestClassifier(\n",
        "    n_estimators=50,\n",
        "    max_depth=12,\n",
        "    min_samples_split=5,\n",
        "    min_samples_leaf=2,\n",
        "    class_weight='balanced',\n",
        "    random_state=42,\n",
        "    n_jobs=-1\n",
        ")"
      ]
    },
    {
      "cell_type": "code",
      "execution_count": 117,
      "metadata": {
        "colab": {
          "base_uri": "https://localhost:8080/",
          "height": 115
        },
        "id": "jLaefBxyrYaX",
        "outputId": "31cb87ef-413e-4d6b-d4f5-346c8d3fa8ca"
      },
      "outputs": [
        {
          "data": {
            "text/html": [
              "<style>#sk-container-id-3 {\n",
              "  /* Definition of color scheme common for light and dark mode */\n",
              "  --sklearn-color-text: #000;\n",
              "  --sklearn-color-text-muted: #666;\n",
              "  --sklearn-color-line: gray;\n",
              "  /* Definition of color scheme for unfitted estimators */\n",
              "  --sklearn-color-unfitted-level-0: #fff5e6;\n",
              "  --sklearn-color-unfitted-level-1: #f6e4d2;\n",
              "  --sklearn-color-unfitted-level-2: #ffe0b3;\n",
              "  --sklearn-color-unfitted-level-3: chocolate;\n",
              "  /* Definition of color scheme for fitted estimators */\n",
              "  --sklearn-color-fitted-level-0: #f0f8ff;\n",
              "  --sklearn-color-fitted-level-1: #d4ebff;\n",
              "  --sklearn-color-fitted-level-2: #b3dbfd;\n",
              "  --sklearn-color-fitted-level-3: cornflowerblue;\n",
              "\n",
              "  /* Specific color for light theme */\n",
              "  --sklearn-color-text-on-default-background: var(--sg-text-color, var(--theme-code-foreground, var(--jp-content-font-color1, black)));\n",
              "  --sklearn-color-background: var(--sg-background-color, var(--theme-background, var(--jp-layout-color0, white)));\n",
              "  --sklearn-color-border-box: var(--sg-text-color, var(--theme-code-foreground, var(--jp-content-font-color1, black)));\n",
              "  --sklearn-color-icon: #696969;\n",
              "\n",
              "  @media (prefers-color-scheme: dark) {\n",
              "    /* Redefinition of color scheme for dark theme */\n",
              "    --sklearn-color-text-on-default-background: var(--sg-text-color, var(--theme-code-foreground, var(--jp-content-font-color1, white)));\n",
              "    --sklearn-color-background: var(--sg-background-color, var(--theme-background, var(--jp-layout-color0, #111)));\n",
              "    --sklearn-color-border-box: var(--sg-text-color, var(--theme-code-foreground, var(--jp-content-font-color1, white)));\n",
              "    --sklearn-color-icon: #878787;\n",
              "  }\n",
              "}\n",
              "\n",
              "#sk-container-id-3 {\n",
              "  color: var(--sklearn-color-text);\n",
              "}\n",
              "\n",
              "#sk-container-id-3 pre {\n",
              "  padding: 0;\n",
              "}\n",
              "\n",
              "#sk-container-id-3 input.sk-hidden--visually {\n",
              "  border: 0;\n",
              "  clip: rect(1px 1px 1px 1px);\n",
              "  clip: rect(1px, 1px, 1px, 1px);\n",
              "  height: 1px;\n",
              "  margin: -1px;\n",
              "  overflow: hidden;\n",
              "  padding: 0;\n",
              "  position: absolute;\n",
              "  width: 1px;\n",
              "}\n",
              "\n",
              "#sk-container-id-3 div.sk-dashed-wrapped {\n",
              "  border: 1px dashed var(--sklearn-color-line);\n",
              "  margin: 0 0.4em 0.5em 0.4em;\n",
              "  box-sizing: border-box;\n",
              "  padding-bottom: 0.4em;\n",
              "  background-color: var(--sklearn-color-background);\n",
              "}\n",
              "\n",
              "#sk-container-id-3 div.sk-container {\n",
              "  /* jupyter's `normalize.less` sets `[hidden] { display: none; }`\n",
              "     but bootstrap.min.css set `[hidden] { display: none !important; }`\n",
              "     so we also need the `!important` here to be able to override the\n",
              "     default hidden behavior on the sphinx rendered scikit-learn.org.\n",
              "     See: https://github.com/scikit-learn/scikit-learn/issues/21755 */\n",
              "  display: inline-block !important;\n",
              "  position: relative;\n",
              "}\n",
              "\n",
              "#sk-container-id-3 div.sk-text-repr-fallback {\n",
              "  display: none;\n",
              "}\n",
              "\n",
              "div.sk-parallel-item,\n",
              "div.sk-serial,\n",
              "div.sk-item {\n",
              "  /* draw centered vertical line to link estimators */\n",
              "  background-image: linear-gradient(var(--sklearn-color-text-on-default-background), var(--sklearn-color-text-on-default-background));\n",
              "  background-size: 2px 100%;\n",
              "  background-repeat: no-repeat;\n",
              "  background-position: center center;\n",
              "}\n",
              "\n",
              "/* Parallel-specific style estimator block */\n",
              "\n",
              "#sk-container-id-3 div.sk-parallel-item::after {\n",
              "  content: \"\";\n",
              "  width: 100%;\n",
              "  border-bottom: 2px solid var(--sklearn-color-text-on-default-background);\n",
              "  flex-grow: 1;\n",
              "}\n",
              "\n",
              "#sk-container-id-3 div.sk-parallel {\n",
              "  display: flex;\n",
              "  align-items: stretch;\n",
              "  justify-content: center;\n",
              "  background-color: var(--sklearn-color-background);\n",
              "  position: relative;\n",
              "}\n",
              "\n",
              "#sk-container-id-3 div.sk-parallel-item {\n",
              "  display: flex;\n",
              "  flex-direction: column;\n",
              "}\n",
              "\n",
              "#sk-container-id-3 div.sk-parallel-item:first-child::after {\n",
              "  align-self: flex-end;\n",
              "  width: 50%;\n",
              "}\n",
              "\n",
              "#sk-container-id-3 div.sk-parallel-item:last-child::after {\n",
              "  align-self: flex-start;\n",
              "  width: 50%;\n",
              "}\n",
              "\n",
              "#sk-container-id-3 div.sk-parallel-item:only-child::after {\n",
              "  width: 0;\n",
              "}\n",
              "\n",
              "/* Serial-specific style estimator block */\n",
              "\n",
              "#sk-container-id-3 div.sk-serial {\n",
              "  display: flex;\n",
              "  flex-direction: column;\n",
              "  align-items: center;\n",
              "  background-color: var(--sklearn-color-background);\n",
              "  padding-right: 1em;\n",
              "  padding-left: 1em;\n",
              "}\n",
              "\n",
              "\n",
              "/* Toggleable style: style used for estimator/Pipeline/ColumnTransformer box that is\n",
              "clickable and can be expanded/collapsed.\n",
              "- Pipeline and ColumnTransformer use this feature and define the default style\n",
              "- Estimators will overwrite some part of the style using the `sk-estimator` class\n",
              "*/\n",
              "\n",
              "/* Pipeline and ColumnTransformer style (default) */\n",
              "\n",
              "#sk-container-id-3 div.sk-toggleable {\n",
              "  /* Default theme specific background. It is overwritten whether we have a\n",
              "  specific estimator or a Pipeline/ColumnTransformer */\n",
              "  background-color: var(--sklearn-color-background);\n",
              "}\n",
              "\n",
              "/* Toggleable label */\n",
              "#sk-container-id-3 label.sk-toggleable__label {\n",
              "  cursor: pointer;\n",
              "  display: flex;\n",
              "  width: 100%;\n",
              "  margin-bottom: 0;\n",
              "  padding: 0.5em;\n",
              "  box-sizing: border-box;\n",
              "  text-align: center;\n",
              "  align-items: start;\n",
              "  justify-content: space-between;\n",
              "  gap: 0.5em;\n",
              "}\n",
              "\n",
              "#sk-container-id-3 label.sk-toggleable__label .caption {\n",
              "  font-size: 0.6rem;\n",
              "  font-weight: lighter;\n",
              "  color: var(--sklearn-color-text-muted);\n",
              "}\n",
              "\n",
              "#sk-container-id-3 label.sk-toggleable__label-arrow:before {\n",
              "  /* Arrow on the left of the label */\n",
              "  content: \"▸\";\n",
              "  float: left;\n",
              "  margin-right: 0.25em;\n",
              "  color: var(--sklearn-color-icon);\n",
              "}\n",
              "\n",
              "#sk-container-id-3 label.sk-toggleable__label-arrow:hover:before {\n",
              "  color: var(--sklearn-color-text);\n",
              "}\n",
              "\n",
              "/* Toggleable content - dropdown */\n",
              "\n",
              "#sk-container-id-3 div.sk-toggleable__content {\n",
              "  max-height: 0;\n",
              "  max-width: 0;\n",
              "  overflow: hidden;\n",
              "  text-align: left;\n",
              "  /* unfitted */\n",
              "  background-color: var(--sklearn-color-unfitted-level-0);\n",
              "}\n",
              "\n",
              "#sk-container-id-3 div.sk-toggleable__content.fitted {\n",
              "  /* fitted */\n",
              "  background-color: var(--sklearn-color-fitted-level-0);\n",
              "}\n",
              "\n",
              "#sk-container-id-3 div.sk-toggleable__content pre {\n",
              "  margin: 0.2em;\n",
              "  border-radius: 0.25em;\n",
              "  color: var(--sklearn-color-text);\n",
              "  /* unfitted */\n",
              "  background-color: var(--sklearn-color-unfitted-level-0);\n",
              "}\n",
              "\n",
              "#sk-container-id-3 div.sk-toggleable__content.fitted pre {\n",
              "  /* unfitted */\n",
              "  background-color: var(--sklearn-color-fitted-level-0);\n",
              "}\n",
              "\n",
              "#sk-container-id-3 input.sk-toggleable__control:checked~div.sk-toggleable__content {\n",
              "  /* Expand drop-down */\n",
              "  max-height: 200px;\n",
              "  max-width: 100%;\n",
              "  overflow: auto;\n",
              "}\n",
              "\n",
              "#sk-container-id-3 input.sk-toggleable__control:checked~label.sk-toggleable__label-arrow:before {\n",
              "  content: \"▾\";\n",
              "}\n",
              "\n",
              "/* Pipeline/ColumnTransformer-specific style */\n",
              "\n",
              "#sk-container-id-3 div.sk-label input.sk-toggleable__control:checked~label.sk-toggleable__label {\n",
              "  color: var(--sklearn-color-text);\n",
              "  background-color: var(--sklearn-color-unfitted-level-2);\n",
              "}\n",
              "\n",
              "#sk-container-id-3 div.sk-label.fitted input.sk-toggleable__control:checked~label.sk-toggleable__label {\n",
              "  background-color: var(--sklearn-color-fitted-level-2);\n",
              "}\n",
              "\n",
              "/* Estimator-specific style */\n",
              "\n",
              "/* Colorize estimator box */\n",
              "#sk-container-id-3 div.sk-estimator input.sk-toggleable__control:checked~label.sk-toggleable__label {\n",
              "  /* unfitted */\n",
              "  background-color: var(--sklearn-color-unfitted-level-2);\n",
              "}\n",
              "\n",
              "#sk-container-id-3 div.sk-estimator.fitted input.sk-toggleable__control:checked~label.sk-toggleable__label {\n",
              "  /* fitted */\n",
              "  background-color: var(--sklearn-color-fitted-level-2);\n",
              "}\n",
              "\n",
              "#sk-container-id-3 div.sk-label label.sk-toggleable__label,\n",
              "#sk-container-id-3 div.sk-label label {\n",
              "  /* The background is the default theme color */\n",
              "  color: var(--sklearn-color-text-on-default-background);\n",
              "}\n",
              "\n",
              "/* On hover, darken the color of the background */\n",
              "#sk-container-id-3 div.sk-label:hover label.sk-toggleable__label {\n",
              "  color: var(--sklearn-color-text);\n",
              "  background-color: var(--sklearn-color-unfitted-level-2);\n",
              "}\n",
              "\n",
              "/* Label box, darken color on hover, fitted */\n",
              "#sk-container-id-3 div.sk-label.fitted:hover label.sk-toggleable__label.fitted {\n",
              "  color: var(--sklearn-color-text);\n",
              "  background-color: var(--sklearn-color-fitted-level-2);\n",
              "}\n",
              "\n",
              "/* Estimator label */\n",
              "\n",
              "#sk-container-id-3 div.sk-label label {\n",
              "  font-family: monospace;\n",
              "  font-weight: bold;\n",
              "  display: inline-block;\n",
              "  line-height: 1.2em;\n",
              "}\n",
              "\n",
              "#sk-container-id-3 div.sk-label-container {\n",
              "  text-align: center;\n",
              "}\n",
              "\n",
              "/* Estimator-specific */\n",
              "#sk-container-id-3 div.sk-estimator {\n",
              "  font-family: monospace;\n",
              "  border: 1px dotted var(--sklearn-color-border-box);\n",
              "  border-radius: 0.25em;\n",
              "  box-sizing: border-box;\n",
              "  margin-bottom: 0.5em;\n",
              "  /* unfitted */\n",
              "  background-color: var(--sklearn-color-unfitted-level-0);\n",
              "}\n",
              "\n",
              "#sk-container-id-3 div.sk-estimator.fitted {\n",
              "  /* fitted */\n",
              "  background-color: var(--sklearn-color-fitted-level-0);\n",
              "}\n",
              "\n",
              "/* on hover */\n",
              "#sk-container-id-3 div.sk-estimator:hover {\n",
              "  /* unfitted */\n",
              "  background-color: var(--sklearn-color-unfitted-level-2);\n",
              "}\n",
              "\n",
              "#sk-container-id-3 div.sk-estimator.fitted:hover {\n",
              "  /* fitted */\n",
              "  background-color: var(--sklearn-color-fitted-level-2);\n",
              "}\n",
              "\n",
              "/* Specification for estimator info (e.g. \"i\" and \"?\") */\n",
              "\n",
              "/* Common style for \"i\" and \"?\" */\n",
              "\n",
              ".sk-estimator-doc-link,\n",
              "a:link.sk-estimator-doc-link,\n",
              "a:visited.sk-estimator-doc-link {\n",
              "  float: right;\n",
              "  font-size: smaller;\n",
              "  line-height: 1em;\n",
              "  font-family: monospace;\n",
              "  background-color: var(--sklearn-color-background);\n",
              "  border-radius: 1em;\n",
              "  height: 1em;\n",
              "  width: 1em;\n",
              "  text-decoration: none !important;\n",
              "  margin-left: 0.5em;\n",
              "  text-align: center;\n",
              "  /* unfitted */\n",
              "  border: var(--sklearn-color-unfitted-level-1) 1pt solid;\n",
              "  color: var(--sklearn-color-unfitted-level-1);\n",
              "}\n",
              "\n",
              ".sk-estimator-doc-link.fitted,\n",
              "a:link.sk-estimator-doc-link.fitted,\n",
              "a:visited.sk-estimator-doc-link.fitted {\n",
              "  /* fitted */\n",
              "  border: var(--sklearn-color-fitted-level-1) 1pt solid;\n",
              "  color: var(--sklearn-color-fitted-level-1);\n",
              "}\n",
              "\n",
              "/* On hover */\n",
              "div.sk-estimator:hover .sk-estimator-doc-link:hover,\n",
              ".sk-estimator-doc-link:hover,\n",
              "div.sk-label-container:hover .sk-estimator-doc-link:hover,\n",
              ".sk-estimator-doc-link:hover {\n",
              "  /* unfitted */\n",
              "  background-color: var(--sklearn-color-unfitted-level-3);\n",
              "  color: var(--sklearn-color-background);\n",
              "  text-decoration: none;\n",
              "}\n",
              "\n",
              "div.sk-estimator.fitted:hover .sk-estimator-doc-link.fitted:hover,\n",
              ".sk-estimator-doc-link.fitted:hover,\n",
              "div.sk-label-container:hover .sk-estimator-doc-link.fitted:hover,\n",
              ".sk-estimator-doc-link.fitted:hover {\n",
              "  /* fitted */\n",
              "  background-color: var(--sklearn-color-fitted-level-3);\n",
              "  color: var(--sklearn-color-background);\n",
              "  text-decoration: none;\n",
              "}\n",
              "\n",
              "/* Span, style for the box shown on hovering the info icon */\n",
              ".sk-estimator-doc-link span {\n",
              "  display: none;\n",
              "  z-index: 9999;\n",
              "  position: relative;\n",
              "  font-weight: normal;\n",
              "  right: .2ex;\n",
              "  padding: .5ex;\n",
              "  margin: .5ex;\n",
              "  width: min-content;\n",
              "  min-width: 20ex;\n",
              "  max-width: 50ex;\n",
              "  color: var(--sklearn-color-text);\n",
              "  box-shadow: 2pt 2pt 4pt #999;\n",
              "  /* unfitted */\n",
              "  background: var(--sklearn-color-unfitted-level-0);\n",
              "  border: .5pt solid var(--sklearn-color-unfitted-level-3);\n",
              "}\n",
              "\n",
              ".sk-estimator-doc-link.fitted span {\n",
              "  /* fitted */\n",
              "  background: var(--sklearn-color-fitted-level-0);\n",
              "  border: var(--sklearn-color-fitted-level-3);\n",
              "}\n",
              "\n",
              ".sk-estimator-doc-link:hover span {\n",
              "  display: block;\n",
              "}\n",
              "\n",
              "/* \"?\"-specific style due to the `<a>` HTML tag */\n",
              "\n",
              "#sk-container-id-3 a.estimator_doc_link {\n",
              "  float: right;\n",
              "  font-size: 1rem;\n",
              "  line-height: 1em;\n",
              "  font-family: monospace;\n",
              "  background-color: var(--sklearn-color-background);\n",
              "  border-radius: 1rem;\n",
              "  height: 1rem;\n",
              "  width: 1rem;\n",
              "  text-decoration: none;\n",
              "  /* unfitted */\n",
              "  color: var(--sklearn-color-unfitted-level-1);\n",
              "  border: var(--sklearn-color-unfitted-level-1) 1pt solid;\n",
              "}\n",
              "\n",
              "#sk-container-id-3 a.estimator_doc_link.fitted {\n",
              "  /* fitted */\n",
              "  border: var(--sklearn-color-fitted-level-1) 1pt solid;\n",
              "  color: var(--sklearn-color-fitted-level-1);\n",
              "}\n",
              "\n",
              "/* On hover */\n",
              "#sk-container-id-3 a.estimator_doc_link:hover {\n",
              "  /* unfitted */\n",
              "  background-color: var(--sklearn-color-unfitted-level-3);\n",
              "  color: var(--sklearn-color-background);\n",
              "  text-decoration: none;\n",
              "}\n",
              "\n",
              "#sk-container-id-3 a.estimator_doc_link.fitted:hover {\n",
              "  /* fitted */\n",
              "  background-color: var(--sklearn-color-fitted-level-3);\n",
              "}\n",
              "</style><div id=\"sk-container-id-3\" class=\"sk-top-container\"><div class=\"sk-text-repr-fallback\"><pre>RandomForestClassifier(class_weight=&#x27;balanced&#x27;, max_depth=12,\n",
              "                       min_samples_leaf=2, min_samples_split=5, n_estimators=50,\n",
              "                       n_jobs=-1, random_state=42)</pre><b>In a Jupyter environment, please rerun this cell to show the HTML representation or trust the notebook. <br />On GitHub, the HTML representation is unable to render, please try loading this page with nbviewer.org.</b></div><div class=\"sk-container\" hidden><div class=\"sk-item\"><div class=\"sk-estimator fitted sk-toggleable\"><input class=\"sk-toggleable__control sk-hidden--visually\" id=\"sk-estimator-id-6\" type=\"checkbox\" checked><label for=\"sk-estimator-id-6\" class=\"sk-toggleable__label fitted sk-toggleable__label-arrow\"><div><div>RandomForestClassifier</div></div><div><a class=\"sk-estimator-doc-link fitted\" rel=\"noreferrer\" target=\"_blank\" href=\"https://scikit-learn.org/1.6/modules/generated/sklearn.ensemble.RandomForestClassifier.html\">?<span>Documentation for RandomForestClassifier</span></a><span class=\"sk-estimator-doc-link fitted\">i<span>Fitted</span></span></div></label><div class=\"sk-toggleable__content fitted\"><pre>RandomForestClassifier(class_weight=&#x27;balanced&#x27;, max_depth=12,\n",
              "                       min_samples_leaf=2, min_samples_split=5, n_estimators=50,\n",
              "                       n_jobs=-1, random_state=42)</pre></div> </div></div></div></div>"
            ],
            "text/plain": [
              "RandomForestClassifier(class_weight='balanced', max_depth=12,\n",
              "                       min_samples_leaf=2, min_samples_split=5, n_estimators=50,\n",
              "                       n_jobs=-1, random_state=42)"
            ]
          },
          "execution_count": 117,
          "metadata": {},
          "output_type": "execute_result"
        }
      ],
      "source": [
        "rf_model.fit(X_train_scaled, y_train)"
      ]
    },
    {
      "cell_type": "code",
      "execution_count": 118,
      "metadata": {
        "colab": {
          "base_uri": "https://localhost:8080/"
        },
        "id": "Jw-EXTM9rbdp",
        "outputId": "463474c7-4d24-4d73-d9e7-9094f3d6e058"
      },
      "outputs": [
        {
          "name": "stdout",
          "output_type": "stream",
          "text": [
            "[2025-06-17T05:51:37.634669] TIMING: Model training completed in 0.14 seconds\n"
          ]
        }
      ],
      "source": [
        "training_time = time.time() - start_time\n",
        "log_event(\"TIMING\", f\"Model training completed in {training_time:.2f} seconds\")"
      ]
    },
    {
      "cell_type": "markdown",
      "metadata": {
        "id": "b4CNoz7d5Bif"
      },
      "source": []
    },
    {
      "cell_type": "markdown",
      "metadata": {
        "id": "iLzvxbZ15EW-"
      },
      "source": [
        "### Ensemble Model Training"
      ]
    },
    {
      "cell_type": "code",
      "execution_count": 119,
      "metadata": {
        "colab": {
          "base_uri": "https://localhost:8080/"
        },
        "id": "kxOxsFsE5EGC",
        "outputId": "3ff42fb2-0a0f-4a51-df6f-d46fd929b400"
      },
      "outputs": [
        {
          "name": "stdout",
          "output_type": "stream",
          "text": [
            "[2025-06-17T05:51:37.638163] ENSEMBLE_TRAINING: Starting ensemble model training\n"
          ]
        }
      ],
      "source": [
        "log_event(\"ENSEMBLE_TRAINING\", \"Starting ensemble model training\")\n",
        "start_time = time.time()"
      ]
    },
    {
      "cell_type": "code",
      "execution_count": 120,
      "metadata": {
        "id": "xk3XVzqo5KXn"
      },
      "outputs": [],
      "source": [
        "rf_model_advanced = RandomForestClassifier(\n",
        "    n_estimators=100,\n",
        "    max_depth=15,\n",
        "    min_samples_split=3,\n",
        "    min_samples_leaf=1,\n",
        "    class_weight='balanced',\n",
        "    random_state=42,\n",
        "    n_jobs=-1\n",
        ")"
      ]
    },
    {
      "cell_type": "code",
      "execution_count": 121,
      "metadata": {
        "id": "7DU5Pa7N5Msk"
      },
      "outputs": [],
      "source": [
        "gb_model = GradientBoostingClassifier(\n",
        "    n_estimators=100,\n",
        "    learning_rate=0.1,\n",
        "    max_depth=8,\n",
        "    random_state=42\n",
        ")"
      ]
    },
    {
      "cell_type": "code",
      "execution_count": 122,
      "metadata": {
        "id": "PJZ0x_vy5Oiq"
      },
      "outputs": [],
      "source": [
        "lr_model = LogisticRegression(\n",
        "    class_weight='balanced',\n",
        "    random_state=42,\n",
        "    max_iter=1000\n",
        ")"
      ]
    },
    {
      "cell_type": "markdown",
      "metadata": {
        "id": "hfSfEK265Wbr"
      },
      "source": [
        "#### Create Ensemble Model"
      ]
    },
    {
      "cell_type": "code",
      "execution_count": 123,
      "metadata": {
        "id": "gyXRVLdj5Rif"
      },
      "outputs": [],
      "source": [
        "ensemble_model = VotingClassifier(\n",
        "    estimators=[\n",
        "        ('rf', rf_model_advanced),\n",
        "        ('gb', gb_model),\n",
        "        ('lr', lr_model)\n",
        "    ],\n",
        "    voting='soft'\n",
        ")"
      ]
    },
    {
      "cell_type": "markdown",
      "metadata": {
        "id": "YY5HBFaT5amx"
      },
      "source": [
        "#### Train Ensemble Model"
      ]
    },
    {
      "cell_type": "code",
      "execution_count": 124,
      "metadata": {
        "colab": {
          "base_uri": "https://localhost:8080/",
          "height": 136
        },
        "id": "zs_sLMHA5dVs",
        "outputId": "77ff68d4-adb3-42de-c28d-b9d40563c9e4"
      },
      "outputs": [
        {
          "data": {
            "text/html": [
              "<style>#sk-container-id-4 {\n",
              "  /* Definition of color scheme common for light and dark mode */\n",
              "  --sklearn-color-text: #000;\n",
              "  --sklearn-color-text-muted: #666;\n",
              "  --sklearn-color-line: gray;\n",
              "  /* Definition of color scheme for unfitted estimators */\n",
              "  --sklearn-color-unfitted-level-0: #fff5e6;\n",
              "  --sklearn-color-unfitted-level-1: #f6e4d2;\n",
              "  --sklearn-color-unfitted-level-2: #ffe0b3;\n",
              "  --sklearn-color-unfitted-level-3: chocolate;\n",
              "  /* Definition of color scheme for fitted estimators */\n",
              "  --sklearn-color-fitted-level-0: #f0f8ff;\n",
              "  --sklearn-color-fitted-level-1: #d4ebff;\n",
              "  --sklearn-color-fitted-level-2: #b3dbfd;\n",
              "  --sklearn-color-fitted-level-3: cornflowerblue;\n",
              "\n",
              "  /* Specific color for light theme */\n",
              "  --sklearn-color-text-on-default-background: var(--sg-text-color, var(--theme-code-foreground, var(--jp-content-font-color1, black)));\n",
              "  --sklearn-color-background: var(--sg-background-color, var(--theme-background, var(--jp-layout-color0, white)));\n",
              "  --sklearn-color-border-box: var(--sg-text-color, var(--theme-code-foreground, var(--jp-content-font-color1, black)));\n",
              "  --sklearn-color-icon: #696969;\n",
              "\n",
              "  @media (prefers-color-scheme: dark) {\n",
              "    /* Redefinition of color scheme for dark theme */\n",
              "    --sklearn-color-text-on-default-background: var(--sg-text-color, var(--theme-code-foreground, var(--jp-content-font-color1, white)));\n",
              "    --sklearn-color-background: var(--sg-background-color, var(--theme-background, var(--jp-layout-color0, #111)));\n",
              "    --sklearn-color-border-box: var(--sg-text-color, var(--theme-code-foreground, var(--jp-content-font-color1, white)));\n",
              "    --sklearn-color-icon: #878787;\n",
              "  }\n",
              "}\n",
              "\n",
              "#sk-container-id-4 {\n",
              "  color: var(--sklearn-color-text);\n",
              "}\n",
              "\n",
              "#sk-container-id-4 pre {\n",
              "  padding: 0;\n",
              "}\n",
              "\n",
              "#sk-container-id-4 input.sk-hidden--visually {\n",
              "  border: 0;\n",
              "  clip: rect(1px 1px 1px 1px);\n",
              "  clip: rect(1px, 1px, 1px, 1px);\n",
              "  height: 1px;\n",
              "  margin: -1px;\n",
              "  overflow: hidden;\n",
              "  padding: 0;\n",
              "  position: absolute;\n",
              "  width: 1px;\n",
              "}\n",
              "\n",
              "#sk-container-id-4 div.sk-dashed-wrapped {\n",
              "  border: 1px dashed var(--sklearn-color-line);\n",
              "  margin: 0 0.4em 0.5em 0.4em;\n",
              "  box-sizing: border-box;\n",
              "  padding-bottom: 0.4em;\n",
              "  background-color: var(--sklearn-color-background);\n",
              "}\n",
              "\n",
              "#sk-container-id-4 div.sk-container {\n",
              "  /* jupyter's `normalize.less` sets `[hidden] { display: none; }`\n",
              "     but bootstrap.min.css set `[hidden] { display: none !important; }`\n",
              "     so we also need the `!important` here to be able to override the\n",
              "     default hidden behavior on the sphinx rendered scikit-learn.org.\n",
              "     See: https://github.com/scikit-learn/scikit-learn/issues/21755 */\n",
              "  display: inline-block !important;\n",
              "  position: relative;\n",
              "}\n",
              "\n",
              "#sk-container-id-4 div.sk-text-repr-fallback {\n",
              "  display: none;\n",
              "}\n",
              "\n",
              "div.sk-parallel-item,\n",
              "div.sk-serial,\n",
              "div.sk-item {\n",
              "  /* draw centered vertical line to link estimators */\n",
              "  background-image: linear-gradient(var(--sklearn-color-text-on-default-background), var(--sklearn-color-text-on-default-background));\n",
              "  background-size: 2px 100%;\n",
              "  background-repeat: no-repeat;\n",
              "  background-position: center center;\n",
              "}\n",
              "\n",
              "/* Parallel-specific style estimator block */\n",
              "\n",
              "#sk-container-id-4 div.sk-parallel-item::after {\n",
              "  content: \"\";\n",
              "  width: 100%;\n",
              "  border-bottom: 2px solid var(--sklearn-color-text-on-default-background);\n",
              "  flex-grow: 1;\n",
              "}\n",
              "\n",
              "#sk-container-id-4 div.sk-parallel {\n",
              "  display: flex;\n",
              "  align-items: stretch;\n",
              "  justify-content: center;\n",
              "  background-color: var(--sklearn-color-background);\n",
              "  position: relative;\n",
              "}\n",
              "\n",
              "#sk-container-id-4 div.sk-parallel-item {\n",
              "  display: flex;\n",
              "  flex-direction: column;\n",
              "}\n",
              "\n",
              "#sk-container-id-4 div.sk-parallel-item:first-child::after {\n",
              "  align-self: flex-end;\n",
              "  width: 50%;\n",
              "}\n",
              "\n",
              "#sk-container-id-4 div.sk-parallel-item:last-child::after {\n",
              "  align-self: flex-start;\n",
              "  width: 50%;\n",
              "}\n",
              "\n",
              "#sk-container-id-4 div.sk-parallel-item:only-child::after {\n",
              "  width: 0;\n",
              "}\n",
              "\n",
              "/* Serial-specific style estimator block */\n",
              "\n",
              "#sk-container-id-4 div.sk-serial {\n",
              "  display: flex;\n",
              "  flex-direction: column;\n",
              "  align-items: center;\n",
              "  background-color: var(--sklearn-color-background);\n",
              "  padding-right: 1em;\n",
              "  padding-left: 1em;\n",
              "}\n",
              "\n",
              "\n",
              "/* Toggleable style: style used for estimator/Pipeline/ColumnTransformer box that is\n",
              "clickable and can be expanded/collapsed.\n",
              "- Pipeline and ColumnTransformer use this feature and define the default style\n",
              "- Estimators will overwrite some part of the style using the `sk-estimator` class\n",
              "*/\n",
              "\n",
              "/* Pipeline and ColumnTransformer style (default) */\n",
              "\n",
              "#sk-container-id-4 div.sk-toggleable {\n",
              "  /* Default theme specific background. It is overwritten whether we have a\n",
              "  specific estimator or a Pipeline/ColumnTransformer */\n",
              "  background-color: var(--sklearn-color-background);\n",
              "}\n",
              "\n",
              "/* Toggleable label */\n",
              "#sk-container-id-4 label.sk-toggleable__label {\n",
              "  cursor: pointer;\n",
              "  display: flex;\n",
              "  width: 100%;\n",
              "  margin-bottom: 0;\n",
              "  padding: 0.5em;\n",
              "  box-sizing: border-box;\n",
              "  text-align: center;\n",
              "  align-items: start;\n",
              "  justify-content: space-between;\n",
              "  gap: 0.5em;\n",
              "}\n",
              "\n",
              "#sk-container-id-4 label.sk-toggleable__label .caption {\n",
              "  font-size: 0.6rem;\n",
              "  font-weight: lighter;\n",
              "  color: var(--sklearn-color-text-muted);\n",
              "}\n",
              "\n",
              "#sk-container-id-4 label.sk-toggleable__label-arrow:before {\n",
              "  /* Arrow on the left of the label */\n",
              "  content: \"▸\";\n",
              "  float: left;\n",
              "  margin-right: 0.25em;\n",
              "  color: var(--sklearn-color-icon);\n",
              "}\n",
              "\n",
              "#sk-container-id-4 label.sk-toggleable__label-arrow:hover:before {\n",
              "  color: var(--sklearn-color-text);\n",
              "}\n",
              "\n",
              "/* Toggleable content - dropdown */\n",
              "\n",
              "#sk-container-id-4 div.sk-toggleable__content {\n",
              "  max-height: 0;\n",
              "  max-width: 0;\n",
              "  overflow: hidden;\n",
              "  text-align: left;\n",
              "  /* unfitted */\n",
              "  background-color: var(--sklearn-color-unfitted-level-0);\n",
              "}\n",
              "\n",
              "#sk-container-id-4 div.sk-toggleable__content.fitted {\n",
              "  /* fitted */\n",
              "  background-color: var(--sklearn-color-fitted-level-0);\n",
              "}\n",
              "\n",
              "#sk-container-id-4 div.sk-toggleable__content pre {\n",
              "  margin: 0.2em;\n",
              "  border-radius: 0.25em;\n",
              "  color: var(--sklearn-color-text);\n",
              "  /* unfitted */\n",
              "  background-color: var(--sklearn-color-unfitted-level-0);\n",
              "}\n",
              "\n",
              "#sk-container-id-4 div.sk-toggleable__content.fitted pre {\n",
              "  /* unfitted */\n",
              "  background-color: var(--sklearn-color-fitted-level-0);\n",
              "}\n",
              "\n",
              "#sk-container-id-4 input.sk-toggleable__control:checked~div.sk-toggleable__content {\n",
              "  /* Expand drop-down */\n",
              "  max-height: 200px;\n",
              "  max-width: 100%;\n",
              "  overflow: auto;\n",
              "}\n",
              "\n",
              "#sk-container-id-4 input.sk-toggleable__control:checked~label.sk-toggleable__label-arrow:before {\n",
              "  content: \"▾\";\n",
              "}\n",
              "\n",
              "/* Pipeline/ColumnTransformer-specific style */\n",
              "\n",
              "#sk-container-id-4 div.sk-label input.sk-toggleable__control:checked~label.sk-toggleable__label {\n",
              "  color: var(--sklearn-color-text);\n",
              "  background-color: var(--sklearn-color-unfitted-level-2);\n",
              "}\n",
              "\n",
              "#sk-container-id-4 div.sk-label.fitted input.sk-toggleable__control:checked~label.sk-toggleable__label {\n",
              "  background-color: var(--sklearn-color-fitted-level-2);\n",
              "}\n",
              "\n",
              "/* Estimator-specific style */\n",
              "\n",
              "/* Colorize estimator box */\n",
              "#sk-container-id-4 div.sk-estimator input.sk-toggleable__control:checked~label.sk-toggleable__label {\n",
              "  /* unfitted */\n",
              "  background-color: var(--sklearn-color-unfitted-level-2);\n",
              "}\n",
              "\n",
              "#sk-container-id-4 div.sk-estimator.fitted input.sk-toggleable__control:checked~label.sk-toggleable__label {\n",
              "  /* fitted */\n",
              "  background-color: var(--sklearn-color-fitted-level-2);\n",
              "}\n",
              "\n",
              "#sk-container-id-4 div.sk-label label.sk-toggleable__label,\n",
              "#sk-container-id-4 div.sk-label label {\n",
              "  /* The background is the default theme color */\n",
              "  color: var(--sklearn-color-text-on-default-background);\n",
              "}\n",
              "\n",
              "/* On hover, darken the color of the background */\n",
              "#sk-container-id-4 div.sk-label:hover label.sk-toggleable__label {\n",
              "  color: var(--sklearn-color-text);\n",
              "  background-color: var(--sklearn-color-unfitted-level-2);\n",
              "}\n",
              "\n",
              "/* Label box, darken color on hover, fitted */\n",
              "#sk-container-id-4 div.sk-label.fitted:hover label.sk-toggleable__label.fitted {\n",
              "  color: var(--sklearn-color-text);\n",
              "  background-color: var(--sklearn-color-fitted-level-2);\n",
              "}\n",
              "\n",
              "/* Estimator label */\n",
              "\n",
              "#sk-container-id-4 div.sk-label label {\n",
              "  font-family: monospace;\n",
              "  font-weight: bold;\n",
              "  display: inline-block;\n",
              "  line-height: 1.2em;\n",
              "}\n",
              "\n",
              "#sk-container-id-4 div.sk-label-container {\n",
              "  text-align: center;\n",
              "}\n",
              "\n",
              "/* Estimator-specific */\n",
              "#sk-container-id-4 div.sk-estimator {\n",
              "  font-family: monospace;\n",
              "  border: 1px dotted var(--sklearn-color-border-box);\n",
              "  border-radius: 0.25em;\n",
              "  box-sizing: border-box;\n",
              "  margin-bottom: 0.5em;\n",
              "  /* unfitted */\n",
              "  background-color: var(--sklearn-color-unfitted-level-0);\n",
              "}\n",
              "\n",
              "#sk-container-id-4 div.sk-estimator.fitted {\n",
              "  /* fitted */\n",
              "  background-color: var(--sklearn-color-fitted-level-0);\n",
              "}\n",
              "\n",
              "/* on hover */\n",
              "#sk-container-id-4 div.sk-estimator:hover {\n",
              "  /* unfitted */\n",
              "  background-color: var(--sklearn-color-unfitted-level-2);\n",
              "}\n",
              "\n",
              "#sk-container-id-4 div.sk-estimator.fitted:hover {\n",
              "  /* fitted */\n",
              "  background-color: var(--sklearn-color-fitted-level-2);\n",
              "}\n",
              "\n",
              "/* Specification for estimator info (e.g. \"i\" and \"?\") */\n",
              "\n",
              "/* Common style for \"i\" and \"?\" */\n",
              "\n",
              ".sk-estimator-doc-link,\n",
              "a:link.sk-estimator-doc-link,\n",
              "a:visited.sk-estimator-doc-link {\n",
              "  float: right;\n",
              "  font-size: smaller;\n",
              "  line-height: 1em;\n",
              "  font-family: monospace;\n",
              "  background-color: var(--sklearn-color-background);\n",
              "  border-radius: 1em;\n",
              "  height: 1em;\n",
              "  width: 1em;\n",
              "  text-decoration: none !important;\n",
              "  margin-left: 0.5em;\n",
              "  text-align: center;\n",
              "  /* unfitted */\n",
              "  border: var(--sklearn-color-unfitted-level-1) 1pt solid;\n",
              "  color: var(--sklearn-color-unfitted-level-1);\n",
              "}\n",
              "\n",
              ".sk-estimator-doc-link.fitted,\n",
              "a:link.sk-estimator-doc-link.fitted,\n",
              "a:visited.sk-estimator-doc-link.fitted {\n",
              "  /* fitted */\n",
              "  border: var(--sklearn-color-fitted-level-1) 1pt solid;\n",
              "  color: var(--sklearn-color-fitted-level-1);\n",
              "}\n",
              "\n",
              "/* On hover */\n",
              "div.sk-estimator:hover .sk-estimator-doc-link:hover,\n",
              ".sk-estimator-doc-link:hover,\n",
              "div.sk-label-container:hover .sk-estimator-doc-link:hover,\n",
              ".sk-estimator-doc-link:hover {\n",
              "  /* unfitted */\n",
              "  background-color: var(--sklearn-color-unfitted-level-3);\n",
              "  color: var(--sklearn-color-background);\n",
              "  text-decoration: none;\n",
              "}\n",
              "\n",
              "div.sk-estimator.fitted:hover .sk-estimator-doc-link.fitted:hover,\n",
              ".sk-estimator-doc-link.fitted:hover,\n",
              "div.sk-label-container:hover .sk-estimator-doc-link.fitted:hover,\n",
              ".sk-estimator-doc-link.fitted:hover {\n",
              "  /* fitted */\n",
              "  background-color: var(--sklearn-color-fitted-level-3);\n",
              "  color: var(--sklearn-color-background);\n",
              "  text-decoration: none;\n",
              "}\n",
              "\n",
              "/* Span, style for the box shown on hovering the info icon */\n",
              ".sk-estimator-doc-link span {\n",
              "  display: none;\n",
              "  z-index: 9999;\n",
              "  position: relative;\n",
              "  font-weight: normal;\n",
              "  right: .2ex;\n",
              "  padding: .5ex;\n",
              "  margin: .5ex;\n",
              "  width: min-content;\n",
              "  min-width: 20ex;\n",
              "  max-width: 50ex;\n",
              "  color: var(--sklearn-color-text);\n",
              "  box-shadow: 2pt 2pt 4pt #999;\n",
              "  /* unfitted */\n",
              "  background: var(--sklearn-color-unfitted-level-0);\n",
              "  border: .5pt solid var(--sklearn-color-unfitted-level-3);\n",
              "}\n",
              "\n",
              ".sk-estimator-doc-link.fitted span {\n",
              "  /* fitted */\n",
              "  background: var(--sklearn-color-fitted-level-0);\n",
              "  border: var(--sklearn-color-fitted-level-3);\n",
              "}\n",
              "\n",
              ".sk-estimator-doc-link:hover span {\n",
              "  display: block;\n",
              "}\n",
              "\n",
              "/* \"?\"-specific style due to the `<a>` HTML tag */\n",
              "\n",
              "#sk-container-id-4 a.estimator_doc_link {\n",
              "  float: right;\n",
              "  font-size: 1rem;\n",
              "  line-height: 1em;\n",
              "  font-family: monospace;\n",
              "  background-color: var(--sklearn-color-background);\n",
              "  border-radius: 1rem;\n",
              "  height: 1rem;\n",
              "  width: 1rem;\n",
              "  text-decoration: none;\n",
              "  /* unfitted */\n",
              "  color: var(--sklearn-color-unfitted-level-1);\n",
              "  border: var(--sklearn-color-unfitted-level-1) 1pt solid;\n",
              "}\n",
              "\n",
              "#sk-container-id-4 a.estimator_doc_link.fitted {\n",
              "  /* fitted */\n",
              "  border: var(--sklearn-color-fitted-level-1) 1pt solid;\n",
              "  color: var(--sklearn-color-fitted-level-1);\n",
              "}\n",
              "\n",
              "/* On hover */\n",
              "#sk-container-id-4 a.estimator_doc_link:hover {\n",
              "  /* unfitted */\n",
              "  background-color: var(--sklearn-color-unfitted-level-3);\n",
              "  color: var(--sklearn-color-background);\n",
              "  text-decoration: none;\n",
              "}\n",
              "\n",
              "#sk-container-id-4 a.estimator_doc_link.fitted:hover {\n",
              "  /* fitted */\n",
              "  background-color: var(--sklearn-color-fitted-level-3);\n",
              "}\n",
              "</style><div id=\"sk-container-id-4\" class=\"sk-top-container\"><div class=\"sk-text-repr-fallback\"><pre>VotingClassifier(estimators=[(&#x27;rf&#x27;,\n",
              "                              RandomForestClassifier(class_weight=&#x27;balanced&#x27;,\n",
              "                                                     max_depth=15,\n",
              "                                                     min_samples_split=3,\n",
              "                                                     n_jobs=-1,\n",
              "                                                     random_state=42)),\n",
              "                             (&#x27;gb&#x27;,\n",
              "                              GradientBoostingClassifier(max_depth=8,\n",
              "                                                         random_state=42)),\n",
              "                             (&#x27;lr&#x27;,\n",
              "                              LogisticRegression(class_weight=&#x27;balanced&#x27;,\n",
              "                                                 max_iter=1000,\n",
              "                                                 random_state=42))],\n",
              "                 voting=&#x27;soft&#x27;)</pre><b>In a Jupyter environment, please rerun this cell to show the HTML representation or trust the notebook. <br />On GitHub, the HTML representation is unable to render, please try loading this page with nbviewer.org.</b></div><div class=\"sk-container\" hidden><div class=\"sk-item sk-dashed-wrapped\"><div class=\"sk-label-container\"><div class=\"sk-label fitted sk-toggleable\"><input class=\"sk-toggleable__control sk-hidden--visually\" id=\"sk-estimator-id-7\" type=\"checkbox\" ><label for=\"sk-estimator-id-7\" class=\"sk-toggleable__label fitted sk-toggleable__label-arrow\"><div><div>VotingClassifier</div></div><div><a class=\"sk-estimator-doc-link fitted\" rel=\"noreferrer\" target=\"_blank\" href=\"https://scikit-learn.org/1.6/modules/generated/sklearn.ensemble.VotingClassifier.html\">?<span>Documentation for VotingClassifier</span></a><span class=\"sk-estimator-doc-link fitted\">i<span>Fitted</span></span></div></label><div class=\"sk-toggleable__content fitted\"><pre>VotingClassifier(estimators=[(&#x27;rf&#x27;,\n",
              "                              RandomForestClassifier(class_weight=&#x27;balanced&#x27;,\n",
              "                                                     max_depth=15,\n",
              "                                                     min_samples_split=3,\n",
              "                                                     n_jobs=-1,\n",
              "                                                     random_state=42)),\n",
              "                             (&#x27;gb&#x27;,\n",
              "                              GradientBoostingClassifier(max_depth=8,\n",
              "                                                         random_state=42)),\n",
              "                             (&#x27;lr&#x27;,\n",
              "                              LogisticRegression(class_weight=&#x27;balanced&#x27;,\n",
              "                                                 max_iter=1000,\n",
              "                                                 random_state=42))],\n",
              "                 voting=&#x27;soft&#x27;)</pre></div> </div></div><div class=\"sk-parallel\"><div class=\"sk-parallel-item\"><div class=\"sk-item\"><div class=\"sk-label-container\"><div class=\"sk-label fitted sk-toggleable\"><label>rf</label></div></div><div class=\"sk-serial\"><div class=\"sk-item\"><div class=\"sk-estimator fitted sk-toggleable\"><input class=\"sk-toggleable__control sk-hidden--visually\" id=\"sk-estimator-id-8\" type=\"checkbox\" ><label for=\"sk-estimator-id-8\" class=\"sk-toggleable__label fitted sk-toggleable__label-arrow\"><div><div>RandomForestClassifier</div></div><div><a class=\"sk-estimator-doc-link fitted\" rel=\"noreferrer\" target=\"_blank\" href=\"https://scikit-learn.org/1.6/modules/generated/sklearn.ensemble.RandomForestClassifier.html\">?<span>Documentation for RandomForestClassifier</span></a></div></label><div class=\"sk-toggleable__content fitted\"><pre>RandomForestClassifier(class_weight=&#x27;balanced&#x27;, max_depth=15,\n",
              "                       min_samples_split=3, n_jobs=-1, random_state=42)</pre></div> </div></div></div></div></div><div class=\"sk-parallel-item\"><div class=\"sk-item\"><div class=\"sk-label-container\"><div class=\"sk-label fitted sk-toggleable\"><label>gb</label></div></div><div class=\"sk-serial\"><div class=\"sk-item\"><div class=\"sk-estimator fitted sk-toggleable\"><input class=\"sk-toggleable__control sk-hidden--visually\" id=\"sk-estimator-id-9\" type=\"checkbox\" ><label for=\"sk-estimator-id-9\" class=\"sk-toggleable__label fitted sk-toggleable__label-arrow\"><div><div>GradientBoostingClassifier</div></div><div><a class=\"sk-estimator-doc-link fitted\" rel=\"noreferrer\" target=\"_blank\" href=\"https://scikit-learn.org/1.6/modules/generated/sklearn.ensemble.GradientBoostingClassifier.html\">?<span>Documentation for GradientBoostingClassifier</span></a></div></label><div class=\"sk-toggleable__content fitted\"><pre>GradientBoostingClassifier(max_depth=8, random_state=42)</pre></div> </div></div></div></div></div><div class=\"sk-parallel-item\"><div class=\"sk-item\"><div class=\"sk-label-container\"><div class=\"sk-label fitted sk-toggleable\"><label>lr</label></div></div><div class=\"sk-serial\"><div class=\"sk-item\"><div class=\"sk-estimator fitted sk-toggleable\"><input class=\"sk-toggleable__control sk-hidden--visually\" id=\"sk-estimator-id-10\" type=\"checkbox\" ><label for=\"sk-estimator-id-10\" class=\"sk-toggleable__label fitted sk-toggleable__label-arrow\"><div><div>LogisticRegression</div></div><div><a class=\"sk-estimator-doc-link fitted\" rel=\"noreferrer\" target=\"_blank\" href=\"https://scikit-learn.org/1.6/modules/generated/sklearn.linear_model.LogisticRegression.html\">?<span>Documentation for LogisticRegression</span></a></div></label><div class=\"sk-toggleable__content fitted\"><pre>LogisticRegression(class_weight=&#x27;balanced&#x27;, max_iter=1000, random_state=42)</pre></div> </div></div></div></div></div></div></div></div></div>"
            ],
            "text/plain": [
              "VotingClassifier(estimators=[('rf',\n",
              "                              RandomForestClassifier(class_weight='balanced',\n",
              "                                                     max_depth=15,\n",
              "                                                     min_samples_split=3,\n",
              "                                                     n_jobs=-1,\n",
              "                                                     random_state=42)),\n",
              "                             ('gb',\n",
              "                              GradientBoostingClassifier(max_depth=8,\n",
              "                                                         random_state=42)),\n",
              "                             ('lr',\n",
              "                              LogisticRegression(class_weight='balanced',\n",
              "                                                 max_iter=1000,\n",
              "                                                 random_state=42))],\n",
              "                 voting='soft')"
            ]
          },
          "execution_count": 124,
          "metadata": {},
          "output_type": "execute_result"
        }
      ],
      "source": [
        "ensemble_model.fit(X_train_scaled, y_train)"
      ]
    },
    {
      "cell_type": "code",
      "execution_count": 125,
      "metadata": {
        "colab": {
          "base_uri": "https://localhost:8080/"
        },
        "id": "L-YhXKH95fCt",
        "outputId": "55e5d943-d429-4901-d39e-c8dde22f0e91"
      },
      "outputs": [
        {
          "name": "stdout",
          "output_type": "stream",
          "text": [
            "[2025-06-17T05:51:38.607257] TIMING: Ensemble model training completed in 0.97 seconds\n"
          ]
        }
      ],
      "source": [
        "ensemble_training_time = time.time() - start_time\n",
        "log_event(\"TIMING\", f\"Ensemble model training completed in {ensemble_training_time:.2f} seconds\")"
      ]
    },
    {
      "cell_type": "markdown",
      "metadata": {
        "id": "qyHFifg-sWvW"
      },
      "source": [
        "## 4. Model Evaluation"
      ]
    },
    {
      "cell_type": "markdown",
      "metadata": {
        "id": "qi4gjPAlsZKo"
      },
      "source": [
        "This section evaluates our trained model using standard classification metrics:\n",
        "- Accuracy: Overall correctness of predictions\n",
        "- Precision: Proportion of positive identifications that were actually correct\n",
        "- Recall: Proportion of actual positives that were identified correctly\n",
        "- F1 Score: Harmonic mean of precision and recall\n",
        "- AUC: Area under the ROC curve"
      ]
    },
    {
      "cell_type": "markdown",
      "metadata": {
        "id": "rYSi_hTl5wmG"
      },
      "source": [
        "### Random Forest model evaluation"
      ]
    },
    {
      "cell_type": "code",
      "execution_count": 126,
      "metadata": {
        "colab": {
          "base_uri": "https://localhost:8080/"
        },
        "id": "GT5WRBpyscIi",
        "outputId": "b705e750-0dec-4981-d4b0-2fb056c8876d"
      },
      "outputs": [
        {
          "name": "stdout",
          "output_type": "stream",
          "text": [
            "[2025-06-17T05:51:38.611178] MODEL_EVALUATION: Evaluating Random Forest model\n"
          ]
        }
      ],
      "source": [
        "log_event(\"MODEL_EVALUATION\", \"Evaluating Random Forest model\")\n",
        "start_time = time.time()"
      ]
    },
    {
      "cell_type": "markdown",
      "metadata": {
        "id": "XcLyA2Kesg7g"
      },
      "source": [
        "#### Make predictions"
      ]
    },
    {
      "cell_type": "code",
      "execution_count": 127,
      "metadata": {
        "id": "p5J2Xko6sjGm"
      },
      "outputs": [],
      "source": [
        "y_pred = rf_model.predict(X_test_scaled)\n",
        "y_pred_proba = rf_model.predict_proba(X_test_scaled)[:, 1]"
      ]
    },
    {
      "cell_type": "markdown",
      "metadata": {
        "id": "sEIBZ-B7snJ5"
      },
      "source": [
        "#### Calculate metrics"
      ]
    },
    {
      "cell_type": "code",
      "execution_count": 128,
      "metadata": {
        "id": "sXx7HpuAspYR"
      },
      "outputs": [],
      "source": [
        "accuracy = accuracy_score(y_test, y_pred)\n",
        "precision = precision_score(y_test, y_pred)\n",
        "recall = recall_score(y_test, y_pred)\n",
        "f1 = f1_score(y_test, y_pred)"
      ]
    },
    {
      "cell_type": "markdown",
      "metadata": {
        "id": "cyKoLwJCtNC2"
      },
      "source": [
        "#### ROC curve and AUC"
      ]
    },
    {
      "cell_type": "code",
      "execution_count": 129,
      "metadata": {
        "id": "E1JNWdydtPpG"
      },
      "outputs": [],
      "source": [
        "fpr, tpr, _ = roc_curve(y_test, y_pred_proba)\n",
        "roc_auc = auc(fpr, tpr)"
      ]
    },
    {
      "cell_type": "markdown",
      "metadata": {
        "id": "K6yhfNIav8QX"
      },
      "source": [
        "#### Log the evaluation metrics"
      ]
    },
    {
      "cell_type": "code",
      "execution_count": 130,
      "metadata": {
        "colab": {
          "base_uri": "https://localhost:8080/"
        },
        "id": "v5Fz1eGgwAYI",
        "outputId": "b1891a59-d408-49f4-af77-4eccd7024f94"
      },
      "outputs": [
        {
          "name": "stdout",
          "output_type": "stream",
          "text": [
            "[2025-06-17T05:51:38.840663] EVALUATION_METRICS: Model performance metrics\n"
          ]
        }
      ],
      "source": [
        "log_event(\"EVALUATION_METRICS\", \"Model performance metrics\", {\n",
        "    \"accuracy\": float(accuracy),\n",
        "    \"precision\": float(precision),\n",
        "    \"recall\": float(recall),\n",
        "    \"f1_score\": float(f1),\n",
        "    \"auc\": float(roc_auc)\n",
        "})"
      ]
    },
    {
      "cell_type": "markdown",
      "metadata": {
        "id": "pMHkcClwwDTr"
      },
      "source": [
        "#### Print model performance"
      ]
    },
    {
      "cell_type": "code",
      "execution_count": 131,
      "metadata": {
        "colab": {
          "base_uri": "https://localhost:8080/"
        },
        "id": "yaLNMYFEwFcz",
        "outputId": "b7925f9d-0ff3-4494-b769-a90c6d1cc763"
      },
      "outputs": [
        {
          "name": "stdout",
          "output_type": "stream",
          "text": [
            "\n",
            "Model Performance:\n",
            "Accuracy: 0.9850\n",
            "Precision: 0.9974\n",
            "Recall: 0.9725\n",
            "F1 Score: 0.9848\n",
            "AUC: 0.9977\n"
          ]
        }
      ],
      "source": [
        "print(\"\\nModel Performance:\")\n",
        "print(f\"Accuracy: {accuracy:.4f}\")\n",
        "print(f\"Precision: {precision:.4f}\")\n",
        "print(f\"Recall: {recall:.4f}\")\n",
        "print(f\"F1 Score: {f1:.4f}\")\n",
        "print(f\"AUC: {roc_auc:.4f}\")"
      ]
    },
    {
      "cell_type": "markdown",
      "metadata": {
        "id": "7WrFeHw26RQ9"
      },
      "source": [
        "### Ensemble model evaluation"
      ]
    },
    {
      "cell_type": "code",
      "execution_count": 132,
      "metadata": {
        "id": "EouLfT5N6Vps"
      },
      "outputs": [],
      "source": [
        "y_pred_ensemble = ensemble_model.predict(X_test_scaled)\n",
        "y_pred_proba_ensemble = ensemble_model.predict_proba(X_test_scaled)[:, 1]"
      ]
    },
    {
      "cell_type": "markdown",
      "metadata": {
        "id": "wPjpE66p60V2"
      },
      "source": [
        "#### Calculate ensemble metrics"
      ]
    },
    {
      "cell_type": "code",
      "execution_count": 133,
      "metadata": {
        "id": "kso-Iq8P65G5"
      },
      "outputs": [],
      "source": [
        "ensemble_accuracy = accuracy_score(y_test, y_pred_ensemble)\n",
        "ensemble_precision = precision_score(y_test, y_pred_ensemble)\n",
        "ensemble_recall = recall_score(y_test, y_pred_ensemble)\n",
        "ensemble_f1 = f1_score(y_test, y_pred_ensemble)"
      ]
    },
    {
      "cell_type": "markdown",
      "metadata": {
        "id": "JOKNzIXq688E"
      },
      "source": [
        "##### ROC curve and AUC"
      ]
    },
    {
      "cell_type": "code",
      "execution_count": 134,
      "metadata": {
        "id": "RPkTFL6k7EAG"
      },
      "outputs": [],
      "source": [
        "fpr_ens, tpr_ens, _ = roc_curve(y_test, y_pred_proba_ensemble)\n",
        "ensemble_auc = auc(fpr_ens, tpr_ens)"
      ]
    },
    {
      "cell_type": "code",
      "execution_count": 135,
      "metadata": {
        "colab": {
          "base_uri": "https://localhost:8080/"
        },
        "id": "Pm7XzdSY7Jbd",
        "outputId": "a7705563-3194-46a6-b458-30d484cbd0c2"
      },
      "outputs": [
        {
          "name": "stdout",
          "output_type": "stream",
          "text": [
            "\n",
            "Ensemble Model Performance:\n",
            "Accuracy: 0.9838\n",
            "Precision: 0.9949\n",
            "Recall: 0.9725\n",
            "F1 Score: 0.9836\n",
            "AUC: 0.9978\n"
          ]
        }
      ],
      "source": [
        "print(\"\\nEnsemble Model Performance:\")\n",
        "print(f\"Accuracy: {ensemble_accuracy:.4f}\")\n",
        "print(f\"Precision: {ensemble_precision:.4f}\")\n",
        "print(f\"Recall: {ensemble_recall:.4f}\")\n",
        "print(f\"F1 Score: {ensemble_f1:.4f}\")\n",
        "print(f\"AUC: {ensemble_auc:.4f}\")"
      ]
    },
    {
      "cell_type": "code",
      "execution_count": 136,
      "metadata": {
        "colab": {
          "base_uri": "https://localhost:8080/"
        },
        "id": "zle3QGtV7L3e",
        "outputId": "0e7879d8-bcec-4fa0-ee9a-000797e34135"
      },
      "outputs": [
        {
          "name": "stdout",
          "output_type": "stream",
          "text": [
            "\n",
            "Improvement over simple model:\n",
            "Accuracy: -0.0012\n",
            "F1 Score: -0.0012\n",
            "AUC: 0.0001\n"
          ]
        }
      ],
      "source": [
        "print(f\"\\nImprovement over simple model:\")\n",
        "print(f\"Accuracy: {ensemble_accuracy - accuracy:.4f}\")\n",
        "print(f\"F1 Score: {ensemble_f1 - f1:.4f}\")\n",
        "print(f\"AUC: {ensemble_auc - roc_auc:.4f}\")"
      ]
    },
    {
      "cell_type": "code",
      "execution_count": 137,
      "metadata": {
        "colab": {
          "base_uri": "https://localhost:8080/"
        },
        "id": "dDswQgsU7Omm",
        "outputId": "c1d0ef11-674d-418d-b903-a7490788ea27"
      },
      "outputs": [
        {
          "name": "stdout",
          "output_type": "stream",
          "text": [
            "[2025-06-17T05:51:38.930315] ENSEMBLE_EVALUATION_COMPLETE: Ensemble model evaluation completed\n"
          ]
        }
      ],
      "source": [
        "log_event(\"ENSEMBLE_EVALUATION_COMPLETE\", \"Ensemble model evaluation completed\", {\n",
        "    \"simple_accuracy\": float(accuracy),\n",
        "    \"simple_f1\": float(f1),\n",
        "    \"simple_auc\": float(roc_auc),\n",
        "    \"ensemble_accuracy\": float(ensemble_accuracy),\n",
        "    \"ensemble_f1\": float(ensemble_f1),\n",
        "    \"ensemble_auc\": float(ensemble_auc)\n",
        "})"
      ]
    },
    {
      "cell_type": "code",
      "execution_count": 138,
      "metadata": {
        "colab": {
          "base_uri": "https://localhost:8080/"
        },
        "id": "72f9hR-o7PRi",
        "outputId": "d3e1f961-257f-4348-f1c9-3f835129841d"
      },
      "outputs": [
        {
          "name": "stdout",
          "output_type": "stream",
          "text": [
            "[2025-06-17T05:51:38.933904] TIMING: Model evaluation completed in 0.32 seconds\n"
          ]
        }
      ],
      "source": [
        "evaluation_time = time.time() - start_time\n",
        "log_event(\"TIMING\", f\"Model evaluation completed in {evaluation_time:.2f} seconds\")"
      ]
    },
    {
      "cell_type": "markdown",
      "metadata": {
        "id": "rXz4Lt9bwLiS"
      },
      "source": [
        "## 5. Visualization of Results"
      ]
    },
    {
      "cell_type": "markdown",
      "metadata": {
        "id": "YAJoJ7ZxwSPl"
      },
      "source": [
        "This section visualizes key aspects of our model performance:\n",
        "- Confusion Matrix: Shows the true positive, false positive, true negative, and false negative counts\n",
        "- ROC Curve: Shows the trade-off between sensitivity and specificity\n",
        "- Feature Importance: Shows which features are most influential in the model's predictions"
      ]
    },
    {
      "cell_type": "markdown",
      "metadata": {
        "id": "GRTug0vIwVhL"
      },
      "source": [
        "### Plot confusion matrix"
      ]
    },
    {
      "cell_type": "code",
      "execution_count": 139,
      "metadata": {
        "colab": {
          "base_uri": "https://localhost:8080/",
          "height": 564
        },
        "id": "CDsyVogZwRTO",
        "outputId": "72da0e2b-d7c9-4c06-fa4e-b0880dd702b2"
      },
      "outputs": [
        {
          "data": {
            "image/png": "[encoded data removed]",
            "text/plain": [
              "<Figure size 800x600 with 2 Axes>"
            ]
          },
          "metadata": {},
          "output_type": "display_data"
        }
      ],
      "source": [
        "plt.figure(figsize=(8, 6))\n",
        "cm = confusion_matrix(y_test, y_pred_ensemble)\n",
        "sns.heatmap(cm, annot=True, fmt='d', cmap='Blues')\n",
        "plt.title('Confusion Matrix - Ensemble Model')\n",
        "plt.ylabel('True Label')\n",
        "plt.xlabel('Predicted Label')\n",
        "plt.show()"
      ]
    },
    {
      "cell_type": "markdown",
      "metadata": {
        "id": "5V3u65zuwbHs"
      },
      "source": [
        "### Plot ROC curve"
      ]
    },
    {
      "cell_type": "code",
      "execution_count": 140,
      "metadata": {
        "colab": {
          "base_uri": "https://localhost:8080/",
          "height": 718
        },
        "id": "q_b0jaiQwdZ2",
        "outputId": "363b8117-5a85-412c-89be-dc68a6f6fe89"
      },
      "outputs": [
        {
          "data": {
            "image/png": "[encoded data removed]",
            "text/plain": [
              "<Figure size 1000x800 with 1 Axes>"
            ]
          },
          "metadata": {},
          "output_type": "display_data"
        }
      ],
      "source": [
        "plt.figure(figsize=(10, 8))\n",
        "plt.plot(fpr, tpr, color='blue', lw=2, label=f'Simple RF (AUC = {roc_auc:.3f})')\n",
        "plt.plot(fpr_ens, tpr_ens, color='red', lw=2, label=f'Ensemble (AUC = {ensemble_auc:.3f})')\n",
        "plt.plot([0, 1], [0, 1], color='gray', lw=2, linestyle='--')\n",
        "plt.xlim([0.0, 1.0])\n",
        "plt.ylim([0.0, 1.05])\n",
        "plt.xlabel('False Positive Rate')\n",
        "plt.ylabel('True Positive Rate')\n",
        "plt.title('ROC Curve Comparison')\n",
        "plt.legend(loc=\"lower right\")\n",
        "plt.show()"
      ]
    },
    {
      "cell_type": "markdown",
      "metadata": {
        "id": "jlQjHhifwjKr"
      },
      "source": [
        "### Feature importance"
      ]
    },
    {
      "cell_type": "code",
      "execution_count": 141,
      "metadata": {
        "id": "UxpeCJqhwooH"
      },
      "outputs": [],
      "source": [
        "feature_importances = pd.DataFrame(\n",
        "    rf_model.feature_importances_,\n",
        "    index=X.columns,\n",
        "    columns=['importance']\n",
        ").sort_values('importance', ascending=False)"
      ]
    },
    {
      "cell_type": "markdown",
      "metadata": {
        "id": "wPL43gBZEglm"
      },
      "source": [
        "### Plot Feature Importance"
      ]
    },
    {
      "cell_type": "code",
      "execution_count": 142,
      "metadata": {
        "colab": {
          "base_uri": "https://localhost:8080/",
          "height": 607
        },
        "id": "m1HCIIj7EdFZ",
        "outputId": "c9524f1a-df19-4a9b-9b57-17df31df99bf"
      },
      "outputs": [
        {
          "data": {
            "image/png": "[encoded data removed]",
            "text/plain": [
              "<Figure size 1000x600 with 1 Axes>"
            ]
          },
          "metadata": {},
          "output_type": "display_data"
        }
      ],
      "source": [
        "plt.figure(figsize=(10, 6))\n",
        "sns.barplot(x=feature_importances.importance, y=feature_importances.index)\n",
        "plt.title('Feature Importances')\n",
        "plt.xlabel('Importance')\n",
        "plt.tight_layout()\n",
        "plt.show()"
      ]
    },
    {
      "cell_type": "markdown",
      "metadata": {
        "id": "_qxNwfYBwvD9"
      },
      "source": [
        "## 6. Testing"
      ]
    },
    {
      "cell_type": "code",
      "execution_count": 143,
      "metadata": {
        "colab": {
          "base_uri": "https://localhost:8080/"
        },
        "id": "fitbzXN1pp90",
        "outputId": "ad8d5419-fced-4d58-d44b-c718990f28ca"
      },
      "outputs": [
        {
          "name": "stdout",
          "output_type": "stream",
          "text": [
            "\n",
            "Testing model with known URLs from test data:\n",
            "Testing legitimate URLs from dataset:\n",
            "Legitimate URL #1:\n",
            "  Predicted class: 0 (Legitimate)\n",
            "  Probability of phishing: 0.0025\n",
            "  Probability of legitimate: 0.9975\n",
            "  Correct prediction: True\n",
            "\n",
            "Legitimate URL #2:\n",
            "  Predicted class: 0 (Legitimate)\n",
            "  Probability of phishing: 0.0151\n",
            "  Probability of legitimate: 0.9849\n",
            "  Correct prediction: True\n",
            "\n",
            "Legitimate URL #3:\n",
            "  Predicted class: 0 (Legitimate)\n",
            "  Probability of phishing: 0.0017\n",
            "  Probability of legitimate: 0.9983\n",
            "  Correct prediction: True\n",
            "\n",
            "Testing phishing URLs from dataset:\n",
            "Phishing URL #1:\n",
            "  Predicted class: 1 (Phishing)\n",
            "  Probability of phishing: 1.0000\n",
            "  Probability of legitimate: 0.0000\n",
            "  Correct prediction: True\n",
            "\n",
            "Phishing URL #2:\n",
            "  Predicted class: 1 (Phishing)\n",
            "  Probability of phishing: 1.0000\n",
            "  Probability of legitimate: 0.0000\n",
            "  Correct prediction: True\n",
            "\n",
            "Phishing URL #3:\n",
            "  Predicted class: 1 (Phishing)\n",
            "  Probability of phishing: 0.9998\n",
            "  Probability of legitimate: 0.0002\n",
            "  Correct prediction: True\n",
            "\n"
          ]
        }
      ],
      "source": [
        "print(\"\\nTesting model with known URLs from test data:\")\n",
        "\n",
        "# Define test URLs - sample from test data\n",
        "good_mask = (y_test == 0)\n",
        "bad_mask = (y_test == 1)\n",
        "\n",
        "# Get a few examples of each class\n",
        "good_urls = X_test[good_mask].iloc[:3]\n",
        "bad_urls = X_test[bad_mask].iloc[:3]\n",
        "\n",
        "# Function to test prediction\n",
        "def test_prediction(features, label, expected_class):\n",
        "    features_scaled = scaler.transform(features)\n",
        "    pred_class = rf_model.predict(features_scaled)\n",
        "    pred_proba = rf_model.predict_proba(features_scaled)\n",
        "\n",
        "    for i in range(len(features)):\n",
        "        print(f\"{label} URL #{i+1}:\")\n",
        "        print(f\"  Predicted class: {pred_class[i]} ({'Phishing' if pred_class[i] == 1 else 'Legitimate'})\")\n",
        "        print(f\"  Probability of phishing: {pred_proba[i][1]:.4f}\")\n",
        "        print(f\"  Probability of legitimate: {pred_proba[i][0]:.4f}\")\n",
        "        print(f\"  Correct prediction: {pred_class[i] == expected_class}\")\n",
        "        print()\n",
        "\n",
        "print(\"Testing legitimate URLs from dataset:\")\n",
        "test_prediction(good_urls, \"Legitimate\", 0)\n",
        "\n",
        "print(\"Testing phishing URLs from dataset:\")\n",
        "test_prediction(bad_urls, \"Phishing\", 1)"
      ]
    },
    {
      "cell_type": "markdown",
      "metadata": {
        "id": "Omut8jAKDL7s"
      },
      "source": [
        "### Testing with Real-World Examples"
      ]
    },
    {
      "cell_type": "code",
      "execution_count": 144,
      "metadata": {
        "id": "AoOYWUyxDPTn"
      },
      "outputs": [],
      "source": [
        "HTTP_WHITELIST = ['example.com', 'info.cern.ch', 'localhost']"
      ]
    },
    {
      "cell_type": "code",
      "execution_count": 145,
      "metadata": {
        "id": "rr3tCxFRsBX5"
      },
      "outputs": [],
      "source": [
        "def test_url(url, model, scaler):\n",
        "    \"\"\"Comprehensive URL testing function for browser extension\"\"\"\n",
        "    try:\n",
        "        # Extract features by creating a temporary DataFrame\n",
        "        features_df = extract_lightweight_features(pd.DataFrame({'URL': [url], 'class': [0]})).drop('is_phishing', axis=1)\n",
        "\n",
        "        # Extract important signals\n",
        "        domain = tldextract.extract(url).domain + '.' + tldextract.extract(url).suffix\n",
        "        uses_http = 1 if not url.startswith('https') else 0\n",
        "        has_ip = 1 if bool(re.search(r'\\d+\\.\\d+\\.\\d+\\.\\d+', url)) else 0\n",
        "\n",
        "        # Scale features\n",
        "        features_scaled = scaler.transform(features_df)\n",
        "\n",
        "        # Get model prediction\n",
        "        prediction = model.predict(features_scaled)[0]\n",
        "        probability = model.predict_proba(features_scaled)[0, 1]\n",
        "\n",
        "        # Rule-based overrides\n",
        "        # 1. Whitelist handling for legitimate HTTP sites\n",
        "        if uses_http == 1 and domain and any(domain.endswith(white) for white in HTTP_WHITELIST):\n",
        "            prediction = 0\n",
        "            probability = 0.2\n",
        "\n",
        "        # 2. Strong phishing signals - like IP address in URL\n",
        "        elif has_ip == 1:\n",
        "            prediction = 1\n",
        "            probability = max(0.9, probability)\n",
        "\n",
        "        return prediction, probability, features_df.iloc[0].to_dict()\n",
        "    except Exception as e:\n",
        "        print(f\"Error testing URL {url}: {str(e)}\")\n",
        "        return 0, 0.5, {}"
      ]
    },
    {
      "cell_type": "markdown",
      "metadata": {
        "id": "6P4QjVVkDhsn"
      },
      "source": [
        "### Testing Legitimate Sites"
      ]
    },
    {
      "cell_type": "code",
      "execution_count": 146,
      "metadata": {
        "colab": {
          "base_uri": "https://localhost:8080/"
        },
        "id": "yNcVuyJSDVZe",
        "outputId": "83878e2f-01c6-4540-e538-ba3c2e4360b4"
      },
      "outputs": [
        {
          "name": "stdout",
          "output_type": "stream",
          "text": [
            "\n",
            "==== Testing Known Legitimate URLs ====\n",
            "\n",
            "URL: https://www.google.com\n",
            "Prediction: Legitimate\n",
            "Phishing Probability: 0.0123\n",
            "Status: ✅ CORRECT\n",
            "Key Features: has_ip=0.0, uses_http=N/A, num_special_chars=N/A\n",
            "\n",
            "URL: https://www.microsoft.com\n",
            "Prediction: Legitimate\n",
            "Phishing Probability: 0.0242\n",
            "Status: ✅ CORRECT\n",
            "Key Features: has_ip=0.0, uses_http=N/A, num_special_chars=N/A\n",
            "\n",
            "URL: https://www.apple.com\n",
            "Prediction: Legitimate\n",
            "Phishing Probability: 0.0339\n",
            "Status: ✅ CORRECT\n",
            "Key Features: has_ip=0.0, uses_http=N/A, num_special_chars=N/A\n",
            "\n",
            "URL: https://www.youtube.com/watch?v=abcdefgh\n",
            "Prediction: Legitimate\n",
            "Phishing Probability: 0.0061\n",
            "Status: ✅ CORRECT\n",
            "Key Features: has_ip=0.0, uses_http=N/A, num_special_chars=N/A\n",
            "\n",
            "URL: https://github.com/username/repository\n",
            "Prediction: Legitimate\n",
            "Phishing Probability: 0.1482\n",
            "Status: ✅ CORRECT\n",
            "Key Features: has_ip=0.0, uses_http=N/A, num_special_chars=N/A\n",
            "\n",
            "URL: https://www.google.com/search?q=test\n",
            "Prediction: Legitimate\n",
            "Phishing Probability: 0.0042\n",
            "Status: ✅ CORRECT\n",
            "Key Features: has_ip=0.0, uses_http=N/A, num_special_chars=N/A\n",
            "\n",
            "URL: https://www.amazon.com/product\n",
            "Prediction: Legitimate\n",
            "Phishing Probability: 0.0180\n",
            "Status: ✅ CORRECT\n",
            "Key Features: has_ip=0.0, uses_http=N/A, num_special_chars=N/A\n",
            "\n",
            "URL: http://example.com\n",
            "Prediction: Legitimate\n",
            "Phishing Probability: 0.2000\n",
            "Status: ✅ CORRECT\n",
            "Key Features: has_ip=0.0, uses_http=N/A, num_special_chars=N/A\n",
            "\n",
            "URL: http://info.cern.ch\n",
            "Prediction: Phishing\n",
            "Phishing Probability: 0.6662\n",
            "Status: ❌ MISCLASSIFIED\n",
            "Key Features: has_ip=0.0, uses_http=N/A, num_special_chars=N/A\n"
          ]
        }
      ],
      "source": [
        "print(\"\\n==== Testing Known Legitimate URLs ====\")\n",
        "legitimate_urls = [\n",
        "    # Major tech companies\n",
        "    \"https://www.google.com\",\n",
        "    \"https://www.microsoft.com\",\n",
        "    \"https://www.apple.com\",\n",
        "    \"https://www.youtube.com/watch?v=abcdefgh\",\n",
        "    \"https://github.com/username/repository\",\n",
        "    \"https://www.google.com/search?q=test\",\n",
        "    \"https://www.amazon.com/product\",\n",
        "    # Non-HTTPS but legitimate - critical test cases\n",
        "    \"http://example.com\",\n",
        "    \"http://info.cern.ch\"  # First ever website\n",
        "]\n",
        "\n",
        "legitimate_results = []\n",
        "for url in legitimate_urls:\n",
        "    try:\n",
        "        prediction, probability, features = test_url(url, rf_model, scaler)\n",
        "        status = \"❌ MISCLASSIFIED\" if prediction == 1 else \"✅ CORRECT\"\n",
        "\n",
        "        print(f\"\\nURL: {url}\")\n",
        "        print(f\"Prediction: {'Phishing' if prediction == 1 else 'Legitimate'}\")\n",
        "        print(f\"Phishing Probability: {probability:.4f}\")\n",
        "        print(f\"Status: {status}\")\n",
        "        print(f\"Key Features: has_ip={features.get('has_ip', 'N/A')}, uses_http={features.get('uses_http', 'N/A')}, num_special_chars={features.get('num_special_chars', 'N/A')}\")\n",
        "\n",
        "        legitimate_results.append({\n",
        "            \"url\": url,\n",
        "            \"prediction\": prediction,\n",
        "            \"probability\": probability,\n",
        "            \"status\": status\n",
        "        })\n",
        "    except Exception as e:\n",
        "        print(f\"Error analyzing {url}: {str(e)}\")"
      ]
    },
    {
      "cell_type": "markdown",
      "metadata": {
        "id": "K_eRWEfbDjqo"
      },
      "source": [
        "### Testing Phishing Sites"
      ]
    },
    {
      "cell_type": "code",
      "execution_count": 147,
      "metadata": {
        "colab": {
          "base_uri": "https://localhost:8080/"
        },
        "id": "-8xtflHzDngT",
        "outputId": "0c7604ae-cb3a-4f71-fa25-55d2eb5861de"
      },
      "outputs": [
        {
          "name": "stdout",
          "output_type": "stream",
          "text": [
            "\n",
            "==== Testing Phishing URL Patterns ====\n",
            "\n",
            "URL: http://192.168.1.1/login\n",
            "Prediction: Phishing\n",
            "Phishing Probability: 0.9800\n",
            "Status: ✅ CORRECT\n",
            "Key Features: has_ip=1.0, num_dots=3.0, num_subdomains=N/A\n",
            "\n",
            "URL: https://secur1ty-paypal.com.verifyaccount.net/login\n",
            "Prediction: Phishing\n",
            "Phishing Probability: 0.8570\n",
            "Status: ✅ CORRECT\n",
            "Key Features: has_ip=0.0, num_dots=3.0, num_subdomains=N/A\n",
            "\n",
            "URL: https://bit.ly/3xQ8kMp\n",
            "Prediction: Legitimate\n",
            "Phishing Probability: 0.1468\n",
            "Status: ❌ MISCLASSIFIED\n",
            "Key Features: has_ip=0.0, num_dots=1.0, num_subdomains=N/A\n",
            "\n",
            "URL: https://login.account.security.update.com.mydomain.net/signin\n",
            "Prediction: Legitimate\n",
            "Phishing Probability: 0.4890\n",
            "Status: ❌ MISCLASSIFIED\n",
            "Key Features: has_ip=0.0, num_dots=6.0, num_subdomains=N/A\n"
          ]
        }
      ],
      "source": [
        "print(\"\\n==== Testing Phishing URL Patterns ====\")\n",
        "phishing_patterns = [\n",
        "    # IP address URLs\n",
        "    \"http://192.168.1.1/login\",\n",
        "    # Suspicious domain patterns\n",
        "    \"https://secur1ty-paypal.com.verifyaccount.net/login\",\n",
        "    # URL shorteners\n",
        "    \"https://bit.ly/3xQ8kMp\",\n",
        "    # Excessive subdomains\n",
        "    \"https://login.account.security.update.com.mydomain.net/signin\"\n",
        "]\n",
        "\n",
        "phishing_results = []\n",
        "for url in phishing_patterns:\n",
        "    try:\n",
        "        prediction, probability, features = test_url(url, rf_model, scaler)\n",
        "        status = \"❌ MISCLASSIFIED\" if prediction == 0 else \"✅ CORRECT\"\n",
        "\n",
        "        print(f\"\\nURL: {url}\")\n",
        "        print(f\"Prediction: {'Phishing' if prediction == 1 else 'Legitimate'}\")\n",
        "        print(f\"Phishing Probability: {probability:.4f}\")\n",
        "        print(f\"Status: {status}\")\n",
        "        print(f\"Key Features: has_ip={features.get('has_ip', 'N/A')}, num_dots={features.get('num_dots', 'N/A')}, num_subdomains={features.get('num_subdomains', 'N/A')}\")\n",
        "\n",
        "        phishing_results.append({\n",
        "            \"url\": url,\n",
        "            \"prediction\": prediction,\n",
        "            \"probability\": probability,\n",
        "            \"status\": status\n",
        "        })\n",
        "    except Exception as e:\n",
        "        print(f\"Error analyzing {url}: {str(e)}\")"
      ]
    },
    {
      "cell_type": "markdown",
      "metadata": {
        "id": "Rk1p7QOTDqm5"
      },
      "source": [
        "### Overall Testing Results"
      ]
    },
    {
      "cell_type": "code",
      "execution_count": 148,
      "metadata": {
        "colab": {
          "base_uri": "https://localhost:8080/"
        },
        "id": "ii4zIRHsDsbI",
        "outputId": "206ec34b-8ec6-4cb9-bab0-7647a8b997bc"
      },
      "outputs": [
        {
          "name": "stdout",
          "output_type": "stream",
          "text": [
            "\n",
            "==== Overall Testing Results ====\n",
            "Accuracy on legitimate URLs: 88.89%\n",
            "Accuracy on phishing URLs: 50.00%\n",
            "Overall accuracy: 76.92%\n"
          ]
        }
      ],
      "source": [
        "print(\"\\n==== Overall Testing Results ====\")\n",
        "legitimate_accuracy = sum(1 for r in legitimate_results if r[\"status\"] == \"✅ CORRECT\") / len(legitimate_results)\n",
        "print(f\"Accuracy on legitimate URLs: {legitimate_accuracy:.2%}\")\n",
        "\n",
        "phishing_accuracy = sum(1 for r in phishing_results if r[\"status\"] == \"✅ CORRECT\") / len(phishing_results)\n",
        "print(f\"Accuracy on phishing URLs: {phishing_accuracy:.2%}\")\n",
        "\n",
        "all_results = legitimate_results + phishing_results\n",
        "overall_accuracy = sum(1 for r in all_results if r[\"status\"] == \"✅ CORRECT\") / len(all_results)\n",
        "print(f\"Overall accuracy: {overall_accuracy:.2%}\")"
      ]
    },
    {
      "cell_type": "code",
      "execution_count": 149,
      "metadata": {
        "colab": {
          "base_uri": "https://localhost:8080/"
        },
        "id": "erdEtn7aDxjH",
        "outputId": "6f8d56c8-ff3c-4be7-9256-b0851e75fb04"
      },
      "outputs": [
        {
          "name": "stdout",
          "output_type": "stream",
          "text": [
            "[2025-06-17T05:51:39.929381] MODEL_TESTING_RESULTS: Results of comprehensive URL testing\n"
          ]
        }
      ],
      "source": [
        "log_event(\"MODEL_TESTING_RESULTS\", \"Results of comprehensive URL testing\", {\n",
        "    \"legitimate_url_accuracy\": float(legitimate_accuracy),\n",
        "    \"phishing_url_accuracy\": float(phishing_accuracy),\n",
        "    \"overall_accuracy\": float(overall_accuracy),\n",
        "    \"legitimate_urls_tested\": len(legitimate_results),\n",
        "    \"phishing_urls_tested\": len(phishing_results)\n",
        "})"
      ]
    },
    {
      "cell_type": "markdown",
      "metadata": {
        "id": "YaFTnPcI_ESL"
      },
      "source": [
        "### Ensemble model testing"
      ]
    },
    {
      "cell_type": "code",
      "execution_count": 150,
      "metadata": {
        "id": "1eMScnUB_KoK"
      },
      "outputs": [],
      "source": [
        "def test_url_ensemble(url, ensemble_model, scaler):\n",
        "    \"\"\"Advanced URL testing with ensemble model\"\"\"\n",
        "    try:\n",
        "        # Extract enhanced features\n",
        "        features_df = extract_lightweight_features(pd.DataFrame({'URL': [url], 'class': [0]})).drop('is_phishing', axis=1)\n",
        "\n",
        "        # Scale features\n",
        "        features_scaled = scaler.transform(features_df)\n",
        "\n",
        "        # Get ensemble prediction\n",
        "        prediction = ensemble_model.predict(features_scaled)[0]\n",
        "        probability = ensemble_model.predict_proba(features_scaled)[0, 1]\n",
        "\n",
        "        # Get individual model predictions for analysis\n",
        "        individual_predictions = {}\n",
        "        for name, model in ensemble_model.named_estimators_.items():\n",
        "            pred = model.predict(features_scaled)[0]\n",
        "            prob = model.predict_proba(features_scaled)[0, 1]\n",
        "            individual_predictions[name] = {'prediction': pred, 'probability': prob}\n",
        "\n",
        "        return prediction, probability, features_df.iloc[0].to_dict(), individual_predictions\n",
        "    except Exception as e:\n",
        "        print(f\"Error testing URL {url}: {str(e)}\")\n",
        "        return 0, 0.5, {}, {}"
      ]
    },
    {
      "cell_type": "code",
      "execution_count": 151,
      "metadata": {
        "colab": {
          "base_uri": "https://localhost:8080/"
        },
        "id": "2vfV3j4s_OS3",
        "outputId": "96629392-25dc-46c4-c580-98e68e90f312"
      },
      "outputs": [
        {
          "name": "stdout",
          "output_type": "stream",
          "text": [
            "[2025-06-17T05:51:39.937856] ADVANCED_TESTING: Starting advanced testing with ensemble model\n"
          ]
        }
      ],
      "source": [
        "log_event(\"ADVANCED_TESTING\", \"Starting advanced testing with ensemble model\")\n",
        "start_time = time.time()"
      ]
    },
    {
      "cell_type": "markdown",
      "metadata": {
        "id": "gYWA26yL_Ske"
      },
      "source": [
        "#### Test with challenging real-world examples"
      ]
    },
    {
      "cell_type": "code",
      "execution_count": null,
      "metadata": {
        "id": "TaiOBH8F_PoY"
      },
      "outputs": [],
      "source": [
        "challenging_legitimate_urls = [\n",
        "    \"https://www.paypal.com/signin\",\n",
        "    \"https://accounts.google.com/signin\",\n",
        "    \"https://login.microsoftonline.com\",\n",
        "    \"https://secure.bankofamerica.com/login\",\n",
        "    \"https://www.chase.com/personal/checking\",\n",
        "    \"https://github.com/microsoft/vscode\",\n",
        "    \"https://stackoverflow.com/questions/tagged/python\"\n",
        "]\n",
        "\n",
        "challenging_phishing_urls = [\n",
        "    \"https://paypal-verification.secure-login.net/signin\",\n",
        "    \"https://google-accounts.verify-security.com/login\",\n",
        "    \"https://microsoft-login.security-update.org/signin\",\n",
        "    \"https://bankofamerica-secure.customer-verify.net/login\",\n",
        "    \"https://chase-bank.account-security.com/personal/checking\",\n",
        "    \"http://192.168.1.100/paypal-login\",\n",
        "    \"https://bit.ly/suspicious-link\",\n",
        "    \"https://lovely-choice-666517.framer.app\",\n",
        "    \"https://illinois-aap.org/\",\n",
        "    \"https://luresta.top/\",\n",
        "    \"http://bilds.space\",\n",
        "    \"https://faceit.eternalgamlng.com/\"\n",
        "]"
      ]
    },
    {
      "cell_type": "code",
      "execution_count": 153,
      "metadata": {
        "colab": {
          "base_uri": "https://localhost:8080/"
        },
        "id": "hza937Pm_hMl",
        "outputId": "c4fa9377-8d6a-4fbb-d3f4-fc9dbaf9f4dd"
      },
      "outputs": [
        {
          "name": "stdout",
          "output_type": "stream",
          "text": [
            "\n",
            "==== Advanced Testing with Ensemble Model ====\n",
            "\n",
            "Testing Challenging Legitimate URLs:\n",
            "\n",
            "URL: https://www.paypal.com/signin\n",
            "Ensemble Prediction: Legitimate\n",
            "Ensemble Probability: 0.0085\n",
            "Status: ✅ CORRECT\n",
            "Individual Models: RF=0.002, GB=0.001, LR=0.023\n",
            "\n",
            "URL: https://accounts.google.com/signin\n",
            "Ensemble Prediction: Legitimate\n",
            "Ensemble Probability: 0.2713\n",
            "Status: ✅ CORRECT\n",
            "Individual Models: RF=0.232, GB=0.261, LR=0.321\n",
            "\n",
            "URL: https://login.microsoftonline.com\n",
            "Ensemble Prediction: Phishing\n",
            "Ensemble Probability: 0.6863\n",
            "Status: ❌ MISCLASSIFIED\n",
            "Individual Models: RF=0.505, GB=0.953, LR=0.601\n",
            "\n",
            "URL: https://secure.bankofamerica.com/login\n",
            "Ensemble Prediction: Phishing\n",
            "Ensemble Probability: 0.5085\n",
            "Status: ❌ MISCLASSIFIED\n",
            "Individual Models: RF=0.312, GB=0.341, LR=0.872\n",
            "\n",
            "URL: https://www.chase.com/personal/checking\n",
            "Ensemble Prediction: Legitimate\n",
            "Ensemble Probability: 0.0040\n",
            "Status: ✅ CORRECT\n",
            "Individual Models: RF=0.001, GB=0.000, LR=0.011\n",
            "\n",
            "URL: https://github.com/microsoft/vscode\n",
            "Ensemble Prediction: Legitimate\n",
            "Ensemble Probability: 0.1091\n",
            "Status: ✅ CORRECT\n",
            "Individual Models: RF=0.206, GB=0.027, LR=0.094\n",
            "\n",
            "URL: https://stackoverflow.com/questions/tagged/python\n",
            "Ensemble Prediction: Legitimate\n",
            "Ensemble Probability: 0.0761\n",
            "Status: ✅ CORRECT\n",
            "Individual Models: RF=0.001, GB=0.002, LR=0.225\n"
          ]
        }
      ],
      "source": [
        "print(\"\\n==== Advanced Testing with Ensemble Model ====\")\n",
        "print(\"\\nTesting Challenging Legitimate URLs:\")\n",
        "legitimate_correct = 0\n",
        "for url in challenging_legitimate_urls:\n",
        "    prediction, probability, features, individual = test_url_ensemble(url, ensemble_model, scaler)\n",
        "    status = \"❌ MISCLASSIFIED\" if prediction == 1 else \"✅ CORRECT\"\n",
        "    if prediction == 0:\n",
        "        legitimate_correct += 1\n",
        "\n",
        "    print(f\"\\nURL: {url}\")\n",
        "    print(f\"Ensemble Prediction: {'Phishing' if prediction == 1 else 'Legitimate'}\")\n",
        "    print(f\"Ensemble Probability: {probability:.4f}\")\n",
        "    print(f\"Status: {status}\")\n",
        "    print(f\"Individual Models: RF={individual.get('rf', {}).get('probability', 0):.3f}, \"\n",
        "          f\"GB={individual.get('gb', {}).get('probability', 0):.3f}, \"\n",
        "          f\"LR={individual.get('lr', {}).get('probability', 0):.3f}\")"
      ]
    },
    {
      "cell_type": "code",
      "execution_count": 154,
      "metadata": {
        "colab": {
          "base_uri": "https://localhost:8080/"
        },
        "id": "L_xx5K9i_k3r",
        "outputId": "b28ceb58-3e40-4ea0-f4fd-30924f381f4d"
      },
      "outputs": [
        {
          "name": "stdout",
          "output_type": "stream",
          "text": [
            "\n",
            "Testing Challenging Phishing URLs:\n",
            "\n",
            "URL: https://paypal-verification.secure-login.net/signin\n",
            "Ensemble Prediction: Phishing\n",
            "Ensemble Probability: 0.9342\n",
            "Status: ✅ CORRECT\n",
            "Individual Models: RF=0.804, GB=1.000, LR=0.999\n",
            "\n",
            "URL: https://google-accounts.verify-security.com/login\n",
            "Ensemble Prediction: Phishing\n",
            "Ensemble Probability: 0.9451\n",
            "Status: ✅ CORRECT\n",
            "Individual Models: RF=0.836, GB=1.000, LR=1.000\n",
            "\n",
            "URL: https://microsoft-login.security-update.org/signin\n",
            "Ensemble Prediction: Phishing\n",
            "Ensemble Probability: 0.9309\n",
            "Status: ✅ CORRECT\n",
            "Individual Models: RF=0.803, GB=1.000, LR=0.990\n",
            "\n",
            "URL: https://bankofamerica-secure.customer-verify.net/login\n",
            "Ensemble Prediction: Phishing\n",
            "Ensemble Probability: 0.9346\n",
            "Status: ✅ CORRECT\n",
            "Individual Models: RF=0.804, GB=1.000, LR=1.000\n",
            "\n",
            "URL: https://chase-bank.account-security.com/personal/checking\n",
            "Ensemble Prediction: Phishing\n",
            "Ensemble Probability: 0.9099\n",
            "Status: ✅ CORRECT\n",
            "Individual Models: RF=0.758, GB=1.000, LR=0.972\n",
            "\n",
            "URL: http://192.168.1.100/paypal-login\n",
            "Ensemble Prediction: Phishing\n",
            "Ensemble Probability: 0.9964\n",
            "Status: ✅ CORRECT\n",
            "Individual Models: RF=0.990, GB=0.999, LR=1.000\n",
            "\n",
            "URL: https://bit.ly/suspicious-link\n",
            "Ensemble Prediction: Legitimate\n",
            "Ensemble Probability: 0.0329\n",
            "Status: ❌ MISCLASSIFIED\n",
            "Individual Models: RF=0.071, GB=0.000, LR=0.028\n"
          ]
        }
      ],
      "source": [
        "print(\"\\nTesting Challenging Phishing URLs:\")\n",
        "phishing_correct = 0\n",
        "for url in challenging_phishing_urls:\n",
        "    prediction, probability, features, individual = test_url_ensemble(url, ensemble_model, scaler)\n",
        "    status = \"❌ MISCLASSIFIED\" if prediction == 0 else \"✅ CORRECT\"\n",
        "    if prediction == 1:\n",
        "        phishing_correct += 1\n",
        "\n",
        "    print(f\"\\nURL: {url}\")\n",
        "    print(f\"Ensemble Prediction: {'Phishing' if prediction == 1 else 'Legitimate'}\")\n",
        "    print(f\"Ensemble Probability: {probability:.4f}\")\n",
        "    print(f\"Status: {status}\")\n",
        "    print(f\"Individual Models: RF={individual.get('rf', {}).get('probability', 0):.3f}, \"\n",
        "          f\"GB={individual.get('gb', {}).get('probability', 0):.3f}, \"\n",
        "          f\"LR={individual.get('lr', {}).get('probability', 0):.3f}\")"
      ]
    },
    {
      "cell_type": "markdown",
      "metadata": {
        "id": "A1Ge0fYz_nvE"
      },
      "source": [
        "#### Calculate real-world accuracy"
      ]
    },
    {
      "cell_type": "code",
      "execution_count": 155,
      "metadata": {
        "id": "QpB56xab_zBq"
      },
      "outputs": [],
      "source": [
        "legitimate_accuracy = legitimate_correct / len(challenging_legitimate_urls)\n",
        "phishing_accuracy = phishing_correct / len(challenging_phishing_urls)\n",
        "overall_real_world_accuracy = (legitimate_correct + phishing_correct) / (len(challenging_legitimate_urls) + len(challenging_phishing_urls))"
      ]
    },
    {
      "cell_type": "code",
      "execution_count": 156,
      "metadata": {
        "colab": {
          "base_uri": "https://localhost:8080/"
        },
        "id": "QnK0xaIJ_2G4",
        "outputId": "81f640ee-fdea-40be-bb8f-7290710202ff"
      },
      "outputs": [
        {
          "name": "stdout",
          "output_type": "stream",
          "text": [
            "\n",
            "==== Real-World Performance ====\n",
            "Legitimate URL Accuracy: 71.43% (5/7)\n",
            "Phishing URL Accuracy: 85.71% (6/7)\n",
            "Overall Real-World Accuracy: 78.57%\n"
          ]
        }
      ],
      "source": [
        "print(f\"\\n==== Real-World Performance ====\")\n",
        "print(f\"Legitimate URL Accuracy: {legitimate_accuracy:.2%} ({legitimate_correct}/{len(challenging_legitimate_urls)})\")\n",
        "print(f\"Phishing URL Accuracy: {phishing_accuracy:.2%} ({phishing_correct}/{len(challenging_phishing_urls)})\")\n",
        "print(f\"Overall Real-World Accuracy: {overall_real_world_accuracy:.2%}\")"
      ]
    },
    {
      "cell_type": "code",
      "execution_count": 157,
      "metadata": {
        "colab": {
          "base_uri": "https://localhost:8080/"
        },
        "id": "c7TE2mOu_6CA",
        "outputId": "213d6de7-78a1-4fd4-a32e-d02c3ca4dfde"
      },
      "outputs": [
        {
          "name": "stdout",
          "output_type": "stream",
          "text": [
            "[2025-06-17T05:51:41.325562] TIMING: Advanced testing completed in 1.39 seconds\n"
          ]
        }
      ],
      "source": [
        "testing_time = time.time() - start_time\n",
        "log_event(\"TIMING\", f\"Advanced testing completed in {testing_time:.2f} seconds\")"
      ]
    },
    {
      "cell_type": "markdown",
      "metadata": {
        "id": "eSS2_AFSsTOr"
      },
      "source": [
        "## 6. Model Saving"
      ]
    },
    {
      "cell_type": "markdown",
      "metadata": {
        "id": "T7iM-7FYsT8c"
      },
      "source": [
        "This section saves the trained model and other artifacts:\n",
        "- Full model for server-side use\n",
        "- Model metadata for tracking\n",
        "- Preprocessing scaler for future use"
      ]
    },
    {
      "cell_type": "code",
      "execution_count": 158,
      "metadata": {
        "colab": {
          "base_uri": "https://localhost:8080/"
        },
        "id": "Fjh32DP3sYl5",
        "outputId": "143ba3df-5df8-48db-8544-5878b05a3f77"
      },
      "outputs": [
        {
          "name": "stdout",
          "output_type": "stream",
          "text": [
            "[2025-06-17T05:51:41.329361] MODEL_SAVING: Saving both simple and ensemble models\n"
          ]
        }
      ],
      "source": [
        "log_event(\"MODEL_SAVING\", \"Saving both simple and ensemble models\")\n",
        "start_time = time.time()"
      ]
    },
    {
      "cell_type": "markdown",
      "metadata": {
        "id": "4nDv3zLvw4Bp"
      },
      "source": [
        "### Save the model"
      ]
    },
    {
      "cell_type": "code",
      "execution_count": 159,
      "metadata": {
        "colab": {
          "base_uri": "https://localhost:8080/"
        },
        "id": "WdmkAmMZw6Ib",
        "outputId": "191086f9-5fd4-4bc6-b5bc-c4413e70be3a"
      },
      "outputs": [
        {
          "data": {
            "text/plain": [
              "['/content/drive/MyDrive/PUSL3190/models/browser_extension/browser_extension_model.pkl']"
            ]
          },
          "execution_count": 159,
          "metadata": {},
          "output_type": "execute_result"
        }
      ],
      "source": [
        "joblib.dump(rf_model, MODEL_OUTPUT_PATH)"
      ]
    },
    {
      "cell_type": "code",
      "execution_count": 160,
      "metadata": {
        "colab": {
          "base_uri": "https://localhost:8080/"
        },
        "id": "IqJKTmKk9OC2",
        "outputId": "8c9f3e2d-bc7d-4254-b538-0bfecbf6b077"
      },
      "outputs": [
        {
          "data": {
            "text/plain": [
              "['/content/drive/MyDrive/PUSL3190/models/browser_extension/browser_extension_ensemble_model.pkl']"
            ]
          },
          "execution_count": 160,
          "metadata": {},
          "output_type": "execute_result"
        }
      ],
      "source": [
        "joblib.dump(ensemble_model, ENSEMBLE_MODEL_OUTPUT_PATH)"
      ]
    },
    {
      "cell_type": "markdown",
      "metadata": {
        "id": "scTF_16MxUn9"
      },
      "source": [
        "### Save the scaler for future preprocessing"
      ]
    },
    {
      "cell_type": "code",
      "execution_count": 161,
      "metadata": {
        "colab": {
          "base_uri": "https://localhost:8080/"
        },
        "id": "zzQ3pJYPxcvy",
        "outputId": "6bb2e27a-d4ba-4fc3-eb68-8d122a07d9c2"
      },
      "outputs": [
        {
          "data": {
            "text/plain": [
              "['/content/drive/MyDrive/PUSL3190/models/browser_extension/browser_extension_scaler.pkl']"
            ]
          },
          "execution_count": 161,
          "metadata": {},
          "output_type": "execute_result"
        }
      ],
      "source": [
        "joblib.dump(scaler, SCALER_OUTPUT_PATH)"
      ]
    },
    {
      "cell_type": "markdown",
      "metadata": {
        "id": "hTV6NeQOxfeO"
      },
      "source": [
        "### Save model parameters and metadata"
      ]
    },
    {
      "cell_type": "code",
      "execution_count": 162,
      "metadata": {
        "id": "yZaoYhNNxjND"
      },
      "outputs": [],
      "source": [
        "simple_model_info = {\n",
        "    \"name\": \"browser_extension_random_forest_model\",\n",
        "    \"type\": \"random_forest\",\n",
        "    \"version\": \"2.0\",\n",
        "    \"trained_at\": datetime.now().isoformat(),\n",
        "    \"accuracy\": float(accuracy),\n",
        "    \"precision\": float(precision),\n",
        "    \"recall\": float(recall),\n",
        "    \"f1_score\": float(f1),\n",
        "    \"auc\": float(roc_auc),\n",
        "    \"parameters\": {\n",
        "        \"n_estimators\": rf_model.n_estimators,\n",
        "        \"max_depth\": rf_model.max_depth,\n",
        "        \"min_samples_split\": rf_model.min_samples_split,\n",
        "        \"min_samples_leaf\": rf_model.min_samples_leaf\n",
        "    },\n",
        "    \"feature_list\": list(X.columns),\n",
        "    \"model_size_bytes\": os.path.getsize(MODEL_OUTPUT_PATH),\n",
        "    \"label_encoding\": {\n",
        "        \"0\": \"legitimate\",\n",
        "        \"1\": \"phishing\"\n",
        "    },\n",
        "    \"feature_importances\": {\n",
        "        \"importance\": {name: float(importance) for name, importance in zip(X.columns, rf_model.feature_importances_)}\n",
        "    },\n",
        "    \"dataset_info\": {\n",
        "        \"total_samples\": df.shape[0],\n",
        "        \"legitimate_samples\": int(np.sum(df['class'] == 0)),\n",
        "        \"phishing_samples\": int(np.sum(df['class'] == 1)),\n",
        "    },\n",
        "    \"real_world_performance\": {\n",
        "        \"legitimate_accuracy\": float(legitimate_accuracy),\n",
        "        \"phishing_accuracy\": float(phishing_accuracy),\n",
        "        \"overall_accuracy\": float(overall_real_world_accuracy)\n",
        "    }\n",
        "}"
      ]
    },
    {
      "cell_type": "markdown",
      "metadata": {
        "id": "hNHJRsFK9YZ7"
      },
      "source": [
        "### Ensemble model metadata"
      ]
    },
    {
      "cell_type": "code",
      "execution_count": 163,
      "metadata": {
        "id": "ueuwAABK9W0R"
      },
      "outputs": [],
      "source": [
        "ensemble_model_info = {\n",
        "    \"name\": \"browser_extension_ensemble_model\",\n",
        "    \"type\": \"ensemble_voting\",\n",
        "    \"version\": \"2.0\",\n",
        "    \"trained_at\": datetime.now().isoformat(),\n",
        "    \"accuracy\": float(ensemble_accuracy),\n",
        "    \"precision\": float(ensemble_precision),\n",
        "    \"recall\": float(ensemble_recall),\n",
        "    \"f1_score\": float(ensemble_f1),\n",
        "    \"auc\": float(ensemble_auc),\n",
        "    \"ensemble_components\": [\"random_forest\", \"gradient_boosting\", \"logistic_regression\"],\n",
        "    \"feature_list\": list(X.columns),\n",
        "    \"model_size_bytes\": os.path.getsize(ENSEMBLE_MODEL_OUTPUT_PATH),\n",
        "    \"label_encoding\": {\n",
        "        \"0\": \"legitimate\",\n",
        "        \"1\": \"phishing\"\n",
        "    },\n",
        "    \"dataset_info\": {\n",
        "        \"total_samples\": df.shape[0],\n",
        "        \"legitimate_samples\": int(np.sum(df['class'] == 0)),\n",
        "        \"phishing_samples\": int(np.sum(df['class'] == 1)),\n",
        "    },\n",
        "    \"real_world_performance\": {\n",
        "        \"legitimate_accuracy\": float(legitimate_accuracy),\n",
        "        \"phishing_accuracy\": float(phishing_accuracy),\n",
        "        \"overall_accuracy\": float(overall_real_world_accuracy)\n",
        "    }\n",
        "}"
      ]
    },
    {
      "cell_type": "code",
      "execution_count": 164,
      "metadata": {
        "id": "Fq6A0D9vEsgC"
      },
      "outputs": [],
      "source": [
        "with open(METADATA_OUTPUT_PATH, 'w') as f:\n",
        "    json.dump(simple_model_info, f, indent=2)"
      ]
    },
    {
      "cell_type": "code",
      "execution_count": 165,
      "metadata": {
        "id": "sday15FI9jok"
      },
      "outputs": [],
      "source": [
        "with open(ENSEMBLE_METADATA_OUTPUT_PATH, 'w') as f:\n",
        "    json.dump(ensemble_model_info, f, indent=2)"
      ]
    },
    {
      "cell_type": "code",
      "execution_count": 166,
      "metadata": {
        "colab": {
          "base_uri": "https://localhost:8080/"
        },
        "id": "JKYt9Klu9rWj",
        "outputId": "6ac85aac-d24d-4b1d-e382-3358b4ff5c54"
      },
      "outputs": [
        {
          "name": "stdout",
          "output_type": "stream",
          "text": [
            "[2025-06-17T05:51:41.448687] TIMING: Model saving completed in 0.12 seconds\n"
          ]
        }
      ],
      "source": [
        "saving_time = time.time() - start_time\n",
        "log_event(\"TIMING\", f\"Model saving completed in {saving_time:.2f} seconds\")"
      ]
    },
    {
      "cell_type": "markdown",
      "metadata": {
        "id": "0O6TqgQOzOi1"
      },
      "source": [
        "## 7. Summary"
      ]
    },
    {
      "cell_type": "markdown",
      "metadata": {
        "id": "fygd5AzI4kwN"
      },
      "source": [
        "### Save all logs to file"
      ]
    },
    {
      "cell_type": "code",
      "execution_count": 167,
      "metadata": {
        "id": "o2Zht7EhOQrG"
      },
      "outputs": [],
      "source": [
        "def save_logs_with_append(log_data, log_file_path):\n",
        "    try:\n",
        "        with open(log_file_path, 'r') as f:\n",
        "            try:\n",
        "                existing_logs = json.load(f)\n",
        "                if not isinstance(existing_logs, list):\n",
        "                    existing_logs = []\n",
        "            except json.JSONDecodeError:\n",
        "                existing_logs = []\n",
        "    except FileNotFoundError:\n",
        "        existing_logs = []\n",
        "\n",
        "    combined_logs = existing_logs + log_data\n",
        "\n",
        "    with open(log_file_path, 'w') as f:\n",
        "        json.dump(combined_logs, f, indent=2)\n",
        "\n",
        "    print(f\"Appended {len(log_data)} new log entries to {log_file_path}\")\n",
        "    return combined_logs"
      ]
    },
    {
      "cell_type": "code",
      "execution_count": 168,
      "metadata": {
        "colab": {
          "base_uri": "https://localhost:8080/"
        },
        "id": "ylXBLVk44nZf",
        "outputId": "73c2fbac-cbae-48d8-d3d3-16c22da85a39"
      },
      "outputs": [
        {
          "name": "stdout",
          "output_type": "stream",
          "text": [
            "Appended 19 new log entries to /content/drive/MyDrive/PUSL3190/logs/browser_extension_training_log.json\n"
          ]
        }
      ],
      "source": [
        "log_data = save_logs_with_append(log_data, LOG_OUTPUT_PATH)"
      ]
    },
    {
      "cell_type": "markdown",
      "metadata": {
        "id": "EXEPJ_IG4reI"
      },
      "source": [
        "### Training details"
      ]
    },
    {
      "cell_type": "code",
      "execution_count": 169,
      "metadata": {
        "colab": {
          "base_uri": "https://localhost:8080/"
        },
        "id": "LvoaBiVqzQea",
        "outputId": "08f9d03d-3172-4769-990c-420d202d31cf"
      },
      "outputs": [
        {
          "name": "stdout",
          "output_type": "stream",
          "text": [
            "\n",
            "===== TRAINING COMPLETE =====\n",
            "Simple model accuracy: 0.9850\n",
            "Ensemble model accuracy: 0.9838\n",
            "Real-world performance: 78.57%\n",
            "Simple model saved to /content/drive/MyDrive/PUSL3190/models/browser_extension/browser_extension_model.pkl\n",
            "Ensemble model saved to /content/drive/MyDrive/PUSL3190/models/browser_extension/browser_extension_ensemble_model.pkl\n",
            "Metadata saved to /content/drive/MyDrive/PUSL3190/models/browser_extension/browser_extension_metadata.json\n",
            "Logs saved to /content/drive/MyDrive/PUSL3190/logs/browser_extension_training_log.json\n"
          ]
        }
      ],
      "source": [
        "print(\"\\n===== TRAINING COMPLETE =====\")\n",
        "print(f\"Simple model accuracy: {accuracy:.4f}\")\n",
        "print(f\"Ensemble model accuracy: {ensemble_accuracy:.4f}\")\n",
        "print(f\"Real-world performance: {overall_real_world_accuracy:.2%}\")\n",
        "print(f\"Simple model saved to {MODEL_OUTPUT_PATH}\")\n",
        "print(f\"Ensemble model saved to {ENSEMBLE_MODEL_OUTPUT_PATH}\")\n",
        "print(f\"Metadata saved to {METADATA_OUTPUT_PATH}\")\n",
        "print(f\"Logs saved to {LOG_OUTPUT_PATH}\")"
      ]
    },
    {
      "cell_type": "code",
      "execution_count": 170,
      "metadata": {
        "colab": {
          "base_uri": "https://localhost:8080/"
        },
        "id": "Yy-vwczN9523",
        "outputId": "84c251fd-fb04-432a-88a2-c6861fc176fd"
      },
      "outputs": [
        {
          "name": "stdout",
          "output_type": "stream",
          "text": [
            "\n",
            "Feature count: 13 - optimized for browser extension performance\n",
            "Features: ['url_length', 'num_dots', 'has_https', 'has_at_symbol', 'has_ip', 'domain_length', 'has_hyphen', 'subdomain_count', 'suspicious_tld', 'url_shortener', 'special_char_ratio', 'suspicious_keywords', 'brand_keywords']\n"
          ]
        }
      ],
      "source": [
        "print(f\"\\nFeature count: {len(X.columns)} - optimized for browser extension performance\")\n",
        "print(f\"Features: {list(X.columns)}\")"
      ]
    }
  ],
  "metadata": {
    "accelerator": "TPU",
    "colab": {
      "gpuType": "V28",
      "provenance": []
    },
    "kernelspec": {
      "display_name": "Python 3",
      "name": "python3"
    },
    "language_info": {
      "name": "python"
    }
  },
  "nbformat": 4,
  "nbformat_minor": 0
}
