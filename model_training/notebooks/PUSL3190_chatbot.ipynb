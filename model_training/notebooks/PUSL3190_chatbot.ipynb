{
  "nbformat": 4,
  "nbformat_minor": 0,
  "metadata": {
    "colab": {
      "provenance": [],
      "gpuType": "V28"
    },
    "kernelspec": {
      "name": "python3",
      "display_name": "Python 3"
    },
    "language_info": {
      "name": "python"
    },
    "widgets": {
      "application/vnd.jupyter.widget-state+json": {
        "a1c9ffb21446475490afce29977f414a": {
          "model_module": "@jupyter-widgets/controls",
          "model_name": "HBoxModel",
          "model_module_version": "1.5.0",
          "state": {
            "_dom_classes": [],
            "_model_module": "@jupyter-widgets/controls",
            "_model_module_version": "1.5.0",
            "_model_name": "HBoxModel",
            "_view_count": null,
            "_view_module": "@jupyter-widgets/controls",
            "_view_module_version": "1.5.0",
            "_view_name": "HBoxView",
            "box_style": "",
            "children": [
              "IPY_MODEL_9e4a3604091f438db87e8700b63ddc84",
              "IPY_MODEL_d9ef325bbbe24a458b703ebf08889a7a",
              "IPY_MODEL_b608c65a67f949b7a31ee01600e411bd"
            ],
            "layout": "IPY_MODEL_77ffa121b01a4fcb8fbd498cd40014d1"
          }
        },
        "9e4a3604091f438db87e8700b63ddc84": {
          "model_module": "@jupyter-widgets/controls",
          "model_name": "HTMLModel",
          "model_module_version": "1.5.0",
          "state": {
            "_dom_classes": [],
            "_model_module": "@jupyter-widgets/controls",
            "_model_module_version": "1.5.0",
            "_model_name": "HTMLModel",
            "_view_count": null,
            "_view_module": "@jupyter-widgets/controls",
            "_view_module_version": "1.5.0",
            "_view_name": "HTMLView",
            "description": "",
            "description_tooltip": null,
            "layout": "IPY_MODEL_21be4d090e524e829a9cc27cf2e152b6",
            "placeholder": "​",
            "style": "IPY_MODEL_abce0bed74c04e9b93a57b426c0d17c8",
            "value": "100%"
          }
        },
        "d9ef325bbbe24a458b703ebf08889a7a": {
          "model_module": "@jupyter-widgets/controls",
          "model_name": "FloatProgressModel",
          "model_module_version": "1.5.0",
          "state": {
            "_dom_classes": [],
            "_model_module": "@jupyter-widgets/controls",
            "_model_module_version": "1.5.0",
            "_model_name": "FloatProgressModel",
            "_view_count": null,
            "_view_module": "@jupyter-widgets/controls",
            "_view_module_version": "1.5.0",
            "_view_name": "ProgressView",
            "bar_style": "success",
            "description": "",
            "description_tooltip": null,
            "layout": "IPY_MODEL_0ae3e621080347f9b3ed1d3a8cf59293",
            "max": 80,
            "min": 0,
            "orientation": "horizontal",
            "style": "IPY_MODEL_66733f2de0974032ae8b5cc377e6a322",
            "value": 80
          }
        },
        "b608c65a67f949b7a31ee01600e411bd": {
          "model_module": "@jupyter-widgets/controls",
          "model_name": "HTMLModel",
          "model_module_version": "1.5.0",
          "state": {
            "_dom_classes": [],
            "_model_module": "@jupyter-widgets/controls",
            "_model_module_version": "1.5.0",
            "_model_name": "HTMLModel",
            "_view_count": null,
            "_view_module": "@jupyter-widgets/controls",
            "_view_module_version": "1.5.0",
            "_view_name": "HTMLView",
            "description": "",
            "description_tooltip": null,
            "layout": "IPY_MODEL_8c2b7a060d2f413488719410e410824b",
            "placeholder": "​",
            "style": "IPY_MODEL_59f025627f1549e59b5165a1e69127da",
            "value": " 80/80 [14:56&lt;00:00, 10.52s/it]"
          }
        },
        "77ffa121b01a4fcb8fbd498cd40014d1": {
          "model_module": "@jupyter-widgets/base",
          "model_name": "LayoutModel",
          "model_module_version": "1.2.0",
          "state": {
            "_model_module": "@jupyter-widgets/base",
            "_model_module_version": "1.2.0",
            "_model_name": "LayoutModel",
            "_view_count": null,
            "_view_module": "@jupyter-widgets/base",
            "_view_module_version": "1.2.0",
            "_view_name": "LayoutView",
            "align_content": null,
            "align_items": null,
            "align_self": null,
            "border": null,
            "bottom": null,
            "display": null,
            "flex": null,
            "flex_flow": null,
            "grid_area": null,
            "grid_auto_columns": null,
            "grid_auto_flow": null,
            "grid_auto_rows": null,
            "grid_column": null,
            "grid_gap": null,
            "grid_row": null,
            "grid_template_areas": null,
            "grid_template_columns": null,
            "grid_template_rows": null,
            "height": null,
            "justify_content": null,
            "justify_items": null,
            "left": null,
            "margin": null,
            "max_height": null,
            "max_width": null,
            "min_height": null,
            "min_width": null,
            "object_fit": null,
            "object_position": null,
            "order": null,
            "overflow": null,
            "overflow_x": null,
            "overflow_y": null,
            "padding": null,
            "right": null,
            "top": null,
            "visibility": null,
            "width": null
          }
        },
        "21be4d090e524e829a9cc27cf2e152b6": {
          "model_module": "@jupyter-widgets/base",
          "model_name": "LayoutModel",
          "model_module_version": "1.2.0",
          "state": {
            "_model_module": "@jupyter-widgets/base",
            "_model_module_version": "1.2.0",
            "_model_name": "LayoutModel",
            "_view_count": null,
            "_view_module": "@jupyter-widgets/base",
            "_view_module_version": "1.2.0",
            "_view_name": "LayoutView",
            "align_content": null,
            "align_items": null,
            "align_self": null,
            "border": null,
            "bottom": null,
            "display": null,
            "flex": null,
            "flex_flow": null,
            "grid_area": null,
            "grid_auto_columns": null,
            "grid_auto_flow": null,
            "grid_auto_rows": null,
            "grid_column": null,
            "grid_gap": null,
            "grid_row": null,
            "grid_template_areas": null,
            "grid_template_columns": null,
            "grid_template_rows": null,
            "height": null,
            "justify_content": null,
            "justify_items": null,
            "left": null,
            "margin": null,
            "max_height": null,
            "max_width": null,
            "min_height": null,
            "min_width": null,
            "object_fit": null,
            "object_position": null,
            "order": null,
            "overflow": null,
            "overflow_x": null,
            "overflow_y": null,
            "padding": null,
            "right": null,
            "top": null,
            "visibility": null,
            "width": null
          }
        },
        "abce0bed74c04e9b93a57b426c0d17c8": {
          "model_module": "@jupyter-widgets/controls",
          "model_name": "DescriptionStyleModel",
          "model_module_version": "1.5.0",
          "state": {
            "_model_module": "@jupyter-widgets/controls",
            "_model_module_version": "1.5.0",
            "_model_name": "DescriptionStyleModel",
            "_view_count": null,
            "_view_module": "@jupyter-widgets/base",
            "_view_module_version": "1.2.0",
            "_view_name": "StyleView",
            "description_width": ""
          }
        },
        "0ae3e621080347f9b3ed1d3a8cf59293": {
          "model_module": "@jupyter-widgets/base",
          "model_name": "LayoutModel",
          "model_module_version": "1.2.0",
          "state": {
            "_model_module": "@jupyter-widgets/base",
            "_model_module_version": "1.2.0",
            "_model_name": "LayoutModel",
            "_view_count": null,
            "_view_module": "@jupyter-widgets/base",
            "_view_module_version": "1.2.0",
            "_view_name": "LayoutView",
            "align_content": null,
            "align_items": null,
            "align_self": null,
            "border": null,
            "bottom": null,
            "display": null,
            "flex": null,
            "flex_flow": null,
            "grid_area": null,
            "grid_auto_columns": null,
            "grid_auto_flow": null,
            "grid_auto_rows": null,
            "grid_column": null,
            "grid_gap": null,
            "grid_row": null,
            "grid_template_areas": null,
            "grid_template_columns": null,
            "grid_template_rows": null,
            "height": null,
            "justify_content": null,
            "justify_items": null,
            "left": null,
            "margin": null,
            "max_height": null,
            "max_width": null,
            "min_height": null,
            "min_width": null,
            "object_fit": null,
            "object_position": null,
            "order": null,
            "overflow": null,
            "overflow_x": null,
            "overflow_y": null,
            "padding": null,
            "right": null,
            "top": null,
            "visibility": null,
            "width": null
          }
        },
        "66733f2de0974032ae8b5cc377e6a322": {
          "model_module": "@jupyter-widgets/controls",
          "model_name": "ProgressStyleModel",
          "model_module_version": "1.5.0",
          "state": {
            "_model_module": "@jupyter-widgets/controls",
            "_model_module_version": "1.5.0",
            "_model_name": "ProgressStyleModel",
            "_view_count": null,
            "_view_module": "@jupyter-widgets/base",
            "_view_module_version": "1.2.0",
            "_view_name": "StyleView",
            "bar_color": null,
            "description_width": ""
          }
        },
        "8c2b7a060d2f413488719410e410824b": {
          "model_module": "@jupyter-widgets/base",
          "model_name": "LayoutModel",
          "model_module_version": "1.2.0",
          "state": {
            "_model_module": "@jupyter-widgets/base",
            "_model_module_version": "1.2.0",
            "_model_name": "LayoutModel",
            "_view_count": null,
            "_view_module": "@jupyter-widgets/base",
            "_view_module_version": "1.2.0",
            "_view_name": "LayoutView",
            "align_content": null,
            "align_items": null,
            "align_self": null,
            "border": null,
            "bottom": null,
            "display": null,
            "flex": null,
            "flex_flow": null,
            "grid_area": null,
            "grid_auto_columns": null,
            "grid_auto_flow": null,
            "grid_auto_rows": null,
            "grid_column": null,
            "grid_gap": null,
            "grid_row": null,
            "grid_template_areas": null,
            "grid_template_columns": null,
            "grid_template_rows": null,
            "height": null,
            "justify_content": null,
            "justify_items": null,
            "left": null,
            "margin": null,
            "max_height": null,
            "max_width": null,
            "min_height": null,
            "min_width": null,
            "object_fit": null,
            "object_position": null,
            "order": null,
            "overflow": null,
            "overflow_x": null,
            "overflow_y": null,
            "padding": null,
            "right": null,
            "top": null,
            "visibility": null,
            "width": null
          }
        },
        "59f025627f1549e59b5165a1e69127da": {
          "model_module": "@jupyter-widgets/controls",
          "model_name": "DescriptionStyleModel",
          "model_module_version": "1.5.0",
          "state": {
            "_model_module": "@jupyter-widgets/controls",
            "_model_module_version": "1.5.0",
            "_model_name": "DescriptionStyleModel",
            "_view_count": null,
            "_view_module": "@jupyter-widgets/base",
            "_view_module_version": "1.2.0",
            "_view_name": "StyleView",
            "description_width": ""
          }
        }
      }
    },
    "accelerator": "TPU"
  },
  "cells": [
    {
      "cell_type": "markdown",
      "source": [
        "# AI-Powered URL Phishing Detection System\n",
        "# Deep Random Forest Classifier for Chatbot"
      ],
      "metadata": {
        "id": "pdQZKCWpZQ0a"
      }
    },
    {
      "cell_type": "markdown",
      "source": [
        "## Steup and Imports"
      ],
      "metadata": {
        "id": "R-aZ0tsoZUmF"
      }
    },
    {
      "cell_type": "code",
      "source": [
        "!pip install python-whois python-Levenshtein dnspython tldextract beautifulsoup4 requests pyOpenSSL tqdm"
      ],
      "metadata": {
        "colab": {
          "base_uri": "https://localhost:8080/"
        },
        "id": "xSQbVt1Xw4Eo",
        "outputId": "ee3b86aa-3afe-4309-88f4-8f3e334e7ba0"
      },
      "execution_count": 90,
      "outputs": [
        {
          "output_type": "stream",
          "name": "stdout",
          "text": [
            "Requirement already satisfied: python-whois in /usr/local/lib/python3.11/dist-packages (0.9.5)\n",
            "Requirement already satisfied: python-Levenshtein in /usr/local/lib/python3.11/dist-packages (0.27.1)\n",
            "Requirement already satisfied: dnspython in /usr/local/lib/python3.11/dist-packages (2.7.0)\n",
            "Requirement already satisfied: tldextract in /usr/local/lib/python3.11/dist-packages (5.3.0)\n",
            "Requirement already satisfied: beautifulsoup4 in /usr/local/lib/python3.11/dist-packages (4.13.4)\n",
            "Requirement already satisfied: requests in /usr/local/lib/python3.11/dist-packages (2.32.3)\n",
            "Requirement already satisfied: pyOpenSSL in /usr/local/lib/python3.11/dist-packages (24.2.1)\n",
            "Requirement already satisfied: tqdm in /usr/local/lib/python3.11/dist-packages (4.67.1)\n",
            "Requirement already satisfied: python-dateutil in /usr/local/lib/python3.11/dist-packages (from python-whois) (2.9.0.post0)\n",
            "Requirement already satisfied: Levenshtein==0.27.1 in /usr/local/lib/python3.11/dist-packages (from python-Levenshtein) (0.27.1)\n",
            "Requirement already satisfied: rapidfuzz<4.0.0,>=3.9.0 in /usr/local/lib/python3.11/dist-packages (from Levenshtein==0.27.1->python-Levenshtein) (3.13.0)\n",
            "Requirement already satisfied: idna in /usr/local/lib/python3.11/dist-packages (from tldextract) (3.10)\n",
            "Requirement already satisfied: requests-file>=1.4 in /usr/local/lib/python3.11/dist-packages (from tldextract) (2.1.0)\n",
            "Requirement already satisfied: filelock>=3.0.8 in /usr/local/lib/python3.11/dist-packages (from tldextract) (3.18.0)\n",
            "Requirement already satisfied: soupsieve>1.2 in /usr/local/lib/python3.11/dist-packages (from beautifulsoup4) (2.7)\n",
            "Requirement already satisfied: typing-extensions>=4.0.0 in /usr/local/lib/python3.11/dist-packages (from beautifulsoup4) (4.13.2)\n",
            "Requirement already satisfied: charset-normalizer<4,>=2 in /usr/local/lib/python3.11/dist-packages (from requests) (3.4.1)\n",
            "Requirement already satisfied: urllib3<3,>=1.21.1 in /usr/local/lib/python3.11/dist-packages (from requests) (2.4.0)\n",
            "Requirement already satisfied: certifi>=2017.4.17 in /usr/local/lib/python3.11/dist-packages (from requests) (2025.1.31)\n",
            "Requirement already satisfied: cryptography<44,>=41.0.5 in /usr/local/lib/python3.11/dist-packages (from pyOpenSSL) (43.0.3)\n",
            "Requirement already satisfied: cffi>=1.12 in /usr/local/lib/python3.11/dist-packages (from cryptography<44,>=41.0.5->pyOpenSSL) (1.17.1)\n",
            "Requirement already satisfied: six>=1.5 in /usr/local/lib/python3.11/dist-packages (from python-dateutil->python-whois) (1.17.0)\n",
            "Requirement already satisfied: pycparser in /usr/local/lib/python3.11/dist-packages (from cffi>=1.12->cryptography<44,>=41.0.5->pyOpenSSL) (2.22)\n"
          ]
        }
      ]
    },
    {
      "cell_type": "code",
      "execution_count": 91,
      "metadata": {
        "id": "naVE9toeWcX7"
      },
      "outputs": [],
      "source": [
        "import pandas as pd\n",
        "import numpy as np\n",
        "import matplotlib.pyplot as plt\n",
        "import seaborn as sns\n",
        "import pickle\n",
        "import time\n",
        "import json\n",
        "import os\n",
        "import re\n",
        "import requests\n",
        "import socket\n",
        "from urllib.parse import urlparse\n",
        "from datetime import datetime\n",
        "from bs4 import BeautifulSoup\n",
        "from sklearn.model_selection import train_test_split, GridSearchCV\n",
        "from sklearn.ensemble import RandomForestClassifier\n",
        "from sklearn.metrics import accuracy_score, precision_score, recall_score, f1_score, confusion_matrix, roc_curve, auc\n",
        "from sklearn.preprocessing import StandardScaler\n",
        "from sklearn.utils.class_weight import compute_class_weight\n",
        "import joblib\n",
        "import whois\n",
        "import Levenshtein\n",
        "import dns.resolver\n",
        "import tldextract\n",
        "import concurrent.futures\n",
        "from tqdm.notebook import tqdm\n",
        "from concurrent.futures import ThreadPoolExecutor, as_completed"
      ]
    },
    {
      "cell_type": "markdown",
      "source": [
        "### Mount Google Drive"
      ],
      "metadata": {
        "id": "8TwLZMHuaA27"
      }
    },
    {
      "cell_type": "code",
      "source": [
        "from google.colab import drive\n",
        "drive.mount('/content/drive')"
      ],
      "metadata": {
        "colab": {
          "base_uri": "https://localhost:8080/"
        },
        "id": "LDbSaOzoaBcU",
        "outputId": "9da552f5-371d-46e9-e788-a180479c63a6"
      },
      "execution_count": 92,
      "outputs": [
        {
          "output_type": "stream",
          "name": "stdout",
          "text": [
            "Drive already mounted at /content/drive; to attempt to forcibly remount, call drive.mount(\"/content/drive\", force_remount=True).\n"
          ]
        }
      ]
    },
    {
      "cell_type": "markdown",
      "source": [
        "## Configuration and Logging"
      ],
      "metadata": {
        "id": "zYPK-6MNaZIi"
      }
    },
    {
      "cell_type": "markdown",
      "source": [
        "### Set up logging"
      ],
      "metadata": {
        "id": "zK_EGbNYaea5"
      }
    },
    {
      "cell_type": "code",
      "source": [
        "log_data = []\n",
        "\n",
        "def log_event(event_type, message, metadata=None):\n",
        "    \"\"\"Log events for research documentation\"\"\"\n",
        "    log_entry = {\n",
        "        \"timestamp\": datetime.now().isoformat(),\n",
        "        \"event_type\": event_type,\n",
        "        \"message\": message,\n",
        "        \"metadata\": metadata or {}\n",
        "    }\n",
        "    log_data.append(log_entry)\n",
        "    print(f\"[{log_entry['timestamp']}] {event_type}: {message}\")"
      ],
      "metadata": {
        "id": "uCJzivZgab8u"
      },
      "execution_count": 93,
      "outputs": []
    },
    {
      "cell_type": "markdown",
      "source": [
        "### Define paths"
      ],
      "metadata": {
        "id": "PsUceZULanME"
      }
    },
    {
      "cell_type": "code",
      "source": [
        "BASE_PATH = '/content/drive/MyDrive/PUSL3190'\n",
        "RAW_DATA_PATH = f'{BASE_PATH}/data/raw/phishing_site_urls.csv'\n",
        "PROCESSED_DATA_PATH = f'{BASE_PATH}/data/processed/chatbot/chatbot_features.csv'\n",
        "MODEL_OUTPUT_PATH = f'{BASE_PATH}/models/chatbot/chatbot_model.pkl'\n",
        "SCALER_OUTPUT_PATH = f'{BASE_PATH}/models/chatbot/chatbot_scaler.pkl'\n",
        "METADATA_OUTPUT_PATH = f'{BASE_PATH}/models/chatbot/chatbot_metadata.json'\n",
        "FEATURES_OUTPUT_PATH = f'{BASE_PATH}/models/chatbot/chatbot_features.json'\n",
        "LOG_OUTPUT_PATH = f'{BASE_PATH}/logs/chatbot_training_log.json'"
      ],
      "metadata": {
        "id": "jie390m1ao7T"
      },
      "execution_count": 94,
      "outputs": []
    },
    {
      "cell_type": "markdown",
      "source": [
        "### Create directories if they don't exist"
      ],
      "metadata": {
        "id": "i2DlOyrO15Ln"
      }
    },
    {
      "cell_type": "code",
      "source": [
        "os.makedirs(f'{BASE_PATH}/data/processed', exist_ok=True)\n",
        "os.makedirs(f'{BASE_PATH}/models/gradient_boosting_model', exist_ok=True)\n",
        "os.makedirs(f'{BASE_PATH}/logs', exist_ok=True)"
      ],
      "metadata": {
        "id": "lbLYvHsz1-il"
      },
      "execution_count": 95,
      "outputs": []
    },
    {
      "cell_type": "markdown",
      "source": [
        "## 1. Load and explore the dataset"
      ],
      "metadata": {
        "id": "Asq15B48bKcD"
      }
    },
    {
      "cell_type": "markdown",
      "source": [
        "### Whitelist for legitimate HTTP URLs"
      ],
      "metadata": {
        "id": "nYHqlLyZlrVx"
      }
    },
    {
      "cell_type": "code",
      "source": [
        "HTTP_WHITELIST = ['example.com', 'info.cern.ch', 'localhost']"
      ],
      "metadata": {
        "id": "7qc6RbIwlpFr"
      },
      "execution_count": 96,
      "outputs": []
    },
    {
      "cell_type": "markdown",
      "source": [
        "### Load dataset"
      ],
      "metadata": {
        "id": "I0hh9ge3bT4J"
      }
    },
    {
      "cell_type": "code",
      "source": [
        "log_event(\"DATA_LOADING\", \"Loading dataset\")\n",
        "start_time = time.time()"
      ],
      "metadata": {
        "colab": {
          "base_uri": "https://localhost:8080/"
        },
        "id": "VKIwQYfQXzWp",
        "outputId": "34a307dd-17de-4989-da9f-7bfbc800da54"
      },
      "execution_count": 97,
      "outputs": [
        {
          "output_type": "stream",
          "name": "stdout",
          "text": [
            "[2025-04-29T19:06:39.757252] DATA_LOADING: Loading dataset\n"
          ]
        }
      ]
    },
    {
      "cell_type": "code",
      "source": [
        "try:\n",
        "    df = pd.read_csv(RAW_DATA_PATH)\n",
        "    # Ensure class column is properly named and has numeric values\n",
        "    if 'label' in df.columns:\n",
        "        df = df.rename(columns={'label': 'class'})\n",
        "\n",
        "    if df['class'].dtype == 'object':\n",
        "        df['class'] = df['class'].map({'good': 0, 'bad': 1, 'legitimate': 0, 'phishing': 1})\n",
        "\n",
        "    print(f\"Dataset loaded with {df.shape[0]} rows and {df.shape[1]} columns\")\n",
        "    print(f\"Class distribution: {df['class'].value_counts().to_dict()}\")\n",
        "\n",
        "    log_event(\"DATA_LOADED\", f\"Dataset loaded with shape {df.shape}\")\n",
        "except Exception as e:\n",
        "    log_event(\"ERROR\", f\"Failed to load dataset: {str(e)}\")\n",
        "    raise"
      ],
      "metadata": {
        "colab": {
          "base_uri": "https://localhost:8080/"
        },
        "id": "A1euZTLzbMcP",
        "outputId": "f74202d1-1373-4f07-d1bd-7acee8379a8e"
      },
      "execution_count": 98,
      "outputs": [
        {
          "output_type": "stream",
          "name": "stdout",
          "text": [
            "Dataset loaded with 4000 rows and 2 columns\n",
            "Class distribution: {1: 2000, 0: 2000}\n",
            "[2025-04-29T19:06:39.796386] DATA_LOADED: Dataset loaded with shape (4000, 2)\n"
          ]
        }
      ]
    },
    {
      "cell_type": "code",
      "source": [
        "loading_time = time.time() - start_time\n",
        "log_event(\"TIMING\", f\"Data loading completed in {loading_time:.2f} seconds\")"
      ],
      "metadata": {
        "colab": {
          "base_uri": "https://localhost:8080/"
        },
        "id": "UU-htEn2X4uN",
        "outputId": "b37ca157-3c71-40aa-c751-e760da00270a"
      },
      "execution_count": 99,
      "outputs": [
        {
          "output_type": "stream",
          "name": "stdout",
          "text": [
            "[2025-04-29T19:06:39.818009] TIMING: Data loading completed in 0.06 seconds\n"
          ]
        }
      ]
    },
    {
      "cell_type": "markdown",
      "source": [
        "### Display basic information"
      ],
      "metadata": {
        "id": "64-tzvvrbvvR"
      }
    },
    {
      "cell_type": "code",
      "source": [
        "print(\"Dataset Information:\")\n",
        "print(f\"Total samples: {df.shape[0]}\")\n",
        "print(f\"Features: {df.shape[1]}\")\n",
        "print(\"\\nData Types:\")\n",
        "print(df.dtypes)\n",
        "print(\"\\nClass Distribution:\")\n",
        "print(df['class'].value_counts())\n",
        "print(\"\\nFirst 5 rows:\")\n",
        "print(df.head())"
      ],
      "metadata": {
        "colab": {
          "base_uri": "https://localhost:8080/"
        },
        "id": "D0suA3Khbwo3",
        "outputId": "3c2ef27b-f371-4ac6-ae3d-dd55fe36249f"
      },
      "execution_count": 100,
      "outputs": [
        {
          "output_type": "stream",
          "name": "stdout",
          "text": [
            "Dataset Information:\n",
            "Total samples: 4000\n",
            "Features: 2\n",
            "\n",
            "Data Types:\n",
            "URL      object\n",
            "class     int64\n",
            "dtype: object\n",
            "\n",
            "Class Distribution:\n",
            "class\n",
            "1    2000\n",
            "0    2000\n",
            "Name: count, dtype: int64\n",
            "\n",
            "First 5 rows:\n",
            "                                            URL  class\n",
            "0  https://start-support-tizer.gitbook.io/en-us      1\n",
            "1       https://iieudsjwasndjfkdjdd.weebly.com/      1\n",
            "2           https://0x-turbos.pages.dev/wallets      1\n",
            "3                   https://shbox.top/yecunoeu/      1\n",
            "4            https://sparkflrdrops.xyz/clm.html      1\n"
          ]
        }
      ]
    },
    {
      "cell_type": "markdown",
      "source": [
        "## 2. Feature Extraction Functions"
      ],
      "metadata": {
        "id": "4J5rI-Ykb9Pp"
      }
    },
    {
      "cell_type": "code",
      "source": [
        "log_event(\"FEATURE_EXTRACTION_FUNCTIONS\", \"Extracting functions for chatbot deep analysis\")\n",
        "start_time = time.time()"
      ],
      "metadata": {
        "colab": {
          "base_uri": "https://localhost:8080/"
        },
        "id": "d4FSyoHYb_mx",
        "outputId": "69d2af87-49eb-4532-9d01-4559205290ae"
      },
      "execution_count": 101,
      "outputs": [
        {
          "output_type": "stream",
          "name": "stdout",
          "text": [
            "[2025-04-29T19:06:39.881702] FEATURE_EXTRACTION_FUNCTIONS: Extracting functions for chatbot deep analysis\n"
          ]
        }
      ]
    },
    {
      "cell_type": "markdown",
      "source": [
        "Extract comprehensive features for deep analysis in the chatbot based on the specified list:\n",
        "  - UsingIP\n",
        "  - uses_http\n",
        "  - LegitimacyScore\n",
        "  - PrefixSuffix-\n",
        "  - WebsiteTraffic\n",
        "  - DNSRecording\n",
        "  - PageRank\n",
        "  - GoogleIndex\n",
        "  - SubDomains\n",
        "  - DomainLength\n",
        "  - LinksPointingToPage\n",
        "  - StatsReport\n",
        "  - DomainRegLen\n",
        "  - RequestURL\n",
        "  - AbnormalURL\n",
        "  - Symbol@\n",
        "  - IsTyposquatting\n",
        "  - BrandInSubdomain\n",
        "  - UsingIP\n",
        "  - AgeofDomain"
      ],
      "metadata": {
        "id": "oZRM0OvLcDMA"
      }
    },
    {
      "cell_type": "markdown",
      "source": [
        "### URL Parsing"
      ],
      "metadata": {
        "id": "kmcGYBU4yXy8"
      }
    },
    {
      "cell_type": "code",
      "source": [
        "def get_domain(url):\n",
        "    \"\"\"Extract domain from URL\"\"\"\n",
        "    try:\n",
        "        extracted = tldextract.extract(url)\n",
        "        domain = f\"{extracted.domain}.{extracted.suffix}\"\n",
        "        if extracted.subdomain:\n",
        "            full_domain = f\"{extracted.subdomain}.{domain}\"\n",
        "        else:\n",
        "            full_domain = domain\n",
        "        return domain, full_domain\n",
        "    except:\n",
        "        return None, None"
      ],
      "metadata": {
        "id": "RzJRToUfljiw"
      },
      "execution_count": 102,
      "outputs": []
    },
    {
      "cell_type": "markdown",
      "source": [
        "### WHOIS Information"
      ],
      "metadata": {
        "id": "rnlgP_pZytj8"
      }
    },
    {
      "cell_type": "code",
      "source": [
        "def get_domain_info(domain):\n",
        "    \"\"\"Get domain registration info using WHOIS\"\"\"\n",
        "    try:\n",
        "        w = whois.whois(domain)\n",
        "\n",
        "        # Get creation date\n",
        "        creation_date = w.creation_date\n",
        "        if isinstance(creation_date, list):\n",
        "            creation_date = creation_date[0]\n",
        "\n",
        "        # Get expiration date\n",
        "        expiration_date = w.expiration_date\n",
        "        if isinstance(expiration_date, list):\n",
        "            expiration_date = expiration_date[0]\n",
        "\n",
        "        # Calculate age in days\n",
        "        if creation_date:\n",
        "            domain_age = (datetime.now() - creation_date).days\n",
        "        else:\n",
        "            domain_age = -1\n",
        "\n",
        "        # Calculate registration length in days\n",
        "        if creation_date and expiration_date:\n",
        "            reg_len = (expiration_date - creation_date).days\n",
        "        else:\n",
        "            reg_len = -1\n",
        "\n",
        "        return {\n",
        "            'domain_age': domain_age,\n",
        "            'registration_length': reg_len\n",
        "        }\n",
        "    except Exception as e:\n",
        "        return {\n",
        "            'domain_age': -1,\n",
        "            'registration_length': -1\n",
        "        }"
      ],
      "metadata": {
        "id": "6H6VpsZBzDW2"
      },
      "execution_count": 103,
      "outputs": []
    },
    {
      "cell_type": "markdown",
      "source": [
        "### DNS Records"
      ],
      "metadata": {
        "id": "BICWMZD6zdX0"
      }
    },
    {
      "cell_type": "code",
      "source": [
        "def get_dns_records(domain):\n",
        "    \"\"\"Check if domain has proper DNS records\"\"\"\n",
        "    records = {\n",
        "        'has_a': False,\n",
        "        'has_mx': False,\n",
        "        'has_ns': False,\n",
        "        'total_records': 0\n",
        "    }\n",
        "\n",
        "    try:\n",
        "        # A record\n",
        "        try:\n",
        "            answers = dns.resolver.resolve(domain, 'A')\n",
        "            records['has_a'] = len(answers) > 0\n",
        "            records['total_records'] += len(answers)\n",
        "        except:\n",
        "            pass\n",
        "\n",
        "        # MX record\n",
        "        try:\n",
        "            answers = dns.resolver.resolve(domain, 'MX')\n",
        "            records['has_mx'] = len(answers) > 0\n",
        "            records['total_records'] += len(answers)\n",
        "        except:\n",
        "            pass\n",
        "\n",
        "        # NS record\n",
        "        try:\n",
        "            answers = dns.resolver.resolve(domain, 'NS')\n",
        "            records['has_ns'] = len(answers) > 0\n",
        "            records['total_records'] += len(answers)\n",
        "        except:\n",
        "            pass\n",
        "\n",
        "        return records\n",
        "    except Exception as e:\n",
        "        return records"
      ],
      "metadata": {
        "id": "z0VJBfCtzfvJ"
      },
      "execution_count": 104,
      "outputs": []
    },
    {
      "cell_type": "markdown",
      "source": [
        "### HTML Content Analysis"
      ],
      "metadata": {
        "id": "z4DbmcJwzndd"
      }
    },
    {
      "cell_type": "code",
      "source": [
        "def get_default_html_features():\n",
        "    return {\n",
        "        'external_favicon': False,\n",
        "        'form_action_external': False,\n",
        "        'external_scripts': 0,\n",
        "        'external_links': 0,\n",
        "        'internal_links': 1  # Default to 1 to avoid division by zero\n",
        "    }"
      ],
      "metadata": {
        "id": "7hc7lXCFnmc-"
      },
      "execution_count": 105,
      "outputs": []
    },
    {
      "cell_type": "code",
      "source": [
        "def analyze_html_content(url):\n",
        "    \"\"\"Simplified HTML content analysis focusing on key suspicious patterns\"\"\"\n",
        "    try:\n",
        "        headers = {\n",
        "            'User-Agent': 'Mozilla/5.0 (Windows NT 10.0; Win64; x64)'\n",
        "        }\n",
        "        response = requests.get(url, headers=headers, timeout=3)\n",
        "\n",
        "        if response.status_code != 200:\n",
        "            return get_default_html_features()\n",
        "\n",
        "        soup = BeautifulSoup(response.text, 'html.parser')\n",
        "        domain, full_domain = get_domain(url)\n",
        "\n",
        "        # Favicon analysis\n",
        "        favicon = soup.find('link', rel=lambda r: r and 'icon' in r.lower())\n",
        "        external_favicon = False\n",
        "        if favicon and favicon.get('href'):\n",
        "            favicon_url = favicon['href']\n",
        "            if favicon_url.startswith('http'):\n",
        "                favicon_domain = get_domain(favicon_url)[0]\n",
        "                external_favicon = favicon_domain != domain\n",
        "\n",
        "        # Forms analysis\n",
        "        forms = soup.find_all('form')\n",
        "        form_action_external = False\n",
        "        for form in forms:\n",
        "            action = form.get('action', '')\n",
        "            if action and action.startswith('http'):\n",
        "                action_domain = get_domain(action)[0]\n",
        "                if action_domain != domain:\n",
        "                    form_action_external = True\n",
        "                    break\n",
        "\n",
        "        # Script analysis\n",
        "        scripts = soup.find_all('script', src=True)\n",
        "        external_scripts = 0\n",
        "        for script in scripts:\n",
        "            if script['src'].startswith('http'):\n",
        "                script_domain = get_domain(script['src'])[0]\n",
        "                if script_domain != domain:\n",
        "                    external_scripts += 1\n",
        "\n",
        "        # Link analysis\n",
        "        links = soup.find_all('a', href=True)\n",
        "        external_links = 0\n",
        "        internal_links = 0\n",
        "\n",
        "        for link in links:\n",
        "            href = link['href'].lower()\n",
        "            if href.startswith('http'):\n",
        "                link_domain = get_domain(href)[0]\n",
        "                if link_domain != domain:\n",
        "                    external_links += 1\n",
        "                else:\n",
        "                    internal_links += 1\n",
        "            else:\n",
        "                internal_links += 1\n",
        "\n",
        "        return {\n",
        "            'external_favicon': external_favicon,\n",
        "            'form_action_external': form_action_external,\n",
        "            'external_scripts': external_scripts,\n",
        "            'external_links': external_links,\n",
        "            'internal_links': internal_links\n",
        "        }\n",
        "    except Exception as e:\n",
        "        return get_default_html_features()"
      ],
      "metadata": {
        "id": "ce4C3TESzp0A"
      },
      "execution_count": 106,
      "outputs": []
    },
    {
      "cell_type": "markdown",
      "source": [
        "### Dictionary for popular brands for typosquatting detection"
      ],
      "metadata": {
        "id": "yl5rNTOULTr7"
      }
    },
    {
      "cell_type": "code",
      "source": [
        "def get_popular_brand_domains():\n",
        "    return {\n",
        "        # Tech companies\n",
        "        'google': ['google.com', 'gmail.com', 'youtube.com'],\n",
        "        'microsoft': ['microsoft.com', 'office.com', 'outlook.com'],\n",
        "        'apple': ['apple.com', 'icloud.com'],\n",
        "        'amazon': ['amazon.com', 'aws.amazon.com'],\n",
        "        'meta': ['facebook.com', 'instagram.com', 'whatsapp.com'],\n",
        "        'paypal': ['paypal.com', 'paypal.me'],\n",
        "\n",
        "        # Financial\n",
        "        'bank': ['chase.com', 'bankofamerica.com', 'wellsfargo.com', 'citibank.com'],\n",
        "        'investment': ['fidelity.com', 'vanguard.com', 'schwab.com'],\n",
        "\n",
        "        # Email providers\n",
        "        'mail': ['yahoo.com', 'hotmail.com', 'aol.com', 'protonmail.com'],\n",
        "\n",
        "        # Social media\n",
        "        'social': ['twitter.com', 'linkedin.com', 'pinterest.com', 'reddit.com'],\n",
        "\n",
        "        # Education\n",
        "        'education': ['coursera.org', 'udemy.com', 'edx.org']\n",
        "    }"
      ],
      "metadata": {
        "id": "XH885KiaLa_O"
      },
      "execution_count": 107,
      "outputs": []
    },
    {
      "cell_type": "markdown",
      "source": [
        "### Typosquatting Detection"
      ],
      "metadata": {
        "id": "-Pl3lOa-MUlE"
      }
    },
    {
      "cell_type": "code",
      "source": [
        "def detect_typosquatting(domain):\n",
        "    try:\n",
        "        brand_domains = []\n",
        "        for domains in get_popular_brand_domains().values():\n",
        "            brand_domains.extend(domains)\n",
        "\n",
        "        result = {\n",
        "            'is_typosquatting': False,\n",
        "            'impersonated_domain': None,\n",
        "            'edit_distance': None\n",
        "        }\n",
        "\n",
        "        if len(domain) < 4:\n",
        "            return result\n",
        "\n",
        "        domain = domain.lower()\n",
        "        domain_base = domain.split('.')[0]\n",
        "\n",
        "        # Quick character substitution check\n",
        "        char_subs = {'0': 'o', 'o': '0', '1': 'l', 'l': '1', 'i': '1'}\n",
        "\n",
        "        for brand_domain in brand_domains:\n",
        "            brand_base = brand_domain.split('.')[0]\n",
        "\n",
        "            # Skip if length difference is too large\n",
        "            if abs(len(domain_base) - len(brand_base)) > 3:\n",
        "                continue\n",
        "\n",
        "            # Use Levenshtein distance\n",
        "            try:\n",
        "                distance = Levenshtein.distance(domain_base, brand_base)\n",
        "                if len(brand_base) > 0:\n",
        "                    ratio = distance / max(len(domain_base), len(brand_base))\n",
        "\n",
        "                    # Strong match if edit distance ratio is low\n",
        "                    if ratio <= 0.2 and domain_base != brand_base:\n",
        "                        result['is_typosquatting'] = True\n",
        "                        result['impersonated_domain'] = brand_domain\n",
        "                        result['edit_distance'] = distance\n",
        "                        return result\n",
        "            except:\n",
        "                # Fallback if Levenshtein fails\n",
        "                # Check for simple substitutions\n",
        "                for sub_from, sub_to in char_subs.items():\n",
        "                    if sub_from in domain_base:\n",
        "                        test_domain = domain_base.replace(sub_from, sub_to)\n",
        "                        if test_domain == brand_base:\n",
        "                            result['is_typosquatting'] = True\n",
        "                            result['impersonated_domain'] = brand_domain\n",
        "                            return result\n",
        "\n",
        "        return result\n",
        "    except Exception as e:\n",
        "        print(f\"Error in typosquatting detection: {str(e)}\")\n",
        "        return {'is_typosquatting': False, 'impersonated_domain': None, 'edit_distance': None}"
      ],
      "metadata": {
        "id": "LtOSOOzpMWzY"
      },
      "execution_count": 108,
      "outputs": []
    },
    {
      "cell_type": "markdown",
      "source": [
        "### Brand Detection in Subdomains"
      ],
      "metadata": {
        "id": "-kweqMAKrgHZ"
      }
    },
    {
      "cell_type": "code",
      "source": [
        "def detect_brand_in_subdomain(url):\n",
        "    \"\"\"Detect brand names in subdomains\"\"\"\n",
        "    try:\n",
        "        extracted = tldextract.extract(url)\n",
        "        if not extracted.subdomain:\n",
        "            return {'has_brand_in_subdomain': False}\n",
        "\n",
        "        result = {\n",
        "            'has_brand_in_subdomain': False,\n",
        "            'impersonated_brand': None\n",
        "        }\n",
        "\n",
        "        subdomain = extracted.subdomain.lower()\n",
        "\n",
        "        # Check if subdomain contains a brand name\n",
        "        for brand, domains in get_popular_brand_domains().items():\n",
        "            if brand in subdomain:\n",
        "                # Check if the main domain isn't actually owned by this brand\n",
        "                if not any(d == f\"{extracted.domain}.{extracted.suffix}\" for d in domains):\n",
        "                    result['has_brand_in_subdomain'] = True\n",
        "                    result['impersonated_brand'] = brand\n",
        "                    break\n",
        "\n",
        "        return result\n",
        "    except Exception as e:\n",
        "        print(f\"Error in subdomain brand detection: {str(e)}\")\n",
        "        return {'has_brand_in_subdomain': False}"
      ],
      "metadata": {
        "id": "JK31fMefrjox"
      },
      "execution_count": 109,
      "outputs": []
    },
    {
      "cell_type": "markdown",
      "source": [
        "### Helper function for default features"
      ],
      "metadata": {
        "id": "3_MNMnQnnQBQ"
      }
    },
    {
      "cell_type": "code",
      "source": [
        "def get_default_features():\n",
        "    return {\n",
        "        # Strongest predictors\n",
        "        'uses_http': 0,                # Highest importance by far\n",
        "        'LegitimacyScore': 0.5,        # Second highest - combined risk score\n",
        "        'PrefixSuffix-': 0,            # Third highest - dashes in domain\n",
        "\n",
        "        # Strong predictors\n",
        "        'WebsiteTraffic': 0,           # DNS record count\n",
        "        'DNSRecording': 0,             # Proper DNS setup\n",
        "        'PageRank': 0,                 # DNS maturity/quality\n",
        "        'GoogleIndex': 0,              # DNS indexability\n",
        "\n",
        "        # Medium predictors\n",
        "        'SubDomains': 0,               # Subdomain count\n",
        "        'DomainLength': 0,             # Length of domain name\n",
        "        'LinksPointingToPage': 0,      # Backlink indicator\n",
        "        'StatsReport': 0,              # Domain reputation\n",
        "\n",
        "        # Weaker but still useful predictors\n",
        "        'DomainRegLen': 0,             # Registration length\n",
        "        'RequestURL': 0,               # External script requests\n",
        "        'AbnormalURL': 0,              # Suspicious terms in URL\n",
        "        'Symbol@': 0,                  # @ symbol in URL\n",
        "\n",
        "        # Additional high-value features\n",
        "        'IsTyposquatting': 0,          # Brand impersonation detection\n",
        "        'BrandInSubdomain': 0,         # Brand impersonation in subdomain\n",
        "        'UsingIP': 0,\n",
        "        'AgeofDomain': 0\n",
        "    }"
      ],
      "metadata": {
        "id": "ZDy8ApuTnQgY"
      },
      "execution_count": 110,
      "outputs": []
    },
    {
      "cell_type": "markdown",
      "source": [
        "### Parallel feature extraction"
      ],
      "metadata": {
        "id": "EyHP8wTiz84H"
      }
    },
    {
      "cell_type": "code",
      "source": [
        "def extract_url_features(url):\n",
        "    \"\"\"Extract the most important features for phishing detection\"\"\"\n",
        "    try:\n",
        "        features = get_default_features()\n",
        "\n",
        "        # URL STRUCTURE FEATURES\n",
        "        features['UsingIP'] = 1 if bool(re.search(r'\\d+\\.\\d+\\.\\d+\\.\\d+', url)) else 0\n",
        "        features['Symbol@'] = 1 if '@' in url else 0\n",
        "        features['PrefixSuffix-'] = 1 if '-' in urlparse(url).netloc else 0\n",
        "\n",
        "        # DOMAIN FEATURES\n",
        "        domain, full_domain = get_domain(url)\n",
        "        if not domain:\n",
        "            return get_default_features()\n",
        "\n",
        "        # Extract subdomain count\n",
        "        extracted = tldextract.extract(url)\n",
        "        features['SubDomains'] = len(extracted.subdomain.split('.')) if extracted.subdomain else 0\n",
        "\n",
        "        # PROTOCOL FEATURES\n",
        "        features['uses_http'] = 0 if url.startswith('https') else 1\n",
        "\n",
        "        # Length-based features\n",
        "        features['DomainLength'] = 1 if len(domain) > 20 else 0\n",
        "\n",
        "        # WHOIS INFORMATION\n",
        "        whois_info = get_domain_info(domain)\n",
        "        features['DomainRegLen'] = 1 if whois_info['registration_length'] > 365 else 0\n",
        "        features['AgeofDomain'] = 1 if whois_info['domain_age'] > 180 else 0\n",
        "\n",
        "        # DNS FEATURES - critical legitimacy signals\n",
        "        dns_info = get_dns_records(domain)\n",
        "        features['DNSRecording'] = 1 if dns_info['has_a'] and dns_info['has_ns'] else 0\n",
        "        features['WebsiteTraffic'] = 1 if dns_info['total_records'] > 3 else 0\n",
        "        features['PageRank'] = 1 if dns_info['has_a'] and dns_info['has_mx'] and dns_info['has_ns'] else 0\n",
        "        features['GoogleIndex'] = 1 if dns_info['has_a'] and dns_info['has_ns'] else 0\n",
        "        features['LinksPointingToPage'] = 1 if whois_info['domain_age'] > 365 else 0\n",
        "        features['StatsReport'] = 1 if whois_info['domain_age'] > 180 and dns_info['total_records'] > 3 else 0\n",
        "\n",
        "        # ADVANCED PHISHING DETECTION\n",
        "        typosquatting = detect_typosquatting(domain)\n",
        "        features['IsTyposquatting'] = 1 if typosquatting['is_typosquatting'] else 0\n",
        "\n",
        "        subdomain_analysis = detect_brand_in_subdomain(url)\n",
        "        features['BrandInSubdomain'] = 1 if subdomain_analysis['has_brand_in_subdomain'] else 0\n",
        "\n",
        "        # Check for suspicious terms in URL\n",
        "        suspicious_terms = ['login', 'signin', 'verify', 'account', 'security', 'update', 'confirm', 'payment']\n",
        "        features['AbnormalURL'] = 1 if any(term in url.lower() for term in suspicious_terms) else 0\n",
        "\n",
        "        # HTML CONTENT ANALYSIS\n",
        "        if url.startswith('http'):\n",
        "            try:\n",
        "                html_info = analyze_html_content(url)\n",
        "                features['RequestURL'] = 1 if html_info['external_scripts'] > 0 else 0\n",
        "            except Exception as e:\n",
        "                print(f\"HTML analysis error: {str(e)}\")\n",
        "\n",
        "        # LEGITIMACY SCORE CALCULATION\n",
        "        legitimacy_score = 0.5  # Start neutral\n",
        "\n",
        "        # Domain age increases legitimacy\n",
        "        if features['AgeofDomain'] == 1:\n",
        "            legitimacy_score += 0.2\n",
        "\n",
        "        # DNS setup increases legitimacy\n",
        "        if features['DNSRecording'] == 1 and features['PageRank'] == 1:\n",
        "            legitimacy_score += 0.1\n",
        "\n",
        "        # HTTP protocol reduces legitimacy (except for whitelist)\n",
        "        if features['uses_http'] == 1:\n",
        "            if any(domain.endswith(white_domain) for white_domain in HTTP_WHITELIST):\n",
        "                pass  # No penalty for whitelisted sites\n",
        "            else:\n",
        "                legitimacy_score -= 0.2\n",
        "\n",
        "        # Phishing signals dramatically reduce legitimacy\n",
        "        if features['IsTyposquatting'] == 1:\n",
        "            legitimacy_score -= 0.3\n",
        "        if features['BrandInSubdomain'] == 1:\n",
        "            legitimacy_score -= 0.3\n",
        "\n",
        "        features['LegitimacyScore'] = max(0, min(1, legitimacy_score))\n",
        "\n",
        "        # Handle special whitelisted cases\n",
        "        if features['uses_http'] == 1 and any(domain.endswith(white) for white in HTTP_WHITELIST):\n",
        "            features['LegitimacyScore'] = 0.8\n",
        "\n",
        "        return features\n",
        "    except Exception as e:\n",
        "        print(f\"Error extracting features: {str(e)}\")\n",
        "        return get_default_features()"
      ],
      "metadata": {
        "id": "Bi2j4gPzz_K3"
      },
      "execution_count": 111,
      "outputs": []
    },
    {
      "cell_type": "code",
      "source": [
        "log_event(\"TIMING\", \"Feature extraction functions defined\")"
      ],
      "metadata": {
        "colab": {
          "base_uri": "https://localhost:8080/"
        },
        "id": "W3ePBBpe2tpB",
        "outputId": "a630fb85-0c6b-4b96-fd4c-e1057abad061"
      },
      "execution_count": 112,
      "outputs": [
        {
          "output_type": "stream",
          "name": "stdout",
          "text": [
            "[2025-04-29T19:06:40.122440] TIMING: Feature extraction functions defined\n"
          ]
        }
      ]
    },
    {
      "cell_type": "markdown",
      "source": [
        "## 3. Feature Extraction with Parallelization"
      ],
      "metadata": {
        "id": "lvys23vO0W6m"
      }
    },
    {
      "cell_type": "code",
      "source": [
        "log_event(\"FEATURE_EXTRACTION\", \"Starting comprehensive feature extraction for chatbot model\")\n",
        "start_time = time.time()"
      ],
      "metadata": {
        "colab": {
          "base_uri": "https://localhost:8080/"
        },
        "id": "wvyuJOl50d4E",
        "outputId": "06bb5422-e2bf-4ff2-d92b-8c39235d5508"
      },
      "execution_count": 113,
      "outputs": [
        {
          "output_type": "stream",
          "name": "stdout",
          "text": [
            "[2025-04-29T19:06:40.128790] FEATURE_EXTRACTION: Starting comprehensive feature extraction for chatbot model\n"
          ]
        }
      ]
    },
    {
      "cell_type": "code",
      "source": [
        "batch_size = 50\n",
        "url_list = df['URL'].tolist()\n",
        "url_to_class = dict(zip(df['URL'], df['class']))\n",
        "\n",
        "# Initialize containers\n",
        "all_results = []\n",
        "all_classes = []"
      ],
      "metadata": {
        "id": "f3IpXYQ-fe85"
      },
      "execution_count": 114,
      "outputs": []
    },
    {
      "cell_type": "code",
      "source": [
        "log_event(\"FEATURE_EXTRACTION\", f\"Processing {len(url_list)} URLs in batches of {batch_size}\")"
      ],
      "metadata": {
        "colab": {
          "base_uri": "https://localhost:8080/"
        },
        "id": "IP-IwfPXfpxT",
        "outputId": "d1f8d898-43e4-4edb-80f1-404ed11eb2dd"
      },
      "execution_count": 115,
      "outputs": [
        {
          "output_type": "stream",
          "name": "stdout",
          "text": [
            "[2025-04-29T19:06:40.146103] FEATURE_EXTRACTION: Processing 4000 URLs in batches of 50\n"
          ]
        }
      ]
    },
    {
      "cell_type": "code",
      "source": [
        "with ThreadPoolExecutor(max_workers=16) as executor:\n",
        "    for i in tqdm(range(0, len(url_list), batch_size)):\n",
        "        batch = url_list[i:i+batch_size]\n",
        "\n",
        "        # Submit batch for feature extraction\n",
        "        future_to_url = {executor.submit(extract_url_features, url): url for url in batch}\n",
        "\n",
        "        batch_results = []\n",
        "        batch_processed_classes = []\n",
        "\n",
        "        for future in as_completed(future_to_url):\n",
        "            url = future_to_url[future]\n",
        "            try:\n",
        "                features = future.result()\n",
        "                batch_results.append(features)\n",
        "                batch_processed_classes.append(url_to_class[url])\n",
        "            except Exception as e:\n",
        "                log_event(\"ERROR\", f\"Failed to extract features for URL: {url[:50]}... - {str(e)}\")\n",
        "                batch_results.append(get_default_features())\n",
        "                batch_processed_classes.append(url_to_class[url])\n",
        "\n",
        "        all_results.extend(batch_results)\n",
        "        all_classes.extend(batch_processed_classes)"
      ],
      "metadata": {
        "colab": {
          "base_uri": "https://localhost:8080/",
          "height": 1000,
          "referenced_widgets": [
            "a1c9ffb21446475490afce29977f414a",
            "9e4a3604091f438db87e8700b63ddc84",
            "d9ef325bbbe24a458b703ebf08889a7a",
            "b608c65a67f949b7a31ee01600e411bd",
            "77ffa121b01a4fcb8fbd498cd40014d1",
            "21be4d090e524e829a9cc27cf2e152b6",
            "abce0bed74c04e9b93a57b426c0d17c8",
            "0ae3e621080347f9b3ed1d3a8cf59293",
            "66733f2de0974032ae8b5cc377e6a322",
            "8c2b7a060d2f413488719410e410824b",
            "59f025627f1549e59b5165a1e69127da"
          ]
        },
        "id": "14lyHtWu0_Lw",
        "outputId": "096647c8-cabf-4934-dba4-6c2fecd7e5c6"
      },
      "execution_count": 116,
      "outputs": [
        {
          "output_type": "display_data",
          "data": {
            "text/plain": [
              "  0%|          | 0/80 [00:00<?, ?it/s]"
            ],
            "application/vnd.jupyter.widget-view+json": {
              "version_major": 2,
              "version_minor": 0,
              "model_id": "a1c9ffb21446475490afce29977f414a"
            }
          },
          "metadata": {}
        },
        {
          "output_type": "stream",
          "name": "stderr",
          "text": [
            "2025-04-29 19:06:40,234 - whois.whois - ERROR - Error trying to connect to socket: closing socket - [Errno -2] Name or service not known\n",
            "ERROR:whois.whois:Error trying to connect to socket: closing socket - [Errno -2] Name or service not known\n",
            "2025-04-29 19:06:41,603 - whois.whois - ERROR - Error trying to connect to socket: closing socket - [Errno -2] Name or service not known\n",
            "ERROR:whois.whois:Error trying to connect to socket: closing socket - [Errno -2] Name or service not known\n",
            "2025-04-29 19:06:50,397 - whois.whois - ERROR - Error trying to connect to socket: closing socket - timed out\n",
            "ERROR:whois.whois:Error trying to connect to socket: closing socket - timed out\n",
            "2025-04-29 19:06:50,485 - whois.whois - ERROR - Error trying to connect to socket: closing socket - timed out\n",
            "ERROR:whois.whois:Error trying to connect to socket: closing socket - timed out\n",
            "2025-04-29 19:06:50,536 - whois.whois - ERROR - Error trying to connect to socket: closing socket - timed out\n",
            "ERROR:whois.whois:Error trying to connect to socket: closing socket - timed out\n",
            "2025-04-29 19:06:51,894 - whois.whois - ERROR - Error trying to connect to socket: closing socket - timed out\n",
            "ERROR:whois.whois:Error trying to connect to socket: closing socket - timed out\n",
            "2025-04-29 19:06:52,369 - whois.whois - ERROR - Error trying to connect to socket: closing socket - timed out\n",
            "ERROR:whois.whois:Error trying to connect to socket: closing socket - timed out\n",
            "2025-04-29 19:06:53,033 - whois.whois - ERROR - Error trying to connect to socket: closing socket - timed out\n",
            "ERROR:whois.whois:Error trying to connect to socket: closing socket - timed out\n",
            "2025-04-29 19:06:53,413 - whois.whois - ERROR - Error trying to connect to socket: closing socket - timed out\n",
            "ERROR:whois.whois:Error trying to connect to socket: closing socket - timed out\n",
            "2025-04-29 19:06:54,004 - whois.whois - ERROR - Error trying to connect to socket: closing socket - timed out\n",
            "ERROR:whois.whois:Error trying to connect to socket: closing socket - timed out\n",
            "2025-04-29 19:06:55,151 - whois.whois - ERROR - Error trying to connect to socket: closing socket - timed out\n",
            "ERROR:whois.whois:Error trying to connect to socket: closing socket - timed out\n",
            "2025-04-29 19:06:55,206 - whois.whois - ERROR - Error trying to connect to socket: closing socket - timed out\n",
            "ERROR:whois.whois:Error trying to connect to socket: closing socket - timed out\n",
            "2025-04-29 19:06:56,836 - whois.whois - ERROR - Error trying to connect to socket: closing socket - timed out\n",
            "ERROR:whois.whois:Error trying to connect to socket: closing socket - timed out\n",
            "2025-04-29 19:07:01,961 - whois.whois - ERROR - Error trying to connect to socket: closing socket - timed out\n",
            "ERROR:whois.whois:Error trying to connect to socket: closing socket - timed out\n",
            "2025-04-29 19:07:02,273 - whois.whois - ERROR - Error trying to connect to socket: closing socket - [Errno -2] Name or service not known\n",
            "ERROR:whois.whois:Error trying to connect to socket: closing socket - [Errno -2] Name or service not known\n",
            "2025-04-29 19:07:02,276 - whois.whois - ERROR - Error trying to connect to socket: closing socket - [Errno -2] Name or service not known\n",
            "ERROR:whois.whois:Error trying to connect to socket: closing socket - [Errno -2] Name or service not known\n",
            "2025-04-29 19:07:02,282 - whois.whois - ERROR - Error trying to connect to socket: closing socket - [Errno -2] Name or service not known\n",
            "ERROR:whois.whois:Error trying to connect to socket: closing socket - [Errno -2] Name or service not known\n",
            "2025-04-29 19:07:02,413 - whois.whois - ERROR - Error trying to connect to socket: closing socket - [Errno -2] Name or service not known\n",
            "ERROR:whois.whois:Error trying to connect to socket: closing socket - [Errno -2] Name or service not known\n",
            "2025-04-29 19:07:04,182 - whois.whois - ERROR - Error trying to connect to socket: closing socket - [Errno -2] Name or service not known\n",
            "ERROR:whois.whois:Error trying to connect to socket: closing socket - [Errno -2] Name or service not known\n",
            "2025-04-29 19:07:12,331 - whois.whois - ERROR - Error trying to connect to socket: closing socket - timed out\n",
            "ERROR:whois.whois:Error trying to connect to socket: closing socket - timed out\n",
            "2025-04-29 19:07:12,366 - whois.whois - ERROR - Error trying to connect to socket: closing socket - timed out\n",
            "ERROR:whois.whois:Error trying to connect to socket: closing socket - timed out\n",
            "2025-04-29 19:07:12,414 - whois.whois - ERROR - Error trying to connect to socket: closing socket - timed out\n",
            "ERROR:whois.whois:Error trying to connect to socket: closing socket - timed out\n",
            "2025-04-29 19:07:12,450 - whois.whois - ERROR - Error trying to connect to socket: closing socket - timed out\n",
            "ERROR:whois.whois:Error trying to connect to socket: closing socket - timed out\n",
            "2025-04-29 19:07:12,457 - whois.whois - ERROR - Error trying to connect to socket: closing socket - timed out\n",
            "ERROR:whois.whois:Error trying to connect to socket: closing socket - timed out\n",
            "2025-04-29 19:07:12,675 - whois.whois - ERROR - Error trying to connect to socket: closing socket - timed out\n",
            "ERROR:whois.whois:Error trying to connect to socket: closing socket - timed out\n",
            "2025-04-29 19:07:12,751 - whois.whois - ERROR - Error trying to connect to socket: closing socket - timed out\n",
            "ERROR:whois.whois:Error trying to connect to socket: closing socket - timed out\n",
            "2025-04-29 19:07:15,176 - whois.whois - ERROR - Error trying to connect to socket: closing socket - timed out\n",
            "ERROR:whois.whois:Error trying to connect to socket: closing socket - timed out\n",
            "2025-04-29 19:07:20,005 - whois.whois - ERROR - Error trying to connect to socket: closing socket - timed out\n",
            "ERROR:whois.whois:Error trying to connect to socket: closing socket - timed out\n",
            "2025-04-29 19:07:21,226 - whois.whois - ERROR - Error trying to connect to socket: closing socket - [Errno -2] Name or service not known\n",
            "ERROR:whois.whois:Error trying to connect to socket: closing socket - [Errno -2] Name or service not known\n",
            "2025-04-29 19:07:21,391 - whois.whois - ERROR - Error trying to connect to socket: closing socket - [Errno -2] Name or service not known\n",
            "ERROR:whois.whois:Error trying to connect to socket: closing socket - [Errno -2] Name or service not known\n",
            "2025-04-29 19:07:21,565 - whois.whois - ERROR - Error trying to connect to socket: closing socket - [Errno -2] Name or service not known\n",
            "ERROR:whois.whois:Error trying to connect to socket: closing socket - [Errno -2] Name or service not known\n",
            "2025-04-29 19:07:21,583 - whois.whois - ERROR - Error trying to connect to socket: closing socket - [Errno -2] Name or service not known\n",
            "ERROR:whois.whois:Error trying to connect to socket: closing socket - [Errno -2] Name or service not known\n",
            "2025-04-29 19:07:21,698 - whois.whois - ERROR - Error trying to connect to socket: closing socket - [Errno -2] Name or service not known\n",
            "ERROR:whois.whois:Error trying to connect to socket: closing socket - [Errno -2] Name or service not known\n",
            "2025-04-29 19:07:23,166 - whois.whois - ERROR - Error trying to connect to socket: closing socket - [Errno -2] Name or service not known\n",
            "ERROR:whois.whois:Error trying to connect to socket: closing socket - [Errno -2] Name or service not known\n",
            "2025-04-29 19:07:23,520 - whois.whois - ERROR - Error trying to connect to socket: closing socket - [Errno 111] Connection refused\n",
            "ERROR:whois.whois:Error trying to connect to socket: closing socket - [Errno 111] Connection refused\n",
            "2025-04-29 19:07:31,479 - whois.whois - ERROR - Error trying to connect to socket: closing socket - timed out\n",
            "ERROR:whois.whois:Error trying to connect to socket: closing socket - timed out\n",
            "2025-04-29 19:07:31,567 - whois.whois - ERROR - Error trying to connect to socket: closing socket - timed out\n",
            "ERROR:whois.whois:Error trying to connect to socket: closing socket - timed out\n",
            "2025-04-29 19:07:33,344 - whois.whois - ERROR - Error trying to connect to socket: closing socket - timed out\n",
            "ERROR:whois.whois:Error trying to connect to socket: closing socket - timed out\n",
            "2025-04-29 19:07:35,881 - whois.whois - ERROR - Error trying to connect to socket: closing socket - [Errno 111] Connection refused\n",
            "ERROR:whois.whois:Error trying to connect to socket: closing socket - [Errno 111] Connection refused\n",
            "2025-04-29 19:07:36,318 - whois.whois - ERROR - Error trying to connect to socket: closing socket - [Errno -2] Name or service not known\n",
            "ERROR:whois.whois:Error trying to connect to socket: closing socket - [Errno -2] Name or service not known\n",
            "2025-04-29 19:07:36,505 - whois.whois - ERROR - Error trying to connect to socket: closing socket - [Errno 111] Connection refused\n",
            "ERROR:whois.whois:Error trying to connect to socket: closing socket - [Errno 111] Connection refused\n",
            "2025-04-29 19:07:45,859 - whois.whois - ERROR - Error trying to connect to socket: closing socket - timed out\n",
            "ERROR:whois.whois:Error trying to connect to socket: closing socket - timed out\n",
            "2025-04-29 19:07:46,322 - whois.whois - ERROR - Error trying to connect to socket: closing socket - timed out\n",
            "ERROR:whois.whois:Error trying to connect to socket: closing socket - timed out\n",
            "2025-04-29 19:07:59,276 - whois.whois - ERROR - Error trying to connect to socket: closing socket - timed out\n",
            "ERROR:whois.whois:Error trying to connect to socket: closing socket - timed out\n",
            "2025-04-29 19:07:59,628 - whois.whois - ERROR - Error trying to connect to socket: closing socket - [Errno -2] Name or service not known\n",
            "ERROR:whois.whois:Error trying to connect to socket: closing socket - [Errno -2] Name or service not known\n",
            "2025-04-29 19:07:59,990 - whois.whois - ERROR - Error trying to connect to socket: closing socket - [Errno 111] Connection refused\n",
            "ERROR:whois.whois:Error trying to connect to socket: closing socket - [Errno 111] Connection refused\n",
            "2025-04-29 19:08:09,885 - whois.whois - ERROR - Error trying to connect to socket: closing socket - timed out\n",
            "ERROR:whois.whois:Error trying to connect to socket: closing socket - timed out\n",
            "2025-04-29 19:09:34,247 - whois.whois - ERROR - Error trying to connect to socket: closing socket - timed out\n",
            "ERROR:whois.whois:Error trying to connect to socket: closing socket - timed out\n",
            "2025-04-29 19:10:14,693 - whois.whois - ERROR - Error trying to connect to socket: closing socket - timed out\n",
            "ERROR:whois.whois:Error trying to connect to socket: closing socket - timed out\n",
            "2025-04-29 19:10:14,755 - whois.whois - ERROR - Error trying to connect to socket: closing socket - timed out\n",
            "ERROR:whois.whois:Error trying to connect to socket: closing socket - timed out\n",
            "2025-04-29 19:10:16,228 - whois.whois - ERROR - Error trying to connect to socket: closing socket - timed out\n",
            "ERROR:whois.whois:Error trying to connect to socket: closing socket - timed out\n",
            "2025-04-29 19:10:16,445 - whois.whois - ERROR - Error trying to connect to socket: closing socket - timed out\n",
            "ERROR:whois.whois:Error trying to connect to socket: closing socket - timed out\n",
            "2025-04-29 19:10:16,597 - whois.whois - ERROR - Error trying to connect to socket: closing socket - timed out\n",
            "ERROR:whois.whois:Error trying to connect to socket: closing socket - timed out\n",
            "2025-04-29 19:10:21,161 - whois.whois - ERROR - Error trying to connect to socket: closing socket - [Errno -2] Name or service not known\n",
            "ERROR:whois.whois:Error trying to connect to socket: closing socket - [Errno -2] Name or service not known\n",
            "2025-04-29 19:10:21,513 - whois.whois - ERROR - Error trying to connect to socket: closing socket - [Errno -2] Name or service not known\n",
            "ERROR:whois.whois:Error trying to connect to socket: closing socket - [Errno -2] Name or service not known\n",
            "2025-04-29 19:10:21,593 - whois.whois - ERROR - Error trying to connect to socket: closing socket - [Errno -2] Name or service not known\n",
            "ERROR:whois.whois:Error trying to connect to socket: closing socket - [Errno -2] Name or service not known\n",
            "2025-04-29 19:10:24,035 - whois.whois - ERROR - Error trying to connect to socket: closing socket - [Errno -2] Name or service not known\n",
            "ERROR:whois.whois:Error trying to connect to socket: closing socket - [Errno -2] Name or service not known\n",
            "2025-04-29 19:10:24,886 - whois.whois - ERROR - Error trying to connect to socket: closing socket - [Errno -2] Name or service not known\n",
            "ERROR:whois.whois:Error trying to connect to socket: closing socket - [Errno -2] Name or service not known\n",
            "2025-04-29 19:10:27,644 - whois.whois - ERROR - Error trying to connect to socket: closing socket - timed out\n",
            "ERROR:whois.whois:Error trying to connect to socket: closing socket - timed out\n",
            "2025-04-29 19:10:27,700 - whois.whois - ERROR - Error trying to connect to socket: closing socket - timed out\n",
            "ERROR:whois.whois:Error trying to connect to socket: closing socket - timed out\n",
            "2025-04-29 19:10:27,701 - whois.whois - ERROR - Error trying to connect to socket: closing socket - timed out\n",
            "ERROR:whois.whois:Error trying to connect to socket: closing socket - timed out\n",
            "2025-04-29 19:10:27,753 - whois.whois - ERROR - Error trying to connect to socket: closing socket - timed out\n",
            "ERROR:whois.whois:Error trying to connect to socket: closing socket - timed out\n",
            "2025-04-29 19:10:27,766 - whois.whois - ERROR - Error trying to connect to socket: closing socket - timed out\n",
            "ERROR:whois.whois:Error trying to connect to socket: closing socket - timed out\n",
            "2025-04-29 19:10:27,990 - whois.whois - ERROR - Error trying to connect to socket: closing socket - timed out\n",
            "ERROR:whois.whois:Error trying to connect to socket: closing socket - timed out\n",
            "2025-04-29 19:10:28,340 - whois.whois - ERROR - Error trying to connect to socket: closing socket - timed out\n",
            "ERROR:whois.whois:Error trying to connect to socket: closing socket - timed out\n",
            "2025-04-29 19:10:28,551 - whois.whois - ERROR - Error trying to connect to socket: closing socket - timed out\n",
            "ERROR:whois.whois:Error trying to connect to socket: closing socket - timed out\n",
            "2025-04-29 19:10:29,516 - whois.whois - ERROR - Error trying to connect to socket: closing socket - timed out\n",
            "ERROR:whois.whois:Error trying to connect to socket: closing socket - timed out\n",
            "2025-04-29 19:10:30,235 - whois.whois - ERROR - Error trying to connect to socket: closing socket - timed out\n",
            "ERROR:whois.whois:Error trying to connect to socket: closing socket - timed out\n",
            "2025-04-29 19:10:30,545 - whois.whois - ERROR - Error trying to connect to socket: closing socket - timed out\n",
            "ERROR:whois.whois:Error trying to connect to socket: closing socket - timed out\n",
            "2025-04-29 19:10:30,909 - whois.whois - ERROR - Error trying to connect to socket: closing socket - timed out\n",
            "ERROR:whois.whois:Error trying to connect to socket: closing socket - timed out\n",
            "2025-04-29 19:10:34,547 - whois.whois - ERROR - Error trying to connect to socket: closing socket - timed out\n",
            "ERROR:whois.whois:Error trying to connect to socket: closing socket - timed out\n",
            "2025-04-29 19:10:37,260 - whois.whois - ERROR - Error trying to connect to socket: closing socket - [Errno -2] Name or service not known\n",
            "ERROR:whois.whois:Error trying to connect to socket: closing socket - [Errno -2] Name or service not known\n",
            "2025-04-29 19:10:38,356 - whois.whois - ERROR - Error trying to connect to socket: closing socket - [Errno -2] Name or service not known\n",
            "ERROR:whois.whois:Error trying to connect to socket: closing socket - [Errno -2] Name or service not known\n",
            "2025-04-29 19:10:46,839 - whois.whois - ERROR - Error trying to connect to socket: closing socket - timed out\n",
            "ERROR:whois.whois:Error trying to connect to socket: closing socket - timed out\n",
            "2025-04-29 19:11:17,121 - whois.whois - ERROR - Error trying to connect to socket: closing socket - [Errno 104] Connection reset by peer\n",
            "ERROR:whois.whois:Error trying to connect to socket: closing socket - [Errno 104] Connection reset by peer\n",
            "2025-04-29 19:11:30,608 - whois.whois - ERROR - Error trying to connect to socket: closing socket - [Errno 111] Connection refused\n",
            "ERROR:whois.whois:Error trying to connect to socket: closing socket - [Errno 111] Connection refused\n",
            "2025-04-29 19:11:40,392 - whois.whois - ERROR - Error trying to connect to socket: closing socket - timed out\n",
            "ERROR:whois.whois:Error trying to connect to socket: closing socket - timed out\n",
            "2025-04-29 19:11:40,996 - whois.whois - ERROR - Error trying to connect to socket: closing socket - [Errno 111] Connection refused\n",
            "ERROR:whois.whois:Error trying to connect to socket: closing socket - [Errno 111] Connection refused\n",
            "2025-04-29 19:12:37,205 - whois.whois - ERROR - Error trying to connect to socket: closing socket - timed out\n",
            "ERROR:whois.whois:Error trying to connect to socket: closing socket - timed out\n",
            "2025-04-29 19:12:37,276 - whois.whois - ERROR - Error trying to connect to socket: closing socket - timed out\n",
            "ERROR:whois.whois:Error trying to connect to socket: closing socket - timed out\n",
            "2025-04-29 19:13:14,566 - whois.whois - ERROR - Error trying to connect to socket: closing socket - [Errno -2] Name or service not known\n",
            "ERROR:whois.whois:Error trying to connect to socket: closing socket - [Errno -2] Name or service not known\n",
            "2025-04-29 19:13:29,424 - whois.whois - ERROR - Error trying to connect to socket: closing socket - timed out\n",
            "ERROR:whois.whois:Error trying to connect to socket: closing socket - timed out\n",
            "2025-04-29 19:19:24,079 - whois.whois - ERROR - Error trying to connect to socket: closing socket - timed out\n",
            "ERROR:whois.whois:Error trying to connect to socket: closing socket - timed out\n",
            "2025-04-29 19:19:24,162 - whois.whois - ERROR - Error trying to connect to socket: closing socket - timed out\n",
            "ERROR:whois.whois:Error trying to connect to socket: closing socket - timed out\n",
            "2025-04-29 19:20:18,234 - whois.whois - ERROR - Error trying to connect to socket: closing socket - timed out\n",
            "ERROR:whois.whois:Error trying to connect to socket: closing socket - timed out\n",
            "2025-04-29 19:21:23,661 - whois.whois - ERROR - Error trying to connect to socket: closing socket - timed out\n",
            "ERROR:whois.whois:Error trying to connect to socket: closing socket - timed out\n"
          ]
        }
      ]
    },
    {
      "cell_type": "markdown",
      "source": [
        "### Create DataFrame from results"
      ],
      "metadata": {
        "id": "KH8RynguYxw9"
      }
    },
    {
      "cell_type": "code",
      "source": [
        "features_df = pd.DataFrame(all_results)\n",
        "features_df['is_phishing'] = all_classes"
      ],
      "metadata": {
        "id": "Rmgtx6W4YzZk"
      },
      "execution_count": 117,
      "outputs": []
    },
    {
      "cell_type": "markdown",
      "source": [
        "### Handle any potential numeric issues"
      ],
      "metadata": {
        "id": "324FCgO3Yzyn"
      }
    },
    {
      "cell_type": "code",
      "source": [
        "features_df = features_df.replace([np.inf, -np.inf], np.nan)\n",
        "features_df = features_df.fillna(0)"
      ],
      "metadata": {
        "id": "1GMWuSpeY1rf"
      },
      "execution_count": 118,
      "outputs": []
    },
    {
      "cell_type": "markdown",
      "source": [
        "### Save processed features"
      ],
      "metadata": {
        "id": "qlkyasF7Y2AE"
      }
    },
    {
      "cell_type": "code",
      "source": [
        "features_df.to_csv(PROCESSED_DATA_PATH, index=False)"
      ],
      "metadata": {
        "id": "eFtSPMwbY372"
      },
      "execution_count": 119,
      "outputs": []
    },
    {
      "cell_type": "code",
      "source": [
        "feature_extraction_time = time.time() - start_time\n",
        "log_event(\"TIMING\", f\"Feature extraction completed in {feature_extraction_time:.2f} seconds\",\n",
        "         {\"num_features\": features_df.shape[1] - 1})"
      ],
      "metadata": {
        "colab": {
          "base_uri": "https://localhost:8080/"
        },
        "id": "ZV0WDgmM388Q",
        "outputId": "d3a2153c-8699-46fc-c358-740617461d2b"
      },
      "execution_count": 120,
      "outputs": [
        {
          "output_type": "stream",
          "name": "stdout",
          "text": [
            "[2025-04-29T19:21:36.301920] TIMING: Feature extraction completed in 896.17 seconds\n"
          ]
        }
      ]
    },
    {
      "cell_type": "markdown",
      "source": [
        "## 4. Feature Analysis"
      ],
      "metadata": {
        "id": "iM17UIa7Nm-c"
      }
    },
    {
      "cell_type": "code",
      "source": [
        "print(\"\\nExtracted Features Summary:\")\n",
        "print(features_df.describe())"
      ],
      "metadata": {
        "colab": {
          "base_uri": "https://localhost:8080/"
        },
        "id": "2-ojwXgRNpAs",
        "outputId": "314cf1a1-de9d-420c-85bf-bff4a9333535"
      },
      "execution_count": 121,
      "outputs": [
        {
          "output_type": "stream",
          "name": "stdout",
          "text": [
            "\n",
            "Extracted Features Summary:\n",
            "         uses_http  LegitimacyScore  PrefixSuffix-  WebsiteTraffic  \\\n",
            "count  4000.000000      4000.000000    4000.000000     4000.000000   \n",
            "mean      0.468750         0.518825       0.481000        0.535250   \n",
            "std       0.499085         0.220319       0.499701        0.498818   \n",
            "min       0.000000         0.000000       0.000000        0.000000   \n",
            "25%       0.000000         0.300000       0.000000        0.000000   \n",
            "50%       0.000000         0.500000       0.000000        1.000000   \n",
            "75%       1.000000         0.800000       1.000000        1.000000   \n",
            "max       1.000000         0.800000       1.000000        1.000000   \n",
            "\n",
            "       DNSRecording     PageRank  GoogleIndex   SubDomains  DomainLength  \\\n",
            "count   4000.000000  4000.000000  4000.000000  4000.000000   4000.000000   \n",
            "mean       0.541250     0.492250     0.541250     0.509000      0.430750   \n",
            "std        0.498358     0.500002     0.498358     0.591191      0.495243   \n",
            "min        0.000000     0.000000     0.000000     0.000000      0.000000   \n",
            "25%        0.000000     0.000000     0.000000     0.000000      0.000000   \n",
            "50%        1.000000     0.000000     1.000000     0.000000      0.000000   \n",
            "75%        1.000000     1.000000     1.000000     1.000000      1.000000   \n",
            "max        1.000000     1.000000     1.000000     6.000000      1.000000   \n",
            "\n",
            "       LinksPointingToPage  StatsReport  DomainRegLen   RequestURL  \\\n",
            "count          4000.000000  4000.000000   4000.000000  4000.000000   \n",
            "mean              0.327750     0.321500      0.323750     0.192750   \n",
            "std               0.469452     0.467111      0.467964     0.394508   \n",
            "min               0.000000     0.000000      0.000000     0.000000   \n",
            "25%               0.000000     0.000000      0.000000     0.000000   \n",
            "50%               0.000000     0.000000      0.000000     0.000000   \n",
            "75%               1.000000     1.000000      1.000000     0.000000   \n",
            "max               1.000000     1.000000      1.000000     1.000000   \n",
            "\n",
            "       AbnormalURL     Symbol@  IsTyposquatting  BrandInSubdomain  \\\n",
            "count  4000.000000  4000.00000      4000.000000       4000.000000   \n",
            "mean      0.249250     0.00375         0.001750          0.006750   \n",
            "std       0.432633     0.06113         0.041802          0.081891   \n",
            "min       0.000000     0.00000         0.000000          0.000000   \n",
            "25%       0.000000     0.00000         0.000000          0.000000   \n",
            "50%       0.000000     0.00000         0.000000          0.000000   \n",
            "75%       0.000000     0.00000         0.000000          0.000000   \n",
            "max       1.000000     1.00000         1.000000          1.000000   \n",
            "\n",
            "           UsingIP  AgeofDomain  is_phishing  \n",
            "count  4000.000000   4000.00000  4000.000000  \n",
            "mean      0.003000      0.32950     0.500000  \n",
            "std       0.054697      0.47009     0.500063  \n",
            "min       0.000000      0.00000     0.000000  \n",
            "25%       0.000000      0.00000     0.000000  \n",
            "50%       0.000000      0.00000     0.500000  \n",
            "75%       0.000000      1.00000     1.000000  \n",
            "max       1.000000      1.00000     1.000000  \n"
          ]
        }
      ]
    },
    {
      "cell_type": "markdown",
      "source": [
        "### Dsiplay correlation with target"
      ],
      "metadata": {
        "id": "OgIVrqcA4zaM"
      }
    },
    {
      "cell_type": "code",
      "source": [
        "correlations = features_df.corr()['is_phishing'].sort_values(ascending=False)\n",
        "print(\"\\nFeatures by Correlation with Target:\")\n",
        "print(correlations)"
      ],
      "metadata": {
        "colab": {
          "base_uri": "https://localhost:8080/"
        },
        "id": "XKGjgFTI42Cq",
        "outputId": "d8f90a65-418c-476f-e9b7-8fa893ed197b"
      },
      "execution_count": 122,
      "outputs": [
        {
          "output_type": "stream",
          "name": "stdout",
          "text": [
            "\n",
            "Features by Correlation with Target:\n",
            "is_phishing            1.000000\n",
            "uses_http              0.939336\n",
            "PrefixSuffix-          0.928671\n",
            "DomainLength           0.810309\n",
            "AbnormalURL            0.546143\n",
            "BrandInSubdomain       0.051905\n",
            "UsingIP                0.045712\n",
            "Symbol@                0.044992\n",
            "IsTyposquatting        0.041870\n",
            "RequestURL            -0.468364\n",
            "AgeofDomain           -0.627617\n",
            "DomainRegLen          -0.627797\n",
            "LinksPointingToPage   -0.632199\n",
            "StatsReport           -0.636974\n",
            "SubDomains            -0.687681\n",
            "PageRank              -0.901608\n",
            "DNSRecording          -0.903580\n",
            "GoogleIndex           -0.903580\n",
            "LegitimacyScore       -0.906188\n",
            "WebsiteTraffic        -0.907759\n",
            "Name: is_phishing, dtype: float64\n"
          ]
        }
      ]
    },
    {
      "cell_type": "markdown",
      "source": [
        "### Create correlation heatmap"
      ],
      "metadata": {
        "id": "FkW3-yc4Nr6-"
      }
    },
    {
      "cell_type": "code",
      "source": [
        "plt.figure(figsize=(14, 12))\n",
        "sns.heatmap(features_df.corr(), annot=False, cmap='coolwarm', fmt='.2f')\n",
        "plt.title('Feature Correlation Matrix')\n",
        "plt.tight_layout()\n",
        "plt.show()"
      ],
      "metadata": {
        "colab": {
          "base_uri": "https://localhost:8080/",
          "height": 1000
        },
        "id": "y2Eo4evuNu-e",
        "outputId": "c62790f3-00e8-47f7-97af-7b6681ffe8c3"
      },
      "execution_count": 123,
      "outputs": [
        {
          "output_type": "display_data",
          "data": {
            "text/plain": [
              "<Figure size 1400x1200 with 2 Axes>"
            ],
            "image/png": "[encoded data removed]"
          },
          "metadata": {}
        }
      ]
    },
    {
      "cell_type": "markdown",
      "source": [
        "## 5. Model Training"
      ],
      "metadata": {
        "id": "ZW0F0IA1NxKH"
      }
    },
    {
      "cell_type": "code",
      "source": [
        "log_event(\"MODEL_TRAINING\", \"Starting model training with Random Forest\")\n",
        "start_time = time.time()"
      ],
      "metadata": {
        "colab": {
          "base_uri": "https://localhost:8080/"
        },
        "id": "4K4H7BF1Nzj0",
        "outputId": "d672bd31-a87e-4f5d-9531-502a9cb97140"
      },
      "execution_count": 124,
      "outputs": [
        {
          "output_type": "stream",
          "name": "stdout",
          "text": [
            "[2025-04-29T19:21:36.923613] MODEL_TRAINING: Starting model training with Random Forest\n"
          ]
        }
      ]
    },
    {
      "cell_type": "markdown",
      "source": [
        "### Prepare features and target"
      ],
      "metadata": {
        "id": "EwyozjhVN1cQ"
      }
    },
    {
      "cell_type": "code",
      "source": [
        "X = features_df.drop('is_phishing', axis=1)\n",
        "y = features_df['is_phishing']"
      ],
      "metadata": {
        "id": "aysxmlVFN3UT"
      },
      "execution_count": 125,
      "outputs": []
    },
    {
      "cell_type": "markdown",
      "source": [
        "### Split data (80% train, 20% test)"
      ],
      "metadata": {
        "id": "Wrx512RRN4vn"
      }
    },
    {
      "cell_type": "code",
      "source": [
        "X_train, X_test, y_train, y_test = train_test_split(X, y, test_size=0.2, random_state=42, stratify=y)"
      ],
      "metadata": {
        "id": "vUM-wNYFN61O"
      },
      "execution_count": 126,
      "outputs": []
    },
    {
      "cell_type": "markdown",
      "source": [
        "### Log the data split information"
      ],
      "metadata": {
        "id": "uSfDaOybN_Gi"
      }
    },
    {
      "cell_type": "code",
      "source": [
        "log_event(\"DATA_SPLIT\", \"Data split into training and testing sets\",\n",
        "          {\"train_samples\": X_train.shape[0], \"test_samples\": X_test.shape[0]})"
      ],
      "metadata": {
        "colab": {
          "base_uri": "https://localhost:8080/"
        },
        "id": "_-o4LYdXOBbc",
        "outputId": "bdd17567-f39f-4c38-ee7e-6a45cbab898e"
      },
      "execution_count": 127,
      "outputs": [
        {
          "output_type": "stream",
          "name": "stdout",
          "text": [
            "[2025-04-29T19:21:36.959131] DATA_SPLIT: Data split into training and testing sets\n"
          ]
        }
      ]
    },
    {
      "cell_type": "markdown",
      "source": [
        "### Feature scaling"
      ],
      "metadata": {
        "id": "ql6jtolROECQ"
      }
    },
    {
      "cell_type": "code",
      "source": [
        "scaler = StandardScaler()\n",
        "X_train_scaled = scaler.fit_transform(X_train)\n",
        "X_test_scaled = scaler.transform(X_test)"
      ],
      "metadata": {
        "id": "tZMryOTnOFzZ"
      },
      "execution_count": 128,
      "outputs": []
    },
    {
      "cell_type": "markdown",
      "source": [
        "### Train Random Forest Model"
      ],
      "metadata": {
        "id": "Hd3H2_diOHWq"
      }
    },
    {
      "cell_type": "code",
      "source": [
        "rf_model = RandomForestClassifier(\n",
        "    n_estimators=200,\n",
        "    max_depth=12,\n",
        "    min_samples_split=10,\n",
        "    min_samples_leaf=4,\n",
        "    max_features='sqrt',\n",
        "    class_weight='balanced',\n",
        "    n_jobs=-1,\n",
        "    random_state=42\n",
        ")"
      ],
      "metadata": {
        "id": "-bm4bE3vOJbS"
      },
      "execution_count": 129,
      "outputs": []
    },
    {
      "cell_type": "code",
      "source": [
        "rf_model.fit(X_train_scaled, y_train)"
      ],
      "metadata": {
        "colab": {
          "base_uri": "https://localhost:8080/",
          "height": 115
        },
        "id": "LRUmw71WOOd4",
        "outputId": "a3ba43b7-1b4e-4ec2-9519-918620106026"
      },
      "execution_count": 130,
      "outputs": [
        {
          "output_type": "execute_result",
          "data": {
            "text/plain": [
              "RandomForestClassifier(class_weight='balanced', max_depth=12,\n",
              "                       min_samples_leaf=4, min_samples_split=10,\n",
              "                       n_estimators=200, n_jobs=-1, random_state=42)"
            ],
            "text/html": [
              "<style>#sk-container-id-4 {\n",
              "  /* Definition of color scheme common for light and dark mode */\n",
              "  --sklearn-color-text: #000;\n",
              "  --sklearn-color-text-muted: #666;\n",
              "  --sklearn-color-line: gray;\n",
              "  /* Definition of color scheme for unfitted estimators */\n",
              "  --sklearn-color-unfitted-level-0: #fff5e6;\n",
              "  --sklearn-color-unfitted-level-1: #f6e4d2;\n",
              "  --sklearn-color-unfitted-level-2: #ffe0b3;\n",
              "  --sklearn-color-unfitted-level-3: chocolate;\n",
              "  /* Definition of color scheme for fitted estimators */\n",
              "  --sklearn-color-fitted-level-0: #f0f8ff;\n",
              "  --sklearn-color-fitted-level-1: #d4ebff;\n",
              "  --sklearn-color-fitted-level-2: #b3dbfd;\n",
              "  --sklearn-color-fitted-level-3: cornflowerblue;\n",
              "\n",
              "  /* Specific color for light theme */\n",
              "  --sklearn-color-text-on-default-background: var(--sg-text-color, var(--theme-code-foreground, var(--jp-content-font-color1, black)));\n",
              "  --sklearn-color-background: var(--sg-background-color, var(--theme-background, var(--jp-layout-color0, white)));\n",
              "  --sklearn-color-border-box: var(--sg-text-color, var(--theme-code-foreground, var(--jp-content-font-color1, black)));\n",
              "  --sklearn-color-icon: #696969;\n",
              "\n",
              "  @media (prefers-color-scheme: dark) {\n",
              "    /* Redefinition of color scheme for dark theme */\n",
              "    --sklearn-color-text-on-default-background: var(--sg-text-color, var(--theme-code-foreground, var(--jp-content-font-color1, white)));\n",
              "    --sklearn-color-background: var(--sg-background-color, var(--theme-background, var(--jp-layout-color0, #111)));\n",
              "    --sklearn-color-border-box: var(--sg-text-color, var(--theme-code-foreground, var(--jp-content-font-color1, white)));\n",
              "    --sklearn-color-icon: #878787;\n",
              "  }\n",
              "}\n",
              "\n",
              "#sk-container-id-4 {\n",
              "  color: var(--sklearn-color-text);\n",
              "}\n",
              "\n",
              "#sk-container-id-4 pre {\n",
              "  padding: 0;\n",
              "}\n",
              "\n",
              "#sk-container-id-4 input.sk-hidden--visually {\n",
              "  border: 0;\n",
              "  clip: rect(1px 1px 1px 1px);\n",
              "  clip: rect(1px, 1px, 1px, 1px);\n",
              "  height: 1px;\n",
              "  margin: -1px;\n",
              "  overflow: hidden;\n",
              "  padding: 0;\n",
              "  position: absolute;\n",
              "  width: 1px;\n",
              "}\n",
              "\n",
              "#sk-container-id-4 div.sk-dashed-wrapped {\n",
              "  border: 1px dashed var(--sklearn-color-line);\n",
              "  margin: 0 0.4em 0.5em 0.4em;\n",
              "  box-sizing: border-box;\n",
              "  padding-bottom: 0.4em;\n",
              "  background-color: var(--sklearn-color-background);\n",
              "}\n",
              "\n",
              "#sk-container-id-4 div.sk-container {\n",
              "  /* jupyter's `normalize.less` sets `[hidden] { display: none; }`\n",
              "     but bootstrap.min.css set `[hidden] { display: none !important; }`\n",
              "     so we also need the `!important` here to be able to override the\n",
              "     default hidden behavior on the sphinx rendered scikit-learn.org.\n",
              "     See: https://github.com/scikit-learn/scikit-learn/issues/21755 */\n",
              "  display: inline-block !important;\n",
              "  position: relative;\n",
              "}\n",
              "\n",
              "#sk-container-id-4 div.sk-text-repr-fallback {\n",
              "  display: none;\n",
              "}\n",
              "\n",
              "div.sk-parallel-item,\n",
              "div.sk-serial,\n",
              "div.sk-item {\n",
              "  /* draw centered vertical line to link estimators */\n",
              "  background-image: linear-gradient(var(--sklearn-color-text-on-default-background), var(--sklearn-color-text-on-default-background));\n",
              "  background-size: 2px 100%;\n",
              "  background-repeat: no-repeat;\n",
              "  background-position: center center;\n",
              "}\n",
              "\n",
              "/* Parallel-specific style estimator block */\n",
              "\n",
              "#sk-container-id-4 div.sk-parallel-item::after {\n",
              "  content: \"\";\n",
              "  width: 100%;\n",
              "  border-bottom: 2px solid var(--sklearn-color-text-on-default-background);\n",
              "  flex-grow: 1;\n",
              "}\n",
              "\n",
              "#sk-container-id-4 div.sk-parallel {\n",
              "  display: flex;\n",
              "  align-items: stretch;\n",
              "  justify-content: center;\n",
              "  background-color: var(--sklearn-color-background);\n",
              "  position: relative;\n",
              "}\n",
              "\n",
              "#sk-container-id-4 div.sk-parallel-item {\n",
              "  display: flex;\n",
              "  flex-direction: column;\n",
              "}\n",
              "\n",
              "#sk-container-id-4 div.sk-parallel-item:first-child::after {\n",
              "  align-self: flex-end;\n",
              "  width: 50%;\n",
              "}\n",
              "\n",
              "#sk-container-id-4 div.sk-parallel-item:last-child::after {\n",
              "  align-self: flex-start;\n",
              "  width: 50%;\n",
              "}\n",
              "\n",
              "#sk-container-id-4 div.sk-parallel-item:only-child::after {\n",
              "  width: 0;\n",
              "}\n",
              "\n",
              "/* Serial-specific style estimator block */\n",
              "\n",
              "#sk-container-id-4 div.sk-serial {\n",
              "  display: flex;\n",
              "  flex-direction: column;\n",
              "  align-items: center;\n",
              "  background-color: var(--sklearn-color-background);\n",
              "  padding-right: 1em;\n",
              "  padding-left: 1em;\n",
              "}\n",
              "\n",
              "\n",
              "/* Toggleable style: style used for estimator/Pipeline/ColumnTransformer box that is\n",
              "clickable and can be expanded/collapsed.\n",
              "- Pipeline and ColumnTransformer use this feature and define the default style\n",
              "- Estimators will overwrite some part of the style using the `sk-estimator` class\n",
              "*/\n",
              "\n",
              "/* Pipeline and ColumnTransformer style (default) */\n",
              "\n",
              "#sk-container-id-4 div.sk-toggleable {\n",
              "  /* Default theme specific background. It is overwritten whether we have a\n",
              "  specific estimator or a Pipeline/ColumnTransformer */\n",
              "  background-color: var(--sklearn-color-background);\n",
              "}\n",
              "\n",
              "/* Toggleable label */\n",
              "#sk-container-id-4 label.sk-toggleable__label {\n",
              "  cursor: pointer;\n",
              "  display: flex;\n",
              "  width: 100%;\n",
              "  margin-bottom: 0;\n",
              "  padding: 0.5em;\n",
              "  box-sizing: border-box;\n",
              "  text-align: center;\n",
              "  align-items: start;\n",
              "  justify-content: space-between;\n",
              "  gap: 0.5em;\n",
              "}\n",
              "\n",
              "#sk-container-id-4 label.sk-toggleable__label .caption {\n",
              "  font-size: 0.6rem;\n",
              "  font-weight: lighter;\n",
              "  color: var(--sklearn-color-text-muted);\n",
              "}\n",
              "\n",
              "#sk-container-id-4 label.sk-toggleable__label-arrow:before {\n",
              "  /* Arrow on the left of the label */\n",
              "  content: \"▸\";\n",
              "  float: left;\n",
              "  margin-right: 0.25em;\n",
              "  color: var(--sklearn-color-icon);\n",
              "}\n",
              "\n",
              "#sk-container-id-4 label.sk-toggleable__label-arrow:hover:before {\n",
              "  color: var(--sklearn-color-text);\n",
              "}\n",
              "\n",
              "/* Toggleable content - dropdown */\n",
              "\n",
              "#sk-container-id-4 div.sk-toggleable__content {\n",
              "  max-height: 0;\n",
              "  max-width: 0;\n",
              "  overflow: hidden;\n",
              "  text-align: left;\n",
              "  /* unfitted */\n",
              "  background-color: var(--sklearn-color-unfitted-level-0);\n",
              "}\n",
              "\n",
              "#sk-container-id-4 div.sk-toggleable__content.fitted {\n",
              "  /* fitted */\n",
              "  background-color: var(--sklearn-color-fitted-level-0);\n",
              "}\n",
              "\n",
              "#sk-container-id-4 div.sk-toggleable__content pre {\n",
              "  margin: 0.2em;\n",
              "  border-radius: 0.25em;\n",
              "  color: var(--sklearn-color-text);\n",
              "  /* unfitted */\n",
              "  background-color: var(--sklearn-color-unfitted-level-0);\n",
              "}\n",
              "\n",
              "#sk-container-id-4 div.sk-toggleable__content.fitted pre {\n",
              "  /* unfitted */\n",
              "  background-color: var(--sklearn-color-fitted-level-0);\n",
              "}\n",
              "\n",
              "#sk-container-id-4 input.sk-toggleable__control:checked~div.sk-toggleable__content {\n",
              "  /* Expand drop-down */\n",
              "  max-height: 200px;\n",
              "  max-width: 100%;\n",
              "  overflow: auto;\n",
              "}\n",
              "\n",
              "#sk-container-id-4 input.sk-toggleable__control:checked~label.sk-toggleable__label-arrow:before {\n",
              "  content: \"▾\";\n",
              "}\n",
              "\n",
              "/* Pipeline/ColumnTransformer-specific style */\n",
              "\n",
              "#sk-container-id-4 div.sk-label input.sk-toggleable__control:checked~label.sk-toggleable__label {\n",
              "  color: var(--sklearn-color-text);\n",
              "  background-color: var(--sklearn-color-unfitted-level-2);\n",
              "}\n",
              "\n",
              "#sk-container-id-4 div.sk-label.fitted input.sk-toggleable__control:checked~label.sk-toggleable__label {\n",
              "  background-color: var(--sklearn-color-fitted-level-2);\n",
              "}\n",
              "\n",
              "/* Estimator-specific style */\n",
              "\n",
              "/* Colorize estimator box */\n",
              "#sk-container-id-4 div.sk-estimator input.sk-toggleable__control:checked~label.sk-toggleable__label {\n",
              "  /* unfitted */\n",
              "  background-color: var(--sklearn-color-unfitted-level-2);\n",
              "}\n",
              "\n",
              "#sk-container-id-4 div.sk-estimator.fitted input.sk-toggleable__control:checked~label.sk-toggleable__label {\n",
              "  /* fitted */\n",
              "  background-color: var(--sklearn-color-fitted-level-2);\n",
              "}\n",
              "\n",
              "#sk-container-id-4 div.sk-label label.sk-toggleable__label,\n",
              "#sk-container-id-4 div.sk-label label {\n",
              "  /* The background is the default theme color */\n",
              "  color: var(--sklearn-color-text-on-default-background);\n",
              "}\n",
              "\n",
              "/* On hover, darken the color of the background */\n",
              "#sk-container-id-4 div.sk-label:hover label.sk-toggleable__label {\n",
              "  color: var(--sklearn-color-text);\n",
              "  background-color: var(--sklearn-color-unfitted-level-2);\n",
              "}\n",
              "\n",
              "/* Label box, darken color on hover, fitted */\n",
              "#sk-container-id-4 div.sk-label.fitted:hover label.sk-toggleable__label.fitted {\n",
              "  color: var(--sklearn-color-text);\n",
              "  background-color: var(--sklearn-color-fitted-level-2);\n",
              "}\n",
              "\n",
              "/* Estimator label */\n",
              "\n",
              "#sk-container-id-4 div.sk-label label {\n",
              "  font-family: monospace;\n",
              "  font-weight: bold;\n",
              "  display: inline-block;\n",
              "  line-height: 1.2em;\n",
              "}\n",
              "\n",
              "#sk-container-id-4 div.sk-label-container {\n",
              "  text-align: center;\n",
              "}\n",
              "\n",
              "/* Estimator-specific */\n",
              "#sk-container-id-4 div.sk-estimator {\n",
              "  font-family: monospace;\n",
              "  border: 1px dotted var(--sklearn-color-border-box);\n",
              "  border-radius: 0.25em;\n",
              "  box-sizing: border-box;\n",
              "  margin-bottom: 0.5em;\n",
              "  /* unfitted */\n",
              "  background-color: var(--sklearn-color-unfitted-level-0);\n",
              "}\n",
              "\n",
              "#sk-container-id-4 div.sk-estimator.fitted {\n",
              "  /* fitted */\n",
              "  background-color: var(--sklearn-color-fitted-level-0);\n",
              "}\n",
              "\n",
              "/* on hover */\n",
              "#sk-container-id-4 div.sk-estimator:hover {\n",
              "  /* unfitted */\n",
              "  background-color: var(--sklearn-color-unfitted-level-2);\n",
              "}\n",
              "\n",
              "#sk-container-id-4 div.sk-estimator.fitted:hover {\n",
              "  /* fitted */\n",
              "  background-color: var(--sklearn-color-fitted-level-2);\n",
              "}\n",
              "\n",
              "/* Specification for estimator info (e.g. \"i\" and \"?\") */\n",
              "\n",
              "/* Common style for \"i\" and \"?\" */\n",
              "\n",
              ".sk-estimator-doc-link,\n",
              "a:link.sk-estimator-doc-link,\n",
              "a:visited.sk-estimator-doc-link {\n",
              "  float: right;\n",
              "  font-size: smaller;\n",
              "  line-height: 1em;\n",
              "  font-family: monospace;\n",
              "  background-color: var(--sklearn-color-background);\n",
              "  border-radius: 1em;\n",
              "  height: 1em;\n",
              "  width: 1em;\n",
              "  text-decoration: none !important;\n",
              "  margin-left: 0.5em;\n",
              "  text-align: center;\n",
              "  /* unfitted */\n",
              "  border: var(--sklearn-color-unfitted-level-1) 1pt solid;\n",
              "  color: var(--sklearn-color-unfitted-level-1);\n",
              "}\n",
              "\n",
              ".sk-estimator-doc-link.fitted,\n",
              "a:link.sk-estimator-doc-link.fitted,\n",
              "a:visited.sk-estimator-doc-link.fitted {\n",
              "  /* fitted */\n",
              "  border: var(--sklearn-color-fitted-level-1) 1pt solid;\n",
              "  color: var(--sklearn-color-fitted-level-1);\n",
              "}\n",
              "\n",
              "/* On hover */\n",
              "div.sk-estimator:hover .sk-estimator-doc-link:hover,\n",
              ".sk-estimator-doc-link:hover,\n",
              "div.sk-label-container:hover .sk-estimator-doc-link:hover,\n",
              ".sk-estimator-doc-link:hover {\n",
              "  /* unfitted */\n",
              "  background-color: var(--sklearn-color-unfitted-level-3);\n",
              "  color: var(--sklearn-color-background);\n",
              "  text-decoration: none;\n",
              "}\n",
              "\n",
              "div.sk-estimator.fitted:hover .sk-estimator-doc-link.fitted:hover,\n",
              ".sk-estimator-doc-link.fitted:hover,\n",
              "div.sk-label-container:hover .sk-estimator-doc-link.fitted:hover,\n",
              ".sk-estimator-doc-link.fitted:hover {\n",
              "  /* fitted */\n",
              "  background-color: var(--sklearn-color-fitted-level-3);\n",
              "  color: var(--sklearn-color-background);\n",
              "  text-decoration: none;\n",
              "}\n",
              "\n",
              "/* Span, style for the box shown on hovering the info icon */\n",
              ".sk-estimator-doc-link span {\n",
              "  display: none;\n",
              "  z-index: 9999;\n",
              "  position: relative;\n",
              "  font-weight: normal;\n",
              "  right: .2ex;\n",
              "  padding: .5ex;\n",
              "  margin: .5ex;\n",
              "  width: min-content;\n",
              "  min-width: 20ex;\n",
              "  max-width: 50ex;\n",
              "  color: var(--sklearn-color-text);\n",
              "  box-shadow: 2pt 2pt 4pt #999;\n",
              "  /* unfitted */\n",
              "  background: var(--sklearn-color-unfitted-level-0);\n",
              "  border: .5pt solid var(--sklearn-color-unfitted-level-3);\n",
              "}\n",
              "\n",
              ".sk-estimator-doc-link.fitted span {\n",
              "  /* fitted */\n",
              "  background: var(--sklearn-color-fitted-level-0);\n",
              "  border: var(--sklearn-color-fitted-level-3);\n",
              "}\n",
              "\n",
              ".sk-estimator-doc-link:hover span {\n",
              "  display: block;\n",
              "}\n",
              "\n",
              "/* \"?\"-specific style due to the `<a>` HTML tag */\n",
              "\n",
              "#sk-container-id-4 a.estimator_doc_link {\n",
              "  float: right;\n",
              "  font-size: 1rem;\n",
              "  line-height: 1em;\n",
              "  font-family: monospace;\n",
              "  background-color: var(--sklearn-color-background);\n",
              "  border-radius: 1rem;\n",
              "  height: 1rem;\n",
              "  width: 1rem;\n",
              "  text-decoration: none;\n",
              "  /* unfitted */\n",
              "  color: var(--sklearn-color-unfitted-level-1);\n",
              "  border: var(--sklearn-color-unfitted-level-1) 1pt solid;\n",
              "}\n",
              "\n",
              "#sk-container-id-4 a.estimator_doc_link.fitted {\n",
              "  /* fitted */\n",
              "  border: var(--sklearn-color-fitted-level-1) 1pt solid;\n",
              "  color: var(--sklearn-color-fitted-level-1);\n",
              "}\n",
              "\n",
              "/* On hover */\n",
              "#sk-container-id-4 a.estimator_doc_link:hover {\n",
              "  /* unfitted */\n",
              "  background-color: var(--sklearn-color-unfitted-level-3);\n",
              "  color: var(--sklearn-color-background);\n",
              "  text-decoration: none;\n",
              "}\n",
              "\n",
              "#sk-container-id-4 a.estimator_doc_link.fitted:hover {\n",
              "  /* fitted */\n",
              "  background-color: var(--sklearn-color-fitted-level-3);\n",
              "}\n",
              "</style><div id=\"sk-container-id-4\" class=\"sk-top-container\"><div class=\"sk-text-repr-fallback\"><pre>RandomForestClassifier(class_weight=&#x27;balanced&#x27;, max_depth=12,\n",
              "                       min_samples_leaf=4, min_samples_split=10,\n",
              "                       n_estimators=200, n_jobs=-1, random_state=42)</pre><b>In a Jupyter environment, please rerun this cell to show the HTML representation or trust the notebook. <br />On GitHub, the HTML representation is unable to render, please try loading this page with nbviewer.org.</b></div><div class=\"sk-container\" hidden><div class=\"sk-item\"><div class=\"sk-estimator fitted sk-toggleable\"><input class=\"sk-toggleable__control sk-hidden--visually\" id=\"sk-estimator-id-6\" type=\"checkbox\" checked><label for=\"sk-estimator-id-6\" class=\"sk-toggleable__label fitted sk-toggleable__label-arrow\"><div><div>RandomForestClassifier</div></div><div><a class=\"sk-estimator-doc-link fitted\" rel=\"noreferrer\" target=\"_blank\" href=\"https://scikit-learn.org/1.6/modules/generated/sklearn.ensemble.RandomForestClassifier.html\">?<span>Documentation for RandomForestClassifier</span></a><span class=\"sk-estimator-doc-link fitted\">i<span>Fitted</span></span></div></label><div class=\"sk-toggleable__content fitted\"><pre>RandomForestClassifier(class_weight=&#x27;balanced&#x27;, max_depth=12,\n",
              "                       min_samples_leaf=4, min_samples_split=10,\n",
              "                       n_estimators=200, n_jobs=-1, random_state=42)</pre></div> </div></div></div></div>"
            ]
          },
          "metadata": {},
          "execution_count": 130
        }
      ]
    },
    {
      "cell_type": "code",
      "source": [
        "training_time = time.time() - start_time\n",
        "log_event(\"TIMING\", f\"Model training completed in {training_time:.2f} seconds\")"
      ],
      "metadata": {
        "colab": {
          "base_uri": "https://localhost:8080/"
        },
        "id": "jxofEWiMOQDv",
        "outputId": "1c2c3287-e877-422d-df89-cf8c3f364fbc"
      },
      "execution_count": 131,
      "outputs": [
        {
          "output_type": "stream",
          "name": "stdout",
          "text": [
            "[2025-04-29T19:21:37.547541] TIMING: Model training completed in 0.62 seconds\n"
          ]
        }
      ]
    },
    {
      "cell_type": "markdown",
      "source": [
        "## 6. Model Evaluation"
      ],
      "metadata": {
        "id": "GPJdIHsmOSBp"
      }
    },
    {
      "cell_type": "code",
      "source": [
        "log_event(\"MODEL_EVALUATION\", \"Evaluating Random Forest model\")\n",
        "start_time = time.time()"
      ],
      "metadata": {
        "colab": {
          "base_uri": "https://localhost:8080/"
        },
        "id": "0iCam6B9OVtU",
        "outputId": "07d1fe31-f1af-4105-e70e-997309adc544"
      },
      "execution_count": 132,
      "outputs": [
        {
          "output_type": "stream",
          "name": "stdout",
          "text": [
            "[2025-04-29T19:21:37.555708] MODEL_EVALUATION: Evaluating Random Forest model\n"
          ]
        }
      ]
    },
    {
      "cell_type": "markdown",
      "source": [
        "### Make predictions"
      ],
      "metadata": {
        "id": "szURe4ubOXXL"
      }
    },
    {
      "cell_type": "code",
      "source": [
        "y_pred = rf_model.predict(X_test_scaled)\n",
        "y_pred_proba = rf_model.predict_proba(X_test_scaled)[:, 1]"
      ],
      "metadata": {
        "id": "8TH_1UfzOZAT"
      },
      "execution_count": 133,
      "outputs": []
    },
    {
      "cell_type": "markdown",
      "source": [
        "### Calculate metrics"
      ],
      "metadata": {
        "id": "EW0-yFwyObL8"
      }
    },
    {
      "cell_type": "code",
      "source": [
        "accuracy = accuracy_score(y_test, y_pred)\n",
        "precision = precision_score(y_test, y_pred)\n",
        "recall = recall_score(y_test, y_pred)\n",
        "f1 = f1_score(y_test, y_pred)"
      ],
      "metadata": {
        "id": "7n0TTM7POdBp"
      },
      "execution_count": 134,
      "outputs": []
    },
    {
      "cell_type": "markdown",
      "source": [
        "### ROC curve and AUC"
      ],
      "metadata": {
        "id": "QlXDYKH8Oe5a"
      }
    },
    {
      "cell_type": "code",
      "source": [
        "fpr, tpr, _ = roc_curve(y_test, y_pred_proba)\n",
        "roc_auc = auc(fpr, tpr)"
      ],
      "metadata": {
        "id": "T4fp34vbOglI"
      },
      "execution_count": 135,
      "outputs": []
    },
    {
      "cell_type": "markdown",
      "source": [
        "### Log the evaluation metrics"
      ],
      "metadata": {
        "id": "-ozKeZIwOjmh"
      }
    },
    {
      "cell_type": "code",
      "source": [
        "log_event(\"EVALUATION_METRICS\", \"Model performance metrics\", {\n",
        "    \"accuracy\": float(accuracy),\n",
        "    \"precision\": float(precision),\n",
        "    \"recall\": float(recall),\n",
        "    \"f1_score\": float(f1),\n",
        "    \"auc\": float(roc_auc)\n",
        "})"
      ],
      "metadata": {
        "colab": {
          "base_uri": "https://localhost:8080/"
        },
        "id": "8jwNSl3rOll-",
        "outputId": "e83e8619-3b50-4519-b21f-8c9221a55275"
      },
      "execution_count": 136,
      "outputs": [
        {
          "output_type": "stream",
          "name": "stdout",
          "text": [
            "[2025-04-29T19:21:37.742994] EVALUATION_METRICS: Model performance metrics\n"
          ]
        }
      ]
    },
    {
      "cell_type": "code",
      "source": [
        "print(\"\\nModel Performance:\")\n",
        "print(f\"Accuracy: {accuracy:.4f}\")\n",
        "print(f\"Precision: {precision:.4f}\")\n",
        "print(f\"Recall: {recall:.4f}\")\n",
        "print(f\"F1 Score: {f1:.4f}\")\n",
        "print(f\"AUC: {roc_auc:.4f}\")"
      ],
      "metadata": {
        "colab": {
          "base_uri": "https://localhost:8080/"
        },
        "id": "WssuFWSmOoC2",
        "outputId": "a26e16a5-0334-414f-e571-da7b64a67edb"
      },
      "execution_count": 137,
      "outputs": [
        {
          "output_type": "stream",
          "name": "stdout",
          "text": [
            "\n",
            "Model Performance:\n",
            "Accuracy: 0.9825\n",
            "Precision: 0.9874\n",
            "Recall: 0.9775\n",
            "F1 Score: 0.9824\n",
            "AUC: 0.9990\n"
          ]
        }
      ]
    },
    {
      "cell_type": "markdown",
      "source": [
        "### Plot confusion matrix"
      ],
      "metadata": {
        "id": "vcPGHosEOqYn"
      }
    },
    {
      "cell_type": "code",
      "source": [
        "plt.figure(figsize=(8, 6))\n",
        "cm = confusion_matrix(y_test, y_pred)\n",
        "sns.heatmap(cm, annot=True, fmt='d', cmap='Blues')\n",
        "plt.title('Confusion Matrix')\n",
        "plt.ylabel('True Label')\n",
        "plt.xlabel('Predicted Label')\n",
        "plt.show()"
      ],
      "metadata": {
        "colab": {
          "base_uri": "https://localhost:8080/",
          "height": 564
        },
        "id": "xlbsCgzpOsa5",
        "outputId": "a88e36fd-1e83-4f0b-933d-e83fa51aa27a"
      },
      "execution_count": 138,
      "outputs": [
        {
          "output_type": "display_data",
          "data": {
            "text/plain": [
              "<Figure size 800x600 with 2 Axes>"
            ],
            "image/png": "[encoded data removed]"
          },
          "metadata": {}
        }
      ]
    },
    {
      "cell_type": "markdown",
      "source": [
        "### Plot ROC curve"
      ],
      "metadata": {
        "id": "yVsXIkWSOuRM"
      }
    },
    {
      "cell_type": "code",
      "source": [
        "plt.figure(figsize=(8, 6))\n",
        "plt.plot(fpr, tpr, color='blue', lw=2, label=f'ROC curve (area = {roc_auc:.2f})')\n",
        "plt.plot([0, 1], [0, 1], color='gray', lw=2, linestyle='--')\n",
        "plt.xlim([0.0, 1.0])\n",
        "plt.ylim([0.0, 1.05])\n",
        "plt.xlabel('False Positive Rate')\n",
        "plt.ylabel('True Positive Rate')\n",
        "plt.title('Receiver Operating Characteristic')\n",
        "plt.legend(loc=\"lower right\")\n",
        "plt.show()"
      ],
      "metadata": {
        "colab": {
          "base_uri": "https://localhost:8080/",
          "height": 564
        },
        "id": "HkADQLFFOwL2",
        "outputId": "a925a565-4860-48eb-ef66-f7685b0d69ca"
      },
      "execution_count": 139,
      "outputs": [
        {
          "output_type": "display_data",
          "data": {
            "text/plain": [
              "<Figure size 800x600 with 1 Axes>"
            ],
            "image/png": "[encoded data removed]"
          },
          "metadata": {}
        }
      ]
    },
    {
      "cell_type": "markdown",
      "source": [
        "### Feature importance"
      ],
      "metadata": {
        "id": "RARcaC-8OyVA"
      }
    },
    {
      "cell_type": "code",
      "source": [
        "feature_importances = pd.DataFrame(\n",
        "    rf_model.feature_importances_,\n",
        "    index=X.columns,\n",
        "    columns=['importance']\n",
        ").sort_values('importance', ascending=False)"
      ],
      "metadata": {
        "id": "MkxFZuQVO0qN"
      },
      "execution_count": 140,
      "outputs": []
    },
    {
      "cell_type": "code",
      "source": [
        "print(\"\\nFeature Importance Distribution:\")\n",
        "print(feature_importances)"
      ],
      "metadata": {
        "colab": {
          "base_uri": "https://localhost:8080/"
        },
        "id": "nGCLfVHHLPXJ",
        "outputId": "751bc27a-0e58-4ecc-8c41-17966a81189f"
      },
      "execution_count": 141,
      "outputs": [
        {
          "output_type": "stream",
          "name": "stdout",
          "text": [
            "\n",
            "Feature Importance Distribution:\n",
            "                     importance\n",
            "uses_http              0.223686\n",
            "LegitimacyScore        0.177501\n",
            "PrefixSuffix-          0.159919\n",
            "GoogleIndex            0.123781\n",
            "PageRank               0.092320\n",
            "DNSRecording           0.075597\n",
            "WebsiteTraffic         0.060645\n",
            "DomainLength           0.031624\n",
            "SubDomains             0.031549\n",
            "AbnormalURL            0.006423\n",
            "LinksPointingToPage    0.005394\n",
            "DomainRegLen           0.004300\n",
            "RequestURL             0.003613\n",
            "Symbol@                0.001847\n",
            "StatsReport            0.001034\n",
            "AgeofDomain            0.000578\n",
            "UsingIP                0.000127\n",
            "BrandInSubdomain       0.000061\n",
            "IsTyposquatting        0.000000\n"
          ]
        }
      ]
    },
    {
      "cell_type": "markdown",
      "source": [
        "### Plot feature importance"
      ],
      "metadata": {
        "id": "tPiE97ZqLR6Y"
      }
    },
    {
      "cell_type": "code",
      "source": [
        "plt.figure(figsize=(10, 8))\n",
        "sns.barplot(x=feature_importances['importance'], y=feature_importances.index)\n",
        "plt.title('Feature Importances')\n",
        "plt.tight_layout()\n",
        "plt.show()"
      ],
      "metadata": {
        "colab": {
          "base_uri": "https://localhost:8080/",
          "height": 807
        },
        "id": "iJqP1E9yO2uJ",
        "outputId": "57f70b03-f078-4d4c-b18f-d01360e95a1b"
      },
      "execution_count": 142,
      "outputs": [
        {
          "output_type": "display_data",
          "data": {
            "text/plain": [
              "<Figure size 1000x800 with 1 Axes>"
            ],
            "image/png": "[encoded data removed]"
          },
          "metadata": {}
        }
      ]
    },
    {
      "cell_type": "code",
      "source": [
        "evaluation_time = time.time() - start_time\n",
        "log_event(\"TIMING\", f\"Model evaluation completed in {evaluation_time:.2f} seconds\")"
      ],
      "metadata": {
        "colab": {
          "base_uri": "https://localhost:8080/"
        },
        "id": "XfaviybOO44p",
        "outputId": "713abecc-972a-4a3d-835a-860c86389b3e"
      },
      "execution_count": 143,
      "outputs": [
        {
          "output_type": "stream",
          "name": "stdout",
          "text": [
            "[2025-04-29T19:21:38.514052] TIMING: Model evaluation completed in 0.96 seconds\n"
          ]
        }
      ]
    },
    {
      "cell_type": "markdown",
      "source": [
        "## 7. Hyperparameter Tuning"
      ],
      "metadata": {
        "id": "4SxDZY52QAlX"
      }
    },
    {
      "cell_type": "code",
      "source": [
        "log_event(\"HYPERPARAMETER_TUNING\", \"Starting hyperparameter tuning\")\n",
        "start_time = time.time()"
      ],
      "metadata": {
        "colab": {
          "base_uri": "https://localhost:8080/"
        },
        "id": "YOgbdT5xQD1R",
        "outputId": "616faaa1-f92a-4dae-b162-f369fb679692"
      },
      "execution_count": 144,
      "outputs": [
        {
          "output_type": "stream",
          "name": "stdout",
          "text": [
            "[2025-04-29T19:21:38.524365] HYPERPARAMETER_TUNING: Starting hyperparameter tuning\n"
          ]
        }
      ]
    },
    {
      "cell_type": "markdown",
      "source": [
        "### Focused parameter grid based on initial model performance"
      ],
      "metadata": {
        "id": "8heSw8BwQMIn"
      }
    },
    {
      "cell_type": "code",
      "source": [
        "param_grid = {\n",
        "    'n_estimators': [100, 200, 300],\n",
        "    'max_depth': [8, 10, 12],\n",
        "    'min_samples_split': [10, 15, 20],\n",
        "    'min_samples_leaf': [4, 5, 6]\n",
        "}"
      ],
      "metadata": {
        "id": "lZMNItuJQOHl"
      },
      "execution_count": 145,
      "outputs": []
    },
    {
      "cell_type": "markdown",
      "source": [
        "### Subset of data for faster tuning"
      ],
      "metadata": {
        "id": "XYgmQNbqQQQp"
      }
    },
    {
      "cell_type": "code",
      "source": [
        "X_tune = X_train_scaled[:min(1000, X_train_scaled.shape[0])]\n",
        "y_tune = y_train[:min(1000, y_train.shape[0])]"
      ],
      "metadata": {
        "id": "YlJO1DeNQUAl"
      },
      "execution_count": 146,
      "outputs": []
    },
    {
      "cell_type": "markdown",
      "source": [
        "### Set up cross-validation grid search"
      ],
      "metadata": {
        "id": "FJf16DtWQWfh"
      }
    },
    {
      "cell_type": "code",
      "source": [
        "grid_search = GridSearchCV(\n",
        "    estimator=RandomForestClassifier(\n",
        "        max_features='sqrt',\n",
        "        random_state=42\n",
        "    ),\n",
        "    param_grid=param_grid,\n",
        "    cv=3,\n",
        "    scoring='f1',\n",
        "    n_jobs=-1\n",
        ")"
      ],
      "metadata": {
        "id": "DyI4ZNj4QYUQ"
      },
      "execution_count": 147,
      "outputs": []
    },
    {
      "cell_type": "markdown",
      "source": [
        "### Run grid search"
      ],
      "metadata": {
        "id": "dQKVXGiiQc7u"
      }
    },
    {
      "cell_type": "code",
      "source": [
        "grid_search.fit(X_tune, y_tune)"
      ],
      "metadata": {
        "colab": {
          "base_uri": "https://localhost:8080/",
          "height": 166
        },
        "id": "mCQxelR3QfDr",
        "outputId": "3ff73811-d3d9-41b1-a180-00bb9a10e034"
      },
      "execution_count": 148,
      "outputs": [
        {
          "output_type": "execute_result",
          "data": {
            "text/plain": [
              "GridSearchCV(cv=3, estimator=RandomForestClassifier(random_state=42), n_jobs=-1,\n",
              "             param_grid={'max_depth': [8, 10, 12],\n",
              "                         'min_samples_leaf': [4, 5, 6],\n",
              "                         'min_samples_split': [10, 15, 20],\n",
              "                         'n_estimators': [100, 200, 300]},\n",
              "             scoring='f1')"
            ],
            "text/html": [
              "<style>#sk-container-id-5 {\n",
              "  /* Definition of color scheme common for light and dark mode */\n",
              "  --sklearn-color-text: #000;\n",
              "  --sklearn-color-text-muted: #666;\n",
              "  --sklearn-color-line: gray;\n",
              "  /* Definition of color scheme for unfitted estimators */\n",
              "  --sklearn-color-unfitted-level-0: #fff5e6;\n",
              "  --sklearn-color-unfitted-level-1: #f6e4d2;\n",
              "  --sklearn-color-unfitted-level-2: #ffe0b3;\n",
              "  --sklearn-color-unfitted-level-3: chocolate;\n",
              "  /* Definition of color scheme for fitted estimators */\n",
              "  --sklearn-color-fitted-level-0: #f0f8ff;\n",
              "  --sklearn-color-fitted-level-1: #d4ebff;\n",
              "  --sklearn-color-fitted-level-2: #b3dbfd;\n",
              "  --sklearn-color-fitted-level-3: cornflowerblue;\n",
              "\n",
              "  /* Specific color for light theme */\n",
              "  --sklearn-color-text-on-default-background: var(--sg-text-color, var(--theme-code-foreground, var(--jp-content-font-color1, black)));\n",
              "  --sklearn-color-background: var(--sg-background-color, var(--theme-background, var(--jp-layout-color0, white)));\n",
              "  --sklearn-color-border-box: var(--sg-text-color, var(--theme-code-foreground, var(--jp-content-font-color1, black)));\n",
              "  --sklearn-color-icon: #696969;\n",
              "\n",
              "  @media (prefers-color-scheme: dark) {\n",
              "    /* Redefinition of color scheme for dark theme */\n",
              "    --sklearn-color-text-on-default-background: var(--sg-text-color, var(--theme-code-foreground, var(--jp-content-font-color1, white)));\n",
              "    --sklearn-color-background: var(--sg-background-color, var(--theme-background, var(--jp-layout-color0, #111)));\n",
              "    --sklearn-color-border-box: var(--sg-text-color, var(--theme-code-foreground, var(--jp-content-font-color1, white)));\n",
              "    --sklearn-color-icon: #878787;\n",
              "  }\n",
              "}\n",
              "\n",
              "#sk-container-id-5 {\n",
              "  color: var(--sklearn-color-text);\n",
              "}\n",
              "\n",
              "#sk-container-id-5 pre {\n",
              "  padding: 0;\n",
              "}\n",
              "\n",
              "#sk-container-id-5 input.sk-hidden--visually {\n",
              "  border: 0;\n",
              "  clip: rect(1px 1px 1px 1px);\n",
              "  clip: rect(1px, 1px, 1px, 1px);\n",
              "  height: 1px;\n",
              "  margin: -1px;\n",
              "  overflow: hidden;\n",
              "  padding: 0;\n",
              "  position: absolute;\n",
              "  width: 1px;\n",
              "}\n",
              "\n",
              "#sk-container-id-5 div.sk-dashed-wrapped {\n",
              "  border: 1px dashed var(--sklearn-color-line);\n",
              "  margin: 0 0.4em 0.5em 0.4em;\n",
              "  box-sizing: border-box;\n",
              "  padding-bottom: 0.4em;\n",
              "  background-color: var(--sklearn-color-background);\n",
              "}\n",
              "\n",
              "#sk-container-id-5 div.sk-container {\n",
              "  /* jupyter's `normalize.less` sets `[hidden] { display: none; }`\n",
              "     but bootstrap.min.css set `[hidden] { display: none !important; }`\n",
              "     so we also need the `!important` here to be able to override the\n",
              "     default hidden behavior on the sphinx rendered scikit-learn.org.\n",
              "     See: https://github.com/scikit-learn/scikit-learn/issues/21755 */\n",
              "  display: inline-block !important;\n",
              "  position: relative;\n",
              "}\n",
              "\n",
              "#sk-container-id-5 div.sk-text-repr-fallback {\n",
              "  display: none;\n",
              "}\n",
              "\n",
              "div.sk-parallel-item,\n",
              "div.sk-serial,\n",
              "div.sk-item {\n",
              "  /* draw centered vertical line to link estimators */\n",
              "  background-image: linear-gradient(var(--sklearn-color-text-on-default-background), var(--sklearn-color-text-on-default-background));\n",
              "  background-size: 2px 100%;\n",
              "  background-repeat: no-repeat;\n",
              "  background-position: center center;\n",
              "}\n",
              "\n",
              "/* Parallel-specific style estimator block */\n",
              "\n",
              "#sk-container-id-5 div.sk-parallel-item::after {\n",
              "  content: \"\";\n",
              "  width: 100%;\n",
              "  border-bottom: 2px solid var(--sklearn-color-text-on-default-background);\n",
              "  flex-grow: 1;\n",
              "}\n",
              "\n",
              "#sk-container-id-5 div.sk-parallel {\n",
              "  display: flex;\n",
              "  align-items: stretch;\n",
              "  justify-content: center;\n",
              "  background-color: var(--sklearn-color-background);\n",
              "  position: relative;\n",
              "}\n",
              "\n",
              "#sk-container-id-5 div.sk-parallel-item {\n",
              "  display: flex;\n",
              "  flex-direction: column;\n",
              "}\n",
              "\n",
              "#sk-container-id-5 div.sk-parallel-item:first-child::after {\n",
              "  align-self: flex-end;\n",
              "  width: 50%;\n",
              "}\n",
              "\n",
              "#sk-container-id-5 div.sk-parallel-item:last-child::after {\n",
              "  align-self: flex-start;\n",
              "  width: 50%;\n",
              "}\n",
              "\n",
              "#sk-container-id-5 div.sk-parallel-item:only-child::after {\n",
              "  width: 0;\n",
              "}\n",
              "\n",
              "/* Serial-specific style estimator block */\n",
              "\n",
              "#sk-container-id-5 div.sk-serial {\n",
              "  display: flex;\n",
              "  flex-direction: column;\n",
              "  align-items: center;\n",
              "  background-color: var(--sklearn-color-background);\n",
              "  padding-right: 1em;\n",
              "  padding-left: 1em;\n",
              "}\n",
              "\n",
              "\n",
              "/* Toggleable style: style used for estimator/Pipeline/ColumnTransformer box that is\n",
              "clickable and can be expanded/collapsed.\n",
              "- Pipeline and ColumnTransformer use this feature and define the default style\n",
              "- Estimators will overwrite some part of the style using the `sk-estimator` class\n",
              "*/\n",
              "\n",
              "/* Pipeline and ColumnTransformer style (default) */\n",
              "\n",
              "#sk-container-id-5 div.sk-toggleable {\n",
              "  /* Default theme specific background. It is overwritten whether we have a\n",
              "  specific estimator or a Pipeline/ColumnTransformer */\n",
              "  background-color: var(--sklearn-color-background);\n",
              "}\n",
              "\n",
              "/* Toggleable label */\n",
              "#sk-container-id-5 label.sk-toggleable__label {\n",
              "  cursor: pointer;\n",
              "  display: flex;\n",
              "  width: 100%;\n",
              "  margin-bottom: 0;\n",
              "  padding: 0.5em;\n",
              "  box-sizing: border-box;\n",
              "  text-align: center;\n",
              "  align-items: start;\n",
              "  justify-content: space-between;\n",
              "  gap: 0.5em;\n",
              "}\n",
              "\n",
              "#sk-container-id-5 label.sk-toggleable__label .caption {\n",
              "  font-size: 0.6rem;\n",
              "  font-weight: lighter;\n",
              "  color: var(--sklearn-color-text-muted);\n",
              "}\n",
              "\n",
              "#sk-container-id-5 label.sk-toggleable__label-arrow:before {\n",
              "  /* Arrow on the left of the label */\n",
              "  content: \"▸\";\n",
              "  float: left;\n",
              "  margin-right: 0.25em;\n",
              "  color: var(--sklearn-color-icon);\n",
              "}\n",
              "\n",
              "#sk-container-id-5 label.sk-toggleable__label-arrow:hover:before {\n",
              "  color: var(--sklearn-color-text);\n",
              "}\n",
              "\n",
              "/* Toggleable content - dropdown */\n",
              "\n",
              "#sk-container-id-5 div.sk-toggleable__content {\n",
              "  max-height: 0;\n",
              "  max-width: 0;\n",
              "  overflow: hidden;\n",
              "  text-align: left;\n",
              "  /* unfitted */\n",
              "  background-color: var(--sklearn-color-unfitted-level-0);\n",
              "}\n",
              "\n",
              "#sk-container-id-5 div.sk-toggleable__content.fitted {\n",
              "  /* fitted */\n",
              "  background-color: var(--sklearn-color-fitted-level-0);\n",
              "}\n",
              "\n",
              "#sk-container-id-5 div.sk-toggleable__content pre {\n",
              "  margin: 0.2em;\n",
              "  border-radius: 0.25em;\n",
              "  color: var(--sklearn-color-text);\n",
              "  /* unfitted */\n",
              "  background-color: var(--sklearn-color-unfitted-level-0);\n",
              "}\n",
              "\n",
              "#sk-container-id-5 div.sk-toggleable__content.fitted pre {\n",
              "  /* unfitted */\n",
              "  background-color: var(--sklearn-color-fitted-level-0);\n",
              "}\n",
              "\n",
              "#sk-container-id-5 input.sk-toggleable__control:checked~div.sk-toggleable__content {\n",
              "  /* Expand drop-down */\n",
              "  max-height: 200px;\n",
              "  max-width: 100%;\n",
              "  overflow: auto;\n",
              "}\n",
              "\n",
              "#sk-container-id-5 input.sk-toggleable__control:checked~label.sk-toggleable__label-arrow:before {\n",
              "  content: \"▾\";\n",
              "}\n",
              "\n",
              "/* Pipeline/ColumnTransformer-specific style */\n",
              "\n",
              "#sk-container-id-5 div.sk-label input.sk-toggleable__control:checked~label.sk-toggleable__label {\n",
              "  color: var(--sklearn-color-text);\n",
              "  background-color: var(--sklearn-color-unfitted-level-2);\n",
              "}\n",
              "\n",
              "#sk-container-id-5 div.sk-label.fitted input.sk-toggleable__control:checked~label.sk-toggleable__label {\n",
              "  background-color: var(--sklearn-color-fitted-level-2);\n",
              "}\n",
              "\n",
              "/* Estimator-specific style */\n",
              "\n",
              "/* Colorize estimator box */\n",
              "#sk-container-id-5 div.sk-estimator input.sk-toggleable__control:checked~label.sk-toggleable__label {\n",
              "  /* unfitted */\n",
              "  background-color: var(--sklearn-color-unfitted-level-2);\n",
              "}\n",
              "\n",
              "#sk-container-id-5 div.sk-estimator.fitted input.sk-toggleable__control:checked~label.sk-toggleable__label {\n",
              "  /* fitted */\n",
              "  background-color: var(--sklearn-color-fitted-level-2);\n",
              "}\n",
              "\n",
              "#sk-container-id-5 div.sk-label label.sk-toggleable__label,\n",
              "#sk-container-id-5 div.sk-label label {\n",
              "  /* The background is the default theme color */\n",
              "  color: var(--sklearn-color-text-on-default-background);\n",
              "}\n",
              "\n",
              "/* On hover, darken the color of the background */\n",
              "#sk-container-id-5 div.sk-label:hover label.sk-toggleable__label {\n",
              "  color: var(--sklearn-color-text);\n",
              "  background-color: var(--sklearn-color-unfitted-level-2);\n",
              "}\n",
              "\n",
              "/* Label box, darken color on hover, fitted */\n",
              "#sk-container-id-5 div.sk-label.fitted:hover label.sk-toggleable__label.fitted {\n",
              "  color: var(--sklearn-color-text);\n",
              "  background-color: var(--sklearn-color-fitted-level-2);\n",
              "}\n",
              "\n",
              "/* Estimator label */\n",
              "\n",
              "#sk-container-id-5 div.sk-label label {\n",
              "  font-family: monospace;\n",
              "  font-weight: bold;\n",
              "  display: inline-block;\n",
              "  line-height: 1.2em;\n",
              "}\n",
              "\n",
              "#sk-container-id-5 div.sk-label-container {\n",
              "  text-align: center;\n",
              "}\n",
              "\n",
              "/* Estimator-specific */\n",
              "#sk-container-id-5 div.sk-estimator {\n",
              "  font-family: monospace;\n",
              "  border: 1px dotted var(--sklearn-color-border-box);\n",
              "  border-radius: 0.25em;\n",
              "  box-sizing: border-box;\n",
              "  margin-bottom: 0.5em;\n",
              "  /* unfitted */\n",
              "  background-color: var(--sklearn-color-unfitted-level-0);\n",
              "}\n",
              "\n",
              "#sk-container-id-5 div.sk-estimator.fitted {\n",
              "  /* fitted */\n",
              "  background-color: var(--sklearn-color-fitted-level-0);\n",
              "}\n",
              "\n",
              "/* on hover */\n",
              "#sk-container-id-5 div.sk-estimator:hover {\n",
              "  /* unfitted */\n",
              "  background-color: var(--sklearn-color-unfitted-level-2);\n",
              "}\n",
              "\n",
              "#sk-container-id-5 div.sk-estimator.fitted:hover {\n",
              "  /* fitted */\n",
              "  background-color: var(--sklearn-color-fitted-level-2);\n",
              "}\n",
              "\n",
              "/* Specification for estimator info (e.g. \"i\" and \"?\") */\n",
              "\n",
              "/* Common style for \"i\" and \"?\" */\n",
              "\n",
              ".sk-estimator-doc-link,\n",
              "a:link.sk-estimator-doc-link,\n",
              "a:visited.sk-estimator-doc-link {\n",
              "  float: right;\n",
              "  font-size: smaller;\n",
              "  line-height: 1em;\n",
              "  font-family: monospace;\n",
              "  background-color: var(--sklearn-color-background);\n",
              "  border-radius: 1em;\n",
              "  height: 1em;\n",
              "  width: 1em;\n",
              "  text-decoration: none !important;\n",
              "  margin-left: 0.5em;\n",
              "  text-align: center;\n",
              "  /* unfitted */\n",
              "  border: var(--sklearn-color-unfitted-level-1) 1pt solid;\n",
              "  color: var(--sklearn-color-unfitted-level-1);\n",
              "}\n",
              "\n",
              ".sk-estimator-doc-link.fitted,\n",
              "a:link.sk-estimator-doc-link.fitted,\n",
              "a:visited.sk-estimator-doc-link.fitted {\n",
              "  /* fitted */\n",
              "  border: var(--sklearn-color-fitted-level-1) 1pt solid;\n",
              "  color: var(--sklearn-color-fitted-level-1);\n",
              "}\n",
              "\n",
              "/* On hover */\n",
              "div.sk-estimator:hover .sk-estimator-doc-link:hover,\n",
              ".sk-estimator-doc-link:hover,\n",
              "div.sk-label-container:hover .sk-estimator-doc-link:hover,\n",
              ".sk-estimator-doc-link:hover {\n",
              "  /* unfitted */\n",
              "  background-color: var(--sklearn-color-unfitted-level-3);\n",
              "  color: var(--sklearn-color-background);\n",
              "  text-decoration: none;\n",
              "}\n",
              "\n",
              "div.sk-estimator.fitted:hover .sk-estimator-doc-link.fitted:hover,\n",
              ".sk-estimator-doc-link.fitted:hover,\n",
              "div.sk-label-container:hover .sk-estimator-doc-link.fitted:hover,\n",
              ".sk-estimator-doc-link.fitted:hover {\n",
              "  /* fitted */\n",
              "  background-color: var(--sklearn-color-fitted-level-3);\n",
              "  color: var(--sklearn-color-background);\n",
              "  text-decoration: none;\n",
              "}\n",
              "\n",
              "/* Span, style for the box shown on hovering the info icon */\n",
              ".sk-estimator-doc-link span {\n",
              "  display: none;\n",
              "  z-index: 9999;\n",
              "  position: relative;\n",
              "  font-weight: normal;\n",
              "  right: .2ex;\n",
              "  padding: .5ex;\n",
              "  margin: .5ex;\n",
              "  width: min-content;\n",
              "  min-width: 20ex;\n",
              "  max-width: 50ex;\n",
              "  color: var(--sklearn-color-text);\n",
              "  box-shadow: 2pt 2pt 4pt #999;\n",
              "  /* unfitted */\n",
              "  background: var(--sklearn-color-unfitted-level-0);\n",
              "  border: .5pt solid var(--sklearn-color-unfitted-level-3);\n",
              "}\n",
              "\n",
              ".sk-estimator-doc-link.fitted span {\n",
              "  /* fitted */\n",
              "  background: var(--sklearn-color-fitted-level-0);\n",
              "  border: var(--sklearn-color-fitted-level-3);\n",
              "}\n",
              "\n",
              ".sk-estimator-doc-link:hover span {\n",
              "  display: block;\n",
              "}\n",
              "\n",
              "/* \"?\"-specific style due to the `<a>` HTML tag */\n",
              "\n",
              "#sk-container-id-5 a.estimator_doc_link {\n",
              "  float: right;\n",
              "  font-size: 1rem;\n",
              "  line-height: 1em;\n",
              "  font-family: monospace;\n",
              "  background-color: var(--sklearn-color-background);\n",
              "  border-radius: 1rem;\n",
              "  height: 1rem;\n",
              "  width: 1rem;\n",
              "  text-decoration: none;\n",
              "  /* unfitted */\n",
              "  color: var(--sklearn-color-unfitted-level-1);\n",
              "  border: var(--sklearn-color-unfitted-level-1) 1pt solid;\n",
              "}\n",
              "\n",
              "#sk-container-id-5 a.estimator_doc_link.fitted {\n",
              "  /* fitted */\n",
              "  border: var(--sklearn-color-fitted-level-1) 1pt solid;\n",
              "  color: var(--sklearn-color-fitted-level-1);\n",
              "}\n",
              "\n",
              "/* On hover */\n",
              "#sk-container-id-5 a.estimator_doc_link:hover {\n",
              "  /* unfitted */\n",
              "  background-color: var(--sklearn-color-unfitted-level-3);\n",
              "  color: var(--sklearn-color-background);\n",
              "  text-decoration: none;\n",
              "}\n",
              "\n",
              "#sk-container-id-5 a.estimator_doc_link.fitted:hover {\n",
              "  /* fitted */\n",
              "  background-color: var(--sklearn-color-fitted-level-3);\n",
              "}\n",
              "</style><div id=\"sk-container-id-5\" class=\"sk-top-container\"><div class=\"sk-text-repr-fallback\"><pre>GridSearchCV(cv=3, estimator=RandomForestClassifier(random_state=42), n_jobs=-1,\n",
              "             param_grid={&#x27;max_depth&#x27;: [8, 10, 12],\n",
              "                         &#x27;min_samples_leaf&#x27;: [4, 5, 6],\n",
              "                         &#x27;min_samples_split&#x27;: [10, 15, 20],\n",
              "                         &#x27;n_estimators&#x27;: [100, 200, 300]},\n",
              "             scoring=&#x27;f1&#x27;)</pre><b>In a Jupyter environment, please rerun this cell to show the HTML representation or trust the notebook. <br />On GitHub, the HTML representation is unable to render, please try loading this page with nbviewer.org.</b></div><div class=\"sk-container\" hidden><div class=\"sk-item sk-dashed-wrapped\"><div class=\"sk-label-container\"><div class=\"sk-label fitted sk-toggleable\"><input class=\"sk-toggleable__control sk-hidden--visually\" id=\"sk-estimator-id-7\" type=\"checkbox\" ><label for=\"sk-estimator-id-7\" class=\"sk-toggleable__label fitted sk-toggleable__label-arrow\"><div><div>GridSearchCV</div></div><div><a class=\"sk-estimator-doc-link fitted\" rel=\"noreferrer\" target=\"_blank\" href=\"https://scikit-learn.org/1.6/modules/generated/sklearn.model_selection.GridSearchCV.html\">?<span>Documentation for GridSearchCV</span></a><span class=\"sk-estimator-doc-link fitted\">i<span>Fitted</span></span></div></label><div class=\"sk-toggleable__content fitted\"><pre>GridSearchCV(cv=3, estimator=RandomForestClassifier(random_state=42), n_jobs=-1,\n",
              "             param_grid={&#x27;max_depth&#x27;: [8, 10, 12],\n",
              "                         &#x27;min_samples_leaf&#x27;: [4, 5, 6],\n",
              "                         &#x27;min_samples_split&#x27;: [10, 15, 20],\n",
              "                         &#x27;n_estimators&#x27;: [100, 200, 300]},\n",
              "             scoring=&#x27;f1&#x27;)</pre></div> </div></div><div class=\"sk-parallel\"><div class=\"sk-parallel-item\"><div class=\"sk-item\"><div class=\"sk-label-container\"><div class=\"sk-label fitted sk-toggleable\"><input class=\"sk-toggleable__control sk-hidden--visually\" id=\"sk-estimator-id-8\" type=\"checkbox\" ><label for=\"sk-estimator-id-8\" class=\"sk-toggleable__label fitted sk-toggleable__label-arrow\"><div><div>best_estimator_: RandomForestClassifier</div></div></label><div class=\"sk-toggleable__content fitted\"><pre>RandomForestClassifier(max_depth=8, min_samples_leaf=6, min_samples_split=10,\n",
              "                       random_state=42)</pre></div> </div></div><div class=\"sk-serial\"><div class=\"sk-item\"><div class=\"sk-estimator fitted sk-toggleable\"><input class=\"sk-toggleable__control sk-hidden--visually\" id=\"sk-estimator-id-9\" type=\"checkbox\" ><label for=\"sk-estimator-id-9\" class=\"sk-toggleable__label fitted sk-toggleable__label-arrow\"><div><div>RandomForestClassifier</div></div><div><a class=\"sk-estimator-doc-link fitted\" rel=\"noreferrer\" target=\"_blank\" href=\"https://scikit-learn.org/1.6/modules/generated/sklearn.ensemble.RandomForestClassifier.html\">?<span>Documentation for RandomForestClassifier</span></a></div></label><div class=\"sk-toggleable__content fitted\"><pre>RandomForestClassifier(max_depth=8, min_samples_leaf=6, min_samples_split=10,\n",
              "                       random_state=42)</pre></div> </div></div></div></div></div></div></div></div></div>"
            ]
          },
          "metadata": {},
          "execution_count": 148
        }
      ]
    },
    {
      "cell_type": "code",
      "source": [
        "tuning_time = time.time() - start_time\n",
        "log_event(\"TIMING\", f\"Hyperparameter tuning completed in {tuning_time:.2f} seconds\")"
      ],
      "metadata": {
        "colab": {
          "base_uri": "https://localhost:8080/"
        },
        "id": "uT9kGueTQhBv",
        "outputId": "a495efbe-419e-4c73-e4b7-f028b6eb2c06"
      },
      "execution_count": 149,
      "outputs": [
        {
          "output_type": "stream",
          "name": "stdout",
          "text": [
            "[2025-04-29T19:23:01.127799] TIMING: Hyperparameter tuning completed in 82.60 seconds\n"
          ]
        }
      ]
    },
    {
      "cell_type": "markdown",
      "source": [
        "### Log the best parameters"
      ],
      "metadata": {
        "id": "EXUvngTeQjm4"
      }
    },
    {
      "cell_type": "code",
      "source": [
        "log_event(\"HYPERPARAMETER_TUNING\", \"Best parameters found\", {\n",
        "    \"parameters\": grid_search.best_params_,\n",
        "    \"f1_score\": float(grid_search.best_score_)\n",
        "})"
      ],
      "metadata": {
        "colab": {
          "base_uri": "https://localhost:8080/"
        },
        "id": "stJENVcEQkOY",
        "outputId": "de3c79ce-3fd3-4105-c652-37b2ee90b0e9"
      },
      "execution_count": 150,
      "outputs": [
        {
          "output_type": "stream",
          "name": "stdout",
          "text": [
            "[2025-04-29T19:23:01.134709] HYPERPARAMETER_TUNING: Best parameters found\n"
          ]
        }
      ]
    },
    {
      "cell_type": "code",
      "source": [
        "print(\"\\nBest Parameters:\")\n",
        "for param, value in grid_search.best_params_.items():\n",
        "    print(f\"{param}: {value}\")\n",
        "print(f\"Best F1 Score: {grid_search.best_score_:.4f}\")"
      ],
      "metadata": {
        "colab": {
          "base_uri": "https://localhost:8080/"
        },
        "id": "60WfssqBQoQu",
        "outputId": "8e3a37d1-39da-4488-f82f-0df4a9c32634"
      },
      "execution_count": 151,
      "outputs": [
        {
          "output_type": "stream",
          "name": "stdout",
          "text": [
            "\n",
            "Best Parameters:\n",
            "max_depth: 8\n",
            "min_samples_leaf: 6\n",
            "min_samples_split: 10\n",
            "n_estimators: 100\n",
            "Best F1 Score: 0.9753\n"
          ]
        }
      ]
    },
    {
      "cell_type": "markdown",
      "source": [
        "### Final model with the best parameters (on full training data)"
      ],
      "metadata": {
        "id": "8hjkdzVoQp0f"
      }
    },
    {
      "cell_type": "code",
      "source": [
        "final_model = RandomForestClassifier(\n",
        "    max_features='sqrt',\n",
        "    **grid_search.best_params_,\n",
        "    random_state=42,\n",
        "    n_jobs=-1\n",
        ")"
      ],
      "metadata": {
        "id": "T__vTzr-QuV1"
      },
      "execution_count": 152,
      "outputs": []
    },
    {
      "cell_type": "code",
      "source": [
        "final_model.fit(X_train_scaled, y_train)"
      ],
      "metadata": {
        "colab": {
          "base_uri": "https://localhost:8080/",
          "height": 98
        },
        "id": "0vc7k0ZgQwYd",
        "outputId": "605a212d-f375-406a-e59d-3321e318c522"
      },
      "execution_count": 153,
      "outputs": [
        {
          "output_type": "execute_result",
          "data": {
            "text/plain": [
              "RandomForestClassifier(max_depth=8, min_samples_leaf=6, min_samples_split=10,\n",
              "                       n_jobs=-1, random_state=42)"
            ],
            "text/html": [
              "<style>#sk-container-id-6 {\n",
              "  /* Definition of color scheme common for light and dark mode */\n",
              "  --sklearn-color-text: #000;\n",
              "  --sklearn-color-text-muted: #666;\n",
              "  --sklearn-color-line: gray;\n",
              "  /* Definition of color scheme for unfitted estimators */\n",
              "  --sklearn-color-unfitted-level-0: #fff5e6;\n",
              "  --sklearn-color-unfitted-level-1: #f6e4d2;\n",
              "  --sklearn-color-unfitted-level-2: #ffe0b3;\n",
              "  --sklearn-color-unfitted-level-3: chocolate;\n",
              "  /* Definition of color scheme for fitted estimators */\n",
              "  --sklearn-color-fitted-level-0: #f0f8ff;\n",
              "  --sklearn-color-fitted-level-1: #d4ebff;\n",
              "  --sklearn-color-fitted-level-2: #b3dbfd;\n",
              "  --sklearn-color-fitted-level-3: cornflowerblue;\n",
              "\n",
              "  /* Specific color for light theme */\n",
              "  --sklearn-color-text-on-default-background: var(--sg-text-color, var(--theme-code-foreground, var(--jp-content-font-color1, black)));\n",
              "  --sklearn-color-background: var(--sg-background-color, var(--theme-background, var(--jp-layout-color0, white)));\n",
              "  --sklearn-color-border-box: var(--sg-text-color, var(--theme-code-foreground, var(--jp-content-font-color1, black)));\n",
              "  --sklearn-color-icon: #696969;\n",
              "\n",
              "  @media (prefers-color-scheme: dark) {\n",
              "    /* Redefinition of color scheme for dark theme */\n",
              "    --sklearn-color-text-on-default-background: var(--sg-text-color, var(--theme-code-foreground, var(--jp-content-font-color1, white)));\n",
              "    --sklearn-color-background: var(--sg-background-color, var(--theme-background, var(--jp-layout-color0, #111)));\n",
              "    --sklearn-color-border-box: var(--sg-text-color, var(--theme-code-foreground, var(--jp-content-font-color1, white)));\n",
              "    --sklearn-color-icon: #878787;\n",
              "  }\n",
              "}\n",
              "\n",
              "#sk-container-id-6 {\n",
              "  color: var(--sklearn-color-text);\n",
              "}\n",
              "\n",
              "#sk-container-id-6 pre {\n",
              "  padding: 0;\n",
              "}\n",
              "\n",
              "#sk-container-id-6 input.sk-hidden--visually {\n",
              "  border: 0;\n",
              "  clip: rect(1px 1px 1px 1px);\n",
              "  clip: rect(1px, 1px, 1px, 1px);\n",
              "  height: 1px;\n",
              "  margin: -1px;\n",
              "  overflow: hidden;\n",
              "  padding: 0;\n",
              "  position: absolute;\n",
              "  width: 1px;\n",
              "}\n",
              "\n",
              "#sk-container-id-6 div.sk-dashed-wrapped {\n",
              "  border: 1px dashed var(--sklearn-color-line);\n",
              "  margin: 0 0.4em 0.5em 0.4em;\n",
              "  box-sizing: border-box;\n",
              "  padding-bottom: 0.4em;\n",
              "  background-color: var(--sklearn-color-background);\n",
              "}\n",
              "\n",
              "#sk-container-id-6 div.sk-container {\n",
              "  /* jupyter's `normalize.less` sets `[hidden] { display: none; }`\n",
              "     but bootstrap.min.css set `[hidden] { display: none !important; }`\n",
              "     so we also need the `!important` here to be able to override the\n",
              "     default hidden behavior on the sphinx rendered scikit-learn.org.\n",
              "     See: https://github.com/scikit-learn/scikit-learn/issues/21755 */\n",
              "  display: inline-block !important;\n",
              "  position: relative;\n",
              "}\n",
              "\n",
              "#sk-container-id-6 div.sk-text-repr-fallback {\n",
              "  display: none;\n",
              "}\n",
              "\n",
              "div.sk-parallel-item,\n",
              "div.sk-serial,\n",
              "div.sk-item {\n",
              "  /* draw centered vertical line to link estimators */\n",
              "  background-image: linear-gradient(var(--sklearn-color-text-on-default-background), var(--sklearn-color-text-on-default-background));\n",
              "  background-size: 2px 100%;\n",
              "  background-repeat: no-repeat;\n",
              "  background-position: center center;\n",
              "}\n",
              "\n",
              "/* Parallel-specific style estimator block */\n",
              "\n",
              "#sk-container-id-6 div.sk-parallel-item::after {\n",
              "  content: \"\";\n",
              "  width: 100%;\n",
              "  border-bottom: 2px solid var(--sklearn-color-text-on-default-background);\n",
              "  flex-grow: 1;\n",
              "}\n",
              "\n",
              "#sk-container-id-6 div.sk-parallel {\n",
              "  display: flex;\n",
              "  align-items: stretch;\n",
              "  justify-content: center;\n",
              "  background-color: var(--sklearn-color-background);\n",
              "  position: relative;\n",
              "}\n",
              "\n",
              "#sk-container-id-6 div.sk-parallel-item {\n",
              "  display: flex;\n",
              "  flex-direction: column;\n",
              "}\n",
              "\n",
              "#sk-container-id-6 div.sk-parallel-item:first-child::after {\n",
              "  align-self: flex-end;\n",
              "  width: 50%;\n",
              "}\n",
              "\n",
              "#sk-container-id-6 div.sk-parallel-item:last-child::after {\n",
              "  align-self: flex-start;\n",
              "  width: 50%;\n",
              "}\n",
              "\n",
              "#sk-container-id-6 div.sk-parallel-item:only-child::after {\n",
              "  width: 0;\n",
              "}\n",
              "\n",
              "/* Serial-specific style estimator block */\n",
              "\n",
              "#sk-container-id-6 div.sk-serial {\n",
              "  display: flex;\n",
              "  flex-direction: column;\n",
              "  align-items: center;\n",
              "  background-color: var(--sklearn-color-background);\n",
              "  padding-right: 1em;\n",
              "  padding-left: 1em;\n",
              "}\n",
              "\n",
              "\n",
              "/* Toggleable style: style used for estimator/Pipeline/ColumnTransformer box that is\n",
              "clickable and can be expanded/collapsed.\n",
              "- Pipeline and ColumnTransformer use this feature and define the default style\n",
              "- Estimators will overwrite some part of the style using the `sk-estimator` class\n",
              "*/\n",
              "\n",
              "/* Pipeline and ColumnTransformer style (default) */\n",
              "\n",
              "#sk-container-id-6 div.sk-toggleable {\n",
              "  /* Default theme specific background. It is overwritten whether we have a\n",
              "  specific estimator or a Pipeline/ColumnTransformer */\n",
              "  background-color: var(--sklearn-color-background);\n",
              "}\n",
              "\n",
              "/* Toggleable label */\n",
              "#sk-container-id-6 label.sk-toggleable__label {\n",
              "  cursor: pointer;\n",
              "  display: flex;\n",
              "  width: 100%;\n",
              "  margin-bottom: 0;\n",
              "  padding: 0.5em;\n",
              "  box-sizing: border-box;\n",
              "  text-align: center;\n",
              "  align-items: start;\n",
              "  justify-content: space-between;\n",
              "  gap: 0.5em;\n",
              "}\n",
              "\n",
              "#sk-container-id-6 label.sk-toggleable__label .caption {\n",
              "  font-size: 0.6rem;\n",
              "  font-weight: lighter;\n",
              "  color: var(--sklearn-color-text-muted);\n",
              "}\n",
              "\n",
              "#sk-container-id-6 label.sk-toggleable__label-arrow:before {\n",
              "  /* Arrow on the left of the label */\n",
              "  content: \"▸\";\n",
              "  float: left;\n",
              "  margin-right: 0.25em;\n",
              "  color: var(--sklearn-color-icon);\n",
              "}\n",
              "\n",
              "#sk-container-id-6 label.sk-toggleable__label-arrow:hover:before {\n",
              "  color: var(--sklearn-color-text);\n",
              "}\n",
              "\n",
              "/* Toggleable content - dropdown */\n",
              "\n",
              "#sk-container-id-6 div.sk-toggleable__content {\n",
              "  max-height: 0;\n",
              "  max-width: 0;\n",
              "  overflow: hidden;\n",
              "  text-align: left;\n",
              "  /* unfitted */\n",
              "  background-color: var(--sklearn-color-unfitted-level-0);\n",
              "}\n",
              "\n",
              "#sk-container-id-6 div.sk-toggleable__content.fitted {\n",
              "  /* fitted */\n",
              "  background-color: var(--sklearn-color-fitted-level-0);\n",
              "}\n",
              "\n",
              "#sk-container-id-6 div.sk-toggleable__content pre {\n",
              "  margin: 0.2em;\n",
              "  border-radius: 0.25em;\n",
              "  color: var(--sklearn-color-text);\n",
              "  /* unfitted */\n",
              "  background-color: var(--sklearn-color-unfitted-level-0);\n",
              "}\n",
              "\n",
              "#sk-container-id-6 div.sk-toggleable__content.fitted pre {\n",
              "  /* unfitted */\n",
              "  background-color: var(--sklearn-color-fitted-level-0);\n",
              "}\n",
              "\n",
              "#sk-container-id-6 input.sk-toggleable__control:checked~div.sk-toggleable__content {\n",
              "  /* Expand drop-down */\n",
              "  max-height: 200px;\n",
              "  max-width: 100%;\n",
              "  overflow: auto;\n",
              "}\n",
              "\n",
              "#sk-container-id-6 input.sk-toggleable__control:checked~label.sk-toggleable__label-arrow:before {\n",
              "  content: \"▾\";\n",
              "}\n",
              "\n",
              "/* Pipeline/ColumnTransformer-specific style */\n",
              "\n",
              "#sk-container-id-6 div.sk-label input.sk-toggleable__control:checked~label.sk-toggleable__label {\n",
              "  color: var(--sklearn-color-text);\n",
              "  background-color: var(--sklearn-color-unfitted-level-2);\n",
              "}\n",
              "\n",
              "#sk-container-id-6 div.sk-label.fitted input.sk-toggleable__control:checked~label.sk-toggleable__label {\n",
              "  background-color: var(--sklearn-color-fitted-level-2);\n",
              "}\n",
              "\n",
              "/* Estimator-specific style */\n",
              "\n",
              "/* Colorize estimator box */\n",
              "#sk-container-id-6 div.sk-estimator input.sk-toggleable__control:checked~label.sk-toggleable__label {\n",
              "  /* unfitted */\n",
              "  background-color: var(--sklearn-color-unfitted-level-2);\n",
              "}\n",
              "\n",
              "#sk-container-id-6 div.sk-estimator.fitted input.sk-toggleable__control:checked~label.sk-toggleable__label {\n",
              "  /* fitted */\n",
              "  background-color: var(--sklearn-color-fitted-level-2);\n",
              "}\n",
              "\n",
              "#sk-container-id-6 div.sk-label label.sk-toggleable__label,\n",
              "#sk-container-id-6 div.sk-label label {\n",
              "  /* The background is the default theme color */\n",
              "  color: var(--sklearn-color-text-on-default-background);\n",
              "}\n",
              "\n",
              "/* On hover, darken the color of the background */\n",
              "#sk-container-id-6 div.sk-label:hover label.sk-toggleable__label {\n",
              "  color: var(--sklearn-color-text);\n",
              "  background-color: var(--sklearn-color-unfitted-level-2);\n",
              "}\n",
              "\n",
              "/* Label box, darken color on hover, fitted */\n",
              "#sk-container-id-6 div.sk-label.fitted:hover label.sk-toggleable__label.fitted {\n",
              "  color: var(--sklearn-color-text);\n",
              "  background-color: var(--sklearn-color-fitted-level-2);\n",
              "}\n",
              "\n",
              "/* Estimator label */\n",
              "\n",
              "#sk-container-id-6 div.sk-label label {\n",
              "  font-family: monospace;\n",
              "  font-weight: bold;\n",
              "  display: inline-block;\n",
              "  line-height: 1.2em;\n",
              "}\n",
              "\n",
              "#sk-container-id-6 div.sk-label-container {\n",
              "  text-align: center;\n",
              "}\n",
              "\n",
              "/* Estimator-specific */\n",
              "#sk-container-id-6 div.sk-estimator {\n",
              "  font-family: monospace;\n",
              "  border: 1px dotted var(--sklearn-color-border-box);\n",
              "  border-radius: 0.25em;\n",
              "  box-sizing: border-box;\n",
              "  margin-bottom: 0.5em;\n",
              "  /* unfitted */\n",
              "  background-color: var(--sklearn-color-unfitted-level-0);\n",
              "}\n",
              "\n",
              "#sk-container-id-6 div.sk-estimator.fitted {\n",
              "  /* fitted */\n",
              "  background-color: var(--sklearn-color-fitted-level-0);\n",
              "}\n",
              "\n",
              "/* on hover */\n",
              "#sk-container-id-6 div.sk-estimator:hover {\n",
              "  /* unfitted */\n",
              "  background-color: var(--sklearn-color-unfitted-level-2);\n",
              "}\n",
              "\n",
              "#sk-container-id-6 div.sk-estimator.fitted:hover {\n",
              "  /* fitted */\n",
              "  background-color: var(--sklearn-color-fitted-level-2);\n",
              "}\n",
              "\n",
              "/* Specification for estimator info (e.g. \"i\" and \"?\") */\n",
              "\n",
              "/* Common style for \"i\" and \"?\" */\n",
              "\n",
              ".sk-estimator-doc-link,\n",
              "a:link.sk-estimator-doc-link,\n",
              "a:visited.sk-estimator-doc-link {\n",
              "  float: right;\n",
              "  font-size: smaller;\n",
              "  line-height: 1em;\n",
              "  font-family: monospace;\n",
              "  background-color: var(--sklearn-color-background);\n",
              "  border-radius: 1em;\n",
              "  height: 1em;\n",
              "  width: 1em;\n",
              "  text-decoration: none !important;\n",
              "  margin-left: 0.5em;\n",
              "  text-align: center;\n",
              "  /* unfitted */\n",
              "  border: var(--sklearn-color-unfitted-level-1) 1pt solid;\n",
              "  color: var(--sklearn-color-unfitted-level-1);\n",
              "}\n",
              "\n",
              ".sk-estimator-doc-link.fitted,\n",
              "a:link.sk-estimator-doc-link.fitted,\n",
              "a:visited.sk-estimator-doc-link.fitted {\n",
              "  /* fitted */\n",
              "  border: var(--sklearn-color-fitted-level-1) 1pt solid;\n",
              "  color: var(--sklearn-color-fitted-level-1);\n",
              "}\n",
              "\n",
              "/* On hover */\n",
              "div.sk-estimator:hover .sk-estimator-doc-link:hover,\n",
              ".sk-estimator-doc-link:hover,\n",
              "div.sk-label-container:hover .sk-estimator-doc-link:hover,\n",
              ".sk-estimator-doc-link:hover {\n",
              "  /* unfitted */\n",
              "  background-color: var(--sklearn-color-unfitted-level-3);\n",
              "  color: var(--sklearn-color-background);\n",
              "  text-decoration: none;\n",
              "}\n",
              "\n",
              "div.sk-estimator.fitted:hover .sk-estimator-doc-link.fitted:hover,\n",
              ".sk-estimator-doc-link.fitted:hover,\n",
              "div.sk-label-container:hover .sk-estimator-doc-link.fitted:hover,\n",
              ".sk-estimator-doc-link.fitted:hover {\n",
              "  /* fitted */\n",
              "  background-color: var(--sklearn-color-fitted-level-3);\n",
              "  color: var(--sklearn-color-background);\n",
              "  text-decoration: none;\n",
              "}\n",
              "\n",
              "/* Span, style for the box shown on hovering the info icon */\n",
              ".sk-estimator-doc-link span {\n",
              "  display: none;\n",
              "  z-index: 9999;\n",
              "  position: relative;\n",
              "  font-weight: normal;\n",
              "  right: .2ex;\n",
              "  padding: .5ex;\n",
              "  margin: .5ex;\n",
              "  width: min-content;\n",
              "  min-width: 20ex;\n",
              "  max-width: 50ex;\n",
              "  color: var(--sklearn-color-text);\n",
              "  box-shadow: 2pt 2pt 4pt #999;\n",
              "  /* unfitted */\n",
              "  background: var(--sklearn-color-unfitted-level-0);\n",
              "  border: .5pt solid var(--sklearn-color-unfitted-level-3);\n",
              "}\n",
              "\n",
              ".sk-estimator-doc-link.fitted span {\n",
              "  /* fitted */\n",
              "  background: var(--sklearn-color-fitted-level-0);\n",
              "  border: var(--sklearn-color-fitted-level-3);\n",
              "}\n",
              "\n",
              ".sk-estimator-doc-link:hover span {\n",
              "  display: block;\n",
              "}\n",
              "\n",
              "/* \"?\"-specific style due to the `<a>` HTML tag */\n",
              "\n",
              "#sk-container-id-6 a.estimator_doc_link {\n",
              "  float: right;\n",
              "  font-size: 1rem;\n",
              "  line-height: 1em;\n",
              "  font-family: monospace;\n",
              "  background-color: var(--sklearn-color-background);\n",
              "  border-radius: 1rem;\n",
              "  height: 1rem;\n",
              "  width: 1rem;\n",
              "  text-decoration: none;\n",
              "  /* unfitted */\n",
              "  color: var(--sklearn-color-unfitted-level-1);\n",
              "  border: var(--sklearn-color-unfitted-level-1) 1pt solid;\n",
              "}\n",
              "\n",
              "#sk-container-id-6 a.estimator_doc_link.fitted {\n",
              "  /* fitted */\n",
              "  border: var(--sklearn-color-fitted-level-1) 1pt solid;\n",
              "  color: var(--sklearn-color-fitted-level-1);\n",
              "}\n",
              "\n",
              "/* On hover */\n",
              "#sk-container-id-6 a.estimator_doc_link:hover {\n",
              "  /* unfitted */\n",
              "  background-color: var(--sklearn-color-unfitted-level-3);\n",
              "  color: var(--sklearn-color-background);\n",
              "  text-decoration: none;\n",
              "}\n",
              "\n",
              "#sk-container-id-6 a.estimator_doc_link.fitted:hover {\n",
              "  /* fitted */\n",
              "  background-color: var(--sklearn-color-fitted-level-3);\n",
              "}\n",
              "</style><div id=\"sk-container-id-6\" class=\"sk-top-container\"><div class=\"sk-text-repr-fallback\"><pre>RandomForestClassifier(max_depth=8, min_samples_leaf=6, min_samples_split=10,\n",
              "                       n_jobs=-1, random_state=42)</pre><b>In a Jupyter environment, please rerun this cell to show the HTML representation or trust the notebook. <br />On GitHub, the HTML representation is unable to render, please try loading this page with nbviewer.org.</b></div><div class=\"sk-container\" hidden><div class=\"sk-item\"><div class=\"sk-estimator fitted sk-toggleable\"><input class=\"sk-toggleable__control sk-hidden--visually\" id=\"sk-estimator-id-10\" type=\"checkbox\" checked><label for=\"sk-estimator-id-10\" class=\"sk-toggleable__label fitted sk-toggleable__label-arrow\"><div><div>RandomForestClassifier</div></div><div><a class=\"sk-estimator-doc-link fitted\" rel=\"noreferrer\" target=\"_blank\" href=\"https://scikit-learn.org/1.6/modules/generated/sklearn.ensemble.RandomForestClassifier.html\">?<span>Documentation for RandomForestClassifier</span></a><span class=\"sk-estimator-doc-link fitted\">i<span>Fitted</span></span></div></label><div class=\"sk-toggleable__content fitted\"><pre>RandomForestClassifier(max_depth=8, min_samples_leaf=6, min_samples_split=10,\n",
              "                       n_jobs=-1, random_state=42)</pre></div> </div></div></div></div>"
            ]
          },
          "metadata": {},
          "execution_count": 153
        }
      ]
    },
    {
      "cell_type": "markdown",
      "source": [
        "### Evaluate final model"
      ],
      "metadata": {
        "id": "X5Ag7ZiFQyGj"
      }
    },
    {
      "cell_type": "code",
      "source": [
        "final_pred = final_model.predict(X_test_scaled)\n",
        "final_pred_proba = final_model.predict_proba(X_test_scaled)[:, 1]\n",
        "final_accuracy = accuracy_score(y_test, final_pred)\n",
        "final_precision = precision_score(y_test, final_pred)\n",
        "final_recall = recall_score(y_test, final_pred)\n",
        "final_f1 = f1_score(y_test, final_pred)\n",
        "final_fpr, final_tpr, _ = roc_curve(y_test, final_pred_proba)\n",
        "final_auc = auc(final_fpr, final_tpr)"
      ],
      "metadata": {
        "id": "fmRY2P-JQz95"
      },
      "execution_count": 154,
      "outputs": []
    },
    {
      "cell_type": "code",
      "source": [
        "log_event(\"FINAL_MODEL_EVALUATION\", \"Final model performance after tuning\", {\n",
        "    \"accuracy\": float(final_accuracy),\n",
        "    \"precision\": float(final_precision),\n",
        "    \"recall\": float(final_recall),\n",
        "    \"f1_score\": float(final_f1),\n",
        "    \"auc\": float(final_auc)\n",
        "})"
      ],
      "metadata": {
        "colab": {
          "base_uri": "https://localhost:8080/"
        },
        "id": "cnKtBJHHQ3HH",
        "outputId": "bcb98d0d-0622-4551-803a-ad447643d177"
      },
      "execution_count": 155,
      "outputs": [
        {
          "output_type": "stream",
          "name": "stdout",
          "text": [
            "[2025-04-29T19:23:01.569171] FINAL_MODEL_EVALUATION: Final model performance after tuning\n"
          ]
        }
      ]
    },
    {
      "cell_type": "code",
      "source": [
        "print(\"\\nFinal Model Performance After Tuning:\")\n",
        "print(f\"Accuracy: {final_accuracy:.4f}\")\n",
        "print(f\"Precision: {final_precision:.4f}\")\n",
        "print(f\"Recall: {final_recall:.4f}\")\n",
        "print(f\"F1 Score: {final_f1:.4f}\")\n",
        "print(f\"AUC: {final_auc:.4f}\")"
      ],
      "metadata": {
        "colab": {
          "base_uri": "https://localhost:8080/"
        },
        "id": "8sB-MyVZQ427",
        "outputId": "15ab43ae-12c9-46e9-99af-e2a962fff2a5"
      },
      "execution_count": 156,
      "outputs": [
        {
          "output_type": "stream",
          "name": "stdout",
          "text": [
            "\n",
            "Final Model Performance After Tuning:\n",
            "Accuracy: 0.9825\n",
            "Precision: 0.9874\n",
            "Recall: 0.9775\n",
            "F1 Score: 0.9824\n",
            "AUC: 0.9990\n"
          ]
        }
      ]
    },
    {
      "cell_type": "markdown",
      "source": [
        "### Confusion matrix for final model"
      ],
      "metadata": {
        "id": "I0o-f5WQaakr"
      }
    },
    {
      "cell_type": "code",
      "source": [
        "plt.figure(figsize=(8, 6))\n",
        "final_cm = confusion_matrix(y_test, final_pred)\n",
        "sns.heatmap(final_cm, annot=True, fmt='d', cmap='Blues')\n",
        "plt.title('Confusion Matrix - Final Tuned Model')\n",
        "plt.ylabel('True Label')\n",
        "plt.xlabel('Predicted Label')\n",
        "plt.show()"
      ],
      "metadata": {
        "colab": {
          "base_uri": "https://localhost:8080/",
          "height": 564
        },
        "id": "FN_JhqGGaeeW",
        "outputId": "23f7b58c-ed7f-469f-de60-e9df23a464be"
      },
      "execution_count": 157,
      "outputs": [
        {
          "output_type": "display_data",
          "data": {
            "text/plain": [
              "<Figure size 800x600 with 2 Axes>"
            ],
            "image/png": "[encoded data removed]"
          },
          "metadata": {}
        }
      ]
    },
    {
      "cell_type": "markdown",
      "source": [
        "### ROC curve for final model"
      ],
      "metadata": {
        "id": "guLdSM5dagaF"
      }
    },
    {
      "cell_type": "code",
      "source": [
        "plt.figure(figsize=(8, 6))\n",
        "plt.plot(final_fpr, final_tpr, color='blue', lw=2, label=f'ROC curve (area = {final_auc:.2f})')\n",
        "plt.plot([0, 1], [0, 1], color='gray', lw=2, linestyle='--')\n",
        "plt.xlim([0.0, 1.0])\n",
        "plt.ylim([0.0, 1.05])\n",
        "plt.xlabel('False Positive Rate')\n",
        "plt.ylabel('True Positive Rate')\n",
        "plt.title('Receiver Operating Characteristic - Final Model')\n",
        "plt.legend(loc=\"lower right\")\n",
        "plt.show()"
      ],
      "metadata": {
        "colab": {
          "base_uri": "https://localhost:8080/",
          "height": 564
        },
        "id": "5uZkt16Iai6C",
        "outputId": "760812d9-4733-47ca-bef7-5c0c71286b78"
      },
      "execution_count": 158,
      "outputs": [
        {
          "output_type": "display_data",
          "data": {
            "text/plain": [
              "<Figure size 800x600 with 1 Axes>"
            ],
            "image/png": "[encoded data removed]"
          },
          "metadata": {}
        }
      ]
    },
    {
      "cell_type": "markdown",
      "source": [
        "### Feature importance for final model"
      ],
      "metadata": {
        "id": "TlNg0ZTRamM_"
      }
    },
    {
      "cell_type": "code",
      "source": [
        "final_feature_importances = pd.DataFrame(\n",
        "    final_model.feature_importances_,\n",
        "    index=X.columns,\n",
        "    columns=['importance']\n",
        ").sort_values('importance', ascending=False)"
      ],
      "metadata": {
        "id": "1CSuhQ4ZaoBj"
      },
      "execution_count": 159,
      "outputs": []
    },
    {
      "cell_type": "code",
      "source": [
        "plt.figure(figsize=(12, 10))\n",
        "sns.barplot(x=final_feature_importances['importance'], y=final_feature_importances.index)\n",
        "plt.title('Feature Importances - Final Tuned Model')\n",
        "plt.tight_layout()\n",
        "plt.show()"
      ],
      "metadata": {
        "colab": {
          "base_uri": "https://localhost:8080/",
          "height": 1000
        },
        "id": "eVLJH0twatMK",
        "outputId": "97755f35-f2ee-4571-b84c-a5685fc09455"
      },
      "execution_count": 160,
      "outputs": [
        {
          "output_type": "display_data",
          "data": {
            "text/plain": [
              "<Figure size 1200x1000 with 1 Axes>"
            ],
            "image/png": "[encoded data removed]"
          },
          "metadata": {}
        }
      ]
    },
    {
      "cell_type": "markdown",
      "source": [
        "## 8. Testing with Real-World URLs"
      ],
      "metadata": {
        "id": "xHOwb_Bn9hIa"
      }
    },
    {
      "cell_type": "code",
      "source": [
        "log_event(\"MODEL_TESTING\", \"Testing final model with comprehensive URL test cases\")"
      ],
      "metadata": {
        "colab": {
          "base_uri": "https://localhost:8080/"
        },
        "id": "hmNfn3Re9k_v",
        "outputId": "77017ccf-6397-4200-d092-5106094d9a8e"
      },
      "execution_count": 161,
      "outputs": [
        {
          "output_type": "stream",
          "name": "stdout",
          "text": [
            "[2025-04-29T19:23:02.517503] MODEL_TESTING: Testing final model with comprehensive URL test cases\n"
          ]
        }
      ]
    },
    {
      "cell_type": "code",
      "source": [
        "def test_url(url, model, scaler):\n",
        "    try:\n",
        "        # Extract features\n",
        "        features = extract_url_features(url)\n",
        "        features_df = pd.DataFrame([features])\n",
        "\n",
        "        # Strong phishing signals to track\n",
        "        is_typosquatting = features['IsTyposquatting'] == 1\n",
        "        brand_in_subdomain = features['BrandInSubdomain'] == 1\n",
        "        legitimacy_score = features['LegitimacyScore']\n",
        "        uses_http = features['uses_http'] == 1\n",
        "\n",
        "        # Set phishing threshold\n",
        "        PHISHING_THRESHOLD = 0.65\n",
        "\n",
        "        # Scale features\n",
        "        features_scaled = scaler.transform(features_df)\n",
        "\n",
        "        # Get model prediction\n",
        "        prediction = model.predict(features_scaled)[0]\n",
        "        probability = model.predict_proba(features_scaled)[0, 1]\n",
        "\n",
        "        # Rule-based overrides\n",
        "        domain, _ = get_domain(url)\n",
        "\n",
        "        # 1. Whitelist handling\n",
        "        if uses_http and domain and any(domain.endswith(white) for white in HTTP_WHITELIST):\n",
        "            prediction = 0\n",
        "            probability = 0.2\n",
        "\n",
        "        # 2. Strong phishing signals\n",
        "        elif is_typosquatting or brand_in_subdomain:\n",
        "            prediction = 1\n",
        "            probability = max(0.9, probability)\n",
        "\n",
        "        # Get typosquatting explanation if relevant\n",
        "        typosquatting_domain = None\n",
        "        if is_typosquatting:\n",
        "            try:\n",
        "                domain = tldextract.extract(url).domain + '.' + tldextract.extract(url).suffix\n",
        "                typo_result = detect_typosquatting(domain)\n",
        "                typosquatting_domain = typo_result.get('impersonated_domain')\n",
        "            except:\n",
        "                pass\n",
        "\n",
        "        return prediction, probability, features, is_typosquatting, typosquatting_domain, brand_in_subdomain, legitimacy_score\n",
        "    except Exception as e:\n",
        "        print(f\"Error testing URL {url}: {str(e)}\")\n",
        "        return 0, 0.5, get_default_features(), False, None, False, 0.5"
      ],
      "metadata": {
        "id": "q7ju-tQW9z3s"
      },
      "execution_count": 162,
      "outputs": []
    },
    {
      "cell_type": "markdown",
      "source": [
        "### Test legitimate sites"
      ],
      "metadata": {
        "id": "RIavIvFB95jm"
      }
    },
    {
      "cell_type": "code",
      "source": [
        "print(\"\\n==== Testing Known Legitimate URLs ====\")\n",
        "legitimate_urls = [\n",
        "    # Major tech companies\n",
        "    \"https://www.google.com\",\n",
        "    \"https://www.microsoft.com\",\n",
        "    \"https://www.apple.com\",\n",
        "    # Non-HTTPS but legitimate - critical test cases\n",
        "    \"http://example.com\",\n",
        "    \"http://info.cern.ch\"  # First ever website\n",
        "]\n",
        "\n",
        "legitimate_results = []\n",
        "for url in legitimate_urls:\n",
        "    try:\n",
        "        prediction, probability, features, is_typo, typo_domain, brand_impersonation, legitimacy = test_url(url, rf_model, scaler)\n",
        "        status = \"❌ MISCLASSIFIED\" if prediction == 1 else \"✅ CORRECT\"\n",
        "\n",
        "        print(f\"\\nURL: {url}\")\n",
        "        print(f\"Prediction: {'Phishing' if prediction == 1 else 'Legitimate'}\")\n",
        "        print(f\"Phishing Probability: {probability:.4f}\")\n",
        "        print(f\"Status: {status}\")\n",
        "        print(f\"Key Features: uses_http={features['uses_http']}, LegitimacyScore={legitimacy:.2f}, SubDomains={features['SubDomains']}\")\n",
        "\n",
        "        legitimate_results.append({\n",
        "            \"url\": url,\n",
        "            \"prediction\": prediction,\n",
        "            \"probability\": probability,\n",
        "            \"status\": status\n",
        "        })\n",
        "    except Exception as e:\n",
        "        print(f\"Error analyzing {url}: {str(e)}\")"
      ],
      "metadata": {
        "colab": {
          "base_uri": "https://localhost:8080/"
        },
        "id": "N9qiwTEp9-eN",
        "outputId": "8ff7724e-fb52-472c-9294-8defccb92e9f"
      },
      "execution_count": 163,
      "outputs": [
        {
          "output_type": "stream",
          "name": "stdout",
          "text": [
            "\n",
            "==== Testing Known Legitimate URLs ====\n",
            "\n",
            "URL: https://www.google.com\n",
            "Prediction: Legitimate\n",
            "Phishing Probability: 0.0100\n",
            "Status: ✅ CORRECT\n",
            "Key Features: uses_http=0, LegitimacyScore=0.80, SubDomains=1\n",
            "\n",
            "URL: https://www.microsoft.com\n",
            "Prediction: Legitimate\n",
            "Phishing Probability: 0.0038\n",
            "Status: ✅ CORRECT\n",
            "Key Features: uses_http=0, LegitimacyScore=0.80, SubDomains=1\n",
            "\n",
            "URL: https://www.apple.com\n",
            "Prediction: Legitimate\n",
            "Phishing Probability: 0.0100\n",
            "Status: ✅ CORRECT\n",
            "Key Features: uses_http=0, LegitimacyScore=0.80, SubDomains=1\n",
            "\n",
            "URL: http://example.com\n",
            "Prediction: Legitimate\n",
            "Phishing Probability: 0.2000\n",
            "Status: ✅ CORRECT\n",
            "Key Features: uses_http=1, LegitimacyScore=0.80, SubDomains=0\n"
          ]
        },
        {
          "output_type": "stream",
          "name": "stderr",
          "text": [
            "2025-04-29 19:23:05,582 - whois.whois - ERROR - Error trying to connect to socket: closing socket - [Errno 111] Connection refused\n",
            "ERROR:whois.whois:Error trying to connect to socket: closing socket - [Errno 111] Connection refused\n"
          ]
        },
        {
          "output_type": "stream",
          "name": "stdout",
          "text": [
            "\n",
            "URL: http://info.cern.ch\n",
            "Prediction: Phishing\n",
            "Phishing Probability: 0.6633\n",
            "Status: ❌ MISCLASSIFIED\n",
            "Key Features: uses_http=1, LegitimacyScore=0.40, SubDomains=1\n"
          ]
        }
      ]
    },
    {
      "cell_type": "markdown",
      "source": [
        "### Test known phishing patterns"
      ],
      "metadata": {
        "id": "XGNGIsue-BOq"
      }
    },
    {
      "cell_type": "code",
      "source": [
        "print(\"\\n==== Testing Phishing URL Patterns ====\")\n",
        "phishing_patterns = [\n",
        "    # Brand impersonation with subdomains\n",
        "    \"https://paypal.secure.phishing-site.com/login\",\n",
        "    # Typosquatting\n",
        "    \"https://www.arnazon.com/signin\",\n",
        "    # Suspicious parameters and paths\n",
        "    \"https://legitimate-looking.com/login.php?target=paypal&session=expired\",\n",
        "    # IP addresses in URL\n",
        "    \"http://192.168.1.1/banking/login\"\n",
        "]\n",
        "\n",
        "phishing_results = []\n",
        "for url in phishing_patterns:\n",
        "    try:\n",
        "        prediction, probability, features, is_typo, typo_domain, brand_impersonation, legitimacy = test_url(url, rf_model, scaler)\n",
        "        status = \"❌ MISCLASSIFIED\" if prediction == 0 else \"✅ CORRECT\"\n",
        "\n",
        "        typo_msg = f\" (Typosquatting: similar to {typo_domain})\" if is_typo and typo_domain else \"\"\n",
        "        brand_msg = \" (Brand impersonation in subdomain)\" if brand_impersonation else \"\"\n",
        "\n",
        "        print(f\"\\nURL: {url}\")\n",
        "        print(f\"Prediction: {'Phishing' if prediction == 1 else 'Legitimate'}{typo_msg}{brand_msg}\")\n",
        "        print(f\"Phishing Probability: {probability:.4f}\")\n",
        "        print(f\"Status: {status}\")\n",
        "        print(f\"Key Features: IsTyposquatting={features['IsTyposquatting']}, BrandInSubdomain={features['BrandInSubdomain']}, LegitimacyScore={legitimacy:.2f}\")\n",
        "\n",
        "        phishing_results.append({\n",
        "            \"url\": url,\n",
        "            \"prediction\": prediction,\n",
        "            \"probability\": probability,\n",
        "            \"status\": status\n",
        "        })\n",
        "    except Exception as e:\n",
        "        print(f\"Error analyzing {url}: {str(e)}\")"
      ],
      "metadata": {
        "colab": {
          "base_uri": "https://localhost:8080/"
        },
        "id": "kZ43c5NR-GQq",
        "outputId": "6dc2f256-6e91-41e3-dd9f-6c97c5830b3c"
      },
      "execution_count": 164,
      "outputs": [
        {
          "output_type": "stream",
          "name": "stdout",
          "text": [
            "\n",
            "==== Testing Phishing URL Patterns ====\n",
            "\n",
            "URL: https://paypal.secure.phishing-site.com/login\n",
            "Prediction: Phishing (Brand impersonation in subdomain)\n",
            "Phishing Probability: 0.9000\n",
            "Status: ✅ CORRECT\n",
            "Key Features: IsTyposquatting=0, BrandInSubdomain=1, LegitimacyScore=0.40\n",
            "\n",
            "URL: https://www.arnazon.com/signin\n",
            "Prediction: Legitimate\n",
            "Phishing Probability: 0.2028\n",
            "Status: ❌ MISCLASSIFIED\n",
            "Key Features: IsTyposquatting=0, BrandInSubdomain=0, LegitimacyScore=0.70\n",
            "\n",
            "URL: https://legitimate-looking.com/login.php?target=paypal&session=expired\n",
            "Prediction: Phishing\n",
            "Phishing Probability: 0.9052\n",
            "Status: ✅ CORRECT\n",
            "Key Features: IsTyposquatting=0, BrandInSubdomain=0, LegitimacyScore=0.50\n",
            "\n",
            "URL: http://192.168.1.1/banking/login\n",
            "Prediction: Phishing\n",
            "Phishing Probability: 0.9901\n",
            "Status: ✅ CORRECT\n",
            "Key Features: IsTyposquatting=0, BrandInSubdomain=0, LegitimacyScore=0.30\n"
          ]
        }
      ]
    },
    {
      "cell_type": "markdown",
      "source": [
        "### Overall testing statistics"
      ],
      "metadata": {
        "id": "HdgUg0uSdOuE"
      }
    },
    {
      "cell_type": "code",
      "source": [
        "print(\"\\n==== Overall Testing Results ====\")\n",
        "legitimate_accuracy = sum(1 for r in legitimate_results if r[\"status\"] == \"✅ CORRECT\") / len(legitimate_results)\n",
        "print(f\"Accuracy on legitimate URLs: {legitimate_accuracy:.2%}\")\n",
        "\n",
        "phishing_accuracy = sum(1 for r in phishing_results if r[\"status\"] == \"✅ CORRECT\") / len(phishing_results)\n",
        "print(f\"Accuracy on phishing URLs: {phishing_accuracy:.2%}\")\n",
        "\n",
        "all_results = legitimate_results + phishing_results\n",
        "overall_accuracy = sum(1 for r in all_results if r[\"status\"] == \"✅ CORRECT\") / len(all_results)\n",
        "print(f\"Overall accuracy: {overall_accuracy:.2%}\")"
      ],
      "metadata": {
        "colab": {
          "base_uri": "https://localhost:8080/"
        },
        "id": "PkKB2obidQ9T",
        "outputId": "a37f3aeb-6a59-489c-ed36-02b59246b561"
      },
      "execution_count": 165,
      "outputs": [
        {
          "output_type": "stream",
          "name": "stdout",
          "text": [
            "\n",
            "==== Overall Testing Results ====\n",
            "Accuracy on legitimate URLs: 80.00%\n",
            "Accuracy on phishing URLs: 75.00%\n",
            "Overall accuracy: 77.78%\n"
          ]
        }
      ]
    },
    {
      "cell_type": "markdown",
      "source": [
        "### Log test results"
      ],
      "metadata": {
        "id": "ll1lojObdRa_"
      }
    },
    {
      "cell_type": "code",
      "source": [
        "log_event(\"MODEL_TESTING_RESULTS\", \"Results of comprehensive URL testing\", {\n",
        "    \"legitimate_url_accuracy\": float(legitimate_accuracy),\n",
        "    \"phishing_url_accuracy\": float(phishing_accuracy),\n",
        "    \"overall_accuracy\": float(overall_accuracy),\n",
        "    \"legitimate_urls_tested\": len(legitimate_results),\n",
        "    \"phishing_urls_tested\": len(phishing_results)\n",
        "})"
      ],
      "metadata": {
        "colab": {
          "base_uri": "https://localhost:8080/"
        },
        "id": "P-Ro2sfQdUAa",
        "outputId": "9a3bc1fc-9821-44a4-a69d-1075af116730"
      },
      "execution_count": 166,
      "outputs": [
        {
          "output_type": "stream",
          "name": "stdout",
          "text": [
            "[2025-04-29T19:23:15.139602] MODEL_TESTING_RESULTS: Results of comprehensive URL testing\n"
          ]
        }
      ]
    },
    {
      "cell_type": "markdown",
      "source": [
        "## 9. Save Model and Artifacts"
      ],
      "metadata": {
        "id": "nKXvjp457x_G"
      }
    },
    {
      "cell_type": "code",
      "source": [
        "log_event(\"MODEL_SAVING\", \"Saving final model and artifacts\")\n",
        "start_time = time.time()"
      ],
      "metadata": {
        "colab": {
          "base_uri": "https://localhost:8080/"
        },
        "id": "ESj4OJI672Ue",
        "outputId": "ddf119ce-69c2-4342-dfd1-7b0dd72787a0"
      },
      "execution_count": 167,
      "outputs": [
        {
          "output_type": "stream",
          "name": "stdout",
          "text": [
            "[2025-04-29T19:23:15.145916] MODEL_SAVING: Saving final model and artifacts\n"
          ]
        }
      ]
    },
    {
      "cell_type": "markdown",
      "source": [
        "### Save the models"
      ],
      "metadata": {
        "id": "3aJ-TqIf8Cvq"
      }
    },
    {
      "cell_type": "code",
      "source": [
        "joblib.dump(final_model, MODEL_OUTPUT_PATH)\n",
        "joblib.dump(scaler, SCALER_OUTPUT_PATH)"
      ],
      "metadata": {
        "colab": {
          "base_uri": "https://localhost:8080/"
        },
        "id": "xKfcvOQR8EgC",
        "outputId": "49d6e596-82eb-46da-93ef-749fddbff780"
      },
      "execution_count": 168,
      "outputs": [
        {
          "output_type": "execute_result",
          "data": {
            "text/plain": [
              "['/content/drive/MyDrive/PUSL3190/models/chatbot/chatbot_scaler.pkl']"
            ]
          },
          "metadata": {},
          "execution_count": 168
        }
      ]
    },
    {
      "cell_type": "markdown",
      "source": [
        "### Save feature names for inference"
      ],
      "metadata": {
        "id": "BYSJioqy8Y5j"
      }
    },
    {
      "cell_type": "code",
      "source": [
        "with open(FEATURES_OUTPUT_PATH, 'w') as f:\n",
        "    json.dump(list(X.columns), f)"
      ],
      "metadata": {
        "id": "JtefTdGd8Z9n"
      },
      "execution_count": 169,
      "outputs": []
    },
    {
      "cell_type": "markdown",
      "source": [
        "### Save model parameters and metadata"
      ],
      "metadata": {
        "id": "v7DbJNdX834x"
      }
    },
    {
      "cell_type": "code",
      "source": [
        "model_info = {\n",
        "    \"name\": \"chatbot_random_forest_model\",\n",
        "    \"type\": \"random_forest\",\n",
        "    \"version\": \"2.0\",\n",
        "    \"trained_at\": datetime.now().isoformat(),\n",
        "    \"accuracy\": float(accuracy),\n",
        "    \"precision\": float(precision),\n",
        "    \"recall\": float(recall),\n",
        "    \"f1_score\": float(f1),\n",
        "    \"auc\": float(roc_auc),\n",
        "    \"parameters\": {\n",
        "        \"n_estimators\": rf_model.n_estimators,\n",
        "        \"max_depth\": rf_model.max_depth,\n",
        "        \"min_samples_split\": rf_model.min_samples_split,\n",
        "        \"min_samples_leaf\": rf_model.min_samples_leaf,\n",
        "        \"max_features\": str(rf_model.max_features)\n",
        "    },\n",
        "    \"feature_importances\": {\n",
        "        name: float(importance) for name, importance in zip(feature_importances.index, feature_importances['importance'])\n",
        "    },\n",
        "    \"dataset_size\": df.shape[0],\n",
        "    \"training_samples\": X_train.shape[0],\n",
        "    \"test_samples\": X_test.shape[0],\n",
        "    \"features_implemented\": list(X.columns)\n",
        "}"
      ],
      "metadata": {
        "id": "MwYuwCjV87yL"
      },
      "execution_count": 170,
      "outputs": []
    },
    {
      "cell_type": "code",
      "source": [
        "with open(METADATA_OUTPUT_PATH, 'w') as f:\n",
        "    json.dump(model_info, f, indent=2)"
      ],
      "metadata": {
        "id": "bP-vluhK8_Al"
      },
      "execution_count": 171,
      "outputs": []
    },
    {
      "cell_type": "markdown",
      "source": [
        "### Save all logs to file"
      ],
      "metadata": {
        "id": "t5RxNcEDRfUq"
      }
    },
    {
      "cell_type": "code",
      "source": [
        "saving_time = time.time() - start_time\n",
        "log_event(\"TIMING\", f\"Model saving completed in {saving_time:.2f} seconds\")"
      ],
      "metadata": {
        "colab": {
          "base_uri": "https://localhost:8080/"
        },
        "id": "6w_9ZPp9Rf2K",
        "outputId": "8e89f2bd-ebd3-44fb-9786-b7c164e46fd5"
      },
      "execution_count": 172,
      "outputs": [
        {
          "output_type": "stream",
          "name": "stdout",
          "text": [
            "[2025-04-29T19:23:15.314455] TIMING: Model saving completed in 0.17 seconds\n"
          ]
        }
      ]
    },
    {
      "cell_type": "code",
      "source": [
        "def save_logs_with_append(log_data, log_file_path):\n",
        "    try:\n",
        "        with open(log_file_path, 'r') as f:\n",
        "            try:\n",
        "                existing_logs = json.load(f)\n",
        "                if not isinstance(existing_logs, list):\n",
        "                    existing_logs = []\n",
        "            except json.JSONDecodeError:\n",
        "                existing_logs = []\n",
        "    except FileNotFoundError:\n",
        "        existing_logs = []\n",
        "\n",
        "    combined_logs = existing_logs + log_data\n",
        "\n",
        "    with open(log_file_path, 'w') as f:\n",
        "        json.dump(combined_logs, f, indent=2)\n",
        "\n",
        "    print(f\"Appended {len(log_data)} new log entries to {log_file_path}\")\n",
        "    return combined_logs"
      ],
      "metadata": {
        "id": "t3cYCPUnMzBj"
      },
      "execution_count": 173,
      "outputs": []
    },
    {
      "cell_type": "code",
      "source": [
        "combined_logs = save_logs_with_append(log_data, LOG_OUTPUT_PATH)"
      ],
      "metadata": {
        "id": "APbQ1IfsRjwo",
        "colab": {
          "base_uri": "https://localhost:8080/"
        },
        "outputId": "c7f72428-6598-4d12-c54b-af8d1747203a"
      },
      "execution_count": 174,
      "outputs": [
        {
          "output_type": "stream",
          "name": "stdout",
          "text": [
            "Appended 22 new log entries to /content/drive/MyDrive/PUSL3190/logs/chatbot_training_log.json\n"
          ]
        }
      ]
    },
    {
      "cell_type": "code",
      "source": [
        "print(\"\\n===== TRAINING COMPLETE =====\")\n",
        "print(f\"Final model accuracy: {final_accuracy:.4f}\")\n",
        "print(f\"Model saved to {MODEL_OUTPUT_PATH}\")\n",
        "print(f\"Logs saved to {LOG_OUTPUT_PATH}\")"
      ],
      "metadata": {
        "colab": {
          "base_uri": "https://localhost:8080/"
        },
        "id": "2Ss-pOMjRGot",
        "outputId": "31dd8aed-678b-48a8-a5c8-fcf565fc1ac8"
      },
      "execution_count": 175,
      "outputs": [
        {
          "output_type": "stream",
          "name": "stdout",
          "text": [
            "\n",
            "===== TRAINING COMPLETE =====\n",
            "Final model accuracy: 0.9825\n",
            "Model saved to /content/drive/MyDrive/PUSL3190/models/chatbot/chatbot_model.pkl\n",
            "Logs saved to /content/drive/MyDrive/PUSL3190/logs/chatbot_training_log.json\n"
          ]
        }
      ]
    }
  ]
}