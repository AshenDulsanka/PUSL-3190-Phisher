{
  "nbformat": 4,
  "nbformat_minor": 0,
  "metadata": {
    "colab": {
      "provenance": [],
      "gpuType": "V28"
    },
    "kernelspec": {
      "name": "python3",
      "display_name": "Python 3"
    },
    "language_info": {
      "name": "python"
    },
    "widgets": {
      "application/vnd.jupyter.widget-state+json": {
        "03356a4218c249a7904bd31b1a4859cc": {
          "model_module": "@jupyter-widgets/controls",
          "model_name": "HBoxModel",
          "model_module_version": "1.5.0",
          "state": {
            "_dom_classes": [],
            "_model_module": "@jupyter-widgets/controls",
            "_model_module_version": "1.5.0",
            "_model_name": "HBoxModel",
            "_view_count": null,
            "_view_module": "@jupyter-widgets/controls",
            "_view_module_version": "1.5.0",
            "_view_name": "HBoxView",
            "box_style": "",
            "children": [
              "IPY_MODEL_16ddd2e6a404401c8d9de2e91486da4b",
              "IPY_MODEL_9c3bacfd2d8449119fdddccf9f2cc398",
              "IPY_MODEL_885cf99b0624433fac81b4cf8326fdff"
            ],
            "layout": "IPY_MODEL_9cb8c4754d0548c8855e7b2eb7b3be56"
          }
        },
        "16ddd2e6a404401c8d9de2e91486da4b": {
          "model_module": "@jupyter-widgets/controls",
          "model_name": "HTMLModel",
          "model_module_version": "1.5.0",
          "state": {
            "_dom_classes": [],
            "_model_module": "@jupyter-widgets/controls",
            "_model_module_version": "1.5.0",
            "_model_name": "HTMLModel",
            "_view_count": null,
            "_view_module": "@jupyter-widgets/controls",
            "_view_module_version": "1.5.0",
            "_view_name": "HTMLView",
            "description": "",
            "description_tooltip": null,
            "layout": "IPY_MODEL_51ff4e73281942b2add3ea7ff04443a4",
            "placeholder": "​",
            "style": "IPY_MODEL_dad1444e99da40539ee39f85e64918fc",
            "value": "100%"
          }
        },
        "9c3bacfd2d8449119fdddccf9f2cc398": {
          "model_module": "@jupyter-widgets/controls",
          "model_name": "FloatProgressModel",
          "model_module_version": "1.5.0",
          "state": {
            "_dom_classes": [],
            "_model_module": "@jupyter-widgets/controls",
            "_model_module_version": "1.5.0",
            "_model_name": "FloatProgressModel",
            "_view_count": null,
            "_view_module": "@jupyter-widgets/controls",
            "_view_module_version": "1.5.0",
            "_view_name": "ProgressView",
            "bar_style": "success",
            "description": "",
            "description_tooltip": null,
            "layout": "IPY_MODEL_362e9b92da374cbbb2217ff1b628c027",
            "max": 80,
            "min": 0,
            "orientation": "horizontal",
            "style": "IPY_MODEL_d43cb32ee3f54e0e90e3161c832e54c6",
            "value": 80
          }
        },
        "885cf99b0624433fac81b4cf8326fdff": {
          "model_module": "@jupyter-widgets/controls",
          "model_name": "HTMLModel",
          "model_module_version": "1.5.0",
          "state": {
            "_dom_classes": [],
            "_model_module": "@jupyter-widgets/controls",
            "_model_module_version": "1.5.0",
            "_model_name": "HTMLModel",
            "_view_count": null,
            "_view_module": "@jupyter-widgets/controls",
            "_view_module_version": "1.5.0",
            "_view_name": "HTMLView",
            "description": "",
            "description_tooltip": null,
            "layout": "IPY_MODEL_0d5ad857c50e4cf888e5d908ee12960a",
            "placeholder": "​",
            "style": "IPY_MODEL_68c5d0f24bf84db7817917536c10de2d",
            "value": " 80/80 [21:39&lt;00:00, 19.53s/it]"
          }
        },
        "9cb8c4754d0548c8855e7b2eb7b3be56": {
          "model_module": "@jupyter-widgets/base",
          "model_name": "LayoutModel",
          "model_module_version": "1.2.0",
          "state": {
            "_model_module": "@jupyter-widgets/base",
            "_model_module_version": "1.2.0",
            "_model_name": "LayoutModel",
            "_view_count": null,
            "_view_module": "@jupyter-widgets/base",
            "_view_module_version": "1.2.0",
            "_view_name": "LayoutView",
            "align_content": null,
            "align_items": null,
            "align_self": null,
            "border": null,
            "bottom": null,
            "display": null,
            "flex": null,
            "flex_flow": null,
            "grid_area": null,
            "grid_auto_columns": null,
            "grid_auto_flow": null,
            "grid_auto_rows": null,
            "grid_column": null,
            "grid_gap": null,
            "grid_row": null,
            "grid_template_areas": null,
            "grid_template_columns": null,
            "grid_template_rows": null,
            "height": null,
            "justify_content": null,
            "justify_items": null,
            "left": null,
            "margin": null,
            "max_height": null,
            "max_width": null,
            "min_height": null,
            "min_width": null,
            "object_fit": null,
            "object_position": null,
            "order": null,
            "overflow": null,
            "overflow_x": null,
            "overflow_y": null,
            "padding": null,
            "right": null,
            "top": null,
            "visibility": null,
            "width": null
          }
        },
        "51ff4e73281942b2add3ea7ff04443a4": {
          "model_module": "@jupyter-widgets/base",
          "model_name": "LayoutModel",
          "model_module_version": "1.2.0",
          "state": {
            "_model_module": "@jupyter-widgets/base",
            "_model_module_version": "1.2.0",
            "_model_name": "LayoutModel",
            "_view_count": null,
            "_view_module": "@jupyter-widgets/base",
            "_view_module_version": "1.2.0",
            "_view_name": "LayoutView",
            "align_content": null,
            "align_items": null,
            "align_self": null,
            "border": null,
            "bottom": null,
            "display": null,
            "flex": null,
            "flex_flow": null,
            "grid_area": null,
            "grid_auto_columns": null,
            "grid_auto_flow": null,
            "grid_auto_rows": null,
            "grid_column": null,
            "grid_gap": null,
            "grid_row": null,
            "grid_template_areas": null,
            "grid_template_columns": null,
            "grid_template_rows": null,
            "height": null,
            "justify_content": null,
            "justify_items": null,
            "left": null,
            "margin": null,
            "max_height": null,
            "max_width": null,
            "min_height": null,
            "min_width": null,
            "object_fit": null,
            "object_position": null,
            "order": null,
            "overflow": null,
            "overflow_x": null,
            "overflow_y": null,
            "padding": null,
            "right": null,
            "top": null,
            "visibility": null,
            "width": null
          }
        },
        "dad1444e99da40539ee39f85e64918fc": {
          "model_module": "@jupyter-widgets/controls",
          "model_name": "DescriptionStyleModel",
          "model_module_version": "1.5.0",
          "state": {
            "_model_module": "@jupyter-widgets/controls",
            "_model_module_version": "1.5.0",
            "_model_name": "DescriptionStyleModel",
            "_view_count": null,
            "_view_module": "@jupyter-widgets/base",
            "_view_module_version": "1.2.0",
            "_view_name": "StyleView",
            "description_width": ""
          }
        },
        "362e9b92da374cbbb2217ff1b628c027": {
          "model_module": "@jupyter-widgets/base",
          "model_name": "LayoutModel",
          "model_module_version": "1.2.0",
          "state": {
            "_model_module": "@jupyter-widgets/base",
            "_model_module_version": "1.2.0",
            "_model_name": "LayoutModel",
            "_view_count": null,
            "_view_module": "@jupyter-widgets/base",
            "_view_module_version": "1.2.0",
            "_view_name": "LayoutView",
            "align_content": null,
            "align_items": null,
            "align_self": null,
            "border": null,
            "bottom": null,
            "display": null,
            "flex": null,
            "flex_flow": null,
            "grid_area": null,
            "grid_auto_columns": null,
            "grid_auto_flow": null,
            "grid_auto_rows": null,
            "grid_column": null,
            "grid_gap": null,
            "grid_row": null,
            "grid_template_areas": null,
            "grid_template_columns": null,
            "grid_template_rows": null,
            "height": null,
            "justify_content": null,
            "justify_items": null,
            "left": null,
            "margin": null,
            "max_height": null,
            "max_width": null,
            "min_height": null,
            "min_width": null,
            "object_fit": null,
            "object_position": null,
            "order": null,
            "overflow": null,
            "overflow_x": null,
            "overflow_y": null,
            "padding": null,
            "right": null,
            "top": null,
            "visibility": null,
            "width": null
          }
        },
        "d43cb32ee3f54e0e90e3161c832e54c6": {
          "model_module": "@jupyter-widgets/controls",
          "model_name": "ProgressStyleModel",
          "model_module_version": "1.5.0",
          "state": {
            "_model_module": "@jupyter-widgets/controls",
            "_model_module_version": "1.5.0",
            "_model_name": "ProgressStyleModel",
            "_view_count": null,
            "_view_module": "@jupyter-widgets/base",
            "_view_module_version": "1.2.0",
            "_view_name": "StyleView",
            "bar_color": null,
            "description_width": ""
          }
        },
        "0d5ad857c50e4cf888e5d908ee12960a": {
          "model_module": "@jupyter-widgets/base",
          "model_name": "LayoutModel",
          "model_module_version": "1.2.0",
          "state": {
            "_model_module": "@jupyter-widgets/base",
            "_model_module_version": "1.2.0",
            "_model_name": "LayoutModel",
            "_view_count": null,
            "_view_module": "@jupyter-widgets/base",
            "_view_module_version": "1.2.0",
            "_view_name": "LayoutView",
            "align_content": null,
            "align_items": null,
            "align_self": null,
            "border": null,
            "bottom": null,
            "display": null,
            "flex": null,
            "flex_flow": null,
            "grid_area": null,
            "grid_auto_columns": null,
            "grid_auto_flow": null,
            "grid_auto_rows": null,
            "grid_column": null,
            "grid_gap": null,
            "grid_row": null,
            "grid_template_areas": null,
            "grid_template_columns": null,
            "grid_template_rows": null,
            "height": null,
            "justify_content": null,
            "justify_items": null,
            "left": null,
            "margin": null,
            "max_height": null,
            "max_width": null,
            "min_height": null,
            "min_width": null,
            "object_fit": null,
            "object_position": null,
            "order": null,
            "overflow": null,
            "overflow_x": null,
            "overflow_y": null,
            "padding": null,
            "right": null,
            "top": null,
            "visibility": null,
            "width": null
          }
        },
        "68c5d0f24bf84db7817917536c10de2d": {
          "model_module": "@jupyter-widgets/controls",
          "model_name": "DescriptionStyleModel",
          "model_module_version": "1.5.0",
          "state": {
            "_model_module": "@jupyter-widgets/controls",
            "_model_module_version": "1.5.0",
            "_model_name": "DescriptionStyleModel",
            "_view_count": null,
            "_view_module": "@jupyter-widgets/base",
            "_view_module_version": "1.2.0",
            "_view_name": "StyleView",
            "description_width": ""
          }
        }
      }
    },
    "accelerator": "TPU"
  },
  "cells": [
    {
      "cell_type": "markdown",
      "source": [
        "# AI-Powered URL Phishing Detection System\n",
        "# Deep Random Forest Classifier for Chatbot"
      ],
      "metadata": {
        "id": "pdQZKCWpZQ0a"
      }
    },
    {
      "cell_type": "markdown",
      "source": [
        "## Steup and Imports"
      ],
      "metadata": {
        "id": "R-aZ0tsoZUmF"
      }
    },
    {
      "cell_type": "code",
      "source": [
        "!pip install python-whois dnspython tldextract beautifulsoup4 requests pyOpenSSL tqdm"
      ],
      "metadata": {
        "colab": {
          "base_uri": "https://localhost:8080/"
        },
        "id": "xSQbVt1Xw4Eo",
        "outputId": "3f15cbe8-3b03-4318-9375-0b4d4ac5ba2b"
      },
      "execution_count": 1,
      "outputs": [
        {
          "output_type": "stream",
          "name": "stdout",
          "text": [
            "Collecting python-whois\n",
            "  Downloading python_whois-0.9.5-py3-none-any.whl.metadata (2.6 kB)\n",
            "Collecting dnspython\n",
            "  Downloading dnspython-2.7.0-py3-none-any.whl.metadata (5.8 kB)\n",
            "Collecting tldextract\n",
            "  Downloading tldextract-5.3.0-py3-none-any.whl.metadata (11 kB)\n",
            "Requirement already satisfied: beautifulsoup4 in /usr/local/lib/python3.11/dist-packages (4.13.4)\n",
            "Requirement already satisfied: requests in /usr/local/lib/python3.11/dist-packages (2.32.3)\n",
            "Collecting pyOpenSSL\n",
            "  Downloading pyOpenSSL-25.0.0-py3-none-any.whl.metadata (16 kB)\n",
            "Requirement already satisfied: tqdm in /usr/local/lib/python3.11/dist-packages (4.67.1)\n",
            "Requirement already satisfied: python-dateutil in /usr/local/lib/python3.11/dist-packages (from python-whois) (2.9.0.post0)\n",
            "Requirement already satisfied: idna in /usr/local/lib/python3.11/dist-packages (from tldextract) (3.10)\n",
            "Collecting requests-file>=1.4 (from tldextract)\n",
            "  Downloading requests_file-2.1.0-py2.py3-none-any.whl.metadata (1.7 kB)\n",
            "Requirement already satisfied: filelock>=3.0.8 in /usr/local/lib/python3.11/dist-packages (from tldextract) (3.18.0)\n",
            "Requirement already satisfied: soupsieve>1.2 in /usr/local/lib/python3.11/dist-packages (from beautifulsoup4) (2.7)\n",
            "Requirement already satisfied: typing-extensions>=4.0.0 in /usr/local/lib/python3.11/dist-packages (from beautifulsoup4) (4.13.2)\n",
            "Requirement already satisfied: charset-normalizer<4,>=2 in /usr/local/lib/python3.11/dist-packages (from requests) (3.4.1)\n",
            "Requirement already satisfied: urllib3<3,>=1.21.1 in /usr/local/lib/python3.11/dist-packages (from requests) (2.4.0)\n",
            "Requirement already satisfied: certifi>=2017.4.17 in /usr/local/lib/python3.11/dist-packages (from requests) (2025.1.31)\n",
            "Collecting cryptography<45,>=41.0.5 (from pyOpenSSL)\n",
            "  Downloading cryptography-44.0.2-cp39-abi3-manylinux_2_34_x86_64.whl.metadata (5.7 kB)\n",
            "Requirement already satisfied: cffi>=1.12 in /usr/local/lib/python3.11/dist-packages (from cryptography<45,>=41.0.5->pyOpenSSL) (1.17.1)\n",
            "Requirement already satisfied: six>=1.5 in /usr/local/lib/python3.11/dist-packages (from python-dateutil->python-whois) (1.17.0)\n",
            "Requirement already satisfied: pycparser in /usr/local/lib/python3.11/dist-packages (from cffi>=1.12->cryptography<45,>=41.0.5->pyOpenSSL) (2.22)\n",
            "Downloading python_whois-0.9.5-py3-none-any.whl (104 kB)\n",
            "\u001b[2K   \u001b[90m━━━━━━━━━━━━━━━━━━━━━━━━━━━━━━━━━━━━━━━━\u001b[0m \u001b[32m104.2/104.2 kB\u001b[0m \u001b[31m3.5 MB/s\u001b[0m eta \u001b[36m0:00:00\u001b[0m\n",
            "\u001b[?25hDownloading dnspython-2.7.0-py3-none-any.whl (313 kB)\n",
            "\u001b[2K   \u001b[90m━━━━━━━━━━━━━━━━━━━━━━━━━━━━━━━━━━━━━━━━\u001b[0m \u001b[32m313.6/313.6 kB\u001b[0m \u001b[31m10.4 MB/s\u001b[0m eta \u001b[36m0:00:00\u001b[0m\n",
            "\u001b[?25hDownloading tldextract-5.3.0-py3-none-any.whl (107 kB)\n",
            "\u001b[2K   \u001b[90m━━━━━━━━━━━━━━━━━━━━━━━━━━━━━━━━━━━━━━━━\u001b[0m \u001b[32m107.4/107.4 kB\u001b[0m \u001b[31m5.9 MB/s\u001b[0m eta \u001b[36m0:00:00\u001b[0m\n",
            "\u001b[?25hDownloading pyOpenSSL-25.0.0-py3-none-any.whl (56 kB)\n",
            "\u001b[2K   \u001b[90m━━━━━━━━━━━━━━━━━━━━━━━━━━━━━━━━━━━━━━━━\u001b[0m \u001b[32m56.5/56.5 kB\u001b[0m \u001b[31m2.8 MB/s\u001b[0m eta \u001b[36m0:00:00\u001b[0m\n",
            "\u001b[?25hDownloading cryptography-44.0.2-cp39-abi3-manylinux_2_34_x86_64.whl (4.2 MB)\n",
            "\u001b[2K   \u001b[90m━━━━━━━━━━━━━━━━━━━━━━━━━━━━━━━━━━━━━━━━\u001b[0m \u001b[32m4.2/4.2 MB\u001b[0m \u001b[31m58.9 MB/s\u001b[0m eta \u001b[36m0:00:00\u001b[0m\n",
            "\u001b[?25hDownloading requests_file-2.1.0-py2.py3-none-any.whl (4.2 kB)\n",
            "Installing collected packages: dnspython, requests-file, python-whois, cryptography, tldextract, pyOpenSSL\n",
            "  Attempting uninstall: cryptography\n",
            "    Found existing installation: cryptography 3.4.8\n",
            "    Uninstalling cryptography-3.4.8:\n",
            "      Successfully uninstalled cryptography-3.4.8\n",
            "Successfully installed cryptography-44.0.2 dnspython-2.7.0 pyOpenSSL-25.0.0 python-whois-0.9.5 requests-file-2.1.0 tldextract-5.3.0\n"
          ]
        }
      ]
    },
    {
      "cell_type": "code",
      "execution_count": 2,
      "metadata": {
        "id": "naVE9toeWcX7"
      },
      "outputs": [],
      "source": [
        "import pandas as pd\n",
        "import numpy as np\n",
        "import matplotlib.pyplot as plt\n",
        "import seaborn as sns\n",
        "import pickle\n",
        "import time\n",
        "import json\n",
        "import os\n",
        "import re\n",
        "import requests\n",
        "import socket\n",
        "from urllib.parse import urlparse\n",
        "from datetime import datetime\n",
        "from bs4 import BeautifulSoup\n",
        "from sklearn.model_selection import train_test_split, GridSearchCV\n",
        "from sklearn.ensemble import RandomForestClassifier\n",
        "from sklearn.metrics import accuracy_score, precision_score, recall_score, f1_score, confusion_matrix, roc_curve, auc\n",
        "from sklearn.preprocessing import StandardScaler\n",
        "from sklearn.utils.class_weight import compute_class_weight\n",
        "import joblib\n",
        "import whois\n",
        "import dns.resolver\n",
        "import tldextract\n",
        "import ssl\n",
        "import OpenSSL.crypto as crypto\n",
        "import concurrent.futures\n",
        "from tqdm.notebook import tqdm\n",
        "from concurrent.futures import ThreadPoolExecutor, as_completed"
      ]
    },
    {
      "cell_type": "markdown",
      "source": [
        "### Mount Google Drive"
      ],
      "metadata": {
        "id": "8TwLZMHuaA27"
      }
    },
    {
      "cell_type": "code",
      "source": [
        "from google.colab import drive\n",
        "drive.mount('/content/drive')"
      ],
      "metadata": {
        "colab": {
          "base_uri": "https://localhost:8080/"
        },
        "id": "LDbSaOzoaBcU",
        "outputId": "84a8a35f-d2e0-407a-cfe5-c5343837cbc7"
      },
      "execution_count": 3,
      "outputs": [
        {
          "output_type": "stream",
          "name": "stdout",
          "text": [
            "Mounted at /content/drive\n"
          ]
        }
      ]
    },
    {
      "cell_type": "markdown",
      "source": [
        "## Configuration and Logging"
      ],
      "metadata": {
        "id": "zYPK-6MNaZIi"
      }
    },
    {
      "cell_type": "markdown",
      "source": [
        "### Set up logging"
      ],
      "metadata": {
        "id": "zK_EGbNYaea5"
      }
    },
    {
      "cell_type": "code",
      "source": [
        "log_data = []\n",
        "\n",
        "def log_event(event_type, message, metadata=None):\n",
        "    \"\"\"Log events for research documentation\"\"\"\n",
        "    log_entry = {\n",
        "        \"timestamp\": datetime.now().isoformat(),\n",
        "        \"event_type\": event_type,\n",
        "        \"message\": message,\n",
        "        \"metadata\": metadata or {}\n",
        "    }\n",
        "    log_data.append(log_entry)\n",
        "    print(f\"[{log_entry['timestamp']}] {event_type}: {message}\")"
      ],
      "metadata": {
        "id": "uCJzivZgab8u"
      },
      "execution_count": 4,
      "outputs": []
    },
    {
      "cell_type": "markdown",
      "source": [
        "### Define paths"
      ],
      "metadata": {
        "id": "PsUceZULanME"
      }
    },
    {
      "cell_type": "code",
      "source": [
        "BASE_PATH = '/content/drive/MyDrive/PUSL3190'\n",
        "RAW_DATA_PATH = f'{BASE_PATH}/data/raw/phishing_site_urls.csv'\n",
        "PROCESSED_DATA_PATH = f'{BASE_PATH}/data/processed/chatbot/chatbot_features.csv'\n",
        "MODEL_OUTPUT_PATH = f'{BASE_PATH}/models/chatbot/chatbot_model.pkl'\n",
        "SCALER_OUTPUT_PATH = f'{BASE_PATH}/models/chatbot/chatbot_scaler.pkl'\n",
        "METADATA_OUTPUT_PATH = f'{BASE_PATH}/models/chatbot/chatbot_metadata.json'\n",
        "FEATURES_OUTPUT_PATH = f'{BASE_PATH}/models/chatbot/chatbot_features.json'\n",
        "LOG_OUTPUT_PATH = f'{BASE_PATH}/logs/chatbot_training_log.json'"
      ],
      "metadata": {
        "id": "jie390m1ao7T"
      },
      "execution_count": 5,
      "outputs": []
    },
    {
      "cell_type": "markdown",
      "source": [
        "### Create directories if they don't exist"
      ],
      "metadata": {
        "id": "i2DlOyrO15Ln"
      }
    },
    {
      "cell_type": "code",
      "source": [
        "os.makedirs(f'{BASE_PATH}/data/processed', exist_ok=True)\n",
        "os.makedirs(f'{BASE_PATH}/models/gradient_boosting_model', exist_ok=True)\n",
        "os.makedirs(f'{BASE_PATH}/logs', exist_ok=True)"
      ],
      "metadata": {
        "id": "lbLYvHsz1-il"
      },
      "execution_count": 6,
      "outputs": []
    },
    {
      "cell_type": "markdown",
      "source": [
        "## 1. Load and explore the dataset"
      ],
      "metadata": {
        "id": "Asq15B48bKcD"
      }
    },
    {
      "cell_type": "markdown",
      "source": [
        "### Load dataset"
      ],
      "metadata": {
        "id": "I0hh9ge3bT4J"
      }
    },
    {
      "cell_type": "code",
      "source": [
        "log_event(\"DATA_LOADING\", \"Loading dataset\")\n",
        "start_time = time.time()"
      ],
      "metadata": {
        "colab": {
          "base_uri": "https://localhost:8080/"
        },
        "id": "VKIwQYfQXzWp",
        "outputId": "30273d53-75ea-44ef-b0ed-728e6f5c26ae"
      },
      "execution_count": 7,
      "outputs": [
        {
          "output_type": "stream",
          "name": "stdout",
          "text": [
            "[2025-04-29T12:32:56.139991] DATA_LOADING: Loading dataset\n"
          ]
        }
      ]
    },
    {
      "cell_type": "code",
      "source": [
        "try:\n",
        "    df = pd.read_csv(RAW_DATA_PATH)\n",
        "    # Ensure class column is properly named and has numeric values\n",
        "    if 'label' in df.columns:\n",
        "        df = df.rename(columns={'label': 'class'})\n",
        "\n",
        "    if df['class'].dtype == 'object':\n",
        "        df['class'] = df['class'].map({'good': 0, 'bad': 1, 'legitimate': 0, 'phishing': 1})\n",
        "\n",
        "    print(f\"Dataset loaded with {df.shape[0]} rows and {df.shape[1]} columns\")\n",
        "    print(f\"Class distribution: {df['class'].value_counts().to_dict()}\")\n",
        "\n",
        "    log_event(\"DATA_LOADED\", f\"Dataset loaded with shape {df.shape}\")\n",
        "except Exception as e:\n",
        "    log_event(\"ERROR\", f\"Failed to load dataset: {str(e)}\")\n",
        "    raise"
      ],
      "metadata": {
        "colab": {
          "base_uri": "https://localhost:8080/"
        },
        "id": "A1euZTLzbMcP",
        "outputId": "144e7359-cf1e-4072-a96e-bb817871d0d3"
      },
      "execution_count": 8,
      "outputs": [
        {
          "output_type": "stream",
          "name": "stdout",
          "text": [
            "Dataset loaded with 4000 rows and 2 columns\n",
            "Class distribution: {1: 2000, 0: 2000}\n",
            "[2025-04-29T12:32:57.915394] DATA_LOADED: Dataset loaded with shape (4000, 2)\n"
          ]
        }
      ]
    },
    {
      "cell_type": "code",
      "source": [
        "loading_time = time.time() - start_time\n",
        "log_event(\"TIMING\", f\"Data loading completed in {loading_time:.2f} seconds\")"
      ],
      "metadata": {
        "colab": {
          "base_uri": "https://localhost:8080/"
        },
        "id": "UU-htEn2X4uN",
        "outputId": "641ae95d-3206-4794-9967-472865147311"
      },
      "execution_count": 9,
      "outputs": [
        {
          "output_type": "stream",
          "name": "stdout",
          "text": [
            "[2025-04-29T12:33:00.328968] TIMING: Data loading completed in 4.19 seconds\n"
          ]
        }
      ]
    },
    {
      "cell_type": "markdown",
      "source": [
        "### Display basic information"
      ],
      "metadata": {
        "id": "64-tzvvrbvvR"
      }
    },
    {
      "cell_type": "code",
      "source": [
        "print(\"Dataset Information:\")\n",
        "print(f\"Total samples: {df.shape[0]}\")\n",
        "print(f\"Features: {df.shape[1]}\")\n",
        "print(\"\\nData Types:\")\n",
        "print(df.dtypes)\n",
        "print(\"\\nClass Distribution:\")\n",
        "print(df['class'].value_counts())\n",
        "print(\"\\nFirst 5 rows:\")\n",
        "print(df.head())"
      ],
      "metadata": {
        "colab": {
          "base_uri": "https://localhost:8080/"
        },
        "id": "D0suA3Khbwo3",
        "outputId": "a8051510-7d37-4ca1-fe62-ec0039e750b5"
      },
      "execution_count": 10,
      "outputs": [
        {
          "output_type": "stream",
          "name": "stdout",
          "text": [
            "Dataset Information:\n",
            "Total samples: 4000\n",
            "Features: 2\n",
            "\n",
            "Data Types:\n",
            "URL      object\n",
            "class     int64\n",
            "dtype: object\n",
            "\n",
            "Class Distribution:\n",
            "class\n",
            "1    2000\n",
            "0    2000\n",
            "Name: count, dtype: int64\n",
            "\n",
            "First 5 rows:\n",
            "                                            URL  class\n",
            "0  https://start-support-tizer.gitbook.io/en-us      1\n",
            "1       https://iieudsjwasndjfkdjdd.weebly.com/      1\n",
            "2           https://0x-turbos.pages.dev/wallets      1\n",
            "3                   https://shbox.top/yecunoeu/      1\n",
            "4            https://sparkflrdrops.xyz/clm.html      1\n"
          ]
        }
      ]
    },
    {
      "cell_type": "markdown",
      "source": [
        "## 2. Feature Extraction Functions"
      ],
      "metadata": {
        "id": "4J5rI-Ykb9Pp"
      }
    },
    {
      "cell_type": "code",
      "source": [
        "log_event(\"FEATURE_EXTRACTION_FUNCTIONS\", \"Extracting functions for chatbot deep analysis\")\n",
        "start_time = time.time()"
      ],
      "metadata": {
        "colab": {
          "base_uri": "https://localhost:8080/"
        },
        "id": "d4FSyoHYb_mx",
        "outputId": "fe13e918-46f6-4c4c-de34-1a75aa1293d3"
      },
      "execution_count": 11,
      "outputs": [
        {
          "output_type": "stream",
          "name": "stdout",
          "text": [
            "[2025-04-29T12:33:04.015903] FEATURE_EXTRACTION_FUNCTIONS: Extracting functions for chatbot deep analysis\n"
          ]
        }
      ]
    },
    {
      "cell_type": "markdown",
      "source": [
        "Extract comprehensive features for deep analysis in the chatbot based on the specified list:\n",
        "  - UsingIP\n",
        "  - LongURL\n",
        "  - ShortURL\n",
        "  - Symbol@\n",
        "  - Redirecting//\n",
        "  - PrefixSuffix-\n",
        "  - SubDomains\n",
        "  - HTTPS\n",
        "  - DomainRegLen\n",
        "  - Favicon\n",
        "  - NonStdPort\n",
        "  - HTTPSDomainURL\n",
        "  - RequestURL\n",
        "  - AnchorURL\n",
        "  - LinksInScriptTags\n",
        "  - ServerFormHandler\n",
        "  - InfoEmail\n",
        "  - AbnormalURL\n",
        "  - WebsiteForwarding\n",
        "  - StatusBarCust\n",
        "  - DisableRightClick\n",
        "  - UsingPopupWindow\n",
        "  - IframeRedirection\n",
        "  - AgeofDomain\n",
        "  - DNSRecording\n",
        "  - WebsiteTraffic\n",
        "  - PageRank\n",
        "  - GoogleIndex\n",
        "  - LinksPointingToPage\n",
        "  - StatsReport"
      ],
      "metadata": {
        "id": "oZRM0OvLcDMA"
      }
    },
    {
      "cell_type": "markdown",
      "source": [
        "### URL Parsing"
      ],
      "metadata": {
        "id": "kmcGYBU4yXy8"
      }
    },
    {
      "cell_type": "code",
      "source": [
        "def get_domain(url):\n",
        "    \"\"\"Extract domain from URL\"\"\"\n",
        "    try:\n",
        "        extracted = tldextract.extract(url)\n",
        "        domain = f\"{extracted.domain}.{extracted.suffix}\"\n",
        "        if extracted.subdomain:\n",
        "            full_domain = f\"{extracted.subdomain}.{domain}\"\n",
        "        else:\n",
        "            full_domain = domain\n",
        "        return domain, full_domain\n",
        "    except:\n",
        "        return None, None"
      ],
      "metadata": {
        "id": "RzJRToUfljiw"
      },
      "execution_count": 12,
      "outputs": []
    },
    {
      "cell_type": "markdown",
      "source": [
        "### WHOIS Information"
      ],
      "metadata": {
        "id": "rnlgP_pZytj8"
      }
    },
    {
      "cell_type": "code",
      "source": [
        "def get_domain_info(domain):\n",
        "    \"\"\"Get domain registration info using WHOIS\"\"\"\n",
        "    try:\n",
        "        w = whois.whois(domain)\n",
        "\n",
        "        # Get creation date\n",
        "        creation_date = w.creation_date\n",
        "        if isinstance(creation_date, list):\n",
        "            creation_date = creation_date[0]\n",
        "\n",
        "        # Get expiration date\n",
        "        expiration_date = w.expiration_date\n",
        "        if isinstance(expiration_date, list):\n",
        "            expiration_date = expiration_date[0]\n",
        "\n",
        "        # Calculate age in days\n",
        "        if creation_date:\n",
        "            domain_age = (datetime.now() - creation_date).days\n",
        "        else:\n",
        "            domain_age = -1\n",
        "\n",
        "        # Calculate registration length in days\n",
        "        if creation_date and expiration_date:\n",
        "            reg_len = (expiration_date - creation_date).days\n",
        "        else:\n",
        "            reg_len = -1\n",
        "\n",
        "        return {\n",
        "            'domain_age': domain_age,\n",
        "            'registration_length': reg_len\n",
        "        }\n",
        "    except Exception as e:\n",
        "        return {\n",
        "            'domain_age': -1,\n",
        "            'registration_length': -1\n",
        "        }"
      ],
      "metadata": {
        "id": "6H6VpsZBzDW2"
      },
      "execution_count": 13,
      "outputs": []
    },
    {
      "cell_type": "markdown",
      "source": [
        "### DNS Records"
      ],
      "metadata": {
        "id": "BICWMZD6zdX0"
      }
    },
    {
      "cell_type": "code",
      "source": [
        "def get_dns_records(domain):\n",
        "    \"\"\"Check if domain has proper DNS records\"\"\"\n",
        "    records = {\n",
        "        'has_a': False,\n",
        "        'has_mx': False,\n",
        "        'has_ns': False,\n",
        "        'has_txt': False,\n",
        "        'total_records': 0\n",
        "    }\n",
        "\n",
        "    try:\n",
        "        # A record\n",
        "        try:\n",
        "            answers = dns.resolver.resolve(domain, 'A')\n",
        "            records['has_a'] = len(answers) > 0\n",
        "            records['total_records'] += len(answers)\n",
        "        except:\n",
        "            pass\n",
        "\n",
        "        # MX record\n",
        "        try:\n",
        "            answers = dns.resolver.resolve(domain, 'MX')\n",
        "            records['has_mx'] = len(answers) > 0\n",
        "            records['total_records'] += len(answers)\n",
        "        except:\n",
        "            pass\n",
        "\n",
        "        # NS record\n",
        "        try:\n",
        "            answers = dns.resolver.resolve(domain, 'NS')\n",
        "            records['has_ns'] = len(answers) > 0\n",
        "            records['total_records'] += len(answers)\n",
        "        except:\n",
        "            pass\n",
        "\n",
        "        # TXT record\n",
        "        try:\n",
        "            answers = dns.resolver.resolve(domain, 'TXT')\n",
        "            records['has_txt'] = len(answers) > 0\n",
        "            records['total_records'] += len(answers)\n",
        "        except:\n",
        "            pass\n",
        "\n",
        "        return records\n",
        "    except Exception as e:\n",
        "        return records"
      ],
      "metadata": {
        "id": "z0VJBfCtzfvJ"
      },
      "execution_count": 14,
      "outputs": []
    },
    {
      "cell_type": "markdown",
      "source": [
        "### HTML Content Analysis"
      ],
      "metadata": {
        "id": "z4DbmcJwzndd"
      }
    },
    {
      "cell_type": "code",
      "source": [
        "def analyze_html_content(url):\n",
        "    \"\"\"Analyze HTML content for suspicious patterns\"\"\"\n",
        "    try:\n",
        "        headers = {\n",
        "            'User-Agent': 'Mozilla/5.0 (Windows NT 10.0; Win64; x64) AppleWebKit/537.36 (KHTML, like Gecko) Chrome/58.0.3029.110 Safari/537.3'\n",
        "        }\n",
        "        response = requests.get(url, headers=headers, timeout=5)\n",
        "\n",
        "        if response.status_code != 200:\n",
        "            return get_default_html_features()\n",
        "\n",
        "        soup = BeautifulSoup(response.text, 'html.parser')\n",
        "        domain, full_domain = get_domain(url)\n",
        "\n",
        "        # Check favicon\n",
        "        favicon = soup.find('link', rel=lambda r: r and 'icon' in r.lower())\n",
        "        has_favicon = favicon is not None\n",
        "        external_favicon = False\n",
        "        if has_favicon and favicon.get('href'):\n",
        "            favicon_url = favicon['href']\n",
        "            if not favicon_url.startswith('data:'):\n",
        "                if favicon_url.startswith('http'):\n",
        "                    favicon_domain = get_domain(favicon_url)[0]\n",
        "                    external_favicon = favicon_domain != domain\n",
        "\n",
        "        # Check forms\n",
        "        forms = soup.find_all('form')\n",
        "        form_action_external = False\n",
        "        for form in forms:\n",
        "            action = form.get('action', '')\n",
        "            if action and action.startswith('http'):\n",
        "                action_domain = get_domain(action)[0]\n",
        "                if action_domain != domain:\n",
        "                    form_action_external = True\n",
        "                    break\n",
        "\n",
        "        # Check for password fields\n",
        "        has_password_field = len(soup.find_all('input', type='password')) > 0\n",
        "\n",
        "        # Check for hidden elements\n",
        "        has_hidden_element = len(soup.find_all('input', type='hidden')) > 0\n",
        "\n",
        "        # Count scripts from external domains\n",
        "        scripts = soup.find_all('script', src=True)\n",
        "        external_scripts = 0\n",
        "        for script in scripts:\n",
        "            if script['src'].startswith('http'):\n",
        "                script_domain = get_domain(script['src'])[0]\n",
        "                if script_domain != domain:\n",
        "                    external_scripts += 1\n",
        "\n",
        "        # Count iframes\n",
        "        iframe_count = len(soup.find_all('iframe'))\n",
        "\n",
        "        # Count onclick events\n",
        "        elements_with_onclick = soup.find_all(lambda tag: tag.has_attr('onclick'))\n",
        "        onclick_count = len(elements_with_onclick)\n",
        "\n",
        "        # Analyze links\n",
        "        links = soup.find_all('a', href=True)\n",
        "        external_links = 0\n",
        "        internal_links = 0\n",
        "        null_links = 0\n",
        "\n",
        "        for link in links:\n",
        "            href = link['href'].lower()\n",
        "            if href == '#' or href == 'javascript:void(0)':\n",
        "                null_links += 1\n",
        "            elif href.startswith('http'):\n",
        "                link_domain = get_domain(href)[0]\n",
        "                if link_domain != domain:\n",
        "                    external_links += 1\n",
        "                else:\n",
        "                    internal_links += 1\n",
        "            else:\n",
        "                internal_links += 1\n",
        "\n",
        "        # Check for right-click disabling\n",
        "        has_right_click_disabled = 'oncontextmenu=\"return false\"' in response.text or 'event.button==2' in response.text\n",
        "\n",
        "        # Check for popups\n",
        "        has_popup = 'window.open(' in response.text\n",
        "\n",
        "        # Check for status bar customization\n",
        "        status_bar_customized = 'window.status' in response.text\n",
        "\n",
        "        return {\n",
        "            'has_favicon': has_favicon,\n",
        "            'external_favicon': external_favicon,\n",
        "            'form_action_external': form_action_external,\n",
        "            'has_password_field': has_password_field,\n",
        "            'has_hidden_element': has_hidden_element,\n",
        "            'external_scripts': external_scripts,\n",
        "            'iframe_count': iframe_count,\n",
        "            'onclick_count': onclick_count,\n",
        "            'external_links': external_links,\n",
        "            'internal_links': internal_links,\n",
        "            'null_links': null_links,\n",
        "            'has_right_click_disabled': has_right_click_disabled,\n",
        "            'has_popup': has_popup,\n",
        "            'status_bar_customized': status_bar_customized\n",
        "        }\n",
        "    except Exception as e:\n",
        "        return get_default_html_features()"
      ],
      "metadata": {
        "id": "ce4C3TESzp0A"
      },
      "execution_count": 15,
      "outputs": []
    },
    {
      "cell_type": "code",
      "source": [
        "def get_default_html_features():\n",
        "    \"\"\"Return default HTML features\"\"\"\n",
        "    return {\n",
        "        'has_favicon': False,\n",
        "        'external_favicon': False,\n",
        "        'form_action_external': False,\n",
        "        'has_password_field': False,\n",
        "        'has_hidden_element': False,\n",
        "        'external_scripts': 0,\n",
        "        'iframe_count': 0,\n",
        "        'onclick_count': 0,\n",
        "        'external_links': 0,\n",
        "        'internal_links': 0,\n",
        "        'null_links': 0,\n",
        "        'has_right_click_disabled': False,\n",
        "        'has_popup': False,\n",
        "        'status_bar_customized': False\n",
        "    }"
      ],
      "metadata": {
        "id": "uFLXJXyUYM2x"
      },
      "execution_count": 16,
      "outputs": []
    },
    {
      "cell_type": "markdown",
      "source": [
        "### Parallel feature extraction"
      ],
      "metadata": {
        "id": "EyHP8wTiz84H"
      }
    },
    {
      "cell_type": "code",
      "source": [
        "def extract_url_features(url):\n",
        "    \"\"\"Extract all features for a single URL\"\"\"\n",
        "    # Basic URL features\n",
        "    features = {}\n",
        "\n",
        "    # --- URL STRUCTURE FEATURES ---\n",
        "    # Check if URL uses IP address\n",
        "    features['UsingIP'] = 1 if bool(re.search(r'\\d+\\.\\d+\\.\\d+\\.\\d+', url)) else 0\n",
        "\n",
        "    # URL length\n",
        "    features['LongURL'] = 1 if len(url) > 75 else 0\n",
        "\n",
        "    # Check for URL shortening services\n",
        "    url_shorteners = ['bit.ly', 'tinyurl.com', 't.co', 'goo.gl', 'is.gd', 'cli.gs', 'ow.ly', 'tiny.cc', 'shorte.st']\n",
        "    features['ShortURL'] = 1 if any(shortener in url for shortener in url_shorteners) else 0\n",
        "\n",
        "    # Check for @ symbol\n",
        "    features['Symbol@'] = 1 if '@' in url else 0\n",
        "\n",
        "    # Check for multiple forward slashes\n",
        "    features['Redirecting//'] = 1 if url.replace('https://', '').replace('http://', '').find('//') != -1 else 0\n",
        "\n",
        "    # --- DOMAIN FEATURES ---\n",
        "    # Extract domain information\n",
        "    domain, full_domain = get_domain(url)\n",
        "\n",
        "    if not domain:\n",
        "        # If domain extraction failed, return basic features with default values\n",
        "        return get_default_features()\n",
        "\n",
        "    # Check for hyphen in domain\n",
        "    features['PrefixSuffix-'] = 1 if '-' in domain else 0\n",
        "\n",
        "    # Count subdomains\n",
        "    extracted = tldextract.extract(url)\n",
        "    features['SubDomains'] = len(extracted.subdomain.split('.')) if extracted.subdomain else 0\n",
        "\n",
        "    # --- PROTOCOL FEATURES ---\n",
        "    # CRITICAL CHANGE: uses_http (1 means HTTP, less secure), (0 means HTTPS, more secure)\n",
        "    features['uses_http'] = 0 if url.startswith('https') else 1\n",
        "\n",
        "    # --- DOMAIN REPUTATION FEATURES ---\n",
        "    # Domain length (shorter domains are usually more legitimate)\n",
        "    features['DomainLength'] = 1 if len(domain) > 20 else 0\n",
        "\n",
        "    # Top-level domain type\n",
        "    suspicious_tlds = ['.xyz', '.info', '.online', '.site', '.top', '.club', '.work']\n",
        "    features['SuspiciousTLD'] = 1 if any(tld in domain for tld in suspicious_tlds) else 0\n",
        "\n",
        "    # --- WHOIS INFORMATION ---\n",
        "    whois_info = get_domain_info(domain)\n",
        "    features['DomainRegLen'] = 1 if whois_info['registration_length'] > 365 else 0\n",
        "    features['AgeofDomain'] = 1 if whois_info['domain_age'] > 180 else 0\n",
        "\n",
        "    # --- URL PATH FEATURES ---\n",
        "    parsed_url = urlparse(url)\n",
        "\n",
        "    # Check for non-standard port\n",
        "    port = parsed_url.port\n",
        "    features['NonStdPort'] = 1 if port and port not in [80, 443] else 0\n",
        "\n",
        "    # Path depth\n",
        "    path_elements = parsed_url.path.split('/')\n",
        "    features['PathDepth'] = 1 if len([p for p in path_elements if p]) >= 3 else 0\n",
        "\n",
        "    # Query parameters\n",
        "    features['NumParams'] = 1 if len(parsed_url.query.split('&')) > 2 else 0\n",
        "\n",
        "    # Check if 'https' appears in domain part (misleading practice)\n",
        "    features['HTTPSDomainURL'] = 1 if 'https' in domain or 'http' in domain else 0\n",
        "\n",
        "    # --- SUSPICIOUS CONTENT FEATURES ---\n",
        "    # Check for suspicious terms in URL\n",
        "    suspicious_terms = ['login', 'signin', 'verify', 'account', 'security', 'update', 'confirm', 'payment']\n",
        "    features['AbnormalURL'] = 1 if any(term in url.lower() for term in suspicious_terms) else 0\n",
        "\n",
        "    # Check for email-related terms\n",
        "    features['InfoEmail'] = 1 if any(term in url.lower() for term in ['mail', 'email', 'contact']) else 0\n",
        "\n",
        "    # --- DNS FEATURES ---\n",
        "    dns_info = get_dns_records(domain)\n",
        "    features['DNSRecording'] = 1 if dns_info['has_a'] and dns_info['has_ns'] else 0\n",
        "\n",
        "    # Website popularity estimation (based on DNS records as a proxy)\n",
        "    features['WebsiteTraffic'] = 1 if dns_info['total_records'] > 3 else 0\n",
        "    features['PageRank'] = 1 if dns_info['has_a'] and dns_info['has_mx'] and dns_info['has_ns'] else 0\n",
        "    features['GoogleIndex'] = 1 if dns_info['has_a'] and dns_info['has_ns'] else 0\n",
        "\n",
        "    # Links pointing to the page (estimate based on domain age)\n",
        "    features['LinksPointingToPage'] = 1 if whois_info['domain_age'] > 365 else 0\n",
        "\n",
        "    # Stats report availability\n",
        "    features['StatsReport'] = 1 if whois_info['domain_age'] > 180 and dns_info['total_records'] > 3 else 0\n",
        "\n",
        "    # --- HTML CONTENT ANALYSIS ---\n",
        "    # Only attempt for URLs that use HTTP/HTTPS\n",
        "    if url.startswith('http'):\n",
        "        try:\n",
        "            html_info = analyze_html_content(url)\n",
        "\n",
        "            # Favicon from different domain\n",
        "            features['Favicon'] = 1 if html_info['external_favicon'] else 0\n",
        "\n",
        "            # External request URLs\n",
        "            features['RequestURL'] = 1 if html_info['external_scripts'] > 0 else 0\n",
        "\n",
        "            # External anchor URLs\n",
        "            features['AnchorURL'] = 1 if html_info['external_links'] > html_info['internal_links'] else 0\n",
        "\n",
        "            # Links in script tags\n",
        "            features['LinksInScriptTags'] = 1 if html_info['external_scripts'] > 2 else 0\n",
        "\n",
        "            # Server form handler\n",
        "            features['ServerFormHandler'] = 1 if html_info['form_action_external'] else 0\n",
        "\n",
        "            # Website forwarding\n",
        "            features['WebsiteForwarding'] = 1 if html_info['null_links'] > 3 else 0\n",
        "\n",
        "            # Status bar customization\n",
        "            features['StatusBarCust'] = 1 if html_info['status_bar_customized'] else 0\n",
        "\n",
        "            # Right-click disabled\n",
        "            features['DisableRightClick'] = 1 if html_info['has_right_click_disabled'] else 0\n",
        "\n",
        "            # Popup windows\n",
        "            features['UsingPopupWindow'] = 1 if html_info['has_popup'] else 0\n",
        "\n",
        "            # Iframe redirection\n",
        "            features['IframeRedirection'] = 1 if html_info['iframe_count'] > 0 else 0\n",
        "\n",
        "        except Exception as e:\n",
        "            # Default values for HTML features if analysis fails\n",
        "            set_default_html_features(features)\n",
        "    else:\n",
        "        # Default values for HTML features for non-HTTP URLs\n",
        "        set_default_html_features(features)\n",
        "\n",
        "    return features"
      ],
      "metadata": {
        "id": "Bi2j4gPzz_K3"
      },
      "execution_count": 17,
      "outputs": []
    },
    {
      "cell_type": "markdown",
      "source": [
        "### Helper function for default features"
      ],
      "metadata": {
        "id": "uRUpT8MGb66e"
      }
    },
    {
      "cell_type": "code",
      "source": [
        "def get_default_features():\n",
        "    \"\"\"Return default feature set with zeros\"\"\"\n",
        "    return {\n",
        "        'UsingIP': 0, 'LongURL': 0, 'ShortURL': 0, 'Symbol@': 0,\n",
        "        'Redirecting//': 0, 'PrefixSuffix-': 0, 'SubDomains': 0,\n",
        "        'uses_http': 0, 'DomainRegLen': 0, 'Favicon': 0, 'NonStdPort': 0,\n",
        "        'HTTPSDomainURL': 0, 'RequestURL': 0, 'AnchorURL': 0,\n",
        "        'LinksInScriptTags': 0, 'ServerFormHandler': 0, 'InfoEmail': 0,\n",
        "        'AbnormalURL': 0, 'WebsiteForwarding': 0, 'StatusBarCust': 0,\n",
        "        'DisableRightClick': 0, 'UsingPopupWindow': 0, 'IframeRedirection': 0,\n",
        "        'AgeofDomain': 0, 'DNSRecording': 0, 'WebsiteTraffic': 0,\n",
        "        'PageRank': 0, 'GoogleIndex': 0, 'LinksPointingToPage': 0,\n",
        "        'StatsReport': 0, 'DomainLength': 0, 'SuspiciousTLD': 0,\n",
        "        'PathDepth': 0, 'NumParams': 0\n",
        "    }"
      ],
      "metadata": {
        "id": "OUdY3Edyb3NL"
      },
      "execution_count": 18,
      "outputs": []
    },
    {
      "cell_type": "markdown",
      "source": [
        "### Helper function for setting default HTML features"
      ],
      "metadata": {
        "id": "zpgRAaB3b8wl"
      }
    },
    {
      "cell_type": "code",
      "source": [
        "def set_default_html_features(features):\n",
        "    \"\"\"Set default HTML features\"\"\"\n",
        "    features['Favicon'] = 0\n",
        "    features['RequestURL'] = 0\n",
        "    features['AnchorURL'] = 0\n",
        "    features['LinksInScriptTags'] = 0\n",
        "    features['ServerFormHandler'] = 0\n",
        "    features['WebsiteForwarding'] = 0\n",
        "    features['StatusBarCust'] = 0\n",
        "    features['DisableRightClick'] = 0\n",
        "    features['UsingPopupWindow'] = 0\n",
        "    features['IframeRedirection'] = 0"
      ],
      "metadata": {
        "id": "4xzdiMQ6b5Rt"
      },
      "execution_count": 19,
      "outputs": []
    },
    {
      "cell_type": "code",
      "source": [
        "log_event(\"TIMING\", \"Feature extraction functions defined\")"
      ],
      "metadata": {
        "colab": {
          "base_uri": "https://localhost:8080/"
        },
        "id": "W3ePBBpe2tpB",
        "outputId": "db6fc2a7-9b85-48d8-86ac-0e3db94ce19a"
      },
      "execution_count": 20,
      "outputs": [
        {
          "output_type": "stream",
          "name": "stdout",
          "text": [
            "[2025-04-29T12:33:25.406313] TIMING: Feature extraction functions defined\n"
          ]
        }
      ]
    },
    {
      "cell_type": "markdown",
      "source": [
        "## 3. Feature Extraction with Parallelization"
      ],
      "metadata": {
        "id": "lvys23vO0W6m"
      }
    },
    {
      "cell_type": "code",
      "source": [
        "log_event(\"FEATURE_EXTRACTION\", \"Starting comprehensive feature extraction for chatbot model\")"
      ],
      "metadata": {
        "colab": {
          "base_uri": "https://localhost:8080/"
        },
        "id": "wvyuJOl50d4E",
        "outputId": "9eb71f5f-09da-4994-9409-792bca3f78b1"
      },
      "execution_count": 21,
      "outputs": [
        {
          "output_type": "stream",
          "name": "stdout",
          "text": [
            "[2025-04-29T12:33:26.704346] FEATURE_EXTRACTION: Starting comprehensive feature extraction for chatbot model\n"
          ]
        }
      ]
    },
    {
      "cell_type": "markdown",
      "source": [
        "### Empty features DataFrame"
      ],
      "metadata": {
        "id": "4AUfhazAk1vl"
      }
    },
    {
      "cell_type": "code",
      "source": [
        "empty_features = get_default_features()"
      ],
      "metadata": {
        "id": "MTDvRyhGk4OL"
      },
      "execution_count": 22,
      "outputs": []
    },
    {
      "cell_type": "code",
      "source": [
        "batch_size = 50\n",
        "url_list = df['URL'].tolist()\n",
        "url_to_class = dict(zip(df['URL'], df['class']))\n",
        "\n",
        "# Initialize containers\n",
        "all_results = []\n",
        "all_classes = []"
      ],
      "metadata": {
        "id": "f3IpXYQ-fe85"
      },
      "execution_count": 23,
      "outputs": []
    },
    {
      "cell_type": "code",
      "source": [
        "log_event(\"FEATURE_EXTRACTION\", f\"Processing {len(url_list)} URLs in batches of {batch_size}\")"
      ],
      "metadata": {
        "colab": {
          "base_uri": "https://localhost:8080/"
        },
        "id": "IP-IwfPXfpxT",
        "outputId": "d5fb3110-5219-4905-ba22-32ad2a5fe17f"
      },
      "execution_count": 24,
      "outputs": [
        {
          "output_type": "stream",
          "name": "stdout",
          "text": [
            "[2025-04-29T12:33:42.656717] FEATURE_EXTRACTION: Processing 4000 URLs in batches of 50\n"
          ]
        }
      ]
    },
    {
      "cell_type": "code",
      "source": [
        "with ThreadPoolExecutor(max_workers=16) as executor:\n",
        "    for i in tqdm(range(0, len(url_list), batch_size)):\n",
        "        batch = url_list[i:i+batch_size]\n",
        "\n",
        "        # Keep track of the correct classes for this batch\n",
        "        batch_classes = [url_to_class[url] for url in batch]\n",
        "\n",
        "        future_to_url = {executor.submit(extract_url_features, url): url for url in batch}\n",
        "\n",
        "        batch_results = []\n",
        "        batch_processed_classes = []\n",
        "\n",
        "        for future in as_completed(future_to_url):\n",
        "            url = future_to_url[future]\n",
        "            try:\n",
        "                features = future.result()\n",
        "                batch_results.append(features)\n",
        "                batch_processed_classes.append(url_to_class[url])\n",
        "            except Exception as e:\n",
        "                log_event(\"ERROR\", f\"Failed to extract features for URL: {url[:50]}... - {str(e)}\")\n",
        "                batch_results.append(empty_features.copy())\n",
        "                batch_processed_classes.append(url_to_class[url])\n",
        "\n",
        "        all_results.extend(batch_results)\n",
        "        all_classes.extend(batch_processed_classes)"
      ],
      "metadata": {
        "colab": {
          "base_uri": "https://localhost:8080/",
          "height": 1000,
          "referenced_widgets": [
            "03356a4218c249a7904bd31b1a4859cc",
            "16ddd2e6a404401c8d9de2e91486da4b",
            "9c3bacfd2d8449119fdddccf9f2cc398",
            "885cf99b0624433fac81b4cf8326fdff",
            "9cb8c4754d0548c8855e7b2eb7b3be56",
            "51ff4e73281942b2add3ea7ff04443a4",
            "dad1444e99da40539ee39f85e64918fc",
            "362e9b92da374cbbb2217ff1b628c027",
            "d43cb32ee3f54e0e90e3161c832e54c6",
            "0d5ad857c50e4cf888e5d908ee12960a",
            "68c5d0f24bf84db7817917536c10de2d"
          ]
        },
        "id": "14lyHtWu0_Lw",
        "outputId": "fb627def-c746-45f1-e331-002fa7724822"
      },
      "execution_count": 25,
      "outputs": [
        {
          "output_type": "display_data",
          "data": {
            "text/plain": [
              "  0%|          | 0/80 [00:00<?, ?it/s]"
            ],
            "application/vnd.jupyter.widget-view+json": {
              "version_major": 2,
              "version_minor": 0,
              "model_id": "03356a4218c249a7904bd31b1a4859cc"
            }
          },
          "metadata": {}
        },
        {
          "output_type": "stream",
          "name": "stderr",
          "text": [
            "2025-04-29 12:33:45,515 - whois.whois - ERROR - Error trying to connect to socket: closing socket - [Errno -2] Name or service not known\n",
            "ERROR:whois.whois:Error trying to connect to socket: closing socket - [Errno -2] Name or service not known\n",
            "2025-04-29 12:33:46,736 - whois.whois - ERROR - Error trying to connect to socket: closing socket - [Errno -2] Name or service not known\n",
            "ERROR:whois.whois:Error trying to connect to socket: closing socket - [Errno -2] Name or service not known\n",
            "2025-04-29 12:34:18,217 - whois.whois - ERROR - Error trying to connect to socket: closing socket - [Errno -2] Name or service not known\n",
            "ERROR:whois.whois:Error trying to connect to socket: closing socket - [Errno -2] Name or service not known\n",
            "2025-04-29 12:34:18,219 - whois.whois - ERROR - Error trying to connect to socket: closing socket - [Errno -2] Name or service not known\n",
            "ERROR:whois.whois:Error trying to connect to socket: closing socket - [Errno -2] Name or service not known\n",
            "2025-04-29 12:34:18,219 - whois.whois - ERROR - Error trying to connect to socket: closing socket - [Errno -2] Name or service not known\n",
            "ERROR:whois.whois:Error trying to connect to socket: closing socket - [Errno -2] Name or service not known\n",
            "2025-04-29 12:34:19,230 - whois.whois - ERROR - Error trying to connect to socket: closing socket - [Errno -2] Name or service not known\n",
            "ERROR:whois.whois:Error trying to connect to socket: closing socket - [Errno -2] Name or service not known\n",
            "2025-04-29 12:34:28,682 - whois.whois - ERROR - Error trying to connect to socket: closing socket - timed out\n",
            "ERROR:whois.whois:Error trying to connect to socket: closing socket - timed out\n",
            "2025-04-29 12:34:29,870 - whois.whois - ERROR - Error trying to connect to socket: closing socket - [Errno -2] Name or service not known\n",
            "ERROR:whois.whois:Error trying to connect to socket: closing socket - [Errno -2] Name or service not known\n",
            "2025-04-29 12:34:29,974 - whois.whois - ERROR - Error trying to connect to socket: closing socket - [Errno -2] Name or service not known\n",
            "ERROR:whois.whois:Error trying to connect to socket: closing socket - [Errno -2] Name or service not known\n",
            "2025-04-29 12:34:30,098 - whois.whois - ERROR - Error trying to connect to socket: closing socket - [Errno -2] Name or service not known\n",
            "ERROR:whois.whois:Error trying to connect to socket: closing socket - [Errno -2] Name or service not known\n",
            "2025-04-29 12:34:30,162 - whois.whois - ERROR - Error trying to connect to socket: closing socket - [Errno -2] Name or service not known\n",
            "ERROR:whois.whois:Error trying to connect to socket: closing socket - [Errno -2] Name or service not known\n",
            "2025-04-29 12:34:30,241 - whois.whois - ERROR - Error trying to connect to socket: closing socket - [Errno -2] Name or service not known\n",
            "ERROR:whois.whois:Error trying to connect to socket: closing socket - [Errno -2] Name or service not known\n",
            "2025-04-29 12:34:41,847 - whois.whois - ERROR - Error trying to connect to socket: closing socket - [Errno 111] Connection refused\n",
            "ERROR:whois.whois:Error trying to connect to socket: closing socket - [Errno 111] Connection refused\n",
            "2025-04-29 12:34:42,234 - whois.whois - ERROR - Error trying to connect to socket: closing socket - [Errno -2] Name or service not known\n",
            "ERROR:whois.whois:Error trying to connect to socket: closing socket - [Errno -2] Name or service not known\n",
            "2025-04-29 12:34:42,581 - whois.whois - ERROR - Error trying to connect to socket: closing socket - [Errno 111] Connection refused\n",
            "ERROR:whois.whois:Error trying to connect to socket: closing socket - [Errno 111] Connection refused\n",
            "2025-04-29 12:34:43,363 - whois.whois - ERROR - Error trying to connect to socket: closing socket - [Errno -2] Name or service not known\n",
            "ERROR:whois.whois:Error trying to connect to socket: closing socket - [Errno -2] Name or service not known\n",
            "2025-04-29 12:34:51,643 - whois.whois - ERROR - Error trying to connect to socket: closing socket - timed out\n",
            "ERROR:whois.whois:Error trying to connect to socket: closing socket - timed out\n",
            "2025-04-29 12:34:52,215 - whois.whois - ERROR - Error trying to connect to socket: closing socket - timed out\n",
            "ERROR:whois.whois:Error trying to connect to socket: closing socket - timed out\n",
            "2025-04-29 12:34:53,328 - whois.whois - ERROR - Error trying to connect to socket: closing socket - timed out\n",
            "ERROR:whois.whois:Error trying to connect to socket: closing socket - timed out\n",
            "2025-04-29 12:34:54,212 - whois.whois - ERROR - Error trying to connect to socket: closing socket - timed out\n",
            "ERROR:whois.whois:Error trying to connect to socket: closing socket - timed out\n",
            "2025-04-29 12:35:02,125 - whois.whois - ERROR - Error trying to connect to socket: closing socket - [Errno -2] Name or service not known\n",
            "ERROR:whois.whois:Error trying to connect to socket: closing socket - [Errno -2] Name or service not known\n",
            "2025-04-29 12:35:02,253 - whois.whois - ERROR - Error trying to connect to socket: closing socket - [Errno 111] Connection refused\n",
            "ERROR:whois.whois:Error trying to connect to socket: closing socket - [Errno 111] Connection refused\n",
            "2025-04-29 12:35:12,177 - whois.whois - ERROR - Error trying to connect to socket: closing socket - timed out\n",
            "ERROR:whois.whois:Error trying to connect to socket: closing socket - timed out\n",
            "2025-04-29 12:38:07,848 - whois.whois - ERROR - Error trying to connect to socket: closing socket - [Errno -2] Name or service not known\n",
            "ERROR:whois.whois:Error trying to connect to socket: closing socket - [Errno -2] Name or service not known\n",
            "2025-04-29 12:38:08,141 - whois.whois - ERROR - Error trying to connect to socket: closing socket - [Errno -2] Name or service not known\n",
            "ERROR:whois.whois:Error trying to connect to socket: closing socket - [Errno -2] Name or service not known\n",
            "2025-04-29 12:38:08,165 - whois.whois - ERROR - Error trying to connect to socket: closing socket - [Errno -2] Name or service not known\n",
            "ERROR:whois.whois:Error trying to connect to socket: closing socket - [Errno -2] Name or service not known\n",
            "2025-04-29 12:38:08,451 - whois.whois - ERROR - Error trying to connect to socket: closing socket - [Errno -2] Name or service not known\n",
            "ERROR:whois.whois:Error trying to connect to socket: closing socket - [Errno -2] Name or service not known\n",
            "2025-04-29 12:38:11,943 - whois.whois - ERROR - Error trying to connect to socket: closing socket - [Errno -2] Name or service not known\n",
            "ERROR:whois.whois:Error trying to connect to socket: closing socket - [Errno -2] Name or service not known\n",
            "2025-04-29 12:38:19,820 - whois.whois - ERROR - Error trying to connect to socket: closing socket - [Errno -2] Name or service not known\n",
            "ERROR:whois.whois:Error trying to connect to socket: closing socket - [Errno -2] Name or service not known\n",
            "2025-04-29 12:38:25,938 - whois.whois - ERROR - Error trying to connect to socket: closing socket - [Errno -2] Name or service not known\n",
            "ERROR:whois.whois:Error trying to connect to socket: closing socket - [Errno -2] Name or service not known\n",
            "2025-04-29 12:38:29,391 - whois.whois - ERROR - Error trying to connect to socket: closing socket - [Errno -2] Name or service not known\n",
            "ERROR:whois.whois:Error trying to connect to socket: closing socket - [Errno -2] Name or service not known\n",
            "2025-04-29 12:39:20,680 - whois.whois - ERROR - Error trying to connect to socket: closing socket - [Errno 104] Connection reset by peer\n",
            "ERROR:whois.whois:Error trying to connect to socket: closing socket - [Errno 104] Connection reset by peer\n",
            "2025-04-29 12:39:44,994 - whois.whois - ERROR - Error trying to connect to socket: closing socket - [Errno 111] Connection refused\n",
            "ERROR:whois.whois:Error trying to connect to socket: closing socket - [Errno 111] Connection refused\n",
            "2025-04-29 12:40:08,438 - whois.whois - ERROR - Error trying to connect to socket: closing socket - [Errno 111] Connection refused\n",
            "ERROR:whois.whois:Error trying to connect to socket: closing socket - [Errno 111] Connection refused\n",
            "2025-04-29 12:44:12,418 - whois.whois - ERROR - Error trying to connect to socket: closing socket - [Errno -2] Name or service not known\n",
            "ERROR:whois.whois:Error trying to connect to socket: closing socket - [Errno -2] Name or service not known\n",
            "2025-04-29 12:52:19,942 - whois.whois - ERROR - Error trying to connect to socket: closing socket - timed out\n",
            "ERROR:whois.whois:Error trying to connect to socket: closing socket - timed out\n",
            "2025-04-29 12:53:30,072 - whois.whois - ERROR - Error trying to connect to socket: closing socket - [Errno -2] Name or service not known\n",
            "ERROR:whois.whois:Error trying to connect to socket: closing socket - [Errno -2] Name or service not known\n"
          ]
        }
      ]
    },
    {
      "cell_type": "markdown",
      "source": [
        "### Create DataFrame from results"
      ],
      "metadata": {
        "id": "KH8RynguYxw9"
      }
    },
    {
      "cell_type": "code",
      "source": [
        "features_df = pd.DataFrame(all_results)\n",
        "features_df['is_phishing'] = all_classes"
      ],
      "metadata": {
        "id": "Rmgtx6W4YzZk"
      },
      "execution_count": 26,
      "outputs": []
    },
    {
      "cell_type": "markdown",
      "source": [
        "### Handle any potential numeric issues"
      ],
      "metadata": {
        "id": "324FCgO3Yzyn"
      }
    },
    {
      "cell_type": "code",
      "source": [
        "features_df = features_df.replace([np.inf, -np.inf], np.nan)\n",
        "features_df = features_df.fillna(0)"
      ],
      "metadata": {
        "id": "1GMWuSpeY1rf"
      },
      "execution_count": 27,
      "outputs": []
    },
    {
      "cell_type": "markdown",
      "source": [
        "### Save processed features"
      ],
      "metadata": {
        "id": "qlkyasF7Y2AE"
      }
    },
    {
      "cell_type": "code",
      "source": [
        "features_df.to_csv(PROCESSED_DATA_PATH, index=False)"
      ],
      "metadata": {
        "id": "eFtSPMwbY372"
      },
      "execution_count": 28,
      "outputs": []
    },
    {
      "cell_type": "code",
      "source": [
        "feature_extraction_time = time.time() - start_time\n",
        "log_event(\"TIMING\", f\"Feature extraction completed in {feature_extraction_time:.2f} seconds\",\n",
        "          {\"num_features\": features_df.shape[1] - 1})"
      ],
      "metadata": {
        "colab": {
          "base_uri": "https://localhost:8080/"
        },
        "id": "ZV0WDgmM388Q",
        "outputId": "d4f5af33-abc7-453c-fc3b-d1b09776b063"
      },
      "execution_count": 29,
      "outputs": [
        {
          "output_type": "stream",
          "name": "stdout",
          "text": [
            "[2025-04-29T12:59:18.307302] TIMING: Feature extraction completed in 1574.29 seconds\n"
          ]
        }
      ]
    },
    {
      "cell_type": "markdown",
      "source": [
        "## 4. Feature Analysis"
      ],
      "metadata": {
        "id": "iM17UIa7Nm-c"
      }
    },
    {
      "cell_type": "code",
      "source": [
        "print(\"\\nExtracted Features Summary:\")\n",
        "print(features_df.describe())"
      ],
      "metadata": {
        "colab": {
          "base_uri": "https://localhost:8080/"
        },
        "id": "2-ojwXgRNpAs",
        "outputId": "4e4f459d-4c92-4662-db7f-3508cf4da4f4"
      },
      "execution_count": 30,
      "outputs": [
        {
          "output_type": "stream",
          "name": "stdout",
          "text": [
            "\n",
            "Extracted Features Summary:\n",
            "           UsingIP      LongURL    ShortURL     Symbol@  Redirecting//  \\\n",
            "count  4000.000000  4000.000000  4000.00000  4000.00000         4000.0   \n",
            "mean      0.003000     0.115250     0.08225     0.00375            0.0   \n",
            "std       0.054697     0.319363     0.27478     0.06113            0.0   \n",
            "min       0.000000     0.000000     0.00000     0.00000            0.0   \n",
            "25%       0.000000     0.000000     0.00000     0.00000            0.0   \n",
            "50%       0.000000     0.000000     0.00000     0.00000            0.0   \n",
            "75%       0.000000     0.000000     0.00000     0.00000            0.0   \n",
            "max       1.000000     1.000000     1.00000     1.00000            0.0   \n",
            "\n",
            "       PrefixSuffix-   SubDomains    uses_http  DomainLength  SuspiciousTLD  \\\n",
            "count    4000.000000  4000.000000  4000.000000   4000.000000    4000.000000   \n",
            "mean        0.472250     0.509000     0.468750      0.430750       0.007750   \n",
            "std         0.499292     0.591191     0.499085      0.495243       0.087703   \n",
            "min         0.000000     0.000000     0.000000      0.000000       0.000000   \n",
            "25%         0.000000     0.000000     0.000000      0.000000       0.000000   \n",
            "50%         0.000000     0.000000     0.000000      0.000000       0.000000   \n",
            "75%         1.000000     1.000000     1.000000      1.000000       0.000000   \n",
            "max         1.000000     6.000000     1.000000      1.000000       1.000000   \n",
            "\n",
            "       ...   RequestURL    AnchorURL  LinksInScriptTags  ServerFormHandler  \\\n",
            "count  ...  4000.000000  4000.000000        4000.000000        4000.000000   \n",
            "mean   ...     0.174750     0.009500           0.090250           0.012500   \n",
            "std    ...     0.379801     0.097016           0.286575           0.111116   \n",
            "min    ...     0.000000     0.000000           0.000000           0.000000   \n",
            "25%    ...     0.000000     0.000000           0.000000           0.000000   \n",
            "50%    ...     0.000000     0.000000           0.000000           0.000000   \n",
            "75%    ...     0.000000     0.000000           0.000000           0.000000   \n",
            "max    ...     1.000000     1.000000           1.000000           1.000000   \n",
            "\n",
            "       WebsiteForwarding  StatusBarCust  DisableRightClick  UsingPopupWindow  \\\n",
            "count         4000.00000         4000.0             4000.0       4000.000000   \n",
            "mean             0.04475            0.0                0.0          0.011250   \n",
            "std              0.20678            0.0                0.0          0.105481   \n",
            "min              0.00000            0.0                0.0          0.000000   \n",
            "25%              0.00000            0.0                0.0          0.000000   \n",
            "50%              0.00000            0.0                0.0          0.000000   \n",
            "75%              0.00000            0.0                0.0          0.000000   \n",
            "max              1.00000            0.0                0.0          1.000000   \n",
            "\n",
            "       IframeRedirection  is_phishing  \n",
            "count         4000.00000  4000.000000  \n",
            "mean             0.10725     0.500000  \n",
            "std              0.30947     0.500063  \n",
            "min              0.00000     0.000000  \n",
            "25%              0.00000     0.000000  \n",
            "50%              0.00000     0.500000  \n",
            "75%              0.00000     1.000000  \n",
            "max              1.00000     1.000000  \n",
            "\n",
            "[8 rows x 35 columns]\n"
          ]
        }
      ]
    },
    {
      "cell_type": "markdown",
      "source": [
        "### Dsiplay correlation with target"
      ],
      "metadata": {
        "id": "OgIVrqcA4zaM"
      }
    },
    {
      "cell_type": "code",
      "source": [
        "correlations = features_df.corr()['is_phishing'].sort_values(ascending=False)\n",
        "print(\"\\nTop 10 Features by Correlation with Target:\")\n",
        "print(correlations.head(10))\n",
        "print(\"\\nBottom 10 Features by Correlation with Target:\")\n",
        "print(correlations.tail(10))"
      ],
      "metadata": {
        "colab": {
          "base_uri": "https://localhost:8080/"
        },
        "id": "XKGjgFTI42Cq",
        "outputId": "4b3e2677-5e6e-4dc5-eb2d-6b3ce4a63bdf"
      },
      "execution_count": 31,
      "outputs": [
        {
          "output_type": "stream",
          "name": "stdout",
          "text": [
            "\n",
            "Top 10 Features by Correlation with Target:\n",
            "is_phishing      1.000000\n",
            "uses_http        0.939336\n",
            "PrefixSuffix-    0.913909\n",
            "DomainLength     0.810309\n",
            "AbnormalURL      0.546143\n",
            "ShortURL         0.084624\n",
            "SuspiciousTLD    0.076974\n",
            "InfoEmail        0.071920\n",
            "NonStdPort       0.050063\n",
            "UsingIP          0.045712\n",
            "Name: is_phishing, dtype: float64\n",
            "\n",
            "Bottom 10 Features by Correlation with Target:\n",
            "LinksPointingToPage   -0.771532\n",
            "StatsReport           -0.775835\n",
            "PageRank              -0.901595\n",
            "DNSRecording          -0.904120\n",
            "GoogleIndex           -0.904120\n",
            "WebsiteTraffic        -0.907372\n",
            "Redirecting//               NaN\n",
            "HTTPSDomainURL              NaN\n",
            "StatusBarCust               NaN\n",
            "DisableRightClick           NaN\n",
            "Name: is_phishing, dtype: float64\n"
          ]
        }
      ]
    },
    {
      "cell_type": "markdown",
      "source": [
        "### Create correlation heatmap"
      ],
      "metadata": {
        "id": "FkW3-yc4Nr6-"
      }
    },
    {
      "cell_type": "code",
      "source": [
        "plt.figure(figsize=(14, 12))\n",
        "sns.heatmap(features_df.corr(), annot=False, cmap='coolwarm', fmt='.2f')\n",
        "plt.title('Feature Correlation Matrix')\n",
        "plt.tight_layout()\n",
        "plt.show()"
      ],
      "metadata": {
        "colab": {
          "base_uri": "https://localhost:8080/",
          "height": 1000
        },
        "id": "y2Eo4evuNu-e",
        "outputId": "638145f8-59a7-4be9-9469-eb95c54138cf"
      },
      "execution_count": 32,
      "outputs": [
        {
          "output_type": "display_data",
          "data": {
            "text/plain": [
              "<Figure size 1400x1200 with 2 Axes>"
            ],
            "image/png": "[encoded data removed]"
          },
          "metadata": {}
        }
      ]
    },
    {
      "cell_type": "markdown",
      "source": [
        "## 5. Model Training"
      ],
      "metadata": {
        "id": "ZW0F0IA1NxKH"
      }
    },
    {
      "cell_type": "code",
      "source": [
        "log_event(\"MODEL_TRAINING\", \"Starting model training with Random Forest\")\n",
        "start_time = time.time()"
      ],
      "metadata": {
        "colab": {
          "base_uri": "https://localhost:8080/"
        },
        "id": "4K4H7BF1Nzj0",
        "outputId": "d4b2e7b1-f441-44f7-9e03-6e211ab70681"
      },
      "execution_count": 33,
      "outputs": [
        {
          "output_type": "stream",
          "name": "stdout",
          "text": [
            "[2025-04-29T12:59:31.934461] MODEL_TRAINING: Starting model training with Random Forest\n"
          ]
        }
      ]
    },
    {
      "cell_type": "markdown",
      "source": [
        "### Prepare features and target"
      ],
      "metadata": {
        "id": "EwyozjhVN1cQ"
      }
    },
    {
      "cell_type": "code",
      "source": [
        "X = features_df.drop('is_phishing', axis=1)\n",
        "y = features_df['is_phishing']"
      ],
      "metadata": {
        "id": "aysxmlVFN3UT"
      },
      "execution_count": 34,
      "outputs": []
    },
    {
      "cell_type": "markdown",
      "source": [
        "### Split data (80% train, 20% test)"
      ],
      "metadata": {
        "id": "Wrx512RRN4vn"
      }
    },
    {
      "cell_type": "code",
      "source": [
        "X_train, X_test, y_train, y_test = train_test_split(X, y, test_size=0.2, random_state=42, stratify=y)"
      ],
      "metadata": {
        "id": "vUM-wNYFN61O"
      },
      "execution_count": 35,
      "outputs": []
    },
    {
      "cell_type": "markdown",
      "source": [
        "### Log the data split information"
      ],
      "metadata": {
        "id": "uSfDaOybN_Gi"
      }
    },
    {
      "cell_type": "code",
      "source": [
        "log_event(\"DATA_SPLIT\", \"Data split into training and testing sets\",\n",
        "          {\"train_samples\": X_train.shape[0], \"test_samples\": X_test.shape[0]})"
      ],
      "metadata": {
        "colab": {
          "base_uri": "https://localhost:8080/"
        },
        "id": "_-o4LYdXOBbc",
        "outputId": "3750b65c-e0ff-4c4e-e8f5-cc3e98101023"
      },
      "execution_count": 36,
      "outputs": [
        {
          "output_type": "stream",
          "name": "stdout",
          "text": [
            "[2025-04-29T12:59:36.187984] DATA_SPLIT: Data split into training and testing sets\n"
          ]
        }
      ]
    },
    {
      "cell_type": "markdown",
      "source": [
        "### Feature scaling"
      ],
      "metadata": {
        "id": "ql6jtolROECQ"
      }
    },
    {
      "cell_type": "code",
      "source": [
        "scaler = StandardScaler()\n",
        "X_train_scaled = scaler.fit_transform(X_train)\n",
        "X_test_scaled = scaler.transform(X_test)"
      ],
      "metadata": {
        "id": "tZMryOTnOFzZ"
      },
      "execution_count": 37,
      "outputs": []
    },
    {
      "cell_type": "markdown",
      "source": [
        "### Compute class weights for imbalanced classes"
      ],
      "metadata": {
        "id": "uI0csAfgKPT-"
      }
    },
    {
      "cell_type": "code",
      "source": [
        "class_weights = compute_class_weight('balanced', classes=np.unique(y_train), y=y_train)\n",
        "sample_weights = np.ones(len(y_train))\n",
        "for idx, label in enumerate(np.unique(y_train)):\n",
        "    sample_weights[y_train == label] = class_weights[idx]"
      ],
      "metadata": {
        "id": "IEtDXukxKRf-"
      },
      "execution_count": 38,
      "outputs": []
    },
    {
      "cell_type": "markdown",
      "source": [
        "### Train Random Forest Model"
      ],
      "metadata": {
        "id": "Hd3H2_diOHWq"
      }
    },
    {
      "cell_type": "code",
      "source": [
        "rf_model = RandomForestClassifier(\n",
        "    n_estimators=200,\n",
        "    max_depth=10,\n",
        "    min_samples_split=15,\n",
        "    min_samples_leaf=5,\n",
        "    max_features='sqrt',\n",
        "    n_jobs=-1,\n",
        "    random_state=42,\n",
        "    class_weight='balanced'\n",
        ")"
      ],
      "metadata": {
        "id": "-bm4bE3vOJbS"
      },
      "execution_count": 39,
      "outputs": []
    },
    {
      "cell_type": "code",
      "source": [
        "rf_model.fit(X_train_scaled, y_train)"
      ],
      "metadata": {
        "colab": {
          "base_uri": "https://localhost:8080/",
          "height": 115
        },
        "id": "LRUmw71WOOd4",
        "outputId": "9b2dd0c7-2ab9-481e-ca35-7f400189b4d0"
      },
      "execution_count": 40,
      "outputs": [
        {
          "output_type": "execute_result",
          "data": {
            "text/plain": [
              "RandomForestClassifier(class_weight='balanced', max_depth=10,\n",
              "                       min_samples_leaf=5, min_samples_split=15,\n",
              "                       n_estimators=200, n_jobs=-1, random_state=42)"
            ],
            "text/html": [
              "<style>#sk-container-id-1 {\n",
              "  /* Definition of color scheme common for light and dark mode */\n",
              "  --sklearn-color-text: #000;\n",
              "  --sklearn-color-text-muted: #666;\n",
              "  --sklearn-color-line: gray;\n",
              "  /* Definition of color scheme for unfitted estimators */\n",
              "  --sklearn-color-unfitted-level-0: #fff5e6;\n",
              "  --sklearn-color-unfitted-level-1: #f6e4d2;\n",
              "  --sklearn-color-unfitted-level-2: #ffe0b3;\n",
              "  --sklearn-color-unfitted-level-3: chocolate;\n",
              "  /* Definition of color scheme for fitted estimators */\n",
              "  --sklearn-color-fitted-level-0: #f0f8ff;\n",
              "  --sklearn-color-fitted-level-1: #d4ebff;\n",
              "  --sklearn-color-fitted-level-2: #b3dbfd;\n",
              "  --sklearn-color-fitted-level-3: cornflowerblue;\n",
              "\n",
              "  /* Specific color for light theme */\n",
              "  --sklearn-color-text-on-default-background: var(--sg-text-color, var(--theme-code-foreground, var(--jp-content-font-color1, black)));\n",
              "  --sklearn-color-background: var(--sg-background-color, var(--theme-background, var(--jp-layout-color0, white)));\n",
              "  --sklearn-color-border-box: var(--sg-text-color, var(--theme-code-foreground, var(--jp-content-font-color1, black)));\n",
              "  --sklearn-color-icon: #696969;\n",
              "\n",
              "  @media (prefers-color-scheme: dark) {\n",
              "    /* Redefinition of color scheme for dark theme */\n",
              "    --sklearn-color-text-on-default-background: var(--sg-text-color, var(--theme-code-foreground, var(--jp-content-font-color1, white)));\n",
              "    --sklearn-color-background: var(--sg-background-color, var(--theme-background, var(--jp-layout-color0, #111)));\n",
              "    --sklearn-color-border-box: var(--sg-text-color, var(--theme-code-foreground, var(--jp-content-font-color1, white)));\n",
              "    --sklearn-color-icon: #878787;\n",
              "  }\n",
              "}\n",
              "\n",
              "#sk-container-id-1 {\n",
              "  color: var(--sklearn-color-text);\n",
              "}\n",
              "\n",
              "#sk-container-id-1 pre {\n",
              "  padding: 0;\n",
              "}\n",
              "\n",
              "#sk-container-id-1 input.sk-hidden--visually {\n",
              "  border: 0;\n",
              "  clip: rect(1px 1px 1px 1px);\n",
              "  clip: rect(1px, 1px, 1px, 1px);\n",
              "  height: 1px;\n",
              "  margin: -1px;\n",
              "  overflow: hidden;\n",
              "  padding: 0;\n",
              "  position: absolute;\n",
              "  width: 1px;\n",
              "}\n",
              "\n",
              "#sk-container-id-1 div.sk-dashed-wrapped {\n",
              "  border: 1px dashed var(--sklearn-color-line);\n",
              "  margin: 0 0.4em 0.5em 0.4em;\n",
              "  box-sizing: border-box;\n",
              "  padding-bottom: 0.4em;\n",
              "  background-color: var(--sklearn-color-background);\n",
              "}\n",
              "\n",
              "#sk-container-id-1 div.sk-container {\n",
              "  /* jupyter's `normalize.less` sets `[hidden] { display: none; }`\n",
              "     but bootstrap.min.css set `[hidden] { display: none !important; }`\n",
              "     so we also need the `!important` here to be able to override the\n",
              "     default hidden behavior on the sphinx rendered scikit-learn.org.\n",
              "     See: https://github.com/scikit-learn/scikit-learn/issues/21755 */\n",
              "  display: inline-block !important;\n",
              "  position: relative;\n",
              "}\n",
              "\n",
              "#sk-container-id-1 div.sk-text-repr-fallback {\n",
              "  display: none;\n",
              "}\n",
              "\n",
              "div.sk-parallel-item,\n",
              "div.sk-serial,\n",
              "div.sk-item {\n",
              "  /* draw centered vertical line to link estimators */\n",
              "  background-image: linear-gradient(var(--sklearn-color-text-on-default-background), var(--sklearn-color-text-on-default-background));\n",
              "  background-size: 2px 100%;\n",
              "  background-repeat: no-repeat;\n",
              "  background-position: center center;\n",
              "}\n",
              "\n",
              "/* Parallel-specific style estimator block */\n",
              "\n",
              "#sk-container-id-1 div.sk-parallel-item::after {\n",
              "  content: \"\";\n",
              "  width: 100%;\n",
              "  border-bottom: 2px solid var(--sklearn-color-text-on-default-background);\n",
              "  flex-grow: 1;\n",
              "}\n",
              "\n",
              "#sk-container-id-1 div.sk-parallel {\n",
              "  display: flex;\n",
              "  align-items: stretch;\n",
              "  justify-content: center;\n",
              "  background-color: var(--sklearn-color-background);\n",
              "  position: relative;\n",
              "}\n",
              "\n",
              "#sk-container-id-1 div.sk-parallel-item {\n",
              "  display: flex;\n",
              "  flex-direction: column;\n",
              "}\n",
              "\n",
              "#sk-container-id-1 div.sk-parallel-item:first-child::after {\n",
              "  align-self: flex-end;\n",
              "  width: 50%;\n",
              "}\n",
              "\n",
              "#sk-container-id-1 div.sk-parallel-item:last-child::after {\n",
              "  align-self: flex-start;\n",
              "  width: 50%;\n",
              "}\n",
              "\n",
              "#sk-container-id-1 div.sk-parallel-item:only-child::after {\n",
              "  width: 0;\n",
              "}\n",
              "\n",
              "/* Serial-specific style estimator block */\n",
              "\n",
              "#sk-container-id-1 div.sk-serial {\n",
              "  display: flex;\n",
              "  flex-direction: column;\n",
              "  align-items: center;\n",
              "  background-color: var(--sklearn-color-background);\n",
              "  padding-right: 1em;\n",
              "  padding-left: 1em;\n",
              "}\n",
              "\n",
              "\n",
              "/* Toggleable style: style used for estimator/Pipeline/ColumnTransformer box that is\n",
              "clickable and can be expanded/collapsed.\n",
              "- Pipeline and ColumnTransformer use this feature and define the default style\n",
              "- Estimators will overwrite some part of the style using the `sk-estimator` class\n",
              "*/\n",
              "\n",
              "/* Pipeline and ColumnTransformer style (default) */\n",
              "\n",
              "#sk-container-id-1 div.sk-toggleable {\n",
              "  /* Default theme specific background. It is overwritten whether we have a\n",
              "  specific estimator or a Pipeline/ColumnTransformer */\n",
              "  background-color: var(--sklearn-color-background);\n",
              "}\n",
              "\n",
              "/* Toggleable label */\n",
              "#sk-container-id-1 label.sk-toggleable__label {\n",
              "  cursor: pointer;\n",
              "  display: flex;\n",
              "  width: 100%;\n",
              "  margin-bottom: 0;\n",
              "  padding: 0.5em;\n",
              "  box-sizing: border-box;\n",
              "  text-align: center;\n",
              "  align-items: start;\n",
              "  justify-content: space-between;\n",
              "  gap: 0.5em;\n",
              "}\n",
              "\n",
              "#sk-container-id-1 label.sk-toggleable__label .caption {\n",
              "  font-size: 0.6rem;\n",
              "  font-weight: lighter;\n",
              "  color: var(--sklearn-color-text-muted);\n",
              "}\n",
              "\n",
              "#sk-container-id-1 label.sk-toggleable__label-arrow:before {\n",
              "  /* Arrow on the left of the label */\n",
              "  content: \"▸\";\n",
              "  float: left;\n",
              "  margin-right: 0.25em;\n",
              "  color: var(--sklearn-color-icon);\n",
              "}\n",
              "\n",
              "#sk-container-id-1 label.sk-toggleable__label-arrow:hover:before {\n",
              "  color: var(--sklearn-color-text);\n",
              "}\n",
              "\n",
              "/* Toggleable content - dropdown */\n",
              "\n",
              "#sk-container-id-1 div.sk-toggleable__content {\n",
              "  max-height: 0;\n",
              "  max-width: 0;\n",
              "  overflow: hidden;\n",
              "  text-align: left;\n",
              "  /* unfitted */\n",
              "  background-color: var(--sklearn-color-unfitted-level-0);\n",
              "}\n",
              "\n",
              "#sk-container-id-1 div.sk-toggleable__content.fitted {\n",
              "  /* fitted */\n",
              "  background-color: var(--sklearn-color-fitted-level-0);\n",
              "}\n",
              "\n",
              "#sk-container-id-1 div.sk-toggleable__content pre {\n",
              "  margin: 0.2em;\n",
              "  border-radius: 0.25em;\n",
              "  color: var(--sklearn-color-text);\n",
              "  /* unfitted */\n",
              "  background-color: var(--sklearn-color-unfitted-level-0);\n",
              "}\n",
              "\n",
              "#sk-container-id-1 div.sk-toggleable__content.fitted pre {\n",
              "  /* unfitted */\n",
              "  background-color: var(--sklearn-color-fitted-level-0);\n",
              "}\n",
              "\n",
              "#sk-container-id-1 input.sk-toggleable__control:checked~div.sk-toggleable__content {\n",
              "  /* Expand drop-down */\n",
              "  max-height: 200px;\n",
              "  max-width: 100%;\n",
              "  overflow: auto;\n",
              "}\n",
              "\n",
              "#sk-container-id-1 input.sk-toggleable__control:checked~label.sk-toggleable__label-arrow:before {\n",
              "  content: \"▾\";\n",
              "}\n",
              "\n",
              "/* Pipeline/ColumnTransformer-specific style */\n",
              "\n",
              "#sk-container-id-1 div.sk-label input.sk-toggleable__control:checked~label.sk-toggleable__label {\n",
              "  color: var(--sklearn-color-text);\n",
              "  background-color: var(--sklearn-color-unfitted-level-2);\n",
              "}\n",
              "\n",
              "#sk-container-id-1 div.sk-label.fitted input.sk-toggleable__control:checked~label.sk-toggleable__label {\n",
              "  background-color: var(--sklearn-color-fitted-level-2);\n",
              "}\n",
              "\n",
              "/* Estimator-specific style */\n",
              "\n",
              "/* Colorize estimator box */\n",
              "#sk-container-id-1 div.sk-estimator input.sk-toggleable__control:checked~label.sk-toggleable__label {\n",
              "  /* unfitted */\n",
              "  background-color: var(--sklearn-color-unfitted-level-2);\n",
              "}\n",
              "\n",
              "#sk-container-id-1 div.sk-estimator.fitted input.sk-toggleable__control:checked~label.sk-toggleable__label {\n",
              "  /* fitted */\n",
              "  background-color: var(--sklearn-color-fitted-level-2);\n",
              "}\n",
              "\n",
              "#sk-container-id-1 div.sk-label label.sk-toggleable__label,\n",
              "#sk-container-id-1 div.sk-label label {\n",
              "  /* The background is the default theme color */\n",
              "  color: var(--sklearn-color-text-on-default-background);\n",
              "}\n",
              "\n",
              "/* On hover, darken the color of the background */\n",
              "#sk-container-id-1 div.sk-label:hover label.sk-toggleable__label {\n",
              "  color: var(--sklearn-color-text);\n",
              "  background-color: var(--sklearn-color-unfitted-level-2);\n",
              "}\n",
              "\n",
              "/* Label box, darken color on hover, fitted */\n",
              "#sk-container-id-1 div.sk-label.fitted:hover label.sk-toggleable__label.fitted {\n",
              "  color: var(--sklearn-color-text);\n",
              "  background-color: var(--sklearn-color-fitted-level-2);\n",
              "}\n",
              "\n",
              "/* Estimator label */\n",
              "\n",
              "#sk-container-id-1 div.sk-label label {\n",
              "  font-family: monospace;\n",
              "  font-weight: bold;\n",
              "  display: inline-block;\n",
              "  line-height: 1.2em;\n",
              "}\n",
              "\n",
              "#sk-container-id-1 div.sk-label-container {\n",
              "  text-align: center;\n",
              "}\n",
              "\n",
              "/* Estimator-specific */\n",
              "#sk-container-id-1 div.sk-estimator {\n",
              "  font-family: monospace;\n",
              "  border: 1px dotted var(--sklearn-color-border-box);\n",
              "  border-radius: 0.25em;\n",
              "  box-sizing: border-box;\n",
              "  margin-bottom: 0.5em;\n",
              "  /* unfitted */\n",
              "  background-color: var(--sklearn-color-unfitted-level-0);\n",
              "}\n",
              "\n",
              "#sk-container-id-1 div.sk-estimator.fitted {\n",
              "  /* fitted */\n",
              "  background-color: var(--sklearn-color-fitted-level-0);\n",
              "}\n",
              "\n",
              "/* on hover */\n",
              "#sk-container-id-1 div.sk-estimator:hover {\n",
              "  /* unfitted */\n",
              "  background-color: var(--sklearn-color-unfitted-level-2);\n",
              "}\n",
              "\n",
              "#sk-container-id-1 div.sk-estimator.fitted:hover {\n",
              "  /* fitted */\n",
              "  background-color: var(--sklearn-color-fitted-level-2);\n",
              "}\n",
              "\n",
              "/* Specification for estimator info (e.g. \"i\" and \"?\") */\n",
              "\n",
              "/* Common style for \"i\" and \"?\" */\n",
              "\n",
              ".sk-estimator-doc-link,\n",
              "a:link.sk-estimator-doc-link,\n",
              "a:visited.sk-estimator-doc-link {\n",
              "  float: right;\n",
              "  font-size: smaller;\n",
              "  line-height: 1em;\n",
              "  font-family: monospace;\n",
              "  background-color: var(--sklearn-color-background);\n",
              "  border-radius: 1em;\n",
              "  height: 1em;\n",
              "  width: 1em;\n",
              "  text-decoration: none !important;\n",
              "  margin-left: 0.5em;\n",
              "  text-align: center;\n",
              "  /* unfitted */\n",
              "  border: var(--sklearn-color-unfitted-level-1) 1pt solid;\n",
              "  color: var(--sklearn-color-unfitted-level-1);\n",
              "}\n",
              "\n",
              ".sk-estimator-doc-link.fitted,\n",
              "a:link.sk-estimator-doc-link.fitted,\n",
              "a:visited.sk-estimator-doc-link.fitted {\n",
              "  /* fitted */\n",
              "  border: var(--sklearn-color-fitted-level-1) 1pt solid;\n",
              "  color: var(--sklearn-color-fitted-level-1);\n",
              "}\n",
              "\n",
              "/* On hover */\n",
              "div.sk-estimator:hover .sk-estimator-doc-link:hover,\n",
              ".sk-estimator-doc-link:hover,\n",
              "div.sk-label-container:hover .sk-estimator-doc-link:hover,\n",
              ".sk-estimator-doc-link:hover {\n",
              "  /* unfitted */\n",
              "  background-color: var(--sklearn-color-unfitted-level-3);\n",
              "  color: var(--sklearn-color-background);\n",
              "  text-decoration: none;\n",
              "}\n",
              "\n",
              "div.sk-estimator.fitted:hover .sk-estimator-doc-link.fitted:hover,\n",
              ".sk-estimator-doc-link.fitted:hover,\n",
              "div.sk-label-container:hover .sk-estimator-doc-link.fitted:hover,\n",
              ".sk-estimator-doc-link.fitted:hover {\n",
              "  /* fitted */\n",
              "  background-color: var(--sklearn-color-fitted-level-3);\n",
              "  color: var(--sklearn-color-background);\n",
              "  text-decoration: none;\n",
              "}\n",
              "\n",
              "/* Span, style for the box shown on hovering the info icon */\n",
              ".sk-estimator-doc-link span {\n",
              "  display: none;\n",
              "  z-index: 9999;\n",
              "  position: relative;\n",
              "  font-weight: normal;\n",
              "  right: .2ex;\n",
              "  padding: .5ex;\n",
              "  margin: .5ex;\n",
              "  width: min-content;\n",
              "  min-width: 20ex;\n",
              "  max-width: 50ex;\n",
              "  color: var(--sklearn-color-text);\n",
              "  box-shadow: 2pt 2pt 4pt #999;\n",
              "  /* unfitted */\n",
              "  background: var(--sklearn-color-unfitted-level-0);\n",
              "  border: .5pt solid var(--sklearn-color-unfitted-level-3);\n",
              "}\n",
              "\n",
              ".sk-estimator-doc-link.fitted span {\n",
              "  /* fitted */\n",
              "  background: var(--sklearn-color-fitted-level-0);\n",
              "  border: var(--sklearn-color-fitted-level-3);\n",
              "}\n",
              "\n",
              ".sk-estimator-doc-link:hover span {\n",
              "  display: block;\n",
              "}\n",
              "\n",
              "/* \"?\"-specific style due to the `<a>` HTML tag */\n",
              "\n",
              "#sk-container-id-1 a.estimator_doc_link {\n",
              "  float: right;\n",
              "  font-size: 1rem;\n",
              "  line-height: 1em;\n",
              "  font-family: monospace;\n",
              "  background-color: var(--sklearn-color-background);\n",
              "  border-radius: 1rem;\n",
              "  height: 1rem;\n",
              "  width: 1rem;\n",
              "  text-decoration: none;\n",
              "  /* unfitted */\n",
              "  color: var(--sklearn-color-unfitted-level-1);\n",
              "  border: var(--sklearn-color-unfitted-level-1) 1pt solid;\n",
              "}\n",
              "\n",
              "#sk-container-id-1 a.estimator_doc_link.fitted {\n",
              "  /* fitted */\n",
              "  border: var(--sklearn-color-fitted-level-1) 1pt solid;\n",
              "  color: var(--sklearn-color-fitted-level-1);\n",
              "}\n",
              "\n",
              "/* On hover */\n",
              "#sk-container-id-1 a.estimator_doc_link:hover {\n",
              "  /* unfitted */\n",
              "  background-color: var(--sklearn-color-unfitted-level-3);\n",
              "  color: var(--sklearn-color-background);\n",
              "  text-decoration: none;\n",
              "}\n",
              "\n",
              "#sk-container-id-1 a.estimator_doc_link.fitted:hover {\n",
              "  /* fitted */\n",
              "  background-color: var(--sklearn-color-fitted-level-3);\n",
              "}\n",
              "</style><div id=\"sk-container-id-1\" class=\"sk-top-container\"><div class=\"sk-text-repr-fallback\"><pre>RandomForestClassifier(class_weight=&#x27;balanced&#x27;, max_depth=10,\n",
              "                       min_samples_leaf=5, min_samples_split=15,\n",
              "                       n_estimators=200, n_jobs=-1, random_state=42)</pre><b>In a Jupyter environment, please rerun this cell to show the HTML representation or trust the notebook. <br />On GitHub, the HTML representation is unable to render, please try loading this page with nbviewer.org.</b></div><div class=\"sk-container\" hidden><div class=\"sk-item\"><div class=\"sk-estimator fitted sk-toggleable\"><input class=\"sk-toggleable__control sk-hidden--visually\" id=\"sk-estimator-id-1\" type=\"checkbox\" checked><label for=\"sk-estimator-id-1\" class=\"sk-toggleable__label fitted sk-toggleable__label-arrow\"><div><div>RandomForestClassifier</div></div><div><a class=\"sk-estimator-doc-link fitted\" rel=\"noreferrer\" target=\"_blank\" href=\"https://scikit-learn.org/1.6/modules/generated/sklearn.ensemble.RandomForestClassifier.html\">?<span>Documentation for RandomForestClassifier</span></a><span class=\"sk-estimator-doc-link fitted\">i<span>Fitted</span></span></div></label><div class=\"sk-toggleable__content fitted\"><pre>RandomForestClassifier(class_weight=&#x27;balanced&#x27;, max_depth=10,\n",
              "                       min_samples_leaf=5, min_samples_split=15,\n",
              "                       n_estimators=200, n_jobs=-1, random_state=42)</pre></div> </div></div></div></div>"
            ]
          },
          "metadata": {},
          "execution_count": 40
        }
      ]
    },
    {
      "cell_type": "code",
      "source": [
        "training_time = time.time() - start_time\n",
        "log_event(\"TIMING\", f\"Model training completed in {training_time:.2f} seconds\")"
      ],
      "metadata": {
        "colab": {
          "base_uri": "https://localhost:8080/"
        },
        "id": "jxofEWiMOQDv",
        "outputId": "409d310a-49d5-4b97-84d7-ae3900b4b66d"
      },
      "execution_count": 41,
      "outputs": [
        {
          "output_type": "stream",
          "name": "stdout",
          "text": [
            "[2025-04-29T12:59:44.478043] TIMING: Model training completed in 12.54 seconds\n"
          ]
        }
      ]
    },
    {
      "cell_type": "markdown",
      "source": [
        "## 6. Model Evaluation"
      ],
      "metadata": {
        "id": "GPJdIHsmOSBp"
      }
    },
    {
      "cell_type": "code",
      "source": [
        "log_event(\"MODEL_EVALUATION\", \"Evaluating Random Forest model\")\n",
        "start_time = time.time()"
      ],
      "metadata": {
        "colab": {
          "base_uri": "https://localhost:8080/"
        },
        "id": "0iCam6B9OVtU",
        "outputId": "45b265be-47c5-4af1-dce1-b3bf7592ae6b"
      },
      "execution_count": 42,
      "outputs": [
        {
          "output_type": "stream",
          "name": "stdout",
          "text": [
            "[2025-04-29T12:59:46.047662] MODEL_EVALUATION: Evaluating Random Forest model\n"
          ]
        }
      ]
    },
    {
      "cell_type": "markdown",
      "source": [
        "### Make predictions"
      ],
      "metadata": {
        "id": "szURe4ubOXXL"
      }
    },
    {
      "cell_type": "code",
      "source": [
        "y_pred = rf_model.predict(X_test_scaled)\n",
        "y_pred_proba = rf_model.predict_proba(X_test_scaled)[:, 1]"
      ],
      "metadata": {
        "id": "8TH_1UfzOZAT"
      },
      "execution_count": 43,
      "outputs": []
    },
    {
      "cell_type": "markdown",
      "source": [
        "### Calculate metrics"
      ],
      "metadata": {
        "id": "EW0-yFwyObL8"
      }
    },
    {
      "cell_type": "code",
      "source": [
        "accuracy = accuracy_score(y_test, y_pred)\n",
        "precision = precision_score(y_test, y_pred)\n",
        "recall = recall_score(y_test, y_pred)\n",
        "f1 = f1_score(y_test, y_pred)"
      ],
      "metadata": {
        "id": "7n0TTM7POdBp"
      },
      "execution_count": 44,
      "outputs": []
    },
    {
      "cell_type": "markdown",
      "source": [
        "### ROC curve and AUC"
      ],
      "metadata": {
        "id": "QlXDYKH8Oe5a"
      }
    },
    {
      "cell_type": "code",
      "source": [
        "fpr, tpr, _ = roc_curve(y_test, y_pred_proba)\n",
        "roc_auc = auc(fpr, tpr)"
      ],
      "metadata": {
        "id": "T4fp34vbOglI"
      },
      "execution_count": 45,
      "outputs": []
    },
    {
      "cell_type": "markdown",
      "source": [
        "### Log the evaluation metrics"
      ],
      "metadata": {
        "id": "-ozKeZIwOjmh"
      }
    },
    {
      "cell_type": "code",
      "source": [
        "log_event(\"EVALUATION_METRICS\", \"Model performance metrics\", {\n",
        "    \"accuracy\": float(accuracy),\n",
        "    \"precision\": float(precision),\n",
        "    \"recall\": float(recall),\n",
        "    \"f1_score\": float(f1),\n",
        "    \"auc\": float(roc_auc)\n",
        "})"
      ],
      "metadata": {
        "colab": {
          "base_uri": "https://localhost:8080/"
        },
        "id": "8jwNSl3rOll-",
        "outputId": "be269623-dbc7-4694-fba9-93e93922a4d6"
      },
      "execution_count": 46,
      "outputs": [
        {
          "output_type": "stream",
          "name": "stdout",
          "text": [
            "[2025-04-29T12:59:51.936034] EVALUATION_METRICS: Model performance metrics\n"
          ]
        }
      ]
    },
    {
      "cell_type": "code",
      "source": [
        "print(\"\\nModel Performance:\")\n",
        "print(f\"Accuracy: {accuracy:.4f}\")\n",
        "print(f\"Precision: {precision:.4f}\")\n",
        "print(f\"Recall: {recall:.4f}\")\n",
        "print(f\"F1 Score: {f1:.4f}\")\n",
        "print(f\"AUC: {roc_auc:.4f}\")"
      ],
      "metadata": {
        "colab": {
          "base_uri": "https://localhost:8080/"
        },
        "id": "WssuFWSmOoC2",
        "outputId": "24a3f9ff-ff57-4cc1-b1b7-6c6f5b9b5f29"
      },
      "execution_count": 47,
      "outputs": [
        {
          "output_type": "stream",
          "name": "stdout",
          "text": [
            "\n",
            "Model Performance:\n",
            "Accuracy: 0.9850\n",
            "Precision: 0.9826\n",
            "Recall: 0.9875\n",
            "F1 Score: 0.9850\n",
            "AUC: 0.9971\n"
          ]
        }
      ]
    },
    {
      "cell_type": "markdown",
      "source": [
        "### Plot confusion matrix"
      ],
      "metadata": {
        "id": "vcPGHosEOqYn"
      }
    },
    {
      "cell_type": "code",
      "source": [
        "plt.figure(figsize=(8, 6))\n",
        "cm = confusion_matrix(y_test, y_pred)\n",
        "sns.heatmap(cm, annot=True, fmt='d', cmap='Blues')\n",
        "plt.title('Confusion Matrix')\n",
        "plt.ylabel('True Label')\n",
        "plt.xlabel('Predicted Label')\n",
        "plt.show()"
      ],
      "metadata": {
        "colab": {
          "base_uri": "https://localhost:8080/",
          "height": 564
        },
        "id": "xlbsCgzpOsa5",
        "outputId": "d8333f3f-f9db-4c21-912e-c946d402b443"
      },
      "execution_count": 48,
      "outputs": [
        {
          "output_type": "display_data",
          "data": {
            "text/plain": [
              "<Figure size 800x600 with 2 Axes>"
            ],
            "image/png": "[encoded data removed]"
          },
          "metadata": {}
        }
      ]
    },
    {
      "cell_type": "markdown",
      "source": [
        "### Plot ROC curve"
      ],
      "metadata": {
        "id": "yVsXIkWSOuRM"
      }
    },
    {
      "cell_type": "code",
      "source": [
        "plt.figure(figsize=(8, 6))\n",
        "plt.plot(fpr, tpr, color='blue', lw=2, label=f'ROC curve (area = {roc_auc:.2f})')\n",
        "plt.plot([0, 1], [0, 1], color='gray', lw=2, linestyle='--')\n",
        "plt.xlim([0.0, 1.0])\n",
        "plt.ylim([0.0, 1.05])\n",
        "plt.xlabel('False Positive Rate')\n",
        "plt.ylabel('True Positive Rate')\n",
        "plt.title('Receiver Operating Characteristic')\n",
        "plt.legend(loc=\"lower right\")\n",
        "plt.show()"
      ],
      "metadata": {
        "colab": {
          "base_uri": "https://localhost:8080/",
          "height": 564
        },
        "id": "HkADQLFFOwL2",
        "outputId": "a0af1bd2-8590-47cd-a015-2b324165c1b7"
      },
      "execution_count": 49,
      "outputs": [
        {
          "output_type": "display_data",
          "data": {
            "text/plain": [
              "<Figure size 800x600 with 1 Axes>"
            ],
            "image/png": "[encoded data removed]"
          },
          "metadata": {}
        }
      ]
    },
    {
      "cell_type": "markdown",
      "source": [
        "### Feature importance"
      ],
      "metadata": {
        "id": "RARcaC-8OyVA"
      }
    },
    {
      "cell_type": "code",
      "source": [
        "feature_importances = pd.DataFrame(\n",
        "    rf_model.feature_importances_,\n",
        "    index=X.columns,\n",
        "    columns=['importance']\n",
        ").sort_values('importance', ascending=False)"
      ],
      "metadata": {
        "id": "MkxFZuQVO0qN"
      },
      "execution_count": 50,
      "outputs": []
    },
    {
      "cell_type": "code",
      "source": [
        "print(\"\\nFeature Importance Distribution:\")\n",
        "print(feature_importances.head(15))"
      ],
      "metadata": {
        "colab": {
          "base_uri": "https://localhost:8080/"
        },
        "id": "nGCLfVHHLPXJ",
        "outputId": "44147e15-5d03-4dd7-85a2-d889229c41d0"
      },
      "execution_count": 51,
      "outputs": [
        {
          "output_type": "stream",
          "name": "stdout",
          "text": [
            "\n",
            "Feature Importance Distribution:\n",
            "                     importance\n",
            "uses_http              0.192547\n",
            "PageRank               0.145351\n",
            "DNSRecording           0.106453\n",
            "PrefixSuffix-          0.097387\n",
            "GoogleIndex            0.093008\n",
            "WebsiteTraffic         0.084366\n",
            "DomainLength           0.067339\n",
            "SubDomains             0.063809\n",
            "DomainRegLen           0.037861\n",
            "StatsReport            0.036524\n",
            "LinksPointingToPage    0.029662\n",
            "AbnormalURL            0.016191\n",
            "AgeofDomain            0.012157\n",
            "RequestURL             0.008101\n",
            "IframeRedirection      0.002060\n"
          ]
        }
      ]
    },
    {
      "cell_type": "markdown",
      "source": [
        "### Plot feature importance"
      ],
      "metadata": {
        "id": "tPiE97ZqLR6Y"
      }
    },
    {
      "cell_type": "code",
      "source": [
        "plt.figure(figsize=(12, 10))\n",
        "sns.barplot(x=feature_importances['importance'].head(15), y=feature_importances.index[:15])\n",
        "plt.title('Top 15 Feature Importances')\n",
        "plt.tight_layout()\n",
        "plt.show()"
      ],
      "metadata": {
        "colab": {
          "base_uri": "https://localhost:8080/",
          "height": 1000
        },
        "id": "iJqP1E9yO2uJ",
        "outputId": "a6f81a73-bb91-4832-f9ea-4ab1bdaa2880"
      },
      "execution_count": 52,
      "outputs": [
        {
          "output_type": "display_data",
          "data": {
            "text/plain": [
              "<Figure size 1200x1000 with 1 Axes>"
            ],
            "image/png": "[encoded data removed]"
          },
          "metadata": {}
        }
      ]
    },
    {
      "cell_type": "code",
      "source": [
        "evaluation_time = time.time() - start_time\n",
        "log_event(\"TIMING\", f\"Model evaluation completed in {evaluation_time:.2f} seconds\")"
      ],
      "metadata": {
        "colab": {
          "base_uri": "https://localhost:8080/"
        },
        "id": "XfaviybOO44p",
        "outputId": "68ab6c42-9c07-4fa4-a681-b746d175b9e8"
      },
      "execution_count": 53,
      "outputs": [
        {
          "output_type": "stream",
          "name": "stdout",
          "text": [
            "[2025-04-29T13:00:09.214196] TIMING: Model evaluation completed in 23.17 seconds\n"
          ]
        }
      ]
    },
    {
      "cell_type": "markdown",
      "source": [
        "## 7. Hyperparameter Tuning"
      ],
      "metadata": {
        "id": "4SxDZY52QAlX"
      }
    },
    {
      "cell_type": "code",
      "source": [
        "log_event(\"HYPERPARAMETER_TUNING\", \"Starting hyperparameter tuning\")\n",
        "start_time = time.time()"
      ],
      "metadata": {
        "colab": {
          "base_uri": "https://localhost:8080/"
        },
        "id": "YOgbdT5xQD1R",
        "outputId": "3c686b99-d5a4-4ed0-cce7-95568de067ce"
      },
      "execution_count": 54,
      "outputs": [
        {
          "output_type": "stream",
          "name": "stdout",
          "text": [
            "[2025-04-29T13:00:10.346935] HYPERPARAMETER_TUNING: Starting hyperparameter tuning\n"
          ]
        }
      ]
    },
    {
      "cell_type": "markdown",
      "source": [
        "### Focused parameter grid based on initial model performance"
      ],
      "metadata": {
        "id": "8heSw8BwQMIn"
      }
    },
    {
      "cell_type": "code",
      "source": [
        "param_grid = {\n",
        "    'n_estimators': [100, 200, 300],\n",
        "    'max_depth': [8, 10, 12],\n",
        "    'min_samples_split': [10, 15, 20],\n",
        "    'min_samples_leaf': [4, 5, 6]\n",
        "}"
      ],
      "metadata": {
        "id": "lZMNItuJQOHl"
      },
      "execution_count": 55,
      "outputs": []
    },
    {
      "cell_type": "markdown",
      "source": [
        "### Subset of data for faster tuning"
      ],
      "metadata": {
        "id": "XYgmQNbqQQQp"
      }
    },
    {
      "cell_type": "code",
      "source": [
        "X_tune = X_train_scaled[:min(1000, X_train_scaled.shape[0])]\n",
        "y_tune = y_train[:min(1000, y_train.shape[0])]"
      ],
      "metadata": {
        "id": "YlJO1DeNQUAl"
      },
      "execution_count": 56,
      "outputs": []
    },
    {
      "cell_type": "markdown",
      "source": [
        "### Set up cross-validation grid search"
      ],
      "metadata": {
        "id": "FJf16DtWQWfh"
      }
    },
    {
      "cell_type": "code",
      "source": [
        "grid_search = GridSearchCV(\n",
        "    estimator=RandomForestClassifier(\n",
        "        max_features='sqrt',\n",
        "        random_state=42\n",
        "    ),\n",
        "    param_grid=param_grid,\n",
        "    cv=3,\n",
        "    scoring='f1',\n",
        "    n_jobs=-1\n",
        ")"
      ],
      "metadata": {
        "id": "DyI4ZNj4QYUQ"
      },
      "execution_count": 57,
      "outputs": []
    },
    {
      "cell_type": "markdown",
      "source": [
        "### Run grid search"
      ],
      "metadata": {
        "id": "dQKVXGiiQc7u"
      }
    },
    {
      "cell_type": "code",
      "source": [
        "grid_search.fit(X_tune, y_tune)"
      ],
      "metadata": {
        "colab": {
          "base_uri": "https://localhost:8080/",
          "height": 166
        },
        "id": "mCQxelR3QfDr",
        "outputId": "3d61ade3-e2e7-4d43-c4bd-498d381ce32b"
      },
      "execution_count": 58,
      "outputs": [
        {
          "output_type": "execute_result",
          "data": {
            "text/plain": [
              "GridSearchCV(cv=3, estimator=RandomForestClassifier(random_state=42), n_jobs=-1,\n",
              "             param_grid={'max_depth': [8, 10, 12],\n",
              "                         'min_samples_leaf': [4, 5, 6],\n",
              "                         'min_samples_split': [10, 15, 20],\n",
              "                         'n_estimators': [100, 200, 300]},\n",
              "             scoring='f1')"
            ],
            "text/html": [
              "<style>#sk-container-id-2 {\n",
              "  /* Definition of color scheme common for light and dark mode */\n",
              "  --sklearn-color-text: #000;\n",
              "  --sklearn-color-text-muted: #666;\n",
              "  --sklearn-color-line: gray;\n",
              "  /* Definition of color scheme for unfitted estimators */\n",
              "  --sklearn-color-unfitted-level-0: #fff5e6;\n",
              "  --sklearn-color-unfitted-level-1: #f6e4d2;\n",
              "  --sklearn-color-unfitted-level-2: #ffe0b3;\n",
              "  --sklearn-color-unfitted-level-3: chocolate;\n",
              "  /* Definition of color scheme for fitted estimators */\n",
              "  --sklearn-color-fitted-level-0: #f0f8ff;\n",
              "  --sklearn-color-fitted-level-1: #d4ebff;\n",
              "  --sklearn-color-fitted-level-2: #b3dbfd;\n",
              "  --sklearn-color-fitted-level-3: cornflowerblue;\n",
              "\n",
              "  /* Specific color for light theme */\n",
              "  --sklearn-color-text-on-default-background: var(--sg-text-color, var(--theme-code-foreground, var(--jp-content-font-color1, black)));\n",
              "  --sklearn-color-background: var(--sg-background-color, var(--theme-background, var(--jp-layout-color0, white)));\n",
              "  --sklearn-color-border-box: var(--sg-text-color, var(--theme-code-foreground, var(--jp-content-font-color1, black)));\n",
              "  --sklearn-color-icon: #696969;\n",
              "\n",
              "  @media (prefers-color-scheme: dark) {\n",
              "    /* Redefinition of color scheme for dark theme */\n",
              "    --sklearn-color-text-on-default-background: var(--sg-text-color, var(--theme-code-foreground, var(--jp-content-font-color1, white)));\n",
              "    --sklearn-color-background: var(--sg-background-color, var(--theme-background, var(--jp-layout-color0, #111)));\n",
              "    --sklearn-color-border-box: var(--sg-text-color, var(--theme-code-foreground, var(--jp-content-font-color1, white)));\n",
              "    --sklearn-color-icon: #878787;\n",
              "  }\n",
              "}\n",
              "\n",
              "#sk-container-id-2 {\n",
              "  color: var(--sklearn-color-text);\n",
              "}\n",
              "\n",
              "#sk-container-id-2 pre {\n",
              "  padding: 0;\n",
              "}\n",
              "\n",
              "#sk-container-id-2 input.sk-hidden--visually {\n",
              "  border: 0;\n",
              "  clip: rect(1px 1px 1px 1px);\n",
              "  clip: rect(1px, 1px, 1px, 1px);\n",
              "  height: 1px;\n",
              "  margin: -1px;\n",
              "  overflow: hidden;\n",
              "  padding: 0;\n",
              "  position: absolute;\n",
              "  width: 1px;\n",
              "}\n",
              "\n",
              "#sk-container-id-2 div.sk-dashed-wrapped {\n",
              "  border: 1px dashed var(--sklearn-color-line);\n",
              "  margin: 0 0.4em 0.5em 0.4em;\n",
              "  box-sizing: border-box;\n",
              "  padding-bottom: 0.4em;\n",
              "  background-color: var(--sklearn-color-background);\n",
              "}\n",
              "\n",
              "#sk-container-id-2 div.sk-container {\n",
              "  /* jupyter's `normalize.less` sets `[hidden] { display: none; }`\n",
              "     but bootstrap.min.css set `[hidden] { display: none !important; }`\n",
              "     so we also need the `!important` here to be able to override the\n",
              "     default hidden behavior on the sphinx rendered scikit-learn.org.\n",
              "     See: https://github.com/scikit-learn/scikit-learn/issues/21755 */\n",
              "  display: inline-block !important;\n",
              "  position: relative;\n",
              "}\n",
              "\n",
              "#sk-container-id-2 div.sk-text-repr-fallback {\n",
              "  display: none;\n",
              "}\n",
              "\n",
              "div.sk-parallel-item,\n",
              "div.sk-serial,\n",
              "div.sk-item {\n",
              "  /* draw centered vertical line to link estimators */\n",
              "  background-image: linear-gradient(var(--sklearn-color-text-on-default-background), var(--sklearn-color-text-on-default-background));\n",
              "  background-size: 2px 100%;\n",
              "  background-repeat: no-repeat;\n",
              "  background-position: center center;\n",
              "}\n",
              "\n",
              "/* Parallel-specific style estimator block */\n",
              "\n",
              "#sk-container-id-2 div.sk-parallel-item::after {\n",
              "  content: \"\";\n",
              "  width: 100%;\n",
              "  border-bottom: 2px solid var(--sklearn-color-text-on-default-background);\n",
              "  flex-grow: 1;\n",
              "}\n",
              "\n",
              "#sk-container-id-2 div.sk-parallel {\n",
              "  display: flex;\n",
              "  align-items: stretch;\n",
              "  justify-content: center;\n",
              "  background-color: var(--sklearn-color-background);\n",
              "  position: relative;\n",
              "}\n",
              "\n",
              "#sk-container-id-2 div.sk-parallel-item {\n",
              "  display: flex;\n",
              "  flex-direction: column;\n",
              "}\n",
              "\n",
              "#sk-container-id-2 div.sk-parallel-item:first-child::after {\n",
              "  align-self: flex-end;\n",
              "  width: 50%;\n",
              "}\n",
              "\n",
              "#sk-container-id-2 div.sk-parallel-item:last-child::after {\n",
              "  align-self: flex-start;\n",
              "  width: 50%;\n",
              "}\n",
              "\n",
              "#sk-container-id-2 div.sk-parallel-item:only-child::after {\n",
              "  width: 0;\n",
              "}\n",
              "\n",
              "/* Serial-specific style estimator block */\n",
              "\n",
              "#sk-container-id-2 div.sk-serial {\n",
              "  display: flex;\n",
              "  flex-direction: column;\n",
              "  align-items: center;\n",
              "  background-color: var(--sklearn-color-background);\n",
              "  padding-right: 1em;\n",
              "  padding-left: 1em;\n",
              "}\n",
              "\n",
              "\n",
              "/* Toggleable style: style used for estimator/Pipeline/ColumnTransformer box that is\n",
              "clickable and can be expanded/collapsed.\n",
              "- Pipeline and ColumnTransformer use this feature and define the default style\n",
              "- Estimators will overwrite some part of the style using the `sk-estimator` class\n",
              "*/\n",
              "\n",
              "/* Pipeline and ColumnTransformer style (default) */\n",
              "\n",
              "#sk-container-id-2 div.sk-toggleable {\n",
              "  /* Default theme specific background. It is overwritten whether we have a\n",
              "  specific estimator or a Pipeline/ColumnTransformer */\n",
              "  background-color: var(--sklearn-color-background);\n",
              "}\n",
              "\n",
              "/* Toggleable label */\n",
              "#sk-container-id-2 label.sk-toggleable__label {\n",
              "  cursor: pointer;\n",
              "  display: flex;\n",
              "  width: 100%;\n",
              "  margin-bottom: 0;\n",
              "  padding: 0.5em;\n",
              "  box-sizing: border-box;\n",
              "  text-align: center;\n",
              "  align-items: start;\n",
              "  justify-content: space-between;\n",
              "  gap: 0.5em;\n",
              "}\n",
              "\n",
              "#sk-container-id-2 label.sk-toggleable__label .caption {\n",
              "  font-size: 0.6rem;\n",
              "  font-weight: lighter;\n",
              "  color: var(--sklearn-color-text-muted);\n",
              "}\n",
              "\n",
              "#sk-container-id-2 label.sk-toggleable__label-arrow:before {\n",
              "  /* Arrow on the left of the label */\n",
              "  content: \"▸\";\n",
              "  float: left;\n",
              "  margin-right: 0.25em;\n",
              "  color: var(--sklearn-color-icon);\n",
              "}\n",
              "\n",
              "#sk-container-id-2 label.sk-toggleable__label-arrow:hover:before {\n",
              "  color: var(--sklearn-color-text);\n",
              "}\n",
              "\n",
              "/* Toggleable content - dropdown */\n",
              "\n",
              "#sk-container-id-2 div.sk-toggleable__content {\n",
              "  max-height: 0;\n",
              "  max-width: 0;\n",
              "  overflow: hidden;\n",
              "  text-align: left;\n",
              "  /* unfitted */\n",
              "  background-color: var(--sklearn-color-unfitted-level-0);\n",
              "}\n",
              "\n",
              "#sk-container-id-2 div.sk-toggleable__content.fitted {\n",
              "  /* fitted */\n",
              "  background-color: var(--sklearn-color-fitted-level-0);\n",
              "}\n",
              "\n",
              "#sk-container-id-2 div.sk-toggleable__content pre {\n",
              "  margin: 0.2em;\n",
              "  border-radius: 0.25em;\n",
              "  color: var(--sklearn-color-text);\n",
              "  /* unfitted */\n",
              "  background-color: var(--sklearn-color-unfitted-level-0);\n",
              "}\n",
              "\n",
              "#sk-container-id-2 div.sk-toggleable__content.fitted pre {\n",
              "  /* unfitted */\n",
              "  background-color: var(--sklearn-color-fitted-level-0);\n",
              "}\n",
              "\n",
              "#sk-container-id-2 input.sk-toggleable__control:checked~div.sk-toggleable__content {\n",
              "  /* Expand drop-down */\n",
              "  max-height: 200px;\n",
              "  max-width: 100%;\n",
              "  overflow: auto;\n",
              "}\n",
              "\n",
              "#sk-container-id-2 input.sk-toggleable__control:checked~label.sk-toggleable__label-arrow:before {\n",
              "  content: \"▾\";\n",
              "}\n",
              "\n",
              "/* Pipeline/ColumnTransformer-specific style */\n",
              "\n",
              "#sk-container-id-2 div.sk-label input.sk-toggleable__control:checked~label.sk-toggleable__label {\n",
              "  color: var(--sklearn-color-text);\n",
              "  background-color: var(--sklearn-color-unfitted-level-2);\n",
              "}\n",
              "\n",
              "#sk-container-id-2 div.sk-label.fitted input.sk-toggleable__control:checked~label.sk-toggleable__label {\n",
              "  background-color: var(--sklearn-color-fitted-level-2);\n",
              "}\n",
              "\n",
              "/* Estimator-specific style */\n",
              "\n",
              "/* Colorize estimator box */\n",
              "#sk-container-id-2 div.sk-estimator input.sk-toggleable__control:checked~label.sk-toggleable__label {\n",
              "  /* unfitted */\n",
              "  background-color: var(--sklearn-color-unfitted-level-2);\n",
              "}\n",
              "\n",
              "#sk-container-id-2 div.sk-estimator.fitted input.sk-toggleable__control:checked~label.sk-toggleable__label {\n",
              "  /* fitted */\n",
              "  background-color: var(--sklearn-color-fitted-level-2);\n",
              "}\n",
              "\n",
              "#sk-container-id-2 div.sk-label label.sk-toggleable__label,\n",
              "#sk-container-id-2 div.sk-label label {\n",
              "  /* The background is the default theme color */\n",
              "  color: var(--sklearn-color-text-on-default-background);\n",
              "}\n",
              "\n",
              "/* On hover, darken the color of the background */\n",
              "#sk-container-id-2 div.sk-label:hover label.sk-toggleable__label {\n",
              "  color: var(--sklearn-color-text);\n",
              "  background-color: var(--sklearn-color-unfitted-level-2);\n",
              "}\n",
              "\n",
              "/* Label box, darken color on hover, fitted */\n",
              "#sk-container-id-2 div.sk-label.fitted:hover label.sk-toggleable__label.fitted {\n",
              "  color: var(--sklearn-color-text);\n",
              "  background-color: var(--sklearn-color-fitted-level-2);\n",
              "}\n",
              "\n",
              "/* Estimator label */\n",
              "\n",
              "#sk-container-id-2 div.sk-label label {\n",
              "  font-family: monospace;\n",
              "  font-weight: bold;\n",
              "  display: inline-block;\n",
              "  line-height: 1.2em;\n",
              "}\n",
              "\n",
              "#sk-container-id-2 div.sk-label-container {\n",
              "  text-align: center;\n",
              "}\n",
              "\n",
              "/* Estimator-specific */\n",
              "#sk-container-id-2 div.sk-estimator {\n",
              "  font-family: monospace;\n",
              "  border: 1px dotted var(--sklearn-color-border-box);\n",
              "  border-radius: 0.25em;\n",
              "  box-sizing: border-box;\n",
              "  margin-bottom: 0.5em;\n",
              "  /* unfitted */\n",
              "  background-color: var(--sklearn-color-unfitted-level-0);\n",
              "}\n",
              "\n",
              "#sk-container-id-2 div.sk-estimator.fitted {\n",
              "  /* fitted */\n",
              "  background-color: var(--sklearn-color-fitted-level-0);\n",
              "}\n",
              "\n",
              "/* on hover */\n",
              "#sk-container-id-2 div.sk-estimator:hover {\n",
              "  /* unfitted */\n",
              "  background-color: var(--sklearn-color-unfitted-level-2);\n",
              "}\n",
              "\n",
              "#sk-container-id-2 div.sk-estimator.fitted:hover {\n",
              "  /* fitted */\n",
              "  background-color: var(--sklearn-color-fitted-level-2);\n",
              "}\n",
              "\n",
              "/* Specification for estimator info (e.g. \"i\" and \"?\") */\n",
              "\n",
              "/* Common style for \"i\" and \"?\" */\n",
              "\n",
              ".sk-estimator-doc-link,\n",
              "a:link.sk-estimator-doc-link,\n",
              "a:visited.sk-estimator-doc-link {\n",
              "  float: right;\n",
              "  font-size: smaller;\n",
              "  line-height: 1em;\n",
              "  font-family: monospace;\n",
              "  background-color: var(--sklearn-color-background);\n",
              "  border-radius: 1em;\n",
              "  height: 1em;\n",
              "  width: 1em;\n",
              "  text-decoration: none !important;\n",
              "  margin-left: 0.5em;\n",
              "  text-align: center;\n",
              "  /* unfitted */\n",
              "  border: var(--sklearn-color-unfitted-level-1) 1pt solid;\n",
              "  color: var(--sklearn-color-unfitted-level-1);\n",
              "}\n",
              "\n",
              ".sk-estimator-doc-link.fitted,\n",
              "a:link.sk-estimator-doc-link.fitted,\n",
              "a:visited.sk-estimator-doc-link.fitted {\n",
              "  /* fitted */\n",
              "  border: var(--sklearn-color-fitted-level-1) 1pt solid;\n",
              "  color: var(--sklearn-color-fitted-level-1);\n",
              "}\n",
              "\n",
              "/* On hover */\n",
              "div.sk-estimator:hover .sk-estimator-doc-link:hover,\n",
              ".sk-estimator-doc-link:hover,\n",
              "div.sk-label-container:hover .sk-estimator-doc-link:hover,\n",
              ".sk-estimator-doc-link:hover {\n",
              "  /* unfitted */\n",
              "  background-color: var(--sklearn-color-unfitted-level-3);\n",
              "  color: var(--sklearn-color-background);\n",
              "  text-decoration: none;\n",
              "}\n",
              "\n",
              "div.sk-estimator.fitted:hover .sk-estimator-doc-link.fitted:hover,\n",
              ".sk-estimator-doc-link.fitted:hover,\n",
              "div.sk-label-container:hover .sk-estimator-doc-link.fitted:hover,\n",
              ".sk-estimator-doc-link.fitted:hover {\n",
              "  /* fitted */\n",
              "  background-color: var(--sklearn-color-fitted-level-3);\n",
              "  color: var(--sklearn-color-background);\n",
              "  text-decoration: none;\n",
              "}\n",
              "\n",
              "/* Span, style for the box shown on hovering the info icon */\n",
              ".sk-estimator-doc-link span {\n",
              "  display: none;\n",
              "  z-index: 9999;\n",
              "  position: relative;\n",
              "  font-weight: normal;\n",
              "  right: .2ex;\n",
              "  padding: .5ex;\n",
              "  margin: .5ex;\n",
              "  width: min-content;\n",
              "  min-width: 20ex;\n",
              "  max-width: 50ex;\n",
              "  color: var(--sklearn-color-text);\n",
              "  box-shadow: 2pt 2pt 4pt #999;\n",
              "  /* unfitted */\n",
              "  background: var(--sklearn-color-unfitted-level-0);\n",
              "  border: .5pt solid var(--sklearn-color-unfitted-level-3);\n",
              "}\n",
              "\n",
              ".sk-estimator-doc-link.fitted span {\n",
              "  /* fitted */\n",
              "  background: var(--sklearn-color-fitted-level-0);\n",
              "  border: var(--sklearn-color-fitted-level-3);\n",
              "}\n",
              "\n",
              ".sk-estimator-doc-link:hover span {\n",
              "  display: block;\n",
              "}\n",
              "\n",
              "/* \"?\"-specific style due to the `<a>` HTML tag */\n",
              "\n",
              "#sk-container-id-2 a.estimator_doc_link {\n",
              "  float: right;\n",
              "  font-size: 1rem;\n",
              "  line-height: 1em;\n",
              "  font-family: monospace;\n",
              "  background-color: var(--sklearn-color-background);\n",
              "  border-radius: 1rem;\n",
              "  height: 1rem;\n",
              "  width: 1rem;\n",
              "  text-decoration: none;\n",
              "  /* unfitted */\n",
              "  color: var(--sklearn-color-unfitted-level-1);\n",
              "  border: var(--sklearn-color-unfitted-level-1) 1pt solid;\n",
              "}\n",
              "\n",
              "#sk-container-id-2 a.estimator_doc_link.fitted {\n",
              "  /* fitted */\n",
              "  border: var(--sklearn-color-fitted-level-1) 1pt solid;\n",
              "  color: var(--sklearn-color-fitted-level-1);\n",
              "}\n",
              "\n",
              "/* On hover */\n",
              "#sk-container-id-2 a.estimator_doc_link:hover {\n",
              "  /* unfitted */\n",
              "  background-color: var(--sklearn-color-unfitted-level-3);\n",
              "  color: var(--sklearn-color-background);\n",
              "  text-decoration: none;\n",
              "}\n",
              "\n",
              "#sk-container-id-2 a.estimator_doc_link.fitted:hover {\n",
              "  /* fitted */\n",
              "  background-color: var(--sklearn-color-fitted-level-3);\n",
              "}\n",
              "</style><div id=\"sk-container-id-2\" class=\"sk-top-container\"><div class=\"sk-text-repr-fallback\"><pre>GridSearchCV(cv=3, estimator=RandomForestClassifier(random_state=42), n_jobs=-1,\n",
              "             param_grid={&#x27;max_depth&#x27;: [8, 10, 12],\n",
              "                         &#x27;min_samples_leaf&#x27;: [4, 5, 6],\n",
              "                         &#x27;min_samples_split&#x27;: [10, 15, 20],\n",
              "                         &#x27;n_estimators&#x27;: [100, 200, 300]},\n",
              "             scoring=&#x27;f1&#x27;)</pre><b>In a Jupyter environment, please rerun this cell to show the HTML representation or trust the notebook. <br />On GitHub, the HTML representation is unable to render, please try loading this page with nbviewer.org.</b></div><div class=\"sk-container\" hidden><div class=\"sk-item sk-dashed-wrapped\"><div class=\"sk-label-container\"><div class=\"sk-label fitted sk-toggleable\"><input class=\"sk-toggleable__control sk-hidden--visually\" id=\"sk-estimator-id-2\" type=\"checkbox\" ><label for=\"sk-estimator-id-2\" class=\"sk-toggleable__label fitted sk-toggleable__label-arrow\"><div><div>GridSearchCV</div></div><div><a class=\"sk-estimator-doc-link fitted\" rel=\"noreferrer\" target=\"_blank\" href=\"https://scikit-learn.org/1.6/modules/generated/sklearn.model_selection.GridSearchCV.html\">?<span>Documentation for GridSearchCV</span></a><span class=\"sk-estimator-doc-link fitted\">i<span>Fitted</span></span></div></label><div class=\"sk-toggleable__content fitted\"><pre>GridSearchCV(cv=3, estimator=RandomForestClassifier(random_state=42), n_jobs=-1,\n",
              "             param_grid={&#x27;max_depth&#x27;: [8, 10, 12],\n",
              "                         &#x27;min_samples_leaf&#x27;: [4, 5, 6],\n",
              "                         &#x27;min_samples_split&#x27;: [10, 15, 20],\n",
              "                         &#x27;n_estimators&#x27;: [100, 200, 300]},\n",
              "             scoring=&#x27;f1&#x27;)</pre></div> </div></div><div class=\"sk-parallel\"><div class=\"sk-parallel-item\"><div class=\"sk-item\"><div class=\"sk-label-container\"><div class=\"sk-label fitted sk-toggleable\"><input class=\"sk-toggleable__control sk-hidden--visually\" id=\"sk-estimator-id-3\" type=\"checkbox\" ><label for=\"sk-estimator-id-3\" class=\"sk-toggleable__label fitted sk-toggleable__label-arrow\"><div><div>best_estimator_: RandomForestClassifier</div></div></label><div class=\"sk-toggleable__content fitted\"><pre>RandomForestClassifier(max_depth=8, min_samples_leaf=4, min_samples_split=20,\n",
              "                       n_estimators=200, random_state=42)</pre></div> </div></div><div class=\"sk-serial\"><div class=\"sk-item\"><div class=\"sk-estimator fitted sk-toggleable\"><input class=\"sk-toggleable__control sk-hidden--visually\" id=\"sk-estimator-id-4\" type=\"checkbox\" ><label for=\"sk-estimator-id-4\" class=\"sk-toggleable__label fitted sk-toggleable__label-arrow\"><div><div>RandomForestClassifier</div></div><div><a class=\"sk-estimator-doc-link fitted\" rel=\"noreferrer\" target=\"_blank\" href=\"https://scikit-learn.org/1.6/modules/generated/sklearn.ensemble.RandomForestClassifier.html\">?<span>Documentation for RandomForestClassifier</span></a></div></label><div class=\"sk-toggleable__content fitted\"><pre>RandomForestClassifier(max_depth=8, min_samples_leaf=4, min_samples_split=20,\n",
              "                       n_estimators=200, random_state=42)</pre></div> </div></div></div></div></div></div></div></div></div>"
            ]
          },
          "metadata": {},
          "execution_count": 58
        }
      ]
    },
    {
      "cell_type": "code",
      "source": [
        "tuning_time = time.time() - start_time\n",
        "log_event(\"TIMING\", f\"Hyperparameter tuning completed in {tuning_time:.2f} seconds\")"
      ],
      "metadata": {
        "colab": {
          "base_uri": "https://localhost:8080/"
        },
        "id": "uT9kGueTQhBv",
        "outputId": "8af4d5c4-876a-49da-d8d2-9f6fe5f34594"
      },
      "execution_count": 59,
      "outputs": [
        {
          "output_type": "stream",
          "name": "stdout",
          "text": [
            "[2025-04-29T13:00:39.728949] TIMING: Hyperparameter tuning completed in 29.38 seconds\n"
          ]
        }
      ]
    },
    {
      "cell_type": "markdown",
      "source": [
        "### Log the best parameters"
      ],
      "metadata": {
        "id": "EXUvngTeQjm4"
      }
    },
    {
      "cell_type": "code",
      "source": [
        "log_event(\"HYPERPARAMETER_TUNING\", \"Best parameters found\", {\n",
        "    \"parameters\": grid_search.best_params_,\n",
        "    \"f1_score\": float(grid_search.best_score_)\n",
        "})"
      ],
      "metadata": {
        "colab": {
          "base_uri": "https://localhost:8080/"
        },
        "id": "stJENVcEQkOY",
        "outputId": "d48a30ab-c4a1-4419-f2a4-575725a250f7"
      },
      "execution_count": 60,
      "outputs": [
        {
          "output_type": "stream",
          "name": "stdout",
          "text": [
            "[2025-04-29T13:00:41.170030] HYPERPARAMETER_TUNING: Best parameters found\n"
          ]
        }
      ]
    },
    {
      "cell_type": "code",
      "source": [
        "print(\"\\nBest Parameters:\")\n",
        "for param, value in grid_search.best_params_.items():\n",
        "    print(f\"{param}: {value}\")\n",
        "print(f\"Best F1 Score: {grid_search.best_score_:.4f}\")"
      ],
      "metadata": {
        "colab": {
          "base_uri": "https://localhost:8080/"
        },
        "id": "60WfssqBQoQu",
        "outputId": "fbc4f610-3009-4399-b202-e08cf3ebeba0"
      },
      "execution_count": 61,
      "outputs": [
        {
          "output_type": "stream",
          "name": "stdout",
          "text": [
            "\n",
            "Best Parameters:\n",
            "max_depth: 8\n",
            "min_samples_leaf: 4\n",
            "min_samples_split: 20\n",
            "n_estimators: 200\n",
            "Best F1 Score: 0.9772\n"
          ]
        }
      ]
    },
    {
      "cell_type": "markdown",
      "source": [
        "### Final model with the best parameters (on full training data)"
      ],
      "metadata": {
        "id": "8hjkdzVoQp0f"
      }
    },
    {
      "cell_type": "code",
      "source": [
        "final_model = RandomForestClassifier(\n",
        "    max_features='sqrt',\n",
        "    **grid_search.best_params_,\n",
        "    random_state=42,\n",
        "    n_jobs=-1\n",
        ")"
      ],
      "metadata": {
        "id": "T__vTzr-QuV1"
      },
      "execution_count": 65,
      "outputs": []
    },
    {
      "cell_type": "code",
      "source": [
        "final_model.fit(X_train_scaled, y_train)"
      ],
      "metadata": {
        "colab": {
          "base_uri": "https://localhost:8080/",
          "height": 98
        },
        "id": "0vc7k0ZgQwYd",
        "outputId": "36f73945-fe74-4091-9fb7-5acc40dba75f"
      },
      "execution_count": 66,
      "outputs": [
        {
          "output_type": "execute_result",
          "data": {
            "text/plain": [
              "RandomForestClassifier(max_depth=8, min_samples_leaf=4, min_samples_split=20,\n",
              "                       n_estimators=200, n_jobs=-1, random_state=42)"
            ],
            "text/html": [
              "<style>#sk-container-id-3 {\n",
              "  /* Definition of color scheme common for light and dark mode */\n",
              "  --sklearn-color-text: #000;\n",
              "  --sklearn-color-text-muted: #666;\n",
              "  --sklearn-color-line: gray;\n",
              "  /* Definition of color scheme for unfitted estimators */\n",
              "  --sklearn-color-unfitted-level-0: #fff5e6;\n",
              "  --sklearn-color-unfitted-level-1: #f6e4d2;\n",
              "  --sklearn-color-unfitted-level-2: #ffe0b3;\n",
              "  --sklearn-color-unfitted-level-3: chocolate;\n",
              "  /* Definition of color scheme for fitted estimators */\n",
              "  --sklearn-color-fitted-level-0: #f0f8ff;\n",
              "  --sklearn-color-fitted-level-1: #d4ebff;\n",
              "  --sklearn-color-fitted-level-2: #b3dbfd;\n",
              "  --sklearn-color-fitted-level-3: cornflowerblue;\n",
              "\n",
              "  /* Specific color for light theme */\n",
              "  --sklearn-color-text-on-default-background: var(--sg-text-color, var(--theme-code-foreground, var(--jp-content-font-color1, black)));\n",
              "  --sklearn-color-background: var(--sg-background-color, var(--theme-background, var(--jp-layout-color0, white)));\n",
              "  --sklearn-color-border-box: var(--sg-text-color, var(--theme-code-foreground, var(--jp-content-font-color1, black)));\n",
              "  --sklearn-color-icon: #696969;\n",
              "\n",
              "  @media (prefers-color-scheme: dark) {\n",
              "    /* Redefinition of color scheme for dark theme */\n",
              "    --sklearn-color-text-on-default-background: var(--sg-text-color, var(--theme-code-foreground, var(--jp-content-font-color1, white)));\n",
              "    --sklearn-color-background: var(--sg-background-color, var(--theme-background, var(--jp-layout-color0, #111)));\n",
              "    --sklearn-color-border-box: var(--sg-text-color, var(--theme-code-foreground, var(--jp-content-font-color1, white)));\n",
              "    --sklearn-color-icon: #878787;\n",
              "  }\n",
              "}\n",
              "\n",
              "#sk-container-id-3 {\n",
              "  color: var(--sklearn-color-text);\n",
              "}\n",
              "\n",
              "#sk-container-id-3 pre {\n",
              "  padding: 0;\n",
              "}\n",
              "\n",
              "#sk-container-id-3 input.sk-hidden--visually {\n",
              "  border: 0;\n",
              "  clip: rect(1px 1px 1px 1px);\n",
              "  clip: rect(1px, 1px, 1px, 1px);\n",
              "  height: 1px;\n",
              "  margin: -1px;\n",
              "  overflow: hidden;\n",
              "  padding: 0;\n",
              "  position: absolute;\n",
              "  width: 1px;\n",
              "}\n",
              "\n",
              "#sk-container-id-3 div.sk-dashed-wrapped {\n",
              "  border: 1px dashed var(--sklearn-color-line);\n",
              "  margin: 0 0.4em 0.5em 0.4em;\n",
              "  box-sizing: border-box;\n",
              "  padding-bottom: 0.4em;\n",
              "  background-color: var(--sklearn-color-background);\n",
              "}\n",
              "\n",
              "#sk-container-id-3 div.sk-container {\n",
              "  /* jupyter's `normalize.less` sets `[hidden] { display: none; }`\n",
              "     but bootstrap.min.css set `[hidden] { display: none !important; }`\n",
              "     so we also need the `!important` here to be able to override the\n",
              "     default hidden behavior on the sphinx rendered scikit-learn.org.\n",
              "     See: https://github.com/scikit-learn/scikit-learn/issues/21755 */\n",
              "  display: inline-block !important;\n",
              "  position: relative;\n",
              "}\n",
              "\n",
              "#sk-container-id-3 div.sk-text-repr-fallback {\n",
              "  display: none;\n",
              "}\n",
              "\n",
              "div.sk-parallel-item,\n",
              "div.sk-serial,\n",
              "div.sk-item {\n",
              "  /* draw centered vertical line to link estimators */\n",
              "  background-image: linear-gradient(var(--sklearn-color-text-on-default-background), var(--sklearn-color-text-on-default-background));\n",
              "  background-size: 2px 100%;\n",
              "  background-repeat: no-repeat;\n",
              "  background-position: center center;\n",
              "}\n",
              "\n",
              "/* Parallel-specific style estimator block */\n",
              "\n",
              "#sk-container-id-3 div.sk-parallel-item::after {\n",
              "  content: \"\";\n",
              "  width: 100%;\n",
              "  border-bottom: 2px solid var(--sklearn-color-text-on-default-background);\n",
              "  flex-grow: 1;\n",
              "}\n",
              "\n",
              "#sk-container-id-3 div.sk-parallel {\n",
              "  display: flex;\n",
              "  align-items: stretch;\n",
              "  justify-content: center;\n",
              "  background-color: var(--sklearn-color-background);\n",
              "  position: relative;\n",
              "}\n",
              "\n",
              "#sk-container-id-3 div.sk-parallel-item {\n",
              "  display: flex;\n",
              "  flex-direction: column;\n",
              "}\n",
              "\n",
              "#sk-container-id-3 div.sk-parallel-item:first-child::after {\n",
              "  align-self: flex-end;\n",
              "  width: 50%;\n",
              "}\n",
              "\n",
              "#sk-container-id-3 div.sk-parallel-item:last-child::after {\n",
              "  align-self: flex-start;\n",
              "  width: 50%;\n",
              "}\n",
              "\n",
              "#sk-container-id-3 div.sk-parallel-item:only-child::after {\n",
              "  width: 0;\n",
              "}\n",
              "\n",
              "/* Serial-specific style estimator block */\n",
              "\n",
              "#sk-container-id-3 div.sk-serial {\n",
              "  display: flex;\n",
              "  flex-direction: column;\n",
              "  align-items: center;\n",
              "  background-color: var(--sklearn-color-background);\n",
              "  padding-right: 1em;\n",
              "  padding-left: 1em;\n",
              "}\n",
              "\n",
              "\n",
              "/* Toggleable style: style used for estimator/Pipeline/ColumnTransformer box that is\n",
              "clickable and can be expanded/collapsed.\n",
              "- Pipeline and ColumnTransformer use this feature and define the default style\n",
              "- Estimators will overwrite some part of the style using the `sk-estimator` class\n",
              "*/\n",
              "\n",
              "/* Pipeline and ColumnTransformer style (default) */\n",
              "\n",
              "#sk-container-id-3 div.sk-toggleable {\n",
              "  /* Default theme specific background. It is overwritten whether we have a\n",
              "  specific estimator or a Pipeline/ColumnTransformer */\n",
              "  background-color: var(--sklearn-color-background);\n",
              "}\n",
              "\n",
              "/* Toggleable label */\n",
              "#sk-container-id-3 label.sk-toggleable__label {\n",
              "  cursor: pointer;\n",
              "  display: flex;\n",
              "  width: 100%;\n",
              "  margin-bottom: 0;\n",
              "  padding: 0.5em;\n",
              "  box-sizing: border-box;\n",
              "  text-align: center;\n",
              "  align-items: start;\n",
              "  justify-content: space-between;\n",
              "  gap: 0.5em;\n",
              "}\n",
              "\n",
              "#sk-container-id-3 label.sk-toggleable__label .caption {\n",
              "  font-size: 0.6rem;\n",
              "  font-weight: lighter;\n",
              "  color: var(--sklearn-color-text-muted);\n",
              "}\n",
              "\n",
              "#sk-container-id-3 label.sk-toggleable__label-arrow:before {\n",
              "  /* Arrow on the left of the label */\n",
              "  content: \"▸\";\n",
              "  float: left;\n",
              "  margin-right: 0.25em;\n",
              "  color: var(--sklearn-color-icon);\n",
              "}\n",
              "\n",
              "#sk-container-id-3 label.sk-toggleable__label-arrow:hover:before {\n",
              "  color: var(--sklearn-color-text);\n",
              "}\n",
              "\n",
              "/* Toggleable content - dropdown */\n",
              "\n",
              "#sk-container-id-3 div.sk-toggleable__content {\n",
              "  max-height: 0;\n",
              "  max-width: 0;\n",
              "  overflow: hidden;\n",
              "  text-align: left;\n",
              "  /* unfitted */\n",
              "  background-color: var(--sklearn-color-unfitted-level-0);\n",
              "}\n",
              "\n",
              "#sk-container-id-3 div.sk-toggleable__content.fitted {\n",
              "  /* fitted */\n",
              "  background-color: var(--sklearn-color-fitted-level-0);\n",
              "}\n",
              "\n",
              "#sk-container-id-3 div.sk-toggleable__content pre {\n",
              "  margin: 0.2em;\n",
              "  border-radius: 0.25em;\n",
              "  color: var(--sklearn-color-text);\n",
              "  /* unfitted */\n",
              "  background-color: var(--sklearn-color-unfitted-level-0);\n",
              "}\n",
              "\n",
              "#sk-container-id-3 div.sk-toggleable__content.fitted pre {\n",
              "  /* unfitted */\n",
              "  background-color: var(--sklearn-color-fitted-level-0);\n",
              "}\n",
              "\n",
              "#sk-container-id-3 input.sk-toggleable__control:checked~div.sk-toggleable__content {\n",
              "  /* Expand drop-down */\n",
              "  max-height: 200px;\n",
              "  max-width: 100%;\n",
              "  overflow: auto;\n",
              "}\n",
              "\n",
              "#sk-container-id-3 input.sk-toggleable__control:checked~label.sk-toggleable__label-arrow:before {\n",
              "  content: \"▾\";\n",
              "}\n",
              "\n",
              "/* Pipeline/ColumnTransformer-specific style */\n",
              "\n",
              "#sk-container-id-3 div.sk-label input.sk-toggleable__control:checked~label.sk-toggleable__label {\n",
              "  color: var(--sklearn-color-text);\n",
              "  background-color: var(--sklearn-color-unfitted-level-2);\n",
              "}\n",
              "\n",
              "#sk-container-id-3 div.sk-label.fitted input.sk-toggleable__control:checked~label.sk-toggleable__label {\n",
              "  background-color: var(--sklearn-color-fitted-level-2);\n",
              "}\n",
              "\n",
              "/* Estimator-specific style */\n",
              "\n",
              "/* Colorize estimator box */\n",
              "#sk-container-id-3 div.sk-estimator input.sk-toggleable__control:checked~label.sk-toggleable__label {\n",
              "  /* unfitted */\n",
              "  background-color: var(--sklearn-color-unfitted-level-2);\n",
              "}\n",
              "\n",
              "#sk-container-id-3 div.sk-estimator.fitted input.sk-toggleable__control:checked~label.sk-toggleable__label {\n",
              "  /* fitted */\n",
              "  background-color: var(--sklearn-color-fitted-level-2);\n",
              "}\n",
              "\n",
              "#sk-container-id-3 div.sk-label label.sk-toggleable__label,\n",
              "#sk-container-id-3 div.sk-label label {\n",
              "  /* The background is the default theme color */\n",
              "  color: var(--sklearn-color-text-on-default-background);\n",
              "}\n",
              "\n",
              "/* On hover, darken the color of the background */\n",
              "#sk-container-id-3 div.sk-label:hover label.sk-toggleable__label {\n",
              "  color: var(--sklearn-color-text);\n",
              "  background-color: var(--sklearn-color-unfitted-level-2);\n",
              "}\n",
              "\n",
              "/* Label box, darken color on hover, fitted */\n",
              "#sk-container-id-3 div.sk-label.fitted:hover label.sk-toggleable__label.fitted {\n",
              "  color: var(--sklearn-color-text);\n",
              "  background-color: var(--sklearn-color-fitted-level-2);\n",
              "}\n",
              "\n",
              "/* Estimator label */\n",
              "\n",
              "#sk-container-id-3 div.sk-label label {\n",
              "  font-family: monospace;\n",
              "  font-weight: bold;\n",
              "  display: inline-block;\n",
              "  line-height: 1.2em;\n",
              "}\n",
              "\n",
              "#sk-container-id-3 div.sk-label-container {\n",
              "  text-align: center;\n",
              "}\n",
              "\n",
              "/* Estimator-specific */\n",
              "#sk-container-id-3 div.sk-estimator {\n",
              "  font-family: monospace;\n",
              "  border: 1px dotted var(--sklearn-color-border-box);\n",
              "  border-radius: 0.25em;\n",
              "  box-sizing: border-box;\n",
              "  margin-bottom: 0.5em;\n",
              "  /* unfitted */\n",
              "  background-color: var(--sklearn-color-unfitted-level-0);\n",
              "}\n",
              "\n",
              "#sk-container-id-3 div.sk-estimator.fitted {\n",
              "  /* fitted */\n",
              "  background-color: var(--sklearn-color-fitted-level-0);\n",
              "}\n",
              "\n",
              "/* on hover */\n",
              "#sk-container-id-3 div.sk-estimator:hover {\n",
              "  /* unfitted */\n",
              "  background-color: var(--sklearn-color-unfitted-level-2);\n",
              "}\n",
              "\n",
              "#sk-container-id-3 div.sk-estimator.fitted:hover {\n",
              "  /* fitted */\n",
              "  background-color: var(--sklearn-color-fitted-level-2);\n",
              "}\n",
              "\n",
              "/* Specification for estimator info (e.g. \"i\" and \"?\") */\n",
              "\n",
              "/* Common style for \"i\" and \"?\" */\n",
              "\n",
              ".sk-estimator-doc-link,\n",
              "a:link.sk-estimator-doc-link,\n",
              "a:visited.sk-estimator-doc-link {\n",
              "  float: right;\n",
              "  font-size: smaller;\n",
              "  line-height: 1em;\n",
              "  font-family: monospace;\n",
              "  background-color: var(--sklearn-color-background);\n",
              "  border-radius: 1em;\n",
              "  height: 1em;\n",
              "  width: 1em;\n",
              "  text-decoration: none !important;\n",
              "  margin-left: 0.5em;\n",
              "  text-align: center;\n",
              "  /* unfitted */\n",
              "  border: var(--sklearn-color-unfitted-level-1) 1pt solid;\n",
              "  color: var(--sklearn-color-unfitted-level-1);\n",
              "}\n",
              "\n",
              ".sk-estimator-doc-link.fitted,\n",
              "a:link.sk-estimator-doc-link.fitted,\n",
              "a:visited.sk-estimator-doc-link.fitted {\n",
              "  /* fitted */\n",
              "  border: var(--sklearn-color-fitted-level-1) 1pt solid;\n",
              "  color: var(--sklearn-color-fitted-level-1);\n",
              "}\n",
              "\n",
              "/* On hover */\n",
              "div.sk-estimator:hover .sk-estimator-doc-link:hover,\n",
              ".sk-estimator-doc-link:hover,\n",
              "div.sk-label-container:hover .sk-estimator-doc-link:hover,\n",
              ".sk-estimator-doc-link:hover {\n",
              "  /* unfitted */\n",
              "  background-color: var(--sklearn-color-unfitted-level-3);\n",
              "  color: var(--sklearn-color-background);\n",
              "  text-decoration: none;\n",
              "}\n",
              "\n",
              "div.sk-estimator.fitted:hover .sk-estimator-doc-link.fitted:hover,\n",
              ".sk-estimator-doc-link.fitted:hover,\n",
              "div.sk-label-container:hover .sk-estimator-doc-link.fitted:hover,\n",
              ".sk-estimator-doc-link.fitted:hover {\n",
              "  /* fitted */\n",
              "  background-color: var(--sklearn-color-fitted-level-3);\n",
              "  color: var(--sklearn-color-background);\n",
              "  text-decoration: none;\n",
              "}\n",
              "\n",
              "/* Span, style for the box shown on hovering the info icon */\n",
              ".sk-estimator-doc-link span {\n",
              "  display: none;\n",
              "  z-index: 9999;\n",
              "  position: relative;\n",
              "  font-weight: normal;\n",
              "  right: .2ex;\n",
              "  padding: .5ex;\n",
              "  margin: .5ex;\n",
              "  width: min-content;\n",
              "  min-width: 20ex;\n",
              "  max-width: 50ex;\n",
              "  color: var(--sklearn-color-text);\n",
              "  box-shadow: 2pt 2pt 4pt #999;\n",
              "  /* unfitted */\n",
              "  background: var(--sklearn-color-unfitted-level-0);\n",
              "  border: .5pt solid var(--sklearn-color-unfitted-level-3);\n",
              "}\n",
              "\n",
              ".sk-estimator-doc-link.fitted span {\n",
              "  /* fitted */\n",
              "  background: var(--sklearn-color-fitted-level-0);\n",
              "  border: var(--sklearn-color-fitted-level-3);\n",
              "}\n",
              "\n",
              ".sk-estimator-doc-link:hover span {\n",
              "  display: block;\n",
              "}\n",
              "\n",
              "/* \"?\"-specific style due to the `<a>` HTML tag */\n",
              "\n",
              "#sk-container-id-3 a.estimator_doc_link {\n",
              "  float: right;\n",
              "  font-size: 1rem;\n",
              "  line-height: 1em;\n",
              "  font-family: monospace;\n",
              "  background-color: var(--sklearn-color-background);\n",
              "  border-radius: 1rem;\n",
              "  height: 1rem;\n",
              "  width: 1rem;\n",
              "  text-decoration: none;\n",
              "  /* unfitted */\n",
              "  color: var(--sklearn-color-unfitted-level-1);\n",
              "  border: var(--sklearn-color-unfitted-level-1) 1pt solid;\n",
              "}\n",
              "\n",
              "#sk-container-id-3 a.estimator_doc_link.fitted {\n",
              "  /* fitted */\n",
              "  border: var(--sklearn-color-fitted-level-1) 1pt solid;\n",
              "  color: var(--sklearn-color-fitted-level-1);\n",
              "}\n",
              "\n",
              "/* On hover */\n",
              "#sk-container-id-3 a.estimator_doc_link:hover {\n",
              "  /* unfitted */\n",
              "  background-color: var(--sklearn-color-unfitted-level-3);\n",
              "  color: var(--sklearn-color-background);\n",
              "  text-decoration: none;\n",
              "}\n",
              "\n",
              "#sk-container-id-3 a.estimator_doc_link.fitted:hover {\n",
              "  /* fitted */\n",
              "  background-color: var(--sklearn-color-fitted-level-3);\n",
              "}\n",
              "</style><div id=\"sk-container-id-3\" class=\"sk-top-container\"><div class=\"sk-text-repr-fallback\"><pre>RandomForestClassifier(max_depth=8, min_samples_leaf=4, min_samples_split=20,\n",
              "                       n_estimators=200, n_jobs=-1, random_state=42)</pre><b>In a Jupyter environment, please rerun this cell to show the HTML representation or trust the notebook. <br />On GitHub, the HTML representation is unable to render, please try loading this page with nbviewer.org.</b></div><div class=\"sk-container\" hidden><div class=\"sk-item\"><div class=\"sk-estimator fitted sk-toggleable\"><input class=\"sk-toggleable__control sk-hidden--visually\" id=\"sk-estimator-id-5\" type=\"checkbox\" checked><label for=\"sk-estimator-id-5\" class=\"sk-toggleable__label fitted sk-toggleable__label-arrow\"><div><div>RandomForestClassifier</div></div><div><a class=\"sk-estimator-doc-link fitted\" rel=\"noreferrer\" target=\"_blank\" href=\"https://scikit-learn.org/1.6/modules/generated/sklearn.ensemble.RandomForestClassifier.html\">?<span>Documentation for RandomForestClassifier</span></a><span class=\"sk-estimator-doc-link fitted\">i<span>Fitted</span></span></div></label><div class=\"sk-toggleable__content fitted\"><pre>RandomForestClassifier(max_depth=8, min_samples_leaf=4, min_samples_split=20,\n",
              "                       n_estimators=200, n_jobs=-1, random_state=42)</pre></div> </div></div></div></div>"
            ]
          },
          "metadata": {},
          "execution_count": 66
        }
      ]
    },
    {
      "cell_type": "markdown",
      "source": [
        "### Evaluate final model"
      ],
      "metadata": {
        "id": "X5Ag7ZiFQyGj"
      }
    },
    {
      "cell_type": "code",
      "source": [
        "final_pred = final_model.predict(X_test_scaled)\n",
        "final_pred_proba = final_model.predict_proba(X_test_scaled)[:, 1]\n",
        "final_accuracy = accuracy_score(y_test, final_pred)\n",
        "final_precision = precision_score(y_test, final_pred)\n",
        "final_recall = recall_score(y_test, final_pred)\n",
        "final_f1 = f1_score(y_test, final_pred)\n",
        "final_fpr, final_tpr, _ = roc_curve(y_test, final_pred_proba)\n",
        "final_auc = auc(final_fpr, final_tpr)"
      ],
      "metadata": {
        "id": "fmRY2P-JQz95"
      },
      "execution_count": 67,
      "outputs": []
    },
    {
      "cell_type": "code",
      "source": [
        "log_event(\"FINAL_MODEL_EVALUATION\", \"Final model performance after tuning\", {\n",
        "    \"accuracy\": float(final_accuracy),\n",
        "    \"precision\": float(final_precision),\n",
        "    \"recall\": float(final_recall),\n",
        "    \"f1_score\": float(final_f1),\n",
        "    \"auc\": float(final_auc)\n",
        "})"
      ],
      "metadata": {
        "colab": {
          "base_uri": "https://localhost:8080/"
        },
        "id": "cnKtBJHHQ3HH",
        "outputId": "076f2d85-bef6-4704-9e2c-e54e8d8b43b3"
      },
      "execution_count": 68,
      "outputs": [
        {
          "output_type": "stream",
          "name": "stdout",
          "text": [
            "[2025-04-29T13:02:08.377287] FINAL_MODEL_EVALUATION: Final model performance after tuning\n"
          ]
        }
      ]
    },
    {
      "cell_type": "code",
      "source": [
        "print(\"\\nFinal Model Performance After Tuning:\")\n",
        "print(f\"Accuracy: {final_accuracy:.4f}\")\n",
        "print(f\"Precision: {final_precision:.4f}\")\n",
        "print(f\"Recall: {final_recall:.4f}\")\n",
        "print(f\"F1 Score: {final_f1:.4f}\")\n",
        "print(f\"AUC: {final_auc:.4f}\")"
      ],
      "metadata": {
        "colab": {
          "base_uri": "https://localhost:8080/"
        },
        "id": "8sB-MyVZQ427",
        "outputId": "ee604dc2-37e0-49b6-c8cb-28632328f06f"
      },
      "execution_count": 69,
      "outputs": [
        {
          "output_type": "stream",
          "name": "stdout",
          "text": [
            "\n",
            "Final Model Performance After Tuning:\n",
            "Accuracy: 0.9850\n",
            "Precision: 0.9826\n",
            "Recall: 0.9875\n",
            "F1 Score: 0.9850\n",
            "AUC: 0.9971\n"
          ]
        }
      ]
    },
    {
      "cell_type": "markdown",
      "source": [
        "### Confusion matrix for final model"
      ],
      "metadata": {
        "id": "I0o-f5WQaakr"
      }
    },
    {
      "cell_type": "code",
      "source": [
        "plt.figure(figsize=(8, 6))\n",
        "final_cm = confusion_matrix(y_test, final_pred)\n",
        "sns.heatmap(final_cm, annot=True, fmt='d', cmap='Blues')\n",
        "plt.title('Confusion Matrix - Final Tuned Model')\n",
        "plt.ylabel('True Label')\n",
        "plt.xlabel('Predicted Label')\n",
        "plt.show()"
      ],
      "metadata": {
        "colab": {
          "base_uri": "https://localhost:8080/",
          "height": 564
        },
        "id": "FN_JhqGGaeeW",
        "outputId": "d5ec5327-4035-439c-f023-fe4eda8d5f93"
      },
      "execution_count": 70,
      "outputs": [
        {
          "output_type": "display_data",
          "data": {
            "text/plain": [
              "<Figure size 800x600 with 2 Axes>"
            ],
            "image/png": "[encoded data removed]"
          },
          "metadata": {}
        }
      ]
    },
    {
      "cell_type": "markdown",
      "source": [
        "### ROC curve for final model"
      ],
      "metadata": {
        "id": "guLdSM5dagaF"
      }
    },
    {
      "cell_type": "code",
      "source": [
        "plt.figure(figsize=(8, 6))\n",
        "plt.plot(final_fpr, final_tpr, color='blue', lw=2, label=f'ROC curve (area = {final_auc:.2f})')\n",
        "plt.plot([0, 1], [0, 1], color='gray', lw=2, linestyle='--')\n",
        "plt.xlim([0.0, 1.0])\n",
        "plt.ylim([0.0, 1.05])\n",
        "plt.xlabel('False Positive Rate')\n",
        "plt.ylabel('True Positive Rate')\n",
        "plt.title('Receiver Operating Characteristic - Final Model')\n",
        "plt.legend(loc=\"lower right\")\n",
        "plt.show()"
      ],
      "metadata": {
        "colab": {
          "base_uri": "https://localhost:8080/",
          "height": 564
        },
        "id": "5uZkt16Iai6C",
        "outputId": "bf3c3adb-9eb3-4d6b-9ad1-608288552553"
      },
      "execution_count": 71,
      "outputs": [
        {
          "output_type": "display_data",
          "data": {
            "text/plain": [
              "<Figure size 800x600 with 1 Axes>"
            ],
            "image/png": "[encoded data removed]"
          },
          "metadata": {}
        }
      ]
    },
    {
      "cell_type": "markdown",
      "source": [
        "### Feature importance for final model"
      ],
      "metadata": {
        "id": "TlNg0ZTRamM_"
      }
    },
    {
      "cell_type": "code",
      "source": [
        "final_feature_importances = pd.DataFrame(\n",
        "    final_model.feature_importances_,\n",
        "    index=X.columns,\n",
        "    columns=['importance']\n",
        ").sort_values('importance', ascending=False)"
      ],
      "metadata": {
        "id": "1CSuhQ4ZaoBj"
      },
      "execution_count": 72,
      "outputs": []
    },
    {
      "cell_type": "code",
      "source": [
        "plt.figure(figsize=(12, 10))\n",
        "sns.barplot(x=final_feature_importances['importance'].head(15), y=final_feature_importances.index[:15])\n",
        "plt.title('Top 15 Feature Importances - Final Tuned Model')\n",
        "plt.tight_layout()\n",
        "plt.show()"
      ],
      "metadata": {
        "colab": {
          "base_uri": "https://localhost:8080/",
          "height": 1000
        },
        "id": "eVLJH0twatMK",
        "outputId": "63028e93-f9c0-4d1e-8038-13507dd954a3"
      },
      "execution_count": 73,
      "outputs": [
        {
          "output_type": "display_data",
          "data": {
            "text/plain": [
              "<Figure size 1200x1000 with 1 Axes>"
            ],
            "image/png": "[encoded data removed]"
          },
          "metadata": {}
        }
      ]
    },
    {
      "cell_type": "markdown",
      "source": [
        "## 8. Testing with Real-World URLs"
      ],
      "metadata": {
        "id": "xHOwb_Bn9hIa"
      }
    },
    {
      "cell_type": "code",
      "source": [
        "log_event(\"MODEL_TESTING\", \"Testing final model with comprehensive URL test cases\")"
      ],
      "metadata": {
        "colab": {
          "base_uri": "https://localhost:8080/"
        },
        "id": "hmNfn3Re9k_v",
        "outputId": "0472e9b1-4fda-465d-f7aa-e5def67cef37"
      },
      "execution_count": 74,
      "outputs": [
        {
          "output_type": "stream",
          "name": "stdout",
          "text": [
            "[2025-04-29T13:02:22.761619] MODEL_TESTING: Testing final model with comprehensive URL test cases\n"
          ]
        }
      ]
    },
    {
      "cell_type": "code",
      "source": [
        "def test_url(url, model, scaler):\n",
        "    \"\"\"Test a single URL with the trained model\"\"\"\n",
        "    features = extract_url_features(url)\n",
        "    features_df = pd.DataFrame([features])\n",
        "    features_scaled = scaler.transform(features_df)\n",
        "    prediction = model.predict(features_scaled)[0]\n",
        "    probability = model.predict_proba(features_scaled)[0, 1]  # Probability of being phishing\n",
        "    return prediction, probability, features"
      ],
      "metadata": {
        "id": "q7ju-tQW9z3s"
      },
      "execution_count": 75,
      "outputs": []
    },
    {
      "cell_type": "markdown",
      "source": [
        "### Test legitimate sites"
      ],
      "metadata": {
        "id": "RIavIvFB95jm"
      }
    },
    {
      "cell_type": "code",
      "source": [
        "legitimate_urls = [\n",
        "    # Major tech companies\n",
        "    \"https://www.google.com\",\n",
        "    \"https://www.microsoft.com\",\n",
        "    \"https://www.apple.com\",\n",
        "    \"https://www.amazon.com\",\n",
        "    \"https://www.facebook.com\",\n",
        "\n",
        "    # Non-HTTPS but legitimate - critical test cases\n",
        "    \"http://example.com\",\n",
        "    \"http://info.cern.ch\" # First ever website\n",
        "]"
      ],
      "metadata": {
        "id": "f1DnKrhN94EY"
      },
      "execution_count": 76,
      "outputs": []
    },
    {
      "cell_type": "code",
      "source": [
        "print(\"\\n==== Testing Known Legitimate URLs ====\")\n",
        "legitimate_results = []\n",
        "for url in legitimate_urls:\n",
        "    try:\n",
        "        prediction, probability, features = test_url(url, final_model, scaler)\n",
        "        status = \"❌ MISCLASSIFIED\" if prediction == 1 else \"✅ CORRECT\"\n",
        "\n",
        "        result = {\n",
        "            \"url\": url,\n",
        "            \"prediction\": prediction,\n",
        "            \"probability\": probability,\n",
        "            \"status\": status,\n",
        "            \"key_features\": {\n",
        "                \"uses_http\": features['uses_http'],\n",
        "                \"SubDomains\": features['SubDomains'],\n",
        "                \"DomainRegLen\": features['DomainRegLen']\n",
        "            }\n",
        "        }\n",
        "        legitimate_results.append(result)\n",
        "\n",
        "        print(f\"\\nURL: {url}\")\n",
        "        print(f\"Prediction: {'Phishing' if prediction == 1 else 'Legitimate'}\")\n",
        "        print(f\"Phishing Probability: {probability:.4f}\")\n",
        "        print(f\"Status: {status}\")\n",
        "        print(f\"Key Features: uses_http={features['uses_http']}, SubDomains={features['SubDomains']}, DomainRegLen={features['DomainRegLen']}\")\n",
        "\n",
        "    except Exception as e:\n",
        "        print(f\"Error analyzing {url}: {str(e)}\")"
      ],
      "metadata": {
        "colab": {
          "base_uri": "https://localhost:8080/"
        },
        "id": "N9qiwTEp9-eN",
        "outputId": "c18be0a1-154e-4838-e12c-07c61e88976e"
      },
      "execution_count": 77,
      "outputs": [
        {
          "output_type": "stream",
          "name": "stdout",
          "text": [
            "\n",
            "==== Testing Known Legitimate URLs ====\n",
            "\n",
            "URL: https://www.google.com\n",
            "Prediction: Legitimate\n",
            "Phishing Probability: 0.0252\n",
            "Status: ✅ CORRECT\n",
            "Key Features: uses_http=0, SubDomains=1, DomainRegLen=1\n",
            "\n",
            "URL: https://www.microsoft.com\n",
            "Prediction: Legitimate\n",
            "Phishing Probability: 0.0136\n",
            "Status: ✅ CORRECT\n",
            "Key Features: uses_http=0, SubDomains=1, DomainRegLen=1\n",
            "\n",
            "URL: https://www.apple.com\n",
            "Prediction: Legitimate\n",
            "Phishing Probability: 0.0252\n",
            "Status: ✅ CORRECT\n",
            "Key Features: uses_http=0, SubDomains=1, DomainRegLen=1\n",
            "\n",
            "URL: https://www.amazon.com\n",
            "Prediction: Legitimate\n",
            "Phishing Probability: 0.0252\n",
            "Status: ✅ CORRECT\n",
            "Key Features: uses_http=0, SubDomains=1, DomainRegLen=1\n",
            "\n",
            "URL: https://www.facebook.com\n",
            "Prediction: Legitimate\n",
            "Phishing Probability: 0.0175\n",
            "Status: ✅ CORRECT\n",
            "Key Features: uses_http=0, SubDomains=1, DomainRegLen=1\n"
          ]
        },
        {
          "output_type": "stream",
          "name": "stderr",
          "text": [
            "2025-04-29 13:02:52,669 - whois.whois - ERROR - Error trying to connect to socket: closing socket - [Errno 111] Connection refused\n",
            "ERROR:whois.whois:Error trying to connect to socket: closing socket - [Errno 111] Connection refused\n"
          ]
        },
        {
          "output_type": "stream",
          "name": "stdout",
          "text": [
            "\n",
            "URL: http://example.com\n",
            "Prediction: Legitimate\n",
            "Phishing Probability: 0.4552\n",
            "Status: ✅ CORRECT\n",
            "Key Features: uses_http=1, SubDomains=0, DomainRegLen=1\n",
            "\n",
            "URL: http://info.cern.ch\n",
            "Prediction: Phishing\n",
            "Phishing Probability: 0.5215\n",
            "Status: ❌ MISCLASSIFIED\n",
            "Key Features: uses_http=1, SubDomains=1, DomainRegLen=0\n"
          ]
        }
      ]
    },
    {
      "cell_type": "markdown",
      "source": [
        "### Calculate accuracy on legitimate URLs"
      ],
      "metadata": {
        "id": "fCb5cpOsc_g9"
      }
    },
    {
      "cell_type": "code",
      "source": [
        "legitimate_accuracy = sum(1 for r in legitimate_results if r[\"status\"] == \"✅ CORRECT\") / len(legitimate_results)\n",
        "print(f\"\\nAccuracy on legitimate URLs: {legitimate_accuracy:.2%}\")"
      ],
      "metadata": {
        "colab": {
          "base_uri": "https://localhost:8080/"
        },
        "id": "VHOWeRgSdBJL",
        "outputId": "44d60e56-10dd-400b-89e3-4d4520723049"
      },
      "execution_count": 78,
      "outputs": [
        {
          "output_type": "stream",
          "name": "stdout",
          "text": [
            "\n",
            "Accuracy on legitimate URLs: 85.71%\n"
          ]
        }
      ]
    },
    {
      "cell_type": "markdown",
      "source": [
        "### Test known phishing patterns"
      ],
      "metadata": {
        "id": "XGNGIsue-BOq"
      }
    },
    {
      "cell_type": "code",
      "source": [
        "phishing_patterns = [\n",
        "    # Brand impersonation with subdomains\n",
        "    \"https://paypal.secure.phishing-site.com/login\",\n",
        "    \"https://verification-apple.account-info.net/signin\",\n",
        "    \"https://accounts.google.verification.loginauth.net/signin\",\n",
        "\n",
        "    # Typosquatting\n",
        "    \"https://www.arnazon.com/signin\",\n",
        "    \"https://www.micro-soft.com/login\",\n",
        "    \"https://www.gooogle.com/accounts\",\n",
        "\n",
        "    # Suspicious parameters and paths\n",
        "    \"https://legitimate-looking.com/login.php?target=paypal&session=expired\",\n",
        "    \"https://banking-secure.phish.org/verification/customer/login.html?ref=urgent\",\n",
        "\n",
        "    # IP addresses in URL\n",
        "    \"http://192.168.1.1/banking/login\",\n",
        "    \"https://123.45.67.89/signin/verification\",\n",
        "\n",
        "    # Uncommon TLDs with suspicious paths\n",
        "    \"https://banking-secure.xyz/verify-now\",\n",
        "    \"https://account-update.top/secure-signin\"\n",
        "]"
      ],
      "metadata": {
        "id": "7tvEEsdB-Eft"
      },
      "execution_count": 79,
      "outputs": []
    },
    {
      "cell_type": "code",
      "source": [
        "print(\"\\n==== Testing Phishing URL Patterns ====\")\n",
        "phishing_results = []\n",
        "for url in phishing_patterns:\n",
        "    try:\n",
        "        prediction, probability, features = test_url(url, final_model, scaler)\n",
        "        status = \"❌ MISCLASSIFIED\" if prediction == 0 else \"✅ CORRECT\"\n",
        "\n",
        "        result = {\n",
        "            \"url\": url,\n",
        "            \"prediction\": prediction,\n",
        "            \"probability\": probability,\n",
        "            \"status\": status,\n",
        "            \"key_features\": {\n",
        "                \"uses_http\": features['uses_http'],\n",
        "                \"SubDomains\": features['SubDomains'],\n",
        "                \"AbnormalURL\": features['AbnormalURL']\n",
        "            }\n",
        "        }\n",
        "        phishing_results.append(result)\n",
        "\n",
        "        print(f\"\\nURL: {url}\")\n",
        "        print(f\"Prediction: {'Phishing' if prediction == 1 else 'Legitimate'}\")\n",
        "        print(f\"Phishing Probability: {probability:.4f}\")\n",
        "        print(f\"Status: {status}\")\n",
        "        print(f\"Key Features: uses_http={features['uses_http']}, AbnormalURL={features['AbnormalURL']}, SubDomains={features['SubDomains']}\")\n",
        "    except Exception as e:\n",
        "        print(f\"Error analyzing {url}: {str(e)}\")"
      ],
      "metadata": {
        "colab": {
          "base_uri": "https://localhost:8080/"
        },
        "id": "kZ43c5NR-GQq",
        "outputId": "c31a819f-d63a-430c-e988-f6958fe4531c"
      },
      "execution_count": 80,
      "outputs": [
        {
          "output_type": "stream",
          "name": "stdout",
          "text": [
            "\n",
            "==== Testing Phishing URL Patterns ====\n",
            "\n",
            "URL: https://paypal.secure.phishing-site.com/login\n",
            "Prediction: Phishing\n",
            "Phishing Probability: 0.7442\n",
            "Status: ✅ CORRECT\n",
            "Key Features: uses_http=0, AbnormalURL=1, SubDomains=2\n",
            "\n",
            "URL: https://verification-apple.account-info.net/signin\n",
            "Prediction: Phishing\n",
            "Phishing Probability: 0.7427\n",
            "Status: ✅ CORRECT\n",
            "Key Features: uses_http=0, AbnormalURL=1, SubDomains=1\n",
            "\n",
            "URL: https://accounts.google.verification.loginauth.net/signin\n",
            "Prediction: Legitimate\n",
            "Phishing Probability: 0.4973\n",
            "Status: ❌ MISCLASSIFIED\n",
            "Key Features: uses_http=0, AbnormalURL=1, SubDomains=3\n",
            "\n",
            "URL: https://www.arnazon.com/signin\n",
            "Prediction: Legitimate\n",
            "Phishing Probability: 0.2518\n",
            "Status: ❌ MISCLASSIFIED\n",
            "Key Features: uses_http=0, AbnormalURL=1, SubDomains=1\n",
            "\n",
            "URL: https://www.micro-soft.com/login\n",
            "Prediction: Legitimate\n",
            "Phishing Probability: 0.3562\n",
            "Status: ❌ MISCLASSIFIED\n",
            "Key Features: uses_http=0, AbnormalURL=1, SubDomains=1\n",
            "\n",
            "URL: https://www.gooogle.com/accounts\n",
            "Prediction: Legitimate\n",
            "Phishing Probability: 0.0946\n",
            "Status: ❌ MISCLASSIFIED\n",
            "Key Features: uses_http=0, AbnormalURL=1, SubDomains=1\n",
            "\n",
            "URL: https://legitimate-looking.com/login.php?target=paypal&session=expired\n",
            "Prediction: Phishing\n",
            "Phishing Probability: 0.9086\n",
            "Status: ✅ CORRECT\n",
            "Key Features: uses_http=0, AbnormalURL=1, SubDomains=0\n",
            "\n",
            "URL: https://banking-secure.phish.org/verification/customer/login.html?ref=urgent\n",
            "Prediction: Legitimate\n",
            "Phishing Probability: 0.0626\n",
            "Status: ❌ MISCLASSIFIED\n",
            "Key Features: uses_http=0, AbnormalURL=1, SubDomains=1\n",
            "\n",
            "URL: http://192.168.1.1/banking/login\n",
            "Prediction: Phishing\n",
            "Phishing Probability: 0.9879\n",
            "Status: ✅ CORRECT\n",
            "Key Features: uses_http=1, AbnormalURL=1, SubDomains=0\n",
            "\n",
            "URL: https://123.45.67.89/signin/verification\n",
            "Prediction: Phishing\n",
            "Phishing Probability: 0.8603\n",
            "Status: ✅ CORRECT\n",
            "Key Features: uses_http=0, AbnormalURL=1, SubDomains=0\n",
            "\n",
            "URL: https://banking-secure.xyz/verify-now\n",
            "Prediction: Phishing\n",
            "Phishing Probability: 0.9252\n",
            "Status: ✅ CORRECT\n",
            "Key Features: uses_http=0, AbnormalURL=1, SubDomains=0\n",
            "\n",
            "URL: https://account-update.top/secure-signin\n",
            "Prediction: Phishing\n",
            "Phishing Probability: 0.9252\n",
            "Status: ✅ CORRECT\n",
            "Key Features: uses_http=0, AbnormalURL=1, SubDomains=0\n"
          ]
        }
      ]
    },
    {
      "cell_type": "markdown",
      "source": [
        "### Calculate accuracy on phishing URLs"
      ],
      "metadata": {
        "id": "MPIoYsBzdIIj"
      }
    },
    {
      "cell_type": "code",
      "source": [
        "phishing_accuracy = sum(1 for r in phishing_results if r[\"status\"] == \"✅ CORRECT\") / len(phishing_results)\n",
        "print(f\"\\nAccuracy on phishing URLs: {phishing_accuracy:.2%}\")"
      ],
      "metadata": {
        "colab": {
          "base_uri": "https://localhost:8080/"
        },
        "id": "ScdYVSkddJrn",
        "outputId": "c5e3d9fa-17c7-48ad-953f-b00e39459724"
      },
      "execution_count": 81,
      "outputs": [
        {
          "output_type": "stream",
          "name": "stdout",
          "text": [
            "\n",
            "Accuracy on phishing URLs: 58.33%\n"
          ]
        }
      ]
    },
    {
      "cell_type": "markdown",
      "source": [
        "### Overall testing statistics"
      ],
      "metadata": {
        "id": "HdgUg0uSdOuE"
      }
    },
    {
      "cell_type": "code",
      "source": [
        "print(\"\\n==== Overall Testing Results ====\")\n",
        "all_results = legitimate_results + phishing_results\n",
        "overall_accuracy = sum(1 for r in all_results if r[\"status\"] == \"✅ CORRECT\") / len(all_results)\n",
        "print(f\"Overall accuracy: {overall_accuracy:.2%}\")"
      ],
      "metadata": {
        "colab": {
          "base_uri": "https://localhost:8080/"
        },
        "id": "PkKB2obidQ9T",
        "outputId": "52c8a39d-7c77-40a8-a174-854ae31fe0d5"
      },
      "execution_count": 82,
      "outputs": [
        {
          "output_type": "stream",
          "name": "stdout",
          "text": [
            "\n",
            "==== Overall Testing Results ====\n",
            "Overall accuracy: 68.42%\n"
          ]
        }
      ]
    },
    {
      "cell_type": "markdown",
      "source": [
        "### Log test results"
      ],
      "metadata": {
        "id": "ll1lojObdRa_"
      }
    },
    {
      "cell_type": "code",
      "source": [
        "log_event(\"MODEL_TESTING_RESULTS\", \"Results of comprehensive URL testing\", {\n",
        "    \"legitimate_url_accuracy\": float(legitimate_accuracy),\n",
        "    \"phishing_url_accuracy\": float(phishing_accuracy),\n",
        "    \"overall_accuracy\": float(overall_accuracy),\n",
        "    \"legitimate_urls_tested\": len(legitimate_results),\n",
        "    \"phishing_urls_tested\": len(phishing_results)\n",
        "})"
      ],
      "metadata": {
        "colab": {
          "base_uri": "https://localhost:8080/"
        },
        "id": "P-Ro2sfQdUAa",
        "outputId": "1e1e02eb-5f4c-4e24-a957-9fa08e631565"
      },
      "execution_count": 83,
      "outputs": [
        {
          "output_type": "stream",
          "name": "stdout",
          "text": [
            "[2025-04-29T13:04:06.436393] MODEL_TESTING_RESULTS: Results of comprehensive URL testing\n"
          ]
        }
      ]
    },
    {
      "cell_type": "markdown",
      "source": [
        "## 9. Save Model and Artifacts"
      ],
      "metadata": {
        "id": "nKXvjp457x_G"
      }
    },
    {
      "cell_type": "code",
      "source": [
        "log_event(\"MODEL_SAVING\", \"Saving final model and artifacts\")\n",
        "start_time = time.time()"
      ],
      "metadata": {
        "colab": {
          "base_uri": "https://localhost:8080/"
        },
        "id": "ESj4OJI672Ue",
        "outputId": "0b9981e2-cd0b-4536-fdb2-b912d5a10532"
      },
      "execution_count": 84,
      "outputs": [
        {
          "output_type": "stream",
          "name": "stdout",
          "text": [
            "[2025-04-29T13:04:07.895751] MODEL_SAVING: Saving final model and artifacts\n"
          ]
        }
      ]
    },
    {
      "cell_type": "markdown",
      "source": [
        "### Save the models"
      ],
      "metadata": {
        "id": "3aJ-TqIf8Cvq"
      }
    },
    {
      "cell_type": "code",
      "source": [
        "joblib.dump(final_model, MODEL_OUTPUT_PATH)\n",
        "joblib.dump(scaler, SCALER_OUTPUT_PATH)"
      ],
      "metadata": {
        "colab": {
          "base_uri": "https://localhost:8080/"
        },
        "id": "xKfcvOQR8EgC",
        "outputId": "9cc5c9af-189b-4b05-98b9-542f79eafb10"
      },
      "execution_count": 85,
      "outputs": [
        {
          "output_type": "execute_result",
          "data": {
            "text/plain": [
              "['/content/drive/MyDrive/PUSL3190/models/chatbot/chatbot_scaler.pkl']"
            ]
          },
          "metadata": {},
          "execution_count": 85
        }
      ]
    },
    {
      "cell_type": "markdown",
      "source": [
        "### Save feature names for inference"
      ],
      "metadata": {
        "id": "BYSJioqy8Y5j"
      }
    },
    {
      "cell_type": "code",
      "source": [
        "with open(FEATURES_OUTPUT_PATH, 'w') as f:\n",
        "    json.dump(list(X.columns), f)"
      ],
      "metadata": {
        "id": "JtefTdGd8Z9n"
      },
      "execution_count": 86,
      "outputs": []
    },
    {
      "cell_type": "markdown",
      "source": [
        "### Save model parameters and metadata"
      ],
      "metadata": {
        "id": "v7DbJNdX834x"
      }
    },
    {
      "cell_type": "code",
      "source": [
        "model_info = {\n",
        "    \"name\": \"chatbot_random_forest_model\",\n",
        "    \"type\": \"random_forest\",\n",
        "    \"version\": \"1.0\",\n",
        "    \"trained_at\": datetime.now().isoformat(),\n",
        "    \"accuracy\": float(final_accuracy),\n",
        "    \"precision\": float(final_precision),\n",
        "    \"recall\": float(final_recall),\n",
        "    \"f1_score\": float(final_f1),\n",
        "    \"auc\": float(final_auc),\n",
        "    \"parameters\": {\n",
        "        \"n_estimators\": final_model.n_estimators,\n",
        "        \"max_depth\": final_model.max_depth,\n",
        "        \"min_samples_split\": final_model.min_samples_split,\n",
        "        \"min_samples_leaf\": final_model.min_samples_leaf,\n",
        "        \"max_features\": str(final_model.max_features)\n",
        "    },\n",
        "    \"feature_importances\": {\n",
        "        name: float(importance) for name, importance in\n",
        "        zip(final_feature_importances.index, final_feature_importances['importance'])\n",
        "    },\n",
        "    \"dataset_size\": df.shape[0],\n",
        "    \"training_samples\": X_train.shape[0],\n",
        "    \"test_samples\": X_test.shape[0],\n",
        "    \"features_implemented\": list(X.columns)\n",
        "}"
      ],
      "metadata": {
        "id": "MwYuwCjV87yL"
      },
      "execution_count": 87,
      "outputs": []
    },
    {
      "cell_type": "code",
      "source": [
        "with open(METADATA_OUTPUT_PATH, 'w') as f:\n",
        "    json.dump(model_info, f, indent=2)"
      ],
      "metadata": {
        "id": "bP-vluhK8_Al"
      },
      "execution_count": 88,
      "outputs": []
    },
    {
      "cell_type": "markdown",
      "source": [
        "### Save all logs to file"
      ],
      "metadata": {
        "id": "t5RxNcEDRfUq"
      }
    },
    {
      "cell_type": "code",
      "source": [
        "saving_time = time.time() - start_time\n",
        "log_event(\"TIMING\", f\"Model saving completed in {saving_time:.2f} seconds\")"
      ],
      "metadata": {
        "colab": {
          "base_uri": "https://localhost:8080/"
        },
        "id": "6w_9ZPp9Rf2K",
        "outputId": "a05c1645-e5ca-401b-acbc-82e656dcf5c7"
      },
      "execution_count": 89,
      "outputs": [
        {
          "output_type": "stream",
          "name": "stdout",
          "text": [
            "[2025-04-29T13:04:21.946849] TIMING: Model saving completed in 14.05 seconds\n"
          ]
        }
      ]
    },
    {
      "cell_type": "code",
      "source": [
        "def save_logs_with_append(log_data, log_file_path):\n",
        "    try:\n",
        "        with open(log_file_path, 'r') as f:\n",
        "            try:\n",
        "                existing_logs = json.load(f)\n",
        "                if not isinstance(existing_logs, list):\n",
        "                    existing_logs = []\n",
        "            except json.JSONDecodeError:\n",
        "                existing_logs = []\n",
        "    except FileNotFoundError:\n",
        "        existing_logs = []\n",
        "\n",
        "    combined_logs = existing_logs + log_data\n",
        "\n",
        "    with open(log_file_path, 'w') as f:\n",
        "        json.dump(combined_logs, f, indent=2)\n",
        "\n",
        "    print(f\"Appended {len(log_data)} new log entries to {log_file_path}\")\n",
        "    return combined_logs"
      ],
      "metadata": {
        "id": "t3cYCPUnMzBj"
      },
      "execution_count": 90,
      "outputs": []
    },
    {
      "cell_type": "code",
      "source": [
        "combined_logs = save_logs_with_append(log_data, LOG_OUTPUT_PATH)"
      ],
      "metadata": {
        "id": "APbQ1IfsRjwo",
        "colab": {
          "base_uri": "https://localhost:8080/"
        },
        "outputId": "b162eed1-f079-4436-82c8-7d9d1efbe3eb"
      },
      "execution_count": 91,
      "outputs": [
        {
          "output_type": "stream",
          "name": "stdout",
          "text": [
            "Appended 22 new log entries to /content/drive/MyDrive/PUSL3190/logs/chatbot_training_log.json\n"
          ]
        }
      ]
    },
    {
      "cell_type": "code",
      "source": [
        "print(\"\\n===== TRAINING COMPLETE =====\")\n",
        "print(f\"Final model accuracy: {final_accuracy:.4f}\")\n",
        "print(f\"Model saved to {MODEL_OUTPUT_PATH}\")\n",
        "print(f\"Logs saved to {LOG_OUTPUT_PATH}\")"
      ],
      "metadata": {
        "colab": {
          "base_uri": "https://localhost:8080/"
        },
        "id": "2Ss-pOMjRGot",
        "outputId": "2c39b47d-0660-45bd-b52d-8d9f5dab6ae6"
      },
      "execution_count": 92,
      "outputs": [
        {
          "output_type": "stream",
          "name": "stdout",
          "text": [
            "\n",
            "===== TRAINING COMPLETE =====\n",
            "Final model accuracy: 0.9850\n",
            "Model saved to /content/drive/MyDrive/PUSL3190/models/chatbot/chatbot_model.pkl\n",
            "Logs saved to /content/drive/MyDrive/PUSL3190/logs/chatbot_training_log.json\n"
          ]
        }
      ]
    }
  ]
}