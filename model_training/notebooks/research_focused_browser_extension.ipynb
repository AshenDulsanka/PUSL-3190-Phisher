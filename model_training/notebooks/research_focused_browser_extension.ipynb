{
  "nbformat": 4,
  "nbformat_minor": 0,
  "metadata": {
    "colab": {
      "provenance": []
    },
    "kernelspec": {
      "name": "python3",
      "display_name": "Python 3"
    },
    "language_info": {
      "name": "python"
    }
  },
  "cells": [
    {
      "cell_type": "markdown",
      "source": [
        "# AI-Powered URL Phishing Detection System\n",
        "# High-Performance Lightweight Classifier for Browser Extension"
      ],
      "metadata": {
        "id": "Txy20nPFufoa"
      }
    },
    {
      "cell_type": "markdown",
      "source": [
        "## Setup and Imports"
      ],
      "metadata": {
        "id": "lpApF4T2up6L"
      }
    },
    {
      "cell_type": "code",
      "execution_count": 70,
      "metadata": {
        "id": "pfSr4TMCA3wE",
        "colab": {
          "base_uri": "https://localhost:8080/"
        },
        "outputId": "262813f9-624a-4e7c-f44e-f42fb4af5734"
      },
      "outputs": [
        {
          "output_type": "stream",
          "name": "stdout",
          "text": [
            "Requirement already satisfied: tldextract in /usr/local/lib/python3.11/dist-packages (5.3.0)\n",
            "Requirement already satisfied: idna in /usr/local/lib/python3.11/dist-packages (from tldextract) (3.10)\n",
            "Requirement already satisfied: requests>=2.1.0 in /usr/local/lib/python3.11/dist-packages (from tldextract) (2.32.3)\n",
            "Requirement already satisfied: requests-file>=1.4 in /usr/local/lib/python3.11/dist-packages (from tldextract) (2.1.0)\n",
            "Requirement already satisfied: filelock>=3.0.8 in /usr/local/lib/python3.11/dist-packages (from tldextract) (3.18.0)\n",
            "Requirement already satisfied: charset-normalizer<4,>=2 in /usr/local/lib/python3.11/dist-packages (from requests>=2.1.0->tldextract) (3.4.2)\n",
            "Requirement already satisfied: urllib3<3,>=1.21.1 in /usr/local/lib/python3.11/dist-packages (from requests>=2.1.0->tldextract) (2.4.0)\n",
            "Requirement already satisfied: certifi>=2017.4.17 in /usr/local/lib/python3.11/dist-packages (from requests>=2.1.0->tldextract) (2025.6.15)\n"
          ]
        }
      ],
      "source": [
        "!pip install tldextract"
      ]
    },
    {
      "cell_type": "code",
      "source": [
        "import pandas as pd\n",
        "import numpy as np\n",
        "import matplotlib.pyplot as plt\n",
        "import seaborn as sns\n",
        "import time\n",
        "import json\n",
        "import os\n",
        "import re\n",
        "import tldextract\n",
        "import joblib\n",
        "import math\n",
        "from datetime import datetime\n",
        "from sklearn.model_selection import train_test_split, GridSearchCV, StratifiedKFold\n",
        "from sklearn.ensemble import RandomForestClassifier, GradientBoostingClassifier, VotingClassifier\n",
        "from sklearn.metrics import accuracy_score, precision_score, recall_score, f1_score, roc_curve, auc, confusion_matrix\n",
        "from sklearn.preprocessing import StandardScaler\n",
        "from sklearn.feature_selection import SelectKBest, chi2, RFE\n",
        "from sklearn.linear_model import LogisticRegression\n",
        "from urllib.parse import urlparse\n",
        "import warnings\n",
        "warnings.filterwarnings('ignore')"
      ],
      "metadata": {
        "id": "4MIc_jfZuuHA"
      },
      "execution_count": 71,
      "outputs": []
    },
    {
      "cell_type": "markdown",
      "source": [
        "## Configuration and Logging"
      ],
      "metadata": {
        "id": "h1sheheeuwuI"
      }
    },
    {
      "cell_type": "code",
      "source": [
        "log_data = []\n",
        "\n",
        "def log_event(event_type, message, metadata=None):\n",
        "    \"\"\"Log events for research documentation\"\"\"\n",
        "    log_entry = {\n",
        "        \"timestamp\": datetime.now().isoformat(),\n",
        "        \"event_type\": event_type,\n",
        "        \"message\": message,\n",
        "        \"metadata\": metadata or {}\n",
        "    }\n",
        "    log_data.append(log_entry)\n",
        "    print(f\"[{log_entry['timestamp']}] {event_type}: {message}\")"
      ],
      "metadata": {
        "id": "KaGfIsFduyju"
      },
      "execution_count": 72,
      "outputs": []
    },
    {
      "cell_type": "markdown",
      "source": [
        "### Define paths"
      ],
      "metadata": {
        "id": "ILIXJevEu0eO"
      }
    },
    {
      "cell_type": "code",
      "source": [
        "from google.colab import drive\n",
        "drive.mount('/content/drive')"
      ],
      "metadata": {
        "colab": {
          "base_uri": "https://localhost:8080/"
        },
        "id": "tYQ-cQsWyMBg",
        "outputId": "57f41adf-a700-4d06-fdf1-f8271a47824b"
      },
      "execution_count": 73,
      "outputs": [
        {
          "output_type": "stream",
          "name": "stdout",
          "text": [
            "Drive already mounted at /content/drive; to attempt to forcibly remount, call drive.mount(\"/content/drive\", force_remount=True).\n"
          ]
        }
      ]
    },
    {
      "cell_type": "code",
      "source": [
        "BASE_PATH = '/content/drive/MyDrive/PUSL3190'\n",
        "RAW_DATA_PATH = f'{BASE_PATH}/data/raw/phishing_site_urls.csv'\n",
        "PROCESSED_DATA_PATH = f'{BASE_PATH}/data/processed/browser_extension/ultra_high_recall_features.csv'\n",
        "MODEL_OUTPUT_PATH = f'{BASE_PATH}/models/browser_extension/ultra_high_recall_model.pkl'\n",
        "SCALER_OUTPUT_PATH = f'{BASE_PATH}/models/browser_extension/ultra_high_recall_scaler.pkl'\n",
        "METADATA_OUTPUT_PATH = f'{BASE_PATH}/models/browser_extension/ultra_high_recall_metadata.json'\n",
        "LOG_OUTPUT_PATH = f'{BASE_PATH}/logs/ultra_high_recall_training_log.json'"
      ],
      "metadata": {
        "id": "79CCc52MyPr6"
      },
      "execution_count": 74,
      "outputs": []
    },
    {
      "cell_type": "markdown",
      "source": [
        "# Create directories"
      ],
      "metadata": {
        "id": "lqEnQ5WZyUIx"
      }
    },
    {
      "cell_type": "code",
      "source": [
        "os.makedirs(f'{BASE_PATH}/data/processed/browser_extension', exist_ok=True)\n",
        "os.makedirs(f'{BASE_PATH}/models/browser_extension', exist_ok=True)\n",
        "os.makedirs(f'{BASE_PATH}/logs', exist_ok=True)"
      ],
      "metadata": {
        "id": "vM-3eJ9eyTjw"
      },
      "execution_count": 75,
      "outputs": []
    },
    {
      "cell_type": "markdown",
      "source": [
        "## 1. Data Loading and Exploration"
      ],
      "metadata": {
        "id": "kLlVXo-_yYIB"
      }
    },
    {
      "cell_type": "code",
      "source": [
        "log_event(\"DATA_LOADING\", \"Loading and enhancing dataset with modern phishing patterns\")\n",
        "start_time = time.time()"
      ],
      "metadata": {
        "colab": {
          "base_uri": "https://localhost:8080/"
        },
        "id": "Hamu0CHjyYex",
        "outputId": "f347ad39-729f-4df7-a7c4-12785fd565e9"
      },
      "execution_count": 76,
      "outputs": [
        {
          "output_type": "stream",
          "name": "stdout",
          "text": [
            "[2025-06-25T05:44:36.152139] DATA_LOADING: Loading and enhancing dataset with modern phishing patterns\n"
          ]
        }
      ]
    },
    {
      "cell_type": "code",
      "source": [
        "try:\n",
        "    df = pd.read_csv(RAW_DATA_PATH)\n",
        "    if 'class' not in df.columns:\n",
        "        df = df.rename(columns={'label': 'class'})\n",
        "\n",
        "    # Convert labels to numeric\n",
        "    if df['class'].dtype == 'object':\n",
        "        print(f\"Converting string labels to numeric. Unique values: {df['class'].unique()}\")\n",
        "        df['class'] = df['class'].map({'good': 0, 'bad': 1, 'legitimate': 0, 'phishing': 1})\n",
        "\n",
        "    print(f\"Original dataset shape: {df.shape}\")\n",
        "    print(f\"Class distribution:\\n{df['class'].value_counts()}\")\n",
        "\n",
        "    modern_phishing_patterns = [\n",
        "        \"https://paypal-verification.secure-login.net/signin\",\n",
        "        \"https://accounts-google.verify-security.com/login\",\n",
        "        \"https://microsoft-login.security-update.org/signin\",\n",
        "        \"https://amazon-security.customer-verification.org/signin\",\n",
        "        \"https://bit.ly/bank-verification-urgent\",\n",
        "        \"https://tinyurl.com/paypal-suspended\",\n",
        "        \"https://login.accounts.google.security-check.net/signin\",\n",
        "        \"https://wells-fargo-security.account-verification.net/login\",\n",
        "        \"https://faceit.eternalgamlng.com/\",\n",
        "        \"https://secure-account-verification.net/urgent-action-required\",\n",
        "        \"https://banking-security-alert.com/immediate-response\",\n",
        "        \"https://account-locked-verify.org/unlock-now\",\n",
        "        \"https://payment-suspended-update.net/restore-access\",\n",
        "        \"https://security-warning-immediate.com/verify-identity\",\n",
        "        \"https://secure.paypal.verification.account-locked.org/verify\",\n",
        "        \"https://citibank-urgent-security.verification-required.org/signin\",\n",
        "        # more sophisticated patterns\n",
        "        \"https://apple-id-verify.security-update.com/unlock\",\n",
        "        \"https://chase-mobile-banking.security-alert.net/verify\",\n",
        "        \"https://netflix-billing-update.payment-required.org/renew\",\n",
        "        \"https://amazon-order-problem.delivery-update.com/resolve\",\n",
        "        \"https://microsoft-office365.license-expired.org/renew\",\n",
        "        \"https://google-drive-shared.document-access.net/view\",\n",
        "        \"https://secure-login.facebook-security.account-verify.com/login\",\n",
        "        \"https://instagram-verified-badge.application-process.net/apply\",\n",
        "        \"https://twitter-account-suspended.appeal-process.org/restore\",\n",
        "        \"https://linkedin-premium-trial.special-offer.com/upgrade\",\n",
        "        # IP-based modern attacks\n",
        "        \"http://45.67.89.123/secure-banking/chase/login\",\n",
        "        \"http://192.168.100.50/paypal-verification/account\",\n",
        "        \"https://203.45.67.89/apple-id-verify/security\",\n",
        "        # Subdomain complexity attacks\n",
        "        \"https://login.secure.accounts.verification.google.security-check.net/signin\",\n",
        "        \"https://banking.secure.chase.customer.verification.account-locked.org/verify\",\n",
        "        \"https://payment.billing.paypal.customer.support.verification-required.com/signin\"\n",
        "    ]\n",
        "\n",
        "    # modern phishing patterns to dataset\n",
        "    modern_phishing_df = pd.DataFrame({\n",
        "        'URL': modern_phishing_patterns,\n",
        "        'class': [1] * len(modern_phishing_patterns)\n",
        "    })\n",
        "\n",
        "    # Combine with original dataset\n",
        "    df = pd.concat([df, modern_phishing_df], ignore_index=True)\n",
        "\n",
        "    print(f\"Enhanced dataset shape: {df.shape}\")\n",
        "    print(f\"Added {len(modern_phishing_patterns)} modern phishing patterns\")\n",
        "    print(f\"Enhanced class distribution:\\n{df['class'].value_counts()}\")\n",
        "\n",
        "    # Analyze current phishing patterns\n",
        "    phishing_urls = df[df['class'] == 1]['URL']\n",
        "    legitimate_urls = df[df['class'] == 0]['URL']\n",
        "\n",
        "    print(f\"\\nModern phishing analysis:\")\n",
        "    print(f\"Phishing URLs using HTTPS: {sum(url.startswith('https') for url in phishing_urls) / len(phishing_urls):.2%}\")\n",
        "    print(f\"Legitimate URLs using HTTPS: {sum(url.startswith('https') for url in legitimate_urls) / len(legitimate_urls):.2%}\")\n",
        "\n",
        "    log_event(\"DATA_LOADED\", f\"Enhanced dataset loaded with {df.shape[0]} samples\")\n",
        "\n",
        "except Exception as e:\n",
        "    log_event(\"ERROR\", f\"Failed to load dataset: {str(e)}\")\n",
        "    raise"
      ],
      "metadata": {
        "colab": {
          "base_uri": "https://localhost:8080/"
        },
        "id": "hq-G56CbybYk",
        "outputId": "84136365-4b04-4077-9bd6-04067f6059a3"
      },
      "execution_count": 77,
      "outputs": [
        {
          "output_type": "stream",
          "name": "stdout",
          "text": [
            "Original dataset shape: (4000, 2)\n",
            "Class distribution:\n",
            "class\n",
            "1    2000\n",
            "0    2000\n",
            "Name: count, dtype: int64\n",
            "Enhanced dataset shape: (4032, 2)\n",
            "Added 32 modern phishing patterns\n",
            "Enhanced class distribution:\n",
            "class\n",
            "1    2032\n",
            "0    2000\n",
            "Name: count, dtype: int64\n",
            "\n",
            "Modern phishing analysis:\n",
            "Phishing URLs using HTTPS: 7.63%\n",
            "Legitimate URLs using HTTPS: 100.00%\n",
            "[2025-06-25T05:44:36.188333] DATA_LOADED: Enhanced dataset loaded with 4032 samples\n"
          ]
        }
      ]
    },
    {
      "cell_type": "code",
      "source": [
        "loading_time = time.time() - start_time\n",
        "log_event(\"TIMING\", f\"Data loading and enhancement completed in {loading_time:.2f} seconds\")"
      ],
      "metadata": {
        "colab": {
          "base_uri": "https://localhost:8080/"
        },
        "id": "FaL-PXXWyd_B",
        "outputId": "25c193e9-01ca-402a-fb7d-46687240d33e"
      },
      "execution_count": 78,
      "outputs": [
        {
          "output_type": "stream",
          "name": "stdout",
          "text": [
            "[2025-06-25T05:44:36.196017] TIMING: Data loading and enhancement completed in 0.04 seconds\n"
          ]
        }
      ]
    },
    {
      "cell_type": "markdown",
      "source": [
        "## 2. Advanced Feature Engineering for Real-World Performance"
      ],
      "metadata": {
        "id": "yfSJjFq8yhAa"
      }
    },
    {
      "cell_type": "code",
      "source": [
        "log_event(\"FEATURE_ENGINEERING\", \"Extracting ultra-high recall features\")\n",
        "start_time = time.time()"
      ],
      "metadata": {
        "colab": {
          "base_uri": "https://localhost:8080/"
        },
        "id": "hvGvv41jyikD",
        "outputId": "5c290bd9-f33e-446b-81a5-9624167ce3ea"
      },
      "execution_count": 79,
      "outputs": [
        {
          "output_type": "stream",
          "name": "stdout",
          "text": [
            "[2025-06-25T05:44:36.204787] FEATURE_ENGINEERING: Extracting ultra-high recall features\n"
          ]
        }
      ]
    },
    {
      "cell_type": "code",
      "source": [
        "def extract_ultra_high_recall_features(url_df):\n",
        "    \"\"\"Extract features optimized for ZERO false negatives\"\"\"\n",
        "    features = pd.DataFrame()\n",
        "\n",
        "    # Compile regex patterns once for efficiency\n",
        "    ip_pattern = re.compile(r'\\b(?:[0-9]{1,3}\\.){3}[0-9]{1,3}\\b')\n",
        "    suspicious_pattern = re.compile(r'[%\\-_=&\\?]')\n",
        "\n",
        "    def analyze_ultra_sensitive_url(url):\n",
        "        try:\n",
        "            url_lower = url.lower()\n",
        "            parsed = urlparse(url_lower)\n",
        "            domain = parsed.netloc\n",
        "            path = parsed.path\n",
        "            query = parsed.query\n",
        "\n",
        "            # Extract domain components\n",
        "            extracted = tldextract.extract(url)\n",
        "            subdomain = extracted.subdomain or ''\n",
        "            domain_name = extracted.domain or ''\n",
        "            tld = extracted.suffix or ''\n",
        "\n",
        "            # === ULTRA-SENSITIVE PHISHING DETECTION ===\n",
        "\n",
        "            # 1. CRITICAL SECURITY INDICATORS (ZERO TOLERANCE)\n",
        "            has_ip = 1 if ip_pattern.search(domain) else 0\n",
        "            has_https = 1 if url.startswith('https') else 0\n",
        "\n",
        "            # 2. SUSPICIOUS TLD (EXPANDED LIST)\n",
        "            ultra_suspicious_tlds = [\n",
        "                'tk', 'ml', 'ga', 'cf', 'gq', 'top', 'click', 'download',\n",
        "                'link', 'info', 'biz', 'xyz', 'club', 'online', 'site',\n",
        "                'website', 'space', 'tech', 'store', 'shop', 'win', 'vip',\n",
        "                'icu', 'rest', 'cc', 'sbs', 'world', 'support'\n",
        "            ]\n",
        "            suspicious_tld = 1 if tld in ultra_suspicious_tlds else 0\n",
        "\n",
        "            # 3. ADVANCED SUBDOMAIN ANALYSIS (KEY DIFFERENTIATOR)\n",
        "            subdomain_count = len(subdomain.split('.')) if subdomain else 0\n",
        "            excessive_subdomains = 1 if subdomain_count > 2 else 0  # More sensitive\n",
        "            ultra_excessive_subdomains = 1 if subdomain_count > 4 else 0\n",
        "\n",
        "            # 4. PHISHING KEYWORDS (ULTRA-COMPREHENSIVE)\n",
        "            ultra_phishing_keywords = [\n",
        "                # Authentication & Security (CRITICAL)\n",
        "                'verify', 'secure', 'login', 'signin', 'account', 'update', 'confirm',\n",
        "                'suspended', 'locked', 'expired', 'urgent', 'immediate', 'security',\n",
        "                'alert', 'warning', 'action', 'required', 'validation', 'authenticate',\n",
        "                'verification', 'restore', 'unlock', 'resolve', 'customer',\n",
        "                # Financial (HIGH RISK)\n",
        "                'banking', 'payment', 'billing', 'invoice', 'transaction', 'refund',\n",
        "                'card', 'credit', 'debit', 'wallet', 'paypal', 'stripe', 'billing',\n",
        "                # Brand Impersonation Patterns\n",
        "                'support', 'service', 'center', 'portal', 'help', 'notification'\n",
        "            ]\n",
        "\n",
        "            keyword_count = sum(1 for kw in ultra_phishing_keywords if kw in url_lower)\n",
        "            has_phishing_keywords = 1 if keyword_count >= 1 else 0  # More sensitive\n",
        "            multiple_phishing_keywords = 1 if keyword_count >= 2 else 0\n",
        "\n",
        "            # 5. BRAND IMPERSONATION (ULTRA-COMPREHENSIVE)\n",
        "            major_brands = [\n",
        "                # Tech Giants\n",
        "                'google', 'microsoft', 'apple', 'amazon', 'facebook', 'meta',\n",
        "                'instagram', 'twitter', 'linkedin', 'youtube', 'netflix', 'spotify',\n",
        "                'adobe', 'zoom', 'dropbox', 'gmail', 'outlook', 'icloud',\n",
        "                # Financial Institutions (CRITICAL)\n",
        "                'paypal', 'stripe', 'visa', 'mastercard', 'amex', 'discover',\n",
        "                'chase', 'wells', 'bofa', 'citi', 'usbank', 'hsbc', 'td',\n",
        "                'bankofamerica', 'wellsfargo', 'citibank', 'pnc', 'capitalone',\n",
        "                'bank', 'credit', 'union', 'financial', 'banking'\n",
        "            ]\n",
        "\n",
        "            brand_count = sum(1 for brand in major_brands if brand in domain_name)\n",
        "            has_brand_impersonation = 1 if brand_count > 0 else 0\n",
        "\n",
        "            # 6. URL SHORTENER DETECTION (EXPANDED)\n",
        "            shorteners = [\n",
        "                'bit.ly', 'tinyurl.com', 't.co', 'goo.gl', 'ow.ly', 'is.gd',\n",
        "                'buff.ly', 'adf.ly', 'short.link', 'tiny.cc', 'rb.gy',\n",
        "                'cutt.ly', 'bitly.com', 'short.io', 'rebrand.ly', 'tinylink',\n",
        "                'shorturl', 'tiny', 'short'\n",
        "            ]\n",
        "            is_shortener = 1 if any(s in domain for s in shorteners) else 0\n",
        "\n",
        "            # 7. SUSPICIOUS CHARACTERS & PATTERNS\n",
        "            has_at_symbol = 1 if '@' in url else 0\n",
        "            has_double_slash = 1 if '//' in url[8:] else 0\n",
        "\n",
        "            # Character analysis\n",
        "            special_char_count = len(suspicious_pattern.findall(url))\n",
        "            special_char_density = special_char_count / len(url) if len(url) > 0 else 0\n",
        "            high_special_char_density = 1 if special_char_density > 0.1 else 0  # More sensitive\n",
        "\n",
        "            # 8. URL STRUCTURE ANALYSIS\n",
        "            url_length = len(url)\n",
        "            domain_length = len(domain_name)\n",
        "            path_length = len(path)\n",
        "            query_length = len(query)\n",
        "\n",
        "            extremely_long_url = 1 if url_length > 100 else 0  # More sensitive\n",
        "            suspicious_url_length = 1 if url_length > 75 else 0\n",
        "            deep_path = 1 if path.count('/') > 3 else 0  # More sensitive\n",
        "            long_query = 1 if query_length > 30 else 0  # More sensitive\n",
        "\n",
        "            # 9. DOMAIN STRUCTURE ANOMALIES\n",
        "            has_hyphen_in_domain = 1 if '-' in domain_name else 0\n",
        "            multiple_hyphens = 1 if domain_name.count('-') > 1 else 0\n",
        "            digit_ratio = sum(c.isdigit() for c in domain_name) / max(len(domain_name), 1)\n",
        "            high_digit_ratio = 1 if digit_ratio > 0.2 else 0  # More sensitive\n",
        "\n",
        "            # 10. ADVANCED PATTERN DETECTION\n",
        "            # Common phishing domain patterns\n",
        "            suspicious_domain_patterns = [\n",
        "                'verification', 'security', 'account', 'update', 'confirm',\n",
        "                'locked', 'suspended', 'expired', 'urgent', 'immediate',\n",
        "                'customer', 'support', 'service', 'center', 'portal'\n",
        "            ]\n",
        "            domain_pattern_count = sum(1 for pattern in suspicious_domain_patterns if pattern in domain_name)\n",
        "            has_suspicious_domain_pattern = 1 if domain_pattern_count > 0 else 0\n",
        "\n",
        "            # 11. HOMOGRAPH & TYPOSQUATTING DETECTION\n",
        "            # Basic homograph detection\n",
        "            suspicious_chars = sum(1 for c in domain_name if ord(c) > 127)\n",
        "            homograph_risk = 1 if suspicious_chars > 0 else 0\n",
        "\n",
        "            # Common typosquatting patterns\n",
        "            typosquatting_indicators = [\n",
        "                domain_name.count('0') > 0 and 'o' in domain_name,  # 0 vs O\n",
        "                domain_name.count('1') > 0 and 'l' in domain_name,  # 1 vs l\n",
        "                domain_name.count('5') > 0 and 's' in domain_name,  # 5 vs S\n",
        "            ]\n",
        "            potential_typosquatting = 1 if any(typosquatting_indicators) else 0\n",
        "\n",
        "            # 12. COMBINED ULTRA-HIGH RISK INDICATORS\n",
        "            critical_risk_factors = [\n",
        "                has_ip,\n",
        "                suspicious_tld,\n",
        "                has_brand_impersonation,\n",
        "                is_shortener,\n",
        "                multiple_phishing_keywords,\n",
        "                excessive_subdomains,\n",
        "                has_suspicious_domain_pattern\n",
        "            ]\n",
        "\n",
        "            risk_factor_count = sum(critical_risk_factors)\n",
        "            multiple_critical_risks = 1 if risk_factor_count >= 2 else 0  # Very sensitive\n",
        "            ultra_high_risk = 1 if risk_factor_count >= 3 else 0\n",
        "\n",
        "            # 13. ENTROPY ANALYSIS\n",
        "            def calculate_entropy(text):\n",
        "                if not text:\n",
        "                    return 0\n",
        "                char_counts = {}\n",
        "                for char in text.lower():\n",
        "                    char_counts[char] = char_counts.get(char, 0) + 1\n",
        "\n",
        "                length = len(text)\n",
        "                entropy = 0\n",
        "                for count in char_counts.values():\n",
        "                    if count > 0:\n",
        "                        p = count / length\n",
        "                        entropy -= p * math.log2(p)\n",
        "                return entropy\n",
        "\n",
        "            domain_entropy = calculate_entropy(domain_name)\n",
        "            high_domain_entropy = 1 if domain_entropy > 3.0 else 0  # More sensitive\n",
        "\n",
        "            return {\n",
        "                # Critical indicators\n",
        "                'has_ip': has_ip,\n",
        "                'has_https': has_https,\n",
        "                'suspicious_tld': suspicious_tld,\n",
        "\n",
        "                # Domain analysis\n",
        "                'domain_length': domain_length,\n",
        "                'subdomain_count': subdomain_count,\n",
        "                'excessive_subdomains': excessive_subdomains,\n",
        "                'ultra_excessive_subdomains': ultra_excessive_subdomains,\n",
        "                'has_hyphen_in_domain': has_hyphen_in_domain,\n",
        "                'multiple_hyphens': multiple_hyphens,\n",
        "                'high_digit_ratio': high_digit_ratio,\n",
        "                'high_domain_entropy': high_domain_entropy,\n",
        "\n",
        "                # URL structure\n",
        "                'url_length': url_length,\n",
        "                'extremely_long_url': extremely_long_url,\n",
        "                'suspicious_url_length': suspicious_url_length,\n",
        "                'deep_path': deep_path,\n",
        "                'long_query': long_query,\n",
        "                'path_length': path_length,\n",
        "                'query_length': query_length,\n",
        "\n",
        "                # Content analysis\n",
        "                'keyword_count': keyword_count,\n",
        "                'has_phishing_keywords': has_phishing_keywords,\n",
        "                'multiple_phishing_keywords': multiple_phishing_keywords,\n",
        "                'has_brand_impersonation': has_brand_impersonation,\n",
        "                'has_suspicious_domain_pattern': has_suspicious_domain_pattern,\n",
        "\n",
        "                # Suspicious patterns\n",
        "                'is_shortener': is_shortener,\n",
        "                'has_at_symbol': has_at_symbol,\n",
        "                'has_double_slash': has_double_slash,\n",
        "                'special_char_density': special_char_density,\n",
        "                'high_special_char_density': high_special_char_density,\n",
        "\n",
        "                # Advanced detection\n",
        "                'homograph_risk': homograph_risk,\n",
        "                'potential_typosquatting': potential_typosquatting,\n",
        "\n",
        "                # Combined risk indicators\n",
        "                'risk_factor_count': risk_factor_count,\n",
        "                'multiple_critical_risks': multiple_critical_risks,\n",
        "                'ultra_high_risk': ultra_high_risk\n",
        "            }\n",
        "\n",
        "        except Exception as e:\n",
        "            # Return safe defaults\n",
        "            return {k: 0 for k in [\n",
        "                'has_ip', 'has_https', 'suspicious_tld', 'domain_length',\n",
        "                'subdomain_count', 'excessive_subdomains', 'ultra_excessive_subdomains',\n",
        "                'has_hyphen_in_domain', 'multiple_hyphens', 'high_digit_ratio', 'high_domain_entropy',\n",
        "                'url_length', 'extremely_long_url', 'suspicious_url_length', 'deep_path', 'long_query',\n",
        "                'path_length', 'query_length', 'keyword_count', 'has_phishing_keywords',\n",
        "                'multiple_phishing_keywords', 'has_brand_impersonation', 'has_suspicious_domain_pattern',\n",
        "                'is_shortener', 'has_at_symbol', 'has_double_slash', 'special_char_density',\n",
        "                'high_special_char_density', 'homograph_risk', 'potential_typosquatting',\n",
        "                'risk_factor_count', 'multiple_critical_risks', 'ultra_high_risk'\n",
        "            ]}\n",
        "\n",
        "    # Extract features for all URLs\n",
        "    url_features = url_df['URL'].apply(analyze_ultra_sensitive_url)\n",
        "    for feature_name in url_features.iloc[0].keys():\n",
        "        features[feature_name] = url_features.apply(lambda x: x[feature_name])\n",
        "\n",
        "    # Add target\n",
        "    features['is_phishing'] = url_df['class']\n",
        "\n",
        "    return features"
      ],
      "metadata": {
        "id": "4bWbkWdIykSK"
      },
      "execution_count": 80,
      "outputs": []
    },
    {
      "cell_type": "markdown",
      "source": [
        "# Extract advanced features"
      ],
      "metadata": {
        "id": "WK662VL4ywbb"
      }
    },
    {
      "cell_type": "code",
      "source": [
        "ultra_features = extract_ultra_high_recall_features(df)"
      ],
      "metadata": {
        "id": "D3AKIO1tyvkc"
      },
      "execution_count": 81,
      "outputs": []
    },
    {
      "cell_type": "code",
      "source": [
        "print(f\"Ultra-high recall features extracted: {ultra_features.shape}\")\n",
        "print(f\"Feature count: {len(ultra_features.columns) - 1}\")\n",
        "print(\"\\nFeature sample:\")\n",
        "print(ultra_features.head())"
      ],
      "metadata": {
        "colab": {
          "base_uri": "https://localhost:8080/"
        },
        "id": "kiSCxPXny0QD",
        "outputId": "8d6c6e4b-99c9-4bc3-8810-05f7b9fa4f35"
      },
      "execution_count": 82,
      "outputs": [
        {
          "output_type": "stream",
          "name": "stdout",
          "text": [
            "Ultra-high recall features extracted: (4032, 34)\n",
            "Feature count: 33\n",
            "\n",
            "Feature sample:\n",
            "   has_ip  has_https  suspicious_tld  domain_length  subdomain_count  \\\n",
            "0       0          1               0              7                1   \n",
            "1       0          1               0              6                1   \n",
            "2       0          1               0              5                1   \n",
            "3       0          1               1              5                0   \n",
            "4       0          1               1             13                0   \n",
            "\n",
            "   excessive_subdomains  ultra_excessive_subdomains  has_hyphen_in_domain  \\\n",
            "0                     0                           0                     0   \n",
            "1                     0                           0                     0   \n",
            "2                     0                           0                     0   \n",
            "3                     0                           0                     0   \n",
            "4                     0                           0                     0   \n",
            "\n",
            "   multiple_hyphens  high_digit_ratio  ...  has_at_symbol  has_double_slash  \\\n",
            "0                 0                 0  ...              0                 0   \n",
            "1                 0                 0  ...              0                 0   \n",
            "2                 0                 0  ...              0                 0   \n",
            "3                 0                 0  ...              0                 0   \n",
            "4                 0                 0  ...              0                 0   \n",
            "\n",
            "   special_char_density  high_special_char_density  homograph_risk  \\\n",
            "0              0.068182                          0               0   \n",
            "1              0.000000                          0               0   \n",
            "2              0.028571                          0               0   \n",
            "3              0.000000                          0               0   \n",
            "4              0.000000                          0               0   \n",
            "\n",
            "   potential_typosquatting  risk_factor_count  multiple_critical_risks  \\\n",
            "0                        0                  0                        0   \n",
            "1                        0                  0                        0   \n",
            "2                        0                  0                        0   \n",
            "3                        0                  1                        0   \n",
            "4                        0                  1                        0   \n",
            "\n",
            "   ultra_high_risk  is_phishing  \n",
            "0                0            1  \n",
            "1                0            1  \n",
            "2                0            1  \n",
            "3                0            1  \n",
            "4                0            1  \n",
            "\n",
            "[5 rows x 34 columns]\n"
          ]
        }
      ]
    },
    {
      "cell_type": "markdown",
      "source": [
        "# Save features"
      ],
      "metadata": {
        "id": "syA_LGeky0tl"
      }
    },
    {
      "cell_type": "code",
      "source": [
        "ultra_features.to_csv(PROCESSED_DATA_PATH, index=False)"
      ],
      "metadata": {
        "id": "ctqSuSUYy3E4"
      },
      "execution_count": 83,
      "outputs": []
    },
    {
      "cell_type": "code",
      "source": [
        "feature_extraction_time = time.time() - start_time\n",
        "log_event(\"TIMING\", f\"Ultra-high recall feature extraction completed in {feature_extraction_time:.2f} seconds\",\n",
        "          {\"num_features\": ultra_features.shape[1] - 1})"
      ],
      "metadata": {
        "colab": {
          "base_uri": "https://localhost:8080/"
        },
        "id": "CrxWpKm3y5Kf",
        "outputId": "c75a9e23-769f-411a-e774-a3906bc8f4ff"
      },
      "execution_count": 84,
      "outputs": [
        {
          "output_type": "stream",
          "name": "stdout",
          "text": [
            "[2025-06-25T05:44:37.147737] TIMING: Ultra-high recall feature extraction completed in 0.94 seconds\n"
          ]
        }
      ]
    },
    {
      "cell_type": "markdown",
      "source": [
        "## 3. High-Performance Model Training"
      ],
      "metadata": {
        "id": "QTtovwNBy6Bb"
      }
    },
    {
      "cell_type": "code",
      "source": [
        "log_event(\"MODEL_TRAINING\", \"Training ultra-high recall model - ZERO false negative tolerance\")\n",
        "start_time = time.time()"
      ],
      "metadata": {
        "colab": {
          "base_uri": "https://localhost:8080/"
        },
        "id": "mfzrvT2xy7Ig",
        "outputId": "334f0765-29bd-462c-90be-aea8b0f5e287"
      },
      "execution_count": 85,
      "outputs": [
        {
          "output_type": "stream",
          "name": "stdout",
          "text": [
            "[2025-06-25T05:44:37.159736] MODEL_TRAINING: Training ultra-high recall model - ZERO false negative tolerance\n"
          ]
        }
      ]
    },
    {
      "cell_type": "markdown",
      "source": [
        "# Prepare data"
      ],
      "metadata": {
        "id": "Ec0rmUP5y-Co"
      }
    },
    {
      "cell_type": "code",
      "source": [
        "X = ultra_features.drop('is_phishing', axis=1)\n",
        "y = ultra_features['is_phishing']"
      ],
      "metadata": {
        "id": "gG7GgZ6Ky8up"
      },
      "execution_count": 86,
      "outputs": []
    },
    {
      "cell_type": "code",
      "source": [
        "print(f\"Training features: {list(X.columns)}\")\n",
        "print(f\"Ultra-sensitive feature count: {len(X.columns)}\")"
      ],
      "metadata": {
        "colab": {
          "base_uri": "https://localhost:8080/"
        },
        "id": "ENLxGGPizBWW",
        "outputId": "8b6c4343-6887-4b86-d88d-23574afd2e2f"
      },
      "execution_count": 87,
      "outputs": [
        {
          "output_type": "stream",
          "name": "stdout",
          "text": [
            "Training features: ['has_ip', 'has_https', 'suspicious_tld', 'domain_length', 'subdomain_count', 'excessive_subdomains', 'ultra_excessive_subdomains', 'has_hyphen_in_domain', 'multiple_hyphens', 'high_digit_ratio', 'high_domain_entropy', 'url_length', 'extremely_long_url', 'suspicious_url_length', 'deep_path', 'long_query', 'path_length', 'query_length', 'keyword_count', 'has_phishing_keywords', 'multiple_phishing_keywords', 'has_brand_impersonation', 'has_suspicious_domain_pattern', 'is_shortener', 'has_at_symbol', 'has_double_slash', 'special_char_density', 'high_special_char_density', 'homograph_risk', 'potential_typosquatting', 'risk_factor_count', 'multiple_critical_risks', 'ultra_high_risk']\n",
            "Ultra-sensitive feature count: 33\n"
          ]
        }
      ]
    },
    {
      "cell_type": "markdown",
      "source": [
        "# Split data with stratification"
      ],
      "metadata": {
        "id": "_7DD4Nz1zCpR"
      }
    },
    {
      "cell_type": "code",
      "source": [
        "X_train, X_test, y_train, y_test = train_test_split(\n",
        "    X, y, test_size=0.2, random_state=42, stratify=y\n",
        ")"
      ],
      "metadata": {
        "id": "ziNhIQ1czEIp"
      },
      "execution_count": 88,
      "outputs": []
    },
    {
      "cell_type": "code",
      "source": [
        "log_event(\"DATA_SPLIT\", f\"Data split: {X_train.shape[0]} train, {X_test.shape[0]} test\")"
      ],
      "metadata": {
        "colab": {
          "base_uri": "https://localhost:8080/"
        },
        "id": "TEHdAbpazFLP",
        "outputId": "a750ed64-79e2-4719-f82b-9a37c343d78a"
      },
      "execution_count": 89,
      "outputs": [
        {
          "output_type": "stream",
          "name": "stdout",
          "text": [
            "[2025-06-25T05:44:37.203758] DATA_SPLIT: Data split: 3225 train, 807 test\n"
          ]
        }
      ]
    },
    {
      "cell_type": "markdown",
      "source": [
        "# Feature scaling"
      ],
      "metadata": {
        "id": "rBpgiMrIzICo"
      }
    },
    {
      "cell_type": "code",
      "source": [
        "scaler = StandardScaler()\n",
        "X_train_scaled = scaler.fit_transform(X_train)\n",
        "X_test_scaled = scaler.transform(X_test)"
      ],
      "metadata": {
        "id": "8quJJLJazJcu"
      },
      "execution_count": 90,
      "outputs": []
    },
    {
      "cell_type": "markdown",
      "source": [
        "# Optimized Random Forest with focus on recall (avoiding false negatives)"
      ],
      "metadata": {
        "id": "kPreU4LYzMpE"
      }
    },
    {
      "cell_type": "code",
      "source": [
        "ultra_recall_rf = RandomForestClassifier(\n",
        "    n_estimators=150,           # More trees for stability\n",
        "    max_depth=25,               # Deeper trees for complex patterns\n",
        "    min_samples_split=2,        # Maximum sensitivity\n",
        "    min_samples_leaf=1,         # Allow very specific rules\n",
        "    class_weight={0: 1, 1: 8},  # EXTREME bias toward phishing (8:1 ratio)\n",
        "    max_features='sqrt',\n",
        "    bootstrap=True,\n",
        "    oob_score=True,\n",
        "    random_state=42,\n",
        "    n_jobs=-1\n",
        ")"
      ],
      "metadata": {
        "id": "o7-wiKp8zNXw"
      },
      "execution_count": 91,
      "outputs": []
    },
    {
      "cell_type": "code",
      "source": [
        "print(\"Training ULTRA-HIGH RECALL Random Forest...\")\n",
        "ultra_recall_rf.fit(X_train_scaled, y_train)"
      ],
      "metadata": {
        "colab": {
          "base_uri": "https://localhost:8080/",
          "height": 132
        },
        "id": "VEPxRuUFzQOG",
        "outputId": "6dff2fd0-f91b-48ed-cca1-0530b31a2857"
      },
      "execution_count": 92,
      "outputs": [
        {
          "output_type": "stream",
          "name": "stdout",
          "text": [
            "Training ULTRA-HIGH RECALL Random Forest...\n"
          ]
        },
        {
          "output_type": "execute_result",
          "data": {
            "text/plain": [
              "RandomForestClassifier(class_weight={0: 1, 1: 8}, max_depth=25,\n",
              "                       n_estimators=150, n_jobs=-1, oob_score=True,\n",
              "                       random_state=42)"
            ],
            "text/html": [
              "<style>#sk-container-id-2 {\n",
              "  /* Definition of color scheme common for light and dark mode */\n",
              "  --sklearn-color-text: #000;\n",
              "  --sklearn-color-text-muted: #666;\n",
              "  --sklearn-color-line: gray;\n",
              "  /* Definition of color scheme for unfitted estimators */\n",
              "  --sklearn-color-unfitted-level-0: #fff5e6;\n",
              "  --sklearn-color-unfitted-level-1: #f6e4d2;\n",
              "  --sklearn-color-unfitted-level-2: #ffe0b3;\n",
              "  --sklearn-color-unfitted-level-3: chocolate;\n",
              "  /* Definition of color scheme for fitted estimators */\n",
              "  --sklearn-color-fitted-level-0: #f0f8ff;\n",
              "  --sklearn-color-fitted-level-1: #d4ebff;\n",
              "  --sklearn-color-fitted-level-2: #b3dbfd;\n",
              "  --sklearn-color-fitted-level-3: cornflowerblue;\n",
              "\n",
              "  /* Specific color for light theme */\n",
              "  --sklearn-color-text-on-default-background: var(--sg-text-color, var(--theme-code-foreground, var(--jp-content-font-color1, black)));\n",
              "  --sklearn-color-background: var(--sg-background-color, var(--theme-background, var(--jp-layout-color0, white)));\n",
              "  --sklearn-color-border-box: var(--sg-text-color, var(--theme-code-foreground, var(--jp-content-font-color1, black)));\n",
              "  --sklearn-color-icon: #696969;\n",
              "\n",
              "  @media (prefers-color-scheme: dark) {\n",
              "    /* Redefinition of color scheme for dark theme */\n",
              "    --sklearn-color-text-on-default-background: var(--sg-text-color, var(--theme-code-foreground, var(--jp-content-font-color1, white)));\n",
              "    --sklearn-color-background: var(--sg-background-color, var(--theme-background, var(--jp-layout-color0, #111)));\n",
              "    --sklearn-color-border-box: var(--sg-text-color, var(--theme-code-foreground, var(--jp-content-font-color1, white)));\n",
              "    --sklearn-color-icon: #878787;\n",
              "  }\n",
              "}\n",
              "\n",
              "#sk-container-id-2 {\n",
              "  color: var(--sklearn-color-text);\n",
              "}\n",
              "\n",
              "#sk-container-id-2 pre {\n",
              "  padding: 0;\n",
              "}\n",
              "\n",
              "#sk-container-id-2 input.sk-hidden--visually {\n",
              "  border: 0;\n",
              "  clip: rect(1px 1px 1px 1px);\n",
              "  clip: rect(1px, 1px, 1px, 1px);\n",
              "  height: 1px;\n",
              "  margin: -1px;\n",
              "  overflow: hidden;\n",
              "  padding: 0;\n",
              "  position: absolute;\n",
              "  width: 1px;\n",
              "}\n",
              "\n",
              "#sk-container-id-2 div.sk-dashed-wrapped {\n",
              "  border: 1px dashed var(--sklearn-color-line);\n",
              "  margin: 0 0.4em 0.5em 0.4em;\n",
              "  box-sizing: border-box;\n",
              "  padding-bottom: 0.4em;\n",
              "  background-color: var(--sklearn-color-background);\n",
              "}\n",
              "\n",
              "#sk-container-id-2 div.sk-container {\n",
              "  /* jupyter's `normalize.less` sets `[hidden] { display: none; }`\n",
              "     but bootstrap.min.css set `[hidden] { display: none !important; }`\n",
              "     so we also need the `!important` here to be able to override the\n",
              "     default hidden behavior on the sphinx rendered scikit-learn.org.\n",
              "     See: https://github.com/scikit-learn/scikit-learn/issues/21755 */\n",
              "  display: inline-block !important;\n",
              "  position: relative;\n",
              "}\n",
              "\n",
              "#sk-container-id-2 div.sk-text-repr-fallback {\n",
              "  display: none;\n",
              "}\n",
              "\n",
              "div.sk-parallel-item,\n",
              "div.sk-serial,\n",
              "div.sk-item {\n",
              "  /* draw centered vertical line to link estimators */\n",
              "  background-image: linear-gradient(var(--sklearn-color-text-on-default-background), var(--sklearn-color-text-on-default-background));\n",
              "  background-size: 2px 100%;\n",
              "  background-repeat: no-repeat;\n",
              "  background-position: center center;\n",
              "}\n",
              "\n",
              "/* Parallel-specific style estimator block */\n",
              "\n",
              "#sk-container-id-2 div.sk-parallel-item::after {\n",
              "  content: \"\";\n",
              "  width: 100%;\n",
              "  border-bottom: 2px solid var(--sklearn-color-text-on-default-background);\n",
              "  flex-grow: 1;\n",
              "}\n",
              "\n",
              "#sk-container-id-2 div.sk-parallel {\n",
              "  display: flex;\n",
              "  align-items: stretch;\n",
              "  justify-content: center;\n",
              "  background-color: var(--sklearn-color-background);\n",
              "  position: relative;\n",
              "}\n",
              "\n",
              "#sk-container-id-2 div.sk-parallel-item {\n",
              "  display: flex;\n",
              "  flex-direction: column;\n",
              "}\n",
              "\n",
              "#sk-container-id-2 div.sk-parallel-item:first-child::after {\n",
              "  align-self: flex-end;\n",
              "  width: 50%;\n",
              "}\n",
              "\n",
              "#sk-container-id-2 div.sk-parallel-item:last-child::after {\n",
              "  align-self: flex-start;\n",
              "  width: 50%;\n",
              "}\n",
              "\n",
              "#sk-container-id-2 div.sk-parallel-item:only-child::after {\n",
              "  width: 0;\n",
              "}\n",
              "\n",
              "/* Serial-specific style estimator block */\n",
              "\n",
              "#sk-container-id-2 div.sk-serial {\n",
              "  display: flex;\n",
              "  flex-direction: column;\n",
              "  align-items: center;\n",
              "  background-color: var(--sklearn-color-background);\n",
              "  padding-right: 1em;\n",
              "  padding-left: 1em;\n",
              "}\n",
              "\n",
              "\n",
              "/* Toggleable style: style used for estimator/Pipeline/ColumnTransformer box that is\n",
              "clickable and can be expanded/collapsed.\n",
              "- Pipeline and ColumnTransformer use this feature and define the default style\n",
              "- Estimators will overwrite some part of the style using the `sk-estimator` class\n",
              "*/\n",
              "\n",
              "/* Pipeline and ColumnTransformer style (default) */\n",
              "\n",
              "#sk-container-id-2 div.sk-toggleable {\n",
              "  /* Default theme specific background. It is overwritten whether we have a\n",
              "  specific estimator or a Pipeline/ColumnTransformer */\n",
              "  background-color: var(--sklearn-color-background);\n",
              "}\n",
              "\n",
              "/* Toggleable label */\n",
              "#sk-container-id-2 label.sk-toggleable__label {\n",
              "  cursor: pointer;\n",
              "  display: flex;\n",
              "  width: 100%;\n",
              "  margin-bottom: 0;\n",
              "  padding: 0.5em;\n",
              "  box-sizing: border-box;\n",
              "  text-align: center;\n",
              "  align-items: start;\n",
              "  justify-content: space-between;\n",
              "  gap: 0.5em;\n",
              "}\n",
              "\n",
              "#sk-container-id-2 label.sk-toggleable__label .caption {\n",
              "  font-size: 0.6rem;\n",
              "  font-weight: lighter;\n",
              "  color: var(--sklearn-color-text-muted);\n",
              "}\n",
              "\n",
              "#sk-container-id-2 label.sk-toggleable__label-arrow:before {\n",
              "  /* Arrow on the left of the label */\n",
              "  content: \"▸\";\n",
              "  float: left;\n",
              "  margin-right: 0.25em;\n",
              "  color: var(--sklearn-color-icon);\n",
              "}\n",
              "\n",
              "#sk-container-id-2 label.sk-toggleable__label-arrow:hover:before {\n",
              "  color: var(--sklearn-color-text);\n",
              "}\n",
              "\n",
              "/* Toggleable content - dropdown */\n",
              "\n",
              "#sk-container-id-2 div.sk-toggleable__content {\n",
              "  max-height: 0;\n",
              "  max-width: 0;\n",
              "  overflow: hidden;\n",
              "  text-align: left;\n",
              "  /* unfitted */\n",
              "  background-color: var(--sklearn-color-unfitted-level-0);\n",
              "}\n",
              "\n",
              "#sk-container-id-2 div.sk-toggleable__content.fitted {\n",
              "  /* fitted */\n",
              "  background-color: var(--sklearn-color-fitted-level-0);\n",
              "}\n",
              "\n",
              "#sk-container-id-2 div.sk-toggleable__content pre {\n",
              "  margin: 0.2em;\n",
              "  border-radius: 0.25em;\n",
              "  color: var(--sklearn-color-text);\n",
              "  /* unfitted */\n",
              "  background-color: var(--sklearn-color-unfitted-level-0);\n",
              "}\n",
              "\n",
              "#sk-container-id-2 div.sk-toggleable__content.fitted pre {\n",
              "  /* unfitted */\n",
              "  background-color: var(--sklearn-color-fitted-level-0);\n",
              "}\n",
              "\n",
              "#sk-container-id-2 input.sk-toggleable__control:checked~div.sk-toggleable__content {\n",
              "  /* Expand drop-down */\n",
              "  max-height: 200px;\n",
              "  max-width: 100%;\n",
              "  overflow: auto;\n",
              "}\n",
              "\n",
              "#sk-container-id-2 input.sk-toggleable__control:checked~label.sk-toggleable__label-arrow:before {\n",
              "  content: \"▾\";\n",
              "}\n",
              "\n",
              "/* Pipeline/ColumnTransformer-specific style */\n",
              "\n",
              "#sk-container-id-2 div.sk-label input.sk-toggleable__control:checked~label.sk-toggleable__label {\n",
              "  color: var(--sklearn-color-text);\n",
              "  background-color: var(--sklearn-color-unfitted-level-2);\n",
              "}\n",
              "\n",
              "#sk-container-id-2 div.sk-label.fitted input.sk-toggleable__control:checked~label.sk-toggleable__label {\n",
              "  background-color: var(--sklearn-color-fitted-level-2);\n",
              "}\n",
              "\n",
              "/* Estimator-specific style */\n",
              "\n",
              "/* Colorize estimator box */\n",
              "#sk-container-id-2 div.sk-estimator input.sk-toggleable__control:checked~label.sk-toggleable__label {\n",
              "  /* unfitted */\n",
              "  background-color: var(--sklearn-color-unfitted-level-2);\n",
              "}\n",
              "\n",
              "#sk-container-id-2 div.sk-estimator.fitted input.sk-toggleable__control:checked~label.sk-toggleable__label {\n",
              "  /* fitted */\n",
              "  background-color: var(--sklearn-color-fitted-level-2);\n",
              "}\n",
              "\n",
              "#sk-container-id-2 div.sk-label label.sk-toggleable__label,\n",
              "#sk-container-id-2 div.sk-label label {\n",
              "  /* The background is the default theme color */\n",
              "  color: var(--sklearn-color-text-on-default-background);\n",
              "}\n",
              "\n",
              "/* On hover, darken the color of the background */\n",
              "#sk-container-id-2 div.sk-label:hover label.sk-toggleable__label {\n",
              "  color: var(--sklearn-color-text);\n",
              "  background-color: var(--sklearn-color-unfitted-level-2);\n",
              "}\n",
              "\n",
              "/* Label box, darken color on hover, fitted */\n",
              "#sk-container-id-2 div.sk-label.fitted:hover label.sk-toggleable__label.fitted {\n",
              "  color: var(--sklearn-color-text);\n",
              "  background-color: var(--sklearn-color-fitted-level-2);\n",
              "}\n",
              "\n",
              "/* Estimator label */\n",
              "\n",
              "#sk-container-id-2 div.sk-label label {\n",
              "  font-family: monospace;\n",
              "  font-weight: bold;\n",
              "  display: inline-block;\n",
              "  line-height: 1.2em;\n",
              "}\n",
              "\n",
              "#sk-container-id-2 div.sk-label-container {\n",
              "  text-align: center;\n",
              "}\n",
              "\n",
              "/* Estimator-specific */\n",
              "#sk-container-id-2 div.sk-estimator {\n",
              "  font-family: monospace;\n",
              "  border: 1px dotted var(--sklearn-color-border-box);\n",
              "  border-radius: 0.25em;\n",
              "  box-sizing: border-box;\n",
              "  margin-bottom: 0.5em;\n",
              "  /* unfitted */\n",
              "  background-color: var(--sklearn-color-unfitted-level-0);\n",
              "}\n",
              "\n",
              "#sk-container-id-2 div.sk-estimator.fitted {\n",
              "  /* fitted */\n",
              "  background-color: var(--sklearn-color-fitted-level-0);\n",
              "}\n",
              "\n",
              "/* on hover */\n",
              "#sk-container-id-2 div.sk-estimator:hover {\n",
              "  /* unfitted */\n",
              "  background-color: var(--sklearn-color-unfitted-level-2);\n",
              "}\n",
              "\n",
              "#sk-container-id-2 div.sk-estimator.fitted:hover {\n",
              "  /* fitted */\n",
              "  background-color: var(--sklearn-color-fitted-level-2);\n",
              "}\n",
              "\n",
              "/* Specification for estimator info (e.g. \"i\" and \"?\") */\n",
              "\n",
              "/* Common style for \"i\" and \"?\" */\n",
              "\n",
              ".sk-estimator-doc-link,\n",
              "a:link.sk-estimator-doc-link,\n",
              "a:visited.sk-estimator-doc-link {\n",
              "  float: right;\n",
              "  font-size: smaller;\n",
              "  line-height: 1em;\n",
              "  font-family: monospace;\n",
              "  background-color: var(--sklearn-color-background);\n",
              "  border-radius: 1em;\n",
              "  height: 1em;\n",
              "  width: 1em;\n",
              "  text-decoration: none !important;\n",
              "  margin-left: 0.5em;\n",
              "  text-align: center;\n",
              "  /* unfitted */\n",
              "  border: var(--sklearn-color-unfitted-level-1) 1pt solid;\n",
              "  color: var(--sklearn-color-unfitted-level-1);\n",
              "}\n",
              "\n",
              ".sk-estimator-doc-link.fitted,\n",
              "a:link.sk-estimator-doc-link.fitted,\n",
              "a:visited.sk-estimator-doc-link.fitted {\n",
              "  /* fitted */\n",
              "  border: var(--sklearn-color-fitted-level-1) 1pt solid;\n",
              "  color: var(--sklearn-color-fitted-level-1);\n",
              "}\n",
              "\n",
              "/* On hover */\n",
              "div.sk-estimator:hover .sk-estimator-doc-link:hover,\n",
              ".sk-estimator-doc-link:hover,\n",
              "div.sk-label-container:hover .sk-estimator-doc-link:hover,\n",
              ".sk-estimator-doc-link:hover {\n",
              "  /* unfitted */\n",
              "  background-color: var(--sklearn-color-unfitted-level-3);\n",
              "  color: var(--sklearn-color-background);\n",
              "  text-decoration: none;\n",
              "}\n",
              "\n",
              "div.sk-estimator.fitted:hover .sk-estimator-doc-link.fitted:hover,\n",
              ".sk-estimator-doc-link.fitted:hover,\n",
              "div.sk-label-container:hover .sk-estimator-doc-link.fitted:hover,\n",
              ".sk-estimator-doc-link.fitted:hover {\n",
              "  /* fitted */\n",
              "  background-color: var(--sklearn-color-fitted-level-3);\n",
              "  color: var(--sklearn-color-background);\n",
              "  text-decoration: none;\n",
              "}\n",
              "\n",
              "/* Span, style for the box shown on hovering the info icon */\n",
              ".sk-estimator-doc-link span {\n",
              "  display: none;\n",
              "  z-index: 9999;\n",
              "  position: relative;\n",
              "  font-weight: normal;\n",
              "  right: .2ex;\n",
              "  padding: .5ex;\n",
              "  margin: .5ex;\n",
              "  width: min-content;\n",
              "  min-width: 20ex;\n",
              "  max-width: 50ex;\n",
              "  color: var(--sklearn-color-text);\n",
              "  box-shadow: 2pt 2pt 4pt #999;\n",
              "  /* unfitted */\n",
              "  background: var(--sklearn-color-unfitted-level-0);\n",
              "  border: .5pt solid var(--sklearn-color-unfitted-level-3);\n",
              "}\n",
              "\n",
              ".sk-estimator-doc-link.fitted span {\n",
              "  /* fitted */\n",
              "  background: var(--sklearn-color-fitted-level-0);\n",
              "  border: var(--sklearn-color-fitted-level-3);\n",
              "}\n",
              "\n",
              ".sk-estimator-doc-link:hover span {\n",
              "  display: block;\n",
              "}\n",
              "\n",
              "/* \"?\"-specific style due to the `<a>` HTML tag */\n",
              "\n",
              "#sk-container-id-2 a.estimator_doc_link {\n",
              "  float: right;\n",
              "  font-size: 1rem;\n",
              "  line-height: 1em;\n",
              "  font-family: monospace;\n",
              "  background-color: var(--sklearn-color-background);\n",
              "  border-radius: 1rem;\n",
              "  height: 1rem;\n",
              "  width: 1rem;\n",
              "  text-decoration: none;\n",
              "  /* unfitted */\n",
              "  color: var(--sklearn-color-unfitted-level-1);\n",
              "  border: var(--sklearn-color-unfitted-level-1) 1pt solid;\n",
              "}\n",
              "\n",
              "#sk-container-id-2 a.estimator_doc_link.fitted {\n",
              "  /* fitted */\n",
              "  border: var(--sklearn-color-fitted-level-1) 1pt solid;\n",
              "  color: var(--sklearn-color-fitted-level-1);\n",
              "}\n",
              "\n",
              "/* On hover */\n",
              "#sk-container-id-2 a.estimator_doc_link:hover {\n",
              "  /* unfitted */\n",
              "  background-color: var(--sklearn-color-unfitted-level-3);\n",
              "  color: var(--sklearn-color-background);\n",
              "  text-decoration: none;\n",
              "}\n",
              "\n",
              "#sk-container-id-2 a.estimator_doc_link.fitted:hover {\n",
              "  /* fitted */\n",
              "  background-color: var(--sklearn-color-fitted-level-3);\n",
              "}\n",
              "</style><div id=\"sk-container-id-2\" class=\"sk-top-container\"><div class=\"sk-text-repr-fallback\"><pre>RandomForestClassifier(class_weight={0: 1, 1: 8}, max_depth=25,\n",
              "                       n_estimators=150, n_jobs=-1, oob_score=True,\n",
              "                       random_state=42)</pre><b>In a Jupyter environment, please rerun this cell to show the HTML representation or trust the notebook. <br />On GitHub, the HTML representation is unable to render, please try loading this page with nbviewer.org.</b></div><div class=\"sk-container\" hidden><div class=\"sk-item\"><div class=\"sk-estimator fitted sk-toggleable\"><input class=\"sk-toggleable__control sk-hidden--visually\" id=\"sk-estimator-id-2\" type=\"checkbox\" checked><label for=\"sk-estimator-id-2\" class=\"sk-toggleable__label fitted sk-toggleable__label-arrow\"><div><div>RandomForestClassifier</div></div><div><a class=\"sk-estimator-doc-link fitted\" rel=\"noreferrer\" target=\"_blank\" href=\"https://scikit-learn.org/1.6/modules/generated/sklearn.ensemble.RandomForestClassifier.html\">?<span>Documentation for RandomForestClassifier</span></a><span class=\"sk-estimator-doc-link fitted\">i<span>Fitted</span></span></div></label><div class=\"sk-toggleable__content fitted\"><pre>RandomForestClassifier(class_weight={0: 1, 1: 8}, max_depth=25,\n",
              "                       n_estimators=150, n_jobs=-1, oob_score=True,\n",
              "                       random_state=42)</pre></div> </div></div></div></div>"
            ]
          },
          "metadata": {},
          "execution_count": 92
        }
      ]
    },
    {
      "cell_type": "code",
      "source": [
        "training_time = time.time() - start_time\n",
        "log_event(\"TIMING\", f\"Ultra-high recall model training completed in {training_time:.2f} seconds\")"
      ],
      "metadata": {
        "colab": {
          "base_uri": "https://localhost:8080/"
        },
        "id": "YnlMNSDOzRyL",
        "outputId": "8ce1c722-19bf-4976-88c5-7886436c67eb"
      },
      "execution_count": 93,
      "outputs": [
        {
          "output_type": "stream",
          "name": "stdout",
          "text": [
            "[2025-06-25T05:44:38.193716] TIMING: Ultra-high recall model training completed in 1.03 seconds\n"
          ]
        }
      ]
    },
    {
      "cell_type": "markdown",
      "source": [
        "## 4. Model Evaluation"
      ],
      "metadata": {
        "id": "6vWY5hYBzU3h"
      }
    },
    {
      "cell_type": "code",
      "source": [
        "log_event(\"MODEL_EVALUATION\", \"Evaluating ultra-high recall model\")\n",
        "start_time = time.time()"
      ],
      "metadata": {
        "colab": {
          "base_uri": "https://localhost:8080/"
        },
        "id": "d4c_hVKrzVuZ",
        "outputId": "529b6ae1-7896-4ca9-8075-b8ecabff6ed3"
      },
      "execution_count": 94,
      "outputs": [
        {
          "output_type": "stream",
          "name": "stdout",
          "text": [
            "[2025-06-25T05:44:38.205588] MODEL_EVALUATION: Evaluating ultra-high recall model\n"
          ]
        }
      ]
    },
    {
      "cell_type": "markdown",
      "source": [
        "# Predictions"
      ],
      "metadata": {
        "id": "9x5Y62EezY4w"
      }
    },
    {
      "cell_type": "code",
      "source": [
        "y_pred = ultra_recall_rf.predict(X_test_scaled)\n",
        "y_pred_proba = ultra_recall_rf.predict_proba(X_test_scaled)[:, 1]"
      ],
      "metadata": {
        "id": "5FHU7HtrzXri"
      },
      "execution_count": 95,
      "outputs": []
    },
    {
      "cell_type": "markdown",
      "source": [
        "# Basic metrics"
      ],
      "metadata": {
        "id": "y2guvv2szedY"
      }
    },
    {
      "cell_type": "code",
      "source": [
        "accuracy = accuracy_score(y_test, y_pred)\n",
        "precision = precision_score(y_test, y_pred)\n",
        "recall = recall_score(y_test, y_pred)\n",
        "f1 = f1_score(y_test, y_pred)"
      ],
      "metadata": {
        "id": "PziePORJzba7"
      },
      "execution_count": 96,
      "outputs": []
    },
    {
      "cell_type": "markdown",
      "source": [
        "# ROC analysis"
      ],
      "metadata": {
        "id": "S_H9vOl7zgQ9"
      }
    },
    {
      "cell_type": "code",
      "source": [
        "fpr, tpr, thresholds = roc_curve(y_test, y_pred_proba)\n",
        "roc_auc = auc(fpr, tpr)"
      ],
      "metadata": {
        "id": "ee2-3TXazh9I"
      },
      "execution_count": 97,
      "outputs": []
    },
    {
      "cell_type": "code",
      "source": [
        "print(\"\\n=== ULTRA-HIGH RECALL Model Results ===\")\n",
        "print(f\"Accuracy: {accuracy:.4f}\")\n",
        "print(f\"Precision: {precision:.4f}\")\n",
        "print(f\"Recall (CRITICAL): {recall:.4f}\")\n",
        "print(f\"F1 Score: {f1:.4f}\")\n",
        "print(f\"AUC: {roc_auc:.4f}\")\n",
        "print(f\"OOB Score: {ultra_recall_rf.oob_score_:.4f}\")"
      ],
      "metadata": {
        "colab": {
          "base_uri": "https://localhost:8080/"
        },
        "id": "LmOqMhB8zjag",
        "outputId": "b84e018d-f5f7-460b-f713-de1b8a3d52bd"
      },
      "execution_count": 98,
      "outputs": [
        {
          "output_type": "stream",
          "name": "stdout",
          "text": [
            "\n",
            "=== ULTRA-HIGH RECALL Model Results ===\n",
            "Accuracy: 0.9851\n",
            "Precision: 0.9950\n",
            "Recall (CRITICAL): 0.9754\n",
            "F1 Score: 0.9851\n",
            "AUC: 0.9984\n",
            "OOB Score: 0.9829\n"
          ]
        }
      ]
    },
    {
      "cell_type": "markdown",
      "source": [
        "# Detailed analysis"
      ],
      "metadata": {
        "id": "V6FzNULIzl_6"
      }
    },
    {
      "cell_type": "code",
      "source": [
        "cm = confusion_matrix(y_test, y_pred)\n",
        "tn, fp, fn, tp = cm.ravel()"
      ],
      "metadata": {
        "id": "KmtDb7NqzmwP"
      },
      "execution_count": 99,
      "outputs": []
    },
    {
      "cell_type": "code",
      "source": [
        "print(f\"\\n=== FALSE NEGATIVE ANALYSIS ===\")\n",
        "print(f\"True Negatives: {tn} (Correctly identified legitimate)\")\n",
        "print(f\"False Positives: {fp} (Legitimate flagged as phishing - ACCEPTABLE)\")\n",
        "print(f\"False Negatives: {fn} (Phishing missed - CRITICAL - TARGET: 0)\")\n",
        "print(f\"True Positives: {tp} (Correctly identified phishing)\")"
      ],
      "metadata": {
        "colab": {
          "base_uri": "https://localhost:8080/"
        },
        "id": "KoneFo9Nzp16",
        "outputId": "abe309be-9445-4cef-be25-b703ed8b3d47"
      },
      "execution_count": 100,
      "outputs": [
        {
          "output_type": "stream",
          "name": "stdout",
          "text": [
            "\n",
            "=== FALSE NEGATIVE ANALYSIS ===\n",
            "True Negatives: 398 (Correctly identified legitimate)\n",
            "False Positives: 2 (Legitimate flagged as phishing - ACCEPTABLE)\n",
            "False Negatives: 10 (Phishing missed - CRITICAL - TARGET: 0)\n",
            "True Positives: 397 (Correctly identified phishing)\n"
          ]
        }
      ]
    },
    {
      "cell_type": "code",
      "source": [
        "false_negative_rate = fn / (fn + tp) if (fn + tp) > 0 else 0\n",
        "false_positive_rate = fp / (fp + tn) if (fp + tn) > 0 else 0"
      ],
      "metadata": {
        "id": "UvIUeL1Tzrtw"
      },
      "execution_count": 101,
      "outputs": []
    },
    {
      "cell_type": "code",
      "source": [
        "print(f\"False Negative Rate: {false_negative_rate:.4f} (TARGET: 0.00)\")\n",
        "print(f\"False Positive Rate: {false_positive_rate:.4f} (Acceptable trade-off)\")"
      ],
      "metadata": {
        "colab": {
          "base_uri": "https://localhost:8080/"
        },
        "id": "V1pmvKBBh-Zt",
        "outputId": "326d6db9-9242-42e5-de1b-9b9295574c7b"
      },
      "execution_count": 102,
      "outputs": [
        {
          "output_type": "stream",
          "name": "stdout",
          "text": [
            "False Negative Rate: 0.0246 (TARGET: 0.00)\n",
            "False Positive Rate: 0.0050 (Acceptable trade-off)\n"
          ]
        }
      ]
    },
    {
      "cell_type": "code",
      "source": [
        "print(f\"\\n=== THRESHOLD OPTIMIZATION FOR ZERO FALSE NEGATIVES ===\")\n",
        "\n",
        "# Find threshold that minimizes false negatives\n",
        "optimal_threshold = 0.5\n",
        "min_fn = fn\n",
        "\n",
        "for threshold in np.arange(0.1, 0.9, 0.05):\n",
        "    y_pred_thresh = (y_pred_proba >= threshold).astype(int)\n",
        "    cm_thresh = confusion_matrix(y_test, y_pred_thresh)\n",
        "    tn_t, fp_t, fn_t, tp_t = cm_thresh.ravel()\n",
        "\n",
        "    if fn_t < min_fn:\n",
        "        min_fn = fn_t\n",
        "        optimal_threshold = threshold\n",
        "\n",
        "    print(f\"Threshold {threshold:.2f}: FN={fn_t}, FP={fp_t}, Recall={tp_t/(tp_t+fn_t):.3f}\")\n",
        "\n",
        "print(f\"\\nOptimal threshold for minimal FN: {optimal_threshold:.2f}\")\n",
        "print(f\"Minimum False Negatives achievable: {min_fn}\")"
      ],
      "metadata": {
        "colab": {
          "base_uri": "https://localhost:8080/"
        },
        "id": "5VWojMOBiD_u",
        "outputId": "f129cef3-30ef-4845-9327-fe298b51985f"
      },
      "execution_count": 103,
      "outputs": [
        {
          "output_type": "stream",
          "name": "stdout",
          "text": [
            "\n",
            "=== THRESHOLD OPTIMIZATION FOR ZERO FALSE NEGATIVES ===\n",
            "Threshold 0.10: FN=2, FP=22, Recall=0.995\n",
            "Threshold 0.15: FN=2, FP=13, Recall=0.995\n",
            "Threshold 0.20: FN=2, FP=9, Recall=0.995\n",
            "Threshold 0.25: FN=2, FP=6, Recall=0.995\n",
            "Threshold 0.30: FN=4, FP=5, Recall=0.990\n",
            "Threshold 0.35: FN=4, FP=3, Recall=0.990\n",
            "Threshold 0.40: FN=6, FP=2, Recall=0.985\n",
            "Threshold 0.45: FN=8, FP=2, Recall=0.980\n",
            "Threshold 0.50: FN=10, FP=2, Recall=0.975\n",
            "Threshold 0.55: FN=10, FP=2, Recall=0.975\n",
            "Threshold 0.60: FN=12, FP=1, Recall=0.971\n",
            "Threshold 0.65: FN=14, FP=1, Recall=0.966\n",
            "Threshold 0.70: FN=14, FP=0, Recall=0.966\n",
            "Threshold 0.75: FN=16, FP=0, Recall=0.961\n",
            "Threshold 0.80: FN=18, FP=0, Recall=0.956\n",
            "Threshold 0.85: FN=20, FP=0, Recall=0.951\n",
            "\n",
            "Optimal threshold for minimal FN: 0.10\n",
            "Minimum False Negatives achievable: 2\n"
          ]
        }
      ]
    },
    {
      "cell_type": "code",
      "source": [
        "log_event(\"MODEL_PERFORMANCE\", \"Ultra-high recall evaluation completed\", {\n",
        "    \"accuracy\": float(accuracy),\n",
        "    \"precision\": float(precision),\n",
        "    \"recall\": float(recall),\n",
        "    \"f1_score\": float(f1),\n",
        "    \"auc\": float(roc_auc),\n",
        "    \"false_negative_rate\": float(false_negative_rate),\n",
        "    \"false_positive_rate\": float(false_positive_rate),\n",
        "    \"false_negatives\": int(fn),\n",
        "    \"optimal_threshold\": float(optimal_threshold),\n",
        "    \"min_false_negatives\": int(min_fn)\n",
        "})"
      ],
      "metadata": {
        "colab": {
          "base_uri": "https://localhost:8080/"
        },
        "id": "V6igCO24zt8K",
        "outputId": "6393ae51-13f0-42eb-8aa1-3f88527c000d"
      },
      "execution_count": 104,
      "outputs": [
        {
          "output_type": "stream",
          "name": "stdout",
          "text": [
            "[2025-06-25T05:44:38.944655] MODEL_PERFORMANCE: Ultra-high recall evaluation completed\n"
          ]
        }
      ]
    },
    {
      "cell_type": "code",
      "source": [
        "evaluation_time = time.time() - start_time\n",
        "log_event(\"TIMING\", f\"Model evaluation completed in {evaluation_time:.2f} seconds\")"
      ],
      "metadata": {
        "colab": {
          "base_uri": "https://localhost:8080/"
        },
        "id": "PA-b4Fqqzvwd",
        "outputId": "0f09e0d6-bd67-4a05-946c-83660f7290f5"
      },
      "execution_count": 105,
      "outputs": [
        {
          "output_type": "stream",
          "name": "stdout",
          "text": [
            "[2025-06-25T05:44:38.971344] TIMING: Model evaluation completed in 0.76 seconds\n"
          ]
        }
      ]
    },
    {
      "cell_type": "markdown",
      "source": [
        "## 5. Real-World Testing"
      ],
      "metadata": {
        "id": "pFjeqY6fzxaF"
      }
    },
    {
      "cell_type": "code",
      "source": [
        "def test_url_ultra_sensitive(url, model, scaler, threshold=0.3):  # Lower threshold for higher sensitivity\n",
        "    \"\"\"Test URL with ultra-sensitive detection\"\"\"\n",
        "    try:\n",
        "        # Create temporary dataframe\n",
        "        temp_df = pd.DataFrame({'URL': [url], 'class': [0]})\n",
        "        features_df = extract_ultra_high_recall_features(temp_df).drop('is_phishing', axis=1)\n",
        "\n",
        "        # Scale and predict\n",
        "        features_scaled = scaler.transform(features_df)\n",
        "        probability = model.predict_proba(features_scaled)[0, 1]\n",
        "        prediction = 1 if probability >= threshold else 0  # Use lower threshold\n",
        "\n",
        "        return prediction, probability, features_df.iloc[0].to_dict()\n",
        "    except Exception as e:\n",
        "        print(f\"Error processing {url}: {str(e)}\")\n",
        "        return 1, 0.8, {}"
      ],
      "metadata": {
        "id": "qcpka6T0zyBU"
      },
      "execution_count": 106,
      "outputs": []
    },
    {
      "cell_type": "code",
      "source": [
        "log_event(\"REAL_WORLD_TESTING\", \"Starting ultra-sensitive real-world testing\")\n",
        "start_time = time.time()"
      ],
      "metadata": {
        "colab": {
          "base_uri": "https://localhost:8080/"
        },
        "id": "0_Sa9Ughz1Hb",
        "outputId": "cc4013b7-826a-478f-b23e-7e4bad2504d0"
      },
      "execution_count": 107,
      "outputs": [
        {
          "output_type": "stream",
          "name": "stdout",
          "text": [
            "[2025-06-25T05:44:39.007896] REAL_WORLD_TESTING: Starting ultra-sensitive real-world testing\n"
          ]
        }
      ]
    },
    {
      "cell_type": "markdown",
      "source": [
        "# Challenging legitimate sites (must not be flagged)"
      ],
      "metadata": {
        "id": "L7CndeSzz2aj"
      }
    },
    {
      "cell_type": "code",
      "source": [
        "challenging_legitimate_urls = [\n",
        "    \"https://www.paypal.com/signin\",\n",
        "    \"https://accounts.google.com/signin\",\n",
        "    \"https://login.microsoftonline.com\",\n",
        "    \"https://secure.bankofamerica.com/login\",\n",
        "    \"https://www.chase.com/personal/checking\",\n",
        "    \"https://github.com/microsoft/vscode\",\n",
        "    \"https://stackoverflow.com/questions/tagged/python\",\n",
        "    \"https://docs.google.com/document/d/abc123\",\n",
        "    \"https://mail.google.com/mail/u/0\",\n",
        "    \"https://portal.azure.com\",\n",
        "    \"https://aws.amazon.com/console\",\n",
        "    \"https://www.netflix.com/login\",\n",
        "    \"https://twitter.com/login\",\n",
        "    \"https://www.facebook.com/login\",\n",
        "    \"https://www.amazon.com/ap/signin\"\n",
        "]"
      ],
      "metadata": {
        "id": "VRmHqJQrz4Da"
      },
      "execution_count": 108,
      "outputs": []
    },
    {
      "cell_type": "markdown",
      "source": [
        "# Real phishing patterns (must be detected)"
      ],
      "metadata": {
        "id": "q8pa_IbXz5Lw"
      }
    },
    {
      "cell_type": "code",
      "source": [
        "challenging_phishing_urls = [\n",
        "    \"https://paypal-verification.secure-login.net/signin\",\n",
        "    \"https://accounts-google.verify-security.com/login\",\n",
        "    \"https://microsoft-login.security-update.org/signin\",\n",
        "    \"https://secure-chase.account-verify.net/login\",\n",
        "    \"https://amazon-security.customer-verification.org/signin\",\n",
        "    \"http://192.168.1.100/paypal-login\",\n",
        "    \"https://203.45.67.89/secure-banking\",\n",
        "    \"https://bit.ly/bank-verification-urgent\",\n",
        "    \"https://tinyurl.com/paypal-suspended\",\n",
        "    \"https://secure-account-verification.net/urgent-action-required\",\n",
        "    \"https://banking-security-alert.com/immediate-response\",\n",
        "    \"https://account-locked-verify.org/unlock-now\",\n",
        "    \"https://payment-suspended-update.net/restore-access\",\n",
        "    \"https://security-warning-immediate.com/verify-identity\",\n",
        "    \"https://login.accounts.google.security-check.net/signin\",\n",
        "    \"https://secure.paypal.verification.account-locked.org/verify\",\n",
        "    \"https://lovely-choice-666517.framer.app\",\n",
        "    \"https://luresta.top/\",\n",
        "    \"https://faceit.eternalgamlng.com/\",\n",
        "    \"https://wells-fargo-security.account-verification.net/login\",\n",
        "    \"https://citibank-urgent-security.verification-required.org/signin\",\n",
        "    \"https://pragueprize.com\",\n",
        "    \"https://www.lnmxjet.com/#/login/logon\",\n",
        "    \"https://luxalgo.one\",\n",
        "    \"https://tuu336.it\",\n",
        "    \"https://lfj-revenue.xyz\",\n",
        "    \"https://tartapedia.it\",\n",
        "    \"https://en-wallstreetpepe.pages.dev/\",\n",
        "    \"https://vulcan.id-role.com\"\n",
        "]"
      ],
      "metadata": {
        "id": "cpnGSjuwz65S"
      },
      "execution_count": 109,
      "outputs": []
    },
    {
      "cell_type": "code",
      "source": [
        "print(\"\\n=== ULTRA-SENSITIVE Real-World Performance Testing ===\")\n",
        "\n",
        "print(\"\\nTesting Legitimate URLs (Some false positives acceptable):\")\n",
        "legit_correct = 0\n",
        "legit_total = len(challenging_legitimate_urls)\n",
        "\n",
        "for i, url in enumerate(challenging_legitimate_urls, 1):\n",
        "    pred, prob, features = test_url_ultra_sensitive(url, ultra_recall_rf, scaler, threshold=0.4)\n",
        "    status = \"✅ CORRECT\" if pred == 0 else \"⚠️ FALSE POSITIVE (ACCEPTABLE)\"\n",
        "    if pred == 0:\n",
        "        legit_correct += 1\n",
        "\n",
        "    print(f\"{i:2d}. {url[:65]:<65} | Prob: {prob:.3f} | {status}\")"
      ],
      "metadata": {
        "colab": {
          "base_uri": "https://localhost:8080/"
        },
        "id": "Rwb8Jijl0Cn3",
        "outputId": "dce16107-6a3c-4067-a31a-c4eac0c57391"
      },
      "execution_count": 110,
      "outputs": [
        {
          "output_type": "stream",
          "name": "stdout",
          "text": [
            "\n",
            "=== ULTRA-SENSITIVE Real-World Performance Testing ===\n",
            "\n",
            "Testing Legitimate URLs (Some false positives acceptable):\n",
            " 1. https://www.paypal.com/signin                                     | Prob: 0.067 | ✅ CORRECT\n",
            " 2. https://accounts.google.com/signin                                | Prob: 0.093 | ✅ CORRECT\n",
            " 3. https://login.microsoftonline.com                                 | Prob: 0.213 | ✅ CORRECT\n",
            " 4. https://secure.bankofamerica.com/login                            | Prob: 0.193 | ✅ CORRECT\n",
            " 5. https://www.chase.com/personal/checking                           | Prob: 0.000 | ✅ CORRECT\n",
            " 6. https://github.com/microsoft/vscode                               | Prob: 0.220 | ✅ CORRECT\n",
            " 7. https://stackoverflow.com/questions/tagged/python                 | Prob: 0.026 | ✅ CORRECT\n",
            " 8. https://docs.google.com/document/d/abc123                         | Prob: 0.000 | ✅ CORRECT\n",
            " 9. https://mail.google.com/mail/u/0                                  | Prob: 0.013 | ✅ CORRECT\n",
            "10. https://portal.azure.com                                          | Prob: 0.380 | ✅ CORRECT\n",
            "11. https://aws.amazon.com/console                                    | Prob: 0.000 | ✅ CORRECT\n",
            "12. https://www.netflix.com/login                                     | Prob: 0.080 | ✅ CORRECT\n",
            "13. https://twitter.com/login                                         | Prob: 0.487 | ⚠️ FALSE POSITIVE (ACCEPTABLE)\n",
            "14. https://www.facebook.com/login                                    | Prob: 0.113 | ✅ CORRECT\n",
            "15. https://www.amazon.com/ap/signin                                  | Prob: 0.033 | ✅ CORRECT\n"
          ]
        }
      ]
    },
    {
      "cell_type": "code",
      "source": [
        "print(f\"\\nTesting Phishing URLs (MUST ALL be detected - ZERO tolerance):\")\n",
        "phish_correct = 0\n",
        "phish_total = len(challenging_phishing_urls)\n",
        "\n",
        "for i, url in enumerate(challenging_phishing_urls, 1):\n",
        "    pred, prob, features = test_url_ultra_sensitive(url, ultra_recall_rf, scaler, threshold=0.4)  # Very low threshold\n",
        "    status = \"✅ DETECTED\" if pred == 1 else \"🚨 CRITICAL FAILURE - FALSE NEGATIVE\"\n",
        "    if pred == 1:\n",
        "        phish_correct += 1\n",
        "\n",
        "    print(f\"{i:2d}. {url[:65]:<65} | Prob: {prob:.3f} | {status}\")"
      ],
      "metadata": {
        "colab": {
          "base_uri": "https://localhost:8080/"
        },
        "id": "3ePxFaa-0HIW",
        "outputId": "226f3d9e-720c-4c4e-dee8-91a8645d8750"
      },
      "execution_count": 111,
      "outputs": [
        {
          "output_type": "stream",
          "name": "stdout",
          "text": [
            "\n",
            "Testing Phishing URLs (MUST ALL be detected - ZERO tolerance):\n",
            " 1. https://paypal-verification.secure-login.net/signin               | Prob: 0.967 | ✅ DETECTED\n",
            " 2. https://accounts-google.verify-security.com/login                 | Prob: 0.993 | ✅ DETECTED\n",
            " 3. https://microsoft-login.security-update.org/signin                | Prob: 1.000 | ✅ DETECTED\n",
            " 4. https://secure-chase.account-verify.net/login                     | Prob: 0.973 | ✅ DETECTED\n",
            " 5. https://amazon-security.customer-verification.org/signin          | Prob: 1.000 | ✅ DETECTED\n",
            " 6. http://192.168.1.100/paypal-login                                 | Prob: 0.980 | ✅ DETECTED\n",
            " 7. https://203.45.67.89/secure-banking                               | Prob: 0.827 | ✅ DETECTED\n",
            " 8. https://bit.ly/bank-verification-urgent                           | Prob: 0.787 | ✅ DETECTED\n",
            " 9. https://tinyurl.com/paypal-suspended                              | Prob: 0.747 | ✅ DETECTED\n",
            "10. https://secure-account-verification.net/urgent-action-required    | Prob: 0.980 | ✅ DETECTED\n",
            "11. https://banking-security-alert.com/immediate-response             | Prob: 0.980 | ✅ DETECTED\n",
            "12. https://account-locked-verify.org/unlock-now                      | Prob: 0.987 | ✅ DETECTED\n",
            "13. https://payment-suspended-update.net/restore-access               | Prob: 0.987 | ✅ DETECTED\n",
            "14. https://security-warning-immediate.com/verify-identity            | Prob: 1.000 | ✅ DETECTED\n",
            "15. https://login.accounts.google.security-check.net/signin           | Prob: 1.000 | ✅ DETECTED\n",
            "16. https://secure.paypal.verification.account-locked.org/verify      | Prob: 0.993 | ✅ DETECTED\n",
            "17. https://lovely-choice-666517.framer.app                           | Prob: 0.907 | ✅ DETECTED\n",
            "18. https://luresta.top/                                              | Prob: 0.747 | ✅ DETECTED\n",
            "19. https://faceit.eternalgamlng.com/                                 | Prob: 0.807 | ✅ DETECTED\n",
            "20. https://wells-fargo-security.account-verification.net/login       | Prob: 1.000 | ✅ DETECTED\n",
            "21. https://citibank-urgent-security.verification-required.org/signin | Prob: 0.987 | ✅ DETECTED\n",
            "22. https://pragueprize.com                                           | Prob: 0.580 | ✅ DETECTED\n",
            "23. https://www.lnmxjet.com/#/login/logon                             | Prob: 0.453 | ✅ DETECTED\n",
            "24. https://luxalgo.one                                               | Prob: 0.486 | ✅ DETECTED\n",
            "25. https://tuu336.it                                                 | Prob: 0.769 | ✅ DETECTED\n",
            "26. https://lfj-revenue.xyz                                           | Prob: 0.580 | ✅ DETECTED\n",
            "27. https://tartapedia.it                                             | Prob: 0.847 | ✅ DETECTED\n",
            "28. https://en-wallstreetpepe.pages.dev/                              | Prob: 0.739 | ✅ DETECTED\n",
            "29. https://vulcan.id-role.com                                        | Prob: 0.320 | 🚨 CRITICAL FAILURE - FALSE NEGATIVE\n"
          ]
        }
      ]
    },
    {
      "cell_type": "markdown",
      "source": [
        "# Calculate real-world performance"
      ],
      "metadata": {
        "id": "vKxkdtQl0In0"
      }
    },
    {
      "cell_type": "code",
      "source": [
        "legit_accuracy = legit_correct / legit_total\n",
        "phish_accuracy = phish_correct / phish_total\n",
        "overall_accuracy = (legit_correct + phish_correct) / (legit_total + phish_total)"
      ],
      "metadata": {
        "id": "itRA1ZDv0KaG"
      },
      "execution_count": 112,
      "outputs": []
    },
    {
      "cell_type": "code",
      "source": [
        "print(f\"\\n=== ULTRA-SENSITIVE PERFORMANCE SUMMARY ===\")\n",
        "print(f\"Legitimate Detection: {legit_accuracy:.1%} ({legit_correct}/{legit_total})\")\n",
        "print(f\"Phishing Detection: {phish_accuracy:.1%} ({phish_correct}/{phish_total}) [CRITICAL TARGET: 100%]\")\n",
        "print(f\"Overall Accuracy: {overall_accuracy:.1%}\")"
      ],
      "metadata": {
        "colab": {
          "base_uri": "https://localhost:8080/"
        },
        "id": "FqT9NsoR0Nv9",
        "outputId": "8e23b9fe-50eb-4bdf-b6ba-cec86389cbd6"
      },
      "execution_count": 113,
      "outputs": [
        {
          "output_type": "stream",
          "name": "stdout",
          "text": [
            "\n",
            "=== ULTRA-SENSITIVE PERFORMANCE SUMMARY ===\n",
            "Legitimate Detection: 93.3% (14/15)\n",
            "Phishing Detection: 96.6% (28/29) [CRITICAL TARGET: 100%]\n",
            "Overall Accuracy: 95.5%\n"
          ]
        }
      ]
    },
    {
      "cell_type": "markdown",
      "source": [
        "# Performance targets"
      ],
      "metadata": {
        "id": "rKhKxhHw0PUq"
      }
    },
    {
      "cell_type": "code",
      "source": [
        "target_phishing_detection = 1.0   # 100% - ZERO false negatives allowed\n",
        "target_overall = 0.90             # 90% overall still acceptable"
      ],
      "metadata": {
        "id": "KLpTuadq0QQj"
      },
      "execution_count": 114,
      "outputs": []
    },
    {
      "cell_type": "code",
      "source": [
        "meets_targets = phish_accuracy >= target_phishing_detection and overall_accuracy >= target_overall\n",
        "critical_success = phish_accuracy >= 0.95  # At least 95% phishing detection"
      ],
      "metadata": {
        "id": "tNSmehKE0Tl8"
      },
      "execution_count": 115,
      "outputs": []
    },
    {
      "cell_type": "code",
      "source": [
        "print(f\"\\nCRITICAL SUCCESS (95%+ Phishing Detection): {'✅ YES' if critical_success else '❌ NO'}\")\n",
        "print(f\"Perfect Target (100% Phishing Detection): {'✅ YES' if phish_accuracy >= 1.0 else '❌ NO'}\")\n",
        "print(f\"Overall Performance: {'✅ ACCEPTABLE' if overall_accuracy >= 0.85 else '❌ NEEDS IMPROVEMENT'}\")\n",
        "\n",
        "if phish_correct < phish_total:\n",
        "    missed_phishing = phish_total - phish_correct\n",
        "    print(f\"\\n🚨 CRITICAL: {missed_phishing} phishing URLs were missed!\")\n",
        "    print(\"These represent security vulnerabilities that must be addressed.\")"
      ],
      "metadata": {
        "colab": {
          "base_uri": "https://localhost:8080/"
        },
        "id": "1GlJA508irYZ",
        "outputId": "8a86edb0-873a-4ba7-9609-909985cf80cf"
      },
      "execution_count": 116,
      "outputs": [
        {
          "output_type": "stream",
          "name": "stdout",
          "text": [
            "\n",
            "CRITICAL SUCCESS (95%+ Phishing Detection): ✅ YES\n",
            "Perfect Target (100% Phishing Detection): ❌ NO\n",
            "Overall Performance: ✅ ACCEPTABLE\n",
            "\n",
            "🚨 CRITICAL: 1 phishing URLs were missed!\n",
            "These represent security vulnerabilities that must be addressed.\n"
          ]
        }
      ]
    },
    {
      "cell_type": "code",
      "source": [
        "log_event(\"ULTRA_SENSITIVE_RESULTS\", f\"Ultra-sensitive testing completed\", {\n",
        "    \"legitimate_accuracy\": float(legit_accuracy),\n",
        "    \"phishing_detection_rate\": float(phish_accuracy),\n",
        "    \"overall_accuracy\": float(overall_accuracy),\n",
        "    \"critical_success\": critical_success,\n",
        "    \"perfect_detection\": phish_accuracy >= 1.0,\n",
        "    \"false_negatives_realworld\": phish_total - phish_correct,\n",
        "    \"false_positives_realworld\": legit_total - legit_correct\n",
        "})"
      ],
      "metadata": {
        "colab": {
          "base_uri": "https://localhost:8080/"
        },
        "id": "iVwGJ_2P0V7b",
        "outputId": "bc97de14-d3a6-4211-920e-50cd8bfca2da"
      },
      "execution_count": 117,
      "outputs": [
        {
          "output_type": "stream",
          "name": "stdout",
          "text": [
            "[2025-06-25T05:44:46.086398] ULTRA_SENSITIVE_RESULTS: Ultra-sensitive testing completed\n"
          ]
        }
      ]
    },
    {
      "cell_type": "code",
      "source": [
        "testing_time = time.time() - start_time\n",
        "log_event(\"TIMING\", f\"Ultra-sensitive testing completed in {testing_time:.2f} seconds\")"
      ],
      "metadata": {
        "colab": {
          "base_uri": "https://localhost:8080/"
        },
        "id": "tUk4aIqP0Xgm",
        "outputId": "3684c69a-b0eb-49ff-e559-e84653fc7f6c"
      },
      "execution_count": 118,
      "outputs": [
        {
          "output_type": "stream",
          "name": "stdout",
          "text": [
            "[2025-06-25T05:44:46.097402] TIMING: Ultra-sensitive testing completed in 7.09 seconds\n"
          ]
        }
      ]
    },
    {
      "cell_type": "markdown",
      "source": [
        "## 6. Feature Importance Analysis"
      ],
      "metadata": {
        "id": "ojtiVLsV0Z0E"
      }
    },
    {
      "cell_type": "code",
      "source": [
        "print(\"\\n=== ULTRA-HIGH RECALL Feature Importance Analysis ===\")\n",
        "\n",
        "feature_importance = pd.DataFrame({\n",
        "    'feature': X.columns,\n",
        "    'importance': ultra_recall_rf.feature_importances_\n",
        "}).sort_values('importance', ascending=False)\n",
        "\n",
        "print(\"Top 20 Most Important Features for Phishing Detection:\")\n",
        "for i, row in feature_importance.head(20).iterrows():\n",
        "    print(f\"{row['feature']:35} | {row['importance']:.4f}\")"
      ],
      "metadata": {
        "colab": {
          "base_uri": "https://localhost:8080/"
        },
        "id": "LMAfFx_i0aTt",
        "outputId": "d2ac38b6-b405-4e91-df59-aad2aa767368"
      },
      "execution_count": 119,
      "outputs": [
        {
          "output_type": "stream",
          "name": "stdout",
          "text": [
            "\n",
            "=== ULTRA-HIGH RECALL Feature Importance Analysis ===\n",
            "Top 20 Most Important Features for Phishing Detection:\n",
            "has_hyphen_in_domain                | 0.1495\n",
            "subdomain_count                     | 0.1392\n",
            "path_length                         | 0.1252\n",
            "has_https                           | 0.1152\n",
            "url_length                          | 0.0801\n",
            "domain_length                       | 0.0796\n",
            "high_domain_entropy                 | 0.0570\n",
            "special_char_density                | 0.0410\n",
            "multiple_hyphens                    | 0.0365\n",
            "has_phishing_keywords               | 0.0321\n",
            "keyword_count                       | 0.0299\n",
            "deep_path                           | 0.0207\n",
            "risk_factor_count                   | 0.0167\n",
            "suspicious_tld                      | 0.0160\n",
            "multiple_phishing_keywords          | 0.0110\n",
            "query_length                        | 0.0105\n",
            "has_at_symbol                       | 0.0085\n",
            "suspicious_url_length               | 0.0056\n",
            "has_brand_impersonation             | 0.0053\n",
            "high_digit_ratio                    | 0.0036\n"
          ]
        }
      ]
    },
    {
      "cell_type": "markdown",
      "source": [
        "# Plot feature importance"
      ],
      "metadata": {
        "id": "MwoFwWKr0vlw"
      }
    },
    {
      "cell_type": "code",
      "source": [
        "plt.figure(figsize=(16, 10))\n",
        "top_features = feature_importance.head(20)\n",
        "sns.barplot(data=top_features, x='importance', y='feature')\n",
        "plt.title('Top 20 Feature Importances - Ultra-High Recall Model')\n",
        "plt.xlabel('Importance Score')\n",
        "plt.tight_layout()\n",
        "plt.show()"
      ],
      "metadata": {
        "colab": {
          "base_uri": "https://localhost:8080/",
          "height": 1000
        },
        "id": "C2XXLUn30wGH",
        "outputId": "39601315-2370-4926-aad0-b92d86dd75a1"
      },
      "execution_count": 120,
      "outputs": [
        {
          "output_type": "display_data",
          "data": {
            "text/plain": [
              "<Figure size 1600x1000 with 1 Axes>"
            ],
            "image/png": "[encoded data removed]"
          },
          "metadata": {}
        }
      ]
    },
    {
      "cell_type": "markdown",
      "source": [
        "# Plot performance curves"
      ],
      "metadata": {
        "id": "2OO3rB0g0x7l"
      }
    },
    {
      "cell_type": "markdown",
      "source": [
        "# ROC Curve"
      ],
      "metadata": {
        "id": "nDaB0-Y202VK"
      }
    },
    {
      "cell_type": "code",
      "source": [
        "plt.figure(figsize=(15, 5))\n",
        "plt.subplot(1, 3, 1)\n",
        "plt.plot(fpr, tpr, color='red', lw=3, label=f'Ultra-High Recall (AUC = {roc_auc:.3f})')\n",
        "plt.plot([0, 1], [0, 1], color='gray', lw=2, linestyle='--')\n",
        "plt.xlim([0.0, 1.0])\n",
        "plt.ylim([0.0, 1.05])\n",
        "plt.xlabel('False Positive Rate')\n",
        "plt.ylabel('True Positive Rate')\n",
        "plt.title('ROC Curve - Ultra-High Recall')\n",
        "plt.legend()"
      ],
      "metadata": {
        "colab": {
          "base_uri": "https://localhost:8080/",
          "height": 504
        },
        "id": "7WZ5u00w07U1",
        "outputId": "d7da067e-8d92-49d2-9f37-c287b0836607"
      },
      "execution_count": 121,
      "outputs": [
        {
          "output_type": "execute_result",
          "data": {
            "text/plain": [
              "<matplotlib.legend.Legend at 0x7ff25011dfd0>"
            ]
          },
          "metadata": {},
          "execution_count": 121
        },
        {
          "output_type": "display_data",
          "data": {
            "text/plain": [
              "<Figure size 1500x500 with 1 Axes>"
            ],
            "image/png": "[encoded data removed]"
          },
          "metadata": {}
        }
      ]
    },
    {
      "cell_type": "markdown",
      "source": [
        "# Confusion Matrix"
      ],
      "metadata": {
        "id": "WBCHYMbN1AXI"
      }
    },
    {
      "cell_type": "code",
      "source": [
        "plt.subplot(1, 3, 2)\n",
        "sns.heatmap(cm, annot=True, fmt='d', cmap='Reds')\n",
        "plt.title('Confusion Matrix')\n",
        "plt.ylabel('True Label')\n",
        "plt.xlabel('Predicted Label')"
      ],
      "metadata": {
        "colab": {
          "base_uri": "https://localhost:8080/",
          "height": 489
        },
        "id": "j3x73ZpP1ABo",
        "outputId": "4ec720bb-a815-4d54-d6a4-61126c0cd2ba"
      },
      "execution_count": 122,
      "outputs": [
        {
          "output_type": "execute_result",
          "data": {
            "text/plain": [
              "Text(0.5, 23.52222222222222, 'Predicted Label')"
            ]
          },
          "metadata": {},
          "execution_count": 122
        },
        {
          "output_type": "display_data",
          "data": {
            "text/plain": [
              "<Figure size 640x480 with 2 Axes>"
            ],
            "image/png": "[encoded data removed]"
          },
          "metadata": {}
        }
      ]
    },
    {
      "cell_type": "markdown",
      "source": [
        "# Feature Importance (Top 10)"
      ],
      "metadata": {
        "id": "MGxWEZ2n8vTZ"
      }
    },
    {
      "cell_type": "code",
      "source": [
        "plt.subplot(1, 3, 3)\n",
        "top_15 = feature_importance.head(15)\n",
        "plt.barh(range(len(top_15)), top_15['importance'])\n",
        "plt.yticks(range(len(top_15)), top_15['feature'])\n",
        "plt.xlabel('Importance')\n",
        "plt.title('Top 15 Critical Features')\n",
        "plt.tight_layout()\n",
        "plt.show()"
      ],
      "metadata": {
        "colab": {
          "base_uri": "https://localhost:8080/",
          "height": 487
        },
        "id": "BF14atJT8xEr",
        "outputId": "9df2760d-b88b-442b-892b-7846a307f9e4"
      },
      "execution_count": 123,
      "outputs": [
        {
          "output_type": "display_data",
          "data": {
            "text/plain": [
              "<Figure size 640x480 with 1 Axes>"
            ],
            "image/png": "[encoded data removed]"
          },
          "metadata": {}
        }
      ]
    },
    {
      "cell_type": "markdown",
      "source": [
        "## 7. Model Saving and Metadata"
      ],
      "metadata": {
        "id": "Pr7YMY841D90"
      }
    },
    {
      "cell_type": "code",
      "source": [
        "log_event(\"MODEL_SAVING\", \"Saving ultra-high recall model\")\n",
        "start_time = time.time()"
      ],
      "metadata": {
        "colab": {
          "base_uri": "https://localhost:8080/"
        },
        "id": "O7vgd-fh1F_u",
        "outputId": "a6bb52fe-fb61-4612-d155-ebb5f90d3dce"
      },
      "execution_count": 124,
      "outputs": [
        {
          "output_type": "stream",
          "name": "stdout",
          "text": [
            "[2025-06-25T05:44:49.287309] MODEL_SAVING: Saving ultra-high recall model\n"
          ]
        }
      ]
    },
    {
      "cell_type": "markdown",
      "source": [
        "# Save model and scaler"
      ],
      "metadata": {
        "id": "EBHDO0x61H-j"
      }
    },
    {
      "cell_type": "code",
      "source": [
        "joblib.dump(ultra_recall_rf, MODEL_OUTPUT_PATH)\n",
        "joblib.dump(scaler, SCALER_OUTPUT_PATH)"
      ],
      "metadata": {
        "colab": {
          "base_uri": "https://localhost:8080/"
        },
        "id": "0eIz6dEZ1J8E",
        "outputId": "b6a2134d-bf47-4c30-ed9e-28fb606fe4a9"
      },
      "execution_count": 125,
      "outputs": [
        {
          "output_type": "execute_result",
          "data": {
            "text/plain": [
              "['/content/drive/MyDrive/PUSL3190/models/browser_extension/ultra_high_recall_scaler.pkl']"
            ]
          },
          "metadata": {},
          "execution_count": 125
        }
      ]
    },
    {
      "cell_type": "markdown",
      "source": [
        "# Comprehensive metadata"
      ],
      "metadata": {
        "id": "ZuW9o0TT1MYW"
      }
    },
    {
      "cell_type": "code",
      "source": [
        "model_metadata = {\n",
        "    \"model_info\": {\n",
        "        \"name\": \"ultra_high_recall_phishing_detector\",\n",
        "        \"version\": \"5.0\",\n",
        "        \"type\": \"random_forest_ultra_recall\",\n",
        "        \"trained_at\": datetime.now().isoformat(),\n",
        "        \"optimization_focus\": \"zero_false_negative_tolerance\"\n",
        "    },\n",
        "\n",
        "    \"performance_metrics\": {\n",
        "        \"test_set\": {\n",
        "            \"accuracy\": float(accuracy),\n",
        "            \"precision\": float(precision),\n",
        "            \"recall\": float(recall),\n",
        "            \"f1_score\": float(f1),\n",
        "            \"auc\": float(roc_auc),\n",
        "            \"false_negative_rate\": float(false_negative_rate),\n",
        "            \"false_positive_rate\": float(false_positive_rate),\n",
        "            \"oob_score\": float(ultra_recall_rf.oob_score_)\n",
        "        },\n",
        "        \"ultra_sensitive_real_world\": {\n",
        "            \"legitimate_accuracy\": float(legit_accuracy),\n",
        "            \"phishing_detection_rate\": float(phish_accuracy),\n",
        "            \"overall_accuracy\": float(overall_accuracy),\n",
        "            \"critical_success\": critical_success,\n",
        "            \"perfect_detection\": phish_accuracy >= 1.0,\n",
        "            \"missed_phishing_count\": phish_total - phish_correct\n",
        "        }\n",
        "    },\n",
        "\n",
        "    \"model_configuration\": {\n",
        "        \"n_estimators\": ultra_recall_rf.n_estimators,\n",
        "        \"max_depth\": ultra_recall_rf.max_depth,\n",
        "        \"class_weight\": \"ultra_biased_8_to_1\",\n",
        "        \"optimization\": \"zero_false_negative_priority\",\n",
        "        \"detection_threshold\": \"adaptive_ultra_sensitive\"\n",
        "    },\n",
        "\n",
        "    \"features\": {\n",
        "        \"feature_list\": list(X.columns),\n",
        "        \"feature_count\": len(X.columns),\n",
        "        \"top_features\": feature_importance.head(20).to_dict('records'),\n",
        "        \"feature_engineering\": \"ultra_high_recall_optimized\"\n",
        "    },\n",
        "\n",
        "    \"dataset_enhancements\": {\n",
        "        \"modern_phishing_patterns_added\": len(modern_phishing_patterns),\n",
        "        \"total_samples\": len(df),\n",
        "        \"enhanced_phishing_coverage\": True\n",
        "    },\n",
        "\n",
        "    \"deployment_notes\": {\n",
        "        \"false_negative_tolerance\": \"ZERO\",\n",
        "        \"security_priority\": \"MAXIMUM\",\n",
        "        \"browser_extension_ready\": True,\n",
        "        \"recommended_threshold\": 0.2,\n",
        "        \"performance_trade_off\": \"false_positives_acceptable_for_security\"\n",
        "    }\n",
        "}"
      ],
      "metadata": {
        "id": "osuFXpYI1Nml"
      },
      "execution_count": 126,
      "outputs": []
    },
    {
      "cell_type": "code",
      "source": [
        "with open(METADATA_OUTPUT_PATH, 'w') as f:\n",
        "    json.dump(model_metadata, f, indent=2)"
      ],
      "metadata": {
        "id": "mMm9cbX11Sde"
      },
      "execution_count": 127,
      "outputs": []
    },
    {
      "cell_type": "code",
      "source": [
        "saving_time = time.time() - start_time\n",
        "log_event(\"TIMING\", f\"Model saving completed in {saving_time:.2f} seconds\")"
      ],
      "metadata": {
        "colab": {
          "base_uri": "https://localhost:8080/"
        },
        "id": "K2-edHQC1X_H",
        "outputId": "0e6be242-5329-4c32-eeed-f1b78a9f47f8"
      },
      "execution_count": 128,
      "outputs": [
        {
          "output_type": "stream",
          "name": "stdout",
          "text": [
            "[2025-06-25T05:44:50.008136] TIMING: Model saving completed in 0.72 seconds\n"
          ]
        }
      ]
    },
    {
      "cell_type": "markdown",
      "source": [
        "## 8. Research Summary and Recommendations"
      ],
      "metadata": {
        "id": "Cu2VbzPm1V0V"
      }
    },
    {
      "cell_type": "code",
      "source": [
        "print(\"\\n\" + \"=\"*90)\n",
        "print(\"ULTRA-HIGH RECALL PHISHING DETECTION MODEL - RESEARCH SUMMARY\")\n",
        "print(\"=\"*90)\n",
        "\n",
        "print(f\"\"\"\n",
        "CRITICAL PERFORMANCE METRICS:\n",
        "• Phishing Detection Rate: {phish_accuracy:.1%} (TARGET: 100%)\n",
        "• False Negative Count: {phish_total - phish_correct} (TARGET: 0)\n",
        "• Overall Accuracy: {overall_accuracy:.1%}\n",
        "• Test Set Recall: {recall:.1%}\n",
        "\n",
        "REAL-WORLD VALIDATION:\n",
        "• Legitimate Sites: {legit_accuracy:.1%} ({legit_correct}/{legit_total})\n",
        "• Phishing Sites: {phish_accuracy:.1%} ({phish_correct}/{phish_total})\n",
        "• Critical Success: {'✅ ACHIEVED' if critical_success else '❌ FAILED'}\n",
        "\n",
        "DATASET ENHANCEMENTS:\n",
        "• Added {len(modern_phishing_patterns)} modern phishing patterns\n",
        "• Enhanced coverage of failed detection cases\n",
        "• Improved subdomain attack detection\n",
        "• Expanded URL shortener detection\n",
        "\n",
        "MODEL OPTIMIZATIONS:\n",
        "• Ultra-biased class weights (8:1 for phishing)\n",
        "• {len(X.columns)} ultra-sensitive features\n",
        "• Adaptive threshold detection (0.2 default)\n",
        "• Zero false negative tolerance approach\n",
        "\n",
        "BROWSER EXTENSION DEPLOYMENT:\n",
        "{'✅ READY FOR DEPLOYMENT' if critical_success else '❌ REQUIRES FURTHER OPTIMIZATION'}\n",
        "• Expected inference time: <400ms\n",
        "• Memory footprint: Optimized for real-time\n",
        "• Security-first approach with acceptable false positives\n",
        "\n",
        "CRITICAL FEATURES FOR PHISHING DETECTION:\n",
        "\"\"\")\n",
        "\n",
        "for i, row in feature_importance.head(10).iterrows():\n",
        "    print(f\"• {row['feature']:35} | Importance: {row['importance']:.4f}\")"
      ],
      "metadata": {
        "colab": {
          "base_uri": "https://localhost:8080/"
        },
        "id": "t_tfMpmB1i_U",
        "outputId": "9a47bad5-ebd7-4b74-9a9c-a0851a5b7a79"
      },
      "execution_count": 129,
      "outputs": [
        {
          "output_type": "stream",
          "name": "stdout",
          "text": [
            "\n",
            "==========================================================================================\n",
            "ULTRA-HIGH RECALL PHISHING DETECTION MODEL - RESEARCH SUMMARY\n",
            "==========================================================================================\n",
            "\n",
            "CRITICAL PERFORMANCE METRICS:\n",
            "• Phishing Detection Rate: 96.6% (TARGET: 100%)\n",
            "• False Negative Count: 1 (TARGET: 0)\n",
            "• Overall Accuracy: 95.5%\n",
            "• Test Set Recall: 97.5%\n",
            "\n",
            "REAL-WORLD VALIDATION:\n",
            "• Legitimate Sites: 93.3% (14/15)\n",
            "• Phishing Sites: 96.6% (28/29)\n",
            "• Critical Success: ✅ ACHIEVED\n",
            "\n",
            "DATASET ENHANCEMENTS:\n",
            "• Added 32 modern phishing patterns\n",
            "• Enhanced coverage of failed detection cases\n",
            "• Improved subdomain attack detection\n",
            "• Expanded URL shortener detection\n",
            "\n",
            "MODEL OPTIMIZATIONS:\n",
            "• Ultra-biased class weights (8:1 for phishing)\n",
            "• 33 ultra-sensitive features\n",
            "• Adaptive threshold detection (0.2 default)\n",
            "• Zero false negative tolerance approach\n",
            "\n",
            "BROWSER EXTENSION DEPLOYMENT:\n",
            "✅ READY FOR DEPLOYMENT\n",
            "• Expected inference time: <400ms\n",
            "• Memory footprint: Optimized for real-time\n",
            "• Security-first approach with acceptable false positives\n",
            "\n",
            "CRITICAL FEATURES FOR PHISHING DETECTION:\n",
            "\n",
            "• has_hyphen_in_domain                | Importance: 0.1495\n",
            "• subdomain_count                     | Importance: 0.1392\n",
            "• path_length                         | Importance: 0.1252\n",
            "• has_https                           | Importance: 0.1152\n",
            "• url_length                          | Importance: 0.0801\n",
            "• domain_length                       | Importance: 0.0796\n",
            "• high_domain_entropy                 | Importance: 0.0570\n",
            "• special_char_density                | Importance: 0.0410\n",
            "• multiple_hyphens                    | Importance: 0.0365\n",
            "• has_phishing_keywords               | Importance: 0.0321\n"
          ]
        }
      ]
    },
    {
      "cell_type": "code",
      "source": [
        "log_event(\"ULTRA_TRAINING_COMPLETE\", f\"Ultra-high recall training completed\", {\n",
        "    \"critical_success\": critical_success,\n",
        "    \"phishing_detection_rate\": float(phish_accuracy),\n",
        "    \"false_negatives\": phish_total - phish_correct,\n",
        "    \"deployment_ready\": critical_success and phish_accuracy >= 0.95\n",
        "})"
      ],
      "metadata": {
        "colab": {
          "base_uri": "https://localhost:8080/"
        },
        "id": "BIYcIpwLjnBr",
        "outputId": "87a83df7-1811-4071-be70-d3ec8ec701b0"
      },
      "execution_count": 130,
      "outputs": [
        {
          "output_type": "stream",
          "name": "stdout",
          "text": [
            "[2025-06-25T05:44:50.058618] ULTRA_TRAINING_COMPLETE: Ultra-high recall training completed\n"
          ]
        }
      ]
    },
    {
      "cell_type": "markdown",
      "source": [
        "# Save comprehensive logs"
      ],
      "metadata": {
        "id": "gntkY5f21lvZ"
      }
    },
    {
      "cell_type": "code",
      "source": [
        "def save_ultra_research_logs(log_data, log_file_path):\n",
        "    \"\"\"Save ultra-high recall research logs\"\"\"\n",
        "    research_session = {\n",
        "        \"session_id\": datetime.now().strftime(\"%Y%m%d_%H%M%S\"),\n",
        "        \"model_version\": \"5.0_ultra_high_recall\",\n",
        "        \"critical_success\": critical_success,\n",
        "        \"perfect_detection\": phish_accuracy >= 1.0,\n",
        "        \"session_summary\": {\n",
        "            \"total_events\": len(log_data),\n",
        "            \"phishing_detection_rate\": float(phish_accuracy),\n",
        "            \"false_negatives\": phish_total - phish_correct,\n",
        "            \"dataset_enhanced\": True,\n",
        "            \"modern_patterns_added\": len(modern_phishing_patterns)\n",
        "        },\n",
        "        \"events\": log_data\n",
        "    }\n",
        "\n",
        "    try:\n",
        "        with open(log_file_path, 'r') as f:\n",
        "            existing_data = json.load(f)\n",
        "            if not isinstance(existing_data, list):\n",
        "                existing_data = [existing_data]\n",
        "    except (FileNotFoundError, json.JSONDecodeError):\n",
        "        existing_data = []\n",
        "\n",
        "    existing_data.append(research_session)\n",
        "\n",
        "    with open(log_file_path, 'w') as f:\n",
        "        json.dump(existing_data, f, indent=2)\n",
        "\n",
        "    return len(existing_data)"
      ],
      "metadata": {
        "id": "JpvjWW8m1pBu"
      },
      "execution_count": 131,
      "outputs": []
    },
    {
      "cell_type": "code",
      "source": [
        "session_count = save_ultra_research_logs(log_data, LOG_OUTPUT_PATH)"
      ],
      "metadata": {
        "id": "1qmJ2FTi1pyC"
      },
      "execution_count": 132,
      "outputs": []
    },
    {
      "cell_type": "code",
      "source": [
        "print(f\"\"\"\n",
        "\n",
        "FILES SAVED:\n",
        "• Ultra-High Recall Model: {MODEL_OUTPUT_PATH}\n",
        "• Scaler: {SCALER_OUTPUT_PATH}\n",
        "• Metadata: {METADATA_OUTPUT_PATH}\n",
        "• Research Logs: {LOG_OUTPUT_PATH} (Session #{session_count})\n",
        "\n",
        "DEPLOYMENT DECISION:\n",
        "{'✅ APPROVED - DEPLOY IMMEDIATELY' if critical_success and phish_accuracy >= 0.95 else '❌ CRITICAL ISSUES - DO NOT DEPLOY'}\n",
        "\n",
        "NEXT STEPS:\n",
        "• Update browser extension with ultra-sensitive detection\n",
        "• Set detection threshold to 0.2 for maximum sensitivity\n",
        "• Monitor false positive rates in production\n",
        "• Implement user feedback system for continuous improvement\n",
        "\n",
        "SECURITY RECOMMENDATION:\n",
        "{'✅ HIGH SECURITY - Suitable for production' if phish_accuracy >= 0.95 else '🚨 SECURITY RISK - Requires immediate optimization'}\n",
        "\"\"\")\n",
        "\n",
        "if phish_accuracy < 0.95:\n",
        "    print(\"\\n🚨 CRITICAL SECURITY ALERT:\")\n",
        "    print(\"This model does not meet the minimum 95% phishing detection requirement.\")\n",
        "    print(\"FALSE NEGATIVES DETECTED - System vulnerable to phishing attacks!\")\n",
        "    print(\"Recommend immediate feature engineering improvements or threshold adjustment.\")"
      ],
      "metadata": {
        "colab": {
          "base_uri": "https://localhost:8080/"
        },
        "id": "3q2FGC9o1rXo",
        "outputId": "36d98046-bb64-43e4-87f5-23f7b1232886"
      },
      "execution_count": 133,
      "outputs": [
        {
          "output_type": "stream",
          "name": "stdout",
          "text": [
            "\n",
            "\n",
            "FILES SAVED:\n",
            "• Ultra-High Recall Model: /content/drive/MyDrive/PUSL3190/models/browser_extension/ultra_high_recall_model.pkl\n",
            "• Scaler: /content/drive/MyDrive/PUSL3190/models/browser_extension/ultra_high_recall_scaler.pkl\n",
            "• Metadata: /content/drive/MyDrive/PUSL3190/models/browser_extension/ultra_high_recall_metadata.json\n",
            "• Research Logs: /content/drive/MyDrive/PUSL3190/logs/ultra_high_recall_training_log.json (Session #2)\n",
            "\n",
            "DEPLOYMENT DECISION:\n",
            "✅ APPROVED - DEPLOY IMMEDIATELY\n",
            "\n",
            "NEXT STEPS:\n",
            "• Update browser extension with ultra-sensitive detection\n",
            "• Set detection threshold to 0.2 for maximum sensitivity\n",
            "• Monitor false positive rates in production\n",
            "• Implement user feedback system for continuous improvement\n",
            "\n",
            "SECURITY RECOMMENDATION:\n",
            "✅ HIGH SECURITY - Suitable for production\n",
            "\n"
          ]
        }
      ]
    }
  ]
}