{
  "nbformat": 4,
  "nbformat_minor": 0,
  "metadata": {
    "colab": {
      "provenance": []
    },
    "kernelspec": {
      "name": "python3",
      "display_name": "Python 3"
    },
    "language_info": {
      "name": "python"
    }
  },
  "cells": [
    {
      "cell_type": "markdown",
      "source": [
        "# AI-Powered URL Phishing Detection System\n",
        "# High-Performance Lightweight Classifier for Browser Extension"
      ],
      "metadata": {
        "id": "Txy20nPFufoa"
      }
    },
    {
      "cell_type": "markdown",
      "source": [
        "## Setup and Imports"
      ],
      "metadata": {
        "id": "lpApF4T2up6L"
      }
    },
    {
      "cell_type": "code",
      "execution_count": 1,
      "metadata": {
        "id": "pfSr4TMCA3wE",
        "colab": {
          "base_uri": "https://localhost:8080/"
        },
        "outputId": "9681df80-7e01-4d5e-ee47-b0efe80781c5"
      },
      "outputs": [
        {
          "output_type": "stream",
          "name": "stdout",
          "text": [
            "Collecting tldextract\n",
            "  Downloading tldextract-5.3.0-py3-none-any.whl.metadata (11 kB)\n",
            "Requirement already satisfied: idna in /usr/local/lib/python3.11/dist-packages (from tldextract) (3.10)\n",
            "Requirement already satisfied: requests>=2.1.0 in /usr/local/lib/python3.11/dist-packages (from tldextract) (2.32.3)\n",
            "Collecting requests-file>=1.4 (from tldextract)\n",
            "  Downloading requests_file-2.1.0-py2.py3-none-any.whl.metadata (1.7 kB)\n",
            "Requirement already satisfied: filelock>=3.0.8 in /usr/local/lib/python3.11/dist-packages (from tldextract) (3.18.0)\n",
            "Requirement already satisfied: charset-normalizer<4,>=2 in /usr/local/lib/python3.11/dist-packages (from requests>=2.1.0->tldextract) (3.4.2)\n",
            "Requirement already satisfied: urllib3<3,>=1.21.1 in /usr/local/lib/python3.11/dist-packages (from requests>=2.1.0->tldextract) (2.4.0)\n",
            "Requirement already satisfied: certifi>=2017.4.17 in /usr/local/lib/python3.11/dist-packages (from requests>=2.1.0->tldextract) (2025.6.15)\n",
            "Downloading tldextract-5.3.0-py3-none-any.whl (107 kB)\n",
            "\u001b[2K   \u001b[90m━━━━━━━━━━━━━━━━━━━━━━━━━━━━━━━━━━━━━━━━\u001b[0m \u001b[32m107.4/107.4 kB\u001b[0m \u001b[31m3.6 MB/s\u001b[0m eta \u001b[36m0:00:00\u001b[0m\n",
            "\u001b[?25hDownloading requests_file-2.1.0-py2.py3-none-any.whl (4.2 kB)\n",
            "Installing collected packages: requests-file, tldextract\n",
            "Successfully installed requests-file-2.1.0 tldextract-5.3.0\n"
          ]
        }
      ],
      "source": [
        "!pip install tldextract"
      ]
    },
    {
      "cell_type": "code",
      "source": [
        "import pandas as pd\n",
        "import numpy as np\n",
        "import matplotlib.pyplot as plt\n",
        "import seaborn as sns\n",
        "import time\n",
        "import json\n",
        "import os\n",
        "import re\n",
        "import tldextract\n",
        "import joblib\n",
        "import math\n",
        "from datetime import datetime\n",
        "from sklearn.model_selection import train_test_split, GridSearchCV, StratifiedKFold\n",
        "from sklearn.ensemble import RandomForestClassifier, GradientBoostingClassifier, VotingClassifier\n",
        "from sklearn.metrics import accuracy_score, precision_score, recall_score, f1_score, roc_curve, auc, confusion_matrix\n",
        "from sklearn.preprocessing import StandardScaler\n",
        "from sklearn.linear_model import LogisticRegression\n",
        "from urllib.parse import urlparse\n",
        "import warnings\n",
        "warnings.filterwarnings('ignore')"
      ],
      "metadata": {
        "id": "4MIc_jfZuuHA"
      },
      "execution_count": 2,
      "outputs": []
    },
    {
      "cell_type": "markdown",
      "source": [
        "## Configuration and Logging"
      ],
      "metadata": {
        "id": "h1sheheeuwuI"
      }
    },
    {
      "cell_type": "code",
      "source": [
        "log_data = []\n",
        "\n",
        "def log_event(event_type, message, metadata=None):\n",
        "    \"\"\"Log events for research documentation\"\"\"\n",
        "    log_entry = {\n",
        "        \"timestamp\": datetime.now().isoformat(),\n",
        "        \"event_type\": event_type,\n",
        "        \"message\": message,\n",
        "        \"metadata\": metadata or {}\n",
        "    }\n",
        "    log_data.append(log_entry)\n",
        "    print(f\"[{log_entry['timestamp']}] {event_type}: {message}\")"
      ],
      "metadata": {
        "id": "KaGfIsFduyju"
      },
      "execution_count": 3,
      "outputs": []
    },
    {
      "cell_type": "markdown",
      "source": [
        "### Define paths"
      ],
      "metadata": {
        "id": "ILIXJevEu0eO"
      }
    },
    {
      "cell_type": "code",
      "source": [
        "from google.colab import drive\n",
        "drive.mount('/content/drive')"
      ],
      "metadata": {
        "colab": {
          "base_uri": "https://localhost:8080/"
        },
        "id": "tYQ-cQsWyMBg",
        "outputId": "db391cb4-ceeb-4e68-c281-e0cdb457796d"
      },
      "execution_count": 4,
      "outputs": [
        {
          "output_type": "stream",
          "name": "stdout",
          "text": [
            "Mounted at /content/drive\n"
          ]
        }
      ]
    },
    {
      "cell_type": "code",
      "source": [
        "BASE_PATH = '/content/drive/MyDrive/PUSL3190'\n",
        "RAW_DATA_PATH = f'{BASE_PATH}/data/raw/phishing_site_urls.csv'\n",
        "PROCESSED_DATA_PATH = f'{BASE_PATH}/data/processed/browser_extension/high_performance_features.csv'\n",
        "MODEL_OUTPUT_PATH = f'{BASE_PATH}/models/browser_extension/high_performance_model.pkl'\n",
        "SCALER_OUTPUT_PATH = f'{BASE_PATH}/models/browser_extension/high_performance_scaler.pkl'\n",
        "METADATA_OUTPUT_PATH = f'{BASE_PATH}/models/browser_extension/high_performance_metadata.json'\n",
        "LOG_OUTPUT_PATH = f'{BASE_PATH}/logs/high_performance_training_log.json'"
      ],
      "metadata": {
        "id": "79CCc52MyPr6"
      },
      "execution_count": 5,
      "outputs": []
    },
    {
      "cell_type": "markdown",
      "source": [
        "# Create directories"
      ],
      "metadata": {
        "id": "lqEnQ5WZyUIx"
      }
    },
    {
      "cell_type": "code",
      "source": [
        "os.makedirs(f'{BASE_PATH}/data/processed/browser_extension', exist_ok=True)\n",
        "os.makedirs(f'{BASE_PATH}/models/browser_extension', exist_ok=True)\n",
        "os.makedirs(f'{BASE_PATH}/logs', exist_ok=True)"
      ],
      "metadata": {
        "id": "vM-3eJ9eyTjw"
      },
      "execution_count": 6,
      "outputs": []
    },
    {
      "cell_type": "markdown",
      "source": [
        "## 1. Data Loading and Exploration"
      ],
      "metadata": {
        "id": "kLlVXo-_yYIB"
      }
    },
    {
      "cell_type": "code",
      "source": [
        "log_event(\"DATA_LOADING\", \"Loading dataset for high-performance model\")\n",
        "start_time = time.time()"
      ],
      "metadata": {
        "colab": {
          "base_uri": "https://localhost:8080/"
        },
        "id": "Hamu0CHjyYex",
        "outputId": "128e4832-3ef6-4fcf-ecc4-5cd2a003aeb9"
      },
      "execution_count": 7,
      "outputs": [
        {
          "output_type": "stream",
          "name": "stdout",
          "text": [
            "[2025-06-22T18:50:09.483633] DATA_LOADING: Loading dataset for high-performance model\n"
          ]
        }
      ]
    },
    {
      "cell_type": "code",
      "source": [
        "try:\n",
        "    df = pd.read_csv(RAW_DATA_PATH)\n",
        "    if 'class' not in df.columns:\n",
        "        df = df.rename(columns={'label': 'class'})\n",
        "\n",
        "    # Convert labels to numeric\n",
        "    if df['class'].dtype == 'object':\n",
        "        print(f\"Converting string labels to numeric. Unique values: {df['class'].unique()}\")\n",
        "        df['class'] = df['class'].map({'good': 0, 'bad': 1, 'legitimate': 0, 'phishing': 1})\n",
        "\n",
        "    print(f\"Dataset shape: {df.shape}\")\n",
        "    print(f\"Class distribution:\\n{df['class'].value_counts()}\")\n",
        "\n",
        "    # Analyze current phishing patterns\n",
        "    phishing_urls = df[df['class'] == 1]['URL']\n",
        "    legitimate_urls = df[df['class'] == 0]['URL']\n",
        "\n",
        "    print(f\"\\nModern phishing analysis:\")\n",
        "    print(f\"Phishing URLs using HTTPS: {sum(url.startswith('https') for url in phishing_urls) / len(phishing_urls):.2%}\")\n",
        "    print(f\"Legitimate URLs using HTTPS: {sum(url.startswith('https') for url in legitimate_urls) / len(legitimate_urls):.2%}\")\n",
        "\n",
        "    log_event(\"DATA_LOADED\", f\"Dataset loaded successfully with {df.shape[0]} samples\")\n",
        "\n",
        "except Exception as e:\n",
        "    log_event(\"ERROR\", f\"Failed to load dataset: {str(e)}\")\n",
        "    raise"
      ],
      "metadata": {
        "colab": {
          "base_uri": "https://localhost:8080/"
        },
        "id": "hq-G56CbybYk",
        "outputId": "293bfc2e-f459-4a20-eb2e-81f65b385b29"
      },
      "execution_count": 8,
      "outputs": [
        {
          "output_type": "stream",
          "name": "stdout",
          "text": [
            "Dataset shape: (4000, 2)\n",
            "Class distribution:\n",
            "class\n",
            "1    2000\n",
            "0    2000\n",
            "Name: count, dtype: int64\n",
            "\n",
            "Modern phishing analysis:\n",
            "Phishing URLs using HTTPS: 6.25%\n",
            "Legitimate URLs using HTTPS: 100.00%\n",
            "[2025-06-22T18:50:12.729732] DATA_LOADED: Dataset loaded successfully with 4000 samples\n"
          ]
        }
      ]
    },
    {
      "cell_type": "code",
      "source": [
        "loading_time = time.time() - start_time\n",
        "log_event(\"TIMING\", f\"Data loading completed in {loading_time:.2f} seconds\")"
      ],
      "metadata": {
        "colab": {
          "base_uri": "https://localhost:8080/"
        },
        "id": "FaL-PXXWyd_B",
        "outputId": "474cc888-5499-4693-cfb0-27a47bfd5cdc"
      },
      "execution_count": 9,
      "outputs": [
        {
          "output_type": "stream",
          "name": "stdout",
          "text": [
            "[2025-06-22T18:50:20.441510] TIMING: Data loading completed in 10.96 seconds\n"
          ]
        }
      ]
    },
    {
      "cell_type": "markdown",
      "source": [
        "## 2. Advanced Feature Engineering for Real-World Performance"
      ],
      "metadata": {
        "id": "yfSJjFq8yhAa"
      }
    },
    {
      "cell_type": "code",
      "source": [
        "log_event(\"FEATURE_ENGINEERING\", \"Extracting advanced features for real-world scenarios\")\n",
        "start_time = time.time()"
      ],
      "metadata": {
        "colab": {
          "base_uri": "https://localhost:8080/"
        },
        "id": "hvGvv41jyikD",
        "outputId": "85ebb9ff-79da-4dfc-ebe5-c36fe2c4a102"
      },
      "execution_count": 10,
      "outputs": [
        {
          "output_type": "stream",
          "name": "stdout",
          "text": [
            "[2025-06-22T18:50:22.919376] FEATURE_ENGINEERING: Extracting advanced features for real-world scenarios\n"
          ]
        }
      ]
    },
    {
      "cell_type": "code",
      "source": [
        "def extract_high_performance_features(url_df):\n",
        "    \"\"\"Extract advanced features optimized for real-world phishing detection\"\"\"\n",
        "    features = pd.DataFrame()\n",
        "\n",
        "    # Compile regex patterns once for efficiency\n",
        "    ip_pattern = re.compile(r'\\b(?:[0-9]{1,3}\\.){3}[0-9]{1,3}\\b')\n",
        "    suspicious_pattern = re.compile(r'[%\\-_=&\\?]')\n",
        "\n",
        "    def analyze_advanced_url(url):\n",
        "        try:\n",
        "            url_lower = url.lower()\n",
        "            parsed = urlparse(url_lower)\n",
        "            domain = parsed.netloc\n",
        "            path = parsed.path\n",
        "            query = parsed.query\n",
        "\n",
        "            # Extract domain components\n",
        "            extracted = tldextract.extract(url)\n",
        "            subdomain = extracted.subdomain or ''\n",
        "            domain_name = extracted.domain or ''\n",
        "            tld = extracted.suffix or ''\n",
        "\n",
        "            # === BASIC METRICS ===\n",
        "            url_length = len(url)\n",
        "            domain_length = len(domain)\n",
        "            path_length = len(path)\n",
        "            query_length = len(query)\n",
        "\n",
        "            # === SECURITY INDICATORS ===\n",
        "            has_https = 1 if url.startswith('https') else 0\n",
        "            has_ip = 1 if ip_pattern.search(domain) else 0\n",
        "            has_at_symbol = 1 if '@' in url else 0\n",
        "            has_double_slash = 1 if '//' in url[8:] else 0  # After protocol\n",
        "\n",
        "            # === DOMAIN ANALYSIS ===\n",
        "            # Subdomain complexity\n",
        "            subdomain_count = len(subdomain.split('.')) if subdomain else 0\n",
        "            long_subdomain = 1 if len(subdomain) > 25 else 0\n",
        "\n",
        "            # Domain characteristics\n",
        "            has_hyphen = 1 if '-' in domain_name else 0\n",
        "            digit_ratio = sum(c.isdigit() for c in domain_name) / max(len(domain_name), 1)\n",
        "\n",
        "            # === SUSPICIOUS PATTERNS ===\n",
        "            # Character analysis\n",
        "            special_char_count = len(suspicious_pattern.findall(url))\n",
        "            special_char_ratio = special_char_count / len(url)\n",
        "            dot_count = url.count('.')\n",
        "            slash_count = url.count('/')\n",
        "\n",
        "            # === PHISHING KEYWORDS (Expanded) ===\n",
        "            phishing_keywords = [\n",
        "                # Authentication & Security\n",
        "                'verify', 'secure', 'login', 'signin', 'account', 'update', 'confirm',\n",
        "                'suspended', 'locked', 'expired', 'urgent', 'immediate', 'security',\n",
        "                'alert', 'warning', 'action', 'required', 'validation', 'authenticate',\n",
        "                # Financial\n",
        "                'banking', 'payment', 'billing', 'invoice', 'transaction', 'refund',\n",
        "                'card', 'credit', 'debit', 'wallet', 'paypal', 'stripe',\n",
        "                # Social Engineering\n",
        "                'winner', 'prize', 'congratulations', 'claim', 'reward', 'gift',\n",
        "                'free', 'limited', 'offer', 'deal', 'discount', 'bonus',\n",
        "                # Technical\n",
        "                'webscr', 'cgi-bin', 'gateway', 'portal', 'admin', 'control'\n",
        "            ]\n",
        "\n",
        "            keyword_count = sum(1 for kw in phishing_keywords if kw in url_lower)\n",
        "\n",
        "            # === BRAND IMPERSONATION (Expanded) ===\n",
        "            major_brands = [\n",
        "                # Tech Giants\n",
        "                'google', 'microsoft', 'apple', 'amazon', 'facebook', 'meta',\n",
        "                'instagram', 'twitter', 'linkedin', 'youtube', 'netflix', 'spotify',\n",
        "                # Financial Institutions\n",
        "                'paypal', 'stripe', 'visa', 'mastercard', 'amex', 'discover',\n",
        "                'chase', 'wells', 'bofa', 'citi', 'usbank', 'hsbc',\n",
        "                'bank', 'credit', 'union', 'financial',\n",
        "                # Services\n",
        "                'ups', 'fedex', 'dhl', 'usps', 'ebay', 'alibaba',\n",
        "                'dropbox', 'adobe', 'zoom', 'skype', 'whatsapp',\n",
        "                # Government\n",
        "                'irs', 'gov', 'postal', 'social', 'medicare'\n",
        "            ]\n",
        "\n",
        "            brand_impersonation = sum(1 for brand in major_brands if brand in domain_name)\n",
        "\n",
        "            # === URL STRUCTURE ANOMALIES ===\n",
        "            excessive_dots = 1 if dot_count > 5 else 0\n",
        "            deep_path = 1 if path.count('/') > 4 else 0\n",
        "            long_query = 1 if query_length > 100 else 0\n",
        "\n",
        "            # === TLD ANALYSIS ===\n",
        "            suspicious_tlds = [\n",
        "                'tk', 'ml', 'ga', 'cf', 'gq', 'top', 'click', 'download',\n",
        "                'link', 'info', 'biz', 'xyz', 'club', 'online', 'site',\n",
        "                'website', 'space', 'tech', 'store', 'shop'\n",
        "            ]\n",
        "            suspicious_tld = 1 if tld in suspicious_tlds else 0\n",
        "\n",
        "            # === SHORTENER DETECTION (Expanded) ===\n",
        "            shorteners = [\n",
        "                'bit.ly', 'tinyurl.com', 't.co', 'goo.gl', 'ow.ly', 'is.gd',\n",
        "                'buff.ly', 'adf.ly', 'short.link', 'tiny.cc', 'rb.gy',\n",
        "                'cutt.ly', 'bitly.com', 'short.io', 'rebrand.ly'\n",
        "            ]\n",
        "            is_shortener = 1 if any(s in domain for s in shorteners) else 0\n",
        "\n",
        "            # === ADVANCED HEURISTICS ===\n",
        "            # Homograph attack detection (basic)\n",
        "            suspicious_chars = sum(1 for c in domain_name if ord(c) > 127)\n",
        "            homograph_risk = 1 if suspicious_chars > 0 else 0\n",
        "\n",
        "            # URL entropy (simplified for speed)\n",
        "            unique_chars = len(set(url_lower))\n",
        "            url_entropy = unique_chars / len(url) if len(url) > 0 else 0\n",
        "\n",
        "            # Reputation-based features\n",
        "            has_www = 1 if domain.startswith('www.') else 0\n",
        "            port_in_url = 1 if ':' in domain and not domain.startswith('http') else 0\n",
        "\n",
        "            return {\n",
        "                # Basic metrics\n",
        "                'url_length': url_length,\n",
        "                'domain_length': domain_length,\n",
        "                'path_length': path_length,\n",
        "                'query_length': query_length,\n",
        "\n",
        "                # Security indicators\n",
        "                'has_https': has_https,\n",
        "                'has_ip': has_ip,\n",
        "                'has_at_symbol': has_at_symbol,\n",
        "                'has_double_slash': has_double_slash,\n",
        "\n",
        "                # Domain analysis\n",
        "                'subdomain_count': subdomain_count,\n",
        "                'long_subdomain': long_subdomain,\n",
        "                'has_hyphen': has_hyphen,\n",
        "                'digit_ratio': digit_ratio,\n",
        "\n",
        "                # Character analysis\n",
        "                'special_char_count': special_char_count,\n",
        "                'special_char_ratio': special_char_ratio,\n",
        "                'dot_count': dot_count,\n",
        "                'slash_count': slash_count,\n",
        "\n",
        "                # Content analysis\n",
        "                'keyword_count': keyword_count,\n",
        "                'brand_impersonation': brand_impersonation,\n",
        "\n",
        "                # Structure analysis\n",
        "                'excessive_dots': excessive_dots,\n",
        "                'deep_path': deep_path,\n",
        "                'long_query': long_query,\n",
        "                'suspicious_tld': suspicious_tld,\n",
        "                'is_shortener': is_shortener,\n",
        "\n",
        "                # Advanced features\n",
        "                'homograph_risk': homograph_risk,\n",
        "                'url_entropy': url_entropy,\n",
        "                'has_www': has_www,\n",
        "                'port_in_url': port_in_url\n",
        "            }\n",
        "        except Exception as e:\n",
        "            # Return safe defaults on error\n",
        "            return {k: 0 for k in [\n",
        "                'url_length', 'domain_length', 'path_length', 'query_length',\n",
        "                'has_https', 'has_ip', 'has_at_symbol', 'has_double_slash',\n",
        "                'subdomain_count', 'long_subdomain', 'has_hyphen', 'digit_ratio',\n",
        "                'special_char_count', 'special_char_ratio', 'dot_count', 'slash_count',\n",
        "                'keyword_count', 'brand_impersonation', 'excessive_dots', 'deep_path',\n",
        "                'long_query', 'suspicious_tld', 'is_shortener', 'homograph_risk',\n",
        "                'url_entropy', 'has_www', 'port_in_url'\n",
        "            ]}\n",
        "\n",
        "    # Extract features for all URLs\n",
        "    url_features = url_df['URL'].apply(analyze_advanced_url)\n",
        "    for feature_name in url_features.iloc[0].keys():\n",
        "        features[feature_name] = url_features.apply(lambda x: x[feature_name])\n",
        "\n",
        "    # Add target\n",
        "    features['is_phishing'] = url_df['class']\n",
        "\n",
        "    return features"
      ],
      "metadata": {
        "id": "4bWbkWdIykSK"
      },
      "execution_count": 11,
      "outputs": []
    },
    {
      "cell_type": "markdown",
      "source": [
        "# Extract advanced features"
      ],
      "metadata": {
        "id": "WK662VL4ywbb"
      }
    },
    {
      "cell_type": "code",
      "source": [
        "high_performance_features = extract_high_performance_features(df)"
      ],
      "metadata": {
        "id": "D3AKIO1tyvkc"
      },
      "execution_count": 12,
      "outputs": []
    },
    {
      "cell_type": "code",
      "source": [
        "print(f\"Advanced features extracted: {high_performance_features.shape}\")\n",
        "print(f\"Feature count: {len(high_performance_features.columns) - 1}\")\n",
        "print(\"\\nFeature sample:\")\n",
        "print(high_performance_features.head())"
      ],
      "metadata": {
        "colab": {
          "base_uri": "https://localhost:8080/"
        },
        "id": "kiSCxPXny0QD",
        "outputId": "325c6511-f2bc-4d61-aaf2-26c3be1f65e1"
      },
      "execution_count": 13,
      "outputs": [
        {
          "output_type": "stream",
          "name": "stdout",
          "text": [
            "Advanced features extracted: (4000, 28)\n",
            "Feature count: 27\n",
            "\n",
            "Feature sample:\n",
            "   url_length  domain_length  path_length  query_length  has_https  has_ip  \\\n",
            "0          44             30            6             0          1       0   \n",
            "1          39             30            1             0          1       0   \n",
            "2          35             19            8             0          1       0   \n",
            "3          27              9           10             0          1       0   \n",
            "4          34             17            9             0          1       0   \n",
            "\n",
            "   has_at_symbol  has_double_slash  subdomain_count  long_subdomain  ...  \\\n",
            "0              0                 0                1               0  ...   \n",
            "1              0                 0                1               0  ...   \n",
            "2              0                 0                1               0  ...   \n",
            "3              0                 0                0               0  ...   \n",
            "4              0                 0                0               0  ...   \n",
            "\n",
            "   excessive_dots  deep_path  long_query  suspicious_tld  is_shortener  \\\n",
            "0               0          0           0               0             0   \n",
            "1               0          0           0               0             0   \n",
            "2               0          0           0               0             0   \n",
            "3               0          0           0               1             0   \n",
            "4               0          0           0               1             0   \n",
            "\n",
            "   homograph_risk  url_entropy  has_www  port_in_url  is_phishing  \n",
            "0               0     0.431818        0            0            1  \n",
            "1               0     0.589744        0            0            1  \n",
            "2               0     0.600000        0            0            1  \n",
            "3               0     0.555556        0            0            1  \n",
            "4               0     0.558824        0            0            1  \n",
            "\n",
            "[5 rows x 28 columns]\n"
          ]
        }
      ]
    },
    {
      "cell_type": "markdown",
      "source": [
        "# Save features"
      ],
      "metadata": {
        "id": "syA_LGeky0tl"
      }
    },
    {
      "cell_type": "code",
      "source": [
        "high_performance_features.to_csv(PROCESSED_DATA_PATH, index=False)"
      ],
      "metadata": {
        "id": "ctqSuSUYy3E4"
      },
      "execution_count": 14,
      "outputs": []
    },
    {
      "cell_type": "code",
      "source": [
        "feature_extraction_time = time.time() - start_time\n",
        "log_event(\"TIMING\", f\"Advanced feature extraction completed in {feature_extraction_time:.2f} seconds\",\n",
        "          {\"num_features\": high_performance_features.shape[1] - 1})"
      ],
      "metadata": {
        "colab": {
          "base_uri": "https://localhost:8080/"
        },
        "id": "CrxWpKm3y5Kf",
        "outputId": "e6e70e21-e426-4a67-990b-467308dc190e"
      },
      "execution_count": 15,
      "outputs": [
        {
          "output_type": "stream",
          "name": "stdout",
          "text": [
            "[2025-06-22T18:50:53.381434] TIMING: Advanced feature extraction completed in 30.46 seconds\n"
          ]
        }
      ]
    },
    {
      "cell_type": "markdown",
      "source": [
        "## 3. High-Performance Model Training"
      ],
      "metadata": {
        "id": "QTtovwNBy6Bb"
      }
    },
    {
      "cell_type": "code",
      "source": [
        "log_event(\"MODEL_TRAINING\", \"Training high-performance model with focus on recall\")\n",
        "start_time = time.time()"
      ],
      "metadata": {
        "colab": {
          "base_uri": "https://localhost:8080/"
        },
        "id": "mfzrvT2xy7Ig",
        "outputId": "35962770-c351-4ec9-9dc0-3b770c4c747d"
      },
      "execution_count": 16,
      "outputs": [
        {
          "output_type": "stream",
          "name": "stdout",
          "text": [
            "[2025-06-22T18:50:55.912989] MODEL_TRAINING: Training high-performance model with focus on recall\n"
          ]
        }
      ]
    },
    {
      "cell_type": "markdown",
      "source": [
        "# Prepare data"
      ],
      "metadata": {
        "id": "Ec0rmUP5y-Co"
      }
    },
    {
      "cell_type": "code",
      "source": [
        "X = high_performance_features.drop('is_phishing', axis=1)\n",
        "y = high_performance_features['is_phishing']"
      ],
      "metadata": {
        "id": "gG7GgZ6Ky8up"
      },
      "execution_count": 17,
      "outputs": []
    },
    {
      "cell_type": "code",
      "source": [
        "print(f\"Training features: {list(X.columns)}\")\n",
        "print(f\"Feature count: {len(X.columns)}\")"
      ],
      "metadata": {
        "colab": {
          "base_uri": "https://localhost:8080/"
        },
        "id": "ENLxGGPizBWW",
        "outputId": "f835796a-f57a-4d99-aab2-f7b14b63a7e9"
      },
      "execution_count": 18,
      "outputs": [
        {
          "output_type": "stream",
          "name": "stdout",
          "text": [
            "Training features: ['url_length', 'domain_length', 'path_length', 'query_length', 'has_https', 'has_ip', 'has_at_symbol', 'has_double_slash', 'subdomain_count', 'long_subdomain', 'has_hyphen', 'digit_ratio', 'special_char_count', 'special_char_ratio', 'dot_count', 'slash_count', 'keyword_count', 'brand_impersonation', 'excessive_dots', 'deep_path', 'long_query', 'suspicious_tld', 'is_shortener', 'homograph_risk', 'url_entropy', 'has_www', 'port_in_url']\n",
            "Feature count: 27\n"
          ]
        }
      ]
    },
    {
      "cell_type": "markdown",
      "source": [
        "# Split data with stratification"
      ],
      "metadata": {
        "id": "_7DD4Nz1zCpR"
      }
    },
    {
      "cell_type": "code",
      "source": [
        "X_train, X_test, y_train, y_test = train_test_split(\n",
        "    X, y, test_size=0.2, random_state=42, stratify=y\n",
        ")"
      ],
      "metadata": {
        "id": "ziNhIQ1czEIp"
      },
      "execution_count": 19,
      "outputs": []
    },
    {
      "cell_type": "code",
      "source": [
        "log_event(\"DATA_SPLIT\", f\"Data split: {X_train.shape[0]} train, {X_test.shape[0]} test\")"
      ],
      "metadata": {
        "colab": {
          "base_uri": "https://localhost:8080/"
        },
        "id": "TEHdAbpazFLP",
        "outputId": "784ddd59-63e4-41b2-eb23-fb91cefa1557"
      },
      "execution_count": 20,
      "outputs": [
        {
          "output_type": "stream",
          "name": "stdout",
          "text": [
            "[2025-06-22T18:51:07.604675] DATA_SPLIT: Data split: 3200 train, 800 test\n"
          ]
        }
      ]
    },
    {
      "cell_type": "markdown",
      "source": [
        "# Feature scaling"
      ],
      "metadata": {
        "id": "rBpgiMrIzICo"
      }
    },
    {
      "cell_type": "code",
      "source": [
        "scaler = StandardScaler()\n",
        "X_train_scaled = scaler.fit_transform(X_train)\n",
        "X_test_scaled = scaler.transform(X_test)"
      ],
      "metadata": {
        "id": "8quJJLJazJcu"
      },
      "execution_count": 21,
      "outputs": []
    },
    {
      "cell_type": "markdown",
      "source": [
        "# Optimized Random Forest with focus on recall (avoiding false negatives)"
      ],
      "metadata": {
        "id": "kPreU4LYzMpE"
      }
    },
    {
      "cell_type": "code",
      "source": [
        "rf_model = RandomForestClassifier(\n",
        "    n_estimators=75,           # Increased for better performance\n",
        "    max_depth=15,              # Deeper trees for complex patterns\n",
        "    min_samples_split=3,       # More sensitive to patterns\n",
        "    min_samples_leaf=1,        # Allow fine-grained decisions\n",
        "    class_weight={0: 1, 1: 3}, # Higher weight for phishing class (avoid false negatives)\n",
        "    random_state=42,\n",
        "    n_jobs=-1,\n",
        "    bootstrap=True,\n",
        "    oob_score=True\n",
        ")"
      ],
      "metadata": {
        "id": "o7-wiKp8zNXw"
      },
      "execution_count": 22,
      "outputs": []
    },
    {
      "cell_type": "code",
      "source": [
        "print(\"Training high-performance Random Forest...\")\n",
        "rf_model.fit(X_train_scaled, y_train)"
      ],
      "metadata": {
        "colab": {
          "base_uri": "https://localhost:8080/",
          "height": 132
        },
        "id": "VEPxRuUFzQOG",
        "outputId": "802be118-710d-4355-ceca-72fed1aeb141"
      },
      "execution_count": 23,
      "outputs": [
        {
          "output_type": "stream",
          "name": "stdout",
          "text": [
            "Training high-performance Random Forest...\n"
          ]
        },
        {
          "output_type": "execute_result",
          "data": {
            "text/plain": [
              "RandomForestClassifier(class_weight={0: 1, 1: 3}, max_depth=15,\n",
              "                       min_samples_split=3, n_estimators=75, n_jobs=-1,\n",
              "                       oob_score=True, random_state=42)"
            ],
            "text/html": [
              "<style>#sk-container-id-1 {\n",
              "  /* Definition of color scheme common for light and dark mode */\n",
              "  --sklearn-color-text: #000;\n",
              "  --sklearn-color-text-muted: #666;\n",
              "  --sklearn-color-line: gray;\n",
              "  /* Definition of color scheme for unfitted estimators */\n",
              "  --sklearn-color-unfitted-level-0: #fff5e6;\n",
              "  --sklearn-color-unfitted-level-1: #f6e4d2;\n",
              "  --sklearn-color-unfitted-level-2: #ffe0b3;\n",
              "  --sklearn-color-unfitted-level-3: chocolate;\n",
              "  /* Definition of color scheme for fitted estimators */\n",
              "  --sklearn-color-fitted-level-0: #f0f8ff;\n",
              "  --sklearn-color-fitted-level-1: #d4ebff;\n",
              "  --sklearn-color-fitted-level-2: #b3dbfd;\n",
              "  --sklearn-color-fitted-level-3: cornflowerblue;\n",
              "\n",
              "  /* Specific color for light theme */\n",
              "  --sklearn-color-text-on-default-background: var(--sg-text-color, var(--theme-code-foreground, var(--jp-content-font-color1, black)));\n",
              "  --sklearn-color-background: var(--sg-background-color, var(--theme-background, var(--jp-layout-color0, white)));\n",
              "  --sklearn-color-border-box: var(--sg-text-color, var(--theme-code-foreground, var(--jp-content-font-color1, black)));\n",
              "  --sklearn-color-icon: #696969;\n",
              "\n",
              "  @media (prefers-color-scheme: dark) {\n",
              "    /* Redefinition of color scheme for dark theme */\n",
              "    --sklearn-color-text-on-default-background: var(--sg-text-color, var(--theme-code-foreground, var(--jp-content-font-color1, white)));\n",
              "    --sklearn-color-background: var(--sg-background-color, var(--theme-background, var(--jp-layout-color0, #111)));\n",
              "    --sklearn-color-border-box: var(--sg-text-color, var(--theme-code-foreground, var(--jp-content-font-color1, white)));\n",
              "    --sklearn-color-icon: #878787;\n",
              "  }\n",
              "}\n",
              "\n",
              "#sk-container-id-1 {\n",
              "  color: var(--sklearn-color-text);\n",
              "}\n",
              "\n",
              "#sk-container-id-1 pre {\n",
              "  padding: 0;\n",
              "}\n",
              "\n",
              "#sk-container-id-1 input.sk-hidden--visually {\n",
              "  border: 0;\n",
              "  clip: rect(1px 1px 1px 1px);\n",
              "  clip: rect(1px, 1px, 1px, 1px);\n",
              "  height: 1px;\n",
              "  margin: -1px;\n",
              "  overflow: hidden;\n",
              "  padding: 0;\n",
              "  position: absolute;\n",
              "  width: 1px;\n",
              "}\n",
              "\n",
              "#sk-container-id-1 div.sk-dashed-wrapped {\n",
              "  border: 1px dashed var(--sklearn-color-line);\n",
              "  margin: 0 0.4em 0.5em 0.4em;\n",
              "  box-sizing: border-box;\n",
              "  padding-bottom: 0.4em;\n",
              "  background-color: var(--sklearn-color-background);\n",
              "}\n",
              "\n",
              "#sk-container-id-1 div.sk-container {\n",
              "  /* jupyter's `normalize.less` sets `[hidden] { display: none; }`\n",
              "     but bootstrap.min.css set `[hidden] { display: none !important; }`\n",
              "     so we also need the `!important` here to be able to override the\n",
              "     default hidden behavior on the sphinx rendered scikit-learn.org.\n",
              "     See: https://github.com/scikit-learn/scikit-learn/issues/21755 */\n",
              "  display: inline-block !important;\n",
              "  position: relative;\n",
              "}\n",
              "\n",
              "#sk-container-id-1 div.sk-text-repr-fallback {\n",
              "  display: none;\n",
              "}\n",
              "\n",
              "div.sk-parallel-item,\n",
              "div.sk-serial,\n",
              "div.sk-item {\n",
              "  /* draw centered vertical line to link estimators */\n",
              "  background-image: linear-gradient(var(--sklearn-color-text-on-default-background), var(--sklearn-color-text-on-default-background));\n",
              "  background-size: 2px 100%;\n",
              "  background-repeat: no-repeat;\n",
              "  background-position: center center;\n",
              "}\n",
              "\n",
              "/* Parallel-specific style estimator block */\n",
              "\n",
              "#sk-container-id-1 div.sk-parallel-item::after {\n",
              "  content: \"\";\n",
              "  width: 100%;\n",
              "  border-bottom: 2px solid var(--sklearn-color-text-on-default-background);\n",
              "  flex-grow: 1;\n",
              "}\n",
              "\n",
              "#sk-container-id-1 div.sk-parallel {\n",
              "  display: flex;\n",
              "  align-items: stretch;\n",
              "  justify-content: center;\n",
              "  background-color: var(--sklearn-color-background);\n",
              "  position: relative;\n",
              "}\n",
              "\n",
              "#sk-container-id-1 div.sk-parallel-item {\n",
              "  display: flex;\n",
              "  flex-direction: column;\n",
              "}\n",
              "\n",
              "#sk-container-id-1 div.sk-parallel-item:first-child::after {\n",
              "  align-self: flex-end;\n",
              "  width: 50%;\n",
              "}\n",
              "\n",
              "#sk-container-id-1 div.sk-parallel-item:last-child::after {\n",
              "  align-self: flex-start;\n",
              "  width: 50%;\n",
              "}\n",
              "\n",
              "#sk-container-id-1 div.sk-parallel-item:only-child::after {\n",
              "  width: 0;\n",
              "}\n",
              "\n",
              "/* Serial-specific style estimator block */\n",
              "\n",
              "#sk-container-id-1 div.sk-serial {\n",
              "  display: flex;\n",
              "  flex-direction: column;\n",
              "  align-items: center;\n",
              "  background-color: var(--sklearn-color-background);\n",
              "  padding-right: 1em;\n",
              "  padding-left: 1em;\n",
              "}\n",
              "\n",
              "\n",
              "/* Toggleable style: style used for estimator/Pipeline/ColumnTransformer box that is\n",
              "clickable and can be expanded/collapsed.\n",
              "- Pipeline and ColumnTransformer use this feature and define the default style\n",
              "- Estimators will overwrite some part of the style using the `sk-estimator` class\n",
              "*/\n",
              "\n",
              "/* Pipeline and ColumnTransformer style (default) */\n",
              "\n",
              "#sk-container-id-1 div.sk-toggleable {\n",
              "  /* Default theme specific background. It is overwritten whether we have a\n",
              "  specific estimator or a Pipeline/ColumnTransformer */\n",
              "  background-color: var(--sklearn-color-background);\n",
              "}\n",
              "\n",
              "/* Toggleable label */\n",
              "#sk-container-id-1 label.sk-toggleable__label {\n",
              "  cursor: pointer;\n",
              "  display: flex;\n",
              "  width: 100%;\n",
              "  margin-bottom: 0;\n",
              "  padding: 0.5em;\n",
              "  box-sizing: border-box;\n",
              "  text-align: center;\n",
              "  align-items: start;\n",
              "  justify-content: space-between;\n",
              "  gap: 0.5em;\n",
              "}\n",
              "\n",
              "#sk-container-id-1 label.sk-toggleable__label .caption {\n",
              "  font-size: 0.6rem;\n",
              "  font-weight: lighter;\n",
              "  color: var(--sklearn-color-text-muted);\n",
              "}\n",
              "\n",
              "#sk-container-id-1 label.sk-toggleable__label-arrow:before {\n",
              "  /* Arrow on the left of the label */\n",
              "  content: \"▸\";\n",
              "  float: left;\n",
              "  margin-right: 0.25em;\n",
              "  color: var(--sklearn-color-icon);\n",
              "}\n",
              "\n",
              "#sk-container-id-1 label.sk-toggleable__label-arrow:hover:before {\n",
              "  color: var(--sklearn-color-text);\n",
              "}\n",
              "\n",
              "/* Toggleable content - dropdown */\n",
              "\n",
              "#sk-container-id-1 div.sk-toggleable__content {\n",
              "  max-height: 0;\n",
              "  max-width: 0;\n",
              "  overflow: hidden;\n",
              "  text-align: left;\n",
              "  /* unfitted */\n",
              "  background-color: var(--sklearn-color-unfitted-level-0);\n",
              "}\n",
              "\n",
              "#sk-container-id-1 div.sk-toggleable__content.fitted {\n",
              "  /* fitted */\n",
              "  background-color: var(--sklearn-color-fitted-level-0);\n",
              "}\n",
              "\n",
              "#sk-container-id-1 div.sk-toggleable__content pre {\n",
              "  margin: 0.2em;\n",
              "  border-radius: 0.25em;\n",
              "  color: var(--sklearn-color-text);\n",
              "  /* unfitted */\n",
              "  background-color: var(--sklearn-color-unfitted-level-0);\n",
              "}\n",
              "\n",
              "#sk-container-id-1 div.sk-toggleable__content.fitted pre {\n",
              "  /* unfitted */\n",
              "  background-color: var(--sklearn-color-fitted-level-0);\n",
              "}\n",
              "\n",
              "#sk-container-id-1 input.sk-toggleable__control:checked~div.sk-toggleable__content {\n",
              "  /* Expand drop-down */\n",
              "  max-height: 200px;\n",
              "  max-width: 100%;\n",
              "  overflow: auto;\n",
              "}\n",
              "\n",
              "#sk-container-id-1 input.sk-toggleable__control:checked~label.sk-toggleable__label-arrow:before {\n",
              "  content: \"▾\";\n",
              "}\n",
              "\n",
              "/* Pipeline/ColumnTransformer-specific style */\n",
              "\n",
              "#sk-container-id-1 div.sk-label input.sk-toggleable__control:checked~label.sk-toggleable__label {\n",
              "  color: var(--sklearn-color-text);\n",
              "  background-color: var(--sklearn-color-unfitted-level-2);\n",
              "}\n",
              "\n",
              "#sk-container-id-1 div.sk-label.fitted input.sk-toggleable__control:checked~label.sk-toggleable__label {\n",
              "  background-color: var(--sklearn-color-fitted-level-2);\n",
              "}\n",
              "\n",
              "/* Estimator-specific style */\n",
              "\n",
              "/* Colorize estimator box */\n",
              "#sk-container-id-1 div.sk-estimator input.sk-toggleable__control:checked~label.sk-toggleable__label {\n",
              "  /* unfitted */\n",
              "  background-color: var(--sklearn-color-unfitted-level-2);\n",
              "}\n",
              "\n",
              "#sk-container-id-1 div.sk-estimator.fitted input.sk-toggleable__control:checked~label.sk-toggleable__label {\n",
              "  /* fitted */\n",
              "  background-color: var(--sklearn-color-fitted-level-2);\n",
              "}\n",
              "\n",
              "#sk-container-id-1 div.sk-label label.sk-toggleable__label,\n",
              "#sk-container-id-1 div.sk-label label {\n",
              "  /* The background is the default theme color */\n",
              "  color: var(--sklearn-color-text-on-default-background);\n",
              "}\n",
              "\n",
              "/* On hover, darken the color of the background */\n",
              "#sk-container-id-1 div.sk-label:hover label.sk-toggleable__label {\n",
              "  color: var(--sklearn-color-text);\n",
              "  background-color: var(--sklearn-color-unfitted-level-2);\n",
              "}\n",
              "\n",
              "/* Label box, darken color on hover, fitted */\n",
              "#sk-container-id-1 div.sk-label.fitted:hover label.sk-toggleable__label.fitted {\n",
              "  color: var(--sklearn-color-text);\n",
              "  background-color: var(--sklearn-color-fitted-level-2);\n",
              "}\n",
              "\n",
              "/* Estimator label */\n",
              "\n",
              "#sk-container-id-1 div.sk-label label {\n",
              "  font-family: monospace;\n",
              "  font-weight: bold;\n",
              "  display: inline-block;\n",
              "  line-height: 1.2em;\n",
              "}\n",
              "\n",
              "#sk-container-id-1 div.sk-label-container {\n",
              "  text-align: center;\n",
              "}\n",
              "\n",
              "/* Estimator-specific */\n",
              "#sk-container-id-1 div.sk-estimator {\n",
              "  font-family: monospace;\n",
              "  border: 1px dotted var(--sklearn-color-border-box);\n",
              "  border-radius: 0.25em;\n",
              "  box-sizing: border-box;\n",
              "  margin-bottom: 0.5em;\n",
              "  /* unfitted */\n",
              "  background-color: var(--sklearn-color-unfitted-level-0);\n",
              "}\n",
              "\n",
              "#sk-container-id-1 div.sk-estimator.fitted {\n",
              "  /* fitted */\n",
              "  background-color: var(--sklearn-color-fitted-level-0);\n",
              "}\n",
              "\n",
              "/* on hover */\n",
              "#sk-container-id-1 div.sk-estimator:hover {\n",
              "  /* unfitted */\n",
              "  background-color: var(--sklearn-color-unfitted-level-2);\n",
              "}\n",
              "\n",
              "#sk-container-id-1 div.sk-estimator.fitted:hover {\n",
              "  /* fitted */\n",
              "  background-color: var(--sklearn-color-fitted-level-2);\n",
              "}\n",
              "\n",
              "/* Specification for estimator info (e.g. \"i\" and \"?\") */\n",
              "\n",
              "/* Common style for \"i\" and \"?\" */\n",
              "\n",
              ".sk-estimator-doc-link,\n",
              "a:link.sk-estimator-doc-link,\n",
              "a:visited.sk-estimator-doc-link {\n",
              "  float: right;\n",
              "  font-size: smaller;\n",
              "  line-height: 1em;\n",
              "  font-family: monospace;\n",
              "  background-color: var(--sklearn-color-background);\n",
              "  border-radius: 1em;\n",
              "  height: 1em;\n",
              "  width: 1em;\n",
              "  text-decoration: none !important;\n",
              "  margin-left: 0.5em;\n",
              "  text-align: center;\n",
              "  /* unfitted */\n",
              "  border: var(--sklearn-color-unfitted-level-1) 1pt solid;\n",
              "  color: var(--sklearn-color-unfitted-level-1);\n",
              "}\n",
              "\n",
              ".sk-estimator-doc-link.fitted,\n",
              "a:link.sk-estimator-doc-link.fitted,\n",
              "a:visited.sk-estimator-doc-link.fitted {\n",
              "  /* fitted */\n",
              "  border: var(--sklearn-color-fitted-level-1) 1pt solid;\n",
              "  color: var(--sklearn-color-fitted-level-1);\n",
              "}\n",
              "\n",
              "/* On hover */\n",
              "div.sk-estimator:hover .sk-estimator-doc-link:hover,\n",
              ".sk-estimator-doc-link:hover,\n",
              "div.sk-label-container:hover .sk-estimator-doc-link:hover,\n",
              ".sk-estimator-doc-link:hover {\n",
              "  /* unfitted */\n",
              "  background-color: var(--sklearn-color-unfitted-level-3);\n",
              "  color: var(--sklearn-color-background);\n",
              "  text-decoration: none;\n",
              "}\n",
              "\n",
              "div.sk-estimator.fitted:hover .sk-estimator-doc-link.fitted:hover,\n",
              ".sk-estimator-doc-link.fitted:hover,\n",
              "div.sk-label-container:hover .sk-estimator-doc-link.fitted:hover,\n",
              ".sk-estimator-doc-link.fitted:hover {\n",
              "  /* fitted */\n",
              "  background-color: var(--sklearn-color-fitted-level-3);\n",
              "  color: var(--sklearn-color-background);\n",
              "  text-decoration: none;\n",
              "}\n",
              "\n",
              "/* Span, style for the box shown on hovering the info icon */\n",
              ".sk-estimator-doc-link span {\n",
              "  display: none;\n",
              "  z-index: 9999;\n",
              "  position: relative;\n",
              "  font-weight: normal;\n",
              "  right: .2ex;\n",
              "  padding: .5ex;\n",
              "  margin: .5ex;\n",
              "  width: min-content;\n",
              "  min-width: 20ex;\n",
              "  max-width: 50ex;\n",
              "  color: var(--sklearn-color-text);\n",
              "  box-shadow: 2pt 2pt 4pt #999;\n",
              "  /* unfitted */\n",
              "  background: var(--sklearn-color-unfitted-level-0);\n",
              "  border: .5pt solid var(--sklearn-color-unfitted-level-3);\n",
              "}\n",
              "\n",
              ".sk-estimator-doc-link.fitted span {\n",
              "  /* fitted */\n",
              "  background: var(--sklearn-color-fitted-level-0);\n",
              "  border: var(--sklearn-color-fitted-level-3);\n",
              "}\n",
              "\n",
              ".sk-estimator-doc-link:hover span {\n",
              "  display: block;\n",
              "}\n",
              "\n",
              "/* \"?\"-specific style due to the `<a>` HTML tag */\n",
              "\n",
              "#sk-container-id-1 a.estimator_doc_link {\n",
              "  float: right;\n",
              "  font-size: 1rem;\n",
              "  line-height: 1em;\n",
              "  font-family: monospace;\n",
              "  background-color: var(--sklearn-color-background);\n",
              "  border-radius: 1rem;\n",
              "  height: 1rem;\n",
              "  width: 1rem;\n",
              "  text-decoration: none;\n",
              "  /* unfitted */\n",
              "  color: var(--sklearn-color-unfitted-level-1);\n",
              "  border: var(--sklearn-color-unfitted-level-1) 1pt solid;\n",
              "}\n",
              "\n",
              "#sk-container-id-1 a.estimator_doc_link.fitted {\n",
              "  /* fitted */\n",
              "  border: var(--sklearn-color-fitted-level-1) 1pt solid;\n",
              "  color: var(--sklearn-color-fitted-level-1);\n",
              "}\n",
              "\n",
              "/* On hover */\n",
              "#sk-container-id-1 a.estimator_doc_link:hover {\n",
              "  /* unfitted */\n",
              "  background-color: var(--sklearn-color-unfitted-level-3);\n",
              "  color: var(--sklearn-color-background);\n",
              "  text-decoration: none;\n",
              "}\n",
              "\n",
              "#sk-container-id-1 a.estimator_doc_link.fitted:hover {\n",
              "  /* fitted */\n",
              "  background-color: var(--sklearn-color-fitted-level-3);\n",
              "}\n",
              "</style><div id=\"sk-container-id-1\" class=\"sk-top-container\"><div class=\"sk-text-repr-fallback\"><pre>RandomForestClassifier(class_weight={0: 1, 1: 3}, max_depth=15,\n",
              "                       min_samples_split=3, n_estimators=75, n_jobs=-1,\n",
              "                       oob_score=True, random_state=42)</pre><b>In a Jupyter environment, please rerun this cell to show the HTML representation or trust the notebook. <br />On GitHub, the HTML representation is unable to render, please try loading this page with nbviewer.org.</b></div><div class=\"sk-container\" hidden><div class=\"sk-item\"><div class=\"sk-estimator fitted sk-toggleable\"><input class=\"sk-toggleable__control sk-hidden--visually\" id=\"sk-estimator-id-1\" type=\"checkbox\" checked><label for=\"sk-estimator-id-1\" class=\"sk-toggleable__label fitted sk-toggleable__label-arrow\"><div><div>RandomForestClassifier</div></div><div><a class=\"sk-estimator-doc-link fitted\" rel=\"noreferrer\" target=\"_blank\" href=\"https://scikit-learn.org/1.6/modules/generated/sklearn.ensemble.RandomForestClassifier.html\">?<span>Documentation for RandomForestClassifier</span></a><span class=\"sk-estimator-doc-link fitted\">i<span>Fitted</span></span></div></label><div class=\"sk-toggleable__content fitted\"><pre>RandomForestClassifier(class_weight={0: 1, 1: 3}, max_depth=15,\n",
              "                       min_samples_split=3, n_estimators=75, n_jobs=-1,\n",
              "                       oob_score=True, random_state=42)</pre></div> </div></div></div></div>"
            ]
          },
          "metadata": {},
          "execution_count": 23
        }
      ]
    },
    {
      "cell_type": "code",
      "source": [
        "training_time = time.time() - start_time\n",
        "log_event(\"TIMING\", f\"Model training completed in {training_time:.2f} seconds\")"
      ],
      "metadata": {
        "colab": {
          "base_uri": "https://localhost:8080/"
        },
        "id": "YnlMNSDOzRyL",
        "outputId": "ae75e10d-d34a-4a09-db85-8f28c1ca9eba"
      },
      "execution_count": 24,
      "outputs": [
        {
          "output_type": "stream",
          "name": "stdout",
          "text": [
            "[2025-06-22T18:51:25.117728] TIMING: Model training completed in 29.20 seconds\n"
          ]
        }
      ]
    },
    {
      "cell_type": "markdown",
      "source": [
        "## 4. Model Evaluation"
      ],
      "metadata": {
        "id": "6vWY5hYBzU3h"
      }
    },
    {
      "cell_type": "code",
      "source": [
        "log_event(\"MODEL_EVALUATION\", \"Evaluating high-performance model\")\n",
        "start_time = time.time()"
      ],
      "metadata": {
        "colab": {
          "base_uri": "https://localhost:8080/"
        },
        "id": "d4c_hVKrzVuZ",
        "outputId": "ae511f38-94f8-4523-d55a-cfa76e6158f2"
      },
      "execution_count": 25,
      "outputs": [
        {
          "output_type": "stream",
          "name": "stdout",
          "text": [
            "[2025-06-22T18:51:27.278597] MODEL_EVALUATION: Evaluating high-performance model\n"
          ]
        }
      ]
    },
    {
      "cell_type": "markdown",
      "source": [
        "# Predictions"
      ],
      "metadata": {
        "id": "9x5Y62EezY4w"
      }
    },
    {
      "cell_type": "code",
      "source": [
        "y_pred = rf_model.predict(X_test_scaled)\n",
        "y_pred_proba = rf_model.predict_proba(X_test_scaled)[:, 1]"
      ],
      "metadata": {
        "id": "5FHU7HtrzXri"
      },
      "execution_count": 26,
      "outputs": []
    },
    {
      "cell_type": "markdown",
      "source": [
        "# Basic metrics"
      ],
      "metadata": {
        "id": "y2guvv2szedY"
      }
    },
    {
      "cell_type": "code",
      "source": [
        "accuracy = accuracy_score(y_test, y_pred)\n",
        "precision = precision_score(y_test, y_pred)\n",
        "recall = recall_score(y_test, y_pred)\n",
        "f1 = f1_score(y_test, y_pred)"
      ],
      "metadata": {
        "id": "PziePORJzba7"
      },
      "execution_count": 27,
      "outputs": []
    },
    {
      "cell_type": "markdown",
      "source": [
        "# ROC analysis"
      ],
      "metadata": {
        "id": "S_H9vOl7zgQ9"
      }
    },
    {
      "cell_type": "code",
      "source": [
        "fpr, tpr, _ = roc_curve(y_test, y_pred_proba)\n",
        "roc_auc = auc(fpr, tpr)"
      ],
      "metadata": {
        "id": "ee2-3TXazh9I"
      },
      "execution_count": 28,
      "outputs": []
    },
    {
      "cell_type": "code",
      "source": [
        "print(\"\\n=== High-Performance Model Results ===\")\n",
        "print(f\"Accuracy: {accuracy:.4f}\")\n",
        "print(f\"Precision: {precision:.4f}\")\n",
        "print(f\"Recall (Critical): {recall:.4f}\")\n",
        "print(f\"F1 Score: {f1:.4f}\")\n",
        "print(f\"AUC: {roc_auc:.4f}\")\n",
        "print(f\"OOB Score: {rf_model.oob_score_:.4f}\")"
      ],
      "metadata": {
        "colab": {
          "base_uri": "https://localhost:8080/"
        },
        "id": "LmOqMhB8zjag",
        "outputId": "113cc42f-d34e-4934-a7a5-2051690f2a92"
      },
      "execution_count": 29,
      "outputs": [
        {
          "output_type": "stream",
          "name": "stdout",
          "text": [
            "\n",
            "=== High-Performance Model Results ===\n",
            "Accuracy: 0.9912\n",
            "Precision: 0.9975\n",
            "Recall (Critical): 0.9850\n",
            "F1 Score: 0.9912\n",
            "AUC: 0.9998\n",
            "OOB Score: 0.9850\n"
          ]
        }
      ]
    },
    {
      "cell_type": "markdown",
      "source": [
        "# Detailed analysis"
      ],
      "metadata": {
        "id": "V6FzNULIzl_6"
      }
    },
    {
      "cell_type": "code",
      "source": [
        "cm = confusion_matrix(y_test, y_pred)\n",
        "tn, fp, fn, tp = cm.ravel()"
      ],
      "metadata": {
        "id": "KmtDb7NqzmwP"
      },
      "execution_count": 30,
      "outputs": []
    },
    {
      "cell_type": "code",
      "source": [
        "print(f\"\\n=== Confusion Matrix Analysis ===\")\n",
        "print(f\"True Negatives: {tn} (Correctly identified legitimate)\")\n",
        "print(f\"False Positives: {fp} (Legitimate flagged as phishing - acceptable)\")\n",
        "print(f\"False Negatives: {fn} (Phishing missed - CRITICAL)\")\n",
        "print(f\"True Positives: {tp} (Correctly identified phishing)\")"
      ],
      "metadata": {
        "colab": {
          "base_uri": "https://localhost:8080/"
        },
        "id": "KoneFo9Nzp16",
        "outputId": "05fc5c14-f64b-4e08-ce99-87ad8a70b6e6"
      },
      "execution_count": 31,
      "outputs": [
        {
          "output_type": "stream",
          "name": "stdout",
          "text": [
            "\n",
            "=== Confusion Matrix Analysis ===\n",
            "True Negatives: 399 (Correctly identified legitimate)\n",
            "False Positives: 1 (Legitimate flagged as phishing - acceptable)\n",
            "False Negatives: 6 (Phishing missed - CRITICAL)\n",
            "True Positives: 394 (Correctly identified phishing)\n"
          ]
        }
      ]
    },
    {
      "cell_type": "code",
      "source": [
        "false_negative_rate = fn / (fn + tp) if (fn + tp) > 0 else 0\n",
        "print(f\"False Negative Rate: {false_negative_rate:.4f} (Target: <0.05)\")"
      ],
      "metadata": {
        "colab": {
          "base_uri": "https://localhost:8080/"
        },
        "id": "UvIUeL1Tzrtw",
        "outputId": "6709d615-a245-4c8b-d8ba-d77bcac23ca8"
      },
      "execution_count": 32,
      "outputs": [
        {
          "output_type": "stream",
          "name": "stdout",
          "text": [
            "False Negative Rate: 0.0150 (Target: <0.05)\n"
          ]
        }
      ]
    },
    {
      "cell_type": "code",
      "source": [
        "log_event(\"MODEL_PERFORMANCE\", \"Model evaluation completed\", {\n",
        "    \"accuracy\": float(accuracy),\n",
        "    \"precision\": float(precision),\n",
        "    \"recall\": float(recall),\n",
        "    \"f1_score\": float(f1),\n",
        "    \"auc\": float(roc_auc),\n",
        "    \"false_negative_rate\": float(false_negative_rate),\n",
        "    \"false_negatives\": int(fn),\n",
        "    \"true_positives\": int(tp)\n",
        "})"
      ],
      "metadata": {
        "colab": {
          "base_uri": "https://localhost:8080/"
        },
        "id": "V6igCO24zt8K",
        "outputId": "cfac15df-92a5-430c-a5da-96fa17f02d1e"
      },
      "execution_count": 33,
      "outputs": [
        {
          "output_type": "stream",
          "name": "stdout",
          "text": [
            "[2025-06-22T18:52:24.717825] MODEL_PERFORMANCE: Model evaluation completed\n"
          ]
        }
      ]
    },
    {
      "cell_type": "code",
      "source": [
        "evaluation_time = time.time() - start_time\n",
        "log_event(\"TIMING\", f\"Model evaluation completed in {evaluation_time:.2f} seconds\")"
      ],
      "metadata": {
        "colab": {
          "base_uri": "https://localhost:8080/"
        },
        "id": "PA-b4Fqqzvwd",
        "outputId": "472e6ae5-a8dd-4963-8ac9-648743120e9e"
      },
      "execution_count": 34,
      "outputs": [
        {
          "output_type": "stream",
          "name": "stdout",
          "text": [
            "[2025-06-22T18:52:26.888299] TIMING: Model evaluation completed in 59.61 seconds\n"
          ]
        }
      ]
    },
    {
      "cell_type": "markdown",
      "source": [
        "## 5. Real-World Testing"
      ],
      "metadata": {
        "id": "pFjeqY6fzxaF"
      }
    },
    {
      "cell_type": "code",
      "source": [
        "def test_url_advanced(url, model, scaler):\n",
        "    \"\"\"Test URL with advanced feature extraction\"\"\"\n",
        "    try:\n",
        "        # Create temporary dataframe\n",
        "        temp_df = pd.DataFrame({'URL': [url], 'class': [0]})\n",
        "        features_df = extract_high_performance_features(temp_df).drop('is_phishing', axis=1)\n",
        "\n",
        "        # Scale and predict\n",
        "        features_scaled = scaler.transform(features_df)\n",
        "        prediction = model.predict(features_scaled)[0]\n",
        "        probability = model.predict_proba(features_scaled)[0, 1]\n",
        "\n",
        "        return prediction, probability, features_df.iloc[0].to_dict()\n",
        "    except Exception as e:\n",
        "        print(f\"Error processing {url}: {str(e)}\")\n",
        "        return 0, 0.5, {}"
      ],
      "metadata": {
        "id": "qcpka6T0zyBU"
      },
      "execution_count": 35,
      "outputs": []
    },
    {
      "cell_type": "code",
      "source": [
        "log_event(\"REAL_WORLD_TESTING\", \"Starting comprehensive real-world testing\")\n",
        "start_time = time.time()"
      ],
      "metadata": {
        "colab": {
          "base_uri": "https://localhost:8080/"
        },
        "id": "0_Sa9Ughz1Hb",
        "outputId": "3a965697-cbb8-4587-ecdf-398d07c58cbb"
      },
      "execution_count": 36,
      "outputs": [
        {
          "output_type": "stream",
          "name": "stdout",
          "text": [
            "[2025-06-22T18:52:31.832681] REAL_WORLD_TESTING: Starting comprehensive real-world testing\n"
          ]
        }
      ]
    },
    {
      "cell_type": "markdown",
      "source": [
        "# Challenging legitimate sites (must not be flagged)"
      ],
      "metadata": {
        "id": "L7CndeSzz2aj"
      }
    },
    {
      "cell_type": "code",
      "source": [
        "challenging_legitimate_urls = [\n",
        "    \"https://www.paypal.com/signin\",\n",
        "    \"https://accounts.google.com/signin\",\n",
        "    \"https://login.microsoftonline.com\",\n",
        "    \"https://secure.bankofamerica.com/login\",\n",
        "    \"https://www.chase.com/personal/checking\",\n",
        "    \"https://github.com/microsoft/vscode\",\n",
        "    \"https://stackoverflow.com/questions/tagged/python\",\n",
        "    \"https://docs.google.com/document/d/abc123\",\n",
        "    \"https://mail.google.com/mail/u/0\",\n",
        "    \"https://portal.azure.com\",\n",
        "    \"https://aws.amazon.com/console\"\n",
        "]"
      ],
      "metadata": {
        "id": "VRmHqJQrz4Da"
      },
      "execution_count": 37,
      "outputs": []
    },
    {
      "cell_type": "markdown",
      "source": [
        "# Real phishing patterns (must be detected)"
      ],
      "metadata": {
        "id": "q8pa_IbXz5Lw"
      }
    },
    {
      "cell_type": "code",
      "source": [
        "challenging_phishing_urls = [\n",
        "    # Brand impersonation\n",
        "    \"https://paypal-verification.secure-login.net/signin\",\n",
        "    \"https://google-accounts.verify-security.com/login\",\n",
        "    \"https://microsoft-login.security-update.org/signin\",\n",
        "    \"https://bankofamerica-secure.customer-verify.net/login\",\n",
        "    \"https://chase-bank.account-security.com/personal/checking\",\n",
        "\n",
        "    # IP-based attacks\n",
        "    \"http://192.168.1.100/paypal-login\",\n",
        "    \"https://203.45.67.89/secure-banking\",\n",
        "\n",
        "    # URL shorteners (suspicious)\n",
        "    \"https://bit.ly/suspicious-bank-link\",\n",
        "    \"https://tinyurl.com/fake-paypal\",\n",
        "\n",
        "    # Modern phishing from PhishTank\n",
        "    \"https://lovely-choice-666517.framer.app\",\n",
        "    \"https://illinois-aap.org/\",\n",
        "    \"https://luresta.top/\",\n",
        "    \"http://bilds.space\",\n",
        "    \"https://faceit.eternalgamlng.com/\",\n",
        "\n",
        "    # Additional suspicious patterns\n",
        "    \"https://secure-amazon-update.net/account/verify\",\n",
        "    \"https://netflix-billing-update.com/payment\",\n",
        "    \"https://apple-id-locked.security-check.org/unlock\",\n",
        "    \"https://ups-delivery-update.notification-center.net/track\",\n",
        "    \"https://irs-tax-refund.gov-portal.org/claim\"\n",
        "]"
      ],
      "metadata": {
        "id": "cpnGSjuwz65S"
      },
      "execution_count": 38,
      "outputs": []
    },
    {
      "cell_type": "code",
      "source": [
        "print(\"\\n=== Real-World Performance Testing ===\")\n",
        "\n",
        "print(\"\\nTesting Legitimate URLs (Must NOT be flagged):\")\n",
        "legit_correct = 0\n",
        "legit_total = len(challenging_legitimate_urls)\n",
        "\n",
        "for i, url in enumerate(challenging_legitimate_urls, 1):\n",
        "    pred, prob, features = test_url_advanced(url, rf_model, scaler)\n",
        "    status = \"✅ CORRECT\" if pred == 0 else \"❌ FALSE POSITIVE\"\n",
        "    if pred == 0:\n",
        "        legit_correct += 1\n",
        "\n",
        "    print(f\"{i:2d}. {url[:60]:<60} | Prob: {prob:.3f} | {status}\")"
      ],
      "metadata": {
        "colab": {
          "base_uri": "https://localhost:8080/"
        },
        "id": "Rwb8Jijl0Cn3",
        "outputId": "cb8be3e6-de9b-48aa-ac78-1bfd00843043"
      },
      "execution_count": 39,
      "outputs": [
        {
          "output_type": "stream",
          "name": "stdout",
          "text": [
            "\n",
            "=== Real-World Performance Testing ===\n",
            "\n",
            "Testing Legitimate URLs (Must NOT be flagged):\n",
            " 1. https://www.paypal.com/signin                                | Prob: 0.000 | ✅ CORRECT\n",
            " 2. https://accounts.google.com/signin                           | Prob: 0.248 | ✅ CORRECT\n",
            " 3. https://login.microsoftonline.com                            | Prob: 0.573 | ❌ FALSE POSITIVE\n",
            " 4. https://secure.bankofamerica.com/login                       | Prob: 0.378 | ✅ CORRECT\n",
            " 5. https://www.chase.com/personal/checking                      | Prob: 0.000 | ✅ CORRECT\n",
            " 6. https://github.com/microsoft/vscode                          | Prob: 0.075 | ✅ CORRECT\n",
            " 7. https://stackoverflow.com/questions/tagged/python            | Prob: 0.035 | ✅ CORRECT\n",
            " 8. https://docs.google.com/document/d/abc123                    | Prob: 0.001 | ✅ CORRECT\n",
            " 9. https://mail.google.com/mail/u/0                             | Prob: 0.013 | ✅ CORRECT\n",
            "10. https://portal.azure.com                                     | Prob: 0.578 | ❌ FALSE POSITIVE\n",
            "11. https://aws.amazon.com/console                               | Prob: 0.060 | ✅ CORRECT\n"
          ]
        }
      ]
    },
    {
      "cell_type": "code",
      "source": [
        "print(f\"\\nTesting Phishing URLs (Must BE flagged):\")\n",
        "phish_correct = 0\n",
        "phish_total = len(challenging_phishing_urls)\n",
        "\n",
        "for i, url in enumerate(challenging_phishing_urls, 1):\n",
        "    pred, prob, features = test_url_advanced(url, rf_model, scaler)\n",
        "    status = \"✅ CORRECT\" if pred == 1 else \"❌ FALSE NEGATIVE (CRITICAL)\"\n",
        "    if pred == 1:\n",
        "        phish_correct += 1\n",
        "\n",
        "    print(f\"{i:2d}. {url[:60]:<60} | Prob: {prob:.3f} | {status}\")"
      ],
      "metadata": {
        "colab": {
          "base_uri": "https://localhost:8080/"
        },
        "id": "3ePxFaa-0HIW",
        "outputId": "d55cdb80-be98-46f3-d87c-b620dfc2c2a5"
      },
      "execution_count": 40,
      "outputs": [
        {
          "output_type": "stream",
          "name": "stdout",
          "text": [
            "\n",
            "Testing Phishing URLs (Must BE flagged):\n",
            " 1. https://paypal-verification.secure-login.net/signin          | Prob: 0.818 | ✅ CORRECT\n",
            " 2. https://google-accounts.verify-security.com/login            | Prob: 0.801 | ✅ CORRECT\n",
            " 3. https://microsoft-login.security-update.org/signin           | Prob: 0.778 | ✅ CORRECT\n",
            " 4. https://bankofamerica-secure.customer-verify.net/login       | Prob: 0.823 | ✅ CORRECT\n",
            " 5. https://chase-bank.account-security.com/personal/checking    | Prob: 0.678 | ✅ CORRECT\n",
            " 6. http://192.168.1.100/paypal-login                            | Prob: 0.851 | ✅ CORRECT\n",
            " 7. https://203.45.67.89/secure-banking                          | Prob: 0.575 | ✅ CORRECT\n",
            " 8. https://bit.ly/suspicious-bank-link                          | Prob: 0.090 | ❌ FALSE NEGATIVE (CRITICAL)\n",
            " 9. https://tinyurl.com/fake-paypal                              | Prob: 0.315 | ❌ FALSE NEGATIVE (CRITICAL)\n",
            "10. https://lovely-choice-666517.framer.app                      | Prob: 0.978 | ✅ CORRECT\n",
            "11. https://illinois-aap.org/                                    | Prob: 0.472 | ❌ FALSE NEGATIVE (CRITICAL)\n",
            "12. https://luresta.top/                                         | Prob: 0.784 | ✅ CORRECT\n",
            "13. http://bilds.space                                           | Prob: 0.947 | ✅ CORRECT\n",
            "14. https://faceit.eternalgamlng.com/                            | Prob: 0.775 | ✅ CORRECT\n",
            "15. https://secure-amazon-update.net/account/verify              | Prob: 0.708 | ✅ CORRECT\n",
            "16. https://netflix-billing-update.com/payment                   | Prob: 0.898 | ✅ CORRECT\n",
            "17. https://apple-id-locked.security-check.org/unlock            | Prob: 0.791 | ✅ CORRECT\n",
            "18. https://ups-delivery-update.notification-center.net/track    | Prob: 0.868 | ✅ CORRECT\n",
            "19. https://irs-tax-refund.gov-portal.org/claim                  | Prob: 0.833 | ✅ CORRECT\n"
          ]
        }
      ]
    },
    {
      "cell_type": "markdown",
      "source": [
        "# Calculate real-world performance"
      ],
      "metadata": {
        "id": "vKxkdtQl0In0"
      }
    },
    {
      "cell_type": "code",
      "source": [
        "legit_accuracy = legit_correct / legit_total\n",
        "phish_accuracy = phish_correct / phish_total  # This is the recall on real phishing\n",
        "overall_accuracy = (legit_correct + phish_correct) / (legit_total + phish_total)"
      ],
      "metadata": {
        "id": "itRA1ZDv0KaG"
      },
      "execution_count": 41,
      "outputs": []
    },
    {
      "cell_type": "code",
      "source": [
        "print(f\"\\n=== REAL-WORLD PERFORMANCE SUMMARY ===\")\n",
        "print(f\"Legitimate Detection: {legit_accuracy:.1%} ({legit_correct}/{legit_total})\")\n",
        "print(f\"Phishing Detection: {phish_accuracy:.1%} ({phish_correct}/{phish_total}) [CRITICAL]\")\n",
        "print(f\"Overall Accuracy: {overall_accuracy:.1%}\")"
      ],
      "metadata": {
        "colab": {
          "base_uri": "https://localhost:8080/"
        },
        "id": "FqT9NsoR0Nv9",
        "outputId": "02658746-0f39-4a9a-be35-c9780ce7e254"
      },
      "execution_count": 42,
      "outputs": [
        {
          "output_type": "stream",
          "name": "stdout",
          "text": [
            "\n",
            "=== REAL-WORLD PERFORMANCE SUMMARY ===\n",
            "Legitimate Detection: 81.8% (9/11)\n",
            "Phishing Detection: 84.2% (16/19) [CRITICAL]\n",
            "Overall Accuracy: 83.3%\n"
          ]
        }
      ]
    },
    {
      "cell_type": "markdown",
      "source": [
        "# Performance targets"
      ],
      "metadata": {
        "id": "rKhKxhHw0PUq"
      }
    },
    {
      "cell_type": "code",
      "source": [
        "target_phishing_detection = 0.95  # 95% minimum\n",
        "target_overall = 0.90  # 90% minimum"
      ],
      "metadata": {
        "id": "KLpTuadq0QQj"
      },
      "execution_count": 43,
      "outputs": []
    },
    {
      "cell_type": "code",
      "source": [
        "meets_targets = phish_accuracy >= target_phishing_detection and overall_accuracy >= target_overall\n",
        "print(f\"\\nPerformance Target Met: {'✅ YES' if meets_targets else '❌ NO'}\")\n",
        "print(f\"Target: Phishing ≥{target_phishing_detection:.0%}, Overall ≥{target_overall:.0%}\")"
      ],
      "metadata": {
        "colab": {
          "base_uri": "https://localhost:8080/"
        },
        "id": "tNSmehKE0Tl8",
        "outputId": "828cb731-6413-4244-94f9-95fe51091680"
      },
      "execution_count": 44,
      "outputs": [
        {
          "output_type": "stream",
          "name": "stdout",
          "text": [
            "\n",
            "Performance Target Met: ❌ NO\n",
            "Target: Phishing ≥95%, Overall ≥90%\n"
          ]
        }
      ]
    },
    {
      "cell_type": "code",
      "source": [
        "log_event(\"REAL_WORLD_RESULTS\", f\"Real-world testing completed\", {\n",
        "    \"legitimate_accuracy\": float(legit_accuracy),\n",
        "    \"phishing_detection_rate\": float(phish_accuracy),\n",
        "    \"overall_accuracy\": float(overall_accuracy),\n",
        "    \"meets_performance_targets\": meets_targets,\n",
        "    \"false_negatives_realworld\": phish_total - phish_correct,\n",
        "    \"false_positives_realworld\": legit_total - legit_correct\n",
        "})"
      ],
      "metadata": {
        "colab": {
          "base_uri": "https://localhost:8080/"
        },
        "id": "iVwGJ_2P0V7b",
        "outputId": "c71e6538-632f-4940-acc2-b7b4b008bf8c"
      },
      "execution_count": 45,
      "outputs": [
        {
          "output_type": "stream",
          "name": "stdout",
          "text": [
            "[2025-06-22T18:54:28.143168] REAL_WORLD_RESULTS: Real-world testing completed\n"
          ]
        }
      ]
    },
    {
      "cell_type": "code",
      "source": [
        "testing_time = time.time() - start_time\n",
        "log_event(\"TIMING\", f\"Real-world testing completed in {testing_time:.2f} seconds\")"
      ],
      "metadata": {
        "colab": {
          "base_uri": "https://localhost:8080/"
        },
        "id": "tUk4aIqP0Xgm",
        "outputId": "02ea6eb5-583e-4ab9-e7f2-7c22d710f129"
      },
      "execution_count": 46,
      "outputs": [
        {
          "output_type": "stream",
          "name": "stdout",
          "text": [
            "[2025-06-22T18:54:30.195932] TIMING: Real-world testing completed in 118.36 seconds\n"
          ]
        }
      ]
    },
    {
      "cell_type": "markdown",
      "source": [
        "## 6. Feature Importance Analysis"
      ],
      "metadata": {
        "id": "ojtiVLsV0Z0E"
      }
    },
    {
      "cell_type": "code",
      "source": [
        "print(\"\\n=== Feature Importance Analysis ===\")\n",
        "\n",
        "feature_importance = pd.DataFrame({\n",
        "    'feature': X.columns,\n",
        "    'importance': rf_model.feature_importances_\n",
        "}).sort_values('importance', ascending=False)\n",
        "\n",
        "print(\"Top 15 Most Important Features:\")\n",
        "for i, row in feature_importance.head(15).iterrows():\n",
        "    print(f\"{row['feature']:25} | {row['importance']:.4f}\")"
      ],
      "metadata": {
        "colab": {
          "base_uri": "https://localhost:8080/"
        },
        "id": "LMAfFx_i0aTt",
        "outputId": "db4e154d-1dec-44f2-a19d-0b75a2e74a58"
      },
      "execution_count": 47,
      "outputs": [
        {
          "output_type": "stream",
          "name": "stdout",
          "text": [
            "\n",
            "=== Feature Importance Analysis ===\n",
            "Top 15 Most Important Features:\n",
            "has_https                 | 0.2255\n",
            "has_hyphen                | 0.1778\n",
            "has_www                   | 0.1595\n",
            "domain_length             | 0.0917\n",
            "subdomain_count           | 0.0817\n",
            "dot_count                 | 0.0628\n",
            "path_length               | 0.0508\n",
            "url_length                | 0.0264\n",
            "keyword_count             | 0.0253\n",
            "special_char_ratio        | 0.0225\n",
            "url_entropy               | 0.0184\n",
            "slash_count               | 0.0128\n",
            "special_char_count        | 0.0120\n",
            "suspicious_tld            | 0.0085\n",
            "digit_ratio               | 0.0065\n"
          ]
        }
      ]
    },
    {
      "cell_type": "markdown",
      "source": [
        "# Plot feature importance"
      ],
      "metadata": {
        "id": "MwoFwWKr0vlw"
      }
    },
    {
      "cell_type": "code",
      "source": [
        "plt.figure(figsize=(12, 8))\n",
        "top_features = feature_importance.head(15)\n",
        "sns.barplot(data=top_features, x='importance', y='feature')\n",
        "plt.title('Top 15 Feature Importances - High-Performance Model')\n",
        "plt.xlabel('Importance Score')\n",
        "plt.tight_layout()\n",
        "plt.show()"
      ],
      "metadata": {
        "colab": {
          "base_uri": "https://localhost:8080/",
          "height": 807
        },
        "id": "C2XXLUn30wGH",
        "outputId": "834025d4-1216-44d1-e086-10f6fcb42ae3"
      },
      "execution_count": 48,
      "outputs": [
        {
          "output_type": "display_data",
          "data": {
            "text/plain": [
              "<Figure size 1200x800 with 1 Axes>"
            ],
            "image/png": "[encoded data removed]"
          },
          "metadata": {}
        }
      ]
    },
    {
      "cell_type": "markdown",
      "source": [
        "# Plot performance curves"
      ],
      "metadata": {
        "id": "2OO3rB0g0x7l"
      }
    },
    {
      "cell_type": "code",
      "source": [
        "plt.figure(figsize=(12, 5))"
      ],
      "metadata": {
        "colab": {
          "base_uri": "https://localhost:8080/",
          "height": 52
        },
        "id": "99A1Z55800fh",
        "outputId": "d68bf508-cdf2-4c21-9f85-e30e31e66728"
      },
      "execution_count": 49,
      "outputs": [
        {
          "output_type": "execute_result",
          "data": {
            "text/plain": [
              "<Figure size 1200x500 with 0 Axes>"
            ]
          },
          "metadata": {},
          "execution_count": 49
        },
        {
          "output_type": "display_data",
          "data": {
            "text/plain": [
              "<Figure size 1200x500 with 0 Axes>"
            ]
          },
          "metadata": {}
        }
      ]
    },
    {
      "cell_type": "markdown",
      "source": [
        "# ROC Curve"
      ],
      "metadata": {
        "id": "nDaB0-Y202VK"
      }
    },
    {
      "cell_type": "code",
      "source": [
        "plt.subplot(1, 2, 1)\n",
        "plt.plot(fpr, tpr, color='blue', lw=2, label=f'ROC Curve (AUC = {roc_auc:.3f})')\n",
        "plt.plot([0, 1], [0, 1], color='gray', lw=2, linestyle='--')\n",
        "plt.xlim([0.0, 1.0])\n",
        "plt.ylim([0.0, 1.05])\n",
        "plt.xlabel('False Positive Rate')\n",
        "plt.ylabel('True Positive Rate')\n",
        "plt.title('ROC Curve')\n",
        "plt.legend()"
      ],
      "metadata": {
        "colab": {
          "base_uri": "https://localhost:8080/",
          "height": 489
        },
        "id": "7WZ5u00w07U1",
        "outputId": "ec5d7116-318b-47d0-df8e-21ab9831ddca"
      },
      "execution_count": 50,
      "outputs": [
        {
          "output_type": "execute_result",
          "data": {
            "text/plain": [
              "<matplotlib.legend.Legend at 0x7ee3e9f1a210>"
            ]
          },
          "metadata": {},
          "execution_count": 50
        },
        {
          "output_type": "display_data",
          "data": {
            "text/plain": [
              "<Figure size 640x480 with 1 Axes>"
            ],
            "image/png": "[encoded data removed]"
          },
          "metadata": {}
        }
      ]
    },
    {
      "cell_type": "markdown",
      "source": [
        "# Confusion Matrix"
      ],
      "metadata": {
        "id": "WBCHYMbN1AXI"
      }
    },
    {
      "cell_type": "code",
      "source": [
        "plt.subplot(1, 2, 2)\n",
        "sns.heatmap(cm, annot=True, fmt='d', cmap='Blues')\n",
        "plt.title('Confusion Matrix')\n",
        "plt.ylabel('True Label')\n",
        "plt.xlabel('Predicted Label')\n",
        "\n",
        "plt.tight_layout()\n",
        "plt.show()"
      ],
      "metadata": {
        "colab": {
          "base_uri": "https://localhost:8080/",
          "height": 487
        },
        "id": "j3x73ZpP1ABo",
        "outputId": "e57e1d79-21ae-477e-b4c0-33b5146784d6"
      },
      "execution_count": 51,
      "outputs": [
        {
          "output_type": "display_data",
          "data": {
            "text/plain": [
              "<Figure size 640x480 with 2 Axes>"
            ],
            "image/png": "[encoded data removed]"
          },
          "metadata": {}
        }
      ]
    },
    {
      "cell_type": "markdown",
      "source": [
        "## 7. Model Saving and Metadata"
      ],
      "metadata": {
        "id": "Pr7YMY841D90"
      }
    },
    {
      "cell_type": "code",
      "source": [
        "log_event(\"MODEL_SAVING\", \"Saving high-performance model and metadata\")\n",
        "start_time = time.time()"
      ],
      "metadata": {
        "colab": {
          "base_uri": "https://localhost:8080/"
        },
        "id": "O7vgd-fh1F_u",
        "outputId": "720c381c-57b7-4e65-ae98-32beec93d401"
      },
      "execution_count": 52,
      "outputs": [
        {
          "output_type": "stream",
          "name": "stdout",
          "text": [
            "[2025-06-22T18:55:23.441684] MODEL_SAVING: Saving high-performance model and metadata\n"
          ]
        }
      ]
    },
    {
      "cell_type": "markdown",
      "source": [
        "# Save model and scaler"
      ],
      "metadata": {
        "id": "EBHDO0x61H-j"
      }
    },
    {
      "cell_type": "code",
      "source": [
        "joblib.dump(rf_model, MODEL_OUTPUT_PATH)\n",
        "joblib.dump(scaler, SCALER_OUTPUT_PATH)"
      ],
      "metadata": {
        "colab": {
          "base_uri": "https://localhost:8080/"
        },
        "id": "0eIz6dEZ1J8E",
        "outputId": "e165e513-a2dc-44dd-8150-b27b16b33bd3"
      },
      "execution_count": 53,
      "outputs": [
        {
          "output_type": "execute_result",
          "data": {
            "text/plain": [
              "['/content/drive/MyDrive/PUSL3190/models/browser_extension/high_performance_scaler.pkl']"
            ]
          },
          "metadata": {},
          "execution_count": 53
        }
      ]
    },
    {
      "cell_type": "markdown",
      "source": [
        "# Comprehensive metadata"
      ],
      "metadata": {
        "id": "ZuW9o0TT1MYW"
      }
    },
    {
      "cell_type": "code",
      "source": [
        "model_metadata = {\n",
        "    \"model_info\": {\n",
        "        \"name\": \"high_performance_phishing_detector\",\n",
        "        \"version\": \"3.0\",\n",
        "        \"type\": \"random_forest_optimized\",\n",
        "        \"trained_at\": datetime.now().isoformat(),\n",
        "        \"optimization_focus\": \"high_recall_low_false_negatives\"\n",
        "    },\n",
        "\n",
        "    \"performance_metrics\": {\n",
        "        \"test_set\": {\n",
        "            \"accuracy\": float(accuracy),\n",
        "            \"precision\": float(precision),\n",
        "            \"recall\": float(recall),\n",
        "            \"f1_score\": float(f1),\n",
        "            \"auc\": float(roc_auc),\n",
        "            \"false_negative_rate\": float(false_negative_rate)\n",
        "        },\n",
        "        \"real_world\": {\n",
        "            \"legitimate_accuracy\": float(legit_accuracy),\n",
        "            \"phishing_detection_rate\": float(phish_accuracy),\n",
        "            \"overall_accuracy\": float(overall_accuracy),\n",
        "            \"meets_targets\": meets_targets\n",
        "        }\n",
        "    },\n",
        "\n",
        "    \"model_configuration\": {\n",
        "        \"n_estimators\": rf_model.n_estimators,\n",
        "        \"max_depth\": rf_model.max_depth,\n",
        "        \"min_samples_split\": rf_model.min_samples_split,\n",
        "        \"min_samples_leaf\": rf_model.min_samples_leaf,\n",
        "        \"class_weight\": \"imbalanced_focused\",\n",
        "        \"oob_score\": float(rf_model.oob_score_)\n",
        "    },\n",
        "\n",
        "    \"features\": {\n",
        "        \"feature_list\": list(X.columns),\n",
        "        \"feature_count\": len(X.columns),\n",
        "        \"top_features\": feature_importance.head(10).to_dict('records'),\n",
        "        \"feature_engineering\": \"advanced_real_world_focused\"\n",
        "    },\n",
        "\n",
        "    \"dataset_info\": {\n",
        "        \"total_samples\": len(df),\n",
        "        \"legitimate_samples\": int(sum(df['class'] == 0)),\n",
        "        \"phishing_samples\": int(sum(df['class'] == 1)),\n",
        "        \"train_test_split\": \"80_20_stratified\"\n",
        "    },\n",
        "\n",
        "    \"research_notes\": {\n",
        "        \"optimization_target\": \"minimize_false_negatives\",\n",
        "        \"browser_extension_compatible\": True,\n",
        "        \"expected_inference_time\": \"<500ms\",\n",
        "        \"deployment_ready\": meets_targets\n",
        "    }\n",
        "}"
      ],
      "metadata": {
        "id": "osuFXpYI1Nml"
      },
      "execution_count": 54,
      "outputs": []
    },
    {
      "cell_type": "code",
      "source": [
        "with open(METADATA_OUTPUT_PATH, 'w') as f:\n",
        "    json.dump(model_metadata, f, indent=2)"
      ],
      "metadata": {
        "id": "mMm9cbX11Sde"
      },
      "execution_count": 55,
      "outputs": []
    },
    {
      "cell_type": "code",
      "source": [
        "saving_time = time.time() - start_time\n",
        "log_event(\"TIMING\", f\"Model saving completed in {saving_time:.2f} seconds\")"
      ],
      "metadata": {
        "colab": {
          "base_uri": "https://localhost:8080/"
        },
        "id": "K2-edHQC1X_H",
        "outputId": "7752f28c-915f-45c8-b5a7-a3621d470c6e"
      },
      "execution_count": 56,
      "outputs": [
        {
          "output_type": "stream",
          "name": "stdout",
          "text": [
            "[2025-06-22T18:55:31.270615] TIMING: Model saving completed in 7.83 seconds\n"
          ]
        }
      ]
    },
    {
      "cell_type": "markdown",
      "source": [
        "## 8. Research Summary and Recommendations"
      ],
      "metadata": {
        "id": "Cu2VbzPm1V0V"
      }
    },
    {
      "cell_type": "code",
      "source": [
        "print(\"\\n\" + \"=\"*80)\n",
        "print(\"RESEARCH SUMMARY - HIGH-PERFORMANCE PHISHING DETECTION MODEL\")\n",
        "print(\"=\"*80)\n",
        "\n",
        "print(f\"\"\"\n",
        "MODEL PERFORMANCE:\n",
        "• Test Set Accuracy: {accuracy:.1%}\n",
        "• Phishing Detection Rate: {recall:.1%} (Critical metric)\n",
        "• Real-World Performance: {overall_accuracy:.1%}\n",
        "• False Negative Rate: {false_negative_rate:.1%} (Target: <5%)\n",
        "\n",
        "REAL-WORLD VALIDATION:\n",
        "• Legitimate Sites Accuracy: {legit_accuracy:.1%}\n",
        "• Phishing Sites Detection: {phish_accuracy:.1%}\n",
        "• Performance Target Met: {'✅ YES' if meets_targets else '❌ NO'}\n",
        "\n",
        "KEY IMPROVEMENTS:\n",
        "• {len(X.columns)} advanced features (vs 13 basic)\n",
        "• Class weighting to prioritize phishing detection\n",
        "• Modern phishing pattern recognition\n",
        "• Enhanced brand impersonation detection\n",
        "\n",
        "BROWSER EXTENSION COMPATIBILITY:\n",
        "• Feature count: {len(X.columns)} (lightweight)\n",
        "• Expected inference time: <500ms\n",
        "• Memory footprint: Optimized for real-time use\n",
        "\n",
        "RESEARCH INSIGHTS:\n",
        "• Modern phishing uses HTTPS ({sum(url.startswith('https') for url in phishing_urls) / len(phishing_urls):.0%} of dataset)\n",
        "• Brand impersonation and security keywords are key indicators\n",
        "• URL structure analysis crucial for detection\n",
        "• Class imbalance handling essential for high recall\n",
        "\"\"\")"
      ],
      "metadata": {
        "colab": {
          "base_uri": "https://localhost:8080/"
        },
        "id": "t_tfMpmB1i_U",
        "outputId": "6006c64c-b42b-4ab1-8c89-97553be1667d"
      },
      "execution_count": 59,
      "outputs": [
        {
          "output_type": "stream",
          "name": "stdout",
          "text": [
            "\n",
            "================================================================================\n",
            "RESEARCH SUMMARY - HIGH-PERFORMANCE PHISHING DETECTION MODEL\n",
            "================================================================================\n",
            "\n",
            "MODEL PERFORMANCE:\n",
            "• Test Set Accuracy: 99.1%\n",
            "• Phishing Detection Rate: 98.5% (Critical metric)\n",
            "• Real-World Performance: 83.3%\n",
            "• False Negative Rate: 1.5% (Target: <5%)\n",
            "\n",
            "REAL-WORLD VALIDATION:\n",
            "• Legitimate Sites Accuracy: 81.8%\n",
            "• Phishing Sites Detection: 84.2%\n",
            "• Performance Target Met: ❌ NO\n",
            "\n",
            "KEY IMPROVEMENTS:\n",
            "• 27 advanced features (vs 13 basic)\n",
            "• Class weighting to prioritize phishing detection\n",
            "• Modern phishing pattern recognition\n",
            "• Enhanced brand impersonation detection\n",
            "\n",
            "BROWSER EXTENSION COMPATIBILITY:\n",
            "• Feature count: 27 (lightweight)\n",
            "• Expected inference time: <500ms\n",
            "• Memory footprint: Optimized for real-time use\n",
            "\n",
            "RESEARCH INSIGHTS:\n",
            "• Modern phishing uses HTTPS (6% of dataset)\n",
            "• Brand impersonation and security keywords are key indicators\n",
            "• URL structure analysis crucial for detection\n",
            "• Class imbalance handling essential for high recall\n",
            "\n"
          ]
        }
      ]
    },
    {
      "cell_type": "markdown",
      "source": [
        "# Save comprehensive logs"
      ],
      "metadata": {
        "id": "gntkY5f21lvZ"
      }
    },
    {
      "cell_type": "code",
      "source": [
        "def save_research_logs(log_data, log_file_path):\n",
        "    \"\"\"Save logs with research metadata\"\"\"\n",
        "    research_session = {\n",
        "        \"session_id\": datetime.now().strftime(\"%Y%m%d_%H%M%S\"),\n",
        "        \"model_version\": \"3.0_high_performance\",\n",
        "        \"session_summary\": {\n",
        "            \"total_events\": len(log_data),\n",
        "            \"performance_achieved\": meets_targets,\n",
        "            \"key_metrics\": {\n",
        "                \"accuracy\": float(accuracy),\n",
        "                \"recall\": float(recall),\n",
        "                \"real_world_accuracy\": float(overall_accuracy)\n",
        "            }\n",
        "        },\n",
        "        \"events\": log_data\n",
        "    }\n",
        "\n",
        "    # Try to load existing logs\n",
        "    try:\n",
        "        with open(log_file_path, 'r') as f:\n",
        "            existing_data = json.load(f)\n",
        "            if not isinstance(existing_data, list):\n",
        "                existing_data = [existing_data]\n",
        "    except (FileNotFoundError, json.JSONDecodeError):\n",
        "        existing_data = []\n",
        "\n",
        "    existing_data.append(research_session)\n",
        "\n",
        "    with open(log_file_path, 'w') as f:\n",
        "        json.dump(existing_data, f, indent=2)\n",
        "\n",
        "    print(f\"\\nResearch logs saved to: {log_file_path}\")\n",
        "    return len(existing_data)"
      ],
      "metadata": {
        "id": "JpvjWW8m1pBu"
      },
      "execution_count": 60,
      "outputs": []
    },
    {
      "cell_type": "code",
      "source": [
        "session_count = save_research_logs(log_data, LOG_OUTPUT_PATH)"
      ],
      "metadata": {
        "colab": {
          "base_uri": "https://localhost:8080/"
        },
        "id": "1qmJ2FTi1pyC",
        "outputId": "988b8da6-579b-4eca-84c8-0fea5803f9a2"
      },
      "execution_count": 61,
      "outputs": [
        {
          "output_type": "stream",
          "name": "stdout",
          "text": [
            "\n",
            "Research logs saved to: /content/drive/MyDrive/PUSL3190/logs/high_performance_training_log.json\n"
          ]
        }
      ]
    },
    {
      "cell_type": "code",
      "source": [
        "print(f\"\"\"\n",
        "FILES SAVED:\n",
        "• Model: {MODEL_OUTPUT_PATH}\n",
        "• Scaler: {SCALER_OUTPUT_PATH}\n",
        "• Metadata: {METADATA_OUTPUT_PATH}\n",
        "• Research Logs: {LOG_OUTPUT_PATH} (Session #{session_count})\n",
        "\n",
        "NEXT STEPS:\n",
        "{'✅ Ready for deployment' if meets_targets else '❌ Requires further optimization'}\n",
        "• Update browser extension with new features\n",
        "• Deploy to extension backend\n",
        "• Monitor real-world performance\n",
        "\"\"\")"
      ],
      "metadata": {
        "colab": {
          "base_uri": "https://localhost:8080/"
        },
        "id": "3q2FGC9o1rXo",
        "outputId": "dad6abc4-cbb5-4e4a-d787-57e9fb8f79ba"
      },
      "execution_count": 62,
      "outputs": [
        {
          "output_type": "stream",
          "name": "stdout",
          "text": [
            "\n",
            "FILES SAVED:\n",
            "• Model: /content/drive/MyDrive/PUSL3190/models/browser_extension/high_performance_model.pkl\n",
            "• Scaler: /content/drive/MyDrive/PUSL3190/models/browser_extension/high_performance_scaler.pkl  \n",
            "• Metadata: /content/drive/MyDrive/PUSL3190/models/browser_extension/high_performance_metadata.json\n",
            "• Research Logs: /content/drive/MyDrive/PUSL3190/logs/high_performance_training_log.json (Session #1)\n",
            "\n",
            "NEXT STEPS:\n",
            "❌ Requires further optimization\n",
            "• Update browser extension with new features\n",
            "• Deploy to extension backend\n",
            "• Monitor real-world performance\n",
            "\n"
          ]
        }
      ]
    },
    {
      "cell_type": "code",
      "source": [
        "log_event(\"TRAINING_COMPLETE\", f\"High-performance model training completed successfully\", {\n",
        "    \"final_performance\": {\n",
        "        \"test_accuracy\": float(accuracy),\n",
        "        \"real_world_accuracy\": float(overall_accuracy),\n",
        "        \"phishing_detection\": float(phish_accuracy),\n",
        "        \"deployment_ready\": meets_targets\n",
        "    }\n",
        "})"
      ],
      "metadata": {
        "colab": {
          "base_uri": "https://localhost:8080/"
        },
        "id": "FZU3dh-K1uVR",
        "outputId": "12677a75-cc55-45f5-f83f-13b38bb7d52c"
      },
      "execution_count": 63,
      "outputs": [
        {
          "output_type": "stream",
          "name": "stdout",
          "text": [
            "[2025-06-22T18:57:18.663603] TRAINING_COMPLETE: High-performance model training completed successfully\n"
          ]
        }
      ]
    }
  ]
}