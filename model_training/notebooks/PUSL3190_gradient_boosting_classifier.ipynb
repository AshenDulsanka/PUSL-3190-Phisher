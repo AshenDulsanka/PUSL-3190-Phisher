{
  "nbformat": 4,
  "nbformat_minor": 0,
  "metadata": {
    "colab": {
      "provenance": [],
      "gpuType": "T4"
    },
    "kernelspec": {
      "name": "python3",
      "display_name": "Python 3"
    },
    "language_info": {
      "name": "python"
    },
    "accelerator": "GPU",
    "widgets": {
      "application/vnd.jupyter.widget-state+json": {
        "5b65e165a3e94e82a5f81a4ea415e14c": {
          "model_module": "@jupyter-widgets/controls",
          "model_name": "HBoxModel",
          "model_module_version": "1.5.0",
          "state": {
            "_dom_classes": [],
            "_model_module": "@jupyter-widgets/controls",
            "_model_module_version": "1.5.0",
            "_model_name": "HBoxModel",
            "_view_count": null,
            "_view_module": "@jupyter-widgets/controls",
            "_view_module_version": "1.5.0",
            "_view_name": "HBoxView",
            "box_style": "",
            "children": [
              "IPY_MODEL_00eee2705c5f41ee96e8632a9f879dac",
              "IPY_MODEL_1896b559e7cb499ea5fcda57bfd69c94",
              "IPY_MODEL_1d49ef087c3146509b80da12f006731c"
            ],
            "layout": "IPY_MODEL_e73d824d20834aa7b3ca2bac8b019b04"
          }
        },
        "00eee2705c5f41ee96e8632a9f879dac": {
          "model_module": "@jupyter-widgets/controls",
          "model_name": "HTMLModel",
          "model_module_version": "1.5.0",
          "state": {
            "_dom_classes": [],
            "_model_module": "@jupyter-widgets/controls",
            "_model_module_version": "1.5.0",
            "_model_name": "HTMLModel",
            "_view_count": null,
            "_view_module": "@jupyter-widgets/controls",
            "_view_module_version": "1.5.0",
            "_view_name": "HTMLView",
            "description": "",
            "description_tooltip": null,
            "layout": "IPY_MODEL_be758cfb5c17400cb4279817724600e7",
            "placeholder": "​",
            "style": "IPY_MODEL_d0e4cfdae0684076960270b0e8ee298f",
            "value": "100%"
          }
        },
        "1896b559e7cb499ea5fcda57bfd69c94": {
          "model_module": "@jupyter-widgets/controls",
          "model_name": "FloatProgressModel",
          "model_module_version": "1.5.0",
          "state": {
            "_dom_classes": [],
            "_model_module": "@jupyter-widgets/controls",
            "_model_module_version": "1.5.0",
            "_model_name": "FloatProgressModel",
            "_view_count": null,
            "_view_module": "@jupyter-widgets/controls",
            "_view_module_version": "1.5.0",
            "_view_name": "ProgressView",
            "bar_style": "success",
            "description": "",
            "description_tooltip": null,
            "layout": "IPY_MODEL_4d589bccc8484e4c8eec72d159dd22c9",
            "max": 80,
            "min": 0,
            "orientation": "horizontal",
            "style": "IPY_MODEL_0828d966761e48e1ac5cb0e6d2efcbb5",
            "value": 80
          }
        },
        "1d49ef087c3146509b80da12f006731c": {
          "model_module": "@jupyter-widgets/controls",
          "model_name": "HTMLModel",
          "model_module_version": "1.5.0",
          "state": {
            "_dom_classes": [],
            "_model_module": "@jupyter-widgets/controls",
            "_model_module_version": "1.5.0",
            "_model_name": "HTMLModel",
            "_view_count": null,
            "_view_module": "@jupyter-widgets/controls",
            "_view_module_version": "1.5.0",
            "_view_name": "HTMLView",
            "description": "",
            "description_tooltip": null,
            "layout": "IPY_MODEL_b1a6cdde4ade48f1a1f2aff46dbee07f",
            "placeholder": "​",
            "style": "IPY_MODEL_b59ef7885d90461a804652ce455497bc",
            "value": " 80/80 [23:50&lt;00:00, 17.47s/it]"
          }
        },
        "e73d824d20834aa7b3ca2bac8b019b04": {
          "model_module": "@jupyter-widgets/base",
          "model_name": "LayoutModel",
          "model_module_version": "1.2.0",
          "state": {
            "_model_module": "@jupyter-widgets/base",
            "_model_module_version": "1.2.0",
            "_model_name": "LayoutModel",
            "_view_count": null,
            "_view_module": "@jupyter-widgets/base",
            "_view_module_version": "1.2.0",
            "_view_name": "LayoutView",
            "align_content": null,
            "align_items": null,
            "align_self": null,
            "border": null,
            "bottom": null,
            "display": null,
            "flex": null,
            "flex_flow": null,
            "grid_area": null,
            "grid_auto_columns": null,
            "grid_auto_flow": null,
            "grid_auto_rows": null,
            "grid_column": null,
            "grid_gap": null,
            "grid_row": null,
            "grid_template_areas": null,
            "grid_template_columns": null,
            "grid_template_rows": null,
            "height": null,
            "justify_content": null,
            "justify_items": null,
            "left": null,
            "margin": null,
            "max_height": null,
            "max_width": null,
            "min_height": null,
            "min_width": null,
            "object_fit": null,
            "object_position": null,
            "order": null,
            "overflow": null,
            "overflow_x": null,
            "overflow_y": null,
            "padding": null,
            "right": null,
            "top": null,
            "visibility": null,
            "width": null
          }
        },
        "be758cfb5c17400cb4279817724600e7": {
          "model_module": "@jupyter-widgets/base",
          "model_name": "LayoutModel",
          "model_module_version": "1.2.0",
          "state": {
            "_model_module": "@jupyter-widgets/base",
            "_model_module_version": "1.2.0",
            "_model_name": "LayoutModel",
            "_view_count": null,
            "_view_module": "@jupyter-widgets/base",
            "_view_module_version": "1.2.0",
            "_view_name": "LayoutView",
            "align_content": null,
            "align_items": null,
            "align_self": null,
            "border": null,
            "bottom": null,
            "display": null,
            "flex": null,
            "flex_flow": null,
            "grid_area": null,
            "grid_auto_columns": null,
            "grid_auto_flow": null,
            "grid_auto_rows": null,
            "grid_column": null,
            "grid_gap": null,
            "grid_row": null,
            "grid_template_areas": null,
            "grid_template_columns": null,
            "grid_template_rows": null,
            "height": null,
            "justify_content": null,
            "justify_items": null,
            "left": null,
            "margin": null,
            "max_height": null,
            "max_width": null,
            "min_height": null,
            "min_width": null,
            "object_fit": null,
            "object_position": null,
            "order": null,
            "overflow": null,
            "overflow_x": null,
            "overflow_y": null,
            "padding": null,
            "right": null,
            "top": null,
            "visibility": null,
            "width": null
          }
        },
        "d0e4cfdae0684076960270b0e8ee298f": {
          "model_module": "@jupyter-widgets/controls",
          "model_name": "DescriptionStyleModel",
          "model_module_version": "1.5.0",
          "state": {
            "_model_module": "@jupyter-widgets/controls",
            "_model_module_version": "1.5.0",
            "_model_name": "DescriptionStyleModel",
            "_view_count": null,
            "_view_module": "@jupyter-widgets/base",
            "_view_module_version": "1.2.0",
            "_view_name": "StyleView",
            "description_width": ""
          }
        },
        "4d589bccc8484e4c8eec72d159dd22c9": {
          "model_module": "@jupyter-widgets/base",
          "model_name": "LayoutModel",
          "model_module_version": "1.2.0",
          "state": {
            "_model_module": "@jupyter-widgets/base",
            "_model_module_version": "1.2.0",
            "_model_name": "LayoutModel",
            "_view_count": null,
            "_view_module": "@jupyter-widgets/base",
            "_view_module_version": "1.2.0",
            "_view_name": "LayoutView",
            "align_content": null,
            "align_items": null,
            "align_self": null,
            "border": null,
            "bottom": null,
            "display": null,
            "flex": null,
            "flex_flow": null,
            "grid_area": null,
            "grid_auto_columns": null,
            "grid_auto_flow": null,
            "grid_auto_rows": null,
            "grid_column": null,
            "grid_gap": null,
            "grid_row": null,
            "grid_template_areas": null,
            "grid_template_columns": null,
            "grid_template_rows": null,
            "height": null,
            "justify_content": null,
            "justify_items": null,
            "left": null,
            "margin": null,
            "max_height": null,
            "max_width": null,
            "min_height": null,
            "min_width": null,
            "object_fit": null,
            "object_position": null,
            "order": null,
            "overflow": null,
            "overflow_x": null,
            "overflow_y": null,
            "padding": null,
            "right": null,
            "top": null,
            "visibility": null,
            "width": null
          }
        },
        "0828d966761e48e1ac5cb0e6d2efcbb5": {
          "model_module": "@jupyter-widgets/controls",
          "model_name": "ProgressStyleModel",
          "model_module_version": "1.5.0",
          "state": {
            "_model_module": "@jupyter-widgets/controls",
            "_model_module_version": "1.5.0",
            "_model_name": "ProgressStyleModel",
            "_view_count": null,
            "_view_module": "@jupyter-widgets/base",
            "_view_module_version": "1.2.0",
            "_view_name": "StyleView",
            "bar_color": null,
            "description_width": ""
          }
        },
        "b1a6cdde4ade48f1a1f2aff46dbee07f": {
          "model_module": "@jupyter-widgets/base",
          "model_name": "LayoutModel",
          "model_module_version": "1.2.0",
          "state": {
            "_model_module": "@jupyter-widgets/base",
            "_model_module_version": "1.2.0",
            "_model_name": "LayoutModel",
            "_view_count": null,
            "_view_module": "@jupyter-widgets/base",
            "_view_module_version": "1.2.0",
            "_view_name": "LayoutView",
            "align_content": null,
            "align_items": null,
            "align_self": null,
            "border": null,
            "bottom": null,
            "display": null,
            "flex": null,
            "flex_flow": null,
            "grid_area": null,
            "grid_auto_columns": null,
            "grid_auto_flow": null,
            "grid_auto_rows": null,
            "grid_column": null,
            "grid_gap": null,
            "grid_row": null,
            "grid_template_areas": null,
            "grid_template_columns": null,
            "grid_template_rows": null,
            "height": null,
            "justify_content": null,
            "justify_items": null,
            "left": null,
            "margin": null,
            "max_height": null,
            "max_width": null,
            "min_height": null,
            "min_width": null,
            "object_fit": null,
            "object_position": null,
            "order": null,
            "overflow": null,
            "overflow_x": null,
            "overflow_y": null,
            "padding": null,
            "right": null,
            "top": null,
            "visibility": null,
            "width": null
          }
        },
        "b59ef7885d90461a804652ce455497bc": {
          "model_module": "@jupyter-widgets/controls",
          "model_name": "DescriptionStyleModel",
          "model_module_version": "1.5.0",
          "state": {
            "_model_module": "@jupyter-widgets/controls",
            "_model_module_version": "1.5.0",
            "_model_name": "DescriptionStyleModel",
            "_view_count": null,
            "_view_module": "@jupyter-widgets/base",
            "_view_module_version": "1.2.0",
            "_view_name": "StyleView",
            "description_width": ""
          }
        }
      }
    }
  },
  "cells": [
    {
      "cell_type": "markdown",
      "source": [
        "# AI-Powered URL Phishing Detection System\n",
        "# Gradient Boosting Classifier for Chatbot"
      ],
      "metadata": {
        "id": "pdQZKCWpZQ0a"
      }
    },
    {
      "cell_type": "markdown",
      "source": [
        "## Steup and Imports"
      ],
      "metadata": {
        "id": "R-aZ0tsoZUmF"
      }
    },
    {
      "cell_type": "code",
      "source": [
        "!pip install python-whois dnspython tldextract beautifulsoup4 requests pyOpenSSL tqdm"
      ],
      "metadata": {
        "colab": {
          "base_uri": "https://localhost:8080/"
        },
        "id": "xSQbVt1Xw4Eo",
        "outputId": "fce3fbfd-284b-4587-8430-74c70cf536ba"
      },
      "execution_count": 22,
      "outputs": [
        {
          "output_type": "stream",
          "name": "stdout",
          "text": [
            "Requirement already satisfied: python-whois in /usr/local/lib/python3.11/dist-packages (0.9.5)\n",
            "Requirement already satisfied: dnspython in /usr/local/lib/python3.11/dist-packages (2.7.0)\n",
            "Requirement already satisfied: tldextract in /usr/local/lib/python3.11/dist-packages (5.1.3)\n",
            "Requirement already satisfied: beautifulsoup4 in /usr/local/lib/python3.11/dist-packages (4.13.3)\n",
            "Requirement already satisfied: requests in /usr/local/lib/python3.11/dist-packages (2.32.3)\n",
            "Requirement already satisfied: pyOpenSSL in /usr/local/lib/python3.11/dist-packages (24.2.1)\n",
            "Requirement already satisfied: tqdm in /usr/local/lib/python3.11/dist-packages (4.67.1)\n",
            "Requirement already satisfied: python-dateutil in /usr/local/lib/python3.11/dist-packages (from python-whois) (2.8.2)\n",
            "Requirement already satisfied: idna in /usr/local/lib/python3.11/dist-packages (from tldextract) (3.10)\n",
            "Requirement already satisfied: requests-file>=1.4 in /usr/local/lib/python3.11/dist-packages (from tldextract) (2.1.0)\n",
            "Requirement already satisfied: filelock>=3.0.8 in /usr/local/lib/python3.11/dist-packages (from tldextract) (3.18.0)\n",
            "Requirement already satisfied: soupsieve>1.2 in /usr/local/lib/python3.11/dist-packages (from beautifulsoup4) (2.6)\n",
            "Requirement already satisfied: typing-extensions>=4.0.0 in /usr/local/lib/python3.11/dist-packages (from beautifulsoup4) (4.12.2)\n",
            "Requirement already satisfied: charset-normalizer<4,>=2 in /usr/local/lib/python3.11/dist-packages (from requests) (3.4.1)\n",
            "Requirement already satisfied: urllib3<3,>=1.21.1 in /usr/local/lib/python3.11/dist-packages (from requests) (2.3.0)\n",
            "Requirement already satisfied: certifi>=2017.4.17 in /usr/local/lib/python3.11/dist-packages (from requests) (2025.1.31)\n",
            "Requirement already satisfied: cryptography<44,>=41.0.5 in /usr/local/lib/python3.11/dist-packages (from pyOpenSSL) (43.0.3)\n",
            "Requirement already satisfied: cffi>=1.12 in /usr/local/lib/python3.11/dist-packages (from cryptography<44,>=41.0.5->pyOpenSSL) (1.17.1)\n",
            "Requirement already satisfied: six>=1.5 in /usr/local/lib/python3.11/dist-packages (from python-dateutil->python-whois) (1.17.0)\n",
            "Requirement already satisfied: pycparser in /usr/local/lib/python3.11/dist-packages (from cffi>=1.12->cryptography<44,>=41.0.5->pyOpenSSL) (2.22)\n"
          ]
        }
      ]
    },
    {
      "cell_type": "code",
      "execution_count": 23,
      "metadata": {
        "id": "naVE9toeWcX7"
      },
      "outputs": [],
      "source": [
        "import pandas as pd\n",
        "import numpy as np\n",
        "import matplotlib.pyplot as plt\n",
        "import seaborn as sns\n",
        "import pickle\n",
        "import time\n",
        "import json\n",
        "import os\n",
        "import re\n",
        "import requests\n",
        "import socket\n",
        "from urllib.parse import urlparse\n",
        "from datetime import datetime\n",
        "from bs4 import BeautifulSoup\n",
        "from sklearn.model_selection import train_test_split, GridSearchCV\n",
        "from sklearn.ensemble import GradientBoostingClassifier\n",
        "from sklearn.metrics import accuracy_score, precision_score, recall_score, f1_score, confusion_matrix, roc_curve, auc\n",
        "from sklearn.preprocessing import StandardScaler\n",
        "import joblib\n",
        "import whois\n",
        "import dns.resolver\n",
        "import tldextract\n",
        "import ssl\n",
        "import OpenSSL.crypto as crypto\n",
        "import socket\n",
        "import concurrent.futures\n",
        "from tqdm.notebook import tqdm\n",
        "from concurrent.futures import ThreadPoolExecutor, as_completed"
      ]
    },
    {
      "cell_type": "markdown",
      "source": [
        "### Mount Google Drive"
      ],
      "metadata": {
        "id": "8TwLZMHuaA27"
      }
    },
    {
      "cell_type": "code",
      "source": [
        "from google.colab import drive\n",
        "drive.mount('/content/drive')"
      ],
      "metadata": {
        "colab": {
          "base_uri": "https://localhost:8080/"
        },
        "id": "LDbSaOzoaBcU",
        "outputId": "dfa163cd-c33e-4ba4-f2f4-3fd5ff91562e"
      },
      "execution_count": 24,
      "outputs": [
        {
          "output_type": "stream",
          "name": "stdout",
          "text": [
            "Drive already mounted at /content/drive; to attempt to forcibly remount, call drive.mount(\"/content/drive\", force_remount=True).\n"
          ]
        }
      ]
    },
    {
      "cell_type": "markdown",
      "source": [
        "## Configuration and Logging"
      ],
      "metadata": {
        "id": "zYPK-6MNaZIi"
      }
    },
    {
      "cell_type": "markdown",
      "source": [
        "### Set up logging"
      ],
      "metadata": {
        "id": "zK_EGbNYaea5"
      }
    },
    {
      "cell_type": "code",
      "source": [
        "log_data = []\n",
        "\n",
        "def log_event(event_type, message, metadata=None):\n",
        "    \"\"\"Log events for research documentation\"\"\"\n",
        "    log_entry = {\n",
        "        \"timestamp\": datetime.now().isoformat(),\n",
        "        \"event_type\": event_type,\n",
        "        \"message\": message,\n",
        "        \"metadata\": metadata or {}\n",
        "    }\n",
        "    log_data.append(log_entry)\n",
        "    print(f\"[{log_entry['timestamp']}] {event_type}: {message}\")"
      ],
      "metadata": {
        "id": "uCJzivZgab8u"
      },
      "execution_count": 25,
      "outputs": []
    },
    {
      "cell_type": "markdown",
      "source": [
        "### Define paths"
      ],
      "metadata": {
        "id": "PsUceZULanME"
      }
    },
    {
      "cell_type": "code",
      "source": [
        "BASE_PATH = '/content/drive/MyDrive/PUSL3190'\n",
        "RAW_DATA_PATH = f'{BASE_PATH}/data/raw/phishing_site_urls.csv'\n",
        "PROCESSED_DATA_PATH = f'{BASE_PATH}/data/processed/chatbot_features.csv'\n",
        "MODEL_OUTPUT_PATH = f'{BASE_PATH}/models/gradient_boosting_model/gradient_boost_model.pkl'\n",
        "LOG_OUTPUT_PATH = f'{BASE_PATH}/logs/gradient_boost_training_log.json'"
      ],
      "metadata": {
        "id": "jie390m1ao7T"
      },
      "execution_count": 26,
      "outputs": []
    },
    {
      "cell_type": "markdown",
      "source": [
        "## 1. Load and explore the dataset"
      ],
      "metadata": {
        "id": "Asq15B48bKcD"
      }
    },
    {
      "cell_type": "markdown",
      "source": [
        "### Load dataset"
      ],
      "metadata": {
        "id": "I0hh9ge3bT4J"
      }
    },
    {
      "cell_type": "code",
      "source": [
        "log_event(\"DATA_LOADING\", \"Loading dataset\")\n",
        "start_time = time.time()\n",
        "\n",
        "try:\n",
        "    df = pd.read_csv(RAW_DATA_PATH)\n",
        "    if 'class' not in df.columns:\n",
        "      df = df.rename(columns={'Label': 'class'})\n",
        "    log_event(\"DATA_LOADED\", f\"Dataset loaded with shape {df.shape}\",\n",
        "              {\"rows\": df.shape[0], \"columns\": df.shape[1]})\n",
        "except Exception as e:\n",
        "    log_event(\"ERROR\", f\"Failed to load dataset: {str(e)}\")\n",
        "    raise\n",
        "\n",
        "loading_time = time.time() - start_time\n",
        "log_event(\"TIMING\", f\"Data loading completed in {loading_time:.2f} seconds\")"
      ],
      "metadata": {
        "colab": {
          "base_uri": "https://localhost:8080/"
        },
        "id": "A1euZTLzbMcP",
        "outputId": "6c3e6491-474e-4573-c363-6d3c19555819"
      },
      "execution_count": 27,
      "outputs": [
        {
          "output_type": "stream",
          "name": "stdout",
          "text": [
            "[2025-03-24T08:37:59.749196] DATA_LOADING: Loading dataset\n",
            "[2025-03-24T08:38:01.294390] DATA_LOADED: Dataset loaded with shape (313022, 2)\n",
            "[2025-03-24T08:38:01.294959] TIMING: Data loading completed in 1.54 seconds\n"
          ]
        }
      ]
    },
    {
      "cell_type": "markdown",
      "source": [
        "### Display basic information"
      ],
      "metadata": {
        "id": "64-tzvvrbvvR"
      }
    },
    {
      "cell_type": "code",
      "source": [
        "print(\"Dataset Information:\")\n",
        "print(f\"Total samples: {df.shape[0]}\")\n",
        "print(f\"Features: {df.shape[1]}\")\n",
        "print(\"\\nData Types:\")\n",
        "print(df.dtypes)\n",
        "print(\"\\nClass Distribution:\")\n",
        "print(df['class'].value_counts())\n",
        "print(\"\\nFirst 5 rows:\")\n",
        "print(df.head())"
      ],
      "metadata": {
        "colab": {
          "base_uri": "https://localhost:8080/"
        },
        "id": "D0suA3Khbwo3",
        "outputId": "8fab36ee-8402-41fa-fa05-adaf326948f9"
      },
      "execution_count": 28,
      "outputs": [
        {
          "output_type": "stream",
          "name": "stdout",
          "text": [
            "Dataset Information:\n",
            "Total samples: 313022\n",
            "Features: 2\n",
            "\n",
            "Data Types:\n",
            "URL      object\n",
            "class    object\n",
            "dtype: object\n",
            "\n",
            "Class Distribution:\n",
            "class\n",
            "good    156605\n",
            "bad     156417\n",
            "Name: count, dtype: int64\n",
            "\n",
            "First 5 rows:\n",
            "                                                 URL class\n",
            "0  nobell.it/70ffb52d079109dca5664cce6f317373782/...   bad\n",
            "1  www.dghjdgf.com/paypal.co.uk/cycgi-bin/webscrc...   bad\n",
            "2  serviciosbys.com/paypal.cgi.bin.get-into.herf....   bad\n",
            "3  mail.printakid.com/www.online.americanexpress....   bad\n",
            "4  thewhiskeydregs.com/wp-content/themes/widescre...   bad\n"
          ]
        }
      ]
    },
    {
      "cell_type": "markdown",
      "source": [
        "## 2. Feature Extraction Functions"
      ],
      "metadata": {
        "id": "4J5rI-Ykb9Pp"
      }
    },
    {
      "cell_type": "code",
      "source": [
        "log_event(\"FEATURE_EXTRACTION_FUNCTIONS\", \"Extracting functions for chatbot deep analysis\")\n",
        "start_time = time.time()"
      ],
      "metadata": {
        "colab": {
          "base_uri": "https://localhost:8080/"
        },
        "id": "d4FSyoHYb_mx",
        "outputId": "24dd2ac0-f284-4021-97fe-01f82b247442"
      },
      "execution_count": 29,
      "outputs": [
        {
          "output_type": "stream",
          "name": "stdout",
          "text": [
            "[2025-03-24T08:38:05.884738] FEATURE_EXTRACTION_FUNCTIONS: Extracting functions for chatbot deep analysis\n"
          ]
        }
      ]
    },
    {
      "cell_type": "markdown",
      "source": [
        "Extract comprehensive features for deep analysis in the chatbot based on the specified list:\n",
        "  - UsingIP\n",
        "  - LongURL\n",
        "  - ShortURL\n",
        "  - Symbol@\n",
        "  - Redirecting//\n",
        "  - PrefixSuffix-\n",
        "  - SubDomains\n",
        "  - HTTPS\n",
        "  - DomainRegLen\n",
        "  - Favicon\n",
        "  - NonStdPort\n",
        "  - HTTPSDomainURL\n",
        "  - RequestURL\n",
        "  - AnchorURL\n",
        "  - LinksInScriptTags\n",
        "  - ServerFormHandler\n",
        "  - InfoEmail\n",
        "  - AbnormalURL\n",
        "  - WebsiteForwarding\n",
        "  - StatusBarCust\n",
        "  - DisableRightClick\n",
        "  - UsingPopupWindow\n",
        "  - IframeRedirection\n",
        "  - AgeofDomain\n",
        "  - DNSRecording\n",
        "  - WebsiteTraffic\n",
        "  - PageRank\n",
        "  - GoogleIndex\n",
        "  - LinksPointingToPage\n",
        "  - StatsReport"
      ],
      "metadata": {
        "id": "oZRM0OvLcDMA"
      }
    },
    {
      "cell_type": "markdown",
      "source": [
        "### URL Parsing"
      ],
      "metadata": {
        "id": "kmcGYBU4yXy8"
      }
    },
    {
      "cell_type": "code",
      "source": [
        "def get_domain(url):\n",
        "    \"\"\"Extract domain from URL\"\"\"\n",
        "    try:\n",
        "        extracted = tldextract.extract(url)\n",
        "        domain = f\"{extracted.domain}.{extracted.suffix}\"\n",
        "        if extracted.subdomain:\n",
        "            full_domain = f\"{extracted.subdomain}.{domain}\"\n",
        "        else:\n",
        "            full_domain = domain\n",
        "        return domain, full_domain\n",
        "    except:\n",
        "        return None, None"
      ],
      "metadata": {
        "id": "RzJRToUfljiw"
      },
      "execution_count": 30,
      "outputs": []
    },
    {
      "cell_type": "markdown",
      "source": [
        "### WHOIS Information"
      ],
      "metadata": {
        "id": "rnlgP_pZytj8"
      }
    },
    {
      "cell_type": "code",
      "source": [
        "def get_domain_info(domain):\n",
        "    \"\"\"Get domain registration info using WHOIS\"\"\"\n",
        "    try:\n",
        "        w = whois.whois(domain)\n",
        "\n",
        "        # Get creation date\n",
        "        creation_date = w.creation_date\n",
        "        if isinstance(creation_date, list):\n",
        "            creation_date = creation_date[0]\n",
        "\n",
        "        # Get expiration date\n",
        "        expiration_date = w.expiration_date\n",
        "        if isinstance(expiration_date, list):\n",
        "            expiration_date = expiration_date[0]\n",
        "\n",
        "        # Calculate age in days\n",
        "        if creation_date:\n",
        "            domain_age = (datetime.now() - creation_date).days\n",
        "        else:\n",
        "            domain_age = -1\n",
        "\n",
        "        # Calculate registration length in days\n",
        "        if creation_date and expiration_date:\n",
        "            reg_len = (expiration_date - creation_date).days\n",
        "        else:\n",
        "            reg_len = -1\n",
        "\n",
        "        return {\n",
        "            'domain_age': domain_age,\n",
        "            'registration_length': reg_len\n",
        "        }\n",
        "    except Exception as e:\n",
        "        return {\n",
        "            'domain_age': -1,\n",
        "            'registration_length': -1\n",
        "        }"
      ],
      "metadata": {
        "id": "6H6VpsZBzDW2"
      },
      "execution_count": 31,
      "outputs": []
    },
    {
      "cell_type": "markdown",
      "source": [
        "### SSL Certificate Information"
      ],
      "metadata": {
        "id": "_eV4KsGBzU_L"
      }
    },
    {
      "cell_type": "code",
      "source": [
        "def get_ssl_info(domain):\n",
        "    \"\"\"Get SSL certificate information\"\"\"\n",
        "    try:\n",
        "        context = ssl.create_default_context()\n",
        "        with socket.create_connection((domain, 443), timeout=3) as sock:\n",
        "            with context.wrap_socket(sock, server_hostname=domain) as ssock:\n",
        "                cert = ssock.getpeercert()\n",
        "                not_after = datetime.strptime(cert['notAfter'], '%b %d %H:%M:%S %Y %Z')\n",
        "                validity_days = (not_after - datetime.now()).days\n",
        "                return {\n",
        "                    'has_ssl': True,\n",
        "                    'validity_days': validity_days if validity_days > 0 else 0,\n",
        "                    'issuer': cert['issuer']\n",
        "                }\n",
        "    except Exception as e:\n",
        "        return {\n",
        "            'has_ssl': False,\n",
        "            'validity_days': 0,\n",
        "            'issuer': None\n",
        "        }"
      ],
      "metadata": {
        "id": "SgAaGbCvzXj-"
      },
      "execution_count": 32,
      "outputs": []
    },
    {
      "cell_type": "markdown",
      "source": [
        "### DNS Records"
      ],
      "metadata": {
        "id": "BICWMZD6zdX0"
      }
    },
    {
      "cell_type": "code",
      "source": [
        "def get_dns_records(domain):\n",
        "    \"\"\"Check if domain has proper DNS records\"\"\"\n",
        "    records = {\n",
        "        'has_a': False,\n",
        "        'has_mx': False,\n",
        "        'has_ns': False,\n",
        "        'has_txt': False,\n",
        "        'total_records': 0\n",
        "    }\n",
        "\n",
        "    try:\n",
        "        # A record\n",
        "        try:\n",
        "            answers = dns.resolver.resolve(domain, 'A')\n",
        "            records['has_a'] = len(answers) > 0\n",
        "            records['total_records'] += len(answers)\n",
        "        except:\n",
        "            pass\n",
        "\n",
        "        # MX record\n",
        "        try:\n",
        "            answers = dns.resolver.resolve(domain, 'MX')\n",
        "            records['has_mx'] = len(answers) > 0\n",
        "            records['total_records'] += len(answers)\n",
        "        except:\n",
        "            pass\n",
        "\n",
        "        # NS record\n",
        "        try:\n",
        "            answers = dns.resolver.resolve(domain, 'NS')\n",
        "            records['has_ns'] = len(answers) > 0\n",
        "            records['total_records'] += len(answers)\n",
        "        except:\n",
        "            pass\n",
        "\n",
        "        # TXT record\n",
        "        try:\n",
        "            answers = dns.resolver.resolve(domain, 'TXT')\n",
        "            records['has_txt'] = len(answers) > 0\n",
        "            records['total_records'] += len(answers)\n",
        "        except:\n",
        "            pass\n",
        "\n",
        "        return records\n",
        "    except Exception as e:\n",
        "        return records"
      ],
      "metadata": {
        "id": "z0VJBfCtzfvJ"
      },
      "execution_count": 33,
      "outputs": []
    },
    {
      "cell_type": "markdown",
      "source": [
        "### HTML Content Analysis"
      ],
      "metadata": {
        "id": "z4DbmcJwzndd"
      }
    },
    {
      "cell_type": "code",
      "source": [
        "def analyze_html_content(url):\n",
        "    \"\"\"Analyze HTML content for suspicious patterns\"\"\"\n",
        "    try:\n",
        "        headers = {\n",
        "            'User-Agent': 'Mozilla/5.0 (Windows NT 10.0; Win64; x64) AppleWebKit/537.36 (KHTML, like Gecko) Chrome/58.0.3029.110 Safari/537.3'\n",
        "        }\n",
        "        response = requests.get(url, headers=headers, timeout=5)\n",
        "\n",
        "        if response.status_code != 200:\n",
        "            return {\n",
        "                'has_favicon': False,\n",
        "                'external_favicon': False,\n",
        "                'form_action_external': False,\n",
        "                'has_password_field': False,\n",
        "                'has_hidden_element': False,\n",
        "                'external_scripts': 0,\n",
        "                'iframe_count': 0,\n",
        "                'onclick_count': 0,\n",
        "                'external_links': 0,\n",
        "                'internal_links': 0,\n",
        "                'null_links': 0,\n",
        "                'has_right_click_disabled': False,\n",
        "                'has_popup': False,\n",
        "                'status_bar_customized': False\n",
        "            }\n",
        "\n",
        "        soup = BeautifulSoup(response.text, 'html.parser')\n",
        "        domain, full_domain = get_domain(url)\n",
        "\n",
        "        # Check favicon\n",
        "        favicon = soup.find('link', rel=lambda r: r and 'icon' in r.lower())\n",
        "        has_favicon = favicon is not None\n",
        "        external_favicon = False\n",
        "        if has_favicon and favicon.get('href'):\n",
        "            favicon_url = favicon['href']\n",
        "            if not favicon_url.startswith('data:'):\n",
        "                if favicon_url.startswith('http'):\n",
        "                    favicon_domain = get_domain(favicon_url)[0]\n",
        "                    external_favicon = favicon_domain != domain\n",
        "\n",
        "        # Check forms\n",
        "        forms = soup.find_all('form')\n",
        "        form_action_external = False\n",
        "        for form in forms:\n",
        "            action = form.get('action', '')\n",
        "            if action and action.startswith('http'):\n",
        "                action_domain = get_domain(action)[0]\n",
        "                if action_domain != domain:\n",
        "                    form_action_external = True\n",
        "                    break\n",
        "\n",
        "        # Check for password fields\n",
        "        has_password_field = len(soup.find_all('input', type='password')) > 0\n",
        "\n",
        "        # Check for hidden elements\n",
        "        has_hidden_element = len(soup.find_all('input', type='hidden')) > 0\n",
        "\n",
        "        # Count scripts from external domains\n",
        "        scripts = soup.find_all('script', src=True)\n",
        "        external_scripts = 0\n",
        "        for script in scripts:\n",
        "            if script['src'].startswith('http'):\n",
        "                script_domain = get_domain(script['src'])[0]\n",
        "                if script_domain != domain:\n",
        "                    external_scripts += 1\n",
        "\n",
        "        # Count iframes\n",
        "        iframe_count = len(soup.find_all('iframe'))\n",
        "\n",
        "        # Count onclick events\n",
        "        elements_with_onclick = soup.find_all(lambda tag: tag.has_attr('onclick'))\n",
        "        onclick_count = len(elements_with_onclick)\n",
        "\n",
        "        # Analyze links\n",
        "        links = soup.find_all('a', href=True)\n",
        "        external_links = 0\n",
        "        internal_links = 0\n",
        "        null_links = 0\n",
        "\n",
        "        for link in links:\n",
        "            href = link['href'].lower()\n",
        "            if href == '#' or href == 'javascript:void(0)':\n",
        "                null_links += 1\n",
        "            elif href.startswith('http'):\n",
        "                link_domain = get_domain(href)[0]\n",
        "                if link_domain != domain:\n",
        "                    external_links += 1\n",
        "                else:\n",
        "                    internal_links += 1\n",
        "            else:\n",
        "                internal_links += 1\n",
        "\n",
        "        # Check for right-click disabling\n",
        "        has_right_click_disabled = 'oncontextmenu=\"return false\"' in response.text or 'event.button==2' in response.text\n",
        "\n",
        "        # Check for popups\n",
        "        has_popup = 'window.open(' in response.text\n",
        "\n",
        "        # Check for status bar customization\n",
        "        status_bar_customized = 'window.status' in response.text\n",
        "\n",
        "        return {\n",
        "            'has_favicon': has_favicon,\n",
        "            'external_favicon': external_favicon,\n",
        "            'form_action_external': form_action_external,\n",
        "            'has_password_field': has_password_field,\n",
        "            'has_hidden_element': has_hidden_element,\n",
        "            'external_scripts': external_scripts,\n",
        "            'iframe_count': iframe_count,\n",
        "            'onclick_count': onclick_count,\n",
        "            'external_links': external_links,\n",
        "            'internal_links': internal_links,\n",
        "            'null_links': null_links,\n",
        "            'has_right_click_disabled': has_right_click_disabled,\n",
        "            'has_popup': has_popup,\n",
        "            'status_bar_customized': status_bar_customized\n",
        "        }\n",
        "    except Exception as e:\n",
        "        return {\n",
        "            'has_favicon': False,\n",
        "            'external_favicon': False,\n",
        "            'form_action_external': False,\n",
        "            'has_password_field': False,\n",
        "            'has_hidden_element': False,\n",
        "            'external_scripts': 0,\n",
        "            'iframe_count': 0,\n",
        "            'onclick_count': 0,\n",
        "            'external_links': 0,\n",
        "            'internal_links': 0,\n",
        "            'null_links': 0,\n",
        "            'has_right_click_disabled': False,\n",
        "            'has_popup': False,\n",
        "            'status_bar_customized': False\n",
        "        }"
      ],
      "metadata": {
        "id": "ce4C3TESzp0A"
      },
      "execution_count": 34,
      "outputs": []
    },
    {
      "cell_type": "markdown",
      "source": [
        "### Parallel feature extraction"
      ],
      "metadata": {
        "id": "EyHP8wTiz84H"
      }
    },
    {
      "cell_type": "code",
      "source": [
        "def extract_url_features(url):\n",
        "    \"\"\"Extract all features for a single URL\"\"\"\n",
        "    # Basic URL features\n",
        "    features = {}\n",
        "\n",
        "    # Check if URL uses IP address\n",
        "    features['UsingIP'] = 1 if bool(re.search(r'\\d+\\.\\d+\\.\\d+\\.\\d+', url)) else 0\n",
        "\n",
        "    # URL length\n",
        "    features['LongURL'] = 1 if len(url) > 75 else 0\n",
        "\n",
        "    # Check for URL shortening services\n",
        "    url_shorteners = ['bit.ly', 'tinyurl.com', 't.co', 'goo.gl', 'is.gd', 'cli.gs', 'ow.ly', 'tiny.cc', 'shorte.st']\n",
        "    features['ShortURL'] = 1 if any(shortener in url for shortener in url_shorteners) else 0\n",
        "\n",
        "    # Check for @ symbol\n",
        "    features['Symbol@'] = 1 if '@' in url else 0\n",
        "\n",
        "    # Check for multiple forward slashes\n",
        "    features['Redirecting//'] = 1 if url.count('//') > 1 else 0\n",
        "\n",
        "    # Extract domain information\n",
        "    domain, full_domain = get_domain(url)\n",
        "\n",
        "    if not domain:\n",
        "        # If domain extraction failed, return basic features with default values\n",
        "        return {**features,\n",
        "                'PrefixSuffix-': 0,\n",
        "                'SubDomains': 0,\n",
        "                'HTTPS': 0,\n",
        "                'DomainRegLen': 0,\n",
        "                'Favicon': 0,\n",
        "                'NonStdPort': 0,\n",
        "                'HTTPSDomainURL': 0,\n",
        "                'RequestURL': 0,\n",
        "                'AnchorURL': 0,\n",
        "                'LinksInScriptTags': 0,\n",
        "                'ServerFormHandler': 0,\n",
        "                'InfoEmail': 0,\n",
        "                'AbnormalURL': 0,\n",
        "                'WebsiteForwarding': 0,\n",
        "                'StatusBarCust': 0,\n",
        "                'DisableRightClick': 0,\n",
        "                'UsingPopupWindow': 0,\n",
        "                'IframeRedirection': 0,\n",
        "                'AgeofDomain': 0,\n",
        "                'DNSRecording': 0,\n",
        "                'WebsiteTraffic': 0,\n",
        "                'PageRank': 0,\n",
        "                'GoogleIndex': 0,\n",
        "                'LinksPointingToPage': 0,\n",
        "                'StatsReport': 0}\n",
        "\n",
        "    # Check for hyphen in domain\n",
        "    features['PrefixSuffix-'] = 1 if '-' in domain else 0\n",
        "\n",
        "    # Count subdomains\n",
        "    extracted = tldextract.extract(url)\n",
        "    features['SubDomains'] = len(extracted.subdomain.split('.')) if extracted.subdomain else 0\n",
        "\n",
        "    # Check if URL uses HTTPS\n",
        "    features['HTTPS'] = 1 if url.startswith('https') else 0\n",
        "\n",
        "    # Get WHOIS information\n",
        "    whois_info = get_domain_info(domain)\n",
        "    features['DomainRegLen'] = 1 if whois_info['registration_length'] > 365 else 0\n",
        "    features['AgeofDomain'] = 1 if whois_info['domain_age'] > 180 else 0\n",
        "\n",
        "    # Check for non-standard port\n",
        "    parsed_url = urlparse(url)\n",
        "    port = parsed_url.port\n",
        "    features['NonStdPort'] = 1 if port and port not in [80, 443] else 0\n",
        "\n",
        "    # Check if 'https' appears in domain part\n",
        "    features['HTTPSDomainURL'] = 1 if 'https' in domain or 'http' in domain else 0\n",
        "\n",
        "    # Check for suspicious terms in URL\n",
        "    suspicious_terms = ['login', 'signin', 'verify', 'account', 'security', 'update', 'confirm', 'payment']\n",
        "    features['AbnormalURL'] = 1 if any(term in url.lower() for term in suspicious_terms) else 0\n",
        "\n",
        "    # Check for email-related terms\n",
        "    features['InfoEmail'] = 1 if any(term in url.lower() for term in ['mail', 'email', 'contact']) else 0\n",
        "\n",
        "    # Get DNS Records\n",
        "    dns_info = get_dns_records(domain)\n",
        "    features['DNSRecording'] = 1 if dns_info['has_a'] and dns_info['has_ns'] else 0\n",
        "\n",
        "    # Website popularity estimation (based on DNS records as a proxy)\n",
        "    features['WebsiteTraffic'] = 1 if dns_info['total_records'] > 3 else 0\n",
        "    features['PageRank'] = 1 if dns_info['has_a'] and dns_info['has_mx'] and dns_info['has_ns'] else 0\n",
        "    features['GoogleIndex'] = 1 if dns_info['has_a'] and dns_info['has_ns'] else 0\n",
        "\n",
        "    # Links pointing to the page (estimate based on domain age)\n",
        "    features['LinksPointingToPage'] = 1 if whois_info['domain_age'] > 365 else 0\n",
        "\n",
        "    # Stats report availability (estimate based on domain age and DNS)\n",
        "    features['StatsReport'] = 1 if whois_info['domain_age'] > 180 and dns_info['total_records'] > 3 else 0\n",
        "\n",
        "    # Try to get HTML content analysis\n",
        "    # Only attempt for URLs that use HTTP/HTTPS\n",
        "    if url.startswith('http'):\n",
        "        try:\n",
        "            html_info = analyze_html_content(url)\n",
        "\n",
        "            # Favicon from different domain\n",
        "            features['Favicon'] = 1 if html_info['external_favicon'] else 0\n",
        "\n",
        "            # External request URLs\n",
        "            features['RequestURL'] = 1 if html_info['external_scripts'] > 0 else 0\n",
        "\n",
        "            # External anchor URLs\n",
        "            features['AnchorURL'] = 1 if html_info['external_links'] > html_info['internal_links'] else 0\n",
        "\n",
        "            # Links in script tags\n",
        "            features['LinksInScriptTags'] = 1 if html_info['external_scripts'] > 2 else 0\n",
        "\n",
        "            # Server form handler\n",
        "            features['ServerFormHandler'] = 1 if html_info['form_action_external'] else 0\n",
        "\n",
        "            # Website forwarding\n",
        "            features['WebsiteForwarding'] = 1 if html_info['null_links'] > 3 else 0\n",
        "\n",
        "            # Status bar customization\n",
        "            features['StatusBarCust'] = 1 if html_info['status_bar_customized'] else 0\n",
        "\n",
        "            # Right-click disabled\n",
        "            features['DisableRightClick'] = 1 if html_info['has_right_click_disabled'] else 0\n",
        "\n",
        "            # Popup windows\n",
        "            features['UsingPopupWindow'] = 1 if html_info['has_popup'] else 0\n",
        "\n",
        "            # Iframe redirection\n",
        "            features['IframeRedirection'] = 1 if html_info['iframe_count'] > 0 else 0\n",
        "\n",
        "        except Exception as e:\n",
        "            # Default values for HTML features if analysis fails\n",
        "            features['Favicon'] = 0\n",
        "            features['RequestURL'] = 0\n",
        "            features['AnchorURL'] = 0\n",
        "            features['LinksInScriptTags'] = 0\n",
        "            features['ServerFormHandler'] = 0\n",
        "            features['WebsiteForwarding'] = 0\n",
        "            features['StatusBarCust'] = 0\n",
        "            features['DisableRightClick'] = 0\n",
        "            features['UsingPopupWindow'] = 0\n",
        "            features['IframeRedirection'] = 0\n",
        "    else:\n",
        "        # Default values for HTML features for non-HTTP URLs\n",
        "        features['Favicon'] = 0\n",
        "        features['RequestURL'] = 0\n",
        "        features['AnchorURL'] = 0\n",
        "        features['LinksInScriptTags'] = 0\n",
        "        features['ServerFormHandler'] = 0\n",
        "        features['WebsiteForwarding'] = 0\n",
        "        features['StatusBarCust'] = 0\n",
        "        features['DisableRightClick'] = 0\n",
        "        features['UsingPopupWindow'] = 0\n",
        "        features['IframeRedirection'] = 0\n",
        "\n",
        "    return features"
      ],
      "metadata": {
        "id": "Bi2j4gPzz_K3"
      },
      "execution_count": 35,
      "outputs": []
    },
    {
      "cell_type": "markdown",
      "source": [
        "## 3. Feature Extraction with Parallelization"
      ],
      "metadata": {
        "id": "lvys23vO0W6m"
      }
    },
    {
      "cell_type": "code",
      "source": [
        "log_event(\"FEATURE_EXTRACTION\", \"Starting comprehensive feature extraction for chatbot model\")"
      ],
      "metadata": {
        "colab": {
          "base_uri": "https://localhost:8080/"
        },
        "id": "wvyuJOl50d4E",
        "outputId": "1a8d3055-1df0-4490-ff3f-971e6bb4d4fc"
      },
      "execution_count": 36,
      "outputs": [
        {
          "output_type": "stream",
          "name": "stdout",
          "text": [
            "[2025-03-24T08:38:23.363244] FEATURE_EXTRACTION: Starting comprehensive feature extraction for chatbot model\n"
          ]
        }
      ]
    },
    {
      "cell_type": "markdown",
      "source": [
        "### Subset for testing (without the full dataset)"
      ],
      "metadata": {
        "id": "TTEMpRJMbBVS"
      }
    },
    {
      "cell_type": "code",
      "source": [
        "# Sampling 5,000 from each class\n",
        "bad_urls = df.iloc[:156511].sample(2000, random_state=42)  # First 156,000 rows (bad)\n",
        "good_urls = df.iloc[156511:].sample(2000, random_state=42)  # Remaining rows (good)\n",
        "\n",
        "# Combine the two into a balanced sample\n",
        "df = pd.concat([bad_urls, good_urls]).sample(frac=1, random_state=42)  # Shuffle rows"
      ],
      "metadata": {
        "id": "rpMKkUb0bI0H"
      },
      "execution_count": 37,
      "outputs": []
    },
    {
      "cell_type": "code",
      "source": [
        "url_to_class = dict(zip(df['URL'], df['class']))"
      ],
      "metadata": {
        "id": "1nukHAvT2j1l"
      },
      "execution_count": null,
      "outputs": []
    },
    {
      "cell_type": "markdown",
      "source": [
        "### Process URLs in batches"
      ],
      "metadata": {
        "id": "4fXAq6co0pA_"
      }
    },
    {
      "cell_type": "code",
      "source": [
        "def process_url_batch(urls_batch):\n",
        "    results = []\n",
        "    for url in urls_batch:\n",
        "        try:\n",
        "            features = extract_url_features(url)\n",
        "            results.append(features)\n",
        "        except Exception as e:\n",
        "            # Log error and use default values\n",
        "            log_event(\"ERROR\", f\"Failed to extract features for URL: {url[:50]}... - {str(e)}\")\n",
        "            results.append({\n",
        "                'UsingIP': 0, 'LongURL': 0, 'ShortURL': 0, 'Symbol@': 0,\n",
        "                'Redirecting//': 0, 'PrefixSuffix-': 0, 'SubDomains': 0,\n",
        "                'HTTPS': 0, 'DomainRegLen': 0, 'Favicon': 0, 'NonStdPort': 0,\n",
        "                'HTTPSDomainURL': 0, 'RequestURL': 0, 'AnchorURL': 0,\n",
        "                'LinksInScriptTags': 0, 'ServerFormHandler': 0, 'InfoEmail': 0,\n",
        "                'AbnormalURL': 0, 'WebsiteForwarding': 0, 'StatusBarCust': 0,\n",
        "                'DisableRightClick': 0, 'UsingPopupWindow': 0, 'IframeRedirection': 0,\n",
        "                'AgeofDomain': 0, 'DNSRecording': 0, 'WebsiteTraffic': 0,\n",
        "                'PageRank': 0, 'GoogleIndex': 0, 'LinksPointingToPage': 0,\n",
        "                'StatsReport': 0\n",
        "            })\n",
        "    return results"
      ],
      "metadata": {
        "id": "X0nanGLV0rYL"
      },
      "execution_count": 38,
      "outputs": []
    },
    {
      "cell_type": "markdown",
      "source": [
        "### Process in smaller batches to avoid memory issues"
      ],
      "metadata": {
        "id": "qW5EXQez00kd"
      }
    },
    {
      "cell_type": "code",
      "source": [
        "batch_size = 50\n",
        "all_results = []\n",
        "all_classes = []\n",
        "url_list = df['URL'].tolist()\n",
        "total_batches = (len(url_list) + batch_size - 1)"
      ],
      "metadata": {
        "id": "HBOfMoD001Xa"
      },
      "execution_count": 39,
      "outputs": []
    },
    {
      "cell_type": "code",
      "source": [
        "log_event(\"FEATURE_EXTRACTION\", f\"Processing {len(url_list)} URLs in {total_batches} batches\")\n",
        "start_time = time.time()"
      ],
      "metadata": {
        "colab": {
          "base_uri": "https://localhost:8080/"
        },
        "id": "drEBzLTi08vk",
        "outputId": "a0c78ae4-12e6-4e91-c27e-b7682c1d555f"
      },
      "execution_count": 40,
      "outputs": [
        {
          "output_type": "stream",
          "name": "stdout",
          "text": [
            "[2025-03-24T08:38:30.931157] FEATURE_EXTRACTION: Processing 4000 URLs in 4049 batches\n"
          ]
        }
      ]
    },
    {
      "cell_type": "markdown",
      "source": [
        "### Empty features DataFrame"
      ],
      "metadata": {
        "id": "4AUfhazAk1vl"
      }
    },
    {
      "cell_type": "code",
      "source": [
        "empty_features = {\n",
        "    'UsingIP': 0, 'LongURL': 0, 'ShortURL': 0, 'Symbol@': 0,\n",
        "    'Redirecting//': 0, 'PrefixSuffix-': 0, 'SubDomains': 0,\n",
        "    'HTTPS': 0, 'DomainRegLen': 0, 'Favicon': 0, 'NonStdPort': 0,\n",
        "    'HTTPSDomainURL': 0, 'RequestURL': 0, 'AnchorURL': 0,\n",
        "    'LinksInScriptTags': 0, 'ServerFormHandler': 0, 'InfoEmail': 0,\n",
        "    'AbnormalURL': 0, 'WebsiteForwarding': 0, 'StatusBarCust': 0,\n",
        "    'DisableRightClick': 0, 'UsingPopupWindow': 0, 'IframeRedirection': 0,\n",
        "    'AgeofDomain': 0, 'DNSRecording': 0, 'WebsiteTraffic': 0,\n",
        "    'PageRank': 0, 'GoogleIndex': 0, 'LinksPointingToPage': 0,\n",
        "    'StatsReport': 0\n",
        "}"
      ],
      "metadata": {
        "id": "MTDvRyhGk4OL"
      },
      "execution_count": 41,
      "outputs": []
    },
    {
      "cell_type": "code",
      "source": [
        "with ThreadPoolExecutor(max_workers=16) as executor:\n",
        "    for i in tqdm(range(0, len(url_list), batch_size)):\n",
        "        batch = url_list[i:i+batch_size]\n",
        "\n",
        "        # Keep track of the correct classes for this batch\n",
        "        batch_classes = [url_to_class[url] for url in batch]\n",
        "\n",
        "        future_to_url = {executor.submit(extract_url_features, url): url for url in batch}\n",
        "\n",
        "        batch_results = []\n",
        "        batch_processed_classes = []  # Classes corresponding to successfully processed URLs\n",
        "\n",
        "        for future in as_completed(future_to_url):\n",
        "            url = future_to_url[future]\n",
        "            try:\n",
        "                features = future.result()\n",
        "                batch_results.append(features)\n",
        "                # Add the corresponding class\n",
        "                batch_processed_classes.append(url_to_class[url])\n",
        "            except Exception as e:\n",
        "                log_event(\"ERROR\", f\"Failed to extract features for URL: {url[:50]}... - {str(e)}\")\n",
        "                batch_results.append(empty_features.copy())\n",
        "                # Still add the class even if feature extraction failed\n",
        "                batch_processed_classes.append(url_to_class[url])\n",
        "\n",
        "        all_results.extend(batch_results)\n",
        "        all_classes.extend(batch_processed_classes)\n",
        "\n",
        "        # Save intermediate results with the correct classes\n",
        "        if i % (batch_size * 5) == 0:\n",
        "            intermediate_df = pd.DataFrame(all_results)\n",
        "            intermediate_df['is_phishing'] = all_classes  # Use the tracked classes\n",
        "            intermediate_df.to_csv(f'{BASE_PATH}/data/processed/chatbot/intermediate_features_{i}.csv', index=False)"
      ],
      "metadata": {
        "colab": {
          "base_uri": "https://localhost:8080/",
          "height": 1000,
          "referenced_widgets": [
            "5b65e165a3e94e82a5f81a4ea415e14c",
            "00eee2705c5f41ee96e8632a9f879dac",
            "1896b559e7cb499ea5fcda57bfd69c94",
            "1d49ef087c3146509b80da12f006731c",
            "e73d824d20834aa7b3ca2bac8b019b04",
            "be758cfb5c17400cb4279817724600e7",
            "d0e4cfdae0684076960270b0e8ee298f",
            "4d589bccc8484e4c8eec72d159dd22c9",
            "0828d966761e48e1ac5cb0e6d2efcbb5",
            "b1a6cdde4ade48f1a1f2aff46dbee07f",
            "b59ef7885d90461a804652ce455497bc"
          ]
        },
        "id": "14lyHtWu0_Lw",
        "outputId": "779ece46-d7b7-4b4c-ed9c-056d9a1fad88"
      },
      "execution_count": 42,
      "outputs": [
        {
          "output_type": "display_data",
          "data": {
            "text/plain": [
              "  0%|          | 0/80 [00:00<?, ?it/s]"
            ],
            "application/vnd.jupyter.widget-view+json": {
              "version_major": 2,
              "version_minor": 0,
              "model_id": "5b65e165a3e94e82a5f81a4ea415e14c"
            }
          },
          "metadata": {}
        },
        {
          "output_type": "stream",
          "name": "stderr",
          "text": [
            "2025-03-24 08:38:54,866 - whois.whois - ERROR - Error trying to connect to socket: closing socket - [Errno -2] Name or service not known\n",
            "ERROR:whois.whois:Error trying to connect to socket: closing socket - [Errno -2] Name or service not known\n",
            "2025-03-24 08:38:55,333 - whois.whois - ERROR - Error trying to connect to socket: closing socket - [Errno 111] Connection refused\n",
            "ERROR:whois.whois:Error trying to connect to socket: closing socket - [Errno 111] Connection refused\n",
            "2025-03-24 08:39:46,288 - whois.whois - ERROR - Error trying to connect to socket: closing socket - [Errno 111] Connection refused\n",
            "ERROR:whois.whois:Error trying to connect to socket: closing socket - [Errno 111] Connection refused\n",
            "2025-03-24 08:39:57,760 - whois.whois - ERROR - Error trying to connect to socket: closing socket - [Errno -2] Name or service not known\n",
            "ERROR:whois.whois:Error trying to connect to socket: closing socket - [Errno -2] Name or service not known\n",
            "2025-03-24 08:40:04,660 - whois.whois - ERROR - Error trying to connect to socket: closing socket - [Errno -2] Name or service not known\n",
            "ERROR:whois.whois:Error trying to connect to socket: closing socket - [Errno -2] Name or service not known\n",
            "2025-03-24 08:40:06,277 - whois.whois - ERROR - Error trying to connect to socket: closing socket - [Errno 111] Connection refused\n",
            "ERROR:whois.whois:Error trying to connect to socket: closing socket - [Errno 111] Connection refused\n",
            "2025-03-24 08:40:41,558 - whois.whois - ERROR - Error trying to connect to socket: closing socket - [Errno 111] Connection refused\n",
            "ERROR:whois.whois:Error trying to connect to socket: closing socket - [Errno 111] Connection refused\n",
            "2025-03-24 08:41:13,287 - whois.whois - ERROR - Error trying to connect to socket: closing socket - [Errno 111] Connection refused\n",
            "ERROR:whois.whois:Error trying to connect to socket: closing socket - [Errno 111] Connection refused\n",
            "2025-03-24 08:41:23,502 - whois.whois - ERROR - Error trying to connect to socket: closing socket - timed out\n",
            "ERROR:whois.whois:Error trying to connect to socket: closing socket - timed out\n",
            "2025-03-24 08:42:11,166 - whois.whois - ERROR - Error trying to connect to socket: closing socket - [Errno -2] Name or service not known\n",
            "ERROR:whois.whois:Error trying to connect to socket: closing socket - [Errno -2] Name or service not known\n",
            "2025-03-24 08:42:23,923 - whois.whois - ERROR - Error trying to connect to socket: closing socket - [Errno -2] Name or service not known\n",
            "ERROR:whois.whois:Error trying to connect to socket: closing socket - [Errno -2] Name or service not known\n",
            "2025-03-24 08:44:35,225 - whois.whois - ERROR - Error trying to connect to socket: closing socket - [Errno -2] Name or service not known\n",
            "ERROR:whois.whois:Error trying to connect to socket: closing socket - [Errno -2] Name or service not known\n",
            "2025-03-24 08:46:25,371 - whois.whois - ERROR - Error trying to connect to socket: closing socket - [Errno -2] Name or service not known\n",
            "ERROR:whois.whois:Error trying to connect to socket: closing socket - [Errno -2] Name or service not known\n",
            "2025-03-24 08:46:56,322 - whois.whois - ERROR - Error trying to connect to socket: closing socket - timed out\n",
            "ERROR:whois.whois:Error trying to connect to socket: closing socket - timed out\n",
            "2025-03-24 08:47:03,865 - whois.whois - ERROR - Error trying to connect to socket: closing socket - [Errno -2] Name or service not known\n",
            "ERROR:whois.whois:Error trying to connect to socket: closing socket - [Errno -2] Name or service not known\n",
            "2025-03-24 08:47:13,854 - whois.whois - ERROR - Error trying to connect to socket: closing socket - timed out\n",
            "ERROR:whois.whois:Error trying to connect to socket: closing socket - timed out\n",
            "2025-03-24 08:47:42,025 - whois.whois - ERROR - Error trying to connect to socket: closing socket - [Errno -2] Name or service not known\n",
            "ERROR:whois.whois:Error trying to connect to socket: closing socket - [Errno -2] Name or service not known\n",
            "2025-03-24 08:47:51,739 - whois.whois - ERROR - Error trying to connect to socket: closing socket - timed out\n",
            "ERROR:whois.whois:Error trying to connect to socket: closing socket - timed out\n",
            "2025-03-24 08:48:10,972 - whois.whois - ERROR - Error trying to connect to socket: closing socket - timed out\n",
            "ERROR:whois.whois:Error trying to connect to socket: closing socket - timed out\n",
            "2025-03-24 08:48:11,255 - whois.whois - ERROR - Error trying to connect to socket: closing socket - timed out\n",
            "ERROR:whois.whois:Error trying to connect to socket: closing socket - timed out\n",
            "2025-03-24 08:48:30,865 - whois.whois - ERROR - Error trying to connect to socket: closing socket - timed out\n",
            "ERROR:whois.whois:Error trying to connect to socket: closing socket - timed out\n",
            "2025-03-24 08:49:29,936 - whois.whois - ERROR - Error trying to connect to socket: closing socket - [Errno -2] Name or service not known\n",
            "ERROR:whois.whois:Error trying to connect to socket: closing socket - [Errno -2] Name or service not known\n",
            "2025-03-24 08:49:31,361 - whois.whois - ERROR - Error trying to connect to socket: closing socket - [Errno 104] Connection reset by peer\n",
            "ERROR:whois.whois:Error trying to connect to socket: closing socket - [Errno 104] Connection reset by peer\n",
            "2025-03-24 08:49:38,425 - whois.whois - ERROR - Error trying to connect to socket: closing socket - [Errno 111] Connection refused\n",
            "ERROR:whois.whois:Error trying to connect to socket: closing socket - [Errno 111] Connection refused\n",
            "2025-03-24 08:52:19,566 - whois.whois - ERROR - Error trying to connect to socket: closing socket - timed out\n",
            "ERROR:whois.whois:Error trying to connect to socket: closing socket - timed out\n",
            "2025-03-24 08:52:27,182 - whois.whois - ERROR - Error trying to connect to socket: closing socket - [Errno -2] Name or service not known\n",
            "ERROR:whois.whois:Error trying to connect to socket: closing socket - [Errno -2] Name or service not known\n",
            "2025-03-24 08:52:35,477 - whois.whois - ERROR - Error trying to connect to socket: closing socket - timed out\n",
            "ERROR:whois.whois:Error trying to connect to socket: closing socket - timed out\n",
            "2025-03-24 08:53:52,108 - whois.whois - ERROR - Error trying to connect to socket: closing socket - timed out\n",
            "ERROR:whois.whois:Error trying to connect to socket: closing socket - timed out\n",
            "2025-03-24 08:53:53,022 - whois.whois - ERROR - Error trying to connect to socket: closing socket - timed out\n",
            "ERROR:whois.whois:Error trying to connect to socket: closing socket - timed out\n",
            "2025-03-24 08:53:53,504 - whois.whois - ERROR - Error trying to connect to socket: closing socket - timed out\n",
            "ERROR:whois.whois:Error trying to connect to socket: closing socket - timed out\n",
            "2025-03-24 08:54:01,497 - whois.whois - ERROR - Error trying to connect to socket: closing socket - [Errno 111] Connection refused\n",
            "ERROR:whois.whois:Error trying to connect to socket: closing socket - [Errno 111] Connection refused\n",
            "2025-03-24 08:54:02,156 - whois.whois - ERROR - Error trying to connect to socket: closing socket - [Errno -2] Name or service not known\n",
            "ERROR:whois.whois:Error trying to connect to socket: closing socket - [Errno -2] Name or service not known\n",
            "2025-03-24 08:54:23,133 - whois.whois - ERROR - Error trying to connect to socket: closing socket - [Errno -2] Name or service not known\n",
            "ERROR:whois.whois:Error trying to connect to socket: closing socket - [Errno -2] Name or service not known\n",
            "2025-03-24 08:54:39,209 - whois.whois - ERROR - Error trying to connect to socket: closing socket - [Errno -2] Name or service not known\n",
            "ERROR:whois.whois:Error trying to connect to socket: closing socket - [Errno -2] Name or service not known\n",
            "2025-03-24 08:54:52,420 - whois.whois - ERROR - Error trying to connect to socket: closing socket - timed out\n",
            "ERROR:whois.whois:Error trying to connect to socket: closing socket - timed out\n",
            "2025-03-24 08:54:53,165 - whois.whois - ERROR - Error trying to connect to socket: closing socket - [Errno 111] Connection refused\n",
            "ERROR:whois.whois:Error trying to connect to socket: closing socket - [Errno 111] Connection refused\n",
            "2025-03-24 08:55:08,366 - whois.whois - ERROR - Error trying to connect to socket: closing socket - [Errno 104] Connection reset by peer\n",
            "ERROR:whois.whois:Error trying to connect to socket: closing socket - [Errno 104] Connection reset by peer\n",
            "2025-03-24 08:55:16,499 - whois.whois - ERROR - Error trying to connect to socket: closing socket - [Errno -2] Name or service not known\n",
            "ERROR:whois.whois:Error trying to connect to socket: closing socket - [Errno -2] Name or service not known\n",
            "2025-03-24 08:55:22,797 - whois.whois - ERROR - Error trying to connect to socket: closing socket - timed out\n",
            "ERROR:whois.whois:Error trying to connect to socket: closing socket - timed out\n",
            "2025-03-24 08:55:39,035 - whois.whois - ERROR - Error trying to connect to socket: closing socket - [Errno -2] Name or service not known\n",
            "ERROR:whois.whois:Error trying to connect to socket: closing socket - [Errno -2] Name or service not known\n",
            "2025-03-24 08:56:01,400 - whois.whois - ERROR - Error trying to connect to socket: closing socket - [Errno 111] Connection refused\n",
            "ERROR:whois.whois:Error trying to connect to socket: closing socket - [Errno 111] Connection refused\n",
            "2025-03-24 08:56:10,768 - whois.whois - ERROR - Error trying to connect to socket: closing socket - timed out\n",
            "ERROR:whois.whois:Error trying to connect to socket: closing socket - timed out\n",
            "2025-03-24 08:56:29,000 - whois.whois - ERROR - Error trying to connect to socket: closing socket - timed out\n",
            "ERROR:whois.whois:Error trying to connect to socket: closing socket - timed out\n",
            "2025-03-24 08:56:45,022 - whois.whois - ERROR - Error trying to connect to socket: closing socket - timed out\n",
            "ERROR:whois.whois:Error trying to connect to socket: closing socket - timed out\n",
            "2025-03-24 08:56:45,742 - whois.whois - ERROR - Error trying to connect to socket: closing socket - timed out\n",
            "ERROR:whois.whois:Error trying to connect to socket: closing socket - timed out\n",
            "2025-03-24 08:58:08,344 - whois.whois - ERROR - Error trying to connect to socket: closing socket - [Errno 111] Connection refused\n",
            "ERROR:whois.whois:Error trying to connect to socket: closing socket - [Errno 111] Connection refused\n",
            "2025-03-24 08:58:30,502 - whois.whois - ERROR - Error trying to connect to socket: closing socket - timed out\n",
            "ERROR:whois.whois:Error trying to connect to socket: closing socket - timed out\n",
            "2025-03-24 08:59:25,164 - whois.whois - ERROR - Error trying to connect to socket: closing socket - [Errno -2] Name or service not known\n",
            "ERROR:whois.whois:Error trying to connect to socket: closing socket - [Errno -2] Name or service not known\n",
            "2025-03-24 09:00:51,174 - whois.whois - ERROR - Error trying to connect to socket: closing socket - [Errno -2] Name or service not known\n",
            "ERROR:whois.whois:Error trying to connect to socket: closing socket - [Errno -2] Name or service not known\n",
            "2025-03-24 09:01:44,037 - whois.whois - ERROR - Error trying to connect to socket: closing socket - [Errno 111] Connection refused\n",
            "ERROR:whois.whois:Error trying to connect to socket: closing socket - [Errno 111] Connection refused\n",
            "2025-03-24 09:02:05,564 - whois.whois - ERROR - Error trying to connect to socket: closing socket - [Errno 111] Connection refused\n",
            "ERROR:whois.whois:Error trying to connect to socket: closing socket - [Errno 111] Connection refused\n",
            "2025-03-24 09:02:05,914 - whois.whois - ERROR - Error trying to connect to socket: closing socket - [Errno -2] Name or service not known\n",
            "ERROR:whois.whois:Error trying to connect to socket: closing socket - [Errno -2] Name or service not known\n"
          ]
        }
      ]
    },
    {
      "cell_type": "markdown",
      "source": [
        "### Create DataFrame from results"
      ],
      "metadata": {
        "id": "nrpgWgUrNTPS"
      }
    },
    {
      "cell_type": "code",
      "source": [
        "features_df = pd.DataFrame(all_results)"
      ],
      "metadata": {
        "id": "PasRNUoBNXY7"
      },
      "execution_count": 43,
      "outputs": []
    },
    {
      "cell_type": "markdown",
      "source": [
        "### Add the target variable"
      ],
      "metadata": {
        "id": "fbZrh_e0NZWs"
      }
    },
    {
      "cell_type": "code",
      "source": [
        "features_df['is_phishing'] = all_classes"
      ],
      "metadata": {
        "id": "n6wPRvEANbR8"
      },
      "execution_count": 44,
      "outputs": []
    },
    {
      "cell_type": "code",
      "source": [
        "print(\"Class distribution in extracted features:\")\n",
        "print(features_df['is_phishing'].value_counts())\n",
        "\n",
        "# Check if any features have all the same value\n",
        "constant_features = []\n",
        "for col in features_df.columns:\n",
        "    if col != 'is_phishing' and features_df[col].nunique() == 1:\n",
        "        constant_features.append(col)\n",
        "if constant_features:\n",
        "    print(\"Warning: These features have only one unique value:\", constant_features)"
      ],
      "metadata": {
        "id": "SEsZx3Ec3Y7K"
      },
      "execution_count": null,
      "outputs": []
    },
    {
      "cell_type": "markdown",
      "source": [
        "### Calculate feature extraction time"
      ],
      "metadata": {
        "id": "ZhTxA5qeNd2f"
      }
    },
    {
      "cell_type": "code",
      "source": [
        "feature_extraction_time = time.time() - start_time\n",
        "log_event(\"TIMING\", f\"Feature extraction completed in {feature_extraction_time:.2f} seconds\",\n",
        "          {\"num_features\": features_df.shape[1] - 1})"
      ],
      "metadata": {
        "colab": {
          "base_uri": "https://localhost:8080/"
        },
        "id": "3C9Rl7UINei5",
        "outputId": "f5f5cf0f-7bb1-4c89-9902-eebf4ed8cbde"
      },
      "execution_count": 45,
      "outputs": [
        {
          "output_type": "stream",
          "name": "stdout",
          "text": [
            "[2025-03-24T09:03:21.629420] TIMING: Feature extraction completed in 1490.70 seconds\n"
          ]
        }
      ]
    },
    {
      "cell_type": "markdown",
      "source": [
        "### Save the processed features"
      ],
      "metadata": {
        "id": "2ZGoMweUNhQA"
      }
    },
    {
      "cell_type": "code",
      "source": [
        "features_df.to_csv(PROCESSED_DATA_PATH, index=False)\n",
        "log_event(\"DATA_SAVED\", f\"Saved processed features to {PROCESSED_DATA_PATH}\")"
      ],
      "metadata": {
        "colab": {
          "base_uri": "https://localhost:8080/"
        },
        "id": "LgKinK9ENjW5",
        "outputId": "b532ab97-c4db-4057-c10c-8aa77260193c"
      },
      "execution_count": 46,
      "outputs": [
        {
          "output_type": "stream",
          "name": "stdout",
          "text": [
            "[2025-03-24T09:03:23.926396] DATA_SAVED: Saved processed features to /content/drive/MyDrive/PUSL3190/data/processed/chatbot_features.csv\n"
          ]
        }
      ]
    },
    {
      "cell_type": "markdown",
      "source": [
        "## 4. Examine extracted features"
      ],
      "metadata": {
        "id": "iM17UIa7Nm-c"
      }
    },
    {
      "cell_type": "code",
      "source": [
        "# Check unique values in the 'is_phishing' column\n",
        "print(features_df['is_phishing'].unique())\n",
        "\n",
        "# Convert categorical values to numeric if needed\n",
        "if features_df['is_phishing'].dtype == 'object':\n",
        "    # If binary categories like 'bad'/'good' or 'phishing'/'legitimate'\n",
        "    # Adjust the mapping accordingly\n",
        "    features_df['is_phishing'] = features_df['is_phishing'].map({'good': 0, 'bad': 1, 'legitimate': 0, 'phishing': 1})\n",
        "    # Or use pandas' built-in method if you have other categories\n",
        "    # features_df['is_phishing'] = pd.factorize(features_df['is_phishing'])[0]\n",
        "\n",
        "# Find columns with non-numeric data (excluding 'is_phishing')\n",
        "non_numeric_columns = features_df.select_dtypes(include=['object']).columns\n",
        "non_numeric_columns = non_numeric_columns.drop('is_phishing', errors='ignore')  # Exclude 'is_phishing'\n",
        "\n",
        "print(\"Non-numeric columns (excluding is_phishing):\", list(non_numeric_columns))\n",
        "\n",
        "# Convert relevant columns to numeric\n",
        "for col in non_numeric_columns:\n",
        "    features_df[col] = pd.to_numeric(features_df[col], errors='coerce')"
      ],
      "metadata": {
        "colab": {
          "base_uri": "https://localhost:8080/"
        },
        "id": "X16fWR2Mca4h",
        "outputId": "3df75b61-b5ad-44fc-cfe7-1ddcf67f5366"
      },
      "execution_count": 47,
      "outputs": [
        {
          "output_type": "stream",
          "name": "stdout",
          "text": [
            "[nan 'bad']\n",
            "Non-numeric columns (excluding is_phishing): []\n"
          ]
        }
      ]
    },
    {
      "cell_type": "code",
      "source": [
        "print(\"\\nExtracted Features Summary:\")\n",
        "print(features_df.describe())\n",
        "\n",
        "print(\"\\nFeature Correlation with Target:\")\n",
        "correlations = features_df.corr()['is_phishing'].sort_values(ascending=False)\n",
        "print(correlations)"
      ],
      "metadata": {
        "colab": {
          "base_uri": "https://localhost:8080/"
        },
        "id": "2-ojwXgRNpAs",
        "outputId": "0227ff38-061c-4ef3-d2df-78f1b89d2484"
      },
      "execution_count": 48,
      "outputs": [
        {
          "output_type": "stream",
          "name": "stdout",
          "text": [
            "\n",
            "Extracted Features Summary:\n",
            "           UsingIP      LongURL     ShortURL      Symbol@  Redirecting//  \\\n",
            "count  4000.000000  4000.000000  4000.000000  4000.000000    4000.000000   \n",
            "mean      0.029250     0.159500     0.046000     0.007000       0.001500   \n",
            "std       0.168528     0.366187     0.209511     0.083383       0.038706   \n",
            "min       0.000000     0.000000     0.000000     0.000000       0.000000   \n",
            "25%       0.000000     0.000000     0.000000     0.000000       0.000000   \n",
            "50%       0.000000     0.000000     0.000000     0.000000       0.000000   \n",
            "75%       0.000000     0.000000     0.000000     0.000000       0.000000   \n",
            "max       1.000000     1.000000     1.000000     1.000000       1.000000   \n",
            "\n",
            "       PrefixSuffix-   SubDomains        HTTPS  DomainRegLen  AgeofDomain  \\\n",
            "count     4000.00000  4000.000000  4000.000000   4000.000000  4000.000000   \n",
            "mean         0.06875     0.482250     0.000250      0.373250     0.389000   \n",
            "std          0.25306     1.132257     0.015811      0.483728     0.487584   \n",
            "min          0.00000     0.000000     0.000000      0.000000     0.000000   \n",
            "25%          0.00000     0.000000     0.000000      0.000000     0.000000   \n",
            "50%          0.00000     0.000000     0.000000      0.000000     0.000000   \n",
            "75%          0.00000     1.000000     0.000000      1.000000     1.000000   \n",
            "max          1.00000    18.000000     1.000000      1.000000     1.000000   \n",
            "\n",
            "       ...  RequestURL  AnchorURL  LinksInScriptTags  ServerFormHandler  \\\n",
            "count  ...      4000.0     4000.0             4000.0             4000.0   \n",
            "mean   ...         0.0        0.0                0.0                0.0   \n",
            "std    ...         0.0        0.0                0.0                0.0   \n",
            "min    ...         0.0        0.0                0.0                0.0   \n",
            "25%    ...         0.0        0.0                0.0                0.0   \n",
            "50%    ...         0.0        0.0                0.0                0.0   \n",
            "75%    ...         0.0        0.0                0.0                0.0   \n",
            "max    ...         0.0        0.0                0.0                0.0   \n",
            "\n",
            "       WebsiteForwarding  StatusBarCust  DisableRightClick  UsingPopupWindow  \\\n",
            "count             4000.0         4000.0             4000.0            4000.0   \n",
            "mean                 0.0            0.0                0.0               0.0   \n",
            "std                  0.0            0.0                0.0               0.0   \n",
            "min                  0.0            0.0                0.0               0.0   \n",
            "25%                  0.0            0.0                0.0               0.0   \n",
            "50%                  0.0            0.0                0.0               0.0   \n",
            "75%                  0.0            0.0                0.0               0.0   \n",
            "max                  0.0            0.0                0.0               0.0   \n",
            "\n",
            "       IframeRedirection  is_phishing  \n",
            "count             4000.0         48.0  \n",
            "mean                 0.0          1.0  \n",
            "std                  0.0          0.0  \n",
            "min                  0.0          1.0  \n",
            "25%                  0.0          1.0  \n",
            "50%                  0.0          1.0  \n",
            "75%                  0.0          1.0  \n",
            "max                  0.0          1.0  \n",
            "\n",
            "[8 rows x 31 columns]\n",
            "\n",
            "Feature Correlation with Target:\n",
            "UsingIP               NaN\n",
            "LongURL               NaN\n",
            "ShortURL              NaN\n",
            "Symbol@               NaN\n",
            "Redirecting//         NaN\n",
            "PrefixSuffix-         NaN\n",
            "SubDomains            NaN\n",
            "HTTPS                 NaN\n",
            "DomainRegLen          NaN\n",
            "AgeofDomain           NaN\n",
            "NonStdPort            NaN\n",
            "HTTPSDomainURL        NaN\n",
            "AbnormalURL           NaN\n",
            "InfoEmail             NaN\n",
            "DNSRecording          NaN\n",
            "WebsiteTraffic        NaN\n",
            "PageRank              NaN\n",
            "GoogleIndex           NaN\n",
            "LinksPointingToPage   NaN\n",
            "StatsReport           NaN\n",
            "Favicon               NaN\n",
            "RequestURL            NaN\n",
            "AnchorURL             NaN\n",
            "LinksInScriptTags     NaN\n",
            "ServerFormHandler     NaN\n",
            "WebsiteForwarding     NaN\n",
            "StatusBarCust         NaN\n",
            "DisableRightClick     NaN\n",
            "UsingPopupWindow      NaN\n",
            "IframeRedirection     NaN\n",
            "is_phishing           NaN\n",
            "Name: is_phishing, dtype: float64\n"
          ]
        }
      ]
    },
    {
      "cell_type": "markdown",
      "source": [
        "### Create correlation heatmap"
      ],
      "metadata": {
        "id": "FkW3-yc4Nr6-"
      }
    },
    {
      "cell_type": "code",
      "source": [
        "plt.figure(figsize=(14, 12))\n",
        "sns.heatmap(features_df.corr(), annot=False, cmap='coolwarm', fmt='.2f')\n",
        "plt.title('Feature Correlation Matrix')\n",
        "plt.tight_layout()\n",
        "plt.show()"
      ],
      "metadata": {
        "colab": {
          "base_uri": "https://localhost:8080/",
          "height": 1000
        },
        "id": "y2Eo4evuNu-e",
        "outputId": "1ca144bc-d4de-4f79-e0f8-9f23d4dad749"
      },
      "execution_count": 49,
      "outputs": [
        {
          "output_type": "display_data",
          "data": {
            "text/plain": [
              "<Figure size 1400x1200 with 2 Axes>"
            ],
            "image/png": "[encoded data removed]"
          },
          "metadata": {}
        }
      ]
    },
    {
      "cell_type": "markdown",
      "source": [
        "## 5. Model Training"
      ],
      "metadata": {
        "id": "ZW0F0IA1NxKH"
      }
    },
    {
      "cell_type": "code",
      "source": [
        "log_event(\"MODEL_TRAINING\", \"Starting model training with Gradient Boosting\")\n",
        "start_time = time.time()"
      ],
      "metadata": {
        "colab": {
          "base_uri": "https://localhost:8080/"
        },
        "id": "4K4H7BF1Nzj0",
        "outputId": "b7292a8c-5745-4cf5-d81f-a7827d464125"
      },
      "execution_count": 50,
      "outputs": [
        {
          "output_type": "stream",
          "name": "stdout",
          "text": [
            "[2025-03-24T09:03:50.375189] MODEL_TRAINING: Starting model training with Gradient Boosting\n"
          ]
        }
      ]
    },
    {
      "cell_type": "markdown",
      "source": [
        "### Prepare features and target"
      ],
      "metadata": {
        "id": "EwyozjhVN1cQ"
      }
    },
    {
      "cell_type": "code",
      "source": [
        "X = features_df.drop('is_phishing', axis=1)\n",
        "y = features_df['is_phishing']"
      ],
      "metadata": {
        "id": "aysxmlVFN3UT"
      },
      "execution_count": 51,
      "outputs": []
    },
    {
      "cell_type": "markdown",
      "source": [
        "### Split data"
      ],
      "metadata": {
        "id": "Wrx512RRN4vn"
      }
    },
    {
      "cell_type": "code",
      "source": [
        "features_df.dropna(subset=['is_phishing'], inplace=True)\n",
        "\n",
        "X = features_df.drop('is_phishing', axis=1)  # is_phishing is the target\n",
        "y = features_df['is_phishing']"
      ],
      "metadata": {
        "id": "ArLQE0bbcyJ4"
      },
      "execution_count": 52,
      "outputs": []
    },
    {
      "cell_type": "code",
      "source": [
        "X_train, X_test, y_train, y_test = train_test_split(X, y, test_size=0.2, random_state=42, stratify=y)"
      ],
      "metadata": {
        "id": "vUM-wNYFN61O"
      },
      "execution_count": 53,
      "outputs": []
    },
    {
      "cell_type": "code",
      "source": [
        "print(\"y_train unique values:\", y_train.unique())\n",
        "print(\"y_train value counts:\", y_train.value_counts())\n",
        "print(\"y_test unique values:\", y_test.unique())\n",
        "print(\"y_test value counts:\", y_test.value_counts())"
      ],
      "metadata": {
        "colab": {
          "base_uri": "https://localhost:8080/"
        },
        "id": "rOdhBzoNd8ZF",
        "outputId": "af4be58e-1b7a-4856-b446-fe8d6de93ba9"
      },
      "execution_count": 64,
      "outputs": [
        {
          "output_type": "stream",
          "name": "stdout",
          "text": [
            "y_train unique values: [1.]\n",
            "y_train value counts: is_phishing\n",
            "1.0    38\n",
            "Name: count, dtype: int64\n",
            "y_test unique values: [1.]\n",
            "y_test value counts: is_phishing\n",
            "1.0    10\n",
            "Name: count, dtype: int64\n"
          ]
        }
      ]
    },
    {
      "cell_type": "code",
      "source": [
        "# Check if we have both classes in the training data\n",
        "if y_train.nunique() < 2:\n",
        "    print(\"WARNING: Only one class found in training data!\")\n",
        "\n",
        "    # Get the counts of each class in the original data\n",
        "    original_counts = features_df['is_phishing'].value_counts()\n",
        "    print(\"Original class distribution:\", original_counts)\n",
        "\n",
        "    # Approach 1: Resample to get a balanced dataset\n",
        "    # First, separate by class\n",
        "    phishing_samples = features_df[features_df['is_phishing'] == 1]\n",
        "    legitimate_samples = features_df[features_df['is_phishing'] == 0]\n",
        "\n",
        "    # Ensure we have some of each\n",
        "    if len(phishing_samples) == 0 or len(legitimate_samples) == 0:\n",
        "        print(\"ERROR: Missing one class entirely in the dataset!\")\n",
        "        # Generate synthetic samples for the missing class\n",
        "        if len(phishing_samples) == 0:\n",
        "            # Create a few synthetic phishing samples\n",
        "            # For simplicity, copy a legitimate sample and flip the label\n",
        "            synthetic_phishing = legitimate_samples.iloc[:100].copy()\n",
        "            synthetic_phishing['is_phishing'] = 1\n",
        "            features_df = pd.concat([features_df, synthetic_phishing])\n",
        "        if len(legitimate_samples) == 0:\n",
        "            # Create a few synthetic legitimate samples\n",
        "            synthetic_legitimate = phishing_samples.iloc[:100].copy()\n",
        "            synthetic_legitimate['is_phishing'] = 0\n",
        "            features_df = pd.concat([features_df, synthetic_legitimate])\n",
        "\n",
        "    # Take a balanced sample\n",
        "    min_class_size = min(len(phishing_samples), len(legitimate_samples))\n",
        "    if min_class_size > 100:  # Ensure we have enough samples\n",
        "        # Sample equally from both classes\n",
        "        balanced_phishing = phishing_samples.sample(min_class_size, random_state=42)\n",
        "        balanced_legitimate = legitimate_samples.sample(min_class_size, random_state=42)\n",
        "\n",
        "        # Create a new balanced dataset\n",
        "        balanced_df = pd.concat([balanced_phishing, balanced_legitimate])\n",
        "\n",
        "        # Shuffle it\n",
        "        balanced_df = balanced_df.sample(frac=1, random_state=42)\n",
        "\n",
        "        # Update X and y\n",
        "        X = balanced_df.drop('is_phishing', axis=1)\n",
        "        y = balanced_df['is_phishing']\n",
        "\n",
        "        # Split again\n",
        "        X_train, X_test, y_train, y_test = train_test_split(X, y, test_size=0.2, random_state=42, stratify=y)\n",
        "\n",
        "        # Verify the new distribution\n",
        "        print(\"New class distribution in training data:\")\n",
        "        print(y_train.value_counts())\n",
        "\n",
        "        # Scale the features again\n",
        "        scaler = StandardScaler()\n",
        "        X_train_scaled = scaler.fit_transform(X_train)\n",
        "        X_test_scaled = scaler.transform(X_test)"
      ],
      "metadata": {
        "colab": {
          "base_uri": "https://localhost:8080/"
        },
        "id": "atTraC_nb1jb",
        "outputId": "3fdfdf9b-bfc6-42bb-d8fa-f5af3a244876"
      },
      "execution_count": 65,
      "outputs": [
        {
          "output_type": "stream",
          "name": "stdout",
          "text": [
            "WARNING: Only one class found in training data!\n",
            "Original class distribution: is_phishing\n",
            "1.0    48\n",
            "Name: count, dtype: int64\n",
            "ERROR: Missing one class entirely in the dataset!\n"
          ]
        }
      ]
    },
    {
      "cell_type": "markdown",
      "source": [
        "### Log the data split information"
      ],
      "metadata": {
        "id": "uSfDaOybN_Gi"
      }
    },
    {
      "cell_type": "code",
      "source": [
        "log_event(\"DATA_SPLIT\", \"Data split into training and testing sets\",\n",
        "          {\"train_samples\": X_train.shape[0], \"test_samples\": X_test.shape[0]})"
      ],
      "metadata": {
        "colab": {
          "base_uri": "https://localhost:8080/"
        },
        "id": "_-o4LYdXOBbc",
        "outputId": "f07ad571-87ca-4502-b297-da92ea523b59"
      },
      "execution_count": 60,
      "outputs": [
        {
          "output_type": "stream",
          "name": "stdout",
          "text": [
            "[2025-03-24T09:05:31.708695] DATA_SPLIT: Data split into training and testing sets\n"
          ]
        }
      ]
    },
    {
      "cell_type": "markdown",
      "source": [
        "### Feature scaling"
      ],
      "metadata": {
        "id": "ql6jtolROECQ"
      }
    },
    {
      "cell_type": "code",
      "source": [
        "scaler = StandardScaler()\n",
        "X_train_scaled = scaler.fit_transform(X_train)\n",
        "X_test_scaled = scaler.transform(X_test)"
      ],
      "metadata": {
        "id": "tZMryOTnOFzZ"
      },
      "execution_count": 61,
      "outputs": []
    },
    {
      "cell_type": "code",
      "source": [
        "# After feature extraction, before model training\n",
        "print(\"NaN values in features_df:\", features_df.isna().sum().sum())\n",
        "print(\"Infinity values in features_df:\", np.isinf(features_df.select_dtypes(include=['float64'])).sum().sum())\n",
        "\n",
        "# Handle any NaN or infinite values\n",
        "features_df = features_df.replace([np.inf, -np.inf], np.nan)\n",
        "features_df = features_df.fillna(0)  # Replace NaNs with zeros"
      ],
      "metadata": {
        "colab": {
          "base_uri": "https://localhost:8080/"
        },
        "id": "MwkdYpNQcHB_",
        "outputId": "d3e3438b-54cf-409c-e091-dfff3d3ce682"
      },
      "execution_count": 66,
      "outputs": [
        {
          "output_type": "stream",
          "name": "stdout",
          "text": [
            "NaN values in features_df: 0\n",
            "Infinity values in features_df: 0\n"
          ]
        }
      ]
    },
    {
      "cell_type": "code",
      "source": [
        "# Debug: Check original class distribution\n",
        "print(\"Original class distribution:\")\n",
        "print(features_df['is_phishing'].value_counts())\n",
        "\n",
        "# Handle missing values\n",
        "features_df = features_df.replace([np.inf, -np.inf], np.nan)\n",
        "features_df = features_df.fillna(0)  # Replace NaNs with zeros\n",
        "\n",
        "# Ensure target is correctly formatted\n",
        "if features_df['is_phishing'].dtype == 'object':\n",
        "    print(\"Converting target variable from object to numeric\")\n",
        "    map_dict = {'phishing': 1, 'legitimate': 0, 'bad': 1, 'good': 0}\n",
        "    features_df['is_phishing'] = features_df['is_phishing'].map(map_dict)\n",
        "\n",
        "# Force target to be int (0 or 1)\n",
        "features_df['is_phishing'] = features_df['is_phishing'].astype(int)\n",
        "\n",
        "# Prepare features and target\n",
        "X = features_df.drop('is_phishing', axis=1)\n",
        "y = features_df['is_phishing']\n",
        "\n",
        "# Debug: Verify class distribution\n",
        "print(\"After processing, class distribution:\")\n",
        "print(y.value_counts())\n",
        "\n",
        "# Split data with stratification to preserve class balance\n",
        "X_train, X_test, y_train, y_test = train_test_split(\n",
        "    X, y, test_size=0.2, random_state=42, stratify=y)\n",
        "\n",
        "# Check if we have at least 2 classes in training data\n",
        "print(\"Training data class distribution:\")\n",
        "print(y_train.value_counts())\n",
        "\n",
        "if y_train.nunique() < 2:\n",
        "    print(\"WARNING: Only one class found in training data! Rebalancing...\")\n",
        "\n",
        "    # Take a balanced sample from original data\n",
        "    phishing_samples = features_df[features_df['is_phishing'] == 1]\n",
        "    legitimate_samples = features_df[features_df['is_phishing'] == 0]\n",
        "\n",
        "    min_class_size = min(len(phishing_samples), len(legitimate_samples))\n",
        "    if min_class_size > 0:\n",
        "        # Sample equally from both classes\n",
        "        balanced_phishing = phishing_samples.sample(\n",
        "            min(min_class_size, 1000), random_state=42, replace=(len(phishing_samples) < 1000))\n",
        "        balanced_legitimate = legitimate_samples.sample(\n",
        "            min(min_class_size, 1000), random_state=42, replace=(len(legitimate_samples) < 1000))\n",
        "\n",
        "        # Create a new balanced dataset\n",
        "        balanced_df = pd.concat([balanced_phishing, balanced_legitimate])\n",
        "\n",
        "        # Shuffle it\n",
        "        balanced_df = balanced_df.sample(frac=1, random_state=42)\n",
        "\n",
        "        # Update X and y\n",
        "        X = balanced_df.drop('is_phishing', axis=1)\n",
        "        y = balanced_df['is_phishing']\n",
        "\n",
        "        # Split again\n",
        "        X_train, X_test, y_train, y_test = train_test_split(\n",
        "            X, y, test_size=0.2, random_state=42, stratify=y)\n",
        "\n",
        "        # Verify the new distribution\n",
        "        print(\"After rebalancing, training data class distribution:\")\n",
        "        print(y_train.value_counts())\n",
        "\n",
        "# Feature scaling\n",
        "scaler = StandardScaler()\n",
        "X_train_scaled = scaler.fit_transform(X_train)\n",
        "X_test_scaled = scaler.transform(X_test)\n",
        "\n",
        "# Final verification before model training\n",
        "if y_train.nunique() < 2:\n",
        "    raise ValueError(\"Failed to create a balanced dataset with at least 2 classes\")\n",
        "\n",
        "print(\"Final verification - unique classes in training data:\", y_train.nunique())\n",
        "print(\"Final class distribution:\", y_train.value_counts())"
      ],
      "metadata": {
        "colab": {
          "base_uri": "https://localhost:8080/"
        },
        "id": "t7L4lOzIcqjS",
        "outputId": "95ffdc1e-d3b8-4ac7-d330-004dd7d1ea95"
      },
      "execution_count": 68,
      "outputs": [
        {
          "output_type": "stream",
          "name": "stdout",
          "text": [
            "Original class distribution:\n",
            "is_phishing\n",
            "1.0    48\n",
            "0.0    48\n",
            "Name: count, dtype: int64\n",
            "After processing, class distribution:\n",
            "is_phishing\n",
            "1    48\n",
            "0    48\n",
            "Name: count, dtype: int64\n",
            "Training data class distribution:\n",
            "is_phishing\n",
            "0    38\n",
            "1    38\n",
            "Name: count, dtype: int64\n",
            "Final verification - unique classes in training data: 2\n",
            "Final class distribution: is_phishing\n",
            "0    38\n",
            "1    38\n",
            "Name: count, dtype: int64\n"
          ]
        }
      ]
    },
    {
      "cell_type": "markdown",
      "source": [
        "### Train Gradient Boosting model"
      ],
      "metadata": {
        "id": "Hd3H2_diOHWq"
      }
    },
    {
      "cell_type": "code",
      "source": [
        "gb_model = GradientBoostingClassifier(\n",
        "    n_estimators=100,\n",
        "    learning_rate=0.1,\n",
        "    max_depth=5,\n",
        "    min_samples_split=200,\n",
        "    min_samples_leaf=50,\n",
        "    subsample=0.8,\n",
        "    random_state=42\n",
        ")"
      ],
      "metadata": {
        "id": "-bm4bE3vOJbS"
      },
      "execution_count": 69,
      "outputs": []
    },
    {
      "cell_type": "code",
      "source": [
        "gb_model.fit(X_train_scaled, y_train)"
      ],
      "metadata": {
        "colab": {
          "base_uri": "https://localhost:8080/",
          "height": 115
        },
        "id": "LRUmw71WOOd4",
        "outputId": "a8d8d59e-91a7-480a-b907-003f4b81078c"
      },
      "execution_count": 70,
      "outputs": [
        {
          "output_type": "execute_result",
          "data": {
            "text/plain": [
              "GradientBoostingClassifier(max_depth=5, min_samples_leaf=50,\n",
              "                           min_samples_split=200, random_state=42,\n",
              "                           subsample=0.8)"
            ],
            "text/html": [
              "<style>#sk-container-id-1 {\n",
              "  /* Definition of color scheme common for light and dark mode */\n",
              "  --sklearn-color-text: #000;\n",
              "  --sklearn-color-text-muted: #666;\n",
              "  --sklearn-color-line: gray;\n",
              "  /* Definition of color scheme for unfitted estimators */\n",
              "  --sklearn-color-unfitted-level-0: #fff5e6;\n",
              "  --sklearn-color-unfitted-level-1: #f6e4d2;\n",
              "  --sklearn-color-unfitted-level-2: #ffe0b3;\n",
              "  --sklearn-color-unfitted-level-3: chocolate;\n",
              "  /* Definition of color scheme for fitted estimators */\n",
              "  --sklearn-color-fitted-level-0: #f0f8ff;\n",
              "  --sklearn-color-fitted-level-1: #d4ebff;\n",
              "  --sklearn-color-fitted-level-2: #b3dbfd;\n",
              "  --sklearn-color-fitted-level-3: cornflowerblue;\n",
              "\n",
              "  /* Specific color for light theme */\n",
              "  --sklearn-color-text-on-default-background: var(--sg-text-color, var(--theme-code-foreground, var(--jp-content-font-color1, black)));\n",
              "  --sklearn-color-background: var(--sg-background-color, var(--theme-background, var(--jp-layout-color0, white)));\n",
              "  --sklearn-color-border-box: var(--sg-text-color, var(--theme-code-foreground, var(--jp-content-font-color1, black)));\n",
              "  --sklearn-color-icon: #696969;\n",
              "\n",
              "  @media (prefers-color-scheme: dark) {\n",
              "    /* Redefinition of color scheme for dark theme */\n",
              "    --sklearn-color-text-on-default-background: var(--sg-text-color, var(--theme-code-foreground, var(--jp-content-font-color1, white)));\n",
              "    --sklearn-color-background: var(--sg-background-color, var(--theme-background, var(--jp-layout-color0, #111)));\n",
              "    --sklearn-color-border-box: var(--sg-text-color, var(--theme-code-foreground, var(--jp-content-font-color1, white)));\n",
              "    --sklearn-color-icon: #878787;\n",
              "  }\n",
              "}\n",
              "\n",
              "#sk-container-id-1 {\n",
              "  color: var(--sklearn-color-text);\n",
              "}\n",
              "\n",
              "#sk-container-id-1 pre {\n",
              "  padding: 0;\n",
              "}\n",
              "\n",
              "#sk-container-id-1 input.sk-hidden--visually {\n",
              "  border: 0;\n",
              "  clip: rect(1px 1px 1px 1px);\n",
              "  clip: rect(1px, 1px, 1px, 1px);\n",
              "  height: 1px;\n",
              "  margin: -1px;\n",
              "  overflow: hidden;\n",
              "  padding: 0;\n",
              "  position: absolute;\n",
              "  width: 1px;\n",
              "}\n",
              "\n",
              "#sk-container-id-1 div.sk-dashed-wrapped {\n",
              "  border: 1px dashed var(--sklearn-color-line);\n",
              "  margin: 0 0.4em 0.5em 0.4em;\n",
              "  box-sizing: border-box;\n",
              "  padding-bottom: 0.4em;\n",
              "  background-color: var(--sklearn-color-background);\n",
              "}\n",
              "\n",
              "#sk-container-id-1 div.sk-container {\n",
              "  /* jupyter's `normalize.less` sets `[hidden] { display: none; }`\n",
              "     but bootstrap.min.css set `[hidden] { display: none !important; }`\n",
              "     so we also need the `!important` here to be able to override the\n",
              "     default hidden behavior on the sphinx rendered scikit-learn.org.\n",
              "     See: https://github.com/scikit-learn/scikit-learn/issues/21755 */\n",
              "  display: inline-block !important;\n",
              "  position: relative;\n",
              "}\n",
              "\n",
              "#sk-container-id-1 div.sk-text-repr-fallback {\n",
              "  display: none;\n",
              "}\n",
              "\n",
              "div.sk-parallel-item,\n",
              "div.sk-serial,\n",
              "div.sk-item {\n",
              "  /* draw centered vertical line to link estimators */\n",
              "  background-image: linear-gradient(var(--sklearn-color-text-on-default-background), var(--sklearn-color-text-on-default-background));\n",
              "  background-size: 2px 100%;\n",
              "  background-repeat: no-repeat;\n",
              "  background-position: center center;\n",
              "}\n",
              "\n",
              "/* Parallel-specific style estimator block */\n",
              "\n",
              "#sk-container-id-1 div.sk-parallel-item::after {\n",
              "  content: \"\";\n",
              "  width: 100%;\n",
              "  border-bottom: 2px solid var(--sklearn-color-text-on-default-background);\n",
              "  flex-grow: 1;\n",
              "}\n",
              "\n",
              "#sk-container-id-1 div.sk-parallel {\n",
              "  display: flex;\n",
              "  align-items: stretch;\n",
              "  justify-content: center;\n",
              "  background-color: var(--sklearn-color-background);\n",
              "  position: relative;\n",
              "}\n",
              "\n",
              "#sk-container-id-1 div.sk-parallel-item {\n",
              "  display: flex;\n",
              "  flex-direction: column;\n",
              "}\n",
              "\n",
              "#sk-container-id-1 div.sk-parallel-item:first-child::after {\n",
              "  align-self: flex-end;\n",
              "  width: 50%;\n",
              "}\n",
              "\n",
              "#sk-container-id-1 div.sk-parallel-item:last-child::after {\n",
              "  align-self: flex-start;\n",
              "  width: 50%;\n",
              "}\n",
              "\n",
              "#sk-container-id-1 div.sk-parallel-item:only-child::after {\n",
              "  width: 0;\n",
              "}\n",
              "\n",
              "/* Serial-specific style estimator block */\n",
              "\n",
              "#sk-container-id-1 div.sk-serial {\n",
              "  display: flex;\n",
              "  flex-direction: column;\n",
              "  align-items: center;\n",
              "  background-color: var(--sklearn-color-background);\n",
              "  padding-right: 1em;\n",
              "  padding-left: 1em;\n",
              "}\n",
              "\n",
              "\n",
              "/* Toggleable style: style used for estimator/Pipeline/ColumnTransformer box that is\n",
              "clickable and can be expanded/collapsed.\n",
              "- Pipeline and ColumnTransformer use this feature and define the default style\n",
              "- Estimators will overwrite some part of the style using the `sk-estimator` class\n",
              "*/\n",
              "\n",
              "/* Pipeline and ColumnTransformer style (default) */\n",
              "\n",
              "#sk-container-id-1 div.sk-toggleable {\n",
              "  /* Default theme specific background. It is overwritten whether we have a\n",
              "  specific estimator or a Pipeline/ColumnTransformer */\n",
              "  background-color: var(--sklearn-color-background);\n",
              "}\n",
              "\n",
              "/* Toggleable label */\n",
              "#sk-container-id-1 label.sk-toggleable__label {\n",
              "  cursor: pointer;\n",
              "  display: flex;\n",
              "  width: 100%;\n",
              "  margin-bottom: 0;\n",
              "  padding: 0.5em;\n",
              "  box-sizing: border-box;\n",
              "  text-align: center;\n",
              "  align-items: start;\n",
              "  justify-content: space-between;\n",
              "  gap: 0.5em;\n",
              "}\n",
              "\n",
              "#sk-container-id-1 label.sk-toggleable__label .caption {\n",
              "  font-size: 0.6rem;\n",
              "  font-weight: lighter;\n",
              "  color: var(--sklearn-color-text-muted);\n",
              "}\n",
              "\n",
              "#sk-container-id-1 label.sk-toggleable__label-arrow:before {\n",
              "  /* Arrow on the left of the label */\n",
              "  content: \"▸\";\n",
              "  float: left;\n",
              "  margin-right: 0.25em;\n",
              "  color: var(--sklearn-color-icon);\n",
              "}\n",
              "\n",
              "#sk-container-id-1 label.sk-toggleable__label-arrow:hover:before {\n",
              "  color: var(--sklearn-color-text);\n",
              "}\n",
              "\n",
              "/* Toggleable content - dropdown */\n",
              "\n",
              "#sk-container-id-1 div.sk-toggleable__content {\n",
              "  max-height: 0;\n",
              "  max-width: 0;\n",
              "  overflow: hidden;\n",
              "  text-align: left;\n",
              "  /* unfitted */\n",
              "  background-color: var(--sklearn-color-unfitted-level-0);\n",
              "}\n",
              "\n",
              "#sk-container-id-1 div.sk-toggleable__content.fitted {\n",
              "  /* fitted */\n",
              "  background-color: var(--sklearn-color-fitted-level-0);\n",
              "}\n",
              "\n",
              "#sk-container-id-1 div.sk-toggleable__content pre {\n",
              "  margin: 0.2em;\n",
              "  border-radius: 0.25em;\n",
              "  color: var(--sklearn-color-text);\n",
              "  /* unfitted */\n",
              "  background-color: var(--sklearn-color-unfitted-level-0);\n",
              "}\n",
              "\n",
              "#sk-container-id-1 div.sk-toggleable__content.fitted pre {\n",
              "  /* unfitted */\n",
              "  background-color: var(--sklearn-color-fitted-level-0);\n",
              "}\n",
              "\n",
              "#sk-container-id-1 input.sk-toggleable__control:checked~div.sk-toggleable__content {\n",
              "  /* Expand drop-down */\n",
              "  max-height: 200px;\n",
              "  max-width: 100%;\n",
              "  overflow: auto;\n",
              "}\n",
              "\n",
              "#sk-container-id-1 input.sk-toggleable__control:checked~label.sk-toggleable__label-arrow:before {\n",
              "  content: \"▾\";\n",
              "}\n",
              "\n",
              "/* Pipeline/ColumnTransformer-specific style */\n",
              "\n",
              "#sk-container-id-1 div.sk-label input.sk-toggleable__control:checked~label.sk-toggleable__label {\n",
              "  color: var(--sklearn-color-text);\n",
              "  background-color: var(--sklearn-color-unfitted-level-2);\n",
              "}\n",
              "\n",
              "#sk-container-id-1 div.sk-label.fitted input.sk-toggleable__control:checked~label.sk-toggleable__label {\n",
              "  background-color: var(--sklearn-color-fitted-level-2);\n",
              "}\n",
              "\n",
              "/* Estimator-specific style */\n",
              "\n",
              "/* Colorize estimator box */\n",
              "#sk-container-id-1 div.sk-estimator input.sk-toggleable__control:checked~label.sk-toggleable__label {\n",
              "  /* unfitted */\n",
              "  background-color: var(--sklearn-color-unfitted-level-2);\n",
              "}\n",
              "\n",
              "#sk-container-id-1 div.sk-estimator.fitted input.sk-toggleable__control:checked~label.sk-toggleable__label {\n",
              "  /* fitted */\n",
              "  background-color: var(--sklearn-color-fitted-level-2);\n",
              "}\n",
              "\n",
              "#sk-container-id-1 div.sk-label label.sk-toggleable__label,\n",
              "#sk-container-id-1 div.sk-label label {\n",
              "  /* The background is the default theme color */\n",
              "  color: var(--sklearn-color-text-on-default-background);\n",
              "}\n",
              "\n",
              "/* On hover, darken the color of the background */\n",
              "#sk-container-id-1 div.sk-label:hover label.sk-toggleable__label {\n",
              "  color: var(--sklearn-color-text);\n",
              "  background-color: var(--sklearn-color-unfitted-level-2);\n",
              "}\n",
              "\n",
              "/* Label box, darken color on hover, fitted */\n",
              "#sk-container-id-1 div.sk-label.fitted:hover label.sk-toggleable__label.fitted {\n",
              "  color: var(--sklearn-color-text);\n",
              "  background-color: var(--sklearn-color-fitted-level-2);\n",
              "}\n",
              "\n",
              "/* Estimator label */\n",
              "\n",
              "#sk-container-id-1 div.sk-label label {\n",
              "  font-family: monospace;\n",
              "  font-weight: bold;\n",
              "  display: inline-block;\n",
              "  line-height: 1.2em;\n",
              "}\n",
              "\n",
              "#sk-container-id-1 div.sk-label-container {\n",
              "  text-align: center;\n",
              "}\n",
              "\n",
              "/* Estimator-specific */\n",
              "#sk-container-id-1 div.sk-estimator {\n",
              "  font-family: monospace;\n",
              "  border: 1px dotted var(--sklearn-color-border-box);\n",
              "  border-radius: 0.25em;\n",
              "  box-sizing: border-box;\n",
              "  margin-bottom: 0.5em;\n",
              "  /* unfitted */\n",
              "  background-color: var(--sklearn-color-unfitted-level-0);\n",
              "}\n",
              "\n",
              "#sk-container-id-1 div.sk-estimator.fitted {\n",
              "  /* fitted */\n",
              "  background-color: var(--sklearn-color-fitted-level-0);\n",
              "}\n",
              "\n",
              "/* on hover */\n",
              "#sk-container-id-1 div.sk-estimator:hover {\n",
              "  /* unfitted */\n",
              "  background-color: var(--sklearn-color-unfitted-level-2);\n",
              "}\n",
              "\n",
              "#sk-container-id-1 div.sk-estimator.fitted:hover {\n",
              "  /* fitted */\n",
              "  background-color: var(--sklearn-color-fitted-level-2);\n",
              "}\n",
              "\n",
              "/* Specification for estimator info (e.g. \"i\" and \"?\") */\n",
              "\n",
              "/* Common style for \"i\" and \"?\" */\n",
              "\n",
              ".sk-estimator-doc-link,\n",
              "a:link.sk-estimator-doc-link,\n",
              "a:visited.sk-estimator-doc-link {\n",
              "  float: right;\n",
              "  font-size: smaller;\n",
              "  line-height: 1em;\n",
              "  font-family: monospace;\n",
              "  background-color: var(--sklearn-color-background);\n",
              "  border-radius: 1em;\n",
              "  height: 1em;\n",
              "  width: 1em;\n",
              "  text-decoration: none !important;\n",
              "  margin-left: 0.5em;\n",
              "  text-align: center;\n",
              "  /* unfitted */\n",
              "  border: var(--sklearn-color-unfitted-level-1) 1pt solid;\n",
              "  color: var(--sklearn-color-unfitted-level-1);\n",
              "}\n",
              "\n",
              ".sk-estimator-doc-link.fitted,\n",
              "a:link.sk-estimator-doc-link.fitted,\n",
              "a:visited.sk-estimator-doc-link.fitted {\n",
              "  /* fitted */\n",
              "  border: var(--sklearn-color-fitted-level-1) 1pt solid;\n",
              "  color: var(--sklearn-color-fitted-level-1);\n",
              "}\n",
              "\n",
              "/* On hover */\n",
              "div.sk-estimator:hover .sk-estimator-doc-link:hover,\n",
              ".sk-estimator-doc-link:hover,\n",
              "div.sk-label-container:hover .sk-estimator-doc-link:hover,\n",
              ".sk-estimator-doc-link:hover {\n",
              "  /* unfitted */\n",
              "  background-color: var(--sklearn-color-unfitted-level-3);\n",
              "  color: var(--sklearn-color-background);\n",
              "  text-decoration: none;\n",
              "}\n",
              "\n",
              "div.sk-estimator.fitted:hover .sk-estimator-doc-link.fitted:hover,\n",
              ".sk-estimator-doc-link.fitted:hover,\n",
              "div.sk-label-container:hover .sk-estimator-doc-link.fitted:hover,\n",
              ".sk-estimator-doc-link.fitted:hover {\n",
              "  /* fitted */\n",
              "  background-color: var(--sklearn-color-fitted-level-3);\n",
              "  color: var(--sklearn-color-background);\n",
              "  text-decoration: none;\n",
              "}\n",
              "\n",
              "/* Span, style for the box shown on hovering the info icon */\n",
              ".sk-estimator-doc-link span {\n",
              "  display: none;\n",
              "  z-index: 9999;\n",
              "  position: relative;\n",
              "  font-weight: normal;\n",
              "  right: .2ex;\n",
              "  padding: .5ex;\n",
              "  margin: .5ex;\n",
              "  width: min-content;\n",
              "  min-width: 20ex;\n",
              "  max-width: 50ex;\n",
              "  color: var(--sklearn-color-text);\n",
              "  box-shadow: 2pt 2pt 4pt #999;\n",
              "  /* unfitted */\n",
              "  background: var(--sklearn-color-unfitted-level-0);\n",
              "  border: .5pt solid var(--sklearn-color-unfitted-level-3);\n",
              "}\n",
              "\n",
              ".sk-estimator-doc-link.fitted span {\n",
              "  /* fitted */\n",
              "  background: var(--sklearn-color-fitted-level-0);\n",
              "  border: var(--sklearn-color-fitted-level-3);\n",
              "}\n",
              "\n",
              ".sk-estimator-doc-link:hover span {\n",
              "  display: block;\n",
              "}\n",
              "\n",
              "/* \"?\"-specific style due to the `<a>` HTML tag */\n",
              "\n",
              "#sk-container-id-1 a.estimator_doc_link {\n",
              "  float: right;\n",
              "  font-size: 1rem;\n",
              "  line-height: 1em;\n",
              "  font-family: monospace;\n",
              "  background-color: var(--sklearn-color-background);\n",
              "  border-radius: 1rem;\n",
              "  height: 1rem;\n",
              "  width: 1rem;\n",
              "  text-decoration: none;\n",
              "  /* unfitted */\n",
              "  color: var(--sklearn-color-unfitted-level-1);\n",
              "  border: var(--sklearn-color-unfitted-level-1) 1pt solid;\n",
              "}\n",
              "\n",
              "#sk-container-id-1 a.estimator_doc_link.fitted {\n",
              "  /* fitted */\n",
              "  border: var(--sklearn-color-fitted-level-1) 1pt solid;\n",
              "  color: var(--sklearn-color-fitted-level-1);\n",
              "}\n",
              "\n",
              "/* On hover */\n",
              "#sk-container-id-1 a.estimator_doc_link:hover {\n",
              "  /* unfitted */\n",
              "  background-color: var(--sklearn-color-unfitted-level-3);\n",
              "  color: var(--sklearn-color-background);\n",
              "  text-decoration: none;\n",
              "}\n",
              "\n",
              "#sk-container-id-1 a.estimator_doc_link.fitted:hover {\n",
              "  /* fitted */\n",
              "  background-color: var(--sklearn-color-fitted-level-3);\n",
              "}\n",
              "</style><div id=\"sk-container-id-1\" class=\"sk-top-container\"><div class=\"sk-text-repr-fallback\"><pre>GradientBoostingClassifier(max_depth=5, min_samples_leaf=50,\n",
              "                           min_samples_split=200, random_state=42,\n",
              "                           subsample=0.8)</pre><b>In a Jupyter environment, please rerun this cell to show the HTML representation or trust the notebook. <br />On GitHub, the HTML representation is unable to render, please try loading this page with nbviewer.org.</b></div><div class=\"sk-container\" hidden><div class=\"sk-item\"><div class=\"sk-estimator fitted sk-toggleable\"><input class=\"sk-toggleable__control sk-hidden--visually\" id=\"sk-estimator-id-1\" type=\"checkbox\" checked><label for=\"sk-estimator-id-1\" class=\"sk-toggleable__label fitted sk-toggleable__label-arrow\"><div><div>GradientBoostingClassifier</div></div><div><a class=\"sk-estimator-doc-link fitted\" rel=\"noreferrer\" target=\"_blank\" href=\"https://scikit-learn.org/1.6/modules/generated/sklearn.ensemble.GradientBoostingClassifier.html\">?<span>Documentation for GradientBoostingClassifier</span></a><span class=\"sk-estimator-doc-link fitted\">i<span>Fitted</span></span></div></label><div class=\"sk-toggleable__content fitted\"><pre>GradientBoostingClassifier(max_depth=5, min_samples_leaf=50,\n",
              "                           min_samples_split=200, random_state=42,\n",
              "                           subsample=0.8)</pre></div> </div></div></div></div>"
            ]
          },
          "metadata": {},
          "execution_count": 70
        }
      ]
    },
    {
      "cell_type": "code",
      "source": [
        "training_time = time.time() - start_time\n",
        "log_event(\"TIMING\", f\"Model training completed in {training_time:.2f} seconds\")"
      ],
      "metadata": {
        "colab": {
          "base_uri": "https://localhost:8080/"
        },
        "id": "jxofEWiMOQDv",
        "outputId": "4e22cb8f-ad3f-4ea6-fd73-32b08f0f9f66"
      },
      "execution_count": 71,
      "outputs": [
        {
          "output_type": "stream",
          "name": "stdout",
          "text": [
            "[2025-03-24T09:23:30.805609] TIMING: Model training completed in 1180.43 seconds\n"
          ]
        }
      ]
    },
    {
      "cell_type": "markdown",
      "source": [
        "## 6. Model Evaluation"
      ],
      "metadata": {
        "id": "GPJdIHsmOSBp"
      }
    },
    {
      "cell_type": "code",
      "source": [
        "log_event(\"MODEL_EVALUATION\", \"Evaluating Gradient Boosting model\")\n",
        "start_time = time.time()"
      ],
      "metadata": {
        "colab": {
          "base_uri": "https://localhost:8080/"
        },
        "id": "0iCam6B9OVtU",
        "outputId": "3a9f8911-915c-4dd8-f2f6-019f64abc403"
      },
      "execution_count": 72,
      "outputs": [
        {
          "output_type": "stream",
          "name": "stdout",
          "text": [
            "[2025-03-24T09:23:33.498900] MODEL_EVALUATION: Evaluating Gradient Boosting model\n"
          ]
        }
      ]
    },
    {
      "cell_type": "markdown",
      "source": [
        "### Make predictions"
      ],
      "metadata": {
        "id": "szURe4ubOXXL"
      }
    },
    {
      "cell_type": "code",
      "source": [
        "y_pred = gb_model.predict(X_test_scaled)\n",
        "y_pred_proba = gb_model.predict_proba(X_test_scaled)[:, 1]"
      ],
      "metadata": {
        "id": "8TH_1UfzOZAT"
      },
      "execution_count": 73,
      "outputs": []
    },
    {
      "cell_type": "markdown",
      "source": [
        "### Calculate metrics"
      ],
      "metadata": {
        "id": "EW0-yFwyObL8"
      }
    },
    {
      "cell_type": "code",
      "source": [
        "accuracy = accuracy_score(y_test, y_pred)\n",
        "precision = precision_score(y_test, y_pred)\n",
        "recall = recall_score(y_test, y_pred)\n",
        "f1 = f1_score(y_test, y_pred)"
      ],
      "metadata": {
        "colab": {
          "base_uri": "https://localhost:8080/"
        },
        "id": "7n0TTM7POdBp",
        "outputId": "aac17dc0-d8d0-4bc3-ceaf-c40d5a93d2a0"
      },
      "execution_count": 74,
      "outputs": [
        {
          "output_type": "stream",
          "name": "stderr",
          "text": [
            "/usr/local/lib/python3.11/dist-packages/sklearn/metrics/_classification.py:1565: UndefinedMetricWarning: Precision is ill-defined and being set to 0.0 due to no predicted samples. Use `zero_division` parameter to control this behavior.\n",
            "  _warn_prf(average, modifier, f\"{metric.capitalize()} is\", len(result))\n"
          ]
        }
      ]
    },
    {
      "cell_type": "markdown",
      "source": [
        "### ROC curve and AUC"
      ],
      "metadata": {
        "id": "QlXDYKH8Oe5a"
      }
    },
    {
      "cell_type": "code",
      "source": [
        "fpr, tpr, _ = roc_curve(y_test, y_pred_proba)\n",
        "roc_auc = auc(fpr, tpr)"
      ],
      "metadata": {
        "id": "T4fp34vbOglI"
      },
      "execution_count": 75,
      "outputs": []
    },
    {
      "cell_type": "markdown",
      "source": [
        "### Log the evaluation metrics"
      ],
      "metadata": {
        "id": "-ozKeZIwOjmh"
      }
    },
    {
      "cell_type": "code",
      "source": [
        "log_event(\"EVALUATION_METRICS\", \"Model performance metrics\", {\n",
        "    \"accuracy\": accuracy,\n",
        "    \"precision\": precision,\n",
        "    \"recall\": recall,\n",
        "    \"f1_score\": f1,\n",
        "    \"auc\": roc_auc\n",
        "})"
      ],
      "metadata": {
        "colab": {
          "base_uri": "https://localhost:8080/"
        },
        "id": "8jwNSl3rOll-",
        "outputId": "6f74931b-1613-46d0-92b7-98dd0e510eac"
      },
      "execution_count": 76,
      "outputs": [
        {
          "output_type": "stream",
          "name": "stdout",
          "text": [
            "[2025-03-24T09:23:52.841845] EVALUATION_METRICS: Model performance metrics\n"
          ]
        }
      ]
    },
    {
      "cell_type": "code",
      "source": [
        "print(\"\\nModel Performance:\")\n",
        "print(f\"Accuracy: {accuracy:.4f}\")\n",
        "print(f\"Precision: {precision:.4f}\")\n",
        "print(f\"Recall: {recall:.4f}\")\n",
        "print(f\"F1 Score: {f1:.4f}\")\n",
        "print(f\"AUC: {roc_auc:.4f}\")"
      ],
      "metadata": {
        "colab": {
          "base_uri": "https://localhost:8080/"
        },
        "id": "WssuFWSmOoC2",
        "outputId": "38592763-33c5-4125-f329-7932a463204f"
      },
      "execution_count": 77,
      "outputs": [
        {
          "output_type": "stream",
          "name": "stdout",
          "text": [
            "\n",
            "Model Performance:\n",
            "Accuracy: 0.5000\n",
            "Precision: 0.0000\n",
            "Recall: 0.0000\n",
            "F1 Score: 0.0000\n",
            "AUC: 0.5000\n"
          ]
        }
      ]
    },
    {
      "cell_type": "markdown",
      "source": [
        "### Plot confusion matrix"
      ],
      "metadata": {
        "id": "vcPGHosEOqYn"
      }
    },
    {
      "cell_type": "code",
      "source": [
        "plt.figure(figsize=(8, 6))\n",
        "cm = confusion_matrix(y_test, y_pred)\n",
        "sns.heatmap(cm, annot=True, fmt='d', cmap='Blues')\n",
        "plt.title('Confusion Matrix')\n",
        "plt.ylabel('True Label')\n",
        "plt.xlabel('Predicted Label')\n",
        "plt.show()"
      ],
      "metadata": {
        "colab": {
          "base_uri": "https://localhost:8080/",
          "height": 564
        },
        "id": "xlbsCgzpOsa5",
        "outputId": "8829fa9b-fd55-4f8c-80d6-e85feb85e862"
      },
      "execution_count": 78,
      "outputs": [
        {
          "output_type": "display_data",
          "data": {
            "text/plain": [
              "<Figure size 800x600 with 2 Axes>"
            ],
            "image/png": "[encoded data removed]"
          },
          "metadata": {}
        }
      ]
    },
    {
      "cell_type": "markdown",
      "source": [
        "### Plot ROC curve"
      ],
      "metadata": {
        "id": "yVsXIkWSOuRM"
      }
    },
    {
      "cell_type": "code",
      "source": [
        "plt.figure(figsize=(8, 6))\n",
        "plt.plot(fpr, tpr, color='blue', lw=2, label=f'ROC curve (area = {roc_auc:.2f})')\n",
        "plt.plot([0, 1], [0, 1], color='gray', lw=2, linestyle='--')\n",
        "plt.xlim([0.0, 1.0])\n",
        "plt.ylim([0.0, 1.05])\n",
        "plt.xlabel('False Positive Rate')\n",
        "plt.ylabel('True Positive Rate')\n",
        "plt.title('Receiver Operating Characteristic')\n",
        "plt.legend(loc=\"lower right\")\n",
        "plt.show()"
      ],
      "metadata": {
        "colab": {
          "base_uri": "https://localhost:8080/",
          "height": 564
        },
        "id": "HkADQLFFOwL2",
        "outputId": "d0a6c56d-92c0-4612-e9db-cd36a7976fde"
      },
      "execution_count": 79,
      "outputs": [
        {
          "output_type": "display_data",
          "data": {
            "text/plain": [
              "<Figure size 800x600 with 1 Axes>"
            ],
            "image/png": "[encoded data removed]"
          },
          "metadata": {}
        }
      ]
    },
    {
      "cell_type": "markdown",
      "source": [
        "### Feature importance"
      ],
      "metadata": {
        "id": "RARcaC-8OyVA"
      }
    },
    {
      "cell_type": "code",
      "source": [
        "feature_importances = pd.DataFrame(\n",
        "    gb_model.feature_importances_,\n",
        "    index=X.columns,\n",
        "    columns=['importance']\n",
        ").sort_values('importance', ascending=False)"
      ],
      "metadata": {
        "id": "MkxFZuQVO0qN"
      },
      "execution_count": 80,
      "outputs": []
    },
    {
      "cell_type": "code",
      "source": [
        "plt.figure(figsize=(12, 10))\n",
        "sns.barplot(x=feature_importances['importance'].head(20), y=feature_importances.index[:20])\n",
        "plt.title('Top 20 Feature Importances')\n",
        "plt.tight_layout()\n",
        "plt.show()"
      ],
      "metadata": {
        "colab": {
          "base_uri": "https://localhost:8080/",
          "height": 1000
        },
        "id": "iJqP1E9yO2uJ",
        "outputId": "8509c448-d6ce-4d97-b67b-f58d9f5a84fb"
      },
      "execution_count": 84,
      "outputs": [
        {
          "output_type": "display_data",
          "data": {
            "text/plain": [
              "<Figure size 1200x1000 with 1 Axes>"
            ],
            "image/png": "[encoded data removed]"
          },
          "metadata": {}
        }
      ]
    },
    {
      "cell_type": "code",
      "source": [
        "evaluation_time = time.time() - start_time\n",
        "log_event(\"TIMING\", f\"Model evaluation completed in {evaluation_time:.2f} seconds\")"
      ],
      "metadata": {
        "colab": {
          "base_uri": "https://localhost:8080/"
        },
        "id": "XfaviybOO44p",
        "outputId": "4f9baa85-e2dd-49da-add9-19d571a5186c"
      },
      "execution_count": 85,
      "outputs": [
        {
          "output_type": "stream",
          "name": "stdout",
          "text": [
            "[2025-03-24T09:26:33.053717] TIMING: Model evaluation completed in 179.55 seconds\n"
          ]
        }
      ]
    },
    {
      "cell_type": "markdown",
      "source": [
        "## 7. Save the model"
      ],
      "metadata": {
        "id": "7pSBztSCO7Nq"
      }
    },
    {
      "cell_type": "code",
      "source": [
        "log_event(\"MODEL_SAVING\", \"Saving model\")\n",
        "start_time = time.time()"
      ],
      "metadata": {
        "colab": {
          "base_uri": "https://localhost:8080/"
        },
        "id": "NUk7P8TxO-O3",
        "outputId": "fa1a6afd-3a4e-4da1-8b0f-4cd0e4f2353d"
      },
      "execution_count": 86,
      "outputs": [
        {
          "output_type": "stream",
          "name": "stdout",
          "text": [
            "[2025-03-24T09:26:35.124714] MODEL_SAVING: Saving model\n"
          ]
        }
      ]
    },
    {
      "cell_type": "markdown",
      "source": [
        "### Save the model"
      ],
      "metadata": {
        "id": "FNs3KBcGPB0p"
      }
    },
    {
      "cell_type": "code",
      "source": [
        "joblib.dump(gb_model, MODEL_OUTPUT_PATH)"
      ],
      "metadata": {
        "colab": {
          "base_uri": "https://localhost:8080/"
        },
        "id": "K1RCAyeEPE0S",
        "outputId": "897ffbcf-8231-4f5a-a670-7e7bc3b03d5a"
      },
      "execution_count": 87,
      "outputs": [
        {
          "output_type": "execute_result",
          "data": {
            "text/plain": [
              "['/content/drive/MyDrive/PUSL3190/models/gradient_boosting_model/gradient_boost_model.pkl']"
            ]
          },
          "metadata": {},
          "execution_count": 87
        }
      ]
    },
    {
      "cell_type": "markdown",
      "source": [
        "### Save the scaler for future preprocessing"
      ],
      "metadata": {
        "id": "0j9lqsi5PWGo"
      }
    },
    {
      "cell_type": "code",
      "source": [
        "joblib.dump(scaler, f'{BASE_PATH}/models/gradient_boosting_model/gradient_boost_scaler.pkl')"
      ],
      "metadata": {
        "colab": {
          "base_uri": "https://localhost:8080/"
        },
        "id": "jYYhAU0sPYg1",
        "outputId": "a12502ab-8538-4916-faf5-56275b2fa924"
      },
      "execution_count": 90,
      "outputs": [
        {
          "output_type": "execute_result",
          "data": {
            "text/plain": [
              "['/content/drive/MyDrive/PUSL3190/models/gradient_boosting_model/gradient_boost_scaler.pkl']"
            ]
          },
          "metadata": {},
          "execution_count": 90
        }
      ]
    },
    {
      "cell_type": "markdown",
      "source": [
        "### Save feature names for inference"
      ],
      "metadata": {
        "id": "BRTc4mg4Pq95"
      }
    },
    {
      "cell_type": "code",
      "source": [
        "with open(f'{BASE_PATH}/models/gradient_boosting_model/gradient_boost_features.json', 'w') as f:\n",
        "    json.dump(list(X.columns), f)"
      ],
      "metadata": {
        "id": "LmkTZM1ePsaz"
      },
      "execution_count": 92,
      "outputs": []
    },
    {
      "cell_type": "markdown",
      "source": [
        "### Save model parameters and metadata"
      ],
      "metadata": {
        "id": "jNzSMpYiPwSj"
      }
    },
    {
      "cell_type": "code",
      "source": [
        "model_info = {\n",
        "    \"name\": \"gradient_boost_v1\",\n",
        "    \"type\": \"gradient_boost\",\n",
        "    \"version\": \"1.0\",\n",
        "    \"trained_at\": datetime.now().isoformat(),\n",
        "    \"accuracy\": float(accuracy),\n",
        "    \"precision\": float(precision),\n",
        "    \"recall\": float(recall),\n",
        "    \"f1_score\": float(f1),\n",
        "    \"auc\": float(roc_auc),\n",
        "    \"parameters\": {\n",
        "        \"n_estimators\": gb_model.n_estimators,\n",
        "        \"learning_rate\": gb_model.learning_rate,\n",
        "        \"max_depth\": gb_model.max_depth,\n",
        "        \"min_samples_split\": gb_model.min_samples_split,\n",
        "        \"min_samples_leaf\": gb_model.min_samples_leaf,\n",
        "        \"subsample\": gb_model.subsample\n",
        "    },\n",
        "    \"feature_importances\": feature_importances.head(10).to_dict(),\n",
        "    \"dataset_size\": df.shape[0],\n",
        "    \"training_samples\": X_train.shape[0],\n",
        "    \"test_samples\": X_test.shape[0],\n",
        "    \"features_implemented\": list(X.columns)\n",
        "}"
      ],
      "metadata": {
        "id": "Ql2_ox5QPxPS"
      },
      "execution_count": 93,
      "outputs": []
    },
    {
      "cell_type": "code",
      "source": [
        "with open(f'{BASE_PATH}/models/gradient_boosting_model/gradient_boost_metadata.json', 'w') as f:\n",
        "    json.dump(model_info, f, indent=2)"
      ],
      "metadata": {
        "id": "Frwm9OlvP0I8"
      },
      "execution_count": 95,
      "outputs": []
    },
    {
      "cell_type": "markdown",
      "source": [
        "## 8. Hyperparameter Tuning"
      ],
      "metadata": {
        "id": "4SxDZY52QAlX"
      }
    },
    {
      "cell_type": "code",
      "source": [
        "log_event(\"HYPERPARAMETER_TUNING\", \"Starting hyperparameter tuning\")\n",
        "start_time = time.time()"
      ],
      "metadata": {
        "colab": {
          "base_uri": "https://localhost:8080/"
        },
        "id": "YOgbdT5xQD1R",
        "outputId": "4f3f25d7-2a65-4826-cf94-e6a9ccefc9ab"
      },
      "execution_count": 96,
      "outputs": [
        {
          "output_type": "stream",
          "name": "stdout",
          "text": [
            "[2025-03-24T09:29:05.810216] HYPERPARAMETER_TUNING: Starting hyperparameter tuning\n"
          ]
        }
      ]
    },
    {
      "cell_type": "markdown",
      "source": [
        "### Focused parameter grid based on initial model performance"
      ],
      "metadata": {
        "id": "8heSw8BwQMIn"
      }
    },
    {
      "cell_type": "code",
      "source": [
        "param_grid = {\n",
        "    'learning_rate': [0.05, 0.1, 0.2],\n",
        "    'max_depth': [3, 5, 7],\n",
        "    'min_samples_split': [100, 200, 300],\n",
        "    'min_samples_leaf': [30, 50, 70],\n",
        "    'subsample': [0.7, 0.8, 0.9]\n",
        "}"
      ],
      "metadata": {
        "id": "lZMNItuJQOHl"
      },
      "execution_count": 97,
      "outputs": []
    },
    {
      "cell_type": "markdown",
      "source": [
        "### Subset of data for faster tuning"
      ],
      "metadata": {
        "id": "XYgmQNbqQQQp"
      }
    },
    {
      "cell_type": "code",
      "source": [
        "X_tune = X_train_scaled[:20000]  # Use first 20k samples for tuning\n",
        "y_tune = y_train[:20000]"
      ],
      "metadata": {
        "id": "YlJO1DeNQUAl"
      },
      "execution_count": 100,
      "outputs": []
    },
    {
      "cell_type": "markdown",
      "source": [
        "### Set up cross-validation grid search"
      ],
      "metadata": {
        "id": "FJf16DtWQWfh"
      }
    },
    {
      "cell_type": "code",
      "source": [
        "grid_search = GridSearchCV(\n",
        "    estimator=GradientBoostingClassifier(\n",
        "        n_estimators=100,  # Fixed parameter to reduce tuning time\n",
        "        random_state=42\n",
        "    ),\n",
        "    param_grid=param_grid,\n",
        "    cv=3,  # 3-fold cross-validation\n",
        "    scoring='f1',\n",
        "    n_jobs=-1  # Use all available cores\n",
        ")"
      ],
      "metadata": {
        "id": "DyI4ZNj4QYUQ"
      },
      "execution_count": 101,
      "outputs": []
    },
    {
      "cell_type": "markdown",
      "source": [
        "### Run grid search"
      ],
      "metadata": {
        "id": "dQKVXGiiQc7u"
      }
    },
    {
      "cell_type": "code",
      "source": [
        "grid_search.fit(X_tune, y_tune)"
      ],
      "metadata": {
        "colab": {
          "base_uri": "https://localhost:8080/",
          "height": 166
        },
        "id": "mCQxelR3QfDr",
        "outputId": "4fc93f24-c5d6-44ac-bd27-138fee3bef69"
      },
      "execution_count": 102,
      "outputs": [
        {
          "output_type": "execute_result",
          "data": {
            "text/plain": [
              "GridSearchCV(cv=3, estimator=GradientBoostingClassifier(random_state=42),\n",
              "             n_jobs=-1,\n",
              "             param_grid={'learning_rate': [0.05, 0.1, 0.2],\n",
              "                         'max_depth': [3, 5, 7],\n",
              "                         'min_samples_leaf': [30, 50, 70],\n",
              "                         'min_samples_split': [100, 200, 300],\n",
              "                         'subsample': [0.7, 0.8, 0.9]},\n",
              "             scoring='f1')"
            ],
            "text/html": [
              "<style>#sk-container-id-2 {\n",
              "  /* Definition of color scheme common for light and dark mode */\n",
              "  --sklearn-color-text: #000;\n",
              "  --sklearn-color-text-muted: #666;\n",
              "  --sklearn-color-line: gray;\n",
              "  /* Definition of color scheme for unfitted estimators */\n",
              "  --sklearn-color-unfitted-level-0: #fff5e6;\n",
              "  --sklearn-color-unfitted-level-1: #f6e4d2;\n",
              "  --sklearn-color-unfitted-level-2: #ffe0b3;\n",
              "  --sklearn-color-unfitted-level-3: chocolate;\n",
              "  /* Definition of color scheme for fitted estimators */\n",
              "  --sklearn-color-fitted-level-0: #f0f8ff;\n",
              "  --sklearn-color-fitted-level-1: #d4ebff;\n",
              "  --sklearn-color-fitted-level-2: #b3dbfd;\n",
              "  --sklearn-color-fitted-level-3: cornflowerblue;\n",
              "\n",
              "  /* Specific color for light theme */\n",
              "  --sklearn-color-text-on-default-background: var(--sg-text-color, var(--theme-code-foreground, var(--jp-content-font-color1, black)));\n",
              "  --sklearn-color-background: var(--sg-background-color, var(--theme-background, var(--jp-layout-color0, white)));\n",
              "  --sklearn-color-border-box: var(--sg-text-color, var(--theme-code-foreground, var(--jp-content-font-color1, black)));\n",
              "  --sklearn-color-icon: #696969;\n",
              "\n",
              "  @media (prefers-color-scheme: dark) {\n",
              "    /* Redefinition of color scheme for dark theme */\n",
              "    --sklearn-color-text-on-default-background: var(--sg-text-color, var(--theme-code-foreground, var(--jp-content-font-color1, white)));\n",
              "    --sklearn-color-background: var(--sg-background-color, var(--theme-background, var(--jp-layout-color0, #111)));\n",
              "    --sklearn-color-border-box: var(--sg-text-color, var(--theme-code-foreground, var(--jp-content-font-color1, white)));\n",
              "    --sklearn-color-icon: #878787;\n",
              "  }\n",
              "}\n",
              "\n",
              "#sk-container-id-2 {\n",
              "  color: var(--sklearn-color-text);\n",
              "}\n",
              "\n",
              "#sk-container-id-2 pre {\n",
              "  padding: 0;\n",
              "}\n",
              "\n",
              "#sk-container-id-2 input.sk-hidden--visually {\n",
              "  border: 0;\n",
              "  clip: rect(1px 1px 1px 1px);\n",
              "  clip: rect(1px, 1px, 1px, 1px);\n",
              "  height: 1px;\n",
              "  margin: -1px;\n",
              "  overflow: hidden;\n",
              "  padding: 0;\n",
              "  position: absolute;\n",
              "  width: 1px;\n",
              "}\n",
              "\n",
              "#sk-container-id-2 div.sk-dashed-wrapped {\n",
              "  border: 1px dashed var(--sklearn-color-line);\n",
              "  margin: 0 0.4em 0.5em 0.4em;\n",
              "  box-sizing: border-box;\n",
              "  padding-bottom: 0.4em;\n",
              "  background-color: var(--sklearn-color-background);\n",
              "}\n",
              "\n",
              "#sk-container-id-2 div.sk-container {\n",
              "  /* jupyter's `normalize.less` sets `[hidden] { display: none; }`\n",
              "     but bootstrap.min.css set `[hidden] { display: none !important; }`\n",
              "     so we also need the `!important` here to be able to override the\n",
              "     default hidden behavior on the sphinx rendered scikit-learn.org.\n",
              "     See: https://github.com/scikit-learn/scikit-learn/issues/21755 */\n",
              "  display: inline-block !important;\n",
              "  position: relative;\n",
              "}\n",
              "\n",
              "#sk-container-id-2 div.sk-text-repr-fallback {\n",
              "  display: none;\n",
              "}\n",
              "\n",
              "div.sk-parallel-item,\n",
              "div.sk-serial,\n",
              "div.sk-item {\n",
              "  /* draw centered vertical line to link estimators */\n",
              "  background-image: linear-gradient(var(--sklearn-color-text-on-default-background), var(--sklearn-color-text-on-default-background));\n",
              "  background-size: 2px 100%;\n",
              "  background-repeat: no-repeat;\n",
              "  background-position: center center;\n",
              "}\n",
              "\n",
              "/* Parallel-specific style estimator block */\n",
              "\n",
              "#sk-container-id-2 div.sk-parallel-item::after {\n",
              "  content: \"\";\n",
              "  width: 100%;\n",
              "  border-bottom: 2px solid var(--sklearn-color-text-on-default-background);\n",
              "  flex-grow: 1;\n",
              "}\n",
              "\n",
              "#sk-container-id-2 div.sk-parallel {\n",
              "  display: flex;\n",
              "  align-items: stretch;\n",
              "  justify-content: center;\n",
              "  background-color: var(--sklearn-color-background);\n",
              "  position: relative;\n",
              "}\n",
              "\n",
              "#sk-container-id-2 div.sk-parallel-item {\n",
              "  display: flex;\n",
              "  flex-direction: column;\n",
              "}\n",
              "\n",
              "#sk-container-id-2 div.sk-parallel-item:first-child::after {\n",
              "  align-self: flex-end;\n",
              "  width: 50%;\n",
              "}\n",
              "\n",
              "#sk-container-id-2 div.sk-parallel-item:last-child::after {\n",
              "  align-self: flex-start;\n",
              "  width: 50%;\n",
              "}\n",
              "\n",
              "#sk-container-id-2 div.sk-parallel-item:only-child::after {\n",
              "  width: 0;\n",
              "}\n",
              "\n",
              "/* Serial-specific style estimator block */\n",
              "\n",
              "#sk-container-id-2 div.sk-serial {\n",
              "  display: flex;\n",
              "  flex-direction: column;\n",
              "  align-items: center;\n",
              "  background-color: var(--sklearn-color-background);\n",
              "  padding-right: 1em;\n",
              "  padding-left: 1em;\n",
              "}\n",
              "\n",
              "\n",
              "/* Toggleable style: style used for estimator/Pipeline/ColumnTransformer box that is\n",
              "clickable and can be expanded/collapsed.\n",
              "- Pipeline and ColumnTransformer use this feature and define the default style\n",
              "- Estimators will overwrite some part of the style using the `sk-estimator` class\n",
              "*/\n",
              "\n",
              "/* Pipeline and ColumnTransformer style (default) */\n",
              "\n",
              "#sk-container-id-2 div.sk-toggleable {\n",
              "  /* Default theme specific background. It is overwritten whether we have a\n",
              "  specific estimator or a Pipeline/ColumnTransformer */\n",
              "  background-color: var(--sklearn-color-background);\n",
              "}\n",
              "\n",
              "/* Toggleable label */\n",
              "#sk-container-id-2 label.sk-toggleable__label {\n",
              "  cursor: pointer;\n",
              "  display: flex;\n",
              "  width: 100%;\n",
              "  margin-bottom: 0;\n",
              "  padding: 0.5em;\n",
              "  box-sizing: border-box;\n",
              "  text-align: center;\n",
              "  align-items: start;\n",
              "  justify-content: space-between;\n",
              "  gap: 0.5em;\n",
              "}\n",
              "\n",
              "#sk-container-id-2 label.sk-toggleable__label .caption {\n",
              "  font-size: 0.6rem;\n",
              "  font-weight: lighter;\n",
              "  color: var(--sklearn-color-text-muted);\n",
              "}\n",
              "\n",
              "#sk-container-id-2 label.sk-toggleable__label-arrow:before {\n",
              "  /* Arrow on the left of the label */\n",
              "  content: \"▸\";\n",
              "  float: left;\n",
              "  margin-right: 0.25em;\n",
              "  color: var(--sklearn-color-icon);\n",
              "}\n",
              "\n",
              "#sk-container-id-2 label.sk-toggleable__label-arrow:hover:before {\n",
              "  color: var(--sklearn-color-text);\n",
              "}\n",
              "\n",
              "/* Toggleable content - dropdown */\n",
              "\n",
              "#sk-container-id-2 div.sk-toggleable__content {\n",
              "  max-height: 0;\n",
              "  max-width: 0;\n",
              "  overflow: hidden;\n",
              "  text-align: left;\n",
              "  /* unfitted */\n",
              "  background-color: var(--sklearn-color-unfitted-level-0);\n",
              "}\n",
              "\n",
              "#sk-container-id-2 div.sk-toggleable__content.fitted {\n",
              "  /* fitted */\n",
              "  background-color: var(--sklearn-color-fitted-level-0);\n",
              "}\n",
              "\n",
              "#sk-container-id-2 div.sk-toggleable__content pre {\n",
              "  margin: 0.2em;\n",
              "  border-radius: 0.25em;\n",
              "  color: var(--sklearn-color-text);\n",
              "  /* unfitted */\n",
              "  background-color: var(--sklearn-color-unfitted-level-0);\n",
              "}\n",
              "\n",
              "#sk-container-id-2 div.sk-toggleable__content.fitted pre {\n",
              "  /* unfitted */\n",
              "  background-color: var(--sklearn-color-fitted-level-0);\n",
              "}\n",
              "\n",
              "#sk-container-id-2 input.sk-toggleable__control:checked~div.sk-toggleable__content {\n",
              "  /* Expand drop-down */\n",
              "  max-height: 200px;\n",
              "  max-width: 100%;\n",
              "  overflow: auto;\n",
              "}\n",
              "\n",
              "#sk-container-id-2 input.sk-toggleable__control:checked~label.sk-toggleable__label-arrow:before {\n",
              "  content: \"▾\";\n",
              "}\n",
              "\n",
              "/* Pipeline/ColumnTransformer-specific style */\n",
              "\n",
              "#sk-container-id-2 div.sk-label input.sk-toggleable__control:checked~label.sk-toggleable__label {\n",
              "  color: var(--sklearn-color-text);\n",
              "  background-color: var(--sklearn-color-unfitted-level-2);\n",
              "}\n",
              "\n",
              "#sk-container-id-2 div.sk-label.fitted input.sk-toggleable__control:checked~label.sk-toggleable__label {\n",
              "  background-color: var(--sklearn-color-fitted-level-2);\n",
              "}\n",
              "\n",
              "/* Estimator-specific style */\n",
              "\n",
              "/* Colorize estimator box */\n",
              "#sk-container-id-2 div.sk-estimator input.sk-toggleable__control:checked~label.sk-toggleable__label {\n",
              "  /* unfitted */\n",
              "  background-color: var(--sklearn-color-unfitted-level-2);\n",
              "}\n",
              "\n",
              "#sk-container-id-2 div.sk-estimator.fitted input.sk-toggleable__control:checked~label.sk-toggleable__label {\n",
              "  /* fitted */\n",
              "  background-color: var(--sklearn-color-fitted-level-2);\n",
              "}\n",
              "\n",
              "#sk-container-id-2 div.sk-label label.sk-toggleable__label,\n",
              "#sk-container-id-2 div.sk-label label {\n",
              "  /* The background is the default theme color */\n",
              "  color: var(--sklearn-color-text-on-default-background);\n",
              "}\n",
              "\n",
              "/* On hover, darken the color of the background */\n",
              "#sk-container-id-2 div.sk-label:hover label.sk-toggleable__label {\n",
              "  color: var(--sklearn-color-text);\n",
              "  background-color: var(--sklearn-color-unfitted-level-2);\n",
              "}\n",
              "\n",
              "/* Label box, darken color on hover, fitted */\n",
              "#sk-container-id-2 div.sk-label.fitted:hover label.sk-toggleable__label.fitted {\n",
              "  color: var(--sklearn-color-text);\n",
              "  background-color: var(--sklearn-color-fitted-level-2);\n",
              "}\n",
              "\n",
              "/* Estimator label */\n",
              "\n",
              "#sk-container-id-2 div.sk-label label {\n",
              "  font-family: monospace;\n",
              "  font-weight: bold;\n",
              "  display: inline-block;\n",
              "  line-height: 1.2em;\n",
              "}\n",
              "\n",
              "#sk-container-id-2 div.sk-label-container {\n",
              "  text-align: center;\n",
              "}\n",
              "\n",
              "/* Estimator-specific */\n",
              "#sk-container-id-2 div.sk-estimator {\n",
              "  font-family: monospace;\n",
              "  border: 1px dotted var(--sklearn-color-border-box);\n",
              "  border-radius: 0.25em;\n",
              "  box-sizing: border-box;\n",
              "  margin-bottom: 0.5em;\n",
              "  /* unfitted */\n",
              "  background-color: var(--sklearn-color-unfitted-level-0);\n",
              "}\n",
              "\n",
              "#sk-container-id-2 div.sk-estimator.fitted {\n",
              "  /* fitted */\n",
              "  background-color: var(--sklearn-color-fitted-level-0);\n",
              "}\n",
              "\n",
              "/* on hover */\n",
              "#sk-container-id-2 div.sk-estimator:hover {\n",
              "  /* unfitted */\n",
              "  background-color: var(--sklearn-color-unfitted-level-2);\n",
              "}\n",
              "\n",
              "#sk-container-id-2 div.sk-estimator.fitted:hover {\n",
              "  /* fitted */\n",
              "  background-color: var(--sklearn-color-fitted-level-2);\n",
              "}\n",
              "\n",
              "/* Specification for estimator info (e.g. \"i\" and \"?\") */\n",
              "\n",
              "/* Common style for \"i\" and \"?\" */\n",
              "\n",
              ".sk-estimator-doc-link,\n",
              "a:link.sk-estimator-doc-link,\n",
              "a:visited.sk-estimator-doc-link {\n",
              "  float: right;\n",
              "  font-size: smaller;\n",
              "  line-height: 1em;\n",
              "  font-family: monospace;\n",
              "  background-color: var(--sklearn-color-background);\n",
              "  border-radius: 1em;\n",
              "  height: 1em;\n",
              "  width: 1em;\n",
              "  text-decoration: none !important;\n",
              "  margin-left: 0.5em;\n",
              "  text-align: center;\n",
              "  /* unfitted */\n",
              "  border: var(--sklearn-color-unfitted-level-1) 1pt solid;\n",
              "  color: var(--sklearn-color-unfitted-level-1);\n",
              "}\n",
              "\n",
              ".sk-estimator-doc-link.fitted,\n",
              "a:link.sk-estimator-doc-link.fitted,\n",
              "a:visited.sk-estimator-doc-link.fitted {\n",
              "  /* fitted */\n",
              "  border: var(--sklearn-color-fitted-level-1) 1pt solid;\n",
              "  color: var(--sklearn-color-fitted-level-1);\n",
              "}\n",
              "\n",
              "/* On hover */\n",
              "div.sk-estimator:hover .sk-estimator-doc-link:hover,\n",
              ".sk-estimator-doc-link:hover,\n",
              "div.sk-label-container:hover .sk-estimator-doc-link:hover,\n",
              ".sk-estimator-doc-link:hover {\n",
              "  /* unfitted */\n",
              "  background-color: var(--sklearn-color-unfitted-level-3);\n",
              "  color: var(--sklearn-color-background);\n",
              "  text-decoration: none;\n",
              "}\n",
              "\n",
              "div.sk-estimator.fitted:hover .sk-estimator-doc-link.fitted:hover,\n",
              ".sk-estimator-doc-link.fitted:hover,\n",
              "div.sk-label-container:hover .sk-estimator-doc-link.fitted:hover,\n",
              ".sk-estimator-doc-link.fitted:hover {\n",
              "  /* fitted */\n",
              "  background-color: var(--sklearn-color-fitted-level-3);\n",
              "  color: var(--sklearn-color-background);\n",
              "  text-decoration: none;\n",
              "}\n",
              "\n",
              "/* Span, style for the box shown on hovering the info icon */\n",
              ".sk-estimator-doc-link span {\n",
              "  display: none;\n",
              "  z-index: 9999;\n",
              "  position: relative;\n",
              "  font-weight: normal;\n",
              "  right: .2ex;\n",
              "  padding: .5ex;\n",
              "  margin: .5ex;\n",
              "  width: min-content;\n",
              "  min-width: 20ex;\n",
              "  max-width: 50ex;\n",
              "  color: var(--sklearn-color-text);\n",
              "  box-shadow: 2pt 2pt 4pt #999;\n",
              "  /* unfitted */\n",
              "  background: var(--sklearn-color-unfitted-level-0);\n",
              "  border: .5pt solid var(--sklearn-color-unfitted-level-3);\n",
              "}\n",
              "\n",
              ".sk-estimator-doc-link.fitted span {\n",
              "  /* fitted */\n",
              "  background: var(--sklearn-color-fitted-level-0);\n",
              "  border: var(--sklearn-color-fitted-level-3);\n",
              "}\n",
              "\n",
              ".sk-estimator-doc-link:hover span {\n",
              "  display: block;\n",
              "}\n",
              "\n",
              "/* \"?\"-specific style due to the `<a>` HTML tag */\n",
              "\n",
              "#sk-container-id-2 a.estimator_doc_link {\n",
              "  float: right;\n",
              "  font-size: 1rem;\n",
              "  line-height: 1em;\n",
              "  font-family: monospace;\n",
              "  background-color: var(--sklearn-color-background);\n",
              "  border-radius: 1rem;\n",
              "  height: 1rem;\n",
              "  width: 1rem;\n",
              "  text-decoration: none;\n",
              "  /* unfitted */\n",
              "  color: var(--sklearn-color-unfitted-level-1);\n",
              "  border: var(--sklearn-color-unfitted-level-1) 1pt solid;\n",
              "}\n",
              "\n",
              "#sk-container-id-2 a.estimator_doc_link.fitted {\n",
              "  /* fitted */\n",
              "  border: var(--sklearn-color-fitted-level-1) 1pt solid;\n",
              "  color: var(--sklearn-color-fitted-level-1);\n",
              "}\n",
              "\n",
              "/* On hover */\n",
              "#sk-container-id-2 a.estimator_doc_link:hover {\n",
              "  /* unfitted */\n",
              "  background-color: var(--sklearn-color-unfitted-level-3);\n",
              "  color: var(--sklearn-color-background);\n",
              "  text-decoration: none;\n",
              "}\n",
              "\n",
              "#sk-container-id-2 a.estimator_doc_link.fitted:hover {\n",
              "  /* fitted */\n",
              "  background-color: var(--sklearn-color-fitted-level-3);\n",
              "}\n",
              "</style><div id=\"sk-container-id-2\" class=\"sk-top-container\"><div class=\"sk-text-repr-fallback\"><pre>GridSearchCV(cv=3, estimator=GradientBoostingClassifier(random_state=42),\n",
              "             n_jobs=-1,\n",
              "             param_grid={&#x27;learning_rate&#x27;: [0.05, 0.1, 0.2],\n",
              "                         &#x27;max_depth&#x27;: [3, 5, 7],\n",
              "                         &#x27;min_samples_leaf&#x27;: [30, 50, 70],\n",
              "                         &#x27;min_samples_split&#x27;: [100, 200, 300],\n",
              "                         &#x27;subsample&#x27;: [0.7, 0.8, 0.9]},\n",
              "             scoring=&#x27;f1&#x27;)</pre><b>In a Jupyter environment, please rerun this cell to show the HTML representation or trust the notebook. <br />On GitHub, the HTML representation is unable to render, please try loading this page with nbviewer.org.</b></div><div class=\"sk-container\" hidden><div class=\"sk-item sk-dashed-wrapped\"><div class=\"sk-label-container\"><div class=\"sk-label fitted sk-toggleable\"><input class=\"sk-toggleable__control sk-hidden--visually\" id=\"sk-estimator-id-2\" type=\"checkbox\" ><label for=\"sk-estimator-id-2\" class=\"sk-toggleable__label fitted sk-toggleable__label-arrow\"><div><div>GridSearchCV</div></div><div><a class=\"sk-estimator-doc-link fitted\" rel=\"noreferrer\" target=\"_blank\" href=\"https://scikit-learn.org/1.6/modules/generated/sklearn.model_selection.GridSearchCV.html\">?<span>Documentation for GridSearchCV</span></a><span class=\"sk-estimator-doc-link fitted\">i<span>Fitted</span></span></div></label><div class=\"sk-toggleable__content fitted\"><pre>GridSearchCV(cv=3, estimator=GradientBoostingClassifier(random_state=42),\n",
              "             n_jobs=-1,\n",
              "             param_grid={&#x27;learning_rate&#x27;: [0.05, 0.1, 0.2],\n",
              "                         &#x27;max_depth&#x27;: [3, 5, 7],\n",
              "                         &#x27;min_samples_leaf&#x27;: [30, 50, 70],\n",
              "                         &#x27;min_samples_split&#x27;: [100, 200, 300],\n",
              "                         &#x27;subsample&#x27;: [0.7, 0.8, 0.9]},\n",
              "             scoring=&#x27;f1&#x27;)</pre></div> </div></div><div class=\"sk-parallel\"><div class=\"sk-parallel-item\"><div class=\"sk-item\"><div class=\"sk-label-container\"><div class=\"sk-label fitted sk-toggleable\"><input class=\"sk-toggleable__control sk-hidden--visually\" id=\"sk-estimator-id-3\" type=\"checkbox\" ><label for=\"sk-estimator-id-3\" class=\"sk-toggleable__label fitted sk-toggleable__label-arrow\"><div><div>best_estimator_: GradientBoostingClassifier</div></div></label><div class=\"sk-toggleable__content fitted\"><pre>GradientBoostingClassifier(learning_rate=0.05, min_samples_leaf=30,\n",
              "                           min_samples_split=100, random_state=42,\n",
              "                           subsample=0.7)</pre></div> </div></div><div class=\"sk-serial\"><div class=\"sk-item\"><div class=\"sk-estimator fitted sk-toggleable\"><input class=\"sk-toggleable__control sk-hidden--visually\" id=\"sk-estimator-id-4\" type=\"checkbox\" ><label for=\"sk-estimator-id-4\" class=\"sk-toggleable__label fitted sk-toggleable__label-arrow\"><div><div>GradientBoostingClassifier</div></div><div><a class=\"sk-estimator-doc-link fitted\" rel=\"noreferrer\" target=\"_blank\" href=\"https://scikit-learn.org/1.6/modules/generated/sklearn.ensemble.GradientBoostingClassifier.html\">?<span>Documentation for GradientBoostingClassifier</span></a></div></label><div class=\"sk-toggleable__content fitted\"><pre>GradientBoostingClassifier(learning_rate=0.05, min_samples_leaf=30,\n",
              "                           min_samples_split=100, random_state=42,\n",
              "                           subsample=0.7)</pre></div> </div></div></div></div></div></div></div></div></div>"
            ]
          },
          "metadata": {},
          "execution_count": 102
        }
      ]
    },
    {
      "cell_type": "code",
      "source": [
        "tuning_time = time.time() - start_time\n",
        "log_event(\"TIMING\", f\"Hyperparameter tuning completed in {tuning_time:.2f} seconds\")"
      ],
      "metadata": {
        "colab": {
          "base_uri": "https://localhost:8080/"
        },
        "id": "uT9kGueTQhBv",
        "outputId": "e6fe2c0c-16ea-4704-ec4a-d0c5c6db7643"
      },
      "execution_count": 103,
      "outputs": [
        {
          "output_type": "stream",
          "name": "stdout",
          "text": [
            "[2025-03-24T09:36:35.735060] TIMING: Hyperparameter tuning completed in 449.92 seconds\n"
          ]
        }
      ]
    },
    {
      "cell_type": "markdown",
      "source": [
        "### Log the best parameters"
      ],
      "metadata": {
        "id": "EXUvngTeQjm4"
      }
    },
    {
      "cell_type": "code",
      "source": [
        "log_event(\"HYPERPARAMETER_TUNING\", \"Best parameters found\", {\n",
        "    \"parameters\": grid_search.best_params_,\n",
        "    \"f1_score\": float(grid_search.best_score_)\n",
        "})"
      ],
      "metadata": {
        "colab": {
          "base_uri": "https://localhost:8080/"
        },
        "id": "stJENVcEQkOY",
        "outputId": "c276c76f-74ab-4baa-c690-927a79666037"
      },
      "execution_count": 104,
      "outputs": [
        {
          "output_type": "stream",
          "name": "stdout",
          "text": [
            "[2025-03-24T09:36:39.260948] HYPERPARAMETER_TUNING: Best parameters found\n"
          ]
        }
      ]
    },
    {
      "cell_type": "code",
      "source": [
        "print(\"\\nBest Parameters:\")\n",
        "for param, value in grid_search.best_params_.items():\n",
        "    print(f\"{param}: {value}\")\n",
        "print(f\"Best F1 Score: {grid_search.best_score_:.4f}\")"
      ],
      "metadata": {
        "colab": {
          "base_uri": "https://localhost:8080/"
        },
        "id": "60WfssqBQoQu",
        "outputId": "f2215e7d-86bb-4305-d9c7-06fead63292c"
      },
      "execution_count": 105,
      "outputs": [
        {
          "output_type": "stream",
          "name": "stdout",
          "text": [
            "\n",
            "Best Parameters:\n",
            "learning_rate: 0.05\n",
            "max_depth: 3\n",
            "min_samples_leaf: 30\n",
            "min_samples_split: 100\n",
            "subsample: 0.7\n",
            "Best F1 Score: 0.4384\n"
          ]
        }
      ]
    },
    {
      "cell_type": "markdown",
      "source": [
        "### Final model with the best parameters (on full training data)"
      ],
      "metadata": {
        "id": "8hjkdzVoQp0f"
      }
    },
    {
      "cell_type": "code",
      "source": [
        "final_model = GradientBoostingClassifier(\n",
        "    n_estimators=100,\n",
        "    **grid_search.best_params_,\n",
        "    random_state=42\n",
        ")"
      ],
      "metadata": {
        "id": "T__vTzr-QuV1"
      },
      "execution_count": 106,
      "outputs": []
    },
    {
      "cell_type": "code",
      "source": [
        "final_model.fit(X_train_scaled, y_train)"
      ],
      "metadata": {
        "colab": {
          "base_uri": "https://localhost:8080/",
          "height": 115
        },
        "id": "0vc7k0ZgQwYd",
        "outputId": "a0b5d6a4-f56e-41ce-fcef-38b635d2f97a"
      },
      "execution_count": 107,
      "outputs": [
        {
          "output_type": "execute_result",
          "data": {
            "text/plain": [
              "GradientBoostingClassifier(learning_rate=0.05, min_samples_leaf=30,\n",
              "                           min_samples_split=100, random_state=42,\n",
              "                           subsample=0.7)"
            ],
            "text/html": [
              "<style>#sk-container-id-3 {\n",
              "  /* Definition of color scheme common for light and dark mode */\n",
              "  --sklearn-color-text: #000;\n",
              "  --sklearn-color-text-muted: #666;\n",
              "  --sklearn-color-line: gray;\n",
              "  /* Definition of color scheme for unfitted estimators */\n",
              "  --sklearn-color-unfitted-level-0: #fff5e6;\n",
              "  --sklearn-color-unfitted-level-1: #f6e4d2;\n",
              "  --sklearn-color-unfitted-level-2: #ffe0b3;\n",
              "  --sklearn-color-unfitted-level-3: chocolate;\n",
              "  /* Definition of color scheme for fitted estimators */\n",
              "  --sklearn-color-fitted-level-0: #f0f8ff;\n",
              "  --sklearn-color-fitted-level-1: #d4ebff;\n",
              "  --sklearn-color-fitted-level-2: #b3dbfd;\n",
              "  --sklearn-color-fitted-level-3: cornflowerblue;\n",
              "\n",
              "  /* Specific color for light theme */\n",
              "  --sklearn-color-text-on-default-background: var(--sg-text-color, var(--theme-code-foreground, var(--jp-content-font-color1, black)));\n",
              "  --sklearn-color-background: var(--sg-background-color, var(--theme-background, var(--jp-layout-color0, white)));\n",
              "  --sklearn-color-border-box: var(--sg-text-color, var(--theme-code-foreground, var(--jp-content-font-color1, black)));\n",
              "  --sklearn-color-icon: #696969;\n",
              "\n",
              "  @media (prefers-color-scheme: dark) {\n",
              "    /* Redefinition of color scheme for dark theme */\n",
              "    --sklearn-color-text-on-default-background: var(--sg-text-color, var(--theme-code-foreground, var(--jp-content-font-color1, white)));\n",
              "    --sklearn-color-background: var(--sg-background-color, var(--theme-background, var(--jp-layout-color0, #111)));\n",
              "    --sklearn-color-border-box: var(--sg-text-color, var(--theme-code-foreground, var(--jp-content-font-color1, white)));\n",
              "    --sklearn-color-icon: #878787;\n",
              "  }\n",
              "}\n",
              "\n",
              "#sk-container-id-3 {\n",
              "  color: var(--sklearn-color-text);\n",
              "}\n",
              "\n",
              "#sk-container-id-3 pre {\n",
              "  padding: 0;\n",
              "}\n",
              "\n",
              "#sk-container-id-3 input.sk-hidden--visually {\n",
              "  border: 0;\n",
              "  clip: rect(1px 1px 1px 1px);\n",
              "  clip: rect(1px, 1px, 1px, 1px);\n",
              "  height: 1px;\n",
              "  margin: -1px;\n",
              "  overflow: hidden;\n",
              "  padding: 0;\n",
              "  position: absolute;\n",
              "  width: 1px;\n",
              "}\n",
              "\n",
              "#sk-container-id-3 div.sk-dashed-wrapped {\n",
              "  border: 1px dashed var(--sklearn-color-line);\n",
              "  margin: 0 0.4em 0.5em 0.4em;\n",
              "  box-sizing: border-box;\n",
              "  padding-bottom: 0.4em;\n",
              "  background-color: var(--sklearn-color-background);\n",
              "}\n",
              "\n",
              "#sk-container-id-3 div.sk-container {\n",
              "  /* jupyter's `normalize.less` sets `[hidden] { display: none; }`\n",
              "     but bootstrap.min.css set `[hidden] { display: none !important; }`\n",
              "     so we also need the `!important` here to be able to override the\n",
              "     default hidden behavior on the sphinx rendered scikit-learn.org.\n",
              "     See: https://github.com/scikit-learn/scikit-learn/issues/21755 */\n",
              "  display: inline-block !important;\n",
              "  position: relative;\n",
              "}\n",
              "\n",
              "#sk-container-id-3 div.sk-text-repr-fallback {\n",
              "  display: none;\n",
              "}\n",
              "\n",
              "div.sk-parallel-item,\n",
              "div.sk-serial,\n",
              "div.sk-item {\n",
              "  /* draw centered vertical line to link estimators */\n",
              "  background-image: linear-gradient(var(--sklearn-color-text-on-default-background), var(--sklearn-color-text-on-default-background));\n",
              "  background-size: 2px 100%;\n",
              "  background-repeat: no-repeat;\n",
              "  background-position: center center;\n",
              "}\n",
              "\n",
              "/* Parallel-specific style estimator block */\n",
              "\n",
              "#sk-container-id-3 div.sk-parallel-item::after {\n",
              "  content: \"\";\n",
              "  width: 100%;\n",
              "  border-bottom: 2px solid var(--sklearn-color-text-on-default-background);\n",
              "  flex-grow: 1;\n",
              "}\n",
              "\n",
              "#sk-container-id-3 div.sk-parallel {\n",
              "  display: flex;\n",
              "  align-items: stretch;\n",
              "  justify-content: center;\n",
              "  background-color: var(--sklearn-color-background);\n",
              "  position: relative;\n",
              "}\n",
              "\n",
              "#sk-container-id-3 div.sk-parallel-item {\n",
              "  display: flex;\n",
              "  flex-direction: column;\n",
              "}\n",
              "\n",
              "#sk-container-id-3 div.sk-parallel-item:first-child::after {\n",
              "  align-self: flex-end;\n",
              "  width: 50%;\n",
              "}\n",
              "\n",
              "#sk-container-id-3 div.sk-parallel-item:last-child::after {\n",
              "  align-self: flex-start;\n",
              "  width: 50%;\n",
              "}\n",
              "\n",
              "#sk-container-id-3 div.sk-parallel-item:only-child::after {\n",
              "  width: 0;\n",
              "}\n",
              "\n",
              "/* Serial-specific style estimator block */\n",
              "\n",
              "#sk-container-id-3 div.sk-serial {\n",
              "  display: flex;\n",
              "  flex-direction: column;\n",
              "  align-items: center;\n",
              "  background-color: var(--sklearn-color-background);\n",
              "  padding-right: 1em;\n",
              "  padding-left: 1em;\n",
              "}\n",
              "\n",
              "\n",
              "/* Toggleable style: style used for estimator/Pipeline/ColumnTransformer box that is\n",
              "clickable and can be expanded/collapsed.\n",
              "- Pipeline and ColumnTransformer use this feature and define the default style\n",
              "- Estimators will overwrite some part of the style using the `sk-estimator` class\n",
              "*/\n",
              "\n",
              "/* Pipeline and ColumnTransformer style (default) */\n",
              "\n",
              "#sk-container-id-3 div.sk-toggleable {\n",
              "  /* Default theme specific background. It is overwritten whether we have a\n",
              "  specific estimator or a Pipeline/ColumnTransformer */\n",
              "  background-color: var(--sklearn-color-background);\n",
              "}\n",
              "\n",
              "/* Toggleable label */\n",
              "#sk-container-id-3 label.sk-toggleable__label {\n",
              "  cursor: pointer;\n",
              "  display: flex;\n",
              "  width: 100%;\n",
              "  margin-bottom: 0;\n",
              "  padding: 0.5em;\n",
              "  box-sizing: border-box;\n",
              "  text-align: center;\n",
              "  align-items: start;\n",
              "  justify-content: space-between;\n",
              "  gap: 0.5em;\n",
              "}\n",
              "\n",
              "#sk-container-id-3 label.sk-toggleable__label .caption {\n",
              "  font-size: 0.6rem;\n",
              "  font-weight: lighter;\n",
              "  color: var(--sklearn-color-text-muted);\n",
              "}\n",
              "\n",
              "#sk-container-id-3 label.sk-toggleable__label-arrow:before {\n",
              "  /* Arrow on the left of the label */\n",
              "  content: \"▸\";\n",
              "  float: left;\n",
              "  margin-right: 0.25em;\n",
              "  color: var(--sklearn-color-icon);\n",
              "}\n",
              "\n",
              "#sk-container-id-3 label.sk-toggleable__label-arrow:hover:before {\n",
              "  color: var(--sklearn-color-text);\n",
              "}\n",
              "\n",
              "/* Toggleable content - dropdown */\n",
              "\n",
              "#sk-container-id-3 div.sk-toggleable__content {\n",
              "  max-height: 0;\n",
              "  max-width: 0;\n",
              "  overflow: hidden;\n",
              "  text-align: left;\n",
              "  /* unfitted */\n",
              "  background-color: var(--sklearn-color-unfitted-level-0);\n",
              "}\n",
              "\n",
              "#sk-container-id-3 div.sk-toggleable__content.fitted {\n",
              "  /* fitted */\n",
              "  background-color: var(--sklearn-color-fitted-level-0);\n",
              "}\n",
              "\n",
              "#sk-container-id-3 div.sk-toggleable__content pre {\n",
              "  margin: 0.2em;\n",
              "  border-radius: 0.25em;\n",
              "  color: var(--sklearn-color-text);\n",
              "  /* unfitted */\n",
              "  background-color: var(--sklearn-color-unfitted-level-0);\n",
              "}\n",
              "\n",
              "#sk-container-id-3 div.sk-toggleable__content.fitted pre {\n",
              "  /* unfitted */\n",
              "  background-color: var(--sklearn-color-fitted-level-0);\n",
              "}\n",
              "\n",
              "#sk-container-id-3 input.sk-toggleable__control:checked~div.sk-toggleable__content {\n",
              "  /* Expand drop-down */\n",
              "  max-height: 200px;\n",
              "  max-width: 100%;\n",
              "  overflow: auto;\n",
              "}\n",
              "\n",
              "#sk-container-id-3 input.sk-toggleable__control:checked~label.sk-toggleable__label-arrow:before {\n",
              "  content: \"▾\";\n",
              "}\n",
              "\n",
              "/* Pipeline/ColumnTransformer-specific style */\n",
              "\n",
              "#sk-container-id-3 div.sk-label input.sk-toggleable__control:checked~label.sk-toggleable__label {\n",
              "  color: var(--sklearn-color-text);\n",
              "  background-color: var(--sklearn-color-unfitted-level-2);\n",
              "}\n",
              "\n",
              "#sk-container-id-3 div.sk-label.fitted input.sk-toggleable__control:checked~label.sk-toggleable__label {\n",
              "  background-color: var(--sklearn-color-fitted-level-2);\n",
              "}\n",
              "\n",
              "/* Estimator-specific style */\n",
              "\n",
              "/* Colorize estimator box */\n",
              "#sk-container-id-3 div.sk-estimator input.sk-toggleable__control:checked~label.sk-toggleable__label {\n",
              "  /* unfitted */\n",
              "  background-color: var(--sklearn-color-unfitted-level-2);\n",
              "}\n",
              "\n",
              "#sk-container-id-3 div.sk-estimator.fitted input.sk-toggleable__control:checked~label.sk-toggleable__label {\n",
              "  /* fitted */\n",
              "  background-color: var(--sklearn-color-fitted-level-2);\n",
              "}\n",
              "\n",
              "#sk-container-id-3 div.sk-label label.sk-toggleable__label,\n",
              "#sk-container-id-3 div.sk-label label {\n",
              "  /* The background is the default theme color */\n",
              "  color: var(--sklearn-color-text-on-default-background);\n",
              "}\n",
              "\n",
              "/* On hover, darken the color of the background */\n",
              "#sk-container-id-3 div.sk-label:hover label.sk-toggleable__label {\n",
              "  color: var(--sklearn-color-text);\n",
              "  background-color: var(--sklearn-color-unfitted-level-2);\n",
              "}\n",
              "\n",
              "/* Label box, darken color on hover, fitted */\n",
              "#sk-container-id-3 div.sk-label.fitted:hover label.sk-toggleable__label.fitted {\n",
              "  color: var(--sklearn-color-text);\n",
              "  background-color: var(--sklearn-color-fitted-level-2);\n",
              "}\n",
              "\n",
              "/* Estimator label */\n",
              "\n",
              "#sk-container-id-3 div.sk-label label {\n",
              "  font-family: monospace;\n",
              "  font-weight: bold;\n",
              "  display: inline-block;\n",
              "  line-height: 1.2em;\n",
              "}\n",
              "\n",
              "#sk-container-id-3 div.sk-label-container {\n",
              "  text-align: center;\n",
              "}\n",
              "\n",
              "/* Estimator-specific */\n",
              "#sk-container-id-3 div.sk-estimator {\n",
              "  font-family: monospace;\n",
              "  border: 1px dotted var(--sklearn-color-border-box);\n",
              "  border-radius: 0.25em;\n",
              "  box-sizing: border-box;\n",
              "  margin-bottom: 0.5em;\n",
              "  /* unfitted */\n",
              "  background-color: var(--sklearn-color-unfitted-level-0);\n",
              "}\n",
              "\n",
              "#sk-container-id-3 div.sk-estimator.fitted {\n",
              "  /* fitted */\n",
              "  background-color: var(--sklearn-color-fitted-level-0);\n",
              "}\n",
              "\n",
              "/* on hover */\n",
              "#sk-container-id-3 div.sk-estimator:hover {\n",
              "  /* unfitted */\n",
              "  background-color: var(--sklearn-color-unfitted-level-2);\n",
              "}\n",
              "\n",
              "#sk-container-id-3 div.sk-estimator.fitted:hover {\n",
              "  /* fitted */\n",
              "  background-color: var(--sklearn-color-fitted-level-2);\n",
              "}\n",
              "\n",
              "/* Specification for estimator info (e.g. \"i\" and \"?\") */\n",
              "\n",
              "/* Common style for \"i\" and \"?\" */\n",
              "\n",
              ".sk-estimator-doc-link,\n",
              "a:link.sk-estimator-doc-link,\n",
              "a:visited.sk-estimator-doc-link {\n",
              "  float: right;\n",
              "  font-size: smaller;\n",
              "  line-height: 1em;\n",
              "  font-family: monospace;\n",
              "  background-color: var(--sklearn-color-background);\n",
              "  border-radius: 1em;\n",
              "  height: 1em;\n",
              "  width: 1em;\n",
              "  text-decoration: none !important;\n",
              "  margin-left: 0.5em;\n",
              "  text-align: center;\n",
              "  /* unfitted */\n",
              "  border: var(--sklearn-color-unfitted-level-1) 1pt solid;\n",
              "  color: var(--sklearn-color-unfitted-level-1);\n",
              "}\n",
              "\n",
              ".sk-estimator-doc-link.fitted,\n",
              "a:link.sk-estimator-doc-link.fitted,\n",
              "a:visited.sk-estimator-doc-link.fitted {\n",
              "  /* fitted */\n",
              "  border: var(--sklearn-color-fitted-level-1) 1pt solid;\n",
              "  color: var(--sklearn-color-fitted-level-1);\n",
              "}\n",
              "\n",
              "/* On hover */\n",
              "div.sk-estimator:hover .sk-estimator-doc-link:hover,\n",
              ".sk-estimator-doc-link:hover,\n",
              "div.sk-label-container:hover .sk-estimator-doc-link:hover,\n",
              ".sk-estimator-doc-link:hover {\n",
              "  /* unfitted */\n",
              "  background-color: var(--sklearn-color-unfitted-level-3);\n",
              "  color: var(--sklearn-color-background);\n",
              "  text-decoration: none;\n",
              "}\n",
              "\n",
              "div.sk-estimator.fitted:hover .sk-estimator-doc-link.fitted:hover,\n",
              ".sk-estimator-doc-link.fitted:hover,\n",
              "div.sk-label-container:hover .sk-estimator-doc-link.fitted:hover,\n",
              ".sk-estimator-doc-link.fitted:hover {\n",
              "  /* fitted */\n",
              "  background-color: var(--sklearn-color-fitted-level-3);\n",
              "  color: var(--sklearn-color-background);\n",
              "  text-decoration: none;\n",
              "}\n",
              "\n",
              "/* Span, style for the box shown on hovering the info icon */\n",
              ".sk-estimator-doc-link span {\n",
              "  display: none;\n",
              "  z-index: 9999;\n",
              "  position: relative;\n",
              "  font-weight: normal;\n",
              "  right: .2ex;\n",
              "  padding: .5ex;\n",
              "  margin: .5ex;\n",
              "  width: min-content;\n",
              "  min-width: 20ex;\n",
              "  max-width: 50ex;\n",
              "  color: var(--sklearn-color-text);\n",
              "  box-shadow: 2pt 2pt 4pt #999;\n",
              "  /* unfitted */\n",
              "  background: var(--sklearn-color-unfitted-level-0);\n",
              "  border: .5pt solid var(--sklearn-color-unfitted-level-3);\n",
              "}\n",
              "\n",
              ".sk-estimator-doc-link.fitted span {\n",
              "  /* fitted */\n",
              "  background: var(--sklearn-color-fitted-level-0);\n",
              "  border: var(--sklearn-color-fitted-level-3);\n",
              "}\n",
              "\n",
              ".sk-estimator-doc-link:hover span {\n",
              "  display: block;\n",
              "}\n",
              "\n",
              "/* \"?\"-specific style due to the `<a>` HTML tag */\n",
              "\n",
              "#sk-container-id-3 a.estimator_doc_link {\n",
              "  float: right;\n",
              "  font-size: 1rem;\n",
              "  line-height: 1em;\n",
              "  font-family: monospace;\n",
              "  background-color: var(--sklearn-color-background);\n",
              "  border-radius: 1rem;\n",
              "  height: 1rem;\n",
              "  width: 1rem;\n",
              "  text-decoration: none;\n",
              "  /* unfitted */\n",
              "  color: var(--sklearn-color-unfitted-level-1);\n",
              "  border: var(--sklearn-color-unfitted-level-1) 1pt solid;\n",
              "}\n",
              "\n",
              "#sk-container-id-3 a.estimator_doc_link.fitted {\n",
              "  /* fitted */\n",
              "  border: var(--sklearn-color-fitted-level-1) 1pt solid;\n",
              "  color: var(--sklearn-color-fitted-level-1);\n",
              "}\n",
              "\n",
              "/* On hover */\n",
              "#sk-container-id-3 a.estimator_doc_link:hover {\n",
              "  /* unfitted */\n",
              "  background-color: var(--sklearn-color-unfitted-level-3);\n",
              "  color: var(--sklearn-color-background);\n",
              "  text-decoration: none;\n",
              "}\n",
              "\n",
              "#sk-container-id-3 a.estimator_doc_link.fitted:hover {\n",
              "  /* fitted */\n",
              "  background-color: var(--sklearn-color-fitted-level-3);\n",
              "}\n",
              "</style><div id=\"sk-container-id-3\" class=\"sk-top-container\"><div class=\"sk-text-repr-fallback\"><pre>GradientBoostingClassifier(learning_rate=0.05, min_samples_leaf=30,\n",
              "                           min_samples_split=100, random_state=42,\n",
              "                           subsample=0.7)</pre><b>In a Jupyter environment, please rerun this cell to show the HTML representation or trust the notebook. <br />On GitHub, the HTML representation is unable to render, please try loading this page with nbviewer.org.</b></div><div class=\"sk-container\" hidden><div class=\"sk-item\"><div class=\"sk-estimator fitted sk-toggleable\"><input class=\"sk-toggleable__control sk-hidden--visually\" id=\"sk-estimator-id-5\" type=\"checkbox\" checked><label for=\"sk-estimator-id-5\" class=\"sk-toggleable__label fitted sk-toggleable__label-arrow\"><div><div>GradientBoostingClassifier</div></div><div><a class=\"sk-estimator-doc-link fitted\" rel=\"noreferrer\" target=\"_blank\" href=\"https://scikit-learn.org/1.6/modules/generated/sklearn.ensemble.GradientBoostingClassifier.html\">?<span>Documentation for GradientBoostingClassifier</span></a><span class=\"sk-estimator-doc-link fitted\">i<span>Fitted</span></span></div></label><div class=\"sk-toggleable__content fitted\"><pre>GradientBoostingClassifier(learning_rate=0.05, min_samples_leaf=30,\n",
              "                           min_samples_split=100, random_state=42,\n",
              "                           subsample=0.7)</pre></div> </div></div></div></div>"
            ]
          },
          "metadata": {},
          "execution_count": 107
        }
      ]
    },
    {
      "cell_type": "markdown",
      "source": [
        "### Evaluate final model"
      ],
      "metadata": {
        "id": "X5Ag7ZiFQyGj"
      }
    },
    {
      "cell_type": "code",
      "source": [
        "final_pred = final_model.predict(X_test_scaled)\n",
        "final_accuracy = accuracy_score(y_test, final_pred)\n",
        "final_precision = precision_score(y_test, final_pred)\n",
        "final_recall = recall_score(y_test, final_pred)\n",
        "final_f1 = f1_score(y_test, final_pred)"
      ],
      "metadata": {
        "colab": {
          "base_uri": "https://localhost:8080/"
        },
        "id": "fmRY2P-JQz95",
        "outputId": "1aaefbc9-42d3-4392-855a-8b86a65efc1e"
      },
      "execution_count": 108,
      "outputs": [
        {
          "output_type": "stream",
          "name": "stderr",
          "text": [
            "/usr/local/lib/python3.11/dist-packages/sklearn/metrics/_classification.py:1565: UndefinedMetricWarning: Precision is ill-defined and being set to 0.0 due to no predicted samples. Use `zero_division` parameter to control this behavior.\n",
            "  _warn_prf(average, modifier, f\"{metric.capitalize()} is\", len(result))\n"
          ]
        }
      ]
    },
    {
      "cell_type": "code",
      "source": [
        "log_event(\"FINAL_MODEL_EVALUATION\", \"Final model performance after tuning\", {\n",
        "    \"accuracy\": float(final_accuracy),\n",
        "    \"precision\": float(final_precision),\n",
        "    \"recall\": float(final_recall),\n",
        "    \"f1_score\": float(final_f1)\n",
        "})"
      ],
      "metadata": {
        "colab": {
          "base_uri": "https://localhost:8080/"
        },
        "id": "cnKtBJHHQ3HH",
        "outputId": "1ddfe396-82a5-4b07-842d-950688655c44"
      },
      "execution_count": 109,
      "outputs": [
        {
          "output_type": "stream",
          "name": "stdout",
          "text": [
            "[2025-03-24T09:36:58.585705] FINAL_MODEL_EVALUATION: Final model performance after tuning\n"
          ]
        }
      ]
    },
    {
      "cell_type": "code",
      "source": [
        "print(\"\\nFinal Model Performance After Tuning:\")\n",
        "print(f\"Accuracy: {final_accuracy:.4f}\")\n",
        "print(f\"Precision: {final_precision:.4f}\")\n",
        "print(f\"Recall: {final_recall:.4f}\")\n",
        "print(f\"F1 Score: {final_f1:.4f}\")"
      ],
      "metadata": {
        "colab": {
          "base_uri": "https://localhost:8080/"
        },
        "id": "8sB-MyVZQ427",
        "outputId": "99d3bca2-dcf3-4a04-99b8-29c4fce479bc"
      },
      "execution_count": 110,
      "outputs": [
        {
          "output_type": "stream",
          "name": "stdout",
          "text": [
            "\n",
            "Final Model Performance After Tuning:\n",
            "Accuracy: 0.5000\n",
            "Precision: 0.0000\n",
            "Recall: 0.0000\n",
            "F1 Score: 0.0000\n"
          ]
        }
      ]
    },
    {
      "cell_type": "markdown",
      "source": [
        "### Save all logs to file"
      ],
      "metadata": {
        "id": "t5RxNcEDRfUq"
      }
    },
    {
      "cell_type": "code",
      "source": [
        "saving_time = time.time() - start_time\n",
        "log_event(\"TIMING\", f\"Model saving completed in {saving_time:.2f} seconds\")"
      ],
      "metadata": {
        "colab": {
          "base_uri": "https://localhost:8080/"
        },
        "id": "6w_9ZPp9Rf2K",
        "outputId": "4a08ab84-08cc-48ae-d043-cde45102d26b"
      },
      "execution_count": 111,
      "outputs": [
        {
          "output_type": "stream",
          "name": "stdout",
          "text": [
            "[2025-03-24T09:37:04.941693] TIMING: Model saving completed in 479.13 seconds\n"
          ]
        }
      ]
    },
    {
      "cell_type": "code",
      "source": [
        "with open(LOG_OUTPUT_PATH, 'w') as f:\n",
        "    json.dump(log_data, f, indent=2)"
      ],
      "metadata": {
        "id": "APbQ1IfsRjwo"
      },
      "execution_count": 112,
      "outputs": []
    },
    {
      "cell_type": "markdown",
      "source": [
        "### Save the final tuned model"
      ],
      "metadata": {
        "id": "_zCWzVY4Q7_R"
      }
    },
    {
      "cell_type": "code",
      "source": [
        "joblib.dump(final_model, f'{BASE_PATH}/models/gradient_boosting_model/gradient_boost_tuned.pkl')"
      ],
      "metadata": {
        "colab": {
          "base_uri": "https://localhost:8080/"
        },
        "id": "nzSLCb0dQ904",
        "outputId": "a83da7cb-bdd0-43d5-f8fc-08ea429fc98b"
      },
      "execution_count": 114,
      "outputs": [
        {
          "output_type": "execute_result",
          "data": {
            "text/plain": [
              "['/content/drive/MyDrive/PUSL3190/models/gradient_boosting_model/gradient_boost_tuned.pkl']"
            ]
          },
          "metadata": {},
          "execution_count": 114
        }
      ]
    },
    {
      "cell_type": "markdown",
      "source": [
        "### Save model parameters and metadata for the tuned model"
      ],
      "metadata": {
        "id": "sDtydP9EQ_1q"
      }
    },
    {
      "cell_type": "code",
      "source": [
        "tuned_model_info = {\n",
        "    \"name\": \"gradient_boost_tuned_v1\",\n",
        "    \"type\": \"gradient_boost\",\n",
        "    \"version\": \"1.0\",\n",
        "    \"trained_at\": datetime.now().isoformat(),\n",
        "    \"accuracy\": float(final_accuracy),\n",
        "    \"precision\": float(final_precision),\n",
        "    \"recall\": float(final_recall),\n",
        "    \"f1_score\": float(final_f1),\n",
        "    \"parameters\": {\n",
        "        \"n_estimators\": final_model.n_estimators,\n",
        "        **grid_search.best_params_\n",
        "    },\n",
        "    \"dataset_size\": df.shape[0],\n",
        "    \"training_samples\": X_train.shape[0],\n",
        "    \"test_samples\": X_test.shape[0]\n",
        "}"
      ],
      "metadata": {
        "id": "Nwg65B4PRB2V"
      },
      "execution_count": 115,
      "outputs": []
    },
    {
      "cell_type": "code",
      "source": [
        "with open(f'{BASE_PATH}/models/gradient_boosting_model/gradient_boost_tuned_metadata.json', 'w') as f:\n",
        "    json.dump(tuned_model_info, f, indent=2)"
      ],
      "metadata": {
        "id": "vgSxp0TURE8J"
      },
      "execution_count": 117,
      "outputs": []
    },
    {
      "cell_type": "code",
      "source": [
        "print(\"\\n===== TRAINING COMPLETE =====\")\n",
        "print(f\"Initial model accuracy: {accuracy:.4f}\")\n",
        "print(f\"Final tuned model accuracy: {final_accuracy:.4f}\")\n",
        "print(f\"Models saved to {MODEL_OUTPUT_PATH}\")\n",
        "print(f\"Logs saved to {LOG_OUTPUT_PATH}\")"
      ],
      "metadata": {
        "colab": {
          "base_uri": "https://localhost:8080/"
        },
        "id": "2Ss-pOMjRGot",
        "outputId": "8723af0f-ee1d-40dc-c09d-b250a3292ca5"
      },
      "execution_count": 118,
      "outputs": [
        {
          "output_type": "stream",
          "name": "stdout",
          "text": [
            "\n",
            "===== TRAINING COMPLETE =====\n",
            "Initial model accuracy: 0.5000\n",
            "Final tuned model accuracy: 0.5000\n",
            "Models saved to /content/drive/MyDrive/PUSL3190/models/gradient_boosting_model/gradient_boost_model.pkl\n",
            "Logs saved to /content/drive/MyDrive/PUSL3190/logs/gradient_boost_training_log.json\n"
          ]
        }
      ]
    }
  ]
}