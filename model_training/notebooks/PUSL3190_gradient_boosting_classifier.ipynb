{
  "nbformat": 4,
  "nbformat_minor": 0,
  "metadata": {
    "colab": {
      "provenance": [],
      "gpuType": "V28"
    },
    "kernelspec": {
      "name": "python3",
      "display_name": "Python 3"
    },
    "language_info": {
      "name": "python"
    },
    "widgets": {
      "application/vnd.jupyter.widget-state+json": {
        "1f9adb69a01648cda6e06799397f7447": {
          "model_module": "@jupyter-widgets/controls",
          "model_name": "HBoxModel",
          "model_module_version": "1.5.0",
          "state": {
            "_dom_classes": [],
            "_model_module": "@jupyter-widgets/controls",
            "_model_module_version": "1.5.0",
            "_model_name": "HBoxModel",
            "_view_count": null,
            "_view_module": "@jupyter-widgets/controls",
            "_view_module_version": "1.5.0",
            "_view_name": "HBoxView",
            "box_style": "",
            "children": [
              "IPY_MODEL_902b0a689776418bad6dbf261cd0eec3",
              "IPY_MODEL_9156c913448744f193f1973aff6e938c",
              "IPY_MODEL_7191b08b8946474289b64cf8b07e6452"
            ],
            "layout": "IPY_MODEL_9021198cb00145df87377477d93bde3b"
          }
        },
        "902b0a689776418bad6dbf261cd0eec3": {
          "model_module": "@jupyter-widgets/controls",
          "model_name": "HTMLModel",
          "model_module_version": "1.5.0",
          "state": {
            "_dom_classes": [],
            "_model_module": "@jupyter-widgets/controls",
            "_model_module_version": "1.5.0",
            "_model_name": "HTMLModel",
            "_view_count": null,
            "_view_module": "@jupyter-widgets/controls",
            "_view_module_version": "1.5.0",
            "_view_name": "HTMLView",
            "description": "",
            "description_tooltip": null,
            "layout": "IPY_MODEL_a48f11aacdf04aad9d967eb5d28415f6",
            "placeholder": "​",
            "style": "IPY_MODEL_c7f8dc809fc34d19b68836348ee74f43",
            "value": "100%"
          }
        },
        "9156c913448744f193f1973aff6e938c": {
          "model_module": "@jupyter-widgets/controls",
          "model_name": "FloatProgressModel",
          "model_module_version": "1.5.0",
          "state": {
            "_dom_classes": [],
            "_model_module": "@jupyter-widgets/controls",
            "_model_module_version": "1.5.0",
            "_model_name": "FloatProgressModel",
            "_view_count": null,
            "_view_module": "@jupyter-widgets/controls",
            "_view_module_version": "1.5.0",
            "_view_name": "ProgressView",
            "bar_style": "success",
            "description": "",
            "description_tooltip": null,
            "layout": "IPY_MODEL_44e533059ebd4d419c43bbb99c7f97aa",
            "max": 80,
            "min": 0,
            "orientation": "horizontal",
            "style": "IPY_MODEL_303359dca15b436c879acb338fd3845f",
            "value": 80
          }
        },
        "7191b08b8946474289b64cf8b07e6452": {
          "model_module": "@jupyter-widgets/controls",
          "model_name": "HTMLModel",
          "model_module_version": "1.5.0",
          "state": {
            "_dom_classes": [],
            "_model_module": "@jupyter-widgets/controls",
            "_model_module_version": "1.5.0",
            "_model_name": "HTMLModel",
            "_view_count": null,
            "_view_module": "@jupyter-widgets/controls",
            "_view_module_version": "1.5.0",
            "_view_name": "HTMLView",
            "description": "",
            "description_tooltip": null,
            "layout": "IPY_MODEL_e154c2be8a5e429ca790dc1b7dc06bc3",
            "placeholder": "​",
            "style": "IPY_MODEL_080a5056e7cd47c4b56a0bcd17271914",
            "value": " 80/80 [25:10&lt;00:00, 19.20s/it]"
          }
        },
        "9021198cb00145df87377477d93bde3b": {
          "model_module": "@jupyter-widgets/base",
          "model_name": "LayoutModel",
          "model_module_version": "1.2.0",
          "state": {
            "_model_module": "@jupyter-widgets/base",
            "_model_module_version": "1.2.0",
            "_model_name": "LayoutModel",
            "_view_count": null,
            "_view_module": "@jupyter-widgets/base",
            "_view_module_version": "1.2.0",
            "_view_name": "LayoutView",
            "align_content": null,
            "align_items": null,
            "align_self": null,
            "border": null,
            "bottom": null,
            "display": null,
            "flex": null,
            "flex_flow": null,
            "grid_area": null,
            "grid_auto_columns": null,
            "grid_auto_flow": null,
            "grid_auto_rows": null,
            "grid_column": null,
            "grid_gap": null,
            "grid_row": null,
            "grid_template_areas": null,
            "grid_template_columns": null,
            "grid_template_rows": null,
            "height": null,
            "justify_content": null,
            "justify_items": null,
            "left": null,
            "margin": null,
            "max_height": null,
            "max_width": null,
            "min_height": null,
            "min_width": null,
            "object_fit": null,
            "object_position": null,
            "order": null,
            "overflow": null,
            "overflow_x": null,
            "overflow_y": null,
            "padding": null,
            "right": null,
            "top": null,
            "visibility": null,
            "width": null
          }
        },
        "a48f11aacdf04aad9d967eb5d28415f6": {
          "model_module": "@jupyter-widgets/base",
          "model_name": "LayoutModel",
          "model_module_version": "1.2.0",
          "state": {
            "_model_module": "@jupyter-widgets/base",
            "_model_module_version": "1.2.0",
            "_model_name": "LayoutModel",
            "_view_count": null,
            "_view_module": "@jupyter-widgets/base",
            "_view_module_version": "1.2.0",
            "_view_name": "LayoutView",
            "align_content": null,
            "align_items": null,
            "align_self": null,
            "border": null,
            "bottom": null,
            "display": null,
            "flex": null,
            "flex_flow": null,
            "grid_area": null,
            "grid_auto_columns": null,
            "grid_auto_flow": null,
            "grid_auto_rows": null,
            "grid_column": null,
            "grid_gap": null,
            "grid_row": null,
            "grid_template_areas": null,
            "grid_template_columns": null,
            "grid_template_rows": null,
            "height": null,
            "justify_content": null,
            "justify_items": null,
            "left": null,
            "margin": null,
            "max_height": null,
            "max_width": null,
            "min_height": null,
            "min_width": null,
            "object_fit": null,
            "object_position": null,
            "order": null,
            "overflow": null,
            "overflow_x": null,
            "overflow_y": null,
            "padding": null,
            "right": null,
            "top": null,
            "visibility": null,
            "width": null
          }
        },
        "c7f8dc809fc34d19b68836348ee74f43": {
          "model_module": "@jupyter-widgets/controls",
          "model_name": "DescriptionStyleModel",
          "model_module_version": "1.5.0",
          "state": {
            "_model_module": "@jupyter-widgets/controls",
            "_model_module_version": "1.5.0",
            "_model_name": "DescriptionStyleModel",
            "_view_count": null,
            "_view_module": "@jupyter-widgets/base",
            "_view_module_version": "1.2.0",
            "_view_name": "StyleView",
            "description_width": ""
          }
        },
        "44e533059ebd4d419c43bbb99c7f97aa": {
          "model_module": "@jupyter-widgets/base",
          "model_name": "LayoutModel",
          "model_module_version": "1.2.0",
          "state": {
            "_model_module": "@jupyter-widgets/base",
            "_model_module_version": "1.2.0",
            "_model_name": "LayoutModel",
            "_view_count": null,
            "_view_module": "@jupyter-widgets/base",
            "_view_module_version": "1.2.0",
            "_view_name": "LayoutView",
            "align_content": null,
            "align_items": null,
            "align_self": null,
            "border": null,
            "bottom": null,
            "display": null,
            "flex": null,
            "flex_flow": null,
            "grid_area": null,
            "grid_auto_columns": null,
            "grid_auto_flow": null,
            "grid_auto_rows": null,
            "grid_column": null,
            "grid_gap": null,
            "grid_row": null,
            "grid_template_areas": null,
            "grid_template_columns": null,
            "grid_template_rows": null,
            "height": null,
            "justify_content": null,
            "justify_items": null,
            "left": null,
            "margin": null,
            "max_height": null,
            "max_width": null,
            "min_height": null,
            "min_width": null,
            "object_fit": null,
            "object_position": null,
            "order": null,
            "overflow": null,
            "overflow_x": null,
            "overflow_y": null,
            "padding": null,
            "right": null,
            "top": null,
            "visibility": null,
            "width": null
          }
        },
        "303359dca15b436c879acb338fd3845f": {
          "model_module": "@jupyter-widgets/controls",
          "model_name": "ProgressStyleModel",
          "model_module_version": "1.5.0",
          "state": {
            "_model_module": "@jupyter-widgets/controls",
            "_model_module_version": "1.5.0",
            "_model_name": "ProgressStyleModel",
            "_view_count": null,
            "_view_module": "@jupyter-widgets/base",
            "_view_module_version": "1.2.0",
            "_view_name": "StyleView",
            "bar_color": null,
            "description_width": ""
          }
        },
        "e154c2be8a5e429ca790dc1b7dc06bc3": {
          "model_module": "@jupyter-widgets/base",
          "model_name": "LayoutModel",
          "model_module_version": "1.2.0",
          "state": {
            "_model_module": "@jupyter-widgets/base",
            "_model_module_version": "1.2.0",
            "_model_name": "LayoutModel",
            "_view_count": null,
            "_view_module": "@jupyter-widgets/base",
            "_view_module_version": "1.2.0",
            "_view_name": "LayoutView",
            "align_content": null,
            "align_items": null,
            "align_self": null,
            "border": null,
            "bottom": null,
            "display": null,
            "flex": null,
            "flex_flow": null,
            "grid_area": null,
            "grid_auto_columns": null,
            "grid_auto_flow": null,
            "grid_auto_rows": null,
            "grid_column": null,
            "grid_gap": null,
            "grid_row": null,
            "grid_template_areas": null,
            "grid_template_columns": null,
            "grid_template_rows": null,
            "height": null,
            "justify_content": null,
            "justify_items": null,
            "left": null,
            "margin": null,
            "max_height": null,
            "max_width": null,
            "min_height": null,
            "min_width": null,
            "object_fit": null,
            "object_position": null,
            "order": null,
            "overflow": null,
            "overflow_x": null,
            "overflow_y": null,
            "padding": null,
            "right": null,
            "top": null,
            "visibility": null,
            "width": null
          }
        },
        "080a5056e7cd47c4b56a0bcd17271914": {
          "model_module": "@jupyter-widgets/controls",
          "model_name": "DescriptionStyleModel",
          "model_module_version": "1.5.0",
          "state": {
            "_model_module": "@jupyter-widgets/controls",
            "_model_module_version": "1.5.0",
            "_model_name": "DescriptionStyleModel",
            "_view_count": null,
            "_view_module": "@jupyter-widgets/base",
            "_view_module_version": "1.2.0",
            "_view_name": "StyleView",
            "description_width": ""
          }
        }
      }
    },
    "accelerator": "TPU"
  },
  "cells": [
    {
      "cell_type": "markdown",
      "source": [
        "# AI-Powered URL Phishing Detection System\n",
        "# Gradient Boosting Classifier for Chatbot"
      ],
      "metadata": {
        "id": "pdQZKCWpZQ0a"
      }
    },
    {
      "cell_type": "markdown",
      "source": [
        "## Steup and Imports"
      ],
      "metadata": {
        "id": "R-aZ0tsoZUmF"
      }
    },
    {
      "cell_type": "code",
      "source": [
        "!pip install python-whois dnspython tldextract beautifulsoup4 requests pyOpenSSL tqdm"
      ],
      "metadata": {
        "colab": {
          "base_uri": "https://localhost:8080/"
        },
        "id": "xSQbVt1Xw4Eo",
        "outputId": "7a5f7c35-f0a4-4986-b671-0e2beb063439"
      },
      "execution_count": 1,
      "outputs": [
        {
          "output_type": "stream",
          "name": "stdout",
          "text": [
            "Collecting python-whois\n",
            "  Downloading python_whois-0.9.5-py3-none-any.whl.metadata (2.6 kB)\n",
            "Collecting dnspython\n",
            "  Downloading dnspython-2.7.0-py3-none-any.whl.metadata (5.8 kB)\n",
            "Collecting tldextract\n",
            "  Downloading tldextract-5.3.0-py3-none-any.whl.metadata (11 kB)\n",
            "Requirement already satisfied: beautifulsoup4 in /usr/local/lib/python3.11/dist-packages (4.13.4)\n",
            "Requirement already satisfied: requests in /usr/local/lib/python3.11/dist-packages (2.32.3)\n",
            "Requirement already satisfied: pyOpenSSL in /usr/local/lib/python3.11/dist-packages (24.2.1)\n",
            "Requirement already satisfied: tqdm in /usr/local/lib/python3.11/dist-packages (4.67.1)\n",
            "Requirement already satisfied: python-dateutil in /usr/local/lib/python3.11/dist-packages (from python-whois) (2.8.2)\n",
            "Requirement already satisfied: idna in /usr/local/lib/python3.11/dist-packages (from tldextract) (3.10)\n",
            "Collecting requests-file>=1.4 (from tldextract)\n",
            "  Downloading requests_file-2.1.0-py2.py3-none-any.whl.metadata (1.7 kB)\n",
            "Requirement already satisfied: filelock>=3.0.8 in /usr/local/lib/python3.11/dist-packages (from tldextract) (3.18.0)\n",
            "Requirement already satisfied: soupsieve>1.2 in /usr/local/lib/python3.11/dist-packages (from beautifulsoup4) (2.7)\n",
            "Requirement already satisfied: typing-extensions>=4.0.0 in /usr/local/lib/python3.11/dist-packages (from beautifulsoup4) (4.13.2)\n",
            "Requirement already satisfied: charset-normalizer<4,>=2 in /usr/local/lib/python3.11/dist-packages (from requests) (3.4.1)\n",
            "Requirement already satisfied: urllib3<3,>=1.21.1 in /usr/local/lib/python3.11/dist-packages (from requests) (2.3.0)\n",
            "Requirement already satisfied: certifi>=2017.4.17 in /usr/local/lib/python3.11/dist-packages (from requests) (2025.1.31)\n",
            "Requirement already satisfied: cryptography<44,>=41.0.5 in /usr/local/lib/python3.11/dist-packages (from pyOpenSSL) (43.0.3)\n",
            "Requirement already satisfied: cffi>=1.12 in /usr/local/lib/python3.11/dist-packages (from cryptography<44,>=41.0.5->pyOpenSSL) (1.17.1)\n",
            "Requirement already satisfied: six>=1.5 in /usr/local/lib/python3.11/dist-packages (from python-dateutil->python-whois) (1.17.0)\n",
            "Requirement already satisfied: pycparser in /usr/local/lib/python3.11/dist-packages (from cffi>=1.12->cryptography<44,>=41.0.5->pyOpenSSL) (2.22)\n",
            "Downloading python_whois-0.9.5-py3-none-any.whl (104 kB)\n",
            "\u001b[2K   \u001b[90m━━━━━━━━━━━━━━━━━━━━━━━━━━━━━━━━━━━━━━━━\u001b[0m \u001b[32m104.2/104.2 kB\u001b[0m \u001b[31m2.3 MB/s\u001b[0m eta \u001b[36m0:00:00\u001b[0m\n",
            "\u001b[?25hDownloading dnspython-2.7.0-py3-none-any.whl (313 kB)\n",
            "\u001b[2K   \u001b[90m━━━━━━━━━━━━━━━━━━━━━━━━━━━━━━━━━━━━━━━━\u001b[0m \u001b[32m313.6/313.6 kB\u001b[0m \u001b[31m12.6 MB/s\u001b[0m eta \u001b[36m0:00:00\u001b[0m\n",
            "\u001b[?25hDownloading tldextract-5.3.0-py3-none-any.whl (107 kB)\n",
            "\u001b[2K   \u001b[90m━━━━━━━━━━━━━━━━━━━━━━━━━━━━━━━━━━━━━━━━\u001b[0m \u001b[32m107.4/107.4 kB\u001b[0m \u001b[31m2.7 MB/s\u001b[0m eta \u001b[36m0:00:00\u001b[0m\n",
            "\u001b[?25hDownloading requests_file-2.1.0-py2.py3-none-any.whl (4.2 kB)\n",
            "Installing collected packages: dnspython, requests-file, python-whois, tldextract\n",
            "Successfully installed dnspython-2.7.0 python-whois-0.9.5 requests-file-2.1.0 tldextract-5.3.0\n"
          ]
        }
      ]
    },
    {
      "cell_type": "code",
      "execution_count": 2,
      "metadata": {
        "id": "naVE9toeWcX7"
      },
      "outputs": [],
      "source": [
        "import pandas as pd\n",
        "import numpy as np\n",
        "import matplotlib.pyplot as plt\n",
        "import seaborn as sns\n",
        "import pickle\n",
        "import time\n",
        "import json\n",
        "import os\n",
        "import re\n",
        "import requests\n",
        "import socket\n",
        "from urllib.parse import urlparse\n",
        "from datetime import datetime\n",
        "from bs4 import BeautifulSoup\n",
        "from sklearn.model_selection import train_test_split, GridSearchCV\n",
        "from sklearn.ensemble import GradientBoostingClassifier\n",
        "from sklearn.metrics import accuracy_score, precision_score, recall_score, f1_score, confusion_matrix, roc_curve, auc\n",
        "from sklearn.preprocessing import StandardScaler\n",
        "import joblib\n",
        "import whois\n",
        "import dns.resolver\n",
        "import tldextract\n",
        "import ssl\n",
        "import OpenSSL.crypto as crypto\n",
        "import socket\n",
        "import concurrent.futures\n",
        "from tqdm.notebook import tqdm\n",
        "from concurrent.futures import ThreadPoolExecutor, as_completed"
      ]
    },
    {
      "cell_type": "markdown",
      "source": [
        "### Mount Google Drive"
      ],
      "metadata": {
        "id": "8TwLZMHuaA27"
      }
    },
    {
      "cell_type": "code",
      "source": [
        "from google.colab import drive\n",
        "drive.mount('/content/drive')"
      ],
      "metadata": {
        "colab": {
          "base_uri": "https://localhost:8080/"
        },
        "id": "LDbSaOzoaBcU",
        "outputId": "bc778da7-79e2-4e27-9e91-e1baaafe3cd2"
      },
      "execution_count": 3,
      "outputs": [
        {
          "output_type": "stream",
          "name": "stdout",
          "text": [
            "Mounted at /content/drive\n"
          ]
        }
      ]
    },
    {
      "cell_type": "markdown",
      "source": [
        "## Configuration and Logging"
      ],
      "metadata": {
        "id": "zYPK-6MNaZIi"
      }
    },
    {
      "cell_type": "markdown",
      "source": [
        "### Set up logging"
      ],
      "metadata": {
        "id": "zK_EGbNYaea5"
      }
    },
    {
      "cell_type": "code",
      "source": [
        "log_data = []\n",
        "\n",
        "def log_event(event_type, message, metadata=None):\n",
        "    \"\"\"Log events for research documentation\"\"\"\n",
        "    log_entry = {\n",
        "        \"timestamp\": datetime.now().isoformat(),\n",
        "        \"event_type\": event_type,\n",
        "        \"message\": message,\n",
        "        \"metadata\": metadata or {}\n",
        "    }\n",
        "    log_data.append(log_entry)\n",
        "    print(f\"[{log_entry['timestamp']}] {event_type}: {message}\")"
      ],
      "metadata": {
        "id": "uCJzivZgab8u"
      },
      "execution_count": 4,
      "outputs": []
    },
    {
      "cell_type": "markdown",
      "source": [
        "### Define paths"
      ],
      "metadata": {
        "id": "PsUceZULanME"
      }
    },
    {
      "cell_type": "code",
      "source": [
        "BASE_PATH = '/content/drive/MyDrive/PUSL3190'\n",
        "RAW_DATA_PATH = f'{BASE_PATH}/data/raw/phishing_site_urls.csv'\n",
        "PROCESSED_DATA_PATH = f'{BASE_PATH}/data/processed/chatbot/chatbot_features.csv'\n",
        "MODEL_OUTPUT_PATH = f'{BASE_PATH}/models/gradient_boosting_model/gradient_boost_model.pkl'\n",
        "SCALER_OUTPUT_PATH = f'{BASE_PATH}/models/gradient_boosting_model/gradient_boost_scaler.pkl'\n",
        "METADATA_OUTPUT_PATH = f'{BASE_PATH}/models/gradient_boosting_model/gradient_boost_metadata.json'\n",
        "TUNED_MODEL_OUTPUT_PATH = f'{BASE_PATH}/models/gradient_boosting_model/gradient_boost_tuned.pkl'\n",
        "TUNED_METADATA_OUTPUT_PATH = f'{BASE_PATH}/models/gradient_boosting_model/gradient_boost_tuned_metadata.json'\n",
        "LOG_OUTPUT_PATH = f'{BASE_PATH}/logs/gradient_boost_training_log.json'"
      ],
      "metadata": {
        "id": "jie390m1ao7T"
      },
      "execution_count": 5,
      "outputs": []
    },
    {
      "cell_type": "markdown",
      "source": [
        "### Create directories if they don't exist"
      ],
      "metadata": {
        "id": "i2DlOyrO15Ln"
      }
    },
    {
      "cell_type": "code",
      "source": [
        "os.makedirs(f'{BASE_PATH}/data/processed', exist_ok=True)\n",
        "os.makedirs(f'{BASE_PATH}/models/gradient_boosting_model', exist_ok=True)\n",
        "os.makedirs(f'{BASE_PATH}/logs', exist_ok=True)"
      ],
      "metadata": {
        "id": "lbLYvHsz1-il"
      },
      "execution_count": null,
      "outputs": []
    },
    {
      "cell_type": "markdown",
      "source": [
        "## 1. Load and explore the dataset"
      ],
      "metadata": {
        "id": "Asq15B48bKcD"
      }
    },
    {
      "cell_type": "markdown",
      "source": [
        "### Load dataset"
      ],
      "metadata": {
        "id": "I0hh9ge3bT4J"
      }
    },
    {
      "cell_type": "code",
      "source": [
        "log_event(\"DATA_LOADING\", \"Loading dataset\")\n",
        "start_time = time.time()\n",
        "\n",
        "try:\n",
        "    df = pd.read_csv(RAW_DATA_PATH)\n",
        "    # Ensure class column is properly named and has numeric values\n",
        "    if 'label' in df.columns:\n",
        "        df = df.rename(columns={'label': 'class'})\n",
        "\n",
        "    if df['class'].dtype == 'object':\n",
        "        df['class'] = df['class'].map({'good': 0, 'bad': 1, 'legitimate': 0, 'phishing': 1})\n",
        "\n",
        "    print(f\"Dataset loaded with {df.shape[0]} rows and {df.shape[1]} columns\")\n",
        "    print(f\"Class distribution: {df['class'].value_counts().to_dict()}\")\n",
        "\n",
        "    log_event(\"DATA_LOADED\", f\"Dataset loaded with shape {df.shape}\")\n",
        "except Exception as e:\n",
        "    log_event(\"ERROR\", f\"Failed to load dataset: {str(e)}\")\n",
        "    raise\n",
        "\n",
        "loading_time = time.time() - start_time\n",
        "log_event(\"TIMING\", f\"Data loading completed in {loading_time:.2f} seconds\")"
      ],
      "metadata": {
        "colab": {
          "base_uri": "https://localhost:8080/"
        },
        "id": "A1euZTLzbMcP",
        "outputId": "66918860-c0d9-4a70-cdd9-0ebae1dad710"
      },
      "execution_count": 6,
      "outputs": [
        {
          "output_type": "stream",
          "name": "stdout",
          "text": [
            "[2025-04-28T16:28:07.445590] DATA_LOADING: Loading dataset\n",
            "Class values in dataset: [1 0]\n",
            "[2025-04-28T16:28:09.392996] DATA_LOADED: Dataset loaded with shape (4000, 2)\n",
            "[2025-04-28T16:28:09.393318] TIMING: Data loading completed in 1.95 seconds\n"
          ]
        }
      ]
    },
    {
      "cell_type": "markdown",
      "source": [
        "### Display basic information"
      ],
      "metadata": {
        "id": "64-tzvvrbvvR"
      }
    },
    {
      "cell_type": "code",
      "source": [
        "print(\"Dataset Information:\")\n",
        "print(f\"Total samples: {df.shape[0]}\")\n",
        "print(f\"Features: {df.shape[1]}\")\n",
        "print(\"\\nData Types:\")\n",
        "print(df.dtypes)\n",
        "print(\"\\nClass Distribution:\")\n",
        "print(df['class'].value_counts())\n",
        "print(\"\\nFirst 5 rows:\")\n",
        "print(df.head())"
      ],
      "metadata": {
        "colab": {
          "base_uri": "https://localhost:8080/"
        },
        "id": "D0suA3Khbwo3",
        "outputId": "9d9e97ea-c494-4e24-c9b9-5d9d62d3244c"
      },
      "execution_count": 7,
      "outputs": [
        {
          "output_type": "stream",
          "name": "stdout",
          "text": [
            "Dataset Information:\n",
            "Total samples: 4000\n",
            "Features: 2\n",
            "\n",
            "Data Types:\n",
            "URL      object\n",
            "class     int64\n",
            "dtype: object\n",
            "\n",
            "Class Distribution:\n",
            "class\n",
            "1    2000\n",
            "0    2000\n",
            "Name: count, dtype: int64\n",
            "\n",
            "First 5 rows:\n",
            "                                            URL  class\n",
            "0  https://start-support-tizer.gitbook.io/en-us      1\n",
            "1       https://iieudsjwasndjfkdjdd.weebly.com/      1\n",
            "2           https://0x-turbos.pages.dev/wallets      1\n",
            "3                   https://shbox.top/yecunoeu/      1\n",
            "4            https://sparkflrdrops.xyz/clm.html      1\n"
          ]
        }
      ]
    },
    {
      "cell_type": "markdown",
      "source": [
        "## 2. Feature Extraction Functions"
      ],
      "metadata": {
        "id": "4J5rI-Ykb9Pp"
      }
    },
    {
      "cell_type": "code",
      "source": [
        "log_event(\"FEATURE_EXTRACTION_FUNCTIONS\", \"Extracting functions for chatbot deep analysis\")\n",
        "start_time = time.time()"
      ],
      "metadata": {
        "colab": {
          "base_uri": "https://localhost:8080/"
        },
        "id": "d4FSyoHYb_mx",
        "outputId": "a25f4ec0-463d-4276-d900-e63328b3f6f8"
      },
      "execution_count": 8,
      "outputs": [
        {
          "output_type": "stream",
          "name": "stdout",
          "text": [
            "[2025-04-28T16:28:14.767550] FEATURE_EXTRACTION_FUNCTIONS: Extracting functions for chatbot deep analysis\n"
          ]
        }
      ]
    },
    {
      "cell_type": "markdown",
      "source": [
        "Extract comprehensive features for deep analysis in the chatbot based on the specified list:\n",
        "  - UsingIP\n",
        "  - LongURL\n",
        "  - ShortURL\n",
        "  - Symbol@\n",
        "  - Redirecting//\n",
        "  - PrefixSuffix-\n",
        "  - SubDomains\n",
        "  - HTTPS\n",
        "  - DomainRegLen\n",
        "  - Favicon\n",
        "  - NonStdPort\n",
        "  - HTTPSDomainURL\n",
        "  - RequestURL\n",
        "  - AnchorURL\n",
        "  - LinksInScriptTags\n",
        "  - ServerFormHandler\n",
        "  - InfoEmail\n",
        "  - AbnormalURL\n",
        "  - WebsiteForwarding\n",
        "  - StatusBarCust\n",
        "  - DisableRightClick\n",
        "  - UsingPopupWindow\n",
        "  - IframeRedirection\n",
        "  - AgeofDomain\n",
        "  - DNSRecording\n",
        "  - WebsiteTraffic\n",
        "  - PageRank\n",
        "  - GoogleIndex\n",
        "  - LinksPointingToPage\n",
        "  - StatsReport"
      ],
      "metadata": {
        "id": "oZRM0OvLcDMA"
      }
    },
    {
      "cell_type": "markdown",
      "source": [
        "### URL Parsing"
      ],
      "metadata": {
        "id": "kmcGYBU4yXy8"
      }
    },
    {
      "cell_type": "code",
      "source": [
        "def get_domain(url):\n",
        "    \"\"\"Extract domain from URL\"\"\"\n",
        "    try:\n",
        "        extracted = tldextract.extract(url)\n",
        "        domain = f\"{extracted.domain}.{extracted.suffix}\"\n",
        "        if extracted.subdomain:\n",
        "            full_domain = f\"{extracted.subdomain}.{domain}\"\n",
        "        else:\n",
        "            full_domain = domain\n",
        "        return domain, full_domain\n",
        "    except:\n",
        "        return None, None"
      ],
      "metadata": {
        "id": "RzJRToUfljiw"
      },
      "execution_count": 9,
      "outputs": []
    },
    {
      "cell_type": "markdown",
      "source": [
        "### WHOIS Information"
      ],
      "metadata": {
        "id": "rnlgP_pZytj8"
      }
    },
    {
      "cell_type": "code",
      "source": [
        "def get_domain_info(domain):\n",
        "    \"\"\"Get domain registration info using WHOIS\"\"\"\n",
        "    try:\n",
        "        w = whois.whois(domain)\n",
        "\n",
        "        # Get creation date\n",
        "        creation_date = w.creation_date\n",
        "        if isinstance(creation_date, list):\n",
        "            creation_date = creation_date[0]\n",
        "\n",
        "        # Get expiration date\n",
        "        expiration_date = w.expiration_date\n",
        "        if isinstance(expiration_date, list):\n",
        "            expiration_date = expiration_date[0]\n",
        "\n",
        "        # Calculate age in days\n",
        "        if creation_date:\n",
        "            domain_age = (datetime.now() - creation_date).days\n",
        "        else:\n",
        "            domain_age = -1\n",
        "\n",
        "        # Calculate registration length in days\n",
        "        if creation_date and expiration_date:\n",
        "            reg_len = (expiration_date - creation_date).days\n",
        "        else:\n",
        "            reg_len = -1\n",
        "\n",
        "        return {\n",
        "            'domain_age': domain_age,\n",
        "            'registration_length': reg_len\n",
        "        }\n",
        "    except Exception as e:\n",
        "        return {\n",
        "            'domain_age': -1,\n",
        "            'registration_length': -1\n",
        "        }"
      ],
      "metadata": {
        "id": "6H6VpsZBzDW2"
      },
      "execution_count": 10,
      "outputs": []
    },
    {
      "cell_type": "markdown",
      "source": [
        "### DNS Records"
      ],
      "metadata": {
        "id": "BICWMZD6zdX0"
      }
    },
    {
      "cell_type": "code",
      "source": [
        "def get_dns_records(domain):\n",
        "    \"\"\"Check if domain has proper DNS records\"\"\"\n",
        "    records = {\n",
        "        'has_a': False,\n",
        "        'has_mx': False,\n",
        "        'has_ns': False,\n",
        "        'has_txt': False,\n",
        "        'total_records': 0\n",
        "    }\n",
        "\n",
        "    try:\n",
        "        # A record\n",
        "        try:\n",
        "            answers = dns.resolver.resolve(domain, 'A')\n",
        "            records['has_a'] = len(answers) > 0\n",
        "            records['total_records'] += len(answers)\n",
        "        except:\n",
        "            pass\n",
        "\n",
        "        # MX record\n",
        "        try:\n",
        "            answers = dns.resolver.resolve(domain, 'MX')\n",
        "            records['has_mx'] = len(answers) > 0\n",
        "            records['total_records'] += len(answers)\n",
        "        except:\n",
        "            pass\n",
        "\n",
        "        # NS record\n",
        "        try:\n",
        "            answers = dns.resolver.resolve(domain, 'NS')\n",
        "            records['has_ns'] = len(answers) > 0\n",
        "            records['total_records'] += len(answers)\n",
        "        except:\n",
        "            pass\n",
        "\n",
        "        # TXT record\n",
        "        try:\n",
        "            answers = dns.resolver.resolve(domain, 'TXT')\n",
        "            records['has_txt'] = len(answers) > 0\n",
        "            records['total_records'] += len(answers)\n",
        "        except:\n",
        "            pass\n",
        "\n",
        "        return records\n",
        "    except Exception as e:\n",
        "        return records"
      ],
      "metadata": {
        "id": "z0VJBfCtzfvJ"
      },
      "execution_count": 12,
      "outputs": []
    },
    {
      "cell_type": "markdown",
      "source": [
        "### HTML Content Analysis"
      ],
      "metadata": {
        "id": "z4DbmcJwzndd"
      }
    },
    {
      "cell_type": "code",
      "source": [
        "def analyze_html_content(url):\n",
        "    \"\"\"Analyze HTML content for suspicious patterns\"\"\"\n",
        "    try:\n",
        "        headers = {\n",
        "            'User-Agent': 'Mozilla/5.0 (Windows NT 10.0; Win64; x64) AppleWebKit/537.36 (KHTML, like Gecko) Chrome/58.0.3029.110 Safari/537.3'\n",
        "        }\n",
        "        response = requests.get(url, headers=headers, timeout=5)\n",
        "\n",
        "        if response.status_code != 200:\n",
        "            return {\n",
        "                'has_favicon': False,\n",
        "                'external_favicon': False,\n",
        "                'form_action_external': False,\n",
        "                'has_password_field': False,\n",
        "                'has_hidden_element': False,\n",
        "                'external_scripts': 0,\n",
        "                'iframe_count': 0,\n",
        "                'onclick_count': 0,\n",
        "                'external_links': 0,\n",
        "                'internal_links': 0,\n",
        "                'null_links': 0,\n",
        "                'has_right_click_disabled': False,\n",
        "                'has_popup': False,\n",
        "                'status_bar_customized': False\n",
        "            }\n",
        "\n",
        "        soup = BeautifulSoup(response.text, 'html.parser')\n",
        "        domain, full_domain = get_domain(url)\n",
        "\n",
        "        # Check favicon\n",
        "        favicon = soup.find('link', rel=lambda r: r and 'icon' in r.lower())\n",
        "        has_favicon = favicon is not None\n",
        "        external_favicon = False\n",
        "        if has_favicon and favicon.get('href'):\n",
        "            favicon_url = favicon['href']\n",
        "            if not favicon_url.startswith('data:'):\n",
        "                if favicon_url.startswith('http'):\n",
        "                    favicon_domain = get_domain(favicon_url)[0]\n",
        "                    external_favicon = favicon_domain != domain\n",
        "\n",
        "        # Check forms\n",
        "        forms = soup.find_all('form')\n",
        "        form_action_external = False\n",
        "        for form in forms:\n",
        "            action = form.get('action', '')\n",
        "            if action and action.startswith('http'):\n",
        "                action_domain = get_domain(action)[0]\n",
        "                if action_domain != domain:\n",
        "                    form_action_external = True\n",
        "                    break\n",
        "\n",
        "        # Check for password fields\n",
        "        has_password_field = len(soup.find_all('input', type='password')) > 0\n",
        "\n",
        "        # Check for hidden elements\n",
        "        has_hidden_element = len(soup.find_all('input', type='hidden')) > 0\n",
        "\n",
        "        # Count scripts from external domains\n",
        "        scripts = soup.find_all('script', src=True)\n",
        "        external_scripts = 0\n",
        "        for script in scripts:\n",
        "            if script['src'].startswith('http'):\n",
        "                script_domain = get_domain(script['src'])[0]\n",
        "                if script_domain != domain:\n",
        "                    external_scripts += 1\n",
        "\n",
        "        # Count iframes\n",
        "        iframe_count = len(soup.find_all('iframe'))\n",
        "\n",
        "        # Count onclick events\n",
        "        elements_with_onclick = soup.find_all(lambda tag: tag.has_attr('onclick'))\n",
        "        onclick_count = len(elements_with_onclick)\n",
        "\n",
        "        # Analyze links\n",
        "        links = soup.find_all('a', href=True)\n",
        "        external_links = 0\n",
        "        internal_links = 0\n",
        "        null_links = 0\n",
        "\n",
        "        for link in links:\n",
        "            href = link['href'].lower()\n",
        "            if href == '#' or href == 'javascript:void(0)':\n",
        "                null_links += 1\n",
        "            elif href.startswith('http'):\n",
        "                link_domain = get_domain(href)[0]\n",
        "                if link_domain != domain:\n",
        "                    external_links += 1\n",
        "                else:\n",
        "                    internal_links += 1\n",
        "            else:\n",
        "                internal_links += 1\n",
        "\n",
        "        # Check for right-click disabling\n",
        "        has_right_click_disabled = 'oncontextmenu=\"return false\"' in response.text or 'event.button==2' in response.text\n",
        "\n",
        "        # Check for popups\n",
        "        has_popup = 'window.open(' in response.text\n",
        "\n",
        "        # Check for status bar customization\n",
        "        status_bar_customized = 'window.status' in response.text\n",
        "\n",
        "        return {\n",
        "            'has_favicon': has_favicon,\n",
        "            'external_favicon': external_favicon,\n",
        "            'form_action_external': form_action_external,\n",
        "            'has_password_field': has_password_field,\n",
        "            'has_hidden_element': has_hidden_element,\n",
        "            'external_scripts': external_scripts,\n",
        "            'iframe_count': iframe_count,\n",
        "            'onclick_count': onclick_count,\n",
        "            'external_links': external_links,\n",
        "            'internal_links': internal_links,\n",
        "            'null_links': null_links,\n",
        "            'has_right_click_disabled': has_right_click_disabled,\n",
        "            'has_popup': has_popup,\n",
        "            'status_bar_customized': status_bar_customized\n",
        "        }\n",
        "    except Exception as e:\n",
        "        return {\n",
        "            'has_favicon': False,\n",
        "            'external_favicon': False,\n",
        "            'form_action_external': False,\n",
        "            'has_password_field': False,\n",
        "            'has_hidden_element': False,\n",
        "            'external_scripts': 0,\n",
        "            'iframe_count': 0,\n",
        "            'onclick_count': 0,\n",
        "            'external_links': 0,\n",
        "            'internal_links': 0,\n",
        "            'null_links': 0,\n",
        "            'has_right_click_disabled': False,\n",
        "            'has_popup': False,\n",
        "            'status_bar_customized': False\n",
        "        }"
      ],
      "metadata": {
        "id": "ce4C3TESzp0A"
      },
      "execution_count": 13,
      "outputs": []
    },
    {
      "cell_type": "markdown",
      "source": [
        "### Parallel feature extraction"
      ],
      "metadata": {
        "id": "EyHP8wTiz84H"
      }
    },
    {
      "cell_type": "code",
      "source": [
        "def extract_url_features(url):\n",
        "    \"\"\"Extract all features for a single URL\"\"\"\n",
        "    # Basic URL features\n",
        "    features = {}\n",
        "\n",
        "    # Check if URL uses IP address\n",
        "    features['UsingIP'] = 1 if bool(re.search(r'\\d+\\.\\d+\\.\\d+\\.\\d+', url)) else 0\n",
        "\n",
        "    # URL length\n",
        "    features['LongURL'] = 1 if len(url) > 75 else 0\n",
        "\n",
        "    # Check for URL shortening services\n",
        "    url_shorteners = ['bit.ly', 'tinyurl.com', 't.co', 'goo.gl', 'is.gd', 'cli.gs', 'ow.ly', 'tiny.cc', 'shorte.st']\n",
        "    features['ShortURL'] = 1 if any(shortener in url for shortener in url_shorteners) else 0\n",
        "\n",
        "    # Check for @ symbol\n",
        "    features['Symbol@'] = 1 if '@' in url else 0\n",
        "\n",
        "    # Check for multiple forward slashes\n",
        "    features['Redirecting//'] = 1 if url.count('//') > 1 else 0\n",
        "\n",
        "    # Extract domain information\n",
        "    domain, full_domain = get_domain(url)\n",
        "\n",
        "    if not domain:\n",
        "        # If domain extraction failed, return basic features with default values\n",
        "        return {**features,\n",
        "                'PrefixSuffix-': 0,\n",
        "                'SubDomains': 0,\n",
        "                'HTTPS': 0,\n",
        "                'DomainRegLen': 0,\n",
        "                'Favicon': 0,\n",
        "                'NonStdPort': 0,\n",
        "                'HTTPSDomainURL': 0,\n",
        "                'RequestURL': 0,\n",
        "                'AnchorURL': 0,\n",
        "                'LinksInScriptTags': 0,\n",
        "                'ServerFormHandler': 0,\n",
        "                'InfoEmail': 0,\n",
        "                'AbnormalURL': 0,\n",
        "                'WebsiteForwarding': 0,\n",
        "                'StatusBarCust': 0,\n",
        "                'DisableRightClick': 0,\n",
        "                'UsingPopupWindow': 0,\n",
        "                'IframeRedirection': 0,\n",
        "                'AgeofDomain': 0,\n",
        "                'DNSRecording': 0,\n",
        "                'WebsiteTraffic': 0,\n",
        "                'PageRank': 0,\n",
        "                'GoogleIndex': 0,\n",
        "                'LinksPointingToPage': 0,\n",
        "                'StatsReport': 0}\n",
        "\n",
        "    # Check for hyphen in domain\n",
        "    features['PrefixSuffix-'] = 1 if '-' in domain else 0\n",
        "\n",
        "    # Count subdomains\n",
        "    extracted = tldextract.extract(url)\n",
        "    features['SubDomains'] = len(extracted.subdomain.split('.')) if extracted.subdomain else 0\n",
        "\n",
        "    # Check if URL uses HTTP\n",
        "    features['uses_http'] = 0 if url.startswith('https') else 1\n",
        "\n",
        "    # Get WHOIS information\n",
        "    whois_info = get_domain_info(domain)\n",
        "    features['DomainRegLen'] = 1 if whois_info['registration_length'] > 365 else 0\n",
        "    features['AgeofDomain'] = 1 if whois_info['domain_age'] > 180 else 0\n",
        "\n",
        "    # Check for non-standard port\n",
        "    parsed_url = urlparse(url)\n",
        "    port = parsed_url.port\n",
        "    features['NonStdPort'] = 1 if port and port not in [80, 443] else 0\n",
        "\n",
        "    # Check if 'https' appears in domain part\n",
        "    features['HTTPSDomainURL'] = 1 if 'https' in domain or 'http' in domain else 0\n",
        "\n",
        "    # Check for suspicious terms in URL\n",
        "    suspicious_terms = ['login', 'signin', 'verify', 'account', 'security', 'update', 'confirm', 'payment']\n",
        "    features['AbnormalURL'] = 1 if any(term in url.lower() for term in suspicious_terms) else 0\n",
        "\n",
        "    # Check for email-related terms\n",
        "    features['InfoEmail'] = 1 if any(term in url.lower() for term in ['mail', 'email', 'contact']) else 0\n",
        "\n",
        "    # Get DNS Records\n",
        "    dns_info = get_dns_records(domain)\n",
        "    features['DNSRecording'] = 1 if dns_info['has_a'] and dns_info['has_ns'] else 0\n",
        "\n",
        "    # Website popularity estimation (based on DNS records as a proxy)\n",
        "    features['WebsiteTraffic'] = 1 if dns_info['total_records'] > 3 else 0\n",
        "    features['PageRank'] = 1 if dns_info['has_a'] and dns_info['has_mx'] and dns_info['has_ns'] else 0\n",
        "    features['GoogleIndex'] = 1 if dns_info['has_a'] and dns_info['has_ns'] else 0\n",
        "\n",
        "    # Links pointing to the page (estimate based on domain age)\n",
        "    features['LinksPointingToPage'] = 1 if whois_info['domain_age'] > 365 else 0\n",
        "\n",
        "    # Stats report availability (estimate based on domain age and DNS)\n",
        "    features['StatsReport'] = 1 if whois_info['domain_age'] > 180 and dns_info['total_records'] > 3 else 0\n",
        "\n",
        "    # Try to get HTML content analysis\n",
        "    # Only attempt for URLs that use HTTP/HTTPS\n",
        "    if url.startswith('http'):\n",
        "        try:\n",
        "            html_info = analyze_html_content(url)\n",
        "\n",
        "            # Favicon from different domain\n",
        "            features['Favicon'] = 1 if html_info['external_favicon'] else 0\n",
        "\n",
        "            # External request URLs\n",
        "            features['RequestURL'] = 1 if html_info['external_scripts'] > 0 else 0\n",
        "\n",
        "            # External anchor URLs\n",
        "            features['AnchorURL'] = 1 if html_info['external_links'] > html_info['internal_links'] else 0\n",
        "\n",
        "            # Links in script tags\n",
        "            features['LinksInScriptTags'] = 1 if html_info['external_scripts'] > 2 else 0\n",
        "\n",
        "            # Server form handler\n",
        "            features['ServerFormHandler'] = 1 if html_info['form_action_external'] else 0\n",
        "\n",
        "            # Website forwarding\n",
        "            features['WebsiteForwarding'] = 1 if html_info['null_links'] > 3 else 0\n",
        "\n",
        "            # Status bar customization\n",
        "            features['StatusBarCust'] = 1 if html_info['status_bar_customized'] else 0\n",
        "\n",
        "            # Right-click disabled\n",
        "            features['DisableRightClick'] = 1 if html_info['has_right_click_disabled'] else 0\n",
        "\n",
        "            # Popup windows\n",
        "            features['UsingPopupWindow'] = 1 if html_info['has_popup'] else 0\n",
        "\n",
        "            # Iframe redirection\n",
        "            features['IframeRedirection'] = 1 if html_info['iframe_count'] > 0 else 0\n",
        "\n",
        "        except Exception as e:\n",
        "            # Default values for HTML features if analysis fails\n",
        "            features['Favicon'] = 0\n",
        "            features['RequestURL'] = 0\n",
        "            features['AnchorURL'] = 0\n",
        "            features['LinksInScriptTags'] = 0\n",
        "            features['ServerFormHandler'] = 0\n",
        "            features['WebsiteForwarding'] = 0\n",
        "            features['StatusBarCust'] = 0\n",
        "            features['DisableRightClick'] = 0\n",
        "            features['UsingPopupWindow'] = 0\n",
        "            features['IframeRedirection'] = 0\n",
        "    else:\n",
        "        # Default values for HTML features for non-HTTP URLs\n",
        "        features['Favicon'] = 0\n",
        "        features['RequestURL'] = 0\n",
        "        features['AnchorURL'] = 0\n",
        "        features['LinksInScriptTags'] = 0\n",
        "        features['ServerFormHandler'] = 0\n",
        "        features['WebsiteForwarding'] = 0\n",
        "        features['StatusBarCust'] = 0\n",
        "        features['DisableRightClick'] = 0\n",
        "        features['UsingPopupWindow'] = 0\n",
        "        features['IframeRedirection'] = 0\n",
        "\n",
        "    return features"
      ],
      "metadata": {
        "id": "Bi2j4gPzz_K3"
      },
      "execution_count": 14,
      "outputs": []
    },
    {
      "cell_type": "code",
      "source": [
        "log_event(\"TIMING\", \"Feature extraction functions defined\")"
      ],
      "metadata": {
        "id": "W3ePBBpe2tpB"
      },
      "execution_count": null,
      "outputs": []
    },
    {
      "cell_type": "markdown",
      "source": [
        "## 3. Feature Extraction with Parallelization"
      ],
      "metadata": {
        "id": "lvys23vO0W6m"
      }
    },
    {
      "cell_type": "code",
      "source": [
        "log_event(\"FEATURE_EXTRACTION\", \"Starting comprehensive feature extraction for chatbot model\")"
      ],
      "metadata": {
        "colab": {
          "base_uri": "https://localhost:8080/"
        },
        "id": "wvyuJOl50d4E",
        "outputId": "456ed52c-6e53-4227-ca24-b5dccfd5e412"
      },
      "execution_count": 15,
      "outputs": [
        {
          "output_type": "stream",
          "name": "stdout",
          "text": [
            "[2025-04-28T16:28:52.244648] FEATURE_EXTRACTION: Starting comprehensive feature extraction for chatbot model\n"
          ]
        }
      ]
    },
    {
      "cell_type": "markdown",
      "source": [
        "### Empty features DataFrame"
      ],
      "metadata": {
        "id": "4AUfhazAk1vl"
      }
    },
    {
      "cell_type": "code",
      "source": [
        "empty_features = {\n",
        "    'UsingIP': 0, 'LongURL': 0, 'ShortURL': 0, 'Symbol@': 0,\n",
        "    'Redirecting//': 0, 'PrefixSuffix-': 0, 'SubDomains': 0,\n",
        "    'HTTPS': 0, 'DomainRegLen': 0, 'Favicon': 0, 'NonStdPort': 0,\n",
        "    'HTTPSDomainURL': 0, 'RequestURL': 0, 'AnchorURL': 0,\n",
        "    'LinksInScriptTags': 0, 'ServerFormHandler': 0, 'InfoEmail': 0,\n",
        "    'AbnormalURL': 0, 'WebsiteForwarding': 0, 'StatusBarCust': 0,\n",
        "    'DisableRightClick': 0, 'UsingPopupWindow': 0, 'IframeRedirection': 0,\n",
        "    'AgeofDomain': 0, 'DNSRecording': 0, 'WebsiteTraffic': 0,\n",
        "    'PageRank': 0, 'GoogleIndex': 0, 'LinksPointingToPage': 0,\n",
        "    'StatsReport': 0\n",
        "}"
      ],
      "metadata": {
        "id": "MTDvRyhGk4OL"
      },
      "execution_count": 17,
      "outputs": []
    },
    {
      "cell_type": "code",
      "source": [
        "batch_size = 50\n",
        "url_list = df['URL'].tolist()\n",
        "url_to_class = dict(zip(df['URL'], df['class']))\n",
        "\n",
        "# Initialize containers\n",
        "all_results = []\n",
        "all_classes = []"
      ],
      "metadata": {
        "id": "f3IpXYQ-fe85"
      },
      "execution_count": 18,
      "outputs": []
    },
    {
      "cell_type": "code",
      "source": [
        "log_event(\"FEATURE_EXTRACTION\", f\"Processing {len(url_list)} URLs in batches of {batch_size}\")"
      ],
      "metadata": {
        "colab": {
          "base_uri": "https://localhost:8080/"
        },
        "id": "IP-IwfPXfpxT",
        "outputId": "4be8b0d2-adab-4eca-841e-cc1fa1ccd526"
      },
      "execution_count": 19,
      "outputs": [
        {
          "output_type": "stream",
          "name": "stdout",
          "text": [
            "[2025-04-28T16:28:59.878134] FEATURE_EXTRACTION: Processing 4000 URLs in batches of 50\n"
          ]
        }
      ]
    },
    {
      "cell_type": "code",
      "source": [
        "with ThreadPoolExecutor(max_workers=16) as executor:\n",
        "    for i in tqdm(range(0, len(url_list), batch_size)):\n",
        "        batch = url_list[i:i+batch_size]\n",
        "\n",
        "        # Keep track of the correct classes for this batch\n",
        "        batch_classes = [url_to_class[url] for url in batch]\n",
        "\n",
        "        future_to_url = {executor.submit(extract_url_features, url): url for url in batch}\n",
        "\n",
        "        batch_results = []\n",
        "        batch_processed_classes = []\n",
        "\n",
        "        for future in as_completed(future_to_url):\n",
        "            url = future_to_url[future]\n",
        "            try:\n",
        "                features = future.result()\n",
        "                batch_results.append(features)\n",
        "                batch_processed_classes.append(url_to_class[url])\n",
        "            except Exception as e:\n",
        "                log_event(\"ERROR\", f\"Failed to extract features for URL: {url[:50]}... - {str(e)}\")\n",
        "                batch_results.append(empty_features.copy())\n",
        "                batch_processed_classes.append(url_to_class[url])\n",
        "\n",
        "        all_results.extend(batch_results)\n",
        "        all_classes.extend(batch_processed_classes)\n",
        "\n",
        "# Create DataFrame from results\n",
        "features_df = pd.DataFrame(all_results)\n",
        "features_df['is_phishing'] = all_classes\n",
        "\n",
        "# Handle any potential numeric issues\n",
        "features_df = features_df.replace([np.inf, -np.inf], np.nan)\n",
        "features_df = features_df.fillna(0)\n",
        "\n",
        "# Save processed features\n",
        "features_df.to_csv(PROCESSED_DATA_PATH, index=False)"
      ],
      "metadata": {
        "colab": {
          "base_uri": "https://localhost:8080/",
          "height": 1000,
          "referenced_widgets": [
            "1f9adb69a01648cda6e06799397f7447",
            "902b0a689776418bad6dbf261cd0eec3",
            "9156c913448744f193f1973aff6e938c",
            "7191b08b8946474289b64cf8b07e6452",
            "9021198cb00145df87377477d93bde3b",
            "a48f11aacdf04aad9d967eb5d28415f6",
            "c7f8dc809fc34d19b68836348ee74f43",
            "44e533059ebd4d419c43bbb99c7f97aa",
            "303359dca15b436c879acb338fd3845f",
            "e154c2be8a5e429ca790dc1b7dc06bc3",
            "080a5056e7cd47c4b56a0bcd17271914"
          ]
        },
        "id": "14lyHtWu0_Lw",
        "outputId": "cc06e671-95c9-4c8c-8a5f-2e75440f8977"
      },
      "execution_count": 20,
      "outputs": [
        {
          "output_type": "display_data",
          "data": {
            "text/plain": [
              "  0%|          | 0/80 [00:00<?, ?it/s]"
            ],
            "application/vnd.jupyter.widget-view+json": {
              "version_major": 2,
              "version_minor": 0,
              "model_id": "1f9adb69a01648cda6e06799397f7447"
            }
          },
          "metadata": {}
        },
        {
          "output_type": "stream",
          "name": "stderr",
          "text": [
            "2025-04-28 16:29:04,072 - whois.whois - ERROR - Error trying to connect to socket: closing socket - [Errno -2] Name or service not known\n",
            "ERROR:whois.whois:Error trying to connect to socket: closing socket - [Errno -2] Name or service not known\n",
            "2025-04-28 16:29:06,323 - whois.whois - ERROR - Error trying to connect to socket: closing socket - [Errno -2] Name or service not known\n",
            "ERROR:whois.whois:Error trying to connect to socket: closing socket - [Errno -2] Name or service not known\n",
            "2025-04-28 16:29:27,146 - whois.whois - ERROR - Error trying to connect to socket: closing socket - [Errno -2] Name or service not known\n",
            "ERROR:whois.whois:Error trying to connect to socket: closing socket - [Errno -2] Name or service not known\n",
            "2025-04-28 16:29:27,149 - whois.whois - ERROR - Error trying to connect to socket: closing socket - [Errno -2] Name or service not known\n",
            "ERROR:whois.whois:Error trying to connect to socket: closing socket - [Errno -2] Name or service not known\n",
            "2025-04-28 16:29:27,150 - whois.whois - ERROR - Error trying to connect to socket: closing socket - [Errno -2] Name or service not known\n",
            "ERROR:whois.whois:Error trying to connect to socket: closing socket - [Errno -2] Name or service not known\n",
            "2025-04-28 16:29:28,275 - whois.whois - ERROR - Error trying to connect to socket: closing socket - [Errno -2] Name or service not known\n",
            "ERROR:whois.whois:Error trying to connect to socket: closing socket - [Errno -2] Name or service not known\n",
            "2025-04-28 16:29:38,473 - whois.whois - ERROR - Error trying to connect to socket: closing socket - [Errno -2] Name or service not known\n",
            "ERROR:whois.whois:Error trying to connect to socket: closing socket - [Errno -2] Name or service not known\n",
            "2025-04-28 16:29:38,661 - whois.whois - ERROR - Error trying to connect to socket: closing socket - [Errno -2] Name or service not known\n",
            "ERROR:whois.whois:Error trying to connect to socket: closing socket - [Errno -2] Name or service not known\n",
            "2025-04-28 16:29:38,839 - whois.whois - ERROR - Error trying to connect to socket: closing socket - [Errno -2] Name or service not known\n",
            "ERROR:whois.whois:Error trying to connect to socket: closing socket - [Errno -2] Name or service not known\n",
            "2025-04-28 16:29:38,846 - whois.whois - ERROR - Error trying to connect to socket: closing socket - [Errno -2] Name or service not known\n",
            "ERROR:whois.whois:Error trying to connect to socket: closing socket - [Errno -2] Name or service not known\n",
            "2025-04-28 16:29:38,959 - whois.whois - ERROR - Error trying to connect to socket: closing socket - [Errno -2] Name or service not known\n",
            "ERROR:whois.whois:Error trying to connect to socket: closing socket - [Errno -2] Name or service not known\n",
            "2025-04-28 16:29:40,238 - whois.whois - ERROR - Error trying to connect to socket: closing socket - [Errno -2] Name or service not known\n",
            "ERROR:whois.whois:Error trying to connect to socket: closing socket - [Errno -2] Name or service not known\n",
            "2025-04-28 16:29:40,570 - whois.whois - ERROR - Error trying to connect to socket: closing socket - [Errno 111] Connection refused\n",
            "ERROR:whois.whois:Error trying to connect to socket: closing socket - [Errno 111] Connection refused\n",
            "2025-04-28 16:29:50,331 - whois.whois - ERROR - Error trying to connect to socket: closing socket - timed out\n",
            "ERROR:whois.whois:Error trying to connect to socket: closing socket - timed out\n",
            "2025-04-28 16:29:54,862 - whois.whois - ERROR - Error trying to connect to socket: closing socket - [Errno 111] Connection refused\n",
            "ERROR:whois.whois:Error trying to connect to socket: closing socket - [Errno 111] Connection refused\n",
            "2025-04-28 16:29:55,429 - whois.whois - ERROR - Error trying to connect to socket: closing socket - [Errno -2] Name or service not known\n",
            "ERROR:whois.whois:Error trying to connect to socket: closing socket - [Errno -2] Name or service not known\n",
            "2025-04-28 16:29:55,716 - whois.whois - ERROR - Error trying to connect to socket: closing socket - [Errno 111] Connection refused\n",
            "ERROR:whois.whois:Error trying to connect to socket: closing socket - [Errno 111] Connection refused\n",
            "2025-04-28 16:30:04,807 - whois.whois - ERROR - Error trying to connect to socket: closing socket - timed out\n",
            "ERROR:whois.whois:Error trying to connect to socket: closing socket - timed out\n",
            "2025-04-28 16:30:05,353 - whois.whois - ERROR - Error trying to connect to socket: closing socket - timed out\n",
            "ERROR:whois.whois:Error trying to connect to socket: closing socket - timed out\n",
            "2025-04-28 16:30:07,279 - whois.whois - ERROR - Error trying to connect to socket: closing socket - timed out\n",
            "ERROR:whois.whois:Error trying to connect to socket: closing socket - timed out\n",
            "2025-04-28 16:30:17,268 - whois.whois - ERROR - Error trying to connect to socket: closing socket - [Errno -2] Name or service not known\n",
            "ERROR:whois.whois:Error trying to connect to socket: closing socket - [Errno -2] Name or service not known\n",
            "2025-04-28 16:30:17,523 - whois.whois - ERROR - Error trying to connect to socket: closing socket - [Errno 111] Connection refused\n",
            "ERROR:whois.whois:Error trying to connect to socket: closing socket - [Errno 111] Connection refused\n",
            "2025-04-28 16:32:51,055 - whois.whois - ERROR - Error trying to connect to socket: closing socket - [Errno -2] Name or service not known\n",
            "ERROR:whois.whois:Error trying to connect to socket: closing socket - [Errno -2] Name or service not known\n",
            "2025-04-28 16:32:51,297 - whois.whois - ERROR - Error trying to connect to socket: closing socket - [Errno -2] Name or service not known\n",
            "ERROR:whois.whois:Error trying to connect to socket: closing socket - [Errno -2] Name or service not known\n",
            "2025-04-28 16:32:51,307 - whois.whois - ERROR - Error trying to connect to socket: closing socket - [Errno -2] Name or service not known\n",
            "ERROR:whois.whois:Error trying to connect to socket: closing socket - [Errno -2] Name or service not known\n",
            "2025-04-28 16:32:51,602 - whois.whois - ERROR - Error trying to connect to socket: closing socket - [Errno -2] Name or service not known\n",
            "ERROR:whois.whois:Error trying to connect to socket: closing socket - [Errno -2] Name or service not known\n",
            "2025-04-28 16:32:52,130 - whois.whois - ERROR - Error trying to connect to socket: closing socket - [Errno -2] Name or service not known\n",
            "ERROR:whois.whois:Error trying to connect to socket: closing socket - [Errno -2] Name or service not known\n",
            "2025-04-28 16:32:59,225 - whois.whois - ERROR - Error trying to connect to socket: closing socket - [Errno -2] Name or service not known\n",
            "ERROR:whois.whois:Error trying to connect to socket: closing socket - [Errno -2] Name or service not known\n",
            "2025-04-28 16:33:05,452 - whois.whois - ERROR - Error trying to connect to socket: closing socket - [Errno -2] Name or service not known\n",
            "ERROR:whois.whois:Error trying to connect to socket: closing socket - [Errno -2] Name or service not known\n",
            "2025-04-28 16:33:06,993 - whois.whois - ERROR - Error trying to connect to socket: closing socket - [Errno -2] Name or service not known\n",
            "ERROR:whois.whois:Error trying to connect to socket: closing socket - [Errno -2] Name or service not known\n",
            "2025-04-28 16:36:40,152 - whois.whois - ERROR - Error trying to connect to socket: closing socket - [Errno 111] Connection refused\n",
            "ERROR:whois.whois:Error trying to connect to socket: closing socket - [Errno 111] Connection refused\n",
            "2025-04-28 16:36:40,189 - whois.whois - ERROR - Error trying to connect to socket: closing socket - [Errno 111] Connection refused\n",
            "ERROR:whois.whois:Error trying to connect to socket: closing socket - [Errno 111] Connection refused\n",
            "2025-04-28 16:40:19,972 - whois.whois - ERROR - Error trying to connect to socket: closing socket - [Errno -2] Name or service not known\n",
            "ERROR:whois.whois:Error trying to connect to socket: closing socket - [Errno -2] Name or service not known\n",
            "2025-04-28 16:51:11,035 - whois.whois - ERROR - Error trying to connect to socket: closing socket - timed out\n",
            "ERROR:whois.whois:Error trying to connect to socket: closing socket - timed out\n",
            "2025-04-28 16:52:23,965 - whois.whois - ERROR - Error trying to connect to socket: closing socket - [Errno -2] Name or service not known\n",
            "ERROR:whois.whois:Error trying to connect to socket: closing socket - [Errno -2] Name or service not known\n"
          ]
        },
        {
          "output_type": "stream",
          "name": "stdout",
          "text": [
            "Saved all results after processing complete!\n"
          ]
        }
      ]
    },
    {
      "cell_type": "code",
      "source": [
        "feature_extraction_time = time.time() - start_time\n",
        "log_event(\"TIMING\", f\"Feature extraction completed in {feature_extraction_time:.2f} seconds\",\n",
        "          {\"num_features\": features_df.shape[1] - 1})"
      ],
      "metadata": {
        "id": "ZV0WDgmM388Q"
      },
      "execution_count": null,
      "outputs": []
    },
    {
      "cell_type": "markdown",
      "source": [
        "## 4. Feature Analysis"
      ],
      "metadata": {
        "id": "iM17UIa7Nm-c"
      }
    },
    {
      "cell_type": "code",
      "source": [
        "print(\"\\nExtracted Features Summary:\")\n",
        "print(features_df.describe())\n"
      ],
      "metadata": {
        "colab": {
          "base_uri": "https://localhost:8080/"
        },
        "id": "2-ojwXgRNpAs",
        "outputId": "166d1af0-7788-4021-f25b-9a61a51ec341"
      },
      "execution_count": 27,
      "outputs": [
        {
          "output_type": "stream",
          "name": "stdout",
          "text": [
            "\n",
            "Extracted Features Summary:\n",
            "           UsingIP      LongURL    ShortURL     Symbol@  Redirecting//  \\\n",
            "count  4000.000000  4000.000000  4000.00000  4000.00000    4000.000000   \n",
            "mean      0.003000     0.115250     0.08225     0.00375       0.000500   \n",
            "std       0.054697     0.319363     0.27478     0.06113       0.022358   \n",
            "min       0.000000     0.000000     0.00000     0.00000       0.000000   \n",
            "25%       0.000000     0.000000     0.00000     0.00000       0.000000   \n",
            "50%       0.000000     0.000000     0.00000     0.00000       0.000000   \n",
            "75%       0.000000     0.000000     0.00000     0.00000       0.000000   \n",
            "max       1.000000     1.000000     1.00000     1.00000       1.000000   \n",
            "\n",
            "       PrefixSuffix-   SubDomains        HTTPS  DomainRegLen  AgeofDomain  \\\n",
            "count    4000.000000  4000.000000  4000.000000   4000.000000  4000.000000   \n",
            "mean        0.472250     0.509000     0.531250      0.419250     0.430000   \n",
            "std         0.499292     0.591191     0.499085      0.493498     0.495138   \n",
            "min         0.000000     0.000000     0.000000      0.000000     0.000000   \n",
            "25%         0.000000     0.000000     0.000000      0.000000     0.000000   \n",
            "50%         0.000000     0.000000     1.000000      0.000000     0.000000   \n",
            "75%         1.000000     1.000000     1.000000      1.000000     1.000000   \n",
            "max         1.000000     6.000000     1.000000      1.000000     1.000000   \n",
            "\n",
            "       ...   RequestURL    AnchorURL  LinksInScriptTags  ServerFormHandler  \\\n",
            "count  ...  4000.000000  4000.000000        4000.000000        4000.000000   \n",
            "mean   ...     0.175750     0.009500           0.091500           0.011750   \n",
            "std    ...     0.380655     0.097016           0.288355           0.107772   \n",
            "min    ...     0.000000     0.000000           0.000000           0.000000   \n",
            "25%    ...     0.000000     0.000000           0.000000           0.000000   \n",
            "50%    ...     0.000000     0.000000           0.000000           0.000000   \n",
            "75%    ...     0.000000     0.000000           0.000000           0.000000   \n",
            "max    ...     1.000000     1.000000           1.000000           1.000000   \n",
            "\n",
            "       WebsiteForwarding  StatusBarCust  DisableRightClick  UsingPopupWindow  \\\n",
            "count        4000.000000         4000.0             4000.0       4000.000000   \n",
            "mean            0.045750            0.0                0.0          0.011250   \n",
            "std             0.208969            0.0                0.0          0.105481   \n",
            "min             0.000000            0.0                0.0          0.000000   \n",
            "25%             0.000000            0.0                0.0          0.000000   \n",
            "50%             0.000000            0.0                0.0          0.000000   \n",
            "75%             0.000000            0.0                0.0          0.000000   \n",
            "max             1.000000            0.0                0.0          1.000000   \n",
            "\n",
            "       IframeRedirection  is_phishing  \n",
            "count        4000.000000  4000.000000  \n",
            "mean            0.107750     0.500000  \n",
            "std             0.310103     0.500063  \n",
            "min             0.000000     0.000000  \n",
            "25%             0.000000     0.000000  \n",
            "50%             0.000000     0.500000  \n",
            "75%             0.000000     1.000000  \n",
            "max             1.000000     1.000000  \n",
            "\n",
            "[8 rows x 31 columns]\n",
            "\n",
            "Feature Correlation with Target:\n",
            "is_phishing            1.000000\n",
            "PrefixSuffix-          0.913909\n",
            "AbnormalURL            0.546143\n",
            "ShortURL               0.084624\n",
            "InfoEmail              0.071920\n",
            "NonStdPort             0.050063\n",
            "UsingIP                0.045712\n",
            "Symbol@                0.044992\n",
            "Redirecting//          0.022366\n",
            "AnchorURL             -0.072162\n",
            "ServerFormHandler     -0.099760\n",
            "UsingPopupWindow      -0.106668\n",
            "Favicon               -0.196497\n",
            "WebsiteForwarding     -0.216567\n",
            "LinksInScriptTags     -0.301749\n",
            "LongURL               -0.331169\n",
            "IframeRedirection     -0.344283\n",
            "RequestURL            -0.438116\n",
            "SubDomains            -0.687681\n",
            "AgeofDomain           -0.786748\n",
            "DomainRegLen          -0.789869\n",
            "StatsReport           -0.796058\n",
            "LinksPointingToPage   -0.797708\n",
            "PageRank              -0.901595\n",
            "GoogleIndex           -0.903192\n",
            "DNSRecording          -0.903192\n",
            "WebsiteTraffic        -0.907837\n",
            "HTTPS                 -0.939336\n",
            "HTTPSDomainURL              NaN\n",
            "StatusBarCust               NaN\n",
            "DisableRightClick           NaN\n",
            "Name: is_phishing, dtype: float64\n"
          ]
        }
      ]
    },
    {
      "cell_type": "markdown",
      "source": [
        "### Dsiplay correlation with target"
      ],
      "metadata": {
        "id": "OgIVrqcA4zaM"
      }
    },
    {
      "cell_type": "code",
      "source": [
        "correlations = features_df.corr()['is_phishing'].sort_values(ascending=False)\n",
        "print(\"\\nTop 10 Features by Correlation with Target:\")\n",
        "print(correlations.head(10))\n",
        "print(\"\\nBottom 10 Features by Correlation with Target:\")\n",
        "print(correlations.tail(10))"
      ],
      "metadata": {
        "id": "XKGjgFTI42Cq"
      },
      "execution_count": null,
      "outputs": []
    },
    {
      "cell_type": "markdown",
      "source": [
        "### Create correlation heatmap"
      ],
      "metadata": {
        "id": "FkW3-yc4Nr6-"
      }
    },
    {
      "cell_type": "code",
      "source": [
        "plt.figure(figsize=(14, 12))\n",
        "sns.heatmap(features_df.corr(), annot=False, cmap='coolwarm', fmt='.2f')\n",
        "plt.title('Feature Correlation Matrix')\n",
        "plt.tight_layout()\n",
        "plt.show()"
      ],
      "metadata": {
        "colab": {
          "base_uri": "https://localhost:8080/",
          "height": 1000
        },
        "id": "y2Eo4evuNu-e",
        "outputId": "bd545aa7-8d85-4515-cbdb-ff48c758246d"
      },
      "execution_count": 28,
      "outputs": [
        {
          "output_type": "display_data",
          "data": {
            "text/plain": [
              "<Figure size 1400x1200 with 2 Axes>"
            ],
            "image/png": "[encoded data removed]"
          },
          "metadata": {}
        }
      ]
    },
    {
      "cell_type": "markdown",
      "source": [
        "## 5. Model Training"
      ],
      "metadata": {
        "id": "ZW0F0IA1NxKH"
      }
    },
    {
      "cell_type": "code",
      "source": [
        "log_event(\"MODEL_TRAINING\", \"Starting model training with Gradient Boosting\")\n",
        "start_time = time.time()"
      ],
      "metadata": {
        "colab": {
          "base_uri": "https://localhost:8080/"
        },
        "id": "4K4H7BF1Nzj0",
        "outputId": "28afd220-491c-4329-edc4-e000781f8189"
      },
      "execution_count": 29,
      "outputs": [
        {
          "output_type": "stream",
          "name": "stdout",
          "text": [
            "[2025-04-28T17:00:10.754875] MODEL_TRAINING: Starting model training with Gradient Boosting\n"
          ]
        }
      ]
    },
    {
      "cell_type": "markdown",
      "source": [
        "### Prepare features and target"
      ],
      "metadata": {
        "id": "EwyozjhVN1cQ"
      }
    },
    {
      "cell_type": "code",
      "source": [
        "X = features_df.drop('is_phishing', axis=1)\n",
        "y = features_df['is_phishing']"
      ],
      "metadata": {
        "id": "aysxmlVFN3UT"
      },
      "execution_count": 30,
      "outputs": []
    },
    {
      "cell_type": "markdown",
      "source": [
        "### Split data (80% train, 20% test)"
      ],
      "metadata": {
        "id": "Wrx512RRN4vn"
      }
    },
    {
      "cell_type": "code",
      "source": [
        "X_train, X_test, y_train, y_test = train_test_split(X, y, test_size=0.2, random_state=42, stratify=y)"
      ],
      "metadata": {
        "id": "vUM-wNYFN61O"
      },
      "execution_count": 33,
      "outputs": []
    },
    {
      "cell_type": "markdown",
      "source": [
        "### Log the data split information"
      ],
      "metadata": {
        "id": "uSfDaOybN_Gi"
      }
    },
    {
      "cell_type": "code",
      "source": [
        "log_event(\"DATA_SPLIT\", \"Data split into training and testing sets\",\n",
        "          {\"train_samples\": X_train.shape[0], \"test_samples\": X_test.shape[0]})"
      ],
      "metadata": {
        "colab": {
          "base_uri": "https://localhost:8080/"
        },
        "id": "_-o4LYdXOBbc",
        "outputId": "05c7b384-a351-4a67-9d39-e09f7f8cdfaf"
      },
      "execution_count": 36,
      "outputs": [
        {
          "output_type": "stream",
          "name": "stdout",
          "text": [
            "[2025-04-28T17:00:50.214888] DATA_SPLIT: Data split into training and testing sets\n"
          ]
        }
      ]
    },
    {
      "cell_type": "markdown",
      "source": [
        "### Feature scaling"
      ],
      "metadata": {
        "id": "ql6jtolROECQ"
      }
    },
    {
      "cell_type": "code",
      "source": [
        "scaler = StandardScaler()\n",
        "X_train_scaled = scaler.fit_transform(X_train)\n",
        "X_test_scaled = scaler.transform(X_test)"
      ],
      "metadata": {
        "id": "tZMryOTnOFzZ"
      },
      "execution_count": 37,
      "outputs": []
    },
    {
      "cell_type": "markdown",
      "source": [
        "### Train Gradient Boosting model"
      ],
      "metadata": {
        "id": "Hd3H2_diOHWq"
      }
    },
    {
      "cell_type": "code",
      "source": [
        "gb_model = GradientBoostingClassifier(\n",
        "    n_estimators=100,\n",
        "    learning_rate=0.1,\n",
        "    max_depth=5,\n",
        "    min_samples_split=200,\n",
        "    min_samples_leaf=50,\n",
        "    subsample=0.8,\n",
        "    random_state=42\n",
        ")"
      ],
      "metadata": {
        "id": "-bm4bE3vOJbS"
      },
      "execution_count": 40,
      "outputs": []
    },
    {
      "cell_type": "code",
      "source": [
        "gb_model.fit(X_train_scaled, y_train)"
      ],
      "metadata": {
        "colab": {
          "base_uri": "https://localhost:8080/",
          "height": 115
        },
        "id": "LRUmw71WOOd4",
        "outputId": "d42e95d1-a143-4c01-a29b-2e54f6115a70"
      },
      "execution_count": 41,
      "outputs": [
        {
          "output_type": "execute_result",
          "data": {
            "text/plain": [
              "GradientBoostingClassifier(max_depth=5, min_samples_leaf=50,\n",
              "                           min_samples_split=200, random_state=42,\n",
              "                           subsample=0.8)"
            ],
            "text/html": [
              "<style>#sk-container-id-1 {\n",
              "  /* Definition of color scheme common for light and dark mode */\n",
              "  --sklearn-color-text: #000;\n",
              "  --sklearn-color-text-muted: #666;\n",
              "  --sklearn-color-line: gray;\n",
              "  /* Definition of color scheme for unfitted estimators */\n",
              "  --sklearn-color-unfitted-level-0: #fff5e6;\n",
              "  --sklearn-color-unfitted-level-1: #f6e4d2;\n",
              "  --sklearn-color-unfitted-level-2: #ffe0b3;\n",
              "  --sklearn-color-unfitted-level-3: chocolate;\n",
              "  /* Definition of color scheme for fitted estimators */\n",
              "  --sklearn-color-fitted-level-0: #f0f8ff;\n",
              "  --sklearn-color-fitted-level-1: #d4ebff;\n",
              "  --sklearn-color-fitted-level-2: #b3dbfd;\n",
              "  --sklearn-color-fitted-level-3: cornflowerblue;\n",
              "\n",
              "  /* Specific color for light theme */\n",
              "  --sklearn-color-text-on-default-background: var(--sg-text-color, var(--theme-code-foreground, var(--jp-content-font-color1, black)));\n",
              "  --sklearn-color-background: var(--sg-background-color, var(--theme-background, var(--jp-layout-color0, white)));\n",
              "  --sklearn-color-border-box: var(--sg-text-color, var(--theme-code-foreground, var(--jp-content-font-color1, black)));\n",
              "  --sklearn-color-icon: #696969;\n",
              "\n",
              "  @media (prefers-color-scheme: dark) {\n",
              "    /* Redefinition of color scheme for dark theme */\n",
              "    --sklearn-color-text-on-default-background: var(--sg-text-color, var(--theme-code-foreground, var(--jp-content-font-color1, white)));\n",
              "    --sklearn-color-background: var(--sg-background-color, var(--theme-background, var(--jp-layout-color0, #111)));\n",
              "    --sklearn-color-border-box: var(--sg-text-color, var(--theme-code-foreground, var(--jp-content-font-color1, white)));\n",
              "    --sklearn-color-icon: #878787;\n",
              "  }\n",
              "}\n",
              "\n",
              "#sk-container-id-1 {\n",
              "  color: var(--sklearn-color-text);\n",
              "}\n",
              "\n",
              "#sk-container-id-1 pre {\n",
              "  padding: 0;\n",
              "}\n",
              "\n",
              "#sk-container-id-1 input.sk-hidden--visually {\n",
              "  border: 0;\n",
              "  clip: rect(1px 1px 1px 1px);\n",
              "  clip: rect(1px, 1px, 1px, 1px);\n",
              "  height: 1px;\n",
              "  margin: -1px;\n",
              "  overflow: hidden;\n",
              "  padding: 0;\n",
              "  position: absolute;\n",
              "  width: 1px;\n",
              "}\n",
              "\n",
              "#sk-container-id-1 div.sk-dashed-wrapped {\n",
              "  border: 1px dashed var(--sklearn-color-line);\n",
              "  margin: 0 0.4em 0.5em 0.4em;\n",
              "  box-sizing: border-box;\n",
              "  padding-bottom: 0.4em;\n",
              "  background-color: var(--sklearn-color-background);\n",
              "}\n",
              "\n",
              "#sk-container-id-1 div.sk-container {\n",
              "  /* jupyter's `normalize.less` sets `[hidden] { display: none; }`\n",
              "     but bootstrap.min.css set `[hidden] { display: none !important; }`\n",
              "     so we also need the `!important` here to be able to override the\n",
              "     default hidden behavior on the sphinx rendered scikit-learn.org.\n",
              "     See: https://github.com/scikit-learn/scikit-learn/issues/21755 */\n",
              "  display: inline-block !important;\n",
              "  position: relative;\n",
              "}\n",
              "\n",
              "#sk-container-id-1 div.sk-text-repr-fallback {\n",
              "  display: none;\n",
              "}\n",
              "\n",
              "div.sk-parallel-item,\n",
              "div.sk-serial,\n",
              "div.sk-item {\n",
              "  /* draw centered vertical line to link estimators */\n",
              "  background-image: linear-gradient(var(--sklearn-color-text-on-default-background), var(--sklearn-color-text-on-default-background));\n",
              "  background-size: 2px 100%;\n",
              "  background-repeat: no-repeat;\n",
              "  background-position: center center;\n",
              "}\n",
              "\n",
              "/* Parallel-specific style estimator block */\n",
              "\n",
              "#sk-container-id-1 div.sk-parallel-item::after {\n",
              "  content: \"\";\n",
              "  width: 100%;\n",
              "  border-bottom: 2px solid var(--sklearn-color-text-on-default-background);\n",
              "  flex-grow: 1;\n",
              "}\n",
              "\n",
              "#sk-container-id-1 div.sk-parallel {\n",
              "  display: flex;\n",
              "  align-items: stretch;\n",
              "  justify-content: center;\n",
              "  background-color: var(--sklearn-color-background);\n",
              "  position: relative;\n",
              "}\n",
              "\n",
              "#sk-container-id-1 div.sk-parallel-item {\n",
              "  display: flex;\n",
              "  flex-direction: column;\n",
              "}\n",
              "\n",
              "#sk-container-id-1 div.sk-parallel-item:first-child::after {\n",
              "  align-self: flex-end;\n",
              "  width: 50%;\n",
              "}\n",
              "\n",
              "#sk-container-id-1 div.sk-parallel-item:last-child::after {\n",
              "  align-self: flex-start;\n",
              "  width: 50%;\n",
              "}\n",
              "\n",
              "#sk-container-id-1 div.sk-parallel-item:only-child::after {\n",
              "  width: 0;\n",
              "}\n",
              "\n",
              "/* Serial-specific style estimator block */\n",
              "\n",
              "#sk-container-id-1 div.sk-serial {\n",
              "  display: flex;\n",
              "  flex-direction: column;\n",
              "  align-items: center;\n",
              "  background-color: var(--sklearn-color-background);\n",
              "  padding-right: 1em;\n",
              "  padding-left: 1em;\n",
              "}\n",
              "\n",
              "\n",
              "/* Toggleable style: style used for estimator/Pipeline/ColumnTransformer box that is\n",
              "clickable and can be expanded/collapsed.\n",
              "- Pipeline and ColumnTransformer use this feature and define the default style\n",
              "- Estimators will overwrite some part of the style using the `sk-estimator` class\n",
              "*/\n",
              "\n",
              "/* Pipeline and ColumnTransformer style (default) */\n",
              "\n",
              "#sk-container-id-1 div.sk-toggleable {\n",
              "  /* Default theme specific background. It is overwritten whether we have a\n",
              "  specific estimator or a Pipeline/ColumnTransformer */\n",
              "  background-color: var(--sklearn-color-background);\n",
              "}\n",
              "\n",
              "/* Toggleable label */\n",
              "#sk-container-id-1 label.sk-toggleable__label {\n",
              "  cursor: pointer;\n",
              "  display: flex;\n",
              "  width: 100%;\n",
              "  margin-bottom: 0;\n",
              "  padding: 0.5em;\n",
              "  box-sizing: border-box;\n",
              "  text-align: center;\n",
              "  align-items: start;\n",
              "  justify-content: space-between;\n",
              "  gap: 0.5em;\n",
              "}\n",
              "\n",
              "#sk-container-id-1 label.sk-toggleable__label .caption {\n",
              "  font-size: 0.6rem;\n",
              "  font-weight: lighter;\n",
              "  color: var(--sklearn-color-text-muted);\n",
              "}\n",
              "\n",
              "#sk-container-id-1 label.sk-toggleable__label-arrow:before {\n",
              "  /* Arrow on the left of the label */\n",
              "  content: \"▸\";\n",
              "  float: left;\n",
              "  margin-right: 0.25em;\n",
              "  color: var(--sklearn-color-icon);\n",
              "}\n",
              "\n",
              "#sk-container-id-1 label.sk-toggleable__label-arrow:hover:before {\n",
              "  color: var(--sklearn-color-text);\n",
              "}\n",
              "\n",
              "/* Toggleable content - dropdown */\n",
              "\n",
              "#sk-container-id-1 div.sk-toggleable__content {\n",
              "  max-height: 0;\n",
              "  max-width: 0;\n",
              "  overflow: hidden;\n",
              "  text-align: left;\n",
              "  /* unfitted */\n",
              "  background-color: var(--sklearn-color-unfitted-level-0);\n",
              "}\n",
              "\n",
              "#sk-container-id-1 div.sk-toggleable__content.fitted {\n",
              "  /* fitted */\n",
              "  background-color: var(--sklearn-color-fitted-level-0);\n",
              "}\n",
              "\n",
              "#sk-container-id-1 div.sk-toggleable__content pre {\n",
              "  margin: 0.2em;\n",
              "  border-radius: 0.25em;\n",
              "  color: var(--sklearn-color-text);\n",
              "  /* unfitted */\n",
              "  background-color: var(--sklearn-color-unfitted-level-0);\n",
              "}\n",
              "\n",
              "#sk-container-id-1 div.sk-toggleable__content.fitted pre {\n",
              "  /* unfitted */\n",
              "  background-color: var(--sklearn-color-fitted-level-0);\n",
              "}\n",
              "\n",
              "#sk-container-id-1 input.sk-toggleable__control:checked~div.sk-toggleable__content {\n",
              "  /* Expand drop-down */\n",
              "  max-height: 200px;\n",
              "  max-width: 100%;\n",
              "  overflow: auto;\n",
              "}\n",
              "\n",
              "#sk-container-id-1 input.sk-toggleable__control:checked~label.sk-toggleable__label-arrow:before {\n",
              "  content: \"▾\";\n",
              "}\n",
              "\n",
              "/* Pipeline/ColumnTransformer-specific style */\n",
              "\n",
              "#sk-container-id-1 div.sk-label input.sk-toggleable__control:checked~label.sk-toggleable__label {\n",
              "  color: var(--sklearn-color-text);\n",
              "  background-color: var(--sklearn-color-unfitted-level-2);\n",
              "}\n",
              "\n",
              "#sk-container-id-1 div.sk-label.fitted input.sk-toggleable__control:checked~label.sk-toggleable__label {\n",
              "  background-color: var(--sklearn-color-fitted-level-2);\n",
              "}\n",
              "\n",
              "/* Estimator-specific style */\n",
              "\n",
              "/* Colorize estimator box */\n",
              "#sk-container-id-1 div.sk-estimator input.sk-toggleable__control:checked~label.sk-toggleable__label {\n",
              "  /* unfitted */\n",
              "  background-color: var(--sklearn-color-unfitted-level-2);\n",
              "}\n",
              "\n",
              "#sk-container-id-1 div.sk-estimator.fitted input.sk-toggleable__control:checked~label.sk-toggleable__label {\n",
              "  /* fitted */\n",
              "  background-color: var(--sklearn-color-fitted-level-2);\n",
              "}\n",
              "\n",
              "#sk-container-id-1 div.sk-label label.sk-toggleable__label,\n",
              "#sk-container-id-1 div.sk-label label {\n",
              "  /* The background is the default theme color */\n",
              "  color: var(--sklearn-color-text-on-default-background);\n",
              "}\n",
              "\n",
              "/* On hover, darken the color of the background */\n",
              "#sk-container-id-1 div.sk-label:hover label.sk-toggleable__label {\n",
              "  color: var(--sklearn-color-text);\n",
              "  background-color: var(--sklearn-color-unfitted-level-2);\n",
              "}\n",
              "\n",
              "/* Label box, darken color on hover, fitted */\n",
              "#sk-container-id-1 div.sk-label.fitted:hover label.sk-toggleable__label.fitted {\n",
              "  color: var(--sklearn-color-text);\n",
              "  background-color: var(--sklearn-color-fitted-level-2);\n",
              "}\n",
              "\n",
              "/* Estimator label */\n",
              "\n",
              "#sk-container-id-1 div.sk-label label {\n",
              "  font-family: monospace;\n",
              "  font-weight: bold;\n",
              "  display: inline-block;\n",
              "  line-height: 1.2em;\n",
              "}\n",
              "\n",
              "#sk-container-id-1 div.sk-label-container {\n",
              "  text-align: center;\n",
              "}\n",
              "\n",
              "/* Estimator-specific */\n",
              "#sk-container-id-1 div.sk-estimator {\n",
              "  font-family: monospace;\n",
              "  border: 1px dotted var(--sklearn-color-border-box);\n",
              "  border-radius: 0.25em;\n",
              "  box-sizing: border-box;\n",
              "  margin-bottom: 0.5em;\n",
              "  /* unfitted */\n",
              "  background-color: var(--sklearn-color-unfitted-level-0);\n",
              "}\n",
              "\n",
              "#sk-container-id-1 div.sk-estimator.fitted {\n",
              "  /* fitted */\n",
              "  background-color: var(--sklearn-color-fitted-level-0);\n",
              "}\n",
              "\n",
              "/* on hover */\n",
              "#sk-container-id-1 div.sk-estimator:hover {\n",
              "  /* unfitted */\n",
              "  background-color: var(--sklearn-color-unfitted-level-2);\n",
              "}\n",
              "\n",
              "#sk-container-id-1 div.sk-estimator.fitted:hover {\n",
              "  /* fitted */\n",
              "  background-color: var(--sklearn-color-fitted-level-2);\n",
              "}\n",
              "\n",
              "/* Specification for estimator info (e.g. \"i\" and \"?\") */\n",
              "\n",
              "/* Common style for \"i\" and \"?\" */\n",
              "\n",
              ".sk-estimator-doc-link,\n",
              "a:link.sk-estimator-doc-link,\n",
              "a:visited.sk-estimator-doc-link {\n",
              "  float: right;\n",
              "  font-size: smaller;\n",
              "  line-height: 1em;\n",
              "  font-family: monospace;\n",
              "  background-color: var(--sklearn-color-background);\n",
              "  border-radius: 1em;\n",
              "  height: 1em;\n",
              "  width: 1em;\n",
              "  text-decoration: none !important;\n",
              "  margin-left: 0.5em;\n",
              "  text-align: center;\n",
              "  /* unfitted */\n",
              "  border: var(--sklearn-color-unfitted-level-1) 1pt solid;\n",
              "  color: var(--sklearn-color-unfitted-level-1);\n",
              "}\n",
              "\n",
              ".sk-estimator-doc-link.fitted,\n",
              "a:link.sk-estimator-doc-link.fitted,\n",
              "a:visited.sk-estimator-doc-link.fitted {\n",
              "  /* fitted */\n",
              "  border: var(--sklearn-color-fitted-level-1) 1pt solid;\n",
              "  color: var(--sklearn-color-fitted-level-1);\n",
              "}\n",
              "\n",
              "/* On hover */\n",
              "div.sk-estimator:hover .sk-estimator-doc-link:hover,\n",
              ".sk-estimator-doc-link:hover,\n",
              "div.sk-label-container:hover .sk-estimator-doc-link:hover,\n",
              ".sk-estimator-doc-link:hover {\n",
              "  /* unfitted */\n",
              "  background-color: var(--sklearn-color-unfitted-level-3);\n",
              "  color: var(--sklearn-color-background);\n",
              "  text-decoration: none;\n",
              "}\n",
              "\n",
              "div.sk-estimator.fitted:hover .sk-estimator-doc-link.fitted:hover,\n",
              ".sk-estimator-doc-link.fitted:hover,\n",
              "div.sk-label-container:hover .sk-estimator-doc-link.fitted:hover,\n",
              ".sk-estimator-doc-link.fitted:hover {\n",
              "  /* fitted */\n",
              "  background-color: var(--sklearn-color-fitted-level-3);\n",
              "  color: var(--sklearn-color-background);\n",
              "  text-decoration: none;\n",
              "}\n",
              "\n",
              "/* Span, style for the box shown on hovering the info icon */\n",
              ".sk-estimator-doc-link span {\n",
              "  display: none;\n",
              "  z-index: 9999;\n",
              "  position: relative;\n",
              "  font-weight: normal;\n",
              "  right: .2ex;\n",
              "  padding: .5ex;\n",
              "  margin: .5ex;\n",
              "  width: min-content;\n",
              "  min-width: 20ex;\n",
              "  max-width: 50ex;\n",
              "  color: var(--sklearn-color-text);\n",
              "  box-shadow: 2pt 2pt 4pt #999;\n",
              "  /* unfitted */\n",
              "  background: var(--sklearn-color-unfitted-level-0);\n",
              "  border: .5pt solid var(--sklearn-color-unfitted-level-3);\n",
              "}\n",
              "\n",
              ".sk-estimator-doc-link.fitted span {\n",
              "  /* fitted */\n",
              "  background: var(--sklearn-color-fitted-level-0);\n",
              "  border: var(--sklearn-color-fitted-level-3);\n",
              "}\n",
              "\n",
              ".sk-estimator-doc-link:hover span {\n",
              "  display: block;\n",
              "}\n",
              "\n",
              "/* \"?\"-specific style due to the `<a>` HTML tag */\n",
              "\n",
              "#sk-container-id-1 a.estimator_doc_link {\n",
              "  float: right;\n",
              "  font-size: 1rem;\n",
              "  line-height: 1em;\n",
              "  font-family: monospace;\n",
              "  background-color: var(--sklearn-color-background);\n",
              "  border-radius: 1rem;\n",
              "  height: 1rem;\n",
              "  width: 1rem;\n",
              "  text-decoration: none;\n",
              "  /* unfitted */\n",
              "  color: var(--sklearn-color-unfitted-level-1);\n",
              "  border: var(--sklearn-color-unfitted-level-1) 1pt solid;\n",
              "}\n",
              "\n",
              "#sk-container-id-1 a.estimator_doc_link.fitted {\n",
              "  /* fitted */\n",
              "  border: var(--sklearn-color-fitted-level-1) 1pt solid;\n",
              "  color: var(--sklearn-color-fitted-level-1);\n",
              "}\n",
              "\n",
              "/* On hover */\n",
              "#sk-container-id-1 a.estimator_doc_link:hover {\n",
              "  /* unfitted */\n",
              "  background-color: var(--sklearn-color-unfitted-level-3);\n",
              "  color: var(--sklearn-color-background);\n",
              "  text-decoration: none;\n",
              "}\n",
              "\n",
              "#sk-container-id-1 a.estimator_doc_link.fitted:hover {\n",
              "  /* fitted */\n",
              "  background-color: var(--sklearn-color-fitted-level-3);\n",
              "}\n",
              "</style><div id=\"sk-container-id-1\" class=\"sk-top-container\"><div class=\"sk-text-repr-fallback\"><pre>GradientBoostingClassifier(max_depth=5, min_samples_leaf=50,\n",
              "                           min_samples_split=200, random_state=42,\n",
              "                           subsample=0.8)</pre><b>In a Jupyter environment, please rerun this cell to show the HTML representation or trust the notebook. <br />On GitHub, the HTML representation is unable to render, please try loading this page with nbviewer.org.</b></div><div class=\"sk-container\" hidden><div class=\"sk-item\"><div class=\"sk-estimator fitted sk-toggleable\"><input class=\"sk-toggleable__control sk-hidden--visually\" id=\"sk-estimator-id-1\" type=\"checkbox\" checked><label for=\"sk-estimator-id-1\" class=\"sk-toggleable__label fitted sk-toggleable__label-arrow\"><div><div>GradientBoostingClassifier</div></div><div><a class=\"sk-estimator-doc-link fitted\" rel=\"noreferrer\" target=\"_blank\" href=\"https://scikit-learn.org/1.6/modules/generated/sklearn.ensemble.GradientBoostingClassifier.html\">?<span>Documentation for GradientBoostingClassifier</span></a><span class=\"sk-estimator-doc-link fitted\">i<span>Fitted</span></span></div></label><div class=\"sk-toggleable__content fitted\"><pre>GradientBoostingClassifier(max_depth=5, min_samples_leaf=50,\n",
              "                           min_samples_split=200, random_state=42,\n",
              "                           subsample=0.8)</pre></div> </div></div></div></div>"
            ]
          },
          "metadata": {},
          "execution_count": 41
        }
      ]
    },
    {
      "cell_type": "code",
      "source": [
        "training_time = time.time() - start_time\n",
        "log_event(\"TIMING\", f\"Model training completed in {training_time:.2f} seconds\")"
      ],
      "metadata": {
        "colab": {
          "base_uri": "https://localhost:8080/"
        },
        "id": "jxofEWiMOQDv",
        "outputId": "4b43e0d5-5612-4ebe-c27a-bc4832c15666"
      },
      "execution_count": 42,
      "outputs": [
        {
          "output_type": "stream",
          "name": "stdout",
          "text": [
            "[2025-04-28T17:01:21.341472] TIMING: Model training completed in 70.59 seconds\n"
          ]
        }
      ]
    },
    {
      "cell_type": "markdown",
      "source": [
        "## 6. Model Evaluation"
      ],
      "metadata": {
        "id": "GPJdIHsmOSBp"
      }
    },
    {
      "cell_type": "code",
      "source": [
        "log_event(\"MODEL_EVALUATION\", \"Evaluating Gradient Boosting model\")\n",
        "start_time = time.time()"
      ],
      "metadata": {
        "colab": {
          "base_uri": "https://localhost:8080/"
        },
        "id": "0iCam6B9OVtU",
        "outputId": "393e5163-2b06-42c4-f3ef-7f74de5fefdd"
      },
      "execution_count": 43,
      "outputs": [
        {
          "output_type": "stream",
          "name": "stdout",
          "text": [
            "[2025-04-28T17:01:24.813719] MODEL_EVALUATION: Evaluating Gradient Boosting model\n"
          ]
        }
      ]
    },
    {
      "cell_type": "markdown",
      "source": [
        "### Make predictions"
      ],
      "metadata": {
        "id": "szURe4ubOXXL"
      }
    },
    {
      "cell_type": "code",
      "source": [
        "y_pred = gb_model.predict(X_test_scaled)\n",
        "y_pred_proba = gb_model.predict_proba(X_test_scaled)[:, 1]"
      ],
      "metadata": {
        "id": "8TH_1UfzOZAT"
      },
      "execution_count": 44,
      "outputs": []
    },
    {
      "cell_type": "markdown",
      "source": [
        "### Calculate metrics"
      ],
      "metadata": {
        "id": "EW0-yFwyObL8"
      }
    },
    {
      "cell_type": "code",
      "source": [
        "accuracy = accuracy_score(y_test, y_pred)\n",
        "precision = precision_score(y_test, y_pred)\n",
        "recall = recall_score(y_test, y_pred)\n",
        "f1 = f1_score(y_test, y_pred)"
      ],
      "metadata": {
        "id": "7n0TTM7POdBp"
      },
      "execution_count": 45,
      "outputs": []
    },
    {
      "cell_type": "markdown",
      "source": [
        "### ROC curve and AUC"
      ],
      "metadata": {
        "id": "QlXDYKH8Oe5a"
      }
    },
    {
      "cell_type": "code",
      "source": [
        "fpr, tpr, _ = roc_curve(y_test, y_pred_proba)\n",
        "roc_auc = auc(fpr, tpr)"
      ],
      "metadata": {
        "id": "T4fp34vbOglI"
      },
      "execution_count": 46,
      "outputs": []
    },
    {
      "cell_type": "markdown",
      "source": [
        "### Log the evaluation metrics"
      ],
      "metadata": {
        "id": "-ozKeZIwOjmh"
      }
    },
    {
      "cell_type": "code",
      "source": [
        "log_event(\"EVALUATION_METRICS\", \"Model performance metrics\", {\n",
        "    \"accuracy\": float(accuracy),\n",
        "    \"precision\": float(precision),\n",
        "    \"recall\": float(recall),\n",
        "    \"f1_score\": float(f1),\n",
        "    \"auc\": float(roc_auc)\n",
        "})"
      ],
      "metadata": {
        "colab": {
          "base_uri": "https://localhost:8080/"
        },
        "id": "8jwNSl3rOll-",
        "outputId": "88a10234-4f73-4e4e-832b-ff18859e5034"
      },
      "execution_count": 47,
      "outputs": [
        {
          "output_type": "stream",
          "name": "stdout",
          "text": [
            "[2025-04-28T17:01:31.652263] EVALUATION_METRICS: Model performance metrics\n"
          ]
        }
      ]
    },
    {
      "cell_type": "code",
      "source": [
        "print(\"\\nModel Performance:\")\n",
        "print(f\"Accuracy: {accuracy:.4f}\")\n",
        "print(f\"Precision: {precision:.4f}\")\n",
        "print(f\"Recall: {recall:.4f}\")\n",
        "print(f\"F1 Score: {f1:.4f}\")\n",
        "print(f\"AUC: {roc_auc:.4f}\")"
      ],
      "metadata": {
        "colab": {
          "base_uri": "https://localhost:8080/"
        },
        "id": "WssuFWSmOoC2",
        "outputId": "972cc08c-7ea6-4459-fa96-f4ea7ead5234"
      },
      "execution_count": 48,
      "outputs": [
        {
          "output_type": "stream",
          "name": "stdout",
          "text": [
            "\n",
            "Model Performance:\n",
            "Accuracy: 0.9862\n",
            "Precision: 0.9850\n",
            "Recall: 0.9875\n",
            "F1 Score: 0.9863\n",
            "AUC: 0.9990\n"
          ]
        }
      ]
    },
    {
      "cell_type": "markdown",
      "source": [
        "### Plot confusion matrix"
      ],
      "metadata": {
        "id": "vcPGHosEOqYn"
      }
    },
    {
      "cell_type": "code",
      "source": [
        "plt.figure(figsize=(8, 6))\n",
        "cm = confusion_matrix(y_test, y_pred)\n",
        "sns.heatmap(cm, annot=True, fmt='d', cmap='Blues')\n",
        "plt.title('Confusion Matrix')\n",
        "plt.ylabel('True Label')\n",
        "plt.xlabel('Predicted Label')\n",
        "plt.show()"
      ],
      "metadata": {
        "colab": {
          "base_uri": "https://localhost:8080/",
          "height": 564
        },
        "id": "xlbsCgzpOsa5",
        "outputId": "442d8a27-8812-424c-fc7e-c07efd24d3df"
      },
      "execution_count": 49,
      "outputs": [
        {
          "output_type": "display_data",
          "data": {
            "text/plain": [
              "<Figure size 800x600 with 2 Axes>"
            ],
            "image/png": "[encoded data removed]"
          },
          "metadata": {}
        }
      ]
    },
    {
      "cell_type": "markdown",
      "source": [
        "### Plot ROC curve"
      ],
      "metadata": {
        "id": "yVsXIkWSOuRM"
      }
    },
    {
      "cell_type": "code",
      "source": [
        "plt.figure(figsize=(8, 6))\n",
        "plt.plot(fpr, tpr, color='blue', lw=2, label=f'ROC curve (area = {roc_auc:.2f})')\n",
        "plt.plot([0, 1], [0, 1], color='gray', lw=2, linestyle='--')\n",
        "plt.xlim([0.0, 1.0])\n",
        "plt.ylim([0.0, 1.05])\n",
        "plt.xlabel('False Positive Rate')\n",
        "plt.ylabel('True Positive Rate')\n",
        "plt.title('Receiver Operating Characteristic')\n",
        "plt.legend(loc=\"lower right\")\n",
        "plt.show()"
      ],
      "metadata": {
        "colab": {
          "base_uri": "https://localhost:8080/",
          "height": 564
        },
        "id": "HkADQLFFOwL2",
        "outputId": "b561492e-1023-4320-b5f7-bc9ba537694e"
      },
      "execution_count": 50,
      "outputs": [
        {
          "output_type": "display_data",
          "data": {
            "text/plain": [
              "<Figure size 800x600 with 1 Axes>"
            ],
            "image/png": "[encoded data removed]"
          },
          "metadata": {}
        }
      ]
    },
    {
      "cell_type": "markdown",
      "source": [
        "### Feature importance"
      ],
      "metadata": {
        "id": "RARcaC-8OyVA"
      }
    },
    {
      "cell_type": "code",
      "source": [
        "feature_importances = pd.DataFrame(\n",
        "    gb_model.feature_importances_,\n",
        "    index=X.columns,\n",
        "    columns=['importance']\n",
        ").sort_values('importance', ascending=False)"
      ],
      "metadata": {
        "id": "MkxFZuQVO0qN"
      },
      "execution_count": 51,
      "outputs": []
    },
    {
      "cell_type": "code",
      "source": [
        "plt.figure(figsize=(12, 10))\n",
        "sns.barplot(x=feature_importances['importance'].head(15), y=feature_importances.index[:15])\n",
        "plt.title('Top 15 Feature Importances')\n",
        "plt.tight_layout()\n",
        "plt.show()"
      ],
      "metadata": {
        "colab": {
          "base_uri": "https://localhost:8080/",
          "height": 1000
        },
        "id": "iJqP1E9yO2uJ",
        "outputId": "ad985aa9-9694-478a-927d-77d896d79f2d"
      },
      "execution_count": 52,
      "outputs": [
        {
          "output_type": "display_data",
          "data": {
            "text/plain": [
              "<Figure size 1200x1000 with 1 Axes>"
            ],
            "image/png": "[encoded data removed]"
          },
          "metadata": {}
        }
      ]
    },
    {
      "cell_type": "code",
      "source": [
        "evaluation_time = time.time() - start_time\n",
        "log_event(\"TIMING\", f\"Model evaluation completed in {evaluation_time:.2f} seconds\")"
      ],
      "metadata": {
        "colab": {
          "base_uri": "https://localhost:8080/"
        },
        "id": "XfaviybOO44p",
        "outputId": "731894d0-3dae-409b-8043-eddb8427392a"
      },
      "execution_count": 53,
      "outputs": [
        {
          "output_type": "stream",
          "name": "stdout",
          "text": [
            "[2025-04-28T17:01:49.854447] TIMING: Model evaluation completed in 25.04 seconds\n"
          ]
        }
      ]
    },
    {
      "cell_type": "markdown",
      "source": [
        "## 7. Hyperparameter Tuning"
      ],
      "metadata": {
        "id": "4SxDZY52QAlX"
      }
    },
    {
      "cell_type": "code",
      "source": [
        "log_event(\"HYPERPARAMETER_TUNING\", \"Starting hyperparameter tuning\")\n",
        "start_time = time.time()"
      ],
      "metadata": {
        "colab": {
          "base_uri": "https://localhost:8080/"
        },
        "id": "YOgbdT5xQD1R",
        "outputId": "a383cc9d-3875-4f32-a865-8f1e55a5ecb8"
      },
      "execution_count": 60,
      "outputs": [
        {
          "output_type": "stream",
          "name": "stdout",
          "text": [
            "[2025-04-28T17:02:03.286238] HYPERPARAMETER_TUNING: Starting hyperparameter tuning\n"
          ]
        }
      ]
    },
    {
      "cell_type": "markdown",
      "source": [
        "### Focused parameter grid based on initial model performance"
      ],
      "metadata": {
        "id": "8heSw8BwQMIn"
      }
    },
    {
      "cell_type": "code",
      "source": [
        "param_grid = {\n",
        "    'learning_rate': [0.05, 0.1, 0.2],\n",
        "    'max_depth': [3, 5, 7],\n",
        "    'min_samples_split': [100, 200, 300],\n",
        "    'min_samples_leaf': [30, 50, 70],\n",
        "    'subsample': [0.7, 0.8, 0.9]\n",
        "}"
      ],
      "metadata": {
        "id": "lZMNItuJQOHl"
      },
      "execution_count": 61,
      "outputs": []
    },
    {
      "cell_type": "markdown",
      "source": [
        "### Subset of data for faster tuning"
      ],
      "metadata": {
        "id": "XYgmQNbqQQQp"
      }
    },
    {
      "cell_type": "code",
      "source": [
        "X_tune = X_train_scaled[:min(1000, X_train_scaled.shape[0])]\n",
        "y_tune = y_train[:min(1000, y_train.shape[0])]"
      ],
      "metadata": {
        "id": "YlJO1DeNQUAl"
      },
      "execution_count": 62,
      "outputs": []
    },
    {
      "cell_type": "markdown",
      "source": [
        "### Set up cross-validation grid search"
      ],
      "metadata": {
        "id": "FJf16DtWQWfh"
      }
    },
    {
      "cell_type": "code",
      "source": [
        "grid_search = GridSearchCV(\n",
        "    estimator=GradientBoostingClassifier(\n",
        "        n_estimators=100,\n",
        "        random_state=42\n",
        "    ),\n",
        "    param_grid=param_grid,\n",
        "    cv=3,\n",
        "    scoring='f1',\n",
        "    n_jobs=-1\n",
        ")"
      ],
      "metadata": {
        "id": "DyI4ZNj4QYUQ"
      },
      "execution_count": 63,
      "outputs": []
    },
    {
      "cell_type": "markdown",
      "source": [
        "### Run grid search"
      ],
      "metadata": {
        "id": "dQKVXGiiQc7u"
      }
    },
    {
      "cell_type": "code",
      "source": [
        "grid_search.fit(X_tune, y_tune)"
      ],
      "metadata": {
        "colab": {
          "base_uri": "https://localhost:8080/",
          "height": 166
        },
        "id": "mCQxelR3QfDr",
        "outputId": "b4d2fc71-cd50-4d5c-cd6d-b46c416dcba7"
      },
      "execution_count": 64,
      "outputs": [
        {
          "output_type": "execute_result",
          "data": {
            "text/plain": [
              "GridSearchCV(cv=3, estimator=GradientBoostingClassifier(random_state=42),\n",
              "             n_jobs=-1,\n",
              "             param_grid={'learning_rate': [0.05, 0.1, 0.2],\n",
              "                         'max_depth': [3, 5, 7],\n",
              "                         'min_samples_leaf': [30, 50, 70],\n",
              "                         'min_samples_split': [100, 200, 300],\n",
              "                         'subsample': [0.7, 0.8, 0.9]},\n",
              "             scoring='f1')"
            ],
            "text/html": [
              "<style>#sk-container-id-2 {\n",
              "  /* Definition of color scheme common for light and dark mode */\n",
              "  --sklearn-color-text: #000;\n",
              "  --sklearn-color-text-muted: #666;\n",
              "  --sklearn-color-line: gray;\n",
              "  /* Definition of color scheme for unfitted estimators */\n",
              "  --sklearn-color-unfitted-level-0: #fff5e6;\n",
              "  --sklearn-color-unfitted-level-1: #f6e4d2;\n",
              "  --sklearn-color-unfitted-level-2: #ffe0b3;\n",
              "  --sklearn-color-unfitted-level-3: chocolate;\n",
              "  /* Definition of color scheme for fitted estimators */\n",
              "  --sklearn-color-fitted-level-0: #f0f8ff;\n",
              "  --sklearn-color-fitted-level-1: #d4ebff;\n",
              "  --sklearn-color-fitted-level-2: #b3dbfd;\n",
              "  --sklearn-color-fitted-level-3: cornflowerblue;\n",
              "\n",
              "  /* Specific color for light theme */\n",
              "  --sklearn-color-text-on-default-background: var(--sg-text-color, var(--theme-code-foreground, var(--jp-content-font-color1, black)));\n",
              "  --sklearn-color-background: var(--sg-background-color, var(--theme-background, var(--jp-layout-color0, white)));\n",
              "  --sklearn-color-border-box: var(--sg-text-color, var(--theme-code-foreground, var(--jp-content-font-color1, black)));\n",
              "  --sklearn-color-icon: #696969;\n",
              "\n",
              "  @media (prefers-color-scheme: dark) {\n",
              "    /* Redefinition of color scheme for dark theme */\n",
              "    --sklearn-color-text-on-default-background: var(--sg-text-color, var(--theme-code-foreground, var(--jp-content-font-color1, white)));\n",
              "    --sklearn-color-background: var(--sg-background-color, var(--theme-background, var(--jp-layout-color0, #111)));\n",
              "    --sklearn-color-border-box: var(--sg-text-color, var(--theme-code-foreground, var(--jp-content-font-color1, white)));\n",
              "    --sklearn-color-icon: #878787;\n",
              "  }\n",
              "}\n",
              "\n",
              "#sk-container-id-2 {\n",
              "  color: var(--sklearn-color-text);\n",
              "}\n",
              "\n",
              "#sk-container-id-2 pre {\n",
              "  padding: 0;\n",
              "}\n",
              "\n",
              "#sk-container-id-2 input.sk-hidden--visually {\n",
              "  border: 0;\n",
              "  clip: rect(1px 1px 1px 1px);\n",
              "  clip: rect(1px, 1px, 1px, 1px);\n",
              "  height: 1px;\n",
              "  margin: -1px;\n",
              "  overflow: hidden;\n",
              "  padding: 0;\n",
              "  position: absolute;\n",
              "  width: 1px;\n",
              "}\n",
              "\n",
              "#sk-container-id-2 div.sk-dashed-wrapped {\n",
              "  border: 1px dashed var(--sklearn-color-line);\n",
              "  margin: 0 0.4em 0.5em 0.4em;\n",
              "  box-sizing: border-box;\n",
              "  padding-bottom: 0.4em;\n",
              "  background-color: var(--sklearn-color-background);\n",
              "}\n",
              "\n",
              "#sk-container-id-2 div.sk-container {\n",
              "  /* jupyter's `normalize.less` sets `[hidden] { display: none; }`\n",
              "     but bootstrap.min.css set `[hidden] { display: none !important; }`\n",
              "     so we also need the `!important` here to be able to override the\n",
              "     default hidden behavior on the sphinx rendered scikit-learn.org.\n",
              "     See: https://github.com/scikit-learn/scikit-learn/issues/21755 */\n",
              "  display: inline-block !important;\n",
              "  position: relative;\n",
              "}\n",
              "\n",
              "#sk-container-id-2 div.sk-text-repr-fallback {\n",
              "  display: none;\n",
              "}\n",
              "\n",
              "div.sk-parallel-item,\n",
              "div.sk-serial,\n",
              "div.sk-item {\n",
              "  /* draw centered vertical line to link estimators */\n",
              "  background-image: linear-gradient(var(--sklearn-color-text-on-default-background), var(--sklearn-color-text-on-default-background));\n",
              "  background-size: 2px 100%;\n",
              "  background-repeat: no-repeat;\n",
              "  background-position: center center;\n",
              "}\n",
              "\n",
              "/* Parallel-specific style estimator block */\n",
              "\n",
              "#sk-container-id-2 div.sk-parallel-item::after {\n",
              "  content: \"\";\n",
              "  width: 100%;\n",
              "  border-bottom: 2px solid var(--sklearn-color-text-on-default-background);\n",
              "  flex-grow: 1;\n",
              "}\n",
              "\n",
              "#sk-container-id-2 div.sk-parallel {\n",
              "  display: flex;\n",
              "  align-items: stretch;\n",
              "  justify-content: center;\n",
              "  background-color: var(--sklearn-color-background);\n",
              "  position: relative;\n",
              "}\n",
              "\n",
              "#sk-container-id-2 div.sk-parallel-item {\n",
              "  display: flex;\n",
              "  flex-direction: column;\n",
              "}\n",
              "\n",
              "#sk-container-id-2 div.sk-parallel-item:first-child::after {\n",
              "  align-self: flex-end;\n",
              "  width: 50%;\n",
              "}\n",
              "\n",
              "#sk-container-id-2 div.sk-parallel-item:last-child::after {\n",
              "  align-self: flex-start;\n",
              "  width: 50%;\n",
              "}\n",
              "\n",
              "#sk-container-id-2 div.sk-parallel-item:only-child::after {\n",
              "  width: 0;\n",
              "}\n",
              "\n",
              "/* Serial-specific style estimator block */\n",
              "\n",
              "#sk-container-id-2 div.sk-serial {\n",
              "  display: flex;\n",
              "  flex-direction: column;\n",
              "  align-items: center;\n",
              "  background-color: var(--sklearn-color-background);\n",
              "  padding-right: 1em;\n",
              "  padding-left: 1em;\n",
              "}\n",
              "\n",
              "\n",
              "/* Toggleable style: style used for estimator/Pipeline/ColumnTransformer box that is\n",
              "clickable and can be expanded/collapsed.\n",
              "- Pipeline and ColumnTransformer use this feature and define the default style\n",
              "- Estimators will overwrite some part of the style using the `sk-estimator` class\n",
              "*/\n",
              "\n",
              "/* Pipeline and ColumnTransformer style (default) */\n",
              "\n",
              "#sk-container-id-2 div.sk-toggleable {\n",
              "  /* Default theme specific background. It is overwritten whether we have a\n",
              "  specific estimator or a Pipeline/ColumnTransformer */\n",
              "  background-color: var(--sklearn-color-background);\n",
              "}\n",
              "\n",
              "/* Toggleable label */\n",
              "#sk-container-id-2 label.sk-toggleable__label {\n",
              "  cursor: pointer;\n",
              "  display: flex;\n",
              "  width: 100%;\n",
              "  margin-bottom: 0;\n",
              "  padding: 0.5em;\n",
              "  box-sizing: border-box;\n",
              "  text-align: center;\n",
              "  align-items: start;\n",
              "  justify-content: space-between;\n",
              "  gap: 0.5em;\n",
              "}\n",
              "\n",
              "#sk-container-id-2 label.sk-toggleable__label .caption {\n",
              "  font-size: 0.6rem;\n",
              "  font-weight: lighter;\n",
              "  color: var(--sklearn-color-text-muted);\n",
              "}\n",
              "\n",
              "#sk-container-id-2 label.sk-toggleable__label-arrow:before {\n",
              "  /* Arrow on the left of the label */\n",
              "  content: \"▸\";\n",
              "  float: left;\n",
              "  margin-right: 0.25em;\n",
              "  color: var(--sklearn-color-icon);\n",
              "}\n",
              "\n",
              "#sk-container-id-2 label.sk-toggleable__label-arrow:hover:before {\n",
              "  color: var(--sklearn-color-text);\n",
              "}\n",
              "\n",
              "/* Toggleable content - dropdown */\n",
              "\n",
              "#sk-container-id-2 div.sk-toggleable__content {\n",
              "  max-height: 0;\n",
              "  max-width: 0;\n",
              "  overflow: hidden;\n",
              "  text-align: left;\n",
              "  /* unfitted */\n",
              "  background-color: var(--sklearn-color-unfitted-level-0);\n",
              "}\n",
              "\n",
              "#sk-container-id-2 div.sk-toggleable__content.fitted {\n",
              "  /* fitted */\n",
              "  background-color: var(--sklearn-color-fitted-level-0);\n",
              "}\n",
              "\n",
              "#sk-container-id-2 div.sk-toggleable__content pre {\n",
              "  margin: 0.2em;\n",
              "  border-radius: 0.25em;\n",
              "  color: var(--sklearn-color-text);\n",
              "  /* unfitted */\n",
              "  background-color: var(--sklearn-color-unfitted-level-0);\n",
              "}\n",
              "\n",
              "#sk-container-id-2 div.sk-toggleable__content.fitted pre {\n",
              "  /* unfitted */\n",
              "  background-color: var(--sklearn-color-fitted-level-0);\n",
              "}\n",
              "\n",
              "#sk-container-id-2 input.sk-toggleable__control:checked~div.sk-toggleable__content {\n",
              "  /* Expand drop-down */\n",
              "  max-height: 200px;\n",
              "  max-width: 100%;\n",
              "  overflow: auto;\n",
              "}\n",
              "\n",
              "#sk-container-id-2 input.sk-toggleable__control:checked~label.sk-toggleable__label-arrow:before {\n",
              "  content: \"▾\";\n",
              "}\n",
              "\n",
              "/* Pipeline/ColumnTransformer-specific style */\n",
              "\n",
              "#sk-container-id-2 div.sk-label input.sk-toggleable__control:checked~label.sk-toggleable__label {\n",
              "  color: var(--sklearn-color-text);\n",
              "  background-color: var(--sklearn-color-unfitted-level-2);\n",
              "}\n",
              "\n",
              "#sk-container-id-2 div.sk-label.fitted input.sk-toggleable__control:checked~label.sk-toggleable__label {\n",
              "  background-color: var(--sklearn-color-fitted-level-2);\n",
              "}\n",
              "\n",
              "/* Estimator-specific style */\n",
              "\n",
              "/* Colorize estimator box */\n",
              "#sk-container-id-2 div.sk-estimator input.sk-toggleable__control:checked~label.sk-toggleable__label {\n",
              "  /* unfitted */\n",
              "  background-color: var(--sklearn-color-unfitted-level-2);\n",
              "}\n",
              "\n",
              "#sk-container-id-2 div.sk-estimator.fitted input.sk-toggleable__control:checked~label.sk-toggleable__label {\n",
              "  /* fitted */\n",
              "  background-color: var(--sklearn-color-fitted-level-2);\n",
              "}\n",
              "\n",
              "#sk-container-id-2 div.sk-label label.sk-toggleable__label,\n",
              "#sk-container-id-2 div.sk-label label {\n",
              "  /* The background is the default theme color */\n",
              "  color: var(--sklearn-color-text-on-default-background);\n",
              "}\n",
              "\n",
              "/* On hover, darken the color of the background */\n",
              "#sk-container-id-2 div.sk-label:hover label.sk-toggleable__label {\n",
              "  color: var(--sklearn-color-text);\n",
              "  background-color: var(--sklearn-color-unfitted-level-2);\n",
              "}\n",
              "\n",
              "/* Label box, darken color on hover, fitted */\n",
              "#sk-container-id-2 div.sk-label.fitted:hover label.sk-toggleable__label.fitted {\n",
              "  color: var(--sklearn-color-text);\n",
              "  background-color: var(--sklearn-color-fitted-level-2);\n",
              "}\n",
              "\n",
              "/* Estimator label */\n",
              "\n",
              "#sk-container-id-2 div.sk-label label {\n",
              "  font-family: monospace;\n",
              "  font-weight: bold;\n",
              "  display: inline-block;\n",
              "  line-height: 1.2em;\n",
              "}\n",
              "\n",
              "#sk-container-id-2 div.sk-label-container {\n",
              "  text-align: center;\n",
              "}\n",
              "\n",
              "/* Estimator-specific */\n",
              "#sk-container-id-2 div.sk-estimator {\n",
              "  font-family: monospace;\n",
              "  border: 1px dotted var(--sklearn-color-border-box);\n",
              "  border-radius: 0.25em;\n",
              "  box-sizing: border-box;\n",
              "  margin-bottom: 0.5em;\n",
              "  /* unfitted */\n",
              "  background-color: var(--sklearn-color-unfitted-level-0);\n",
              "}\n",
              "\n",
              "#sk-container-id-2 div.sk-estimator.fitted {\n",
              "  /* fitted */\n",
              "  background-color: var(--sklearn-color-fitted-level-0);\n",
              "}\n",
              "\n",
              "/* on hover */\n",
              "#sk-container-id-2 div.sk-estimator:hover {\n",
              "  /* unfitted */\n",
              "  background-color: var(--sklearn-color-unfitted-level-2);\n",
              "}\n",
              "\n",
              "#sk-container-id-2 div.sk-estimator.fitted:hover {\n",
              "  /* fitted */\n",
              "  background-color: var(--sklearn-color-fitted-level-2);\n",
              "}\n",
              "\n",
              "/* Specification for estimator info (e.g. \"i\" and \"?\") */\n",
              "\n",
              "/* Common style for \"i\" and \"?\" */\n",
              "\n",
              ".sk-estimator-doc-link,\n",
              "a:link.sk-estimator-doc-link,\n",
              "a:visited.sk-estimator-doc-link {\n",
              "  float: right;\n",
              "  font-size: smaller;\n",
              "  line-height: 1em;\n",
              "  font-family: monospace;\n",
              "  background-color: var(--sklearn-color-background);\n",
              "  border-radius: 1em;\n",
              "  height: 1em;\n",
              "  width: 1em;\n",
              "  text-decoration: none !important;\n",
              "  margin-left: 0.5em;\n",
              "  text-align: center;\n",
              "  /* unfitted */\n",
              "  border: var(--sklearn-color-unfitted-level-1) 1pt solid;\n",
              "  color: var(--sklearn-color-unfitted-level-1);\n",
              "}\n",
              "\n",
              ".sk-estimator-doc-link.fitted,\n",
              "a:link.sk-estimator-doc-link.fitted,\n",
              "a:visited.sk-estimator-doc-link.fitted {\n",
              "  /* fitted */\n",
              "  border: var(--sklearn-color-fitted-level-1) 1pt solid;\n",
              "  color: var(--sklearn-color-fitted-level-1);\n",
              "}\n",
              "\n",
              "/* On hover */\n",
              "div.sk-estimator:hover .sk-estimator-doc-link:hover,\n",
              ".sk-estimator-doc-link:hover,\n",
              "div.sk-label-container:hover .sk-estimator-doc-link:hover,\n",
              ".sk-estimator-doc-link:hover {\n",
              "  /* unfitted */\n",
              "  background-color: var(--sklearn-color-unfitted-level-3);\n",
              "  color: var(--sklearn-color-background);\n",
              "  text-decoration: none;\n",
              "}\n",
              "\n",
              "div.sk-estimator.fitted:hover .sk-estimator-doc-link.fitted:hover,\n",
              ".sk-estimator-doc-link.fitted:hover,\n",
              "div.sk-label-container:hover .sk-estimator-doc-link.fitted:hover,\n",
              ".sk-estimator-doc-link.fitted:hover {\n",
              "  /* fitted */\n",
              "  background-color: var(--sklearn-color-fitted-level-3);\n",
              "  color: var(--sklearn-color-background);\n",
              "  text-decoration: none;\n",
              "}\n",
              "\n",
              "/* Span, style for the box shown on hovering the info icon */\n",
              ".sk-estimator-doc-link span {\n",
              "  display: none;\n",
              "  z-index: 9999;\n",
              "  position: relative;\n",
              "  font-weight: normal;\n",
              "  right: .2ex;\n",
              "  padding: .5ex;\n",
              "  margin: .5ex;\n",
              "  width: min-content;\n",
              "  min-width: 20ex;\n",
              "  max-width: 50ex;\n",
              "  color: var(--sklearn-color-text);\n",
              "  box-shadow: 2pt 2pt 4pt #999;\n",
              "  /* unfitted */\n",
              "  background: var(--sklearn-color-unfitted-level-0);\n",
              "  border: .5pt solid var(--sklearn-color-unfitted-level-3);\n",
              "}\n",
              "\n",
              ".sk-estimator-doc-link.fitted span {\n",
              "  /* fitted */\n",
              "  background: var(--sklearn-color-fitted-level-0);\n",
              "  border: var(--sklearn-color-fitted-level-3);\n",
              "}\n",
              "\n",
              ".sk-estimator-doc-link:hover span {\n",
              "  display: block;\n",
              "}\n",
              "\n",
              "/* \"?\"-specific style due to the `<a>` HTML tag */\n",
              "\n",
              "#sk-container-id-2 a.estimator_doc_link {\n",
              "  float: right;\n",
              "  font-size: 1rem;\n",
              "  line-height: 1em;\n",
              "  font-family: monospace;\n",
              "  background-color: var(--sklearn-color-background);\n",
              "  border-radius: 1rem;\n",
              "  height: 1rem;\n",
              "  width: 1rem;\n",
              "  text-decoration: none;\n",
              "  /* unfitted */\n",
              "  color: var(--sklearn-color-unfitted-level-1);\n",
              "  border: var(--sklearn-color-unfitted-level-1) 1pt solid;\n",
              "}\n",
              "\n",
              "#sk-container-id-2 a.estimator_doc_link.fitted {\n",
              "  /* fitted */\n",
              "  border: var(--sklearn-color-fitted-level-1) 1pt solid;\n",
              "  color: var(--sklearn-color-fitted-level-1);\n",
              "}\n",
              "\n",
              "/* On hover */\n",
              "#sk-container-id-2 a.estimator_doc_link:hover {\n",
              "  /* unfitted */\n",
              "  background-color: var(--sklearn-color-unfitted-level-3);\n",
              "  color: var(--sklearn-color-background);\n",
              "  text-decoration: none;\n",
              "}\n",
              "\n",
              "#sk-container-id-2 a.estimator_doc_link.fitted:hover {\n",
              "  /* fitted */\n",
              "  background-color: var(--sklearn-color-fitted-level-3);\n",
              "}\n",
              "</style><div id=\"sk-container-id-2\" class=\"sk-top-container\"><div class=\"sk-text-repr-fallback\"><pre>GridSearchCV(cv=3, estimator=GradientBoostingClassifier(random_state=42),\n",
              "             n_jobs=-1,\n",
              "             param_grid={&#x27;learning_rate&#x27;: [0.05, 0.1, 0.2],\n",
              "                         &#x27;max_depth&#x27;: [3, 5, 7],\n",
              "                         &#x27;min_samples_leaf&#x27;: [30, 50, 70],\n",
              "                         &#x27;min_samples_split&#x27;: [100, 200, 300],\n",
              "                         &#x27;subsample&#x27;: [0.7, 0.8, 0.9]},\n",
              "             scoring=&#x27;f1&#x27;)</pre><b>In a Jupyter environment, please rerun this cell to show the HTML representation or trust the notebook. <br />On GitHub, the HTML representation is unable to render, please try loading this page with nbviewer.org.</b></div><div class=\"sk-container\" hidden><div class=\"sk-item sk-dashed-wrapped\"><div class=\"sk-label-container\"><div class=\"sk-label fitted sk-toggleable\"><input class=\"sk-toggleable__control sk-hidden--visually\" id=\"sk-estimator-id-2\" type=\"checkbox\" ><label for=\"sk-estimator-id-2\" class=\"sk-toggleable__label fitted sk-toggleable__label-arrow\"><div><div>GridSearchCV</div></div><div><a class=\"sk-estimator-doc-link fitted\" rel=\"noreferrer\" target=\"_blank\" href=\"https://scikit-learn.org/1.6/modules/generated/sklearn.model_selection.GridSearchCV.html\">?<span>Documentation for GridSearchCV</span></a><span class=\"sk-estimator-doc-link fitted\">i<span>Fitted</span></span></div></label><div class=\"sk-toggleable__content fitted\"><pre>GridSearchCV(cv=3, estimator=GradientBoostingClassifier(random_state=42),\n",
              "             n_jobs=-1,\n",
              "             param_grid={&#x27;learning_rate&#x27;: [0.05, 0.1, 0.2],\n",
              "                         &#x27;max_depth&#x27;: [3, 5, 7],\n",
              "                         &#x27;min_samples_leaf&#x27;: [30, 50, 70],\n",
              "                         &#x27;min_samples_split&#x27;: [100, 200, 300],\n",
              "                         &#x27;subsample&#x27;: [0.7, 0.8, 0.9]},\n",
              "             scoring=&#x27;f1&#x27;)</pre></div> </div></div><div class=\"sk-parallel\"><div class=\"sk-parallel-item\"><div class=\"sk-item\"><div class=\"sk-label-container\"><div class=\"sk-label fitted sk-toggleable\"><input class=\"sk-toggleable__control sk-hidden--visually\" id=\"sk-estimator-id-3\" type=\"checkbox\" ><label for=\"sk-estimator-id-3\" class=\"sk-toggleable__label fitted sk-toggleable__label-arrow\"><div><div>best_estimator_: GradientBoostingClassifier</div></div></label><div class=\"sk-toggleable__content fitted\"><pre>GradientBoostingClassifier(learning_rate=0.2, max_depth=5, min_samples_leaf=30,\n",
              "                           min_samples_split=300, random_state=42,\n",
              "                           subsample=0.8)</pre></div> </div></div><div class=\"sk-serial\"><div class=\"sk-item\"><div class=\"sk-estimator fitted sk-toggleable\"><input class=\"sk-toggleable__control sk-hidden--visually\" id=\"sk-estimator-id-4\" type=\"checkbox\" ><label for=\"sk-estimator-id-4\" class=\"sk-toggleable__label fitted sk-toggleable__label-arrow\"><div><div>GradientBoostingClassifier</div></div><div><a class=\"sk-estimator-doc-link fitted\" rel=\"noreferrer\" target=\"_blank\" href=\"https://scikit-learn.org/1.6/modules/generated/sklearn.ensemble.GradientBoostingClassifier.html\">?<span>Documentation for GradientBoostingClassifier</span></a></div></label><div class=\"sk-toggleable__content fitted\"><pre>GradientBoostingClassifier(learning_rate=0.2, max_depth=5, min_samples_leaf=30,\n",
              "                           min_samples_split=300, random_state=42,\n",
              "                           subsample=0.8)</pre></div> </div></div></div></div></div></div></div></div></div>"
            ]
          },
          "metadata": {},
          "execution_count": 64
        }
      ]
    },
    {
      "cell_type": "code",
      "source": [
        "tuning_time = time.time() - start_time\n",
        "log_event(\"TIMING\", f\"Hyperparameter tuning completed in {tuning_time:.2f} seconds\")"
      ],
      "metadata": {
        "colab": {
          "base_uri": "https://localhost:8080/"
        },
        "id": "uT9kGueTQhBv",
        "outputId": "1397d935-d3cd-4167-bf91-e45609238ec8"
      },
      "execution_count": 65,
      "outputs": [
        {
          "output_type": "stream",
          "name": "stdout",
          "text": [
            "[2025-04-28T17:05:17.081574] TIMING: Hyperparameter tuning completed in 193.80 seconds\n"
          ]
        }
      ]
    },
    {
      "cell_type": "markdown",
      "source": [
        "### Log the best parameters"
      ],
      "metadata": {
        "id": "EXUvngTeQjm4"
      }
    },
    {
      "cell_type": "code",
      "source": [
        "log_event(\"HYPERPARAMETER_TUNING\", \"Best parameters found\", {\n",
        "    \"parameters\": grid_search.best_params_,\n",
        "    \"f1_score\": float(grid_search.best_score_)\n",
        "})"
      ],
      "metadata": {
        "colab": {
          "base_uri": "https://localhost:8080/"
        },
        "id": "stJENVcEQkOY",
        "outputId": "786e49c2-1749-48c1-acba-1df341365042"
      },
      "execution_count": 66,
      "outputs": [
        {
          "output_type": "stream",
          "name": "stdout",
          "text": [
            "[2025-04-28T17:05:21.007370] HYPERPARAMETER_TUNING: Best parameters found\n"
          ]
        }
      ]
    },
    {
      "cell_type": "code",
      "source": [
        "print(\"\\nBest Parameters:\")\n",
        "for param, value in grid_search.best_params_.items():\n",
        "    print(f\"{param}: {value}\")\n",
        "print(f\"Best F1 Score: {grid_search.best_score_:.4f}\")"
      ],
      "metadata": {
        "colab": {
          "base_uri": "https://localhost:8080/"
        },
        "id": "60WfssqBQoQu",
        "outputId": "4a3c9b1b-6cc2-4407-92d9-e8076e0effd6"
      },
      "execution_count": 67,
      "outputs": [
        {
          "output_type": "stream",
          "name": "stdout",
          "text": [
            "\n",
            "Best Parameters:\n",
            "learning_rate: 0.2\n",
            "max_depth: 5\n",
            "min_samples_leaf: 30\n",
            "min_samples_split: 300\n",
            "subsample: 0.8\n",
            "Best F1 Score: 0.9839\n"
          ]
        }
      ]
    },
    {
      "cell_type": "markdown",
      "source": [
        "### Final model with the best parameters (on full training data)"
      ],
      "metadata": {
        "id": "8hjkdzVoQp0f"
      }
    },
    {
      "cell_type": "code",
      "source": [
        "final_model = GradientBoostingClassifier(\n",
        "    n_estimators=100,\n",
        "    **grid_search.best_params_,\n",
        "    random_state=42\n",
        ")"
      ],
      "metadata": {
        "id": "T__vTzr-QuV1"
      },
      "execution_count": 68,
      "outputs": []
    },
    {
      "cell_type": "code",
      "source": [
        "final_model.fit(X_train_scaled, y_train)"
      ],
      "metadata": {
        "colab": {
          "base_uri": "https://localhost:8080/",
          "height": 115
        },
        "id": "0vc7k0ZgQwYd",
        "outputId": "9a634cc8-a8fd-41b2-de81-0534b65f7082"
      },
      "execution_count": 69,
      "outputs": [
        {
          "output_type": "execute_result",
          "data": {
            "text/plain": [
              "GradientBoostingClassifier(learning_rate=0.2, max_depth=5, min_samples_leaf=30,\n",
              "                           min_samples_split=300, random_state=42,\n",
              "                           subsample=0.8)"
            ],
            "text/html": [
              "<style>#sk-container-id-3 {\n",
              "  /* Definition of color scheme common for light and dark mode */\n",
              "  --sklearn-color-text: #000;\n",
              "  --sklearn-color-text-muted: #666;\n",
              "  --sklearn-color-line: gray;\n",
              "  /* Definition of color scheme for unfitted estimators */\n",
              "  --sklearn-color-unfitted-level-0: #fff5e6;\n",
              "  --sklearn-color-unfitted-level-1: #f6e4d2;\n",
              "  --sklearn-color-unfitted-level-2: #ffe0b3;\n",
              "  --sklearn-color-unfitted-level-3: chocolate;\n",
              "  /* Definition of color scheme for fitted estimators */\n",
              "  --sklearn-color-fitted-level-0: #f0f8ff;\n",
              "  --sklearn-color-fitted-level-1: #d4ebff;\n",
              "  --sklearn-color-fitted-level-2: #b3dbfd;\n",
              "  --sklearn-color-fitted-level-3: cornflowerblue;\n",
              "\n",
              "  /* Specific color for light theme */\n",
              "  --sklearn-color-text-on-default-background: var(--sg-text-color, var(--theme-code-foreground, var(--jp-content-font-color1, black)));\n",
              "  --sklearn-color-background: var(--sg-background-color, var(--theme-background, var(--jp-layout-color0, white)));\n",
              "  --sklearn-color-border-box: var(--sg-text-color, var(--theme-code-foreground, var(--jp-content-font-color1, black)));\n",
              "  --sklearn-color-icon: #696969;\n",
              "\n",
              "  @media (prefers-color-scheme: dark) {\n",
              "    /* Redefinition of color scheme for dark theme */\n",
              "    --sklearn-color-text-on-default-background: var(--sg-text-color, var(--theme-code-foreground, var(--jp-content-font-color1, white)));\n",
              "    --sklearn-color-background: var(--sg-background-color, var(--theme-background, var(--jp-layout-color0, #111)));\n",
              "    --sklearn-color-border-box: var(--sg-text-color, var(--theme-code-foreground, var(--jp-content-font-color1, white)));\n",
              "    --sklearn-color-icon: #878787;\n",
              "  }\n",
              "}\n",
              "\n",
              "#sk-container-id-3 {\n",
              "  color: var(--sklearn-color-text);\n",
              "}\n",
              "\n",
              "#sk-container-id-3 pre {\n",
              "  padding: 0;\n",
              "}\n",
              "\n",
              "#sk-container-id-3 input.sk-hidden--visually {\n",
              "  border: 0;\n",
              "  clip: rect(1px 1px 1px 1px);\n",
              "  clip: rect(1px, 1px, 1px, 1px);\n",
              "  height: 1px;\n",
              "  margin: -1px;\n",
              "  overflow: hidden;\n",
              "  padding: 0;\n",
              "  position: absolute;\n",
              "  width: 1px;\n",
              "}\n",
              "\n",
              "#sk-container-id-3 div.sk-dashed-wrapped {\n",
              "  border: 1px dashed var(--sklearn-color-line);\n",
              "  margin: 0 0.4em 0.5em 0.4em;\n",
              "  box-sizing: border-box;\n",
              "  padding-bottom: 0.4em;\n",
              "  background-color: var(--sklearn-color-background);\n",
              "}\n",
              "\n",
              "#sk-container-id-3 div.sk-container {\n",
              "  /* jupyter's `normalize.less` sets `[hidden] { display: none; }`\n",
              "     but bootstrap.min.css set `[hidden] { display: none !important; }`\n",
              "     so we also need the `!important` here to be able to override the\n",
              "     default hidden behavior on the sphinx rendered scikit-learn.org.\n",
              "     See: https://github.com/scikit-learn/scikit-learn/issues/21755 */\n",
              "  display: inline-block !important;\n",
              "  position: relative;\n",
              "}\n",
              "\n",
              "#sk-container-id-3 div.sk-text-repr-fallback {\n",
              "  display: none;\n",
              "}\n",
              "\n",
              "div.sk-parallel-item,\n",
              "div.sk-serial,\n",
              "div.sk-item {\n",
              "  /* draw centered vertical line to link estimators */\n",
              "  background-image: linear-gradient(var(--sklearn-color-text-on-default-background), var(--sklearn-color-text-on-default-background));\n",
              "  background-size: 2px 100%;\n",
              "  background-repeat: no-repeat;\n",
              "  background-position: center center;\n",
              "}\n",
              "\n",
              "/* Parallel-specific style estimator block */\n",
              "\n",
              "#sk-container-id-3 div.sk-parallel-item::after {\n",
              "  content: \"\";\n",
              "  width: 100%;\n",
              "  border-bottom: 2px solid var(--sklearn-color-text-on-default-background);\n",
              "  flex-grow: 1;\n",
              "}\n",
              "\n",
              "#sk-container-id-3 div.sk-parallel {\n",
              "  display: flex;\n",
              "  align-items: stretch;\n",
              "  justify-content: center;\n",
              "  background-color: var(--sklearn-color-background);\n",
              "  position: relative;\n",
              "}\n",
              "\n",
              "#sk-container-id-3 div.sk-parallel-item {\n",
              "  display: flex;\n",
              "  flex-direction: column;\n",
              "}\n",
              "\n",
              "#sk-container-id-3 div.sk-parallel-item:first-child::after {\n",
              "  align-self: flex-end;\n",
              "  width: 50%;\n",
              "}\n",
              "\n",
              "#sk-container-id-3 div.sk-parallel-item:last-child::after {\n",
              "  align-self: flex-start;\n",
              "  width: 50%;\n",
              "}\n",
              "\n",
              "#sk-container-id-3 div.sk-parallel-item:only-child::after {\n",
              "  width: 0;\n",
              "}\n",
              "\n",
              "/* Serial-specific style estimator block */\n",
              "\n",
              "#sk-container-id-3 div.sk-serial {\n",
              "  display: flex;\n",
              "  flex-direction: column;\n",
              "  align-items: center;\n",
              "  background-color: var(--sklearn-color-background);\n",
              "  padding-right: 1em;\n",
              "  padding-left: 1em;\n",
              "}\n",
              "\n",
              "\n",
              "/* Toggleable style: style used for estimator/Pipeline/ColumnTransformer box that is\n",
              "clickable and can be expanded/collapsed.\n",
              "- Pipeline and ColumnTransformer use this feature and define the default style\n",
              "- Estimators will overwrite some part of the style using the `sk-estimator` class\n",
              "*/\n",
              "\n",
              "/* Pipeline and ColumnTransformer style (default) */\n",
              "\n",
              "#sk-container-id-3 div.sk-toggleable {\n",
              "  /* Default theme specific background. It is overwritten whether we have a\n",
              "  specific estimator or a Pipeline/ColumnTransformer */\n",
              "  background-color: var(--sklearn-color-background);\n",
              "}\n",
              "\n",
              "/* Toggleable label */\n",
              "#sk-container-id-3 label.sk-toggleable__label {\n",
              "  cursor: pointer;\n",
              "  display: flex;\n",
              "  width: 100%;\n",
              "  margin-bottom: 0;\n",
              "  padding: 0.5em;\n",
              "  box-sizing: border-box;\n",
              "  text-align: center;\n",
              "  align-items: start;\n",
              "  justify-content: space-between;\n",
              "  gap: 0.5em;\n",
              "}\n",
              "\n",
              "#sk-container-id-3 label.sk-toggleable__label .caption {\n",
              "  font-size: 0.6rem;\n",
              "  font-weight: lighter;\n",
              "  color: var(--sklearn-color-text-muted);\n",
              "}\n",
              "\n",
              "#sk-container-id-3 label.sk-toggleable__label-arrow:before {\n",
              "  /* Arrow on the left of the label */\n",
              "  content: \"▸\";\n",
              "  float: left;\n",
              "  margin-right: 0.25em;\n",
              "  color: var(--sklearn-color-icon);\n",
              "}\n",
              "\n",
              "#sk-container-id-3 label.sk-toggleable__label-arrow:hover:before {\n",
              "  color: var(--sklearn-color-text);\n",
              "}\n",
              "\n",
              "/* Toggleable content - dropdown */\n",
              "\n",
              "#sk-container-id-3 div.sk-toggleable__content {\n",
              "  max-height: 0;\n",
              "  max-width: 0;\n",
              "  overflow: hidden;\n",
              "  text-align: left;\n",
              "  /* unfitted */\n",
              "  background-color: var(--sklearn-color-unfitted-level-0);\n",
              "}\n",
              "\n",
              "#sk-container-id-3 div.sk-toggleable__content.fitted {\n",
              "  /* fitted */\n",
              "  background-color: var(--sklearn-color-fitted-level-0);\n",
              "}\n",
              "\n",
              "#sk-container-id-3 div.sk-toggleable__content pre {\n",
              "  margin: 0.2em;\n",
              "  border-radius: 0.25em;\n",
              "  color: var(--sklearn-color-text);\n",
              "  /* unfitted */\n",
              "  background-color: var(--sklearn-color-unfitted-level-0);\n",
              "}\n",
              "\n",
              "#sk-container-id-3 div.sk-toggleable__content.fitted pre {\n",
              "  /* unfitted */\n",
              "  background-color: var(--sklearn-color-fitted-level-0);\n",
              "}\n",
              "\n",
              "#sk-container-id-3 input.sk-toggleable__control:checked~div.sk-toggleable__content {\n",
              "  /* Expand drop-down */\n",
              "  max-height: 200px;\n",
              "  max-width: 100%;\n",
              "  overflow: auto;\n",
              "}\n",
              "\n",
              "#sk-container-id-3 input.sk-toggleable__control:checked~label.sk-toggleable__label-arrow:before {\n",
              "  content: \"▾\";\n",
              "}\n",
              "\n",
              "/* Pipeline/ColumnTransformer-specific style */\n",
              "\n",
              "#sk-container-id-3 div.sk-label input.sk-toggleable__control:checked~label.sk-toggleable__label {\n",
              "  color: var(--sklearn-color-text);\n",
              "  background-color: var(--sklearn-color-unfitted-level-2);\n",
              "}\n",
              "\n",
              "#sk-container-id-3 div.sk-label.fitted input.sk-toggleable__control:checked~label.sk-toggleable__label {\n",
              "  background-color: var(--sklearn-color-fitted-level-2);\n",
              "}\n",
              "\n",
              "/* Estimator-specific style */\n",
              "\n",
              "/* Colorize estimator box */\n",
              "#sk-container-id-3 div.sk-estimator input.sk-toggleable__control:checked~label.sk-toggleable__label {\n",
              "  /* unfitted */\n",
              "  background-color: var(--sklearn-color-unfitted-level-2);\n",
              "}\n",
              "\n",
              "#sk-container-id-3 div.sk-estimator.fitted input.sk-toggleable__control:checked~label.sk-toggleable__label {\n",
              "  /* fitted */\n",
              "  background-color: var(--sklearn-color-fitted-level-2);\n",
              "}\n",
              "\n",
              "#sk-container-id-3 div.sk-label label.sk-toggleable__label,\n",
              "#sk-container-id-3 div.sk-label label {\n",
              "  /* The background is the default theme color */\n",
              "  color: var(--sklearn-color-text-on-default-background);\n",
              "}\n",
              "\n",
              "/* On hover, darken the color of the background */\n",
              "#sk-container-id-3 div.sk-label:hover label.sk-toggleable__label {\n",
              "  color: var(--sklearn-color-text);\n",
              "  background-color: var(--sklearn-color-unfitted-level-2);\n",
              "}\n",
              "\n",
              "/* Label box, darken color on hover, fitted */\n",
              "#sk-container-id-3 div.sk-label.fitted:hover label.sk-toggleable__label.fitted {\n",
              "  color: var(--sklearn-color-text);\n",
              "  background-color: var(--sklearn-color-fitted-level-2);\n",
              "}\n",
              "\n",
              "/* Estimator label */\n",
              "\n",
              "#sk-container-id-3 div.sk-label label {\n",
              "  font-family: monospace;\n",
              "  font-weight: bold;\n",
              "  display: inline-block;\n",
              "  line-height: 1.2em;\n",
              "}\n",
              "\n",
              "#sk-container-id-3 div.sk-label-container {\n",
              "  text-align: center;\n",
              "}\n",
              "\n",
              "/* Estimator-specific */\n",
              "#sk-container-id-3 div.sk-estimator {\n",
              "  font-family: monospace;\n",
              "  border: 1px dotted var(--sklearn-color-border-box);\n",
              "  border-radius: 0.25em;\n",
              "  box-sizing: border-box;\n",
              "  margin-bottom: 0.5em;\n",
              "  /* unfitted */\n",
              "  background-color: var(--sklearn-color-unfitted-level-0);\n",
              "}\n",
              "\n",
              "#sk-container-id-3 div.sk-estimator.fitted {\n",
              "  /* fitted */\n",
              "  background-color: var(--sklearn-color-fitted-level-0);\n",
              "}\n",
              "\n",
              "/* on hover */\n",
              "#sk-container-id-3 div.sk-estimator:hover {\n",
              "  /* unfitted */\n",
              "  background-color: var(--sklearn-color-unfitted-level-2);\n",
              "}\n",
              "\n",
              "#sk-container-id-3 div.sk-estimator.fitted:hover {\n",
              "  /* fitted */\n",
              "  background-color: var(--sklearn-color-fitted-level-2);\n",
              "}\n",
              "\n",
              "/* Specification for estimator info (e.g. \"i\" and \"?\") */\n",
              "\n",
              "/* Common style for \"i\" and \"?\" */\n",
              "\n",
              ".sk-estimator-doc-link,\n",
              "a:link.sk-estimator-doc-link,\n",
              "a:visited.sk-estimator-doc-link {\n",
              "  float: right;\n",
              "  font-size: smaller;\n",
              "  line-height: 1em;\n",
              "  font-family: monospace;\n",
              "  background-color: var(--sklearn-color-background);\n",
              "  border-radius: 1em;\n",
              "  height: 1em;\n",
              "  width: 1em;\n",
              "  text-decoration: none !important;\n",
              "  margin-left: 0.5em;\n",
              "  text-align: center;\n",
              "  /* unfitted */\n",
              "  border: var(--sklearn-color-unfitted-level-1) 1pt solid;\n",
              "  color: var(--sklearn-color-unfitted-level-1);\n",
              "}\n",
              "\n",
              ".sk-estimator-doc-link.fitted,\n",
              "a:link.sk-estimator-doc-link.fitted,\n",
              "a:visited.sk-estimator-doc-link.fitted {\n",
              "  /* fitted */\n",
              "  border: var(--sklearn-color-fitted-level-1) 1pt solid;\n",
              "  color: var(--sklearn-color-fitted-level-1);\n",
              "}\n",
              "\n",
              "/* On hover */\n",
              "div.sk-estimator:hover .sk-estimator-doc-link:hover,\n",
              ".sk-estimator-doc-link:hover,\n",
              "div.sk-label-container:hover .sk-estimator-doc-link:hover,\n",
              ".sk-estimator-doc-link:hover {\n",
              "  /* unfitted */\n",
              "  background-color: var(--sklearn-color-unfitted-level-3);\n",
              "  color: var(--sklearn-color-background);\n",
              "  text-decoration: none;\n",
              "}\n",
              "\n",
              "div.sk-estimator.fitted:hover .sk-estimator-doc-link.fitted:hover,\n",
              ".sk-estimator-doc-link.fitted:hover,\n",
              "div.sk-label-container:hover .sk-estimator-doc-link.fitted:hover,\n",
              ".sk-estimator-doc-link.fitted:hover {\n",
              "  /* fitted */\n",
              "  background-color: var(--sklearn-color-fitted-level-3);\n",
              "  color: var(--sklearn-color-background);\n",
              "  text-decoration: none;\n",
              "}\n",
              "\n",
              "/* Span, style for the box shown on hovering the info icon */\n",
              ".sk-estimator-doc-link span {\n",
              "  display: none;\n",
              "  z-index: 9999;\n",
              "  position: relative;\n",
              "  font-weight: normal;\n",
              "  right: .2ex;\n",
              "  padding: .5ex;\n",
              "  margin: .5ex;\n",
              "  width: min-content;\n",
              "  min-width: 20ex;\n",
              "  max-width: 50ex;\n",
              "  color: var(--sklearn-color-text);\n",
              "  box-shadow: 2pt 2pt 4pt #999;\n",
              "  /* unfitted */\n",
              "  background: var(--sklearn-color-unfitted-level-0);\n",
              "  border: .5pt solid var(--sklearn-color-unfitted-level-3);\n",
              "}\n",
              "\n",
              ".sk-estimator-doc-link.fitted span {\n",
              "  /* fitted */\n",
              "  background: var(--sklearn-color-fitted-level-0);\n",
              "  border: var(--sklearn-color-fitted-level-3);\n",
              "}\n",
              "\n",
              ".sk-estimator-doc-link:hover span {\n",
              "  display: block;\n",
              "}\n",
              "\n",
              "/* \"?\"-specific style due to the `<a>` HTML tag */\n",
              "\n",
              "#sk-container-id-3 a.estimator_doc_link {\n",
              "  float: right;\n",
              "  font-size: 1rem;\n",
              "  line-height: 1em;\n",
              "  font-family: monospace;\n",
              "  background-color: var(--sklearn-color-background);\n",
              "  border-radius: 1rem;\n",
              "  height: 1rem;\n",
              "  width: 1rem;\n",
              "  text-decoration: none;\n",
              "  /* unfitted */\n",
              "  color: var(--sklearn-color-unfitted-level-1);\n",
              "  border: var(--sklearn-color-unfitted-level-1) 1pt solid;\n",
              "}\n",
              "\n",
              "#sk-container-id-3 a.estimator_doc_link.fitted {\n",
              "  /* fitted */\n",
              "  border: var(--sklearn-color-fitted-level-1) 1pt solid;\n",
              "  color: var(--sklearn-color-fitted-level-1);\n",
              "}\n",
              "\n",
              "/* On hover */\n",
              "#sk-container-id-3 a.estimator_doc_link:hover {\n",
              "  /* unfitted */\n",
              "  background-color: var(--sklearn-color-unfitted-level-3);\n",
              "  color: var(--sklearn-color-background);\n",
              "  text-decoration: none;\n",
              "}\n",
              "\n",
              "#sk-container-id-3 a.estimator_doc_link.fitted:hover {\n",
              "  /* fitted */\n",
              "  background-color: var(--sklearn-color-fitted-level-3);\n",
              "}\n",
              "</style><div id=\"sk-container-id-3\" class=\"sk-top-container\"><div class=\"sk-text-repr-fallback\"><pre>GradientBoostingClassifier(learning_rate=0.2, max_depth=5, min_samples_leaf=30,\n",
              "                           min_samples_split=300, random_state=42,\n",
              "                           subsample=0.8)</pre><b>In a Jupyter environment, please rerun this cell to show the HTML representation or trust the notebook. <br />On GitHub, the HTML representation is unable to render, please try loading this page with nbviewer.org.</b></div><div class=\"sk-container\" hidden><div class=\"sk-item\"><div class=\"sk-estimator fitted sk-toggleable\"><input class=\"sk-toggleable__control sk-hidden--visually\" id=\"sk-estimator-id-5\" type=\"checkbox\" checked><label for=\"sk-estimator-id-5\" class=\"sk-toggleable__label fitted sk-toggleable__label-arrow\"><div><div>GradientBoostingClassifier</div></div><div><a class=\"sk-estimator-doc-link fitted\" rel=\"noreferrer\" target=\"_blank\" href=\"https://scikit-learn.org/1.6/modules/generated/sklearn.ensemble.GradientBoostingClassifier.html\">?<span>Documentation for GradientBoostingClassifier</span></a><span class=\"sk-estimator-doc-link fitted\">i<span>Fitted</span></span></div></label><div class=\"sk-toggleable__content fitted\"><pre>GradientBoostingClassifier(learning_rate=0.2, max_depth=5, min_samples_leaf=30,\n",
              "                           min_samples_split=300, random_state=42,\n",
              "                           subsample=0.8)</pre></div> </div></div></div></div>"
            ]
          },
          "metadata": {},
          "execution_count": 69
        }
      ]
    },
    {
      "cell_type": "markdown",
      "source": [
        "### Evaluate final model"
      ],
      "metadata": {
        "id": "X5Ag7ZiFQyGj"
      }
    },
    {
      "cell_type": "code",
      "source": [
        "final_pred = final_model.predict(X_test_scaled)\n",
        "final_accuracy = accuracy_score(y_test, final_pred)\n",
        "final_precision = precision_score(y_test, final_pred)\n",
        "final_recall = recall_score(y_test, final_pred)\n",
        "final_f1 = f1_score(y_test, final_pred)"
      ],
      "metadata": {
        "id": "fmRY2P-JQz95"
      },
      "execution_count": 70,
      "outputs": []
    },
    {
      "cell_type": "code",
      "source": [
        "log_event(\"FINAL_MODEL_EVALUATION\", \"Final model performance after tuning\", {\n",
        "    \"accuracy\": float(final_accuracy),\n",
        "    \"precision\": float(final_precision),\n",
        "    \"recall\": float(final_recall),\n",
        "    \"f1_score\": float(final_f1)\n",
        "})"
      ],
      "metadata": {
        "colab": {
          "base_uri": "https://localhost:8080/"
        },
        "id": "cnKtBJHHQ3HH",
        "outputId": "94dd8114-0a23-460b-ef8d-4e3eca8b904f"
      },
      "execution_count": 71,
      "outputs": [
        {
          "output_type": "stream",
          "name": "stdout",
          "text": [
            "[2025-04-28T17:05:39.862276] FINAL_MODEL_EVALUATION: Final model performance after tuning\n"
          ]
        }
      ]
    },
    {
      "cell_type": "code",
      "source": [
        "print(\"\\nFinal Model Performance After Tuning:\")\n",
        "print(f\"Accuracy: {final_accuracy:.4f}\")\n",
        "print(f\"Precision: {final_precision:.4f}\")\n",
        "print(f\"Recall: {final_recall:.4f}\")\n",
        "print(f\"F1 Score: {final_f1:.4f}\")"
      ],
      "metadata": {
        "colab": {
          "base_uri": "https://localhost:8080/"
        },
        "id": "8sB-MyVZQ427",
        "outputId": "17256bda-5c7a-45c0-f8d8-31abcadb0c1c"
      },
      "execution_count": 72,
      "outputs": [
        {
          "output_type": "stream",
          "name": "stdout",
          "text": [
            "\n",
            "Final Model Performance After Tuning:\n",
            "Accuracy: 0.9862\n",
            "Precision: 0.9875\n",
            "Recall: 0.9850\n",
            "F1 Score: 0.9862\n"
          ]
        }
      ]
    },
    {
      "cell_type": "markdown",
      "source": [
        "## 8. Testing with Real-World URLs"
      ],
      "metadata": {
        "id": "xHOwb_Bn9hIa"
      }
    },
    {
      "cell_type": "code",
      "source": [
        "log_event(\"MODEL_TESTING\", \"Testing final model with real-world URLs\")"
      ],
      "metadata": {
        "id": "hmNfn3Re9k_v"
      },
      "execution_count": null,
      "outputs": []
    },
    {
      "cell_type": "code",
      "source": [
        "def extract_features_for_test(url):\n",
        "    \"\"\"Extract features for a single test URL\"\"\"\n",
        "    return extract_url_features(url)"
      ],
      "metadata": {
        "id": "VcKtQ2MT9yPb"
      },
      "execution_count": null,
      "outputs": []
    },
    {
      "cell_type": "code",
      "source": [
        "def test_url(url, model, scaler):\n",
        "    \"\"\"Test a single URL with the trained model\"\"\"\n",
        "    features = extract_features_for_test(url)\n",
        "    features_df = pd.DataFrame([features])\n",
        "    features_scaled = scaler.transform(features_df)\n",
        "    prediction = model.predict(features_scaled)[0]\n",
        "    probability = model.predict_proba(features_scaled)[0, 1]  # Probability of being phishing\n",
        "    return prediction, probability, features"
      ],
      "metadata": {
        "id": "q7ju-tQW9z3s"
      },
      "execution_count": null,
      "outputs": []
    },
    {
      "cell_type": "markdown",
      "source": [
        "### Test legitimate sites"
      ],
      "metadata": {
        "id": "RIavIvFB95jm"
      }
    },
    {
      "cell_type": "code",
      "source": [
        "legitimate_urls = [\n",
        "    \"https://www.google.com\",\n",
        "    \"https://www.amazon.com\",\n",
        "    \"https://www.github.com\",\n",
        "    \"https://www.nytimes.com\",\n",
        "    \"https://www.microsoft.com\"\n",
        "]"
      ],
      "metadata": {
        "id": "f1DnKrhN94EY"
      },
      "execution_count": null,
      "outputs": []
    },
    {
      "cell_type": "code",
      "source": [
        "print(\"\\n==== Testing Known Legitimate URLs ====\")\n",
        "for url in legitimate_urls:\n",
        "    try:\n",
        "        prediction, probability, features = test_url(url, final_model, scaler)\n",
        "        status = \"❌ MISCLASSIFIED\" if prediction == 1 else \"✅ CORRECT\"\n",
        "        print(f\"\\nURL: {url}\")\n",
        "        print(f\"Prediction: {'Phishing' if prediction == 1 else 'Legitimate'}\")\n",
        "        print(f\"Phishing Probability: {probability:.4f}\")\n",
        "        print(f\"Status: {status}\")\n",
        "        print(f\"Key Features: HTTPS={features['HTTPS']}, SubDomains={features['SubDomains']}, DomainRegLen={features['DomainRegLen']}\")\n",
        "    except Exception as e:\n",
        "        print(f\"Error analyzing {url}: {str(e)}\")"
      ],
      "metadata": {
        "id": "N9qiwTEp9-eN"
      },
      "execution_count": null,
      "outputs": []
    },
    {
      "cell_type": "markdown",
      "source": [
        "### Test known phishing patterns"
      ],
      "metadata": {
        "id": "XGNGIsue-BOq"
      }
    },
    {
      "cell_type": "code",
      "source": [
        "phishing_patterns = [\n",
        "    \"http://secure-paypal.com.verification.loginauth.net/signin\",  # Suspicious domain\n",
        "    \"https://accounts-google.com.verify.suspicious-domain.com/login\",  # Subdomain abuse\n",
        "    \"https://www.bankofamerica.com.secure.id123.info/login.php\",  # Domain spoofing\n",
        "    \"http://paypal-secure.verification.loginauth.com/signin\",  # Brand + suspicious words\n",
        "    \"https://www.amazonsecure.phishing-attempt.net/login\"  # Brand + suspicious domain\n",
        "]"
      ],
      "metadata": {
        "id": "7tvEEsdB-Eft"
      },
      "execution_count": null,
      "outputs": []
    },
    {
      "cell_type": "code",
      "source": [
        "print(\"\\n==== Testing Phishing URL Patterns ====\")\n",
        "for url in phishing_patterns:\n",
        "    try:\n",
        "        prediction, probability, features = test_url(url, final_model, scaler)\n",
        "        status = \"❌ MISCLASSIFIED\" if prediction == 0 else \"✅ CORRECT\"\n",
        "        print(f\"\\nURL: {url}\")\n",
        "        print(f\"Prediction: {'Phishing' if prediction == 1 else 'Legitimate'}\")\n",
        "        print(f\"Phishing Probability: {probability:.4f}\")\n",
        "        print(f\"Status: {status}\")\n",
        "        print(f\"Key Features: HTTPS={features['HTTPS']}, SubDomains={features['SubDomains']}, AbnormalURL={features['AbnormalURL']}\")\n",
        "    except Exception as e:\n",
        "        print(f\"Error analyzing {url}: {str(e)}\")"
      ],
      "metadata": {
        "id": "kZ43c5NR-GQq"
      },
      "execution_count": null,
      "outputs": []
    },
    {
      "cell_type": "markdown",
      "source": [
        "## 9. Save Model and Artifacts"
      ],
      "metadata": {
        "id": "nKXvjp457x_G"
      }
    },
    {
      "cell_type": "code",
      "source": [
        "log_event(\"MODEL_SAVING\", \"Saving model and artifacts\")\n",
        "start_time = time.time()"
      ],
      "metadata": {
        "id": "ESj4OJI672Ue"
      },
      "execution_count": null,
      "outputs": []
    },
    {
      "cell_type": "markdown",
      "source": [
        "### Save the models"
      ],
      "metadata": {
        "id": "3aJ-TqIf8Cvq"
      }
    },
    {
      "cell_type": "code",
      "source": [
        "joblib.dump(gb_model, MODEL_OUTPUT_PATH)\n",
        "joblib.dump(final_model, TUNED_MODEL_OUTPUT_PATH)\n",
        "joblib.dump(scaler, SCALER_OUTPUT_PATH)"
      ],
      "metadata": {
        "id": "xKfcvOQR8EgC"
      },
      "execution_count": null,
      "outputs": []
    },
    {
      "cell_type": "markdown",
      "source": [
        "### Save feature names for inference"
      ],
      "metadata": {
        "id": "BYSJioqy8Y5j"
      }
    },
    {
      "cell_type": "code",
      "source": [
        "with open(f'{BASE_PATH}/models/gradient_boosting_model/gradient_boost_features.json', 'w') as f:\n",
        "    json.dump(list(X.columns), f)"
      ],
      "metadata": {
        "id": "JtefTdGd8Z9n"
      },
      "execution_count": null,
      "outputs": []
    },
    {
      "cell_type": "markdown",
      "source": [
        "### Save model parameters and metadata"
      ],
      "metadata": {
        "id": "v7DbJNdX834x"
      }
    },
    {
      "cell_type": "code",
      "source": [
        "model_info = {\n",
        "    \"name\": \"gradient_boost_v1\",\n",
        "    \"type\": \"gradient_boost\",\n",
        "    \"version\": \"1.0\",\n",
        "    \"trained_at\": datetime.now().isoformat(),\n",
        "    \"accuracy\": float(accuracy),\n",
        "    \"precision\": float(precision),\n",
        "    \"recall\": float(recall),\n",
        "    \"f1_score\": float(f1),\n",
        "    \"auc\": float(roc_auc),\n",
        "    \"parameters\": {\n",
        "        \"n_estimators\": gb_model.n_estimators,\n",
        "        \"learning_rate\": gb_model.learning_rate,\n",
        "        \"max_depth\": gb_model.max_depth,\n",
        "        \"min_samples_split\": gb_model.min_samples_split,\n",
        "        \"min_samples_leaf\": gb_model.min_samples_leaf,\n",
        "        \"subsample\": gb_model.subsample\n",
        "    },\n",
        "    \"feature_importances\": feature_importances.to_dict(),\n",
        "    \"dataset_size\": df.shape[0],\n",
        "    \"training_samples\": X_train.shape[0],\n",
        "    \"test_samples\": X_test.shape[0],\n",
        "    \"features_implemented\": list(X.columns)\n",
        "}"
      ],
      "metadata": {
        "id": "MwYuwCjV87yL"
      },
      "execution_count": null,
      "outputs": []
    },
    {
      "cell_type": "code",
      "source": [
        "with open(METADATA_OUTPUT_PATH, 'w') as f:\n",
        "    json.dump(model_info, f, indent=2)"
      ],
      "metadata": {
        "id": "bP-vluhK8_Al"
      },
      "execution_count": null,
      "outputs": []
    },
    {
      "cell_type": "markdown",
      "source": [
        "### Save model parameters and metadata for the tuned model"
      ],
      "metadata": {
        "id": "t10envs-9IkY"
      }
    },
    {
      "cell_type": "code",
      "source": [
        "tuned_model_info = {\n",
        "    \"name\": \"gradient_boost_tuned_v1\",\n",
        "    \"type\": \"gradient_boost\",\n",
        "    \"version\": \"1.0\",\n",
        "    \"trained_at\": datetime.now().isoformat(),\n",
        "    \"accuracy\": float(final_accuracy),\n",
        "    \"precision\": float(final_precision),\n",
        "    \"recall\": float(final_recall),\n",
        "    \"f1_score\": float(final_f1),\n",
        "    \"parameters\": {\n",
        "        \"n_estimators\": final_model.n_estimators,\n",
        "        **grid_search.best_params_\n",
        "    },\n",
        "    \"dataset_size\": df.shape[0],\n",
        "    \"training_samples\": X_train.shape[0],\n",
        "    \"test_samples\": X_test.shape[0]\n",
        "}"
      ],
      "metadata": {
        "id": "kpM0Cb9q9OuL"
      },
      "execution_count": null,
      "outputs": []
    },
    {
      "cell_type": "code",
      "source": [
        "with open(TUNED_METADATA_OUTPUT_PATH, 'w') as f:\n",
        "    json.dump(tuned_model_info, f, indent=2)"
      ],
      "metadata": {
        "id": "juA61RqT9SzX"
      },
      "execution_count": null,
      "outputs": []
    },
    {
      "cell_type": "markdown",
      "source": [
        "### Save all logs to file"
      ],
      "metadata": {
        "id": "t5RxNcEDRfUq"
      }
    },
    {
      "cell_type": "code",
      "source": [
        "saving_time = time.time() - start_time\n",
        "log_event(\"TIMING\", f\"Model saving completed in {saving_time:.2f} seconds\")"
      ],
      "metadata": {
        "colab": {
          "base_uri": "https://localhost:8080/"
        },
        "id": "6w_9ZPp9Rf2K",
        "outputId": "e2b154da-4629-43a4-b2df-eacbaa73c0e2"
      },
      "execution_count": 73,
      "outputs": [
        {
          "output_type": "stream",
          "name": "stdout",
          "text": [
            "[2025-04-28T17:05:47.445973] TIMING: Model saving completed in 224.16 seconds\n"
          ]
        }
      ]
    },
    {
      "cell_type": "code",
      "source": [
        "def save_logs_with_append(log_data, log_file_path):\n",
        "    try:\n",
        "        with open(log_file_path, 'r') as f:\n",
        "            try:\n",
        "                existing_logs = json.load(f)\n",
        "                if not isinstance(existing_logs, list):\n",
        "                    existing_logs = []\n",
        "            except json.JSONDecodeError:\n",
        "                existing_logs = []\n",
        "    except FileNotFoundError:\n",
        "        existing_logs = []\n",
        "\n",
        "    combined_logs = existing_logs + log_data\n",
        "\n",
        "    with open(log_file_path, 'w') as f:\n",
        "        json.dump(combined_logs, f, indent=2)\n",
        "\n",
        "    print(f\"Appended {len(log_data)} new log entries to {log_file_path}\")\n",
        "    return combined_logs"
      ],
      "metadata": {
        "id": "t3cYCPUnMzBj"
      },
      "execution_count": 74,
      "outputs": []
    },
    {
      "cell_type": "code",
      "source": [
        "save_logs_with_append(log_data, LOG_OUTPUT_PATH)"
      ],
      "metadata": {
        "id": "APbQ1IfsRjwo",
        "colab": {
          "base_uri": "https://localhost:8080/"
        },
        "outputId": "92e54f2c-c28d-485c-e02e-5436a9306177"
      },
      "execution_count": 75,
      "outputs": [
        {
          "output_type": "stream",
          "name": "stdout",
          "text": [
            "Appended 20 new log entries to /content/drive/MyDrive/PUSL3190/logs/gradient_boost_training_log.json\n"
          ]
        }
      ]
    },
    {
      "cell_type": "code",
      "source": [
        "print(\"\\n===== TRAINING COMPLETE =====\")\n",
        "print(f\"Initial model accuracy: {accuracy:.4f}\")\n",
        "print(f\"Final tuned model accuracy: {final_accuracy:.4f}\")\n",
        "print(f\"Models saved to {MODEL_OUTPUT_PATH}\")\n",
        "print(f\"Logs saved to {LOG_OUTPUT_PATH}\")"
      ],
      "metadata": {
        "colab": {
          "base_uri": "https://localhost:8080/"
        },
        "id": "2Ss-pOMjRGot",
        "outputId": "69f5bc0b-b95a-4435-8ed1-cbc26759b0c6"
      },
      "execution_count": 79,
      "outputs": [
        {
          "output_type": "stream",
          "name": "stdout",
          "text": [
            "\n",
            "===== TRAINING COMPLETE =====\n",
            "Initial model accuracy: 0.9862\n",
            "Final tuned model accuracy: 0.9862\n",
            "Models saved to /content/drive/MyDrive/PUSL3190/models/gradient_boosting_model/gradient_boost_model.pkl\n",
            "Logs saved to /content/drive/MyDrive/PUSL3190/logs/gradient_boost_training_log.json\n"
          ]
        }
      ]
    }
  ]
}