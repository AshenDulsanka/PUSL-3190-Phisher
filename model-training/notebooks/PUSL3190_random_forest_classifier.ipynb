{
  "nbformat": 4,
  "nbformat_minor": 0,
  "metadata": {
    "colab": {
      "provenance": []
    },
    "kernelspec": {
      "name": "python3",
      "display_name": "Python 3"
    },
    "language_info": {
      "name": "python"
    }
  },
  "cells": [
    {
      "cell_type": "markdown",
      "source": [
        "# AI-Powered URL Phishing Detection System\n",
        "# Random Forest Classifier for Browser Extension"
      ],
      "metadata": {
        "id": "szyGzJTHjcyX"
      }
    },
    {
      "cell_type": "markdown",
      "source": [
        "## Steup and Imports"
      ],
      "metadata": {
        "id": "UAggeXFQh-px"
      }
    },
    {
      "cell_type": "code",
      "execution_count": null,
      "metadata": {
        "id": "MGHpiQABWg1G"
      },
      "outputs": [],
      "source": [
        "# Import necessary libraries\n",
        "import pandas as pd\n",
        "import numpy as np\n",
        "import matplotlib.pyplot as plt\n",
        "import seaborn as sns\n",
        "import pickle\n",
        "import time\n",
        "import json\n",
        "import os\n",
        "import re\n",
        "from datetime import datetime\n",
        "from sklearn.model_selection import train_test_split, GridSearchCV\n",
        "from sklearn.ensemble import RandomForestClassifier\n",
        "from sklearn.metrics import accuracy_score, precision_score, recall_score, f1_score, confusion_matrix, roc_curve, auc\n",
        "from sklearn.preprocessing import StandardScaler\n",
        "import joblib"
      ]
    },
    {
      "cell_type": "markdown",
      "source": [
        "### Mount Google Drive"
      ],
      "metadata": {
        "id": "yyXwvVk0iTbd"
      }
    },
    {
      "cell_type": "code",
      "source": [
        "from google.colab import drive\n",
        "drive.mount('/content/drive')"
      ],
      "metadata": {
        "colab": {
          "base_uri": "https://localhost:8080/"
        },
        "id": "qsBjOBztiVNf",
        "outputId": "ccc97908-f31b-4f2e-ec29-fed10c4110c2"
      },
      "execution_count": null,
      "outputs": [
        {
          "output_type": "stream",
          "name": "stdout",
          "text": [
            "Mounted at /content/drive\n"
          ]
        }
      ]
    },
    {
      "cell_type": "markdown",
      "source": [
        "## Configuration and Logging"
      ],
      "metadata": {
        "id": "UXYohMgpjKqC"
      }
    },
    {
      "cell_type": "markdown",
      "source": [
        "### Set up logging"
      ],
      "metadata": {
        "id": "5swE3x8Qjg7G"
      }
    },
    {
      "cell_type": "code",
      "source": [
        "log_data = []\n",
        "\n",
        "def log_event(event_type, message, metadata=None):\n",
        "    \"\"\"Log events for research documentation\"\"\"\n",
        "    log_entry = {\n",
        "        \"timestamp\": datetime.now().isoformat(),\n",
        "        \"event_type\": event_type,\n",
        "        \"message\": message,\n",
        "        \"metadata\": metadata or {}\n",
        "    }\n",
        "    log_data.append(log_entry)\n",
        "    print(f\"[{log_entry['timestamp']}] {event_type}: {message}\")"
      ],
      "metadata": {
        "id": "wMNWmUdPjRXi"
      },
      "execution_count": null,
      "outputs": []
    },
    {
      "cell_type": "markdown",
      "source": [
        "### Define paths"
      ],
      "metadata": {
        "id": "99VdkBtaj7uV"
      }
    },
    {
      "cell_type": "code",
      "source": [
        "BASE_PATH = '/content/drive/MyDrive/PUSL3190'\n",
        "RAW_DATA_PATH = f'{BASE_PATH}/data/raw/phishing_site_urls.csv'\n",
        "PROCESSED_DATA_PATH = f'{BASE_PATH}/data/processed/browser_extension_features.csv'\n",
        "MODEL_OUTPUT_PATH = f'{BASE_PATH}/models/random_forest_model/random_forest_model.pkl'\n",
        "LOG_OUTPUT_PATH = f'{BASE_PATH}/logs/random_forest_training_log.json'"
      ],
      "metadata": {
        "id": "1wwuE1oHj-pN"
      },
      "execution_count": null,
      "outputs": []
    },
    {
      "cell_type": "markdown",
      "source": [
        "### Create directories if they don't exist"
      ],
      "metadata": {
        "id": "_zUtgmfukyh7"
      }
    },
    {
      "cell_type": "code",
      "source": [
        "os.makedirs(f'{BASE_PATH}/data/processed', exist_ok=True)\n",
        "os.makedirs(f'{BASE_PATH}/models', exist_ok=True)\n",
        "os.makedirs(f'{BASE_PATH}/logs', exist_ok=True)"
      ],
      "metadata": {
        "id": "e87nf9Svk2LY"
      },
      "execution_count": null,
      "outputs": []
    },
    {
      "cell_type": "markdown",
      "source": [
        "## 1. Data Loading and Exploration"
      ],
      "metadata": {
        "id": "-8g6fm_llFAy"
      }
    },
    {
      "cell_type": "markdown",
      "source": [
        "### Load dataset"
      ],
      "metadata": {
        "id": "lj3WcL1PlJBJ"
      }
    },
    {
      "cell_type": "code",
      "source": [
        "log_event(\"DATA_LOADING\", \"Loading dataset\")\n",
        "start_time = time.time()\n",
        "\n",
        "try:\n",
        "    df = pd.read_csv(RAW_DATA_PATH)\n",
        "    if 'class' not in df.columns:\n",
        "      df = df.rename(columns={'Label': 'class'})\n",
        "    log_event(\"DATA_LOADED\", f\"Dataset loaded with shape {df.shape}\",\n",
        "              {\"rows\": df.shape[0], \"columns\": df.shape[1]})\n",
        "except Exception as e:\n",
        "    log_event(\"ERROR\", f\"Failed to load dataset: {str(e)}\")\n",
        "    raise\n",
        "\n",
        "loading_time = time.time() - start_time\n",
        "log_event(\"TIMING\", f\"Data loading completed in {loading_time:.2f} seconds\")"
      ],
      "metadata": {
        "colab": {
          "base_uri": "https://localhost:8080/"
        },
        "id": "ZADpIY_TlHhG",
        "outputId": "8940c522-d926-49cd-9a20-c68664ea0406"
      },
      "execution_count": null,
      "outputs": [
        {
          "output_type": "stream",
          "name": "stdout",
          "text": [
            "[2025-03-23T10:46:54.210766] DATA_LOADING: Loading dataset\n",
            "[2025-03-23T10:46:54.781550] DATA_LOADED: Dataset loaded with shape (313022, 2)\n",
            "[2025-03-23T10:46:54.781939] TIMING: Data loading completed in 0.57 seconds\n"
          ]
        }
      ]
    },
    {
      "cell_type": "markdown",
      "source": [
        "### Display basic information about the dataset"
      ],
      "metadata": {
        "id": "iHiZ9irTlZI_"
      }
    },
    {
      "cell_type": "code",
      "source": [
        "print(\"Dataset Information:\")\n",
        "print(f\"Total samples: {df.shape[0]}\")\n",
        "print(f\"Features: {df.shape[1]}\")\n",
        "print(\"\\nData Types:\")\n",
        "print(df.dtypes)\n",
        "print(\"\\nClass Distribution:\")\n",
        "print(df['class'].value_counts())\n",
        "print(\"\\nFirst 5 rows:\")\n",
        "print(df.head())"
      ],
      "metadata": {
        "colab": {
          "base_uri": "https://localhost:8080/"
        },
        "id": "FiLOrQFTlbqk",
        "outputId": "5fc7aa44-74b8-4913-c9a6-c9a65d8e5996"
      },
      "execution_count": null,
      "outputs": [
        {
          "output_type": "stream",
          "name": "stdout",
          "text": [
            "Dataset Information:\n",
            "Total samples: 313022\n",
            "Features: 2\n",
            "\n",
            "Data Types:\n",
            "URL      object\n",
            "class    object\n",
            "dtype: object\n",
            "\n",
            "Class Distribution:\n",
            "class\n",
            "good    156605\n",
            "bad     156417\n",
            "Name: count, dtype: int64\n",
            "\n",
            "First 5 rows:\n",
            "                                                 URL class\n",
            "0  nobell.it/70ffb52d079109dca5664cce6f317373782/...   bad\n",
            "1  www.dghjdgf.com/paypal.co.uk/cycgi-bin/webscrc...   bad\n",
            "2  serviciosbys.com/paypal.cgi.bin.get-into.herf....   bad\n",
            "3  mail.printakid.com/www.online.americanexpress....   bad\n",
            "4  thewhiskeydregs.com/wp-content/themes/widescre...   bad\n"
          ]
        }
      ]
    },
    {
      "cell_type": "markdown",
      "source": [
        "## 2. Feature Extraction for Browser Extension"
      ],
      "metadata": {
        "id": "jiKMtqPpnip3"
      }
    },
    {
      "cell_type": "markdown",
      "source": [
        "\n",
        "This section extracts lightweight features suitable for a browser-based phishing detection extension.\n",
        "We focus on URL characteristics that can be quickly computed in a browser environment.\n"
      ],
      "metadata": {
        "id": "-nhT4OZYnmHG"
      }
    },
    {
      "cell_type": "code",
      "source": [
        "log_event(\"FEATURE_EXTRACTION\", \"Extracting lightweight features for browser extension\")\n",
        "start_time = time.time()"
      ],
      "metadata": {
        "colab": {
          "base_uri": "https://localhost:8080/"
        },
        "id": "NJtJTOLink31",
        "outputId": "573597a7-9cf5-4aa1-effa-ccc43447600a"
      },
      "execution_count": null,
      "outputs": [
        {
          "output_type": "stream",
          "name": "stdout",
          "text": [
            "[2025-03-23T10:49:46.887281] FEATURE_EXTRACTION: Extracting lightweight features for browser extension\n"
          ]
        }
      ]
    },
    {
      "cell_type": "markdown",
      "source": [
        "Extract lightweight features suitable for browser extension:\n",
        "  - URL Length\n",
        "  - Number of dots in domain\n",
        "  - Number of special characters\n",
        "  - Presence of IP address\n",
        "  - Presence of @ symbol\n",
        "  - Number of subdomains\n",
        "  - Use of HTTPS\n",
        "  - Presence of hyphens in domain\n",
        "  - URL shortener detection\n",
        "    \n",
        "These features should be fast to compute in a browser extension\n"
      ],
      "metadata": {
        "id": "0K5lyw1Yn5QY"
      }
    },
    {
      "cell_type": "code",
      "source": [
        "def extract_lightweight_features(urls_df):\n",
        "    features_df = pd.DataFrame()\n",
        "\n",
        "    # URL Length\n",
        "    features_df['url_length'] = urls_df['URL'].apply(len)\n",
        "\n",
        "    # Number of dots in domain\n",
        "    features_df['num_dots'] = urls_df['URL'].apply(lambda x: x.count('.'))\n",
        "\n",
        "    # Number of special characters (!@#$%^&*()_+)\n",
        "    features_df['num_special_chars'] = urls_df['URL'].apply(\n",
        "        lambda x: sum(c in \"!@#$%^&*()_+-=[]{}|;:,<>?/\" for c in x))\n",
        "\n",
        "    # Presence of IP address (simple check for 4 numbers separated by dots)\n",
        "    features_df['has_ip'] = urls_df['URL'].apply(\n",
        "        lambda x: 1 if bool(re.search(r'\\d+\\.\\d+\\.\\d+\\.\\d+', x)) else 0)\n",
        "\n",
        "    # Presence of @ symbol\n",
        "    features_df['has_at_symbol'] = urls_df['URL'].apply(lambda x: '@' in x).astype(int)\n",
        "\n",
        "    # Number of subdomains\n",
        "    features_df['num_subdomains'] = urls_df['URL'].apply(\n",
        "        lambda x: len(re.findall(r'\\.', x.split('/')[2])) if len(x.split('/')) > 2 else 0)\n",
        "\n",
        "    # Use of HTTPS\n",
        "    features_df['has_https'] = urls_df['URL'].apply(lambda x: x.startswith('https')).astype(int)\n",
        "\n",
        "    # Presence of hyphens in domain\n",
        "    features_df['has_hyphen'] = urls_df['URL'].apply(\n",
        "        lambda x: '-' in x.split('/')[2] if len(x.split('/')) > 2 else 0).astype(int)\n",
        "\n",
        "    # URL shortener detection (common URL shorteners)\n",
        "    url_shorteners = ['bit.ly', 'tinyurl.com', 't.co', 'goo.gl', 'is.gd', 'cli.gs', 'ow.ly']\n",
        "    features_df['is_shortened'] = urls_df['URL'].apply(\n",
        "        lambda x: any(shortener in x for shortener in url_shorteners)).astype(int)\n",
        "\n",
        "    # Add the target class from original dataset\n",
        "    features_df['is_phishing'] = urls_df['class']\n",
        "\n",
        "    return features_df"
      ],
      "metadata": {
        "id": "pgcBiNM0n_BO"
      },
      "execution_count": null,
      "outputs": []
    },
    {
      "cell_type": "markdown",
      "source": [
        "### Extract features"
      ],
      "metadata": {
        "id": "5fnfk31AoZfE"
      }
    },
    {
      "cell_type": "code",
      "source": [
        "browser_features = extract_lightweight_features(df)"
      ],
      "metadata": {
        "id": "0aeBB7SwocLj"
      },
      "execution_count": null,
      "outputs": []
    },
    {
      "cell_type": "markdown",
      "source": [
        "### Display sample of extracted features"
      ],
      "metadata": {
        "id": "CPNDmRPwpvJn"
      }
    },
    {
      "cell_type": "code",
      "source": [
        "print(\"\\nExtracted Features (First 5 rows):\")\n",
        "print(browser_features.head())"
      ],
      "metadata": {
        "colab": {
          "base_uri": "https://localhost:8080/"
        },
        "id": "huzXKDBbpzf3",
        "outputId": "14b8353d-7a63-4c4b-a2ad-8410645bc4b4"
      },
      "execution_count": null,
      "outputs": [
        {
          "output_type": "stream",
          "name": "stdout",
          "text": [
            "\n",
            "Extracted Features (First 5 rows):\n",
            "   url_length  num_dots  num_special_chars  has_ip  has_at_symbol  \\\n",
            "0         225         6                 26       0              0   \n",
            "1          81         5                 10       0              0   \n",
            "2         177         7                 12       0              0   \n",
            "3          60         6                  2       0              0   \n",
            "4         116         1                 12       0              0   \n",
            "\n",
            "   num_subdomains  has_https  has_hyphen  is_shortened is_phishing  \n",
            "0               2          0           0             0         bad  \n",
            "1               0          0           1             0         bad  \n",
            "2               0          0           0             0         bad  \n",
            "3               1          0           0             0         bad  \n",
            "4               0          0           0             0         bad  \n"
          ]
        }
      ]
    },
    {
      "cell_type": "markdown",
      "source": [
        "### Save the processed features"
      ],
      "metadata": {
        "id": "GMnYEHVFqMMQ"
      }
    },
    {
      "cell_type": "code",
      "source": [
        "browser_features.to_csv(PROCESSED_DATA_PATH, index=False)\n",
        "\n",
        "feature_extraction_time = time.time() - start_time\n",
        "log_event(\"TIMING\", f\"Feature extraction completed in {feature_extraction_time:.2f} seconds\",\n",
        "          {\"num_features\": browser_features.shape[1] - 1})"
      ],
      "metadata": {
        "colab": {
          "base_uri": "https://localhost:8080/"
        },
        "id": "NjMFk13jqPBp",
        "outputId": "c149a911-e884-440c-d8e4-d09614bb80f3"
      },
      "execution_count": null,
      "outputs": [
        {
          "output_type": "stream",
          "name": "stdout",
          "text": [
            "[2025-03-23T11:03:01.878160] TIMING: Feature extraction completed in 794.99 seconds\n"
          ]
        }
      ]
    },
    {
      "cell_type": "markdown",
      "source": [
        "## 3. Model Training"
      ],
      "metadata": {
        "id": "-oKG7s9srJDn"
      }
    },
    {
      "cell_type": "markdown",
      "source": [
        "This section trains a Random Forest classifier on our extracted features.\n",
        "Random Forest is chosen for its good performance on classification tasks\n",
        "and ability to handle non-linear relationships."
      ],
      "metadata": {
        "id": "YHtyVyxTrNC6"
      }
    },
    {
      "cell_type": "code",
      "source": [
        "log_event(\"MODEL_TRAINING\", \"Starting model training with Random Forest\")\n",
        "start_time = time.time()"
      ],
      "metadata": {
        "colab": {
          "base_uri": "https://localhost:8080/"
        },
        "id": "fwmymxVrrPEK",
        "outputId": "999c1a2f-d3a4-4159-a1ab-4697e7da749a"
      },
      "execution_count": null,
      "outputs": [
        {
          "output_type": "stream",
          "name": "stdout",
          "text": [
            "[2025-03-23T11:05:08.318392] MODEL_TRAINING: Starting model training with Random Forest\n"
          ]
        }
      ]
    },
    {
      "cell_type": "markdown",
      "source": [
        "### Prepare features and target"
      ],
      "metadata": {
        "id": "sRJCykXgratq"
      }
    },
    {
      "cell_type": "code",
      "source": [
        "X = browser_features.drop('is_phishing', axis=1)\n",
        "y = browser_features['is_phishing']"
      ],
      "metadata": {
        "id": "1xUEqGd-rfTI"
      },
      "execution_count": null,
      "outputs": []
    },
    {
      "cell_type": "markdown",
      "source": [
        "### Split data (80-20 split)"
      ],
      "metadata": {
        "id": "FDgXIlV6rjWE"
      }
    },
    {
      "cell_type": "code",
      "source": [
        "X_train, X_test, y_train, y_test = train_test_split(X, y, test_size=0.2, random_state=42, stratify=y)"
      ],
      "metadata": {
        "id": "4yP-NEPCrojL"
      },
      "execution_count": null,
      "outputs": []
    },
    {
      "cell_type": "markdown",
      "source": [
        "### Log the data split information"
      ],
      "metadata": {
        "id": "c5xtZK63rs19"
      }
    },
    {
      "cell_type": "code",
      "source": [
        "log_event(\"DATA_SPLIT\", \"Data split into training and testing sets\",\n",
        "          {\"train_samples\": X_train.shape[0], \"test_samples\": X_test.shape[0]})"
      ],
      "metadata": {
        "colab": {
          "base_uri": "https://localhost:8080/"
        },
        "id": "TQ7QCZS6ru5y",
        "outputId": "527426a9-ca53-4d66-8bf0-8b1e13928134"
      },
      "execution_count": null,
      "outputs": [
        {
          "output_type": "stream",
          "name": "stdout",
          "text": [
            "[2025-03-23T11:06:49.456189] DATA_SPLIT: Data split into training and testing sets\n"
          ]
        }
      ]
    },
    {
      "cell_type": "markdown",
      "source": [
        "### Feature scaling"
      ],
      "metadata": {
        "id": "gRZGT0hPryeN"
      }
    },
    {
      "cell_type": "code",
      "source": [
        "scaler = StandardScaler()\n",
        "X_train_scaled = scaler.fit_transform(X_train)\n",
        "X_test_scaled = scaler.transform(X_test)"
      ],
      "metadata": {
        "id": "vffwNU4Or2sv"
      },
      "execution_count": null,
      "outputs": []
    },
    {
      "cell_type": "markdown",
      "source": [
        "### Train model"
      ],
      "metadata": {
        "id": "OkFxMOmar-9j"
      }
    },
    {
      "cell_type": "code",
      "source": [
        "rf_model = RandomForestClassifier(\n",
        "    n_estimators=100,\n",
        "    max_depth=20,\n",
        "    min_samples_split=10,\n",
        "    min_samples_leaf=4,\n",
        "    random_state=42,\n",
        "    n_jobs=-1\n",
        ")\n",
        "\n",
        "rf_model.fit(X_train_scaled, y_train)\n",
        "\n",
        "training_time = time.time() - start_time\n",
        "log_event(\"TIMING\", f\"Model training completed in {training_time:.2f} seconds\")"
      ],
      "metadata": {
        "colab": {
          "base_uri": "https://localhost:8080/"
        },
        "id": "fOLhoqL1sGhR",
        "outputId": "a6d5c366-beeb-4dad-9f77-5d07093ea844"
      },
      "execution_count": null,
      "outputs": [
        {
          "output_type": "stream",
          "name": "stdout",
          "text": [
            "[2025-03-23T11:09:16.333586] TIMING: Model training completed in 248.01 seconds\n"
          ]
        }
      ]
    },
    {
      "cell_type": "markdown",
      "source": [
        "## 4. Model Evaluation"
      ],
      "metadata": {
        "id": "qyHFifg-sWvW"
      }
    },
    {
      "cell_type": "markdown",
      "source": [
        "This section evaluates our trained model using standard classification metrics:\n",
        "- Accuracy: Overall correctness of predictions\n",
        "- Precision: Proportion of positive identifications that were actually correct\n",
        "- Recall: Proportion of actual positives that were identified correctly\n",
        "- F1 Score: Harmonic mean of precision and recall\n",
        "- AUC: Area under the ROC curve"
      ],
      "metadata": {
        "id": "qi4gjPAlsZKo"
      }
    },
    {
      "cell_type": "code",
      "source": [
        "log_event(\"MODEL_EVALUATION\", \"Evaluating Random Forest model\")\n",
        "start_time = time.time()"
      ],
      "metadata": {
        "colab": {
          "base_uri": "https://localhost:8080/"
        },
        "id": "GT5WRBpyscIi",
        "outputId": "ea8aec19-261f-40f8-ba54-b18e80a8f478"
      },
      "execution_count": null,
      "outputs": [
        {
          "output_type": "stream",
          "name": "stdout",
          "text": [
            "[2025-03-23T11:09:50.965856] MODEL_EVALUATION: Evaluating Random Forest model\n"
          ]
        }
      ]
    },
    {
      "cell_type": "markdown",
      "source": [
        "### Make predictions"
      ],
      "metadata": {
        "id": "XcLyA2Kesg7g"
      }
    },
    {
      "cell_type": "code",
      "source": [
        "y_pred = rf_model.predict(X_test_scaled)\n",
        "y_pred_proba = rf_model.predict_proba(X_test_scaled)[:, 1]"
      ],
      "metadata": {
        "id": "p5J2Xko6sjGm"
      },
      "execution_count": null,
      "outputs": []
    },
    {
      "cell_type": "markdown",
      "source": [
        "### Calculate metrics"
      ],
      "metadata": {
        "id": "sEIBZ-B7snJ5"
      }
    },
    {
      "cell_type": "code",
      "source": [
        "accuracy = accuracy_score(y_test, y_pred)\n",
        "precision = precision_score(y_test, y_pred, pos_label='good')\n",
        "recall = recall_score(y_test, y_pred, pos_label='good')\n",
        "f1 = f1_score(y_test, y_pred, pos_label='good')"
      ],
      "metadata": {
        "id": "sXx7HpuAspYR"
      },
      "execution_count": null,
      "outputs": []
    },
    {
      "cell_type": "markdown",
      "source": [
        "### ROC curve and AUC"
      ],
      "metadata": {
        "id": "cyKoLwJCtNC2"
      }
    },
    {
      "cell_type": "code",
      "source": [
        "fpr, tpr, _ = roc_curve(y_test, y_pred_proba, pos_label='good')\n",
        "roc_auc = auc(fpr, tpr)"
      ],
      "metadata": {
        "id": "E1JNWdydtPpG"
      },
      "execution_count": null,
      "outputs": []
    },
    {
      "cell_type": "markdown",
      "source": [
        "### Log the evaluation metrics"
      ],
      "metadata": {
        "id": "K6yhfNIav8QX"
      }
    },
    {
      "cell_type": "code",
      "source": [
        "log_event(\"EVALUATION_METRICS\", \"Model performance metrics\", {\n",
        "    \"accuracy\": accuracy,\n",
        "    \"precision\": precision,\n",
        "    \"recall\": recall,\n",
        "    \"f1_score\": f1,\n",
        "    \"auc\": roc_auc\n",
        "})"
      ],
      "metadata": {
        "colab": {
          "base_uri": "https://localhost:8080/"
        },
        "id": "v5Fz1eGgwAYI",
        "outputId": "0f4c70cf-d8c6-4b0d-ed58-7de3606a47ef"
      },
      "execution_count": null,
      "outputs": [
        {
          "output_type": "stream",
          "name": "stdout",
          "text": [
            "[2025-03-23T11:25:28.421986] EVALUATION_METRICS: Model performance metrics\n"
          ]
        }
      ]
    },
    {
      "cell_type": "markdown",
      "source": [
        "### Print model performance"
      ],
      "metadata": {
        "id": "pMHkcClwwDTr"
      }
    },
    {
      "cell_type": "code",
      "source": [
        "print(\"\\nModel Performance:\")\n",
        "print(f\"Accuracy: {accuracy:.4f}\")\n",
        "print(f\"Precision: {precision:.4f}\")\n",
        "print(f\"Recall: {recall:.4f}\")\n",
        "print(f\"F1 Score: {f1:.4f}\")\n",
        "print(f\"AUC: {roc_auc:.4f}\")"
      ],
      "metadata": {
        "colab": {
          "base_uri": "https://localhost:8080/"
        },
        "id": "yaLNMYFEwFcz",
        "outputId": "de58e588-c1d7-4af8-baa9-39551df3823c"
      },
      "execution_count": null,
      "outputs": [
        {
          "output_type": "stream",
          "name": "stdout",
          "text": [
            "\n",
            "Model Performance:\n",
            "Accuracy: 0.7315\n",
            "Precision: 0.7046\n",
            "Recall: 0.7977\n",
            "F1 Score: 0.7483\n",
            "AUC: 0.8203\n"
          ]
        }
      ]
    },
    {
      "cell_type": "markdown",
      "source": [
        "## 5. Visualization of Results"
      ],
      "metadata": {
        "id": "rXz4Lt9bwLiS"
      }
    },
    {
      "cell_type": "markdown",
      "source": [
        "This section visualizes key aspects of our model performance:\n",
        "- Confusion Matrix: Shows the true positive, false positive, true negative, and false negative counts\n",
        "- ROC Curve: Shows the trade-off between sensitivity and specificity\n",
        "- Feature Importance: Shows which features are most influential in the model's predictions"
      ],
      "metadata": {
        "id": "YAJoJ7ZxwSPl"
      }
    },
    {
      "cell_type": "markdown",
      "source": [
        "### Plot confusion matrix"
      ],
      "metadata": {
        "id": "GRTug0vIwVhL"
      }
    },
    {
      "cell_type": "code",
      "source": [
        "plt.figure(figsize=(8, 6))\n",
        "cm = confusion_matrix(y_test, y_pred)\n",
        "sns.heatmap(cm, annot=True, fmt='d', cmap='Blues')\n",
        "plt.title('Confusion Matrix')\n",
        "plt.ylabel('True Label')\n",
        "plt.xlabel('Predicted Label')\n",
        "plt.show()"
      ],
      "metadata": {
        "colab": {
          "base_uri": "https://localhost:8080/",
          "height": 564
        },
        "id": "CDsyVogZwRTO",
        "outputId": "a76d96c5-bf49-48b3-cd80-4acffb1db58a"
      },
      "execution_count": null,
      "outputs": [
        {
          "output_type": "display_data",
          "data": {
            "text/plain": [
              "<Figure size 800x600 with 2 Axes>"
            ],
            "image/png": "[encoded data removed]"
          },
          "metadata": {}
        }
      ]
    },
    {
      "cell_type": "markdown",
      "source": [
        "### Plot ROC curve"
      ],
      "metadata": {
        "id": "5V3u65zuwbHs"
      }
    },
    {
      "cell_type": "code",
      "source": [
        "plt.figure(figsize=(8, 6))\n",
        "plt.plot(fpr, tpr, color='blue', lw=2, label=f'ROC curve (area = {roc_auc:.2f})')\n",
        "plt.plot([0, 1], [0, 1], color='gray', lw=2, linestyle='--')\n",
        "plt.xlim([0.0, 1.0])\n",
        "plt.ylim([0.0, 1.05])\n",
        "plt.xlabel('False Positive Rate')\n",
        "plt.ylabel('True Positive Rate')\n",
        "plt.title('Receiver Operating Characteristic')\n",
        "plt.legend(loc=\"lower right\")\n",
        "plt.show()"
      ],
      "metadata": {
        "colab": {
          "base_uri": "https://localhost:8080/",
          "height": 564
        },
        "id": "q_b0jaiQwdZ2",
        "outputId": "82120d3c-cc30-4fe0-bf10-7549162066a0"
      },
      "execution_count": null,
      "outputs": [
        {
          "output_type": "display_data",
          "data": {
            "text/plain": [
              "<Figure size 800x600 with 1 Axes>"
            ],
            "image/png": "[encoded data removed]"
          },
          "metadata": {}
        }
      ]
    },
    {
      "cell_type": "markdown",
      "source": [
        "### Feature importance"
      ],
      "metadata": {
        "id": "jlQjHhifwjKr"
      }
    },
    {
      "cell_type": "code",
      "source": [
        "feature_importances = pd.DataFrame(\n",
        "    rf_model.feature_importances_,\n",
        "    index=X.columns,\n",
        "    columns=['importance']\n",
        ").sort_values('importance', ascending=False)\n",
        "\n",
        "plt.figure(figsize=(10, 6))\n",
        "sns.barplot(x=feature_importances.importance, y=feature_importances.index)\n",
        "plt.title('Feature Importances')\n",
        "plt.tight_layout()\n",
        "plt.show()\n",
        "\n",
        "evaluation_time = time.time() - start_time\n",
        "log_event(\"TIMING\", f\"Model evaluation completed in {evaluation_time:.2f} seconds\")"
      ],
      "metadata": {
        "colab": {
          "base_uri": "https://localhost:8080/",
          "height": 624
        },
        "id": "UxpeCJqhwooH",
        "outputId": "b2dac05c-1e17-4601-c945-f69ca77568e8"
      },
      "execution_count": null,
      "outputs": [
        {
          "output_type": "display_data",
          "data": {
            "text/plain": [
              "<Figure size 1000x600 with 1 Axes>"
            ],
            "image/png": "[encoded data removed]"
          },
          "metadata": {}
        },
        {
          "output_type": "stream",
          "name": "stdout",
          "text": [
            "[2025-03-23T11:28:10.551966] TIMING: Model evaluation completed in 1099.59 seconds\n"
          ]
        }
      ]
    },
    {
      "cell_type": "markdown",
      "source": [
        "## 6. Model Saving"
      ],
      "metadata": {
        "id": "_qxNwfYBwvD9"
      }
    },
    {
      "cell_type": "markdown",
      "source": [
        "This section saves the trained model and other artifacts:\n",
        "- Full model for server-side use\n",
        "- Model metadata for tracking\n",
        "- Preprocessing scaler for future use"
      ],
      "metadata": {
        "id": "-BxrPbFKwxS9"
      }
    },
    {
      "cell_type": "code",
      "source": [
        "log_event(\"MODEL_SAVING\", \"Saving model and artifacts\")\n",
        "start_time = time.time()"
      ],
      "metadata": {
        "colab": {
          "base_uri": "https://localhost:8080/"
        },
        "id": "9R9g_BYuwzSI",
        "outputId": "438834e1-2b72-4ab4-e88a-e0351b8bc556"
      },
      "execution_count": null,
      "outputs": [
        {
          "output_type": "stream",
          "name": "stdout",
          "text": [
            "[2025-03-23T11:28:55.818588] MODEL_SAVING: Saving model and artifacts\n"
          ]
        }
      ]
    },
    {
      "cell_type": "markdown",
      "source": [
        "### Save the model"
      ],
      "metadata": {
        "id": "4nDv3zLvw4Bp"
      }
    },
    {
      "cell_type": "code",
      "source": [
        "joblib.dump(rf_model, MODEL_OUTPUT_PATH)"
      ],
      "metadata": {
        "colab": {
          "base_uri": "https://localhost:8080/"
        },
        "id": "WdmkAmMZw6Ib",
        "outputId": "c3ef724a-65bb-478b-e86e-0bad9e3d07a3"
      },
      "execution_count": null,
      "outputs": [
        {
          "output_type": "execute_result",
          "data": {
            "text/plain": [
              "['/content/drive/MyDrive/PUSL3190/models/random_forest_model.pkl']"
            ]
          },
          "metadata": {},
          "execution_count": 40
        }
      ]
    },
    {
      "cell_type": "markdown",
      "source": [
        "### Save the scaler for future preprocessing"
      ],
      "metadata": {
        "id": "scTF_16MxUn9"
      }
    },
    {
      "cell_type": "code",
      "source": [
        "joblib.dump(scaler, f'{MODEL_OUTPUT_PATH}/random_forest_scaler.pkl')"
      ],
      "metadata": {
        "colab": {
          "base_uri": "https://localhost:8080/"
        },
        "id": "zzQ3pJYPxcvy",
        "outputId": "41c76f80-c391-4087-c665-1341a06f0452"
      },
      "execution_count": null,
      "outputs": [
        {
          "output_type": "execute_result",
          "data": {
            "text/plain": [
              "['/content/drive/MyDrive/PUSL3190/models/random_forest_scaler.pkl']"
            ]
          },
          "metadata": {},
          "execution_count": 41
        }
      ]
    },
    {
      "cell_type": "markdown",
      "source": [
        "### Save model parameters and metadata"
      ],
      "metadata": {
        "id": "hTV6NeQOxfeO"
      }
    },
    {
      "cell_type": "code",
      "source": [
        "model_info = {\n",
        "    \"name\": \"random_forest_v1\",\n",
        "    \"type\": \"random_forest\",\n",
        "    \"version\": \"1.0\",\n",
        "    \"trained_at\": datetime.now().isoformat(),\n",
        "    \"accuracy\": float(accuracy),\n",
        "    \"precision\": float(precision),\n",
        "    \"recall\": float(recall),\n",
        "    \"f1_score\": float(f1),\n",
        "    \"auc\": float(roc_auc),\n",
        "    \"parameters\": {\n",
        "        \"n_estimators\": rf_model.n_estimators,\n",
        "        \"max_depth\": rf_model.max_depth,\n",
        "        \"min_samples_split\": rf_model.min_samples_split,\n",
        "        \"min_samples_leaf\": rf_model.min_samples_leaf\n",
        "    },\n",
        "    \"feature_importances\": feature_importances.to_dict(),\n",
        "    \"dataset_size\": df.shape[0],\n",
        "    \"training_samples\": X_train.shape[0],\n",
        "    \"test_samples\": X_test.shape[0]\n",
        "}\n",
        "\n",
        "with open(f'{MODEL_OUTPUT_PATH}/random_forest_metadata.json', 'w') as f:\n",
        "    json.dump(model_info, f, indent=2)"
      ],
      "metadata": {
        "id": "yZaoYhNNxjND"
      },
      "execution_count": null,
      "outputs": []
    },
    {
      "cell_type": "markdown",
      "source": [
        "## 7. Lightweight Model for Browser Extension"
      ],
      "metadata": {
        "id": "f_IcdspIxt8y"
      }
    },
    {
      "cell_type": "markdown",
      "source": [
        "This section creates a smaller, more efficient model version\n",
        "optimized for use in a browser extension where resources are limited.\n",
        "We use only the top features and a simpler model configuration."
      ],
      "metadata": {
        "id": "ke4McjSDxwe1"
      }
    },
    {
      "cell_type": "code",
      "source": [
        "log_event(\"MODEL_EXPORT\", \"Exporting lightweight model for browser extension\")"
      ],
      "metadata": {
        "colab": {
          "base_uri": "https://localhost:8080/"
        },
        "id": "P9KuYlngxzAG",
        "outputId": "e8c6a9e5-5ff3-403e-b93f-7b2c2909d9c1"
      },
      "execution_count": null,
      "outputs": [
        {
          "output_type": "stream",
          "name": "stdout",
          "text": [
            "[2025-03-23T11:33:15.947449] MODEL_EXPORT: Exporting lightweight model for browser extension\n"
          ]
        }
      ]
    },
    {
      "cell_type": "markdown",
      "source": [
        "### Get the most important features (top 5)"
      ],
      "metadata": {
        "id": "OqS0tw5nx1wt"
      }
    },
    {
      "cell_type": "code",
      "source": [
        "top_features = feature_importances.head(5).index.tolist()\n",
        "print(f\"\\nTop 5 features selected for lightweight model: {top_features}\")"
      ],
      "metadata": {
        "colab": {
          "base_uri": "https://localhost:8080/"
        },
        "id": "t4wjmpqwx37V",
        "outputId": "57c16f0e-6558-4608-93d2-7464d38f0cc6"
      },
      "execution_count": null,
      "outputs": [
        {
          "output_type": "stream",
          "name": "stdout",
          "text": [
            "\n",
            "Top 5 features selected for lightweight model: ['url_length', 'num_dots', 'num_special_chars', 'has_ip', 'num_subdomains']\n"
          ]
        }
      ]
    },
    {
      "cell_type": "markdown",
      "source": [
        "### Train a smaller model with just the top features"
      ],
      "metadata": {
        "id": "mERIFFl5x_Xr"
      }
    },
    {
      "cell_type": "code",
      "source": [
        "small_rf = RandomForestClassifier(\n",
        "    n_estimators=20,  # trees count lowered for faster prediction\n",
        "    max_depth=10,\n",
        "    min_samples_split=10,\n",
        "    random_state=42\n",
        ")"
      ],
      "metadata": {
        "id": "pFRhCCIDyAjI"
      },
      "execution_count": null,
      "outputs": []
    },
    {
      "cell_type": "markdown",
      "source": [
        "### Use only the top features"
      ],
      "metadata": {
        "id": "7PURzbuUyUL6"
      }
    },
    {
      "cell_type": "code",
      "source": [
        "X_train_small = X_train[top_features]\n",
        "X_test_small = X_test[top_features]"
      ],
      "metadata": {
        "id": "Q8JBcQMyyWhJ"
      },
      "execution_count": null,
      "outputs": []
    },
    {
      "cell_type": "markdown",
      "source": [
        "### Train the small model"
      ],
      "metadata": {
        "id": "xCYCqAEHyY4c"
      }
    },
    {
      "cell_type": "code",
      "source": [
        "small_rf.fit(X_train_small, y_train)"
      ],
      "metadata": {
        "colab": {
          "base_uri": "https://localhost:8080/",
          "height": 98
        },
        "id": "R8PXZEKcya2A",
        "outputId": "2529b892-b9ac-44ea-fd2d-66b49028c086"
      },
      "execution_count": null,
      "outputs": [
        {
          "output_type": "execute_result",
          "data": {
            "text/plain": [
              "RandomForestClassifier(max_depth=10, min_samples_split=10, n_estimators=20,\n",
              "                       random_state=42)"
            ],
            "text/html": [
              "<style>#sk-container-id-1 {\n",
              "  /* Definition of color scheme common for light and dark mode */\n",
              "  --sklearn-color-text: #000;\n",
              "  --sklearn-color-text-muted: #666;\n",
              "  --sklearn-color-line: gray;\n",
              "  /* Definition of color scheme for unfitted estimators */\n",
              "  --sklearn-color-unfitted-level-0: #fff5e6;\n",
              "  --sklearn-color-unfitted-level-1: #f6e4d2;\n",
              "  --sklearn-color-unfitted-level-2: #ffe0b3;\n",
              "  --sklearn-color-unfitted-level-3: chocolate;\n",
              "  /* Definition of color scheme for fitted estimators */\n",
              "  --sklearn-color-fitted-level-0: #f0f8ff;\n",
              "  --sklearn-color-fitted-level-1: #d4ebff;\n",
              "  --sklearn-color-fitted-level-2: #b3dbfd;\n",
              "  --sklearn-color-fitted-level-3: cornflowerblue;\n",
              "\n",
              "  /* Specific color for light theme */\n",
              "  --sklearn-color-text-on-default-background: var(--sg-text-color, var(--theme-code-foreground, var(--jp-content-font-color1, black)));\n",
              "  --sklearn-color-background: var(--sg-background-color, var(--theme-background, var(--jp-layout-color0, white)));\n",
              "  --sklearn-color-border-box: var(--sg-text-color, var(--theme-code-foreground, var(--jp-content-font-color1, black)));\n",
              "  --sklearn-color-icon: #696969;\n",
              "\n",
              "  @media (prefers-color-scheme: dark) {\n",
              "    /* Redefinition of color scheme for dark theme */\n",
              "    --sklearn-color-text-on-default-background: var(--sg-text-color, var(--theme-code-foreground, var(--jp-content-font-color1, white)));\n",
              "    --sklearn-color-background: var(--sg-background-color, var(--theme-background, var(--jp-layout-color0, #111)));\n",
              "    --sklearn-color-border-box: var(--sg-text-color, var(--theme-code-foreground, var(--jp-content-font-color1, white)));\n",
              "    --sklearn-color-icon: #878787;\n",
              "  }\n",
              "}\n",
              "\n",
              "#sk-container-id-1 {\n",
              "  color: var(--sklearn-color-text);\n",
              "}\n",
              "\n",
              "#sk-container-id-1 pre {\n",
              "  padding: 0;\n",
              "}\n",
              "\n",
              "#sk-container-id-1 input.sk-hidden--visually {\n",
              "  border: 0;\n",
              "  clip: rect(1px 1px 1px 1px);\n",
              "  clip: rect(1px, 1px, 1px, 1px);\n",
              "  height: 1px;\n",
              "  margin: -1px;\n",
              "  overflow: hidden;\n",
              "  padding: 0;\n",
              "  position: absolute;\n",
              "  width: 1px;\n",
              "}\n",
              "\n",
              "#sk-container-id-1 div.sk-dashed-wrapped {\n",
              "  border: 1px dashed var(--sklearn-color-line);\n",
              "  margin: 0 0.4em 0.5em 0.4em;\n",
              "  box-sizing: border-box;\n",
              "  padding-bottom: 0.4em;\n",
              "  background-color: var(--sklearn-color-background);\n",
              "}\n",
              "\n",
              "#sk-container-id-1 div.sk-container {\n",
              "  /* jupyter's `normalize.less` sets `[hidden] { display: none; }`\n",
              "     but bootstrap.min.css set `[hidden] { display: none !important; }`\n",
              "     so we also need the `!important` here to be able to override the\n",
              "     default hidden behavior on the sphinx rendered scikit-learn.org.\n",
              "     See: https://github.com/scikit-learn/scikit-learn/issues/21755 */\n",
              "  display: inline-block !important;\n",
              "  position: relative;\n",
              "}\n",
              "\n",
              "#sk-container-id-1 div.sk-text-repr-fallback {\n",
              "  display: none;\n",
              "}\n",
              "\n",
              "div.sk-parallel-item,\n",
              "div.sk-serial,\n",
              "div.sk-item {\n",
              "  /* draw centered vertical line to link estimators */\n",
              "  background-image: linear-gradient(var(--sklearn-color-text-on-default-background), var(--sklearn-color-text-on-default-background));\n",
              "  background-size: 2px 100%;\n",
              "  background-repeat: no-repeat;\n",
              "  background-position: center center;\n",
              "}\n",
              "\n",
              "/* Parallel-specific style estimator block */\n",
              "\n",
              "#sk-container-id-1 div.sk-parallel-item::after {\n",
              "  content: \"\";\n",
              "  width: 100%;\n",
              "  border-bottom: 2px solid var(--sklearn-color-text-on-default-background);\n",
              "  flex-grow: 1;\n",
              "}\n",
              "\n",
              "#sk-container-id-1 div.sk-parallel {\n",
              "  display: flex;\n",
              "  align-items: stretch;\n",
              "  justify-content: center;\n",
              "  background-color: var(--sklearn-color-background);\n",
              "  position: relative;\n",
              "}\n",
              "\n",
              "#sk-container-id-1 div.sk-parallel-item {\n",
              "  display: flex;\n",
              "  flex-direction: column;\n",
              "}\n",
              "\n",
              "#sk-container-id-1 div.sk-parallel-item:first-child::after {\n",
              "  align-self: flex-end;\n",
              "  width: 50%;\n",
              "}\n",
              "\n",
              "#sk-container-id-1 div.sk-parallel-item:last-child::after {\n",
              "  align-self: flex-start;\n",
              "  width: 50%;\n",
              "}\n",
              "\n",
              "#sk-container-id-1 div.sk-parallel-item:only-child::after {\n",
              "  width: 0;\n",
              "}\n",
              "\n",
              "/* Serial-specific style estimator block */\n",
              "\n",
              "#sk-container-id-1 div.sk-serial {\n",
              "  display: flex;\n",
              "  flex-direction: column;\n",
              "  align-items: center;\n",
              "  background-color: var(--sklearn-color-background);\n",
              "  padding-right: 1em;\n",
              "  padding-left: 1em;\n",
              "}\n",
              "\n",
              "\n",
              "/* Toggleable style: style used for estimator/Pipeline/ColumnTransformer box that is\n",
              "clickable and can be expanded/collapsed.\n",
              "- Pipeline and ColumnTransformer use this feature and define the default style\n",
              "- Estimators will overwrite some part of the style using the `sk-estimator` class\n",
              "*/\n",
              "\n",
              "/* Pipeline and ColumnTransformer style (default) */\n",
              "\n",
              "#sk-container-id-1 div.sk-toggleable {\n",
              "  /* Default theme specific background. It is overwritten whether we have a\n",
              "  specific estimator or a Pipeline/ColumnTransformer */\n",
              "  background-color: var(--sklearn-color-background);\n",
              "}\n",
              "\n",
              "/* Toggleable label */\n",
              "#sk-container-id-1 label.sk-toggleable__label {\n",
              "  cursor: pointer;\n",
              "  display: flex;\n",
              "  width: 100%;\n",
              "  margin-bottom: 0;\n",
              "  padding: 0.5em;\n",
              "  box-sizing: border-box;\n",
              "  text-align: center;\n",
              "  align-items: start;\n",
              "  justify-content: space-between;\n",
              "  gap: 0.5em;\n",
              "}\n",
              "\n",
              "#sk-container-id-1 label.sk-toggleable__label .caption {\n",
              "  font-size: 0.6rem;\n",
              "  font-weight: lighter;\n",
              "  color: var(--sklearn-color-text-muted);\n",
              "}\n",
              "\n",
              "#sk-container-id-1 label.sk-toggleable__label-arrow:before {\n",
              "  /* Arrow on the left of the label */\n",
              "  content: \"▸\";\n",
              "  float: left;\n",
              "  margin-right: 0.25em;\n",
              "  color: var(--sklearn-color-icon);\n",
              "}\n",
              "\n",
              "#sk-container-id-1 label.sk-toggleable__label-arrow:hover:before {\n",
              "  color: var(--sklearn-color-text);\n",
              "}\n",
              "\n",
              "/* Toggleable content - dropdown */\n",
              "\n",
              "#sk-container-id-1 div.sk-toggleable__content {\n",
              "  max-height: 0;\n",
              "  max-width: 0;\n",
              "  overflow: hidden;\n",
              "  text-align: left;\n",
              "  /* unfitted */\n",
              "  background-color: var(--sklearn-color-unfitted-level-0);\n",
              "}\n",
              "\n",
              "#sk-container-id-1 div.sk-toggleable__content.fitted {\n",
              "  /* fitted */\n",
              "  background-color: var(--sklearn-color-fitted-level-0);\n",
              "}\n",
              "\n",
              "#sk-container-id-1 div.sk-toggleable__content pre {\n",
              "  margin: 0.2em;\n",
              "  border-radius: 0.25em;\n",
              "  color: var(--sklearn-color-text);\n",
              "  /* unfitted */\n",
              "  background-color: var(--sklearn-color-unfitted-level-0);\n",
              "}\n",
              "\n",
              "#sk-container-id-1 div.sk-toggleable__content.fitted pre {\n",
              "  /* unfitted */\n",
              "  background-color: var(--sklearn-color-fitted-level-0);\n",
              "}\n",
              "\n",
              "#sk-container-id-1 input.sk-toggleable__control:checked~div.sk-toggleable__content {\n",
              "  /* Expand drop-down */\n",
              "  max-height: 200px;\n",
              "  max-width: 100%;\n",
              "  overflow: auto;\n",
              "}\n",
              "\n",
              "#sk-container-id-1 input.sk-toggleable__control:checked~label.sk-toggleable__label-arrow:before {\n",
              "  content: \"▾\";\n",
              "}\n",
              "\n",
              "/* Pipeline/ColumnTransformer-specific style */\n",
              "\n",
              "#sk-container-id-1 div.sk-label input.sk-toggleable__control:checked~label.sk-toggleable__label {\n",
              "  color: var(--sklearn-color-text);\n",
              "  background-color: var(--sklearn-color-unfitted-level-2);\n",
              "}\n",
              "\n",
              "#sk-container-id-1 div.sk-label.fitted input.sk-toggleable__control:checked~label.sk-toggleable__label {\n",
              "  background-color: var(--sklearn-color-fitted-level-2);\n",
              "}\n",
              "\n",
              "/* Estimator-specific style */\n",
              "\n",
              "/* Colorize estimator box */\n",
              "#sk-container-id-1 div.sk-estimator input.sk-toggleable__control:checked~label.sk-toggleable__label {\n",
              "  /* unfitted */\n",
              "  background-color: var(--sklearn-color-unfitted-level-2);\n",
              "}\n",
              "\n",
              "#sk-container-id-1 div.sk-estimator.fitted input.sk-toggleable__control:checked~label.sk-toggleable__label {\n",
              "  /* fitted */\n",
              "  background-color: var(--sklearn-color-fitted-level-2);\n",
              "}\n",
              "\n",
              "#sk-container-id-1 div.sk-label label.sk-toggleable__label,\n",
              "#sk-container-id-1 div.sk-label label {\n",
              "  /* The background is the default theme color */\n",
              "  color: var(--sklearn-color-text-on-default-background);\n",
              "}\n",
              "\n",
              "/* On hover, darken the color of the background */\n",
              "#sk-container-id-1 div.sk-label:hover label.sk-toggleable__label {\n",
              "  color: var(--sklearn-color-text);\n",
              "  background-color: var(--sklearn-color-unfitted-level-2);\n",
              "}\n",
              "\n",
              "/* Label box, darken color on hover, fitted */\n",
              "#sk-container-id-1 div.sk-label.fitted:hover label.sk-toggleable__label.fitted {\n",
              "  color: var(--sklearn-color-text);\n",
              "  background-color: var(--sklearn-color-fitted-level-2);\n",
              "}\n",
              "\n",
              "/* Estimator label */\n",
              "\n",
              "#sk-container-id-1 div.sk-label label {\n",
              "  font-family: monospace;\n",
              "  font-weight: bold;\n",
              "  display: inline-block;\n",
              "  line-height: 1.2em;\n",
              "}\n",
              "\n",
              "#sk-container-id-1 div.sk-label-container {\n",
              "  text-align: center;\n",
              "}\n",
              "\n",
              "/* Estimator-specific */\n",
              "#sk-container-id-1 div.sk-estimator {\n",
              "  font-family: monospace;\n",
              "  border: 1px dotted var(--sklearn-color-border-box);\n",
              "  border-radius: 0.25em;\n",
              "  box-sizing: border-box;\n",
              "  margin-bottom: 0.5em;\n",
              "  /* unfitted */\n",
              "  background-color: var(--sklearn-color-unfitted-level-0);\n",
              "}\n",
              "\n",
              "#sk-container-id-1 div.sk-estimator.fitted {\n",
              "  /* fitted */\n",
              "  background-color: var(--sklearn-color-fitted-level-0);\n",
              "}\n",
              "\n",
              "/* on hover */\n",
              "#sk-container-id-1 div.sk-estimator:hover {\n",
              "  /* unfitted */\n",
              "  background-color: var(--sklearn-color-unfitted-level-2);\n",
              "}\n",
              "\n",
              "#sk-container-id-1 div.sk-estimator.fitted:hover {\n",
              "  /* fitted */\n",
              "  background-color: var(--sklearn-color-fitted-level-2);\n",
              "}\n",
              "\n",
              "/* Specification for estimator info (e.g. \"i\" and \"?\") */\n",
              "\n",
              "/* Common style for \"i\" and \"?\" */\n",
              "\n",
              ".sk-estimator-doc-link,\n",
              "a:link.sk-estimator-doc-link,\n",
              "a:visited.sk-estimator-doc-link {\n",
              "  float: right;\n",
              "  font-size: smaller;\n",
              "  line-height: 1em;\n",
              "  font-family: monospace;\n",
              "  background-color: var(--sklearn-color-background);\n",
              "  border-radius: 1em;\n",
              "  height: 1em;\n",
              "  width: 1em;\n",
              "  text-decoration: none !important;\n",
              "  margin-left: 0.5em;\n",
              "  text-align: center;\n",
              "  /* unfitted */\n",
              "  border: var(--sklearn-color-unfitted-level-1) 1pt solid;\n",
              "  color: var(--sklearn-color-unfitted-level-1);\n",
              "}\n",
              "\n",
              ".sk-estimator-doc-link.fitted,\n",
              "a:link.sk-estimator-doc-link.fitted,\n",
              "a:visited.sk-estimator-doc-link.fitted {\n",
              "  /* fitted */\n",
              "  border: var(--sklearn-color-fitted-level-1) 1pt solid;\n",
              "  color: var(--sklearn-color-fitted-level-1);\n",
              "}\n",
              "\n",
              "/* On hover */\n",
              "div.sk-estimator:hover .sk-estimator-doc-link:hover,\n",
              ".sk-estimator-doc-link:hover,\n",
              "div.sk-label-container:hover .sk-estimator-doc-link:hover,\n",
              ".sk-estimator-doc-link:hover {\n",
              "  /* unfitted */\n",
              "  background-color: var(--sklearn-color-unfitted-level-3);\n",
              "  color: var(--sklearn-color-background);\n",
              "  text-decoration: none;\n",
              "}\n",
              "\n",
              "div.sk-estimator.fitted:hover .sk-estimator-doc-link.fitted:hover,\n",
              ".sk-estimator-doc-link.fitted:hover,\n",
              "div.sk-label-container:hover .sk-estimator-doc-link.fitted:hover,\n",
              ".sk-estimator-doc-link.fitted:hover {\n",
              "  /* fitted */\n",
              "  background-color: var(--sklearn-color-fitted-level-3);\n",
              "  color: var(--sklearn-color-background);\n",
              "  text-decoration: none;\n",
              "}\n",
              "\n",
              "/* Span, style for the box shown on hovering the info icon */\n",
              ".sk-estimator-doc-link span {\n",
              "  display: none;\n",
              "  z-index: 9999;\n",
              "  position: relative;\n",
              "  font-weight: normal;\n",
              "  right: .2ex;\n",
              "  padding: .5ex;\n",
              "  margin: .5ex;\n",
              "  width: min-content;\n",
              "  min-width: 20ex;\n",
              "  max-width: 50ex;\n",
              "  color: var(--sklearn-color-text);\n",
              "  box-shadow: 2pt 2pt 4pt #999;\n",
              "  /* unfitted */\n",
              "  background: var(--sklearn-color-unfitted-level-0);\n",
              "  border: .5pt solid var(--sklearn-color-unfitted-level-3);\n",
              "}\n",
              "\n",
              ".sk-estimator-doc-link.fitted span {\n",
              "  /* fitted */\n",
              "  background: var(--sklearn-color-fitted-level-0);\n",
              "  border: var(--sklearn-color-fitted-level-3);\n",
              "}\n",
              "\n",
              ".sk-estimator-doc-link:hover span {\n",
              "  display: block;\n",
              "}\n",
              "\n",
              "/* \"?\"-specific style due to the `<a>` HTML tag */\n",
              "\n",
              "#sk-container-id-1 a.estimator_doc_link {\n",
              "  float: right;\n",
              "  font-size: 1rem;\n",
              "  line-height: 1em;\n",
              "  font-family: monospace;\n",
              "  background-color: var(--sklearn-color-background);\n",
              "  border-radius: 1rem;\n",
              "  height: 1rem;\n",
              "  width: 1rem;\n",
              "  text-decoration: none;\n",
              "  /* unfitted */\n",
              "  color: var(--sklearn-color-unfitted-level-1);\n",
              "  border: var(--sklearn-color-unfitted-level-1) 1pt solid;\n",
              "}\n",
              "\n",
              "#sk-container-id-1 a.estimator_doc_link.fitted {\n",
              "  /* fitted */\n",
              "  border: var(--sklearn-color-fitted-level-1) 1pt solid;\n",
              "  color: var(--sklearn-color-fitted-level-1);\n",
              "}\n",
              "\n",
              "/* On hover */\n",
              "#sk-container-id-1 a.estimator_doc_link:hover {\n",
              "  /* unfitted */\n",
              "  background-color: var(--sklearn-color-unfitted-level-3);\n",
              "  color: var(--sklearn-color-background);\n",
              "  text-decoration: none;\n",
              "}\n",
              "\n",
              "#sk-container-id-1 a.estimator_doc_link.fitted:hover {\n",
              "  /* fitted */\n",
              "  background-color: var(--sklearn-color-fitted-level-3);\n",
              "}\n",
              "</style><div id=\"sk-container-id-1\" class=\"sk-top-container\"><div class=\"sk-text-repr-fallback\"><pre>RandomForestClassifier(max_depth=10, min_samples_split=10, n_estimators=20,\n",
              "                       random_state=42)</pre><b>In a Jupyter environment, please rerun this cell to show the HTML representation or trust the notebook. <br />On GitHub, the HTML representation is unable to render, please try loading this page with nbviewer.org.</b></div><div class=\"sk-container\" hidden><div class=\"sk-item\"><div class=\"sk-estimator fitted sk-toggleable\"><input class=\"sk-toggleable__control sk-hidden--visually\" id=\"sk-estimator-id-1\" type=\"checkbox\" checked><label for=\"sk-estimator-id-1\" class=\"sk-toggleable__label fitted sk-toggleable__label-arrow\"><div><div>RandomForestClassifier</div></div><div><a class=\"sk-estimator-doc-link fitted\" rel=\"noreferrer\" target=\"_blank\" href=\"https://scikit-learn.org/1.6/modules/generated/sklearn.ensemble.RandomForestClassifier.html\">?<span>Documentation for RandomForestClassifier</span></a><span class=\"sk-estimator-doc-link fitted\">i<span>Fitted</span></span></div></label><div class=\"sk-toggleable__content fitted\"><pre>RandomForestClassifier(max_depth=10, min_samples_split=10, n_estimators=20,\n",
              "                       random_state=42)</pre></div> </div></div></div></div>"
            ]
          },
          "metadata": {},
          "execution_count": 49
        }
      ]
    },
    {
      "cell_type": "markdown",
      "source": [
        "### Evaluate the small model"
      ],
      "metadata": {
        "id": "zPlhtapAyhVk"
      }
    },
    {
      "cell_type": "code",
      "source": [
        "small_pred = small_rf.predict(X_test_small)\n",
        "small_accuracy = accuracy_score(y_test, small_pred)\n",
        "small_precision = precision_score(y_test, small_pred, pos_label='good')\n",
        "small_recall = recall_score(y_test, small_pred, pos_label='good')\n",
        "small_f1 = f1_score(y_test, small_pred, pos_label='good')\n",
        "\n",
        "log_event(\"SMALL_MODEL_EVALUATION\", \"Lightweight model performance\",\n",
        "          {\n",
        "              \"accuracy\": small_accuracy,\n",
        "              \"precision\": small_precision,\n",
        "              \"recall\": small_recall,\n",
        "              \"f1_score\": small_f1,\n",
        "              \"features_used\": top_features\n",
        "          })"
      ],
      "metadata": {
        "colab": {
          "base_uri": "https://localhost:8080/"
        },
        "id": "eYe3MWhUykxN",
        "outputId": "ab65787a-7b43-47f2-c928-c933224c1a67"
      },
      "execution_count": null,
      "outputs": [
        {
          "output_type": "stream",
          "name": "stdout",
          "text": [
            "[2025-03-23T11:37:20.100255] SMALL_MODEL_EVALUATION: Lightweight model performance\n"
          ]
        }
      ]
    },
    {
      "cell_type": "markdown",
      "source": [
        "### Save the small model"
      ],
      "metadata": {
        "id": "BMUXUwrxyzig"
      }
    },
    {
      "cell_type": "code",
      "source": [
        "joblib.dump(small_rf, f'{MODEL_OUTPUT_PATH}/random_forest_lightweight.pkl')"
      ],
      "metadata": {
        "colab": {
          "base_uri": "https://localhost:8080/"
        },
        "id": "GbH8PyeDy0fJ",
        "outputId": "0b5406f8-8ae8-4cf7-84d7-a1e8b8fda990"
      },
      "execution_count": null,
      "outputs": [
        {
          "output_type": "execute_result",
          "data": {
            "text/plain": [
              "['/content/drive/MyDrive/PUSL3190/models/random_forest_lightweight.pkl']"
            ]
          },
          "metadata": {},
          "execution_count": 54
        }
      ]
    },
    {
      "cell_type": "markdown",
      "source": [
        "### Display performance comparison"
      ],
      "metadata": {
        "id": "KoL_uZYBy7NR"
      }
    },
    {
      "cell_type": "code",
      "source": [
        "print(\"\\nModel Performance Comparison:\")\n",
        "print(f\"{'Metric':<10} {'Full Model':<15} {'Lightweight Model':<15}\")\n",
        "print(f\"{'-'*40}\")\n",
        "print(f\"{'Accuracy':<10} {accuracy:.4f}{' '*10} {small_accuracy:.4f}\")\n",
        "print(f\"{'Precision':<10} {precision:.4f}{' '*10} {small_precision:.4f}\")\n",
        "print(f\"{'Recall':<10} {recall:.4f}{' '*10} {small_recall:.4f}\")\n",
        "print(f\"{'F1 Score':<10} {f1:.4f}{' '*10} {small_f1:.4f}\")\n",
        "print(f\"\\nFeature reduction: {X.shape[1]} → {len(top_features)} features\")\n",
        "print(f\"Model size reduction: {rf_model.n_estimators} → {small_rf.n_estimators} trees\")"
      ],
      "metadata": {
        "colab": {
          "base_uri": "https://localhost:8080/"
        },
        "id": "bd7DTeZ5y96Q",
        "outputId": "9526689c-7068-4f0f-a07f-1d6f09cb3c3c"
      },
      "execution_count": null,
      "outputs": [
        {
          "output_type": "stream",
          "name": "stdout",
          "text": [
            "\n",
            "Model Performance Comparison:\n",
            "Metric     Full Model      Lightweight Model\n",
            "----------------------------------------\n",
            "Accuracy   0.7315           0.7199\n",
            "Precision  0.7046           0.6811\n",
            "Recall     0.7977           0.8276\n",
            "F1 Score   0.7483           0.7472\n",
            "\n",
            "Feature reduction: 9 → 5 features\n",
            "Model size reduction: 100 → 20 trees\n"
          ]
        }
      ]
    },
    {
      "cell_type": "markdown",
      "source": [
        "## 8. Summary"
      ],
      "metadata": {
        "id": "0O6TqgQOzOi1"
      }
    },
    {
      "cell_type": "markdown",
      "source": [
        "### Save all logs to file"
      ],
      "metadata": {
        "id": "fygd5AzI4kwN"
      }
    },
    {
      "cell_type": "code",
      "source": [
        "saving_time = time.time() - start_time\n",
        "log_event(\"TIMING\", f\"Model saving completed in {saving_time:.2f} seconds\")\n",
        "\n",
        "with open(LOG_OUTPUT_PATH, 'w') as f:\n",
        "    json.dump(log_data, f, indent=2)"
      ],
      "metadata": {
        "id": "ylXBLVk44nZf"
      },
      "execution_count": null,
      "outputs": []
    },
    {
      "cell_type": "markdown",
      "source": [
        "### Training details"
      ],
      "metadata": {
        "id": "EXEPJ_IG4reI"
      }
    },
    {
      "cell_type": "code",
      "source": [
        "print(\"\\n===== TRAINING COMPLETE =====\")\n",
        "print(f\"Full model accuracy: {accuracy:.4f}\")\n",
        "print(f\"Lightweight model accuracy: {small_accuracy:.4f}\")\n",
        "print(f\"Models saved to {BASE_PATH}/models/\")\n",
        "print(f\"Logs saved to {LOG_OUTPUT_PATH}\")"
      ],
      "metadata": {
        "colab": {
          "base_uri": "https://localhost:8080/"
        },
        "id": "LvoaBiVqzQea",
        "outputId": "087d704d-636b-485f-c1d3-f1e5df50f99e"
      },
      "execution_count": null,
      "outputs": [
        {
          "output_type": "stream",
          "name": "stdout",
          "text": [
            "\n",
            "===== TRAINING COMPLETE =====\n",
            "Full model accuracy: 0.7315\n",
            "Lightweight model accuracy: 0.7199\n",
            "Models saved to /content/drive/MyDrive/PUSL3190/models/\n",
            "Logs saved to /content/drive/MyDrive/PUSL3190/logs/random_forest_training_log.json\n"
          ]
        }
      ]
    }
  ]
}